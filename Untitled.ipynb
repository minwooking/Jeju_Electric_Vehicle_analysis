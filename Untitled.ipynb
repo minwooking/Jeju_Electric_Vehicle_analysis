{
 "cells": [
  {
   "cell_type": "code",
   "execution_count": 1,
   "id": "6804c892-dfee-4f11-ba57-b3a168b6020e",
   "metadata": {
    "execution": {
     "iopub.execute_input": "2022-03-26T07:11:01.010108Z",
     "iopub.status.busy": "2022-03-26T07:11:01.009595Z",
     "iopub.status.idle": "2022-03-26T07:11:01.445407Z",
     "shell.execute_reply": "2022-03-26T07:11:01.444485Z",
     "shell.execute_reply.started": "2022-03-26T07:11:01.009929Z"
    }
   },
   "outputs": [],
   "source": [
    "import  numpy as np\n",
    "import  pandas as pd\n",
    "import  matplotlib.pyplot as plt\n",
    "import  os\n",
    "import  copy"
   ]
  },
  {
   "cell_type": "code",
   "execution_count": null,
   "id": "72f0f8bd-8555-4d3f-991d-3abe552017e1",
   "metadata": {},
   "outputs": [],
   "source": []
  }
 ],
 "metadata": {
  "kernelspec": {
   "display_name": "Python 3 (ipykernel)",
   "language": "python",
   "name": "python3"
  },
  "language_info": {
   "codemirror_mode": {
    "name": "ipython",
    "version": 3
   },
   "file_extension": ".py",
   "mimetype": "text/x-python",
   "name": "python",
   "nbconvert_exporter": "python",
   "pygments_lexer": "ipython3",
   "version": "3.9.7"
  }
 },
 "nbformat": 4,
 "nbformat_minor": 5
}
