{
 "cells": [
  {
   "cell_type": "code",
   "execution_count": 46,
   "metadata": {},
   "outputs": [],
   "source": [
    "import pandas as pd\n",
    "import numpy as np\n",
    "import joblib\n",
    "import skimage\n",
    "from konlpy.tag import Okt \n",
    "okt = Okt()"
   ]
  },
  {
   "cell_type": "code",
   "execution_count": 4,
   "metadata": {},
   "outputs": [],
   "source": [
    "os.chdir('G:\\내 드라이브\\제주_전기차\\data')"
   ]
  },
  {
   "cell_type": "code",
   "execution_count": null,
   "metadata": {},
   "outputs": [],
   "source": [
    "ls"
   ]
  },
  {
   "cell_type": "code",
   "execution_count": 47,
   "metadata": {},
   "outputs": [],
   "source": [
    "df = pd.read_csv(\"전기차_전처리및토큰화.csv\")"
   ]
  },
  {
   "cell_type": "code",
   "execution_count": 48,
   "metadata": {},
   "outputs": [],
   "source": [
    "df.isnull().sum()\n",
    "df.dropna(inplace=True)"
   ]
  },
  {
   "cell_type": "code",
   "execution_count": 6,
   "metadata": {},
   "outputs": [],
   "source": [
    "df_cafe = pd.read_csv('elecafe.csv')"
   ]
  },
  {
   "cell_type": "code",
   "execution_count": 8,
   "metadata": {},
   "outputs": [
    {
     "data": {
      "text/plain": [
       "0       ※ 보다 투명하고, 빠른 거래를 위하여 아래의 글 양식을 준수하여 주세요. ※ \\n...\n",
       "1       육지에서 이번주 토욜부터 제주 한달살이 시작하면서. 렌트카 알아보고 있어요. 육지에...\n",
       "2       ★ 차량 정보 ★\\n\\n▶▷모델명 : 더 뉴 아이오닉 일렉트릭 N 전기차\\n\\n▶▷...\n",
       "3       안에\\n\\n렌터카 무진장 많이 다니던데..\\n\\n임산부 노약자 상관없이..\\n\\n넘...\n",
       "4       ◈ 매물제목 :  애월 르시엘 분양\\n◈ 거래유형 :  분양\\n◈ 소재지역 :  애...\n",
       "                              ...                        \n",
       "5910                                 출처\\n뉴스>동아일보 | 네이버 뉴스\n",
       "5911                                 출처\\n뉴스>전자신문 | 네이버 뉴스\n",
       "5912    하반기 전기차를 신청하고싶었는데\\n주차장문제로 못하로 내년 상반기를 기대합니다\\n등...\n",
       "5913                                                    ㅇ\n",
       "5914    제주도 상반기 전기차 공모결과 경쟁률이 평균 7.3:1으로 나타났다. \\n \\n제주...\n",
       "Name: 내용, Length: 5915, dtype: object"
      ]
     },
     "execution_count": 8,
     "metadata": {},
     "output_type": "execute_result"
    }
   ],
   "source": [
    "df_cafe.내용"
   ]
  },
  {
   "cell_type": "code",
   "execution_count": 10,
   "metadata": {},
   "outputs": [
    {
     "name": "stderr",
     "output_type": "stream",
     "text": [
      "C:\\Users\\alsdn\\AppData\\Local\\Temp/ipykernel_6588/3784108139.py:1: FutureWarning: The default value of regex will change from True to False in a future version.\n",
      "  df_cafe.내용 = df_cafe.내용.str.replace('[^ㄱ-ㅎㅏ-ㅣ가-힣 ]','')\n"
     ]
    },
    {
     "data": {
      "text/plain": [
       "(5915, 9)"
      ]
     },
     "execution_count": 10,
     "metadata": {},
     "output_type": "execute_result"
    }
   ],
   "source": [
    "df_cafe.내용 = df_cafe.내용.str.replace('[^ㄱ-ㅎㅏ-ㅣ가-힣 ]','')\n",
    "df_cafe.shape"
   ]
  },
  {
   "cell_type": "code",
   "execution_count": 12,
   "metadata": {},
   "outputs": [
    {
     "data": {
      "text/plain": [
       "0        보다 투명하고 빠른 거래를 위하여 아래의 글 양식을 준수하여 주세요   거래 지역...\n",
       "1       육지에서 이번주 토욜부터 제주 한달살이 시작하면서 렌트카 알아보고 있어요 육지에선 ...\n",
       "2        차량 정보 모델명  더 뉴 아이오닉 일렉트릭  전기차차량연식  년형년 월 등록차량...\n",
       "3       안에렌터카 무진장 많이 다니던데임산부 노약자 상관없이넘쳐나던디거기다우도내에전기차 렌...\n",
       "4        매물제목   애월 르시엘 분양 거래유형   분양 소재지역   애월읍 신엄리 면적정...\n",
       "                              ...                        \n",
       "5910                                     출처뉴스동아일보  네이버 뉴스\n",
       "5911                                     출처뉴스전자신문  네이버 뉴스\n",
       "5912    하반기 전기차를 신청하고싶었는데주차장문제로 못하로 내년 상반기를 기대합니다등업부탁합니다 \n",
       "5913                                                    ㅇ\n",
       "5914    제주도 상반기 전기차 공모결과 경쟁률이 평균 으로 나타났다  제주특별자치도는 지난 ...\n",
       "Name: 내용, Length: 5915, dtype: object"
      ]
     },
     "execution_count": 12,
     "metadata": {},
     "output_type": "execute_result"
    }
   ],
   "source": [
    "df_cafe.내용"
   ]
  },
  {
   "cell_type": "code",
   "execution_count": 13,
   "metadata": {},
   "outputs": [],
   "source": [
    "stop_text = '은 는 이 가 을 를 의 에게 에 들 좀 잘 과 도 으로 자 와 ㅋㅋ ㅠㅠ ㅎㅎ'\n",
    "stopwords = stop_text.split()"
   ]
  },
  {
   "cell_type": "code",
   "execution_count": 15,
   "metadata": {},
   "outputs": [
    {
     "data": {
      "application/vnd.jupyter.widget-view+json": {
       "model_id": "3c50d8e29e02467381ef1b76c437655c",
       "version_major": 2,
       "version_minor": 0
      },
      "text/plain": [
       "  0%|          | 0/5915 [00:00<?, ?it/s]"
      ]
     },
     "metadata": {},
     "output_type": "display_data"
    }
   ],
   "source": [
    "from tqdm.notebook import tqdm\n",
    "X_val = []\n",
    "for sentence in tqdm(df_cafe.내용):\n",
    "    morphs = okt.morphs(sentence, stem=True)\n",
    "    tmp_list = [word for word in morphs if word not in stopwords]\n",
    "    tmp_str = ' '.join(tmp_list)\n",
    "    X_val.append(tmp_str)"
   ]
  },
  {
   "cell_type": "code",
   "execution_count": 9,
   "metadata": {},
   "outputs": [],
   "source": [
    "from konlpy.tag import Okt \n",
    "okt = Okt()"
   ]
  },
  {
   "cell_type": "code",
   "execution_count": 49,
   "metadata": {},
   "outputs": [],
   "source": [
    "df.dropna(inplace=True)"
   ]
  },
  {
   "cell_type": "code",
   "execution_count": 50,
   "metadata": {},
   "outputs": [
    {
     "data": {
      "text/plain": [
       "전처리    0\n",
       "평가     0\n",
       "dtype: int64"
      ]
     },
     "execution_count": 50,
     "metadata": {},
     "output_type": "execute_result"
    }
   ],
   "source": [
    "df.isnull().sum()"
   ]
  },
  {
   "cell_type": "code",
   "execution_count": 6,
   "metadata": {},
   "outputs": [],
   "source": [
    "df_test = pd.read_csv('감성사전분석.csv')"
   ]
  },
  {
   "cell_type": "code",
   "execution_count": 8,
   "metadata": {},
   "outputs": [
    {
     "data": {
      "text/html": [
       "<div>\n",
       "<style scoped>\n",
       "    .dataframe tbody tr th:only-of-type {\n",
       "        vertical-align: middle;\n",
       "    }\n",
       "\n",
       "    .dataframe tbody tr th {\n",
       "        vertical-align: top;\n",
       "    }\n",
       "\n",
       "    .dataframe thead th {\n",
       "        text-align: right;\n",
       "    }\n",
       "</style>\n",
       "<table border=\"1\" class=\"dataframe\">\n",
       "  <thead>\n",
       "    <tr style=\"text-align: right;\">\n",
       "      <th></th>\n",
       "      <th>Unnamed: 0</th>\n",
       "      <th>제목</th>\n",
       "      <th>날짜</th>\n",
       "      <th>내용</th>\n",
       "      <th>긍부정</th>\n",
       "      <th>href</th>\n",
       "      <th>year</th>\n",
       "    </tr>\n",
       "  </thead>\n",
       "  <tbody>\n",
       "    <tr>\n",
       "      <th>0</th>\n",
       "      <td>0</td>\n",
       "      <td>[2022/3/17]오늘의 증권사 리포트 정리</td>\n",
       "      <td>2022.03.17</td>\n",
       "      <td>종목명   삼성전기    시총액억    투견    후기 안정적인 오피스 기반 ...</td>\n",
       "      <td>1</td>\n",
       "      <td>https://blog.naver.com/unicornup?Redirect=Log&amp;...</td>\n",
       "      <td>2022</td>\n",
       "    </tr>\n",
       "    <tr>\n",
       "      <th>1</th>\n",
       "      <td>1</td>\n",
       "      <td>2022년 4박 5일 신혼여행 후기 ing 제주도 (Feat. 일오반식당...</td>\n",
       "      <td>2022.03.17</td>\n",
       "      <td>제주도신혼여행후기내돈내산년 년 월 일 드뎌 결혼식이 끝나고 우도 가자마자 전기차를 ...</td>\n",
       "      <td>0</td>\n",
       "      <td>https://blog.naver.com/apple_378?Redirect=Log&amp;...</td>\n",
       "      <td>2022</td>\n",
       "    </tr>\n",
       "  </tbody>\n",
       "</table>\n",
       "</div>"
      ],
      "text/plain": [
       "   Unnamed: 0                                           제목          날짜  \\\n",
       "0           0                    [2022/3/17]오늘의 증권사 리포트 정리  2022.03.17   \n",
       "1           1  2022년 4박 5일 신혼여행 후기 ing 제주도 (Feat. 일오반식당...  2022.03.17   \n",
       "\n",
       "                                                  내용  긍부정  \\\n",
       "0     종목명   삼성전기    시총액억    투견    후기 안정적인 오피스 기반 ...    1   \n",
       "1  제주도신혼여행후기내돈내산년 년 월 일 드뎌 결혼식이 끝나고 우도 가자마자 전기차를 ...    0   \n",
       "\n",
       "                                                href  year  \n",
       "0  https://blog.naver.com/unicornup?Redirect=Log&...  2022  \n",
       "1  https://blog.naver.com/apple_378?Redirect=Log&...  2022  "
      ]
     },
     "execution_count": 8,
     "metadata": {},
     "output_type": "execute_result"
    }
   ],
   "source": [
    "df_test.head(2)"
   ]
  },
  {
   "cell_type": "code",
   "execution_count": 11,
   "metadata": {},
   "outputs": [],
   "source": [
    "lr=joblib.load('G:\\내 드라이브\\제주_전기차\\data\\model\\전기차이진LogisticRegression().pkl')"
   ]
  },
  {
   "cell_type": "code",
   "execution_count": 24,
   "metadata": {},
   "outputs": [],
   "source": [
    "lrc = joblib.load('lrc.pkl')"
   ]
  },
  {
   "cell_type": "code",
   "execution_count": 52,
   "metadata": {},
   "outputs": [],
   "source": [
    "from sklearn.feature_extraction.text import CountVectorizer\n",
    "cvet = CountVectorizer\n",
    "cvect_binary =  CountVectorizer()\n",
    "# cvect_binary.fit(df.전처리)"
   ]
  },
  {
   "cell_type": "code",
   "execution_count": 57,
   "metadata": {},
   "outputs": [
    {
     "data": {
      "text/html": [
       "<div>\n",
       "<style scoped>\n",
       "    .dataframe tbody tr th:only-of-type {\n",
       "        vertical-align: middle;\n",
       "    }\n",
       "\n",
       "    .dataframe tbody tr th {\n",
       "        vertical-align: top;\n",
       "    }\n",
       "\n",
       "    .dataframe thead th {\n",
       "        text-align: right;\n",
       "    }\n",
       "</style>\n",
       "<table border=\"1\" class=\"dataframe\">\n",
       "  <thead>\n",
       "    <tr style=\"text-align: right;\">\n",
       "      <th></th>\n",
       "      <th>전처리</th>\n",
       "      <th>평가</th>\n",
       "    </tr>\n",
       "  </thead>\n",
       "  <tbody>\n",
       "    <tr>\n",
       "      <th>0</th>\n",
       "      <td>아이오 닉 휠 베이스 가치 서비스 센터 가다 부품 수급 문제 로 렌터카 받다 오다 ...</td>\n",
       "      <td>P</td>\n",
       "    </tr>\n",
       "    <tr>\n",
       "      <th>1</th>\n",
       "      <td>현대차 아이오 닉 테슬라 모델 뭘 살다 요 현대차 아이오 닉 테슬라 모델 뭘 살다 ...</td>\n",
       "      <td>P</td>\n",
       "    </tr>\n",
       "    <tr>\n",
       "      <th>2</th>\n",
       "      <td>완판 롯데 렌터카 신 차장 테슬라 프로모션 대다 공지 드리다 스탠다드 롱 레인지 안...</td>\n",
       "      <td>P</td>\n",
       "    </tr>\n",
       "    <tr>\n",
       "      <th>3</th>\n",
       "      <td>코 나 충전 중 화재 로 전 손 되다 안녕하다 코 나 회원 이다 오늘 충전 중 자연...</td>\n",
       "      <td>P</td>\n",
       "    </tr>\n",
       "    <tr>\n",
       "      <th>4</th>\n",
       "      <td>전기차 충전 요금 원 복및 조속 한 충전 인프라 확충 대한 국민 청원 진행 하다 읽...</td>\n",
       "      <td>P</td>\n",
       "    </tr>\n",
       "    <tr>\n",
       "      <th>...</th>\n",
       "      <td>...</td>\n",
       "      <td>...</td>\n",
       "    </tr>\n",
       "    <tr>\n",
       "      <th>394813</th>\n",
       "      <td>기아 포인트 내 버 페이 포인트 전환 이번 새롭다 기아 포인트 네이버 페이 포인트 ...</td>\n",
       "      <td>P</td>\n",
       "    </tr>\n",
       "    <tr>\n",
       "      <th>394814</th>\n",
       "      <td>취소 차 잡다 카 마스터 님 계시다 요 계시다 요 아이오 닉 두다 좋다 지역 울릉 이다</td>\n",
       "      <td>P</td>\n",
       "    </tr>\n",
       "    <tr>\n",
       "      <th>394816</th>\n",
       "      <td>오다 진짜 미쳣나봐 요 쿠팡 드디어 미쳣나봐 요 ㅋㅋㅋ 나이키 랑 아디다스 뉴발 신...</td>\n",
       "      <td>P</td>\n",
       "    </tr>\n",
       "    <tr>\n",
       "      <th>394818</th>\n",
       "      <td>가입 인사 드리다 자기 소개 안녕하다 기다리다 있다 지역 고양시 한글 별명 뜻 이름...</td>\n",
       "      <td>P</td>\n",
       "    </tr>\n",
       "    <tr>\n",
       "      <th>394819</th>\n",
       "      <td>취소 차 문의 드리다 관련 되다 주제 대해 미리 카페 내 검색 하다 보다 네 아니다...</td>\n",
       "      <td>P</td>\n",
       "    </tr>\n",
       "  </tbody>\n",
       "</table>\n",
       "<p>291202 rows × 2 columns</p>\n",
       "</div>"
      ],
      "text/plain": [
       "                                                      전처리 평가\n",
       "0       아이오 닉 휠 베이스 가치 서비스 센터 가다 부품 수급 문제 로 렌터카 받다 오다 ...  P\n",
       "1       현대차 아이오 닉 테슬라 모델 뭘 살다 요 현대차 아이오 닉 테슬라 모델 뭘 살다 ...  P\n",
       "2       완판 롯데 렌터카 신 차장 테슬라 프로모션 대다 공지 드리다 스탠다드 롱 레인지 안...  P\n",
       "3       코 나 충전 중 화재 로 전 손 되다 안녕하다 코 나 회원 이다 오늘 충전 중 자연...  P\n",
       "4       전기차 충전 요금 원 복및 조속 한 충전 인프라 확충 대한 국민 청원 진행 하다 읽...  P\n",
       "...                                                   ... ..\n",
       "394813  기아 포인트 내 버 페이 포인트 전환 이번 새롭다 기아 포인트 네이버 페이 포인트 ...  P\n",
       "394814   취소 차 잡다 카 마스터 님 계시다 요 계시다 요 아이오 닉 두다 좋다 지역 울릉 이다  P\n",
       "394816  오다 진짜 미쳣나봐 요 쿠팡 드디어 미쳣나봐 요 ㅋㅋㅋ 나이키 랑 아디다스 뉴발 신...  P\n",
       "394818  가입 인사 드리다 자기 소개 안녕하다 기다리다 있다 지역 고양시 한글 별명 뜻 이름...  P\n",
       "394819  취소 차 문의 드리다 관련 되다 주제 대해 미리 카페 내 검색 하다 보다 네 아니다...  P\n",
       "\n",
       "[291202 rows x 2 columns]"
      ]
     },
     "execution_count": 57,
     "metadata": {},
     "output_type": "execute_result"
    }
   ],
   "source": [
    "df[df.평가 != 'E']"
   ]
  },
  {
   "cell_type": "code",
   "execution_count": 17,
   "metadata": {},
   "outputs": [],
   "source": [
    "from sklearn.model_selection import train_test_split"
   ]
  },
  {
   "cell_type": "code",
   "execution_count": 51,
   "metadata": {},
   "outputs": [],
   "source": [
    "X_train,X_test,y_train,y_test = train_test_split (\n",
    "    df['전처리'],df['평가'],test_size=0.25,random_state=2021,stratify=df['평가']\n",
    ")"
   ]
  },
  {
   "cell_type": "code",
   "execution_count": 22,
   "metadata": {},
   "outputs": [],
   "source": [
    "# X_train,X_test,y_train,y_test = train_test_split (\n",
    "#     df['전처리'],df['평가'],test_size=0.25,random_state=2021,stratify=df['평가']\n",
    "# )"
   ]
  },
  {
   "cell_type": "code",
   "execution_count": 55,
   "metadata": {},
   "outputs": [
    {
     "data": {
      "text/plain": [
       "CountVectorizer()"
      ]
     },
     "execution_count": 55,
     "metadata": {},
     "output_type": "execute_result"
    }
   ],
   "source": [
    "cvect_binary.fit(X_train)"
   ]
  },
  {
   "cell_type": "code",
   "execution_count": null,
   "metadata": {},
   "outputs": [],
   "source": []
  },
  {
   "cell_type": "code",
   "execution_count": null,
   "metadata": {},
   "outputs": [],
   "source": [
    "# X_train_cv = cvect_binary.transform(X_train)\n",
    "# X_test_cv = cvect_binary.transform(X_test)\n",
    "X_val_cv = cvect_binary.transform('''\\u200b 저희는 원래 9시 쯤 찾아갈 예정이었는데 전기차를 타고 다니다보니 가끔 전기충전의 늪에 제대로 빠져 1시간 가량 차질이 생길 때가 많답니다. 이번에도 역시나 11시 마감인 기운네 흑돼지에사실 저희가 엄청 배가 고픈 상태였거든요. 배고파서 빨리 나가서 밥 먹자고 출발을 했는데 전기차 충전소에서 다른 관광객 30분은 도와주고 비도 오고 우리도 충전 시간이 한시간은 되다보니 배에서 꼬르륵 소리를 듣다보니 빨리 구워 다 먹자고''')"
   ]
  },
  {
   "cell_type": "code",
   "execution_count": null,
   "metadata": {},
   "outputs": [],
   "source": []
  },
  {
   "cell_type": "code",
   "execution_count": 27,
   "metadata": {},
   "outputs": [],
   "source": [
    "from sklearn.linear_model import LogisticRegression\n",
    "lr = LogisticRegression()"
   ]
  },
  {
   "cell_type": "code",
   "execution_count": 58,
   "metadata": {},
   "outputs": [
    {
     "name": "stderr",
     "output_type": "stream",
     "text": [
      "C:\\Users\\alsdn\\anaconda3\\lib\\site-packages\\sklearn\\linear_model\\_logistic.py:763: ConvergenceWarning: lbfgs failed to converge (status=1):\n",
      "STOP: TOTAL NO. of ITERATIONS REACHED LIMIT.\n",
      "\n",
      "Increase the number of iterations (max_iter) or scale the data as shown in:\n",
      "    https://scikit-learn.org/stable/modules/preprocessing.html\n",
      "Please also refer to the documentation for alternative solver options:\n",
      "    https://scikit-learn.org/stable/modules/linear_model.html#logistic-regression\n",
      "  n_iter_i = _check_optimize_result(\n"
     ]
    },
    {
     "data": {
      "text/plain": [
       "LogisticRegression()"
      ]
     },
     "execution_count": 58,
     "metadata": {},
     "output_type": "execute_result"
    }
   ],
   "source": [
    "lr.fit(X_train_cv,y_train)"
   ]
  },
  {
   "cell_type": "code",
   "execution_count": 59,
   "metadata": {},
   "outputs": [
    {
     "data": {
      "text/plain": [
       "0.8189371295405036"
      ]
     },
     "execution_count": 59,
     "metadata": {},
     "output_type": "execute_result"
    }
   ],
   "source": [
    "lr.score(X_test_cv,y_test)"
   ]
  },
  {
   "cell_type": "code",
   "execution_count": 25,
   "metadata": {},
   "outputs": [],
   "source": [
    "cvect_binary.transform(df_test['내용'])"
   ]
  },
  {
   "cell_type": "code",
   "execution_count": 74,
   "metadata": {},
   "outputs": [],
   "source": [
    "x_val=('''\n",
    "                                  b 저희는 원래 9시 쯤 찾아갈 예정이었는데 전기차를 타고 다니다보니 가끔 전기충전의 늪에 제대로 빠져 1시간 가량 차질이 생길 때가 많답니다. 이번에도 역시나 11시 마감인 기운네 흑돼지에사실 저희가 엄청 배가 고픈 상태였거든요. 배고파서 빨리 나가서 밥 먹자고 출발을 했는데 전기차 충전소에서 다른 관광객 30분은 도와주고 비도 오고 우리도 충전 시간이 한시간은 되다보니 배에서 꼬르륵 소리를 듣다보니 빨리 구워 다 먹자고''')"
   ]
  },
  {
   "cell_type": "code",
   "execution_count": 72,
   "metadata": {},
   "outputs": [
    {
     "data": {
      "application/vnd.jupyter.widget-view+json": {
       "model_id": "87cb8f2e5f104737834321212a4d8843",
       "version_major": 2,
       "version_minor": 0
      },
      "text/plain": [
       "0it [00:00, ?it/s]"
      ]
     },
     "metadata": {},
     "output_type": "display_data"
    }
   ],
   "source": [
    "from tqdm.notebook import tqdm\n",
    "x_val = []\n",
    "for sentence in tqdm(x_val):\n",
    "    morphs = okt.morphs(sentence, stem=True)\n",
    "    tmp_list = [word for word in morphs if word not in stopwords]\n",
    "    tmp_str = ' '.join(tmp_list)\n",
    "    X_val.append(tmp_str)"
   ]
  },
  {
   "cell_type": "code",
   "execution_count": 73,
   "metadata": {},
   "outputs": [
    {
     "data": {
      "text/plain": [
       "[]"
      ]
     },
     "execution_count": 73,
     "metadata": {},
     "output_type": "execute_result"
    }
   ],
   "source": []
  },
  {
   "cell_type": "code",
   "execution_count": 80,
   "metadata": {},
   "outputs": [],
   "source": [
    "x_val=x_val.replace('[^ㄱ-ㅎㅏ-ㅣ가-힣 ]','')"
   ]
  },
  {
   "cell_type": "code",
   "execution_count": 79,
   "metadata": {},
   "outputs": [],
   "source": [
    "x_val=('저희는 원래 9시 쯤 찾아갈 예정이었는데 전기차를 타고 다니다보니 가끔 전기충전의 늪에 제대로 빠져 1시간 가량 차질이 생길 때가 많답니다. 이번에도 역시나 11시 마감인 기운네 흑돼지에사실 저희가 엄청 배가 고픈 상태였거든요. 배고파서 빨리 나가서 밥 먹자고 출발을 했는데 전기차 충전소에서 다른 관광객 30분은 도와주고 비도 오고 우리도 충전 시간이 한시간은 되다보니 배에서 꼬르륵 소리를 듣다보니 빨리 구워 다 먹자고')"
   ]
  },
  {
   "cell_type": "code",
   "execution_count": 85,
   "metadata": {},
   "outputs": [
    {
     "data": {
      "text/plain": [
       "array(['E'], dtype=object)"
      ]
     },
     "execution_count": 85,
     "metadata": {},
     "output_type": "execute_result"
    }
   ],
   "source": [
    "lr.predict(cvect_binary.transform([x_val]))"
   ]
  },
  {
   "cell_type": "code",
   "execution_count": 84,
   "metadata": {},
   "outputs": [
    {
     "data": {
      "text/plain": [
       "'저희는 원래 9시 쯤 찾아갈 예정이었는데 전기차를 타고 다니다보니 가끔 전기충전의 늪에 제대로 빠져 1시간 가량 차질이 생길 때가 많답니다. 이번에도 역시나 11시 마감인 기운네 흑돼지에사실 저희가 엄청 배가 고픈 상태였거든요. 배고파서 빨리 나가서 밥 먹자고 출발을 했는데 전기차 충전소에서 다른 관광객 30분은 도와주고 비도 오고 우리도 충전 시간이 한시간은 되다보니 배에서 꼬르륵 소리를 듣다보니 빨리 구워 다 먹자고'"
      ]
     },
     "execution_count": 84,
     "metadata": {},
     "output_type": "execute_result"
    }
   ],
   "source": [
    "x_val"
   ]
  },
  {
   "cell_type": "code",
   "execution_count": null,
   "metadata": {},
   "outputs": [],
   "source": [
    "df_test.head(2)"
   ]
  },
  {
   "cell_type": "markdown",
   "metadata": {},
   "source": [
    "lr.predict()"
   ]
  },
  {
   "cell_type": "code",
   "execution_count": 42,
   "metadata": {},
   "outputs": [],
   "source": [
    "df_cafe['lr긍부정이진']=lr.predict(X_val_cv)"
   ]
  },
  {
   "cell_type": "code",
   "execution_count": null,
   "metadata": {},
   "outputs": [],
   "source": []
  },
  {
   "cell_type": "code",
   "execution_count": 33,
   "metadata": {},
   "outputs": [
    {
     "data": {
      "text/plain": [
       "'P'"
      ]
     },
     "execution_count": 33,
     "metadata": {},
     "output_type": "execute_result"
    }
   ],
   "source": [
    "df_cafe['lr긍부정'][0]"
   ]
  },
  {
   "cell_type": "code",
   "execution_count": 35,
   "metadata": {},
   "outputs": [
    {
     "data": {
      "text/plain": [
       "' 보다 투명하고 빠른 거래를 위하여 아래의 글 양식을 준수하여 주세요   거래 지역  한림 거래 방법  직거래 연락 방법  연락처 안심번호 쪽지 채팅 가능  카카오톡 금지  판매 가격  연락주세요 판매 제품  봉고더블캡 제품 상태  중고차량사용감 있음 거의 새 것 미개봉  제품설명 및 사진 봉고더블캡  년 월식 정확히 만탔구요오토 차량 잡소리 하나도 안나요전기차 나와서 팔아요블랙박스후방감지 네비 열선시트 열선 핸들 만든공구함 박스 핸즈프리 '"
      ]
     },
     "execution_count": 35,
     "metadata": {},
     "output_type": "execute_result"
    }
   ],
   "source": [
    "df_cafe['내용'][0]"
   ]
  },
  {
   "cell_type": "code",
   "execution_count": 72,
   "metadata": {},
   "outputs": [
    {
     "data": {
      "text/plain": [
       "'E'"
      ]
     },
     "execution_count": 72,
     "metadata": {},
     "output_type": "execute_result"
    }
   ],
   "source": [
    "df_test.lr긍부정[0]"
   ]
  },
  {
   "cell_type": "code",
   "execution_count": 71,
   "metadata": {},
   "outputs": [
    {
     "data": {
      "text/plain": [
       "'P'"
      ]
     },
     "execution_count": 71,
     "metadata": {},
     "output_type": "execute_result"
    }
   ],
   "source": [
    "df_test.lr긍부정이진분류[0]"
   ]
  },
  {
   "cell_type": "code",
   "execution_count": 74,
   "metadata": {},
   "outputs": [
    {
     "data": {
      "text/plain": [
       "'G:\\\\내 드라이브\\\\제주_전기차\\\\data'"
      ]
     },
     "execution_count": 74,
     "metadata": {},
     "output_type": "execute_result"
    }
   ],
   "source": [
    "pwd"
   ]
  },
  {
   "cell_type": "code",
   "execution_count": null,
   "metadata": {},
   "outputs": [],
   "source": [
    "ls"
   ]
  },
  {
   "cell_type": "code",
   "execution_count": 75,
   "metadata": {},
   "outputs": [],
   "source": [
    "df_test.to_csv('네이버블로그감성분석비교.csv',index=False)"
   ]
  },
  {
   "cell_type": "code",
   "execution_count": 76,
   "metadata": {},
   "outputs": [
    {
     "data": {
      "text/html": [
       "<div>\n",
       "<style scoped>\n",
       "    .dataframe tbody tr th:only-of-type {\n",
       "        vertical-align: middle;\n",
       "    }\n",
       "\n",
       "    .dataframe tbody tr th {\n",
       "        vertical-align: top;\n",
       "    }\n",
       "\n",
       "    .dataframe thead th {\n",
       "        text-align: right;\n",
       "    }\n",
       "</style>\n",
       "<table border=\"1\" class=\"dataframe\">\n",
       "  <thead>\n",
       "    <tr style=\"text-align: right;\">\n",
       "      <th></th>\n",
       "      <th>Unnamed: 0</th>\n",
       "      <th>제목</th>\n",
       "      <th>날짜</th>\n",
       "      <th>내용</th>\n",
       "      <th>긍부정</th>\n",
       "      <th>href</th>\n",
       "      <th>year</th>\n",
       "      <th>lr긍부정</th>\n",
       "      <th>lr긍부정이진분류</th>\n",
       "    </tr>\n",
       "  </thead>\n",
       "  <tbody>\n",
       "    <tr>\n",
       "      <th>0</th>\n",
       "      <td>0</td>\n",
       "      <td>[2022/3/17]오늘의 증권사 리포트 정리</td>\n",
       "      <td>2022.03.17</td>\n",
       "      <td>종목명   삼성전기    시총액억    투견    후기 안정적인 오피스 기반 ...</td>\n",
       "      <td>1</td>\n",
       "      <td>https://blog.naver.com/unicornup?Redirect=Log&amp;...</td>\n",
       "      <td>2022</td>\n",
       "      <td>E</td>\n",
       "      <td>P</td>\n",
       "    </tr>\n",
       "    <tr>\n",
       "      <th>1</th>\n",
       "      <td>1</td>\n",
       "      <td>2022년 4박 5일 신혼여행 후기 ing 제주도 (Feat. 일오반식당...</td>\n",
       "      <td>2022.03.17</td>\n",
       "      <td>제주도신혼여행후기내돈내산년 년 월 일 드뎌 결혼식이 끝나고 우도 가자마자 전기차를 ...</td>\n",
       "      <td>0</td>\n",
       "      <td>https://blog.naver.com/apple_378?Redirect=Log&amp;...</td>\n",
       "      <td>2022</td>\n",
       "      <td>E</td>\n",
       "      <td>P</td>\n",
       "    </tr>\n",
       "    <tr>\n",
       "      <th>2</th>\n",
       "      <td>2</td>\n",
       "      <td>제주공항숙소 시리우스 제주호텔: 트윈룸, 디럭스룸 장단점</td>\n",
       "      <td>2022.03.17</td>\n",
       "      <td>디럭스룸 후기 제주특별자치도 제주시 도령로  전화  공항의 지하 주차장은 지하층까지...</td>\n",
       "      <td>-1</td>\n",
       "      <td>https://blog.naver.com/zoonee96?Redirect=Log&amp;l...</td>\n",
       "      <td>2022</td>\n",
       "      <td>E</td>\n",
       "      <td>P</td>\n",
       "    </tr>\n",
       "    <tr>\n",
       "      <th>3</th>\n",
       "      <td>3</td>\n",
       "      <td>서귀포 바닷가 한적한 마을에서 힐링을 해봅시다...</td>\n",
       "      <td>2022.03.17</td>\n",
       "      <td>수용 가능해 쾌적하고 편안하게 머무르기 좋습니다 에디터  전기차 충전기를 이용할 수...</td>\n",
       "      <td>8</td>\n",
       "      <td>https://blog.naver.com/yenyo?Redirect=Log&amp;logN...</td>\n",
       "      <td>2022</td>\n",
       "      <td>E</td>\n",
       "      <td>P</td>\n",
       "    </tr>\n",
       "    <tr>\n",
       "      <th>4</th>\n",
       "      <td>4</td>\n",
       "      <td>[신혼여행②]제주1일차_제주로렌트카/순옥이네명가/신라호텔...</td>\n",
       "      <td>2022.03.17</td>\n",
       "      <td>신혼여행 일정은  제주도 도착 이날 아 오빠가 전기차 충전에 대해서 걱정이 많아서 ...</td>\n",
       "      <td>0</td>\n",
       "      <td>https://blog.naver.com/yumichoe9810?Redirect=L...</td>\n",
       "      <td>2022</td>\n",
       "      <td>E</td>\n",
       "      <td>P</td>\n",
       "    </tr>\n",
       "    <tr>\n",
       "      <th>...</th>\n",
       "      <td>...</td>\n",
       "      <td>...</td>\n",
       "      <td>...</td>\n",
       "      <td>...</td>\n",
       "      <td>...</td>\n",
       "      <td>...</td>\n",
       "      <td>...</td>\n",
       "      <td>...</td>\n",
       "      <td>...</td>\n",
       "    </tr>\n",
       "    <tr>\n",
       "      <th>9773</th>\n",
       "      <td>9773</td>\n",
       "      <td>제주도 여행 렌트카 대여 :: 스타렌터카</td>\n",
       "      <td>2019.06.08.</td>\n",
       "      <td>렌터카 하우스 적혀있는대로 가면 됩니다 날씨가 참 좋던 제주  저 멀리 내 돈 내고...</td>\n",
       "      <td>4</td>\n",
       "      <td>https://blog.naver.com/s__1202?Redirect=Log&amp;lo...</td>\n",
       "      <td>2019</td>\n",
       "      <td>E</td>\n",
       "      <td>P</td>\n",
       "    </tr>\n",
       "    <tr>\n",
       "      <th>9774</th>\n",
       "      <td>9774</td>\n",
       "      <td>타기_쏘카 &amp; 쏘카스테이션 제주 이용후기(Feat. 쏘카패스)</td>\n",
       "      <td>2019.06.08.</td>\n",
       "      <td>같은 전기차 지프 레니게이드 등 다양한 차량이 여행객을 기다리고 있었습니다 제주전기...</td>\n",
       "      <td>1</td>\n",
       "      <td>https://blog.naver.com/aramf16?Redirect=Log&amp;lo...</td>\n",
       "      <td>2019</td>\n",
       "      <td>E</td>\n",
       "      <td>P</td>\n",
       "    </tr>\n",
       "    <tr>\n",
       "      <th>9775</th>\n",
       "      <td>9775</td>\n",
       "      <td>♨ 제주도 6박 7일 여행 비용, 경비 다 알려드립니당 ♨</td>\n",
       "      <td>2019.06.08.</td>\n",
       "      <td>그래서 제주도를 박 일 여행을 다녀왔습니당ㅎㅎㅎㅎ 마니주 펜션 옥상에서 렌터카 차종...</td>\n",
       "      <td>0</td>\n",
       "      <td>https://blog.naver.com/star1233star?Redirect=L...</td>\n",
       "      <td>2019</td>\n",
       "      <td>E</td>\n",
       "      <td>P</td>\n",
       "    </tr>\n",
       "    <tr>\n",
       "      <th>9776</th>\n",
       "      <td>9776</td>\n",
       "      <td>가볼만한 곳/제주도 숨은 명소/제주 청초밭 방문 후기</td>\n",
       "      <td>2019.06.07.</td>\n",
       "      <td>규모가 어마어마합니다 걸어서 다 못갈것 같더라고요 영주산을 바라보며 걷기 걷기도 했...</td>\n",
       "      <td>0</td>\n",
       "      <td>https://blog.naver.com/nahmeerang0?Redirect=Lo...</td>\n",
       "      <td>2019</td>\n",
       "      <td>E</td>\n",
       "      <td>P</td>\n",
       "    </tr>\n",
       "    <tr>\n",
       "      <th>9777</th>\n",
       "      <td>9777</td>\n",
       "      <td>뜸했던 쳐비 제주도 혼여(혼자여행)하고왔어요:)</td>\n",
       "      <td>2019.06.07.</td>\n",
       "      <td>이번에 혼자 제주도여행하면서 은근 깨알 꿀팁 많이 알았으니 제대로 여행후기 남겨볼게...</td>\n",
       "      <td>5</td>\n",
       "      <td>https://blog.naver.com/tuvenus?Redirect=Log&amp;lo...</td>\n",
       "      <td>2019</td>\n",
       "      <td>E</td>\n",
       "      <td>P</td>\n",
       "    </tr>\n",
       "  </tbody>\n",
       "</table>\n",
       "<p>9778 rows × 9 columns</p>\n",
       "</div>"
      ],
      "text/plain": [
       "      Unnamed: 0                                           제목           날짜  \\\n",
       "0              0                    [2022/3/17]오늘의 증권사 리포트 정리   2022.03.17   \n",
       "1              1  2022년 4박 5일 신혼여행 후기 ing 제주도 (Feat. 일오반식당...   2022.03.17   \n",
       "2              2              제주공항숙소 시리우스 제주호텔: 트윈룸, 디럭스룸 장단점   2022.03.17   \n",
       "3              3                 서귀포 바닷가 한적한 마을에서 힐링을 해봅시다...   2022.03.17   \n",
       "4              4           [신혼여행②]제주1일차_제주로렌트카/순옥이네명가/신라호텔...   2022.03.17   \n",
       "...          ...                                          ...          ...   \n",
       "9773        9773                       제주도 여행 렌트카 대여 :: 스타렌터카  2019.06.08.   \n",
       "9774        9774           타기_쏘카 & 쏘카스테이션 제주 이용후기(Feat. 쏘카패스)  2019.06.08.   \n",
       "9775        9775             ♨ 제주도 6박 7일 여행 비용, 경비 다 알려드립니당 ♨  2019.06.08.   \n",
       "9776        9776                가볼만한 곳/제주도 숨은 명소/제주 청초밭 방문 후기  2019.06.07.   \n",
       "9777        9777                   뜸했던 쳐비 제주도 혼여(혼자여행)하고왔어요:)  2019.06.07.   \n",
       "\n",
       "                                                     내용  긍부정  \\\n",
       "0        종목명   삼성전기    시총액억    투견    후기 안정적인 오피스 기반 ...    1   \n",
       "1     제주도신혼여행후기내돈내산년 년 월 일 드뎌 결혼식이 끝나고 우도 가자마자 전기차를 ...    0   \n",
       "2     디럭스룸 후기 제주특별자치도 제주시 도령로  전화  공항의 지하 주차장은 지하층까지...   -1   \n",
       "3     수용 가능해 쾌적하고 편안하게 머무르기 좋습니다 에디터  전기차 충전기를 이용할 수...    8   \n",
       "4     신혼여행 일정은  제주도 도착 이날 아 오빠가 전기차 충전에 대해서 걱정이 많아서 ...    0   \n",
       "...                                                 ...  ...   \n",
       "9773  렌터카 하우스 적혀있는대로 가면 됩니다 날씨가 참 좋던 제주  저 멀리 내 돈 내고...    4   \n",
       "9774  같은 전기차 지프 레니게이드 등 다양한 차량이 여행객을 기다리고 있었습니다 제주전기...    1   \n",
       "9775  그래서 제주도를 박 일 여행을 다녀왔습니당ㅎㅎㅎㅎ 마니주 펜션 옥상에서 렌터카 차종...    0   \n",
       "9776  규모가 어마어마합니다 걸어서 다 못갈것 같더라고요 영주산을 바라보며 걷기 걷기도 했...    0   \n",
       "9777  이번에 혼자 제주도여행하면서 은근 깨알 꿀팁 많이 알았으니 제대로 여행후기 남겨볼게...    5   \n",
       "\n",
       "                                                   href  year lr긍부정 lr긍부정이진분류  \n",
       "0     https://blog.naver.com/unicornup?Redirect=Log&...  2022     E         P  \n",
       "1     https://blog.naver.com/apple_378?Redirect=Log&...  2022     E         P  \n",
       "2     https://blog.naver.com/zoonee96?Redirect=Log&l...  2022     E         P  \n",
       "3     https://blog.naver.com/yenyo?Redirect=Log&logN...  2022     E         P  \n",
       "4     https://blog.naver.com/yumichoe9810?Redirect=L...  2022     E         P  \n",
       "...                                                 ...   ...   ...       ...  \n",
       "9773  https://blog.naver.com/s__1202?Redirect=Log&lo...  2019     E         P  \n",
       "9774  https://blog.naver.com/aramf16?Redirect=Log&lo...  2019     E         P  \n",
       "9775  https://blog.naver.com/star1233star?Redirect=L...  2019     E         P  \n",
       "9776  https://blog.naver.com/nahmeerang0?Redirect=Lo...  2019     E         P  \n",
       "9777  https://blog.naver.com/tuvenus?Redirect=Log&lo...  2019     E         P  \n",
       "\n",
       "[9778 rows x 9 columns]"
      ]
     },
     "execution_count": 76,
     "metadata": {},
     "output_type": "execute_result"
    }
   ],
   "source": [
    "df_test"
   ]
  },
  {
   "cell_type": "code",
   "execution_count": 77,
   "metadata": {},
   "outputs": [
    {
     "data": {
      "text/plain": [
       " 0     2942\n",
       " 2     1755\n",
       " 1     1217\n",
       " 4      759\n",
       "-1      732\n",
       " 3      694\n",
       "-2      602\n",
       " 6      285\n",
       " 5      279\n",
       "-3      170\n",
       " 7      129\n",
       "-4       91\n",
       " 8       55\n",
       "-5       22\n",
       " 9       18\n",
       "-6       12\n",
       " 10       9\n",
       " 12       3\n",
       " 11       2\n",
       "-9        1\n",
       "-8        1\n",
       "Name: 긍부정, dtype: int64"
      ]
     },
     "execution_count": 77,
     "metadata": {},
     "output_type": "execute_result"
    }
   ],
   "source": [
    "df_test.긍부정.value_counts()"
   ]
  },
  {
   "cell_type": "code",
   "execution_count": null,
   "metadata": {},
   "outputs": [],
   "source": [
    "df_test.긍부정"
   ]
  },
  {
   "cell_type": "code",
   "execution_count": 78,
   "metadata": {},
   "outputs": [],
   "source": [
    "df_test['긍부정'] = df_test['긍부정'].apply(lambda x: 'P' if ( x > 0) else \n",
    "                                    'N' if (x < 0) else \n",
    "                                   'E' if ( x== 0) else \n",
    "                                    '미분류')"
   ]
  },
  {
   "cell_type": "code",
   "execution_count": 111,
   "metadata": {},
   "outputs": [
    {
     "data": {
      "text/plain": [
       "'P'"
      ]
     },
     "execution_count": 111,
     "metadata": {},
     "output_type": "execute_result"
    }
   ],
   "source": [
    "df_test.긍부정[3]"
   ]
  },
  {
   "cell_type": "code",
   "execution_count": 110,
   "metadata": {},
   "outputs": [
    {
     "data": {
      "text/plain": [
       "'E'"
      ]
     },
     "execution_count": 110,
     "metadata": {},
     "output_type": "execute_result"
    }
   ],
   "source": [
    "df_test.lr긍부정[3]"
   ]
  },
  {
   "cell_type": "code",
   "execution_count": 112,
   "metadata": {},
   "outputs": [
    {
     "data": {
      "text/plain": [
       "'P'"
      ]
     },
     "execution_count": 112,
     "metadata": {},
     "output_type": "execute_result"
    }
   ],
   "source": [
    "df_test.lr긍부정이진분류[3]"
   ]
  },
  {
   "cell_type": "code",
   "execution_count": 113,
   "metadata": {},
   "outputs": [
    {
     "data": {
      "text/plain": [
       "'수용 가능해 쾌적하고 편안하게 머무르기 좋습니다 에디터  전기차 충전기를 이용할 수 있어요 위치  제주 서귀포 숙소 상세정보 요금조회 이용후기 숙소위치'"
      ]
     },
     "execution_count": 113,
     "metadata": {},
     "output_type": "execute_result"
    }
   ],
   "source": [
    "df_test.내용[3]"
   ]
  },
  {
   "cell_type": "code",
   "execution_count": 105,
   "metadata": {},
   "outputs": [
    {
     "data": {
      "text/html": [
       "<div>\n",
       "<style scoped>\n",
       "    .dataframe tbody tr th:only-of-type {\n",
       "        vertical-align: middle;\n",
       "    }\n",
       "\n",
       "    .dataframe tbody tr th {\n",
       "        vertical-align: top;\n",
       "    }\n",
       "\n",
       "    .dataframe thead th {\n",
       "        text-align: right;\n",
       "    }\n",
       "</style>\n",
       "<table border=\"1\" class=\"dataframe\">\n",
       "  <thead>\n",
       "    <tr style=\"text-align: right;\">\n",
       "      <th></th>\n",
       "      <th>index</th>\n",
       "      <th>Unnamed: 0</th>\n",
       "      <th>제목</th>\n",
       "      <th>날짜</th>\n",
       "      <th>내용</th>\n",
       "      <th>긍부정</th>\n",
       "      <th>href</th>\n",
       "      <th>year</th>\n",
       "      <th>lr긍부정</th>\n",
       "      <th>lr긍부정이진분류</th>\n",
       "    </tr>\n",
       "  </thead>\n",
       "  <tbody>\n",
       "    <tr>\n",
       "      <th>0</th>\n",
       "      <td>1</td>\n",
       "      <td>1</td>\n",
       "      <td>2022년 4박 5일 신혼여행 후기 ing 제주도 (Feat. 일오반식당...</td>\n",
       "      <td>2022.03.17</td>\n",
       "      <td>제주도신혼여행후기내돈내산년 년 월 일 드뎌 결혼식이 끝나고 우도 가자마자 전기차를 ...</td>\n",
       "      <td>E</td>\n",
       "      <td>https://blog.naver.com/apple_378?Redirect=Log&amp;...</td>\n",
       "      <td>2022</td>\n",
       "      <td>E</td>\n",
       "      <td>P</td>\n",
       "    </tr>\n",
       "    <tr>\n",
       "      <th>1</th>\n",
       "      <td>2</td>\n",
       "      <td>2</td>\n",
       "      <td>제주공항숙소 시리우스 제주호텔: 트윈룸, 디럭스룸 장단점</td>\n",
       "      <td>2022.03.17</td>\n",
       "      <td>디럭스룸 후기 제주특별자치도 제주시 도령로  전화  공항의 지하 주차장은 지하층까지...</td>\n",
       "      <td>N</td>\n",
       "      <td>https://blog.naver.com/zoonee96?Redirect=Log&amp;l...</td>\n",
       "      <td>2022</td>\n",
       "      <td>E</td>\n",
       "      <td>P</td>\n",
       "    </tr>\n",
       "    <tr>\n",
       "      <th>2</th>\n",
       "      <td>3</td>\n",
       "      <td>3</td>\n",
       "      <td>서귀포 바닷가 한적한 마을에서 힐링을 해봅시다...</td>\n",
       "      <td>2022.03.17</td>\n",
       "      <td>수용 가능해 쾌적하고 편안하게 머무르기 좋습니다 에디터  전기차 충전기를 이용할 수...</td>\n",
       "      <td>P</td>\n",
       "      <td>https://blog.naver.com/yenyo?Redirect=Log&amp;logN...</td>\n",
       "      <td>2022</td>\n",
       "      <td>E</td>\n",
       "      <td>P</td>\n",
       "    </tr>\n",
       "    <tr>\n",
       "      <th>3</th>\n",
       "      <td>4</td>\n",
       "      <td>4</td>\n",
       "      <td>[신혼여행②]제주1일차_제주로렌트카/순옥이네명가/신라호텔...</td>\n",
       "      <td>2022.03.17</td>\n",
       "      <td>신혼여행 일정은  제주도 도착 이날 아 오빠가 전기차 충전에 대해서 걱정이 많아서 ...</td>\n",
       "      <td>E</td>\n",
       "      <td>https://blog.naver.com/yumichoe9810?Redirect=L...</td>\n",
       "      <td>2022</td>\n",
       "      <td>E</td>\n",
       "      <td>P</td>\n",
       "    </tr>\n",
       "    <tr>\n",
       "      <th>4</th>\n",
       "      <td>5</td>\n",
       "      <td>5</td>\n",
       "      <td>g80, s90, 벤츠e클래스, 테슬라모델y 모두 타본 시승 후기~~~!!!!</td>\n",
       "      <td>2022.03.17</td>\n",
       "      <td>제주에서 글을 쓰는 봉우리 입니다 차알아보고 계시는군요 저도 작년에 처음 시승 해본...</td>\n",
       "      <td>E</td>\n",
       "      <td>https://blog.naver.com/borasos?Redirect=Log&amp;lo...</td>\n",
       "      <td>2022</td>\n",
       "      <td>E</td>\n",
       "      <td>P</td>\n",
       "    </tr>\n",
       "    <tr>\n",
       "      <th>...</th>\n",
       "      <td>...</td>\n",
       "      <td>...</td>\n",
       "      <td>...</td>\n",
       "      <td>...</td>\n",
       "      <td>...</td>\n",
       "      <td>...</td>\n",
       "      <td>...</td>\n",
       "      <td>...</td>\n",
       "      <td>...</td>\n",
       "      <td>...</td>\n",
       "    </tr>\n",
       "    <tr>\n",
       "      <th>8966</th>\n",
       "      <td>9773</td>\n",
       "      <td>9773</td>\n",
       "      <td>제주도 여행 렌트카 대여 :: 스타렌터카</td>\n",
       "      <td>2019.06.08.</td>\n",
       "      <td>렌터카 하우스 적혀있는대로 가면 됩니다 날씨가 참 좋던 제주  저 멀리 내 돈 내고...</td>\n",
       "      <td>P</td>\n",
       "      <td>https://blog.naver.com/s__1202?Redirect=Log&amp;lo...</td>\n",
       "      <td>2019</td>\n",
       "      <td>E</td>\n",
       "      <td>P</td>\n",
       "    </tr>\n",
       "    <tr>\n",
       "      <th>8967</th>\n",
       "      <td>9774</td>\n",
       "      <td>9774</td>\n",
       "      <td>타기_쏘카 &amp; 쏘카스테이션 제주 이용후기(Feat. 쏘카패스)</td>\n",
       "      <td>2019.06.08.</td>\n",
       "      <td>같은 전기차 지프 레니게이드 등 다양한 차량이 여행객을 기다리고 있었습니다 제주전기...</td>\n",
       "      <td>P</td>\n",
       "      <td>https://blog.naver.com/aramf16?Redirect=Log&amp;lo...</td>\n",
       "      <td>2019</td>\n",
       "      <td>E</td>\n",
       "      <td>P</td>\n",
       "    </tr>\n",
       "    <tr>\n",
       "      <th>8968</th>\n",
       "      <td>9775</td>\n",
       "      <td>9775</td>\n",
       "      <td>♨ 제주도 6박 7일 여행 비용, 경비 다 알려드립니당 ♨</td>\n",
       "      <td>2019.06.08.</td>\n",
       "      <td>그래서 제주도를 박 일 여행을 다녀왔습니당ㅎㅎㅎㅎ 마니주 펜션 옥상에서 렌터카 차종...</td>\n",
       "      <td>E</td>\n",
       "      <td>https://blog.naver.com/star1233star?Redirect=L...</td>\n",
       "      <td>2019</td>\n",
       "      <td>E</td>\n",
       "      <td>P</td>\n",
       "    </tr>\n",
       "    <tr>\n",
       "      <th>8969</th>\n",
       "      <td>9776</td>\n",
       "      <td>9776</td>\n",
       "      <td>가볼만한 곳/제주도 숨은 명소/제주 청초밭 방문 후기</td>\n",
       "      <td>2019.06.07.</td>\n",
       "      <td>규모가 어마어마합니다 걸어서 다 못갈것 같더라고요 영주산을 바라보며 걷기 걷기도 했...</td>\n",
       "      <td>E</td>\n",
       "      <td>https://blog.naver.com/nahmeerang0?Redirect=Lo...</td>\n",
       "      <td>2019</td>\n",
       "      <td>E</td>\n",
       "      <td>P</td>\n",
       "    </tr>\n",
       "    <tr>\n",
       "      <th>8970</th>\n",
       "      <td>9777</td>\n",
       "      <td>9777</td>\n",
       "      <td>뜸했던 쳐비 제주도 혼여(혼자여행)하고왔어요:)</td>\n",
       "      <td>2019.06.07.</td>\n",
       "      <td>이번에 혼자 제주도여행하면서 은근 깨알 꿀팁 많이 알았으니 제대로 여행후기 남겨볼게...</td>\n",
       "      <td>P</td>\n",
       "      <td>https://blog.naver.com/tuvenus?Redirect=Log&amp;lo...</td>\n",
       "      <td>2019</td>\n",
       "      <td>E</td>\n",
       "      <td>P</td>\n",
       "    </tr>\n",
       "  </tbody>\n",
       "</table>\n",
       "<p>8971 rows × 10 columns</p>\n",
       "</div>"
      ],
      "text/plain": [
       "      index  Unnamed: 0                                           제목  \\\n",
       "0         1           1  2022년 4박 5일 신혼여행 후기 ing 제주도 (Feat. 일오반식당...   \n",
       "1         2           2              제주공항숙소 시리우스 제주호텔: 트윈룸, 디럭스룸 장단점   \n",
       "2         3           3                 서귀포 바닷가 한적한 마을에서 힐링을 해봅시다...   \n",
       "3         4           4           [신혼여행②]제주1일차_제주로렌트카/순옥이네명가/신라호텔...   \n",
       "4         5           5  g80, s90, 벤츠e클래스, 테슬라모델y 모두 타본 시승 후기~~~!!!!   \n",
       "...     ...         ...                                          ...   \n",
       "8966   9773        9773                       제주도 여행 렌트카 대여 :: 스타렌터카   \n",
       "8967   9774        9774           타기_쏘카 & 쏘카스테이션 제주 이용후기(Feat. 쏘카패스)   \n",
       "8968   9775        9775             ♨ 제주도 6박 7일 여행 비용, 경비 다 알려드립니당 ♨   \n",
       "8969   9776        9776                가볼만한 곳/제주도 숨은 명소/제주 청초밭 방문 후기   \n",
       "8970   9777        9777                   뜸했던 쳐비 제주도 혼여(혼자여행)하고왔어요:)   \n",
       "\n",
       "               날짜                                                 내용 긍부정  \\\n",
       "0      2022.03.17  제주도신혼여행후기내돈내산년 년 월 일 드뎌 결혼식이 끝나고 우도 가자마자 전기차를 ...   E   \n",
       "1      2022.03.17  디럭스룸 후기 제주특별자치도 제주시 도령로  전화  공항의 지하 주차장은 지하층까지...   N   \n",
       "2      2022.03.17  수용 가능해 쾌적하고 편안하게 머무르기 좋습니다 에디터  전기차 충전기를 이용할 수...   P   \n",
       "3      2022.03.17  신혼여행 일정은  제주도 도착 이날 아 오빠가 전기차 충전에 대해서 걱정이 많아서 ...   E   \n",
       "4      2022.03.17  제주에서 글을 쓰는 봉우리 입니다 차알아보고 계시는군요 저도 작년에 처음 시승 해본...   E   \n",
       "...           ...                                                ...  ..   \n",
       "8966  2019.06.08.  렌터카 하우스 적혀있는대로 가면 됩니다 날씨가 참 좋던 제주  저 멀리 내 돈 내고...   P   \n",
       "8967  2019.06.08.  같은 전기차 지프 레니게이드 등 다양한 차량이 여행객을 기다리고 있었습니다 제주전기...   P   \n",
       "8968  2019.06.08.  그래서 제주도를 박 일 여행을 다녀왔습니당ㅎㅎㅎㅎ 마니주 펜션 옥상에서 렌터카 차종...   E   \n",
       "8969  2019.06.07.  규모가 어마어마합니다 걸어서 다 못갈것 같더라고요 영주산을 바라보며 걷기 걷기도 했...   E   \n",
       "8970  2019.06.07.  이번에 혼자 제주도여행하면서 은근 깨알 꿀팁 많이 알았으니 제대로 여행후기 남겨볼게...   P   \n",
       "\n",
       "                                                   href  year lr긍부정 lr긍부정이진분류  \n",
       "0     https://blog.naver.com/apple_378?Redirect=Log&...  2022     E         P  \n",
       "1     https://blog.naver.com/zoonee96?Redirect=Log&l...  2022     E         P  \n",
       "2     https://blog.naver.com/yenyo?Redirect=Log&logN...  2022     E         P  \n",
       "3     https://blog.naver.com/yumichoe9810?Redirect=L...  2022     E         P  \n",
       "4     https://blog.naver.com/borasos?Redirect=Log&lo...  2022     E         P  \n",
       "...                                                 ...   ...   ...       ...  \n",
       "8966  https://blog.naver.com/s__1202?Redirect=Log&lo...  2019     E         P  \n",
       "8967  https://blog.naver.com/aramf16?Redirect=Log&lo...  2019     E         P  \n",
       "8968  https://blog.naver.com/star1233star?Redirect=L...  2019     E         P  \n",
       "8969  https://blog.naver.com/nahmeerang0?Redirect=Lo...  2019     E         P  \n",
       "8970  https://blog.naver.com/tuvenus?Redirect=Log&lo...  2019     E         P  \n",
       "\n",
       "[8971 rows x 10 columns]"
      ]
     },
     "execution_count": 105,
     "metadata": {},
     "output_type": "execute_result"
    }
   ],
   "source": [
    "df_test[df_test.내용.str.contains('전기차')].reset_index()"
   ]
  },
  {
   "cell_type": "code",
   "execution_count": 44,
   "metadata": {},
   "outputs": [],
   "source": [
    "df_cafe.to_csv('카페통합감성추가.csv',index=False)"
   ]
  },
  {
   "cell_type": "code",
   "execution_count": null,
   "metadata": {},
   "outputs": [],
   "source": []
  }
 ],
 "metadata": {
  "interpreter": {
   "hash": "982c78d920726c4e066517e5f806c5a92239fdf1e257c5744bcc49f815c4d4bb"
  },
  "kernelspec": {
   "display_name": "Python 3 (ipykernel)",
   "language": "python",
   "name": "python3"
  },
  "language_info": {
   "codemirror_mode": {
    "name": "ipython",
    "version": 3
   },
   "file_extension": ".py",
   "mimetype": "text/x-python",
   "name": "python",
   "nbconvert_exporter": "python",
   "pygments_lexer": "ipython3",
   "version": "3.9.7"
  }
 },
 "nbformat": 4,
 "nbformat_minor": 4
}
