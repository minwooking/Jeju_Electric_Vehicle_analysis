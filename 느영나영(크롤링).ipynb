{
 "cells": [
  {
   "cell_type": "code",
   "execution_count": null,
   "metadata": {},
   "outputs": [],
   "source": [
    "# !pip install pyperclip\n",
    "# !pip install selenium"
   ]
  },
  {
   "cell_type": "code",
   "execution_count": 1,
   "metadata": {},
   "outputs": [],
   "source": [
    "from selenium import webdriver\n",
    "import time\n",
    "import pandas as pd\n",
    "from urllib.parse import quote\n",
    "from selenium.webdriver.common.keys import Keys\n",
    "import time\n",
    "import pyperclip"
   ]
  },
  {
   "cell_type": "markdown",
   "metadata": {},
   "source": [
    "### driver open\n"
   ]
  },
  {
   "cell_type": "code",
   "execution_count": null,
   "metadata": {},
   "outputs": [],
   "source": [
    "# driver = webdriver.Chrome('chromedriver.exe')  # 윈도우\n",
    "# time.sleep(1)"
   ]
  },
  {
   "cell_type": "code",
   "execution_count": null,
   "metadata": {},
   "outputs": [],
   "source": []
  },
  {
   "cell_type": "code",
   "execution_count": 3,
   "metadata": {},
   "outputs": [
    {
     "name": "stderr",
     "output_type": "stream",
     "text": [
      "<ipython-input-3-0d167c0a9423>:2: DeprecationWarning: executable_path has been deprecated, please pass in a Service object\n",
      "  driver = webdriver.Chrome('./chromedriver.exe')\n",
      "<ipython-input-3-0d167c0a9423>:15: DeprecationWarning: find_element_by_name is deprecated. Please use find_element(by=By.NAME, value=name) instead\n",
      "  tag_id = driver.find_element_by_name('id')\n",
      "<ipython-input-3-0d167c0a9423>:17: DeprecationWarning: find_element_by_name is deprecated. Please use find_element(by=By.NAME, value=name) instead\n",
      "  tag_pw = driver.find_element_by_name('pw')\n",
      "<ipython-input-3-0d167c0a9423>:33: DeprecationWarning: find_element_by_* commands are deprecated. Please use find_element() instead\n",
      "  login_btn = driver.find_element_by_id('log.login')\n",
      "<ipython-input-3-0d167c0a9423>:39: DeprecationWarning: find_element_by_name is deprecated. Please use find_element(by=By.NAME, value=name) instead\n",
      "  tag_search = driver.find_element_by_name('query').send_keys('전기차')\n",
      "<ipython-input-3-0d167c0a9423>:40: DeprecationWarning: find_element_by_name is deprecated. Please use find_element(by=By.NAME, value=name) instead\n",
      "  driver.find_element_by_name(\"query\").send_keys(Keys.ENTER)\n",
      "<ipython-input-3-0d167c0a9423>:45: DeprecationWarning: find_element_by_xpath is deprecated. Please use find_element(by=By.XPATH, value=xpath) instead\n",
      "  count = driver.find_element_by_xpath('/html/body/div[1]/div/div[3]/div[2]/div[3]/a')\n",
      "<ipython-input-3-0d167c0a9423>:47: DeprecationWarning: find_element_by_xpath is deprecated. Please use find_element(by=By.XPATH, value=xpath) instead\n",
      "  a = driver.find_element_by_xpath('/html/body/div[1]/div/div[3]/div[2]/div[3]/ul/li[7]')\n"
     ]
    }
   ],
   "source": [
    "#드라이버 로딩 \n",
    "driver = webdriver.Chrome('./chromedriver.exe') \n",
    "\n",
    "# ##사용할 변수 선언 \n",
    "# #네이버 로그인 주소 \n",
    "url = 'https://nid.naver.com/nidlogin.login?mode=form&url=https%3A%2F%2Fwww.naver.com' \n",
    "uid = ''\n",
    "upw = ''\n",
    "\n",
    "#네이버 로그인 페이지로 이동 \n",
    "driver.get(url) \n",
    "time.sleep(2) #로딩 대기 \n",
    "\n",
    "#아이디 입력폼 \n",
    "tag_id = driver.find_element_by_name('id') \n",
    "#패스워드 입력폼 \n",
    "tag_pw = driver.find_element_by_name('pw')\n",
    "\n",
    "# id 입력 \n",
    "# 입력폼 클릭 -> paperclip에 선언한 uid 내용 복사 -> 붙여넣기 \n",
    "tag_id.click() \n",
    "pyperclip.copy(uid) \n",
    "tag_id.send_keys(Keys.CONTROL, 'v') \n",
    "time.sleep(1) \n",
    "\n",
    "# pw 입력 # 입력폼 클릭 -> paperclip에 선언한 upw 내용 복사 -> 붙여넣기\n",
    "tag_pw.click() \n",
    "pyperclip.copy(upw) \n",
    "tag_pw.send_keys(Keys.CONTROL, 'v')\n",
    "time.sleep(1) \n",
    "\n",
    "#로그인 버튼 클릭 \n",
    "login_btn = driver.find_element_by_id('log.login') \n",
    "login_btn.click()\n",
    "time.sleep(2)\n",
    "\n",
    "# 느영나영 카페로 이동 및 전기차 검색\n",
    "driver.get('https://cafe.naver.com/jejutip')\n",
    "tag_search = driver.find_element_by_name('query').send_keys('전기차')\n",
    "driver.find_element_by_name(\"query\").send_keys(Keys.ENTER)\n",
    "time.sleep(2)\n",
    "driver.switch_to.frame(\"cafe_main\")\n",
    "\n",
    "# 50개씩 게시글이 보일수 있도록 설정\n",
    "count = driver.find_element_by_xpath('/html/body/div[1]/div/div[3]/div[2]/div[3]/a')\n",
    "count.click()\n",
    "a = driver.find_element_by_xpath('/html/body/div[1]/div/div[3]/div[2]/div[3]/ul/li[7]')\n",
    "a.click()"
   ]
  },
  {
   "cell_type": "code",
   "execution_count": null,
   "metadata": {},
   "outputs": [
    {
     "name": "stderr",
     "output_type": "stream",
     "text": [
      "<ipython-input-130-35a54b99fe8b>:1: DeprecationWarning: find_element_by_xpath is deprecated. Please use find_element(by=By.XPATH, value=xpath) instead\n",
      "  b = driver.find_element_by_xpath('/html/body/div[1]/div/div[5]/table/tbody')\n"
     ]
    },
    {
     "data": {
      "text/plain": [
       "50"
      ]
     },
     "execution_count": 130,
     "metadata": {},
     "output_type": "execute_result"
    }
   ],
   "source": [
    "b = driver.find_element_by_xpath('/html/body/div[1]/div/div[5]/table/tbody')\n",
    "\n",
    "address = []\n",
    "for i in range(0,50):\n",
    "    address.append(b.find_elements_by_class_name('article')[i].get_attribute('href'))\n",
    "\n",
    "len(address)"
   ]
  },
  {
   "cell_type": "code",
   "execution_count": null,
   "metadata": {},
   "outputs": [
    {
     "name": "stderr",
     "output_type": "stream",
     "text": [
      "<ipython-input-6-3aaaa06fa99d>:1: DeprecationWarning: find_elements_by_class_name is deprecated. Please use find_elements(by=By.CLASS_NAME, value=name) instead\n",
      "  driver.find_elements_by_class_name('td_view')[0].text\n"
     ]
    },
    {
     "data": {
      "text/plain": [
       "'244'"
      ]
     },
     "execution_count": 6,
     "metadata": {},
     "output_type": "execute_result"
    }
   ],
   "source": [
    "driver.find_elements_by_class_name('td_view')"
   ]
  },
  {
   "cell_type": "code",
   "execution_count": null,
   "metadata": {},
   "outputs": [
    {
     "name": "stderr",
     "output_type": "stream",
     "text": [
      "<ipython-input-8-84733a12d4b0>:1: DeprecationWarning: find_elements_by_class_name is deprecated. Please use find_elements(by=By.CLASS_NAME, value=name) instead\n",
      "  driver.find_elements_by_class_name('td_date')[0].text\n"
     ]
    },
    {
     "data": {
      "text/plain": [
       "'15:42'"
      ]
     },
     "execution_count": 8,
     "metadata": {},
     "output_type": "execute_result"
    }
   ],
   "source": [
    "driver.find_elements_by_class_name('td_date')[0].text"
   ]
  },
  {
   "cell_type": "code",
   "execution_count": null,
   "metadata": {},
   "outputs": [],
   "source": [
    "# 주소=[]\n",
    "# page=0\n",
    "# #while page < 0:\n",
    "# while page < 49:\n",
    "\n",
    "#     page+=1\n",
    "#     driver.get(f\"https://cafe.naver.com/jejutip?iframe_url=/ArticleSearchList.nhn%3Fsearch.clubid=10456178%26search.media=0%26search.searchdate=all%26search.exact=%26search.include=%26userDisplay=50%26search.exclude=%26search.option=0%26search.sortBy=date%26search.searchBy=0%26search.includeAll=%26search.query=%C0%FC%B1%E2%C2%F7%26search.viewtype=title%26search.page={page}\")\n",
    "#     time.sleep(2)\n",
    "#     driver.switch_to.frame(\"cafe_main\")\n",
    "\n",
    "#     for i in range(1,51,1):\n",
    "#         주소.append(driver.find_element_by_xpath(f\"/html/body/div[1]/div/div[5]/table/tbody/tr[{i}]/td[1]/div[2]/div/a[1]\").get_attribute(\"href\"))\n",
    "    \n",
    "#     driver.switch_to.default_content()\n",
    "\n",
    "\n"
   ]
  },
  {
   "cell_type": "code",
   "execution_count": 37,
   "metadata": {},
   "outputs": [
    {
     "name": "stderr",
     "output_type": "stream",
     "text": [
      "<ipython-input-37-f074a080b2bd>:12: DeprecationWarning: find_element_by_class_name is deprecated. Please use find_element(by=By.CLASS_NAME, value=name) instead\n",
      "  if driver.find_element_by_class_name(\"nodata\").text == '등록된 게시글이 없습니다.':\n",
      "<ipython-input-37-f074a080b2bd>:18: DeprecationWarning: find_element_by_xpath is deprecated. Please use find_element(by=By.XPATH, value=xpath) instead\n",
      "  b = driver.find_element_by_xpath('/html/body/div[1]/div/div[5]/table/tbody')\n",
      "C:\\Users\\CPB06GameN\\anaconda3\\lib\\site-packages\\selenium\\webdriver\\remote\\webelement.py:464: UserWarning: find_elements_by_class_name is deprecated. Please use find_elements(by=By.CLASS_NAME, value=name) instead\n",
      "  warnings.warn(\"find_elements_by_class_name is deprecated. Please use find_elements(by=By.CLASS_NAME, value=name) instead\")\n",
      "<ipython-input-37-f074a080b2bd>:21: DeprecationWarning: find_elements_by_class_name is deprecated. Please use find_elements(by=By.CLASS_NAME, value=name) instead\n",
      "  counts.append(driver.find_elements_by_class_name('td_view')[i].text)\n",
      "<ipython-input-37-f074a080b2bd>:22: DeprecationWarning: find_elements_by_class_name is deprecated. Please use find_elements(by=By.CLASS_NAME, value=name) instead\n",
      "  times.append(driver.find_elements_by_class_name('td_date')[i].text)\n"
     ]
    }
   ],
   "source": [
    "주소=[]\n",
    "counts = []\n",
    "times = []\n",
    "page= 0\n",
    "#while page < 0:\n",
    "while page < 51:\n",
    "    try:\n",
    "        page+=1\n",
    "        driver.get(f\"https://cafe.naver.com/jejutip?iframe_url=/ArticleSearchList.nhn%3Fsearch.clubid=10456178%26search.media=0%26search.searchdate=all%26search.exact=%26search.include=%26userDisplay=50%26search.exclude=%26search.option=0%26search.sortBy=date%26search.searchBy=0%26search.includeAll=%26search.query=%C0%FC%B1%E2%C2%F7%26search.viewtype=title%26search.page={page}\")\n",
    "        driver.switch_to.frame(\"cafe_main\")\n",
    "        try:\n",
    "            if driver.find_element_by_class_name(\"nodata\").text == '등록된 게시글이 없습니다.':\n",
    "            # 무한으로 다음페이지로 넘어가는데 만약에 등록된게시글이 없습니다가 나오면 다음페이지로 넘어가는것을 멈춤\n",
    "                break\n",
    "        except:\n",
    "            pass\n",
    "\n",
    "        b = driver.find_element_by_xpath('/html/body/div[1]/div/div[5]/table/tbody')\n",
    "        for i in range(0,50):\n",
    "            주소.append(b.find_elements_by_class_name('article')[i].get_attribute('href'))\n",
    "            counts.append(driver.find_elements_by_class_name('td_view')[i].text)\n",
    "            times.append(driver.find_elements_by_class_name('td_date')[i].text)\n",
    "        driver.switch_to.default_content()\n",
    "    except:\n",
    "        pass\n",
    "\n",
    "\n"
   ]
  },
  {
   "cell_type": "code",
   "execution_count": 38,
   "metadata": {},
   "outputs": [
    {
     "name": "stdout",
     "output_type": "stream",
     "text": [
      "2550 2550 2550\n"
     ]
    }
   ],
   "source": [
    "print(len(주소), len(counts), len(times))"
   ]
  },
  {
   "cell_type": "code",
   "execution_count": null,
   "metadata": {},
   "outputs": [],
   "source": []
  },
  {
   "cell_type": "code",
   "execution_count": null,
   "metadata": {},
   "outputs": [],
   "source": [
    "driver.get(주소[0])"
   ]
  },
  {
   "cell_type": "code",
   "execution_count": null,
   "metadata": {},
   "outputs": [
    {
     "name": "stderr",
     "output_type": "stream",
     "text": [
      "<ipython-input-22-fc35beb9c577>:3: DeprecationWarning: find_element_by_xpath is deprecated. Please use find_element(by=By.XPATH, value=xpath) instead\n",
      "  a = driver.find_element_by_xpath('/html/body/div/div/div/div[2]/div[2]/div[1]/div/div[1]/div/div/div/div/div/div')\n",
      "C:\\Users\\CPB06GameN\\anaconda3\\lib\\site-packages\\selenium\\webdriver\\remote\\webelement.py:359: UserWarning: find_elements_by_tag_name is deprecated. Please use find_elements(by=By.TAG_NAME, value=name) instead\n",
      "  warnings.warn(\"find_elements_by_tag_name is deprecated. Please use find_elements(by=By.TAG_NAME, value=name) instead\")\n"
     ]
    },
    {
     "data": {
      "text/plain": [
       "[<selenium.webdriver.remote.webelement.WebElement (session=\"f47002dc91b1ca12d9acbd1cb28197db\", element=\"7c1d077f-720d-4164-9cfc-f3702d96656c\")>,\n",
       " <selenium.webdriver.remote.webelement.WebElement (session=\"f47002dc91b1ca12d9acbd1cb28197db\", element=\"9898c8e7-bd97-4ba7-9b36-10910808129e\")>,\n",
       " <selenium.webdriver.remote.webelement.WebElement (session=\"f47002dc91b1ca12d9acbd1cb28197db\", element=\"f5b6a44b-4a5c-4cd4-8771-34b2cfab4157\")>,\n",
       " <selenium.webdriver.remote.webelement.WebElement (session=\"f47002dc91b1ca12d9acbd1cb28197db\", element=\"86003612-7929-4aa0-8eb8-0855846175a8\")>,\n",
       " <selenium.webdriver.remote.webelement.WebElement (session=\"f47002dc91b1ca12d9acbd1cb28197db\", element=\"a2ad79e6-5c7a-40ad-9e66-17776e6d0b22\")>,\n",
       " <selenium.webdriver.remote.webelement.WebElement (session=\"f47002dc91b1ca12d9acbd1cb28197db\", element=\"7d3ca8d4-bbfb-4217-aa31-9570db1c5c84\")>]"
      ]
     },
     "execution_count": 22,
     "metadata": {},
     "output_type": "execute_result"
    }
   ],
   "source": [
    "# 본문 내용\n",
    "time.sleep(2)\n",
    "driver.switch_to.frame(\"cafe_main\")\n",
    "a = driver.find_element_by_xpath('/html/body/div/div/div/div[2]/div[2]/div[1]/div/div[1]/div/div/div/div/div/div')\n",
    "a.find_elements_by_tag_name('p')"
   ]
  },
  {
   "cell_type": "code",
   "execution_count": null,
   "metadata": {},
   "outputs": [
    {
     "name": "stderr",
     "output_type": "stream",
     "text": [
      "<ipython-input-27-875517bad061>:2: DeprecationWarning: find_element_by_xpath is deprecated. Please use find_element(by=By.XPATH, value=xpath) instead\n",
      "  a = driver.find_element_by_xpath('/html/body/div/div/div/div[2]/div[2]/div[4]')\n"
     ]
    },
    {
     "data": {
      "text/plain": [
       "[<selenium.webdriver.remote.webelement.WebElement (session=\"f47002dc91b1ca12d9acbd1cb28197db\", element=\"dcb43c73-169d-4bb1-a619-4e375e256f44\")>,\n",
       " <selenium.webdriver.remote.webelement.WebElement (session=\"f47002dc91b1ca12d9acbd1cb28197db\", element=\"8b9b402e-919a-42cf-8184-72cd913dae90\")>,\n",
       " <selenium.webdriver.remote.webelement.WebElement (session=\"f47002dc91b1ca12d9acbd1cb28197db\", element=\"d451ea2e-c9c2-437b-b290-cdd7437e2f3b\")>,\n",
       " <selenium.webdriver.remote.webelement.WebElement (session=\"f47002dc91b1ca12d9acbd1cb28197db\", element=\"6d396855-a7ed-43b1-9865-d4bf09e93498\")>,\n",
       " <selenium.webdriver.remote.webelement.WebElement (session=\"f47002dc91b1ca12d9acbd1cb28197db\", element=\"dd5bc035-25c6-4f8d-86d2-598fc48ed760\")>,\n",
       " <selenium.webdriver.remote.webelement.WebElement (session=\"f47002dc91b1ca12d9acbd1cb28197db\", element=\"24c1061e-6b2c-4fdd-93e0-ffcc2bb88615\")>,\n",
       " <selenium.webdriver.remote.webelement.WebElement (session=\"f47002dc91b1ca12d9acbd1cb28197db\", element=\"58eb2f7d-31ab-4ffc-9f52-bcb2f6ae05d1\")>,\n",
       " <selenium.webdriver.remote.webelement.WebElement (session=\"f47002dc91b1ca12d9acbd1cb28197db\", element=\"29c20975-7afe-49cf-9e82-41e08197b1ad\")>,\n",
       " <selenium.webdriver.remote.webelement.WebElement (session=\"f47002dc91b1ca12d9acbd1cb28197db\", element=\"20330206-f5f3-47c7-b889-843528b89a47\")>,\n",
       " <selenium.webdriver.remote.webelement.WebElement (session=\"f47002dc91b1ca12d9acbd1cb28197db\", element=\"d438e200-4024-4bcf-9b52-fa486fd0c9b1\")>,\n",
       " <selenium.webdriver.remote.webelement.WebElement (session=\"f47002dc91b1ca12d9acbd1cb28197db\", element=\"ad63162f-d596-464d-8434-36258ccd8171\")>,\n",
       " <selenium.webdriver.remote.webelement.WebElement (session=\"f47002dc91b1ca12d9acbd1cb28197db\", element=\"725c2cec-7713-4c9c-b211-d138fbc345be\")>]"
      ]
     },
     "execution_count": 27,
     "metadata": {},
     "output_type": "execute_result"
    }
   ],
   "source": [
    "# 댓글\n",
    "a = driver.find_element_by_xpath('/html/body/div/div/div/div[2]/div[2]/div[4]')\n",
    "a.find_elements_by_tag_name('p')\n"
   ]
  },
  {
   "cell_type": "code",
   "execution_count": null,
   "metadata": {},
   "outputs": [
    {
     "name": "stderr",
     "output_type": "stream",
     "text": [
      "<ipython-input-30-81265cc141a1>:2: DeprecationWarning: find_elements_by_class_name is deprecated. Please use find_elements(by=By.CLASS_NAME, value=name) instead\n",
      "  driver.find_elements_by_class_name('link_board')[0].text\n"
     ]
    },
    {
     "data": {
      "text/plain": [
       "'☕ 실시간 댓글 수다'"
      ]
     },
     "execution_count": 30,
     "metadata": {},
     "output_type": "execute_result"
    }
   ],
   "source": [
    "# 실시간\n",
    "driver.find_elements_by_class_name('link_board')[0].text"
   ]
  },
  {
   "cell_type": "code",
   "execution_count": null,
   "metadata": {},
   "outputs": [
    {
     "name": "stderr",
     "output_type": "stream",
     "text": [
      "<ipython-input-42-50ff62af0313>:1: DeprecationWarning: find_elements_by_tag_name is deprecated. Please use find_elements(by=By.TAG_NAME, value=name) instead\n",
      "  driver.find_elements_by_tag_name('b')\n"
     ]
    },
    {
     "data": {
      "text/plain": [
       "[<selenium.webdriver.remote.webelement.WebElement (session=\"f47002dc91b1ca12d9acbd1cb28197db\", element=\"1c7792d4-e4aa-404c-8f61-655abf7d7b71\")>,\n",
       " <selenium.webdriver.remote.webelement.WebElement (session=\"f47002dc91b1ca12d9acbd1cb28197db\", element=\"929e6df8-c46f-400c-a55f-1e94fde8af71\")>]"
      ]
     },
     "execution_count": 42,
     "metadata": {},
     "output_type": "execute_result"
    }
   ],
   "source": [
    "driver.find_elements_by_tag_name('b')"
   ]
  },
  {
   "cell_type": "code",
   "execution_count": null,
   "metadata": {},
   "outputs": [
    {
     "name": "stderr",
     "output_type": "stream",
     "text": [
      "<ipython-input-59-e95fe0f0dcdf>:8: DeprecationWarning: find_elements_by_class_name is deprecated. Please use find_elements(by=By.CLASS_NAME, value=name) instead\n",
      "  a = driver.find_elements_by_class_name('article_container')\n"
     ]
    },
    {
     "data": {
      "text/plain": [
       "'10 살8살 딸둘과가는데셋이서는 전기차 같이못타니까어쩔수없이버스나 차를가지고가야하는데우도에 자가용을못가져간다고하는데우도 돌아다닐때 이동수단은 어케되나요버스빌리면제가원하는곳에 내릴수있나요?버스는 정류장에서만서요~네~~~~!!^^빵터졌어요ㅋㅋㅋㅋㅋ 버스빌리시다니 귀여우심ㅎㅎㅎ 말실수ㅋㅋㅋ버스표끊으면으로고칠게용'"
      ]
     },
     "execution_count": 59,
     "metadata": {},
     "output_type": "execute_result"
    }
   ],
   "source": [
    "# titles = []\n",
    "# contents = []\n",
    "\n",
    "driver.get(주소[0])\n",
    "time.sleep(2)\n",
    "driver.switch_to.frame(\"cafe_main\")\n",
    "title = driver.find_elements_by_class_name('title_text')[0].text\n",
    "a = driver.find_elements_by_class_name('article_container')\n",
    "contents = a[0].find_elements_by_tag_name('p')\n",
    "content = ''\n",
    "for i in range(len(contents)):\n",
    "    content += contents[i].text\n",
    "content"
   ]
  },
  {
   "cell_type": "code",
   "execution_count": null,
   "metadata": {},
   "outputs": [],
   "source": [
    "# 2017-02-06 ~ 2022-03-23"
   ]
  },
  {
   "cell_type": "markdown",
   "metadata": {},
   "source": [
    "### 시험 코드"
   ]
  },
  {
   "cell_type": "code",
   "execution_count": null,
   "metadata": {},
   "outputs": [
    {
     "name": "stderr",
     "output_type": "stream",
     "text": [
      "<ipython-input-123-a9f5ae93b517>:7: DeprecationWarning: find_element_by_xpath is deprecated. Please use find_element(by=By.XPATH, value=xpath) instead\n",
      "  a = driver.find_element_by_xpath('/html/body/div/div/div/div[2]/div[2]/div[1]/div/div[1]/div/div/div/div/div/div')\n"
     ]
    },
    {
     "data": {
      "text/plain": [
       "True"
      ]
     },
     "execution_count": 123,
     "metadata": {},
     "output_type": "execute_result"
    }
   ],
   "source": [
    "driver.get(주소[47])\n",
    "time.sleep(2)\n",
    "driver.switch_to.frame(\"cafe_main\")\n",
    "\n",
    "\n",
    "\n",
    "a = driver.find_element_by_xpath('/html/body/div/div/div/div[2]/div[2]/div[1]/div/div[1]/div/div/div/div/div/div')\n",
    "contents = a.find_elements_by_tag_name('p')\n",
    "content = ''\n",
    "for j,item in enumerate(contents):\n",
    "    content += contents[j].text + '\\n'\n",
    "\n",
    "content==''"
   ]
  },
  {
   "cell_type": "code",
   "execution_count": null,
   "metadata": {},
   "outputs": [
    {
     "name": "stderr",
     "output_type": "stream",
     "text": [
      "<ipython-input-144-69c4966bf9cb>:14: DeprecationWarning: find_element_by_xpath is deprecated. Please use find_element(by=By.XPATH, value=xpath) instead\n",
      "  contents =driver.find_element_by_xpath('/html/body/div/div/div/div[2]/div[2]/div[1]/div/div[1]/div/div').find_elements_by_tag_name('p')\n"
     ]
    },
    {
     "data": {
      "text/plain": [
       "'1. 우도에 가면 전기스쿠터 같은게 있던데 현금으로 4만원 하는곳도 있고 4만5천원이라는 곳도 있는데 그정도면 적당한가요? 그리고 뚫혀있는것과 뚫혀있지않은 것이 있는데 부모님 모시고 어떤게 탈만도 할까요? '"
      ]
     },
     "execution_count": 144,
     "metadata": {},
     "output_type": "execute_result"
    }
   ],
   "source": [
    "driver.get(주소[69])\n",
    "time.sleep(2)\n",
    "driver.switch_to.frame(\"cafe_main\")\n",
    "\n",
    "\n",
    "# a = driver.find_element_by_xpath('/html/body/div/div/div/div[2]/div[2]/div[1]')\n",
    "# contents = a.find_elements_by_tag_name('p')\n",
    "# content = ''\n",
    "# for j,item in enumerate(contents):\n",
    "#     content += contents[j].text + '\\n'\n",
    "\n",
    "# content\n",
    "\n",
    "contents =driver.find_element_by_xpath('/html/body/div/div/div/div[2]/div[2]/div[1]/div/div[1]/div/div').find_elements_by_tag_name('p')\n",
    "contents[2].text"
   ]
  },
  {
   "cell_type": "code",
   "execution_count": null,
   "metadata": {},
   "outputs": [
    {
     "data": {
      "text/plain": [
       "2550"
      ]
     },
     "execution_count": 172,
     "metadata": {},
     "output_type": "execute_result"
    }
   ],
   "source": [
    "len(주소)"
   ]
  },
  {
   "cell_type": "code",
   "execution_count": null,
   "metadata": {},
   "outputs": [
    {
     "data": {
      "text/plain": [
       "['https://cafe.naver.com/ca-fe/ArticleRead.nhn?clubid=10456178&page=1&userDisplay=50&inCafeSearch=true&searchBy=0&query=%EC%A0%84%EA%B8%B0%EC%B0%A8&includeAll=&exclude=&include=&exact=&searchdate=all&media=0&sortBy=date&articleid=2063512&referrerAllArticles=true',\n",
       " 'https://cafe.naver.com/ca-fe/ArticleRead.nhn?clubid=10456178&page=1&userDisplay=50&inCafeSearch=true&searchBy=0&query=%EC%A0%84%EA%B8%B0%EC%B0%A8&includeAll=&exclude=&include=&exact=&searchdate=all&media=0&sortBy=date&articleid=2063504&referrerAllArticles=true',\n",
       " 'https://cafe.naver.com/ca-fe/ArticleRead.nhn?clubid=10456178&page=1&userDisplay=50&inCafeSearch=true&searchBy=0&query=%EC%A0%84%EA%B8%B0%EC%B0%A8&includeAll=&exclude=&include=&exact=&searchdate=all&media=0&sortBy=date&articleid=2063475&referrerAllArticles=true']"
      ]
     },
     "execution_count": 175,
     "metadata": {},
     "output_type": "execute_result"
    }
   ],
   "source": [
    "주소[30:33]"
   ]
  },
  {
   "cell_type": "markdown",
   "metadata": {},
   "source": [
    "### Real 코드\n",
    "# 2017-12-06 ~ 2022-03-16\n",
    "# 2022-03-16 13:55"
   ]
  },
  {
   "cell_type": "code",
   "execution_count": 34,
   "metadata": {},
   "outputs": [
    {
     "name": "stderr",
     "output_type": "stream",
     "text": [
      "<ipython-input-34-e6775397d9eb>:13: DeprecationWarning: find_element_by_class_name is deprecated. Please use find_element(by=By.CLASS_NAME, value=name) instead\n",
      "  if driver.find_element_by_class_name(\"nodata\").text == '삭제되었거나 없는 게시글입니다.':\n",
      "<ipython-input-34-e6775397d9eb>:21: DeprecationWarning: find_element_by_class_name is deprecated. Please use find_element(by=By.CLASS_NAME, value=name) instead\n",
      "  title = driver.find_element_by_class_name(\"title_text\").text\n",
      "<ipython-input-34-e6775397d9eb>:29: DeprecationWarning: find_element_by_xpath is deprecated. Please use find_element(by=By.XPATH, value=xpath) instead\n",
      "  contents =driver.find_element_by_xpath('/html/body/div/div/div/div[2]/div[2]/div[1]/div/div[1]/div/div').find_elements_by_tag_name('p')\n",
      "C:\\Users\\CPB06GameN\\anaconda3\\lib\\site-packages\\selenium\\webdriver\\remote\\webelement.py:359: UserWarning: find_elements_by_tag_name is deprecated. Please use find_elements(by=By.TAG_NAME, value=name) instead\n",
      "  warnings.warn(\"find_elements_by_tag_name is deprecated. Please use find_elements(by=By.TAG_NAME, value=name) instead\")\n",
      "<ipython-input-34-e6775397d9eb>:49: DeprecationWarning: find_element_by_class_name is deprecated. Please use find_element(by=By.CLASS_NAME, value=name) instead\n",
      "  c = driver.find_element_by_class_name('CommentBox')\n",
      "<ipython-input-34-e6775397d9eb>:62: DeprecationWarning: find_elements_by_class_name is deprecated. Please use find_elements(by=By.CLASS_NAME, value=name) instead\n",
      "  species = driver.find_elements_by_class_name('link_board')[0].text\n",
      "<ipython-input-34-e6775397d9eb>:41: DeprecationWarning: find_element_by_xpath is deprecated. Please use find_element(by=By.XPATH, value=xpath) instead\n",
      "  a = driver.find_element_by_xpath('/html/body/div/div/div/div[2]/div[2]/div[1]/div/div')\n",
      "<ipython-input-34-e6775397d9eb>:37: DeprecationWarning: find_element_by_xpath is deprecated. Please use find_element(by=By.XPATH, value=xpath) instead\n",
      "  a = driver.find_element_by_xpath('/html/body/div/div/div/div[2]/div[2]/div[1]/div/div')\n"
     ]
    }
   ],
   "source": [
    "titles = []\n",
    "contentss = []\n",
    "commentss = []\n",
    "speciess = []\n",
    "\n",
    "for element in 주소:\n",
    "\n",
    "    try:\n",
    "        driver.get(element)\n",
    "        time.sleep(2)\n",
    "        driver.switch_to.frame('cafe_main')\n",
    "        try: \n",
    "            if driver.find_element_by_class_name(\"nodata\").text == '삭제되었거나 없는 게시글입니다.':\n",
    "                print(element)\n",
    "                pass\n",
    "        except:\n",
    "                pass\n",
    "\n",
    "        # 제목\n",
    "        try :\n",
    "            title = driver.find_element_by_class_name(\"title_text\").text\n",
    "            \n",
    "        except:\n",
    "            title = '제목이 없습니다'\n",
    "\n",
    "        # 내용\n",
    "        try :\n",
    "            try:\n",
    "                contents =driver.find_element_by_xpath('/html/body/div/div/div/div[2]/div[2]/div[1]/div/div[1]/div/div').find_elements_by_tag_name('p')\n",
    "                # a = driver.find_element_by_xpath('/html/body/div/div/div/div[2]/div[2]/div[1]/div/div[1]/div/div/div/div/div/div')\n",
    "                # contents = a.find_elements_by_tag_name('p')\n",
    "                content = ''\n",
    "                for j,item in enumerate(contents):\n",
    "                    content += contents[j].text + '\\n'\n",
    "\n",
    "                if content == '':\n",
    "                    a = driver.find_element_by_xpath('/html/body/div/div/div/div[2]/div[2]/div[1]/div/div')\n",
    "                    content = a.text\n",
    "            \n",
    "            except:\n",
    "                a = driver.find_element_by_xpath('/html/body/div/div/div/div[2]/div[2]/div[1]/div/div')\n",
    "                content = a.text\n",
    "\n",
    "        except :\n",
    "            content = '내용이 없습니다'\n",
    "\n",
    "        # 댓글\n",
    "        try :\n",
    "            c = driver.find_element_by_class_name('CommentBox')\n",
    "            comments = c.find_elements_by_tag_name('p')\n",
    "\n",
    "            comment = ''\n",
    "            for i,teem in enumerate(comments):\n",
    "                comment += comments[i].text + '\\n'\n",
    "                \n",
    "        except:\n",
    "            comment = '댓글이 없습니다'\n",
    "        \n",
    "\n",
    "        # 유형\n",
    "        try:\n",
    "            species = driver.find_elements_by_class_name('link_board')[0].text\n",
    "\n",
    "        except:\n",
    "            species = '유형이 없습니다'\n",
    "        \n",
    "\n",
    "        titles.append(title)\n",
    "        contentss.append(content)\n",
    "        commentss.append(comment)\n",
    "        speciess.append(species)\n",
    "\n",
    "    except:\n",
    "        print(title)\n",
    "        pass\n"
   ]
  },
  {
   "cell_type": "code",
   "execution_count": 35,
   "metadata": {},
   "outputs": [
    {
     "name": "stdout",
     "output_type": "stream",
     "text": [
      "2550 2550 2550 10\n"
     ]
    }
   ],
   "source": [
    "print(len(titles), len(contentss), len(commentss), len(species))"
   ]
  },
  {
   "cell_type": "code",
   "execution_count": null,
   "metadata": {},
   "outputs": [],
   "source": [
    "# df=pd.DataFrame({\"제목\":titles , \"내용\":contentss, '댓글':commentss, '유형':species, '조회수':counts, '작성날짜':times})"
   ]
  },
  {
   "cell_type": "code",
   "execution_count": null,
   "metadata": {},
   "outputs": [],
   "source": []
  },
  {
   "cell_type": "code",
   "execution_count": 40,
   "metadata": {},
   "outputs": [
    {
     "data": {
      "text/html": [
       "<div>\n",
       "<style scoped>\n",
       "    .dataframe tbody tr th:only-of-type {\n",
       "        vertical-align: middle;\n",
       "    }\n",
       "\n",
       "    .dataframe tbody tr th {\n",
       "        vertical-align: top;\n",
       "    }\n",
       "\n",
       "    .dataframe thead th {\n",
       "        text-align: right;\n",
       "    }\n",
       "</style>\n",
       "<table border=\"1\" class=\"dataframe\">\n",
       "  <thead>\n",
       "    <tr style=\"text-align: right;\">\n",
       "      <th></th>\n",
       "      <th>제목</th>\n",
       "      <th>내용</th>\n",
       "      <th>댓글</th>\n",
       "      <th>유형</th>\n",
       "      <th>조회수</th>\n",
       "      <th>작성날짜</th>\n",
       "    </tr>\n",
       "  </thead>\n",
       "  <tbody>\n",
       "    <tr>\n",
       "      <th>0</th>\n",
       "      <td>우도갈때 렌트카 가지고 들어가는게 나을까요?</td>\n",
       "      <td>영유아있어서 가능하긴한데 글보니 전기차들 많아서\\n운전불편할수도 있다는 글을 봐서요...</td>\n",
       "      <td>예전에는 전기차에 자동차에 길은 좁은데 구불구불 운전하면서도 위험 느낄때 많았는데 ...</td>\n",
       "      <td>┌─┐여행 준비하기</td>\n",
       "      <td>365</td>\n",
       "      <td>2022.03.15.</td>\n",
       "    </tr>\n",
       "    <tr>\n",
       "      <th>1</th>\n",
       "      <td>5개월된 애기와 와이프 이렇게 3명서 여행갑니다~~장소 추천부탁해요~</td>\n",
       "      <td>이번 제주도 여행은 정말로 다르네요..ㅎㅎ\\n기존에는 남자끼리 여행을 다녀서 코스가...</td>\n",
       "      <td>날씨 확인하시고 좋으면 우도가세요 서빈백사에서 발도담그고 바다멍해도 좋을것같아요\\n...</td>\n",
       "      <td>┌─┐여행 준비하기</td>\n",
       "      <td>113</td>\n",
       "      <td>2022.03.15.</td>\n",
       "    </tr>\n",
       "    <tr>\n",
       "      <th>2</th>\n",
       "      <td>4월말 예정인데 벌써 LPG는 다 나갔을까요</td>\n",
       "      <td>SK렌터카고 롯데렌터카고 죄다 휘발류 디젤 전기차 밖에 없네요ㅎㅎ\\n전기차는 사실 ...</td>\n",
       "      <td>기름 값도 비싸고 LPG도 가격이 많이 올랐기는 마찬가지에요.\\n전기차 빌리시는게 ...</td>\n",
       "      <td>┌─┐여행 준비하기</td>\n",
       "      <td>368</td>\n",
       "      <td>2022.03.15.</td>\n",
       "    </tr>\n",
       "    <tr>\n",
       "      <th>3</th>\n",
       "      <td>SM3 ZE 렌트카 문의드립니다.</td>\n",
       "      <td>5월초에 가는데 다른거보다 저렴해서 예약했는데요.\\n\\n요즘 충전소야 많으니 뭔 문...</td>\n",
       "      <td>네비추입니다 니로 코나에비해 배터리용량이 반도안됩니다\\n</td>\n",
       "      <td>┌─┐여행 준비하기</td>\n",
       "      <td>116</td>\n",
       "      <td>2022.03.15.</td>\n",
       "    </tr>\n",
       "    <tr>\n",
       "      <th>4</th>\n",
       "      <td>운진항에 전기차 충전소가 있을까요??</td>\n",
       "      <td>오늘 도착해싀 전기차 렌트해서 다니고 있습니다.\\n숙소에 왔는데 주차장도 협소하고....</td>\n",
       "      <td>있는지는 모르겠지만 충전시간 이외에 주차하시면 안되서 배타고들어가실땐 추천하지않습니...</td>\n",
       "      <td>┌─┐여행 준비하기</td>\n",
       "      <td>97</td>\n",
       "      <td>2022.03.14.</td>\n",
       "    </tr>\n",
       "    <tr>\n",
       "      <th>...</th>\n",
       "      <td>...</td>\n",
       "      <td>...</td>\n",
       "      <td>...</td>\n",
       "      <td>...</td>\n",
       "      <td>...</td>\n",
       "      <td>...</td>\n",
       "    </tr>\n",
       "    <tr>\n",
       "      <th>2545</th>\n",
       "      <td>겨울 제주 렌트카 전기차 괜찮을까요?</td>\n",
       "      <td>안녕하세요.\\n다음주에 제주도 여행을 하려고 하는데요...\\n전기차 괜찮을까요?\\n...</td>\n",
       "      <td>삭제된 댓글입니다.\\n오 전기차에 꽂혀서 히터 문제만 해결되면 좋겠다 했는데 희소식...</td>\n",
       "      <td>┌─┐여행 준비하기</td>\n",
       "      <td>319</td>\n",
       "      <td>2017.12.19.</td>\n",
       "    </tr>\n",
       "    <tr>\n",
       "      <th>2546</th>\n",
       "      <td>숙소 고민에 빠졌는데 도움좀 주실수 있나요 ?? ㅠㅠ</td>\n",
       "      <td>질문방에도 올렸는데 아직 답변이 없어서 맘이 급해 자게에 올려보는점 양해 부탁 드려...</td>\n",
       "      <td>두 숙소의 내막을 모른체 저는 무조건 1 번입니다.\\n시장 가까우면 좋아서요.\\n참...</td>\n",
       "      <td>┌─┐여행 준비하기</td>\n",
       "      <td>665</td>\n",
       "      <td>2017.12.14.</td>\n",
       "    </tr>\n",
       "    <tr>\n",
       "      <th>2547</th>\n",
       "      <td>렌트카 살짝 걱정이 됬었는데 괜한 걱정을 했네요..</td>\n",
       "      <td>항공. 숙박. 렌트 요 3가지가 가장 중요해서\\n\\n예약 하는데... 항공과 숙박은...</td>\n",
       "      <td>댓글이 없습니다</td>\n",
       "      <td>┌─┐여행 준비하기</td>\n",
       "      <td>1,159</td>\n",
       "      <td>2017.12.11.</td>\n",
       "    </tr>\n",
       "    <tr>\n",
       "      <th>2548</th>\n",
       "      <td>빌리카 후기~</td>\n",
       "      <td>LPG로 체크 부탁드리고~\\n당일 스마트체크인 카톡이 와서\\n보니.음..LPG로 왔...</td>\n",
       "      <td>빌리카 전차종 금연아닌가요? 1월에 임산부 올케랑 가는데 담배냄새나면 큰일이네요ㅜㅜ...</td>\n",
       "      <td>┌─┐여행 준비하기</td>\n",
       "      <td>989</td>\n",
       "      <td>2017.12.11.</td>\n",
       "    </tr>\n",
       "    <tr>\n",
       "      <th>2549</th>\n",
       "      <td>휘닉스아일랜드에서 택시투어 되나요?</td>\n",
       "      <td>설날지나고 갈껀데\\n첫날을\\n휘닉스셔틀버스 타고 공항에서 휘닉스아일랜드로 간다음\\n...</td>\n",
       "      <td>추가비용 내시면 돼요\\n기사님들이 대부분 제주시로 돌아가야해서\\n전에 택시 투어 문...</td>\n",
       "      <td>┌─┐여행 준비하기</td>\n",
       "      <td>332</td>\n",
       "      <td>2017.12.10.</td>\n",
       "    </tr>\n",
       "  </tbody>\n",
       "</table>\n",
       "<p>2550 rows × 6 columns</p>\n",
       "</div>"
      ],
      "text/plain": [
       "                                          제목  \\\n",
       "0                   우도갈때 렌트카 가지고 들어가는게 나을까요?   \n",
       "1     5개월된 애기와 와이프 이렇게 3명서 여행갑니다~~장소 추천부탁해요~   \n",
       "2                   4월말 예정인데 벌써 LPG는 다 나갔을까요   \n",
       "3                         SM3 ZE 렌트카 문의드립니다.   \n",
       "4                       운진항에 전기차 충전소가 있을까요??   \n",
       "...                                      ...   \n",
       "2545                    겨울 제주 렌트카 전기차 괜찮을까요?   \n",
       "2546           숙소 고민에 빠졌는데 도움좀 주실수 있나요 ?? ㅠㅠ   \n",
       "2547            렌트카 살짝 걱정이 됬었는데 괜한 걱정을 했네요..   \n",
       "2548                                 빌리카 후기~   \n",
       "2549                     휘닉스아일랜드에서 택시투어 되나요?   \n",
       "\n",
       "                                                     내용  \\\n",
       "0     영유아있어서 가능하긴한데 글보니 전기차들 많아서\\n운전불편할수도 있다는 글을 봐서요...   \n",
       "1     이번 제주도 여행은 정말로 다르네요..ㅎㅎ\\n기존에는 남자끼리 여행을 다녀서 코스가...   \n",
       "2     SK렌터카고 롯데렌터카고 죄다 휘발류 디젤 전기차 밖에 없네요ㅎㅎ\\n전기차는 사실 ...   \n",
       "3     5월초에 가는데 다른거보다 저렴해서 예약했는데요.\\n\\n요즘 충전소야 많으니 뭔 문...   \n",
       "4     오늘 도착해싀 전기차 렌트해서 다니고 있습니다.\\n숙소에 왔는데 주차장도 협소하고....   \n",
       "...                                                 ...   \n",
       "2545  안녕하세요.\\n다음주에 제주도 여행을 하려고 하는데요...\\n전기차 괜찮을까요?\\n...   \n",
       "2546  질문방에도 올렸는데 아직 답변이 없어서 맘이 급해 자게에 올려보는점 양해 부탁 드려...   \n",
       "2547  항공. 숙박. 렌트 요 3가지가 가장 중요해서\\n\\n예약 하는데... 항공과 숙박은...   \n",
       "2548  LPG로 체크 부탁드리고~\\n당일 스마트체크인 카톡이 와서\\n보니.음..LPG로 왔...   \n",
       "2549  설날지나고 갈껀데\\n첫날을\\n휘닉스셔틀버스 타고 공항에서 휘닉스아일랜드로 간다음\\n...   \n",
       "\n",
       "                                                     댓글          유형    조회수  \\\n",
       "0     예전에는 전기차에 자동차에 길은 좁은데 구불구불 운전하면서도 위험 느낄때 많았는데 ...  ┌─┐여행 준비하기    365   \n",
       "1     날씨 확인하시고 좋으면 우도가세요 서빈백사에서 발도담그고 바다멍해도 좋을것같아요\\n...  ┌─┐여행 준비하기    113   \n",
       "2     기름 값도 비싸고 LPG도 가격이 많이 올랐기는 마찬가지에요.\\n전기차 빌리시는게 ...  ┌─┐여행 준비하기    368   \n",
       "3                       네비추입니다 니로 코나에비해 배터리용량이 반도안됩니다\\n  ┌─┐여행 준비하기    116   \n",
       "4     있는지는 모르겠지만 충전시간 이외에 주차하시면 안되서 배타고들어가실땐 추천하지않습니...  ┌─┐여행 준비하기     97   \n",
       "...                                                 ...         ...    ...   \n",
       "2545  삭제된 댓글입니다.\\n오 전기차에 꽂혀서 히터 문제만 해결되면 좋겠다 했는데 희소식...  ┌─┐여행 준비하기    319   \n",
       "2546  두 숙소의 내막을 모른체 저는 무조건 1 번입니다.\\n시장 가까우면 좋아서요.\\n참...  ┌─┐여행 준비하기    665   \n",
       "2547                                           댓글이 없습니다  ┌─┐여행 준비하기  1,159   \n",
       "2548  빌리카 전차종 금연아닌가요? 1월에 임산부 올케랑 가는데 담배냄새나면 큰일이네요ㅜㅜ...  ┌─┐여행 준비하기    989   \n",
       "2549  추가비용 내시면 돼요\\n기사님들이 대부분 제주시로 돌아가야해서\\n전에 택시 투어 문...  ┌─┐여행 준비하기    332   \n",
       "\n",
       "             작성날짜  \n",
       "0     2022.03.15.  \n",
       "1     2022.03.15.  \n",
       "2     2022.03.15.  \n",
       "3     2022.03.15.  \n",
       "4     2022.03.14.  \n",
       "...           ...  \n",
       "2545  2017.12.19.  \n",
       "2546  2017.12.14.  \n",
       "2547  2017.12.11.  \n",
       "2548  2017.12.11.  \n",
       "2549  2017.12.10.  \n",
       "\n",
       "[2550 rows x 6 columns]"
      ]
     },
     "execution_count": 40,
     "metadata": {},
     "output_type": "execute_result"
    }
   ],
   "source": [
    "df=pd.DataFrame({\"제목\":titles , \"내용\":contentss, '댓글':commentss, '유형':species, '조회수':counts, '작성날짜':times})\n",
    "# df=pd.DataFrame({\"제목\":titles , \"내용\":contentss, '댓글':commentss, '유형':species})\n",
    "df.to_csv('느영나영전기차크롤링.csv',index=False)\n",
    "df"
   ]
  },
  {
   "cell_type": "code",
   "execution_count": 29,
   "metadata": {},
   "outputs": [
    {
     "data": {
      "text/html": [
       "<div>\n",
       "<style scoped>\n",
       "    .dataframe tbody tr th:only-of-type {\n",
       "        vertical-align: middle;\n",
       "    }\n",
       "\n",
       "    .dataframe tbody tr th {\n",
       "        vertical-align: top;\n",
       "    }\n",
       "\n",
       "    .dataframe thead th {\n",
       "        text-align: right;\n",
       "    }\n",
       "</style>\n",
       "<table border=\"1\" class=\"dataframe\">\n",
       "  <thead>\n",
       "    <tr style=\"text-align: right;\">\n",
       "      <th></th>\n",
       "      <th>제목</th>\n",
       "      <th>내용</th>\n",
       "      <th>댓글</th>\n",
       "      <th>유형</th>\n",
       "    </tr>\n",
       "  </thead>\n",
       "  <tbody>\n",
       "    <tr>\n",
       "      <th>147</th>\n",
       "      <td>제목이 없습니다</td>\n",
       "      <td>내용이 없습니다</td>\n",
       "      <td>댓글이 없습니다</td>\n",
       "      <td>┌─┐여행 준비하기</td>\n",
       "    </tr>\n",
       "    <tr>\n",
       "      <th>353</th>\n",
       "      <td>제목이 없습니다</td>\n",
       "      <td>내용이 없습니다</td>\n",
       "      <td>댓글이 없습니다</td>\n",
       "      <td>┌─┐여행 준비하기</td>\n",
       "    </tr>\n",
       "    <tr>\n",
       "      <th>693</th>\n",
       "      <td>제목이 없습니다</td>\n",
       "      <td>내용이 없습니다</td>\n",
       "      <td>댓글이 없습니다</td>\n",
       "      <td>┌─┐여행 준비하기</td>\n",
       "    </tr>\n",
       "    <tr>\n",
       "      <th>694</th>\n",
       "      <td>제목이 없습니다</td>\n",
       "      <td>내용이 없습니다</td>\n",
       "      <td>댓글이 없습니다</td>\n",
       "      <td>┌─┐여행 준비하기</td>\n",
       "    </tr>\n",
       "    <tr>\n",
       "      <th>809</th>\n",
       "      <td>제목이 없습니다</td>\n",
       "      <td>내용이 없습니다</td>\n",
       "      <td>댓글이 없습니다</td>\n",
       "      <td>┌─┐여행 준비하기</td>\n",
       "    </tr>\n",
       "    <tr>\n",
       "      <th>810</th>\n",
       "      <td>제목이 없습니다</td>\n",
       "      <td>내용이 없습니다</td>\n",
       "      <td>댓글이 없습니다</td>\n",
       "      <td>┌─┐여행 준비하기</td>\n",
       "    </tr>\n",
       "    <tr>\n",
       "      <th>812</th>\n",
       "      <td>제목이 없습니다</td>\n",
       "      <td>내용이 없습니다</td>\n",
       "      <td>댓글이 없습니다</td>\n",
       "      <td>┌─┐여행 준비하기</td>\n",
       "    </tr>\n",
       "    <tr>\n",
       "      <th>815</th>\n",
       "      <td>제목이 없습니다</td>\n",
       "      <td>내용이 없습니다</td>\n",
       "      <td>댓글이 없습니다</td>\n",
       "      <td>┌─┐여행 준비하기</td>\n",
       "    </tr>\n",
       "    <tr>\n",
       "      <th>818</th>\n",
       "      <td>제목이 없습니다</td>\n",
       "      <td>내용이 없습니다</td>\n",
       "      <td>댓글이 없습니다</td>\n",
       "      <td>┌─┐여행 준비하기</td>\n",
       "    </tr>\n",
       "    <tr>\n",
       "      <th>825</th>\n",
       "      <td>제목이 없습니다</td>\n",
       "      <td>내용이 없습니다</td>\n",
       "      <td>댓글이 없습니다</td>\n",
       "      <td>┌─┐여행 준비하기</td>\n",
       "    </tr>\n",
       "    <tr>\n",
       "      <th>832</th>\n",
       "      <td>제목이 없습니다</td>\n",
       "      <td>내용이 없습니다</td>\n",
       "      <td>댓글이 없습니다</td>\n",
       "      <td>┌─┐여행 준비하기</td>\n",
       "    </tr>\n",
       "    <tr>\n",
       "      <th>964</th>\n",
       "      <td>제목이 없습니다</td>\n",
       "      <td>내용이 없습니다</td>\n",
       "      <td>댓글이 없습니다</td>\n",
       "      <td>┌─┐여행 준비하기</td>\n",
       "    </tr>\n",
       "    <tr>\n",
       "      <th>1025</th>\n",
       "      <td>제목이 없습니다</td>\n",
       "      <td>내용이 없습니다</td>\n",
       "      <td>댓글이 없습니다</td>\n",
       "      <td>┌─┐여행 준비하기</td>\n",
       "    </tr>\n",
       "    <tr>\n",
       "      <th>1229</th>\n",
       "      <td>제목이 없습니다</td>\n",
       "      <td>내용이 없습니다</td>\n",
       "      <td>댓글이 없습니다</td>\n",
       "      <td>┌─┐여행 준비하기</td>\n",
       "    </tr>\n",
       "    <tr>\n",
       "      <th>1230</th>\n",
       "      <td>제목이 없습니다</td>\n",
       "      <td>내용이 없습니다</td>\n",
       "      <td>댓글이 없습니다</td>\n",
       "      <td>┌─┐여행 준비하기</td>\n",
       "    </tr>\n",
       "    <tr>\n",
       "      <th>1231</th>\n",
       "      <td>제목이 없습니다</td>\n",
       "      <td>내용이 없습니다</td>\n",
       "      <td>댓글이 없습니다</td>\n",
       "      <td>┌─┐여행 준비하기</td>\n",
       "    </tr>\n",
       "    <tr>\n",
       "      <th>1232</th>\n",
       "      <td>제목이 없습니다</td>\n",
       "      <td>내용이 없습니다</td>\n",
       "      <td>댓글이 없습니다</td>\n",
       "      <td>┌─┐여행 준비하기</td>\n",
       "    </tr>\n",
       "    <tr>\n",
       "      <th>1279</th>\n",
       "      <td>제목이 없습니다</td>\n",
       "      <td>내용이 없습니다</td>\n",
       "      <td>댓글이 없습니다</td>\n",
       "      <td>┌─┐여행 준비하기</td>\n",
       "    </tr>\n",
       "    <tr>\n",
       "      <th>1410</th>\n",
       "      <td>제목이 없습니다</td>\n",
       "      <td>내용이 없습니다</td>\n",
       "      <td>댓글이 없습니다</td>\n",
       "      <td>┌─┐여행 준비하기</td>\n",
       "    </tr>\n",
       "    <tr>\n",
       "      <th>1753</th>\n",
       "      <td>제목이 없습니다</td>\n",
       "      <td>내용이 없습니다</td>\n",
       "      <td>댓글이 없습니다</td>\n",
       "      <td>┌─┐여행 준비하기</td>\n",
       "    </tr>\n",
       "    <tr>\n",
       "      <th>1754</th>\n",
       "      <td>제목이 없습니다</td>\n",
       "      <td>내용이 없습니다</td>\n",
       "      <td>댓글이 없습니다</td>\n",
       "      <td>┌─┐여행 준비하기</td>\n",
       "    </tr>\n",
       "    <tr>\n",
       "      <th>1755</th>\n",
       "      <td>제목이 없습니다</td>\n",
       "      <td>내용이 없습니다</td>\n",
       "      <td>댓글이 없습니다</td>\n",
       "      <td>┌─┐여행 준비하기</td>\n",
       "    </tr>\n",
       "    <tr>\n",
       "      <th>1758</th>\n",
       "      <td>제목이 없습니다</td>\n",
       "      <td>내용이 없습니다</td>\n",
       "      <td>댓글이 없습니다</td>\n",
       "      <td>┌─┐여행 준비하기</td>\n",
       "    </tr>\n",
       "    <tr>\n",
       "      <th>1809</th>\n",
       "      <td>제목이 없습니다</td>\n",
       "      <td>내용이 없습니다</td>\n",
       "      <td>댓글이 없습니다</td>\n",
       "      <td>┌─┐여행 준비하기</td>\n",
       "    </tr>\n",
       "    <tr>\n",
       "      <th>1811</th>\n",
       "      <td>제목이 없습니다</td>\n",
       "      <td>내용이 없습니다</td>\n",
       "      <td>댓글이 없습니다</td>\n",
       "      <td>┌─┐여행 준비하기</td>\n",
       "    </tr>\n",
       "    <tr>\n",
       "      <th>1821</th>\n",
       "      <td>제목이 없습니다</td>\n",
       "      <td>내용이 없습니다</td>\n",
       "      <td>댓글이 없습니다</td>\n",
       "      <td>┌─┐여행 준비하기</td>\n",
       "    </tr>\n",
       "    <tr>\n",
       "      <th>1879</th>\n",
       "      <td>제목이 없습니다</td>\n",
       "      <td>내용이 없습니다</td>\n",
       "      <td>댓글이 없습니다</td>\n",
       "      <td>┌─┐여행 준비하기</td>\n",
       "    </tr>\n",
       "    <tr>\n",
       "      <th>1937</th>\n",
       "      <td>제목이 없습니다</td>\n",
       "      <td>내용이 없습니다</td>\n",
       "      <td>댓글이 없습니다</td>\n",
       "      <td>┌─┐여행 준비하기</td>\n",
       "    </tr>\n",
       "    <tr>\n",
       "      <th>2074</th>\n",
       "      <td>제목이 없습니다</td>\n",
       "      <td>내용이 없습니다</td>\n",
       "      <td>댓글이 없습니다</td>\n",
       "      <td>┌─┐여행 준비하기</td>\n",
       "    </tr>\n",
       "    <tr>\n",
       "      <th>2078</th>\n",
       "      <td>제목이 없습니다</td>\n",
       "      <td>내용이 없습니다</td>\n",
       "      <td>댓글이 없습니다</td>\n",
       "      <td>┌─┐여행 준비하기</td>\n",
       "    </tr>\n",
       "    <tr>\n",
       "      <th>2121</th>\n",
       "      <td>제목이 없습니다</td>\n",
       "      <td>내용이 없습니다</td>\n",
       "      <td>댓글이 없습니다</td>\n",
       "      <td>┌─┐여행 준비하기</td>\n",
       "    </tr>\n",
       "  </tbody>\n",
       "</table>\n",
       "</div>"
      ],
      "text/plain": [
       "            제목        내용        댓글          유형\n",
       "147   제목이 없습니다  내용이 없습니다  댓글이 없습니다  ┌─┐여행 준비하기\n",
       "353   제목이 없습니다  내용이 없습니다  댓글이 없습니다  ┌─┐여행 준비하기\n",
       "693   제목이 없습니다  내용이 없습니다  댓글이 없습니다  ┌─┐여행 준비하기\n",
       "694   제목이 없습니다  내용이 없습니다  댓글이 없습니다  ┌─┐여행 준비하기\n",
       "809   제목이 없습니다  내용이 없습니다  댓글이 없습니다  ┌─┐여행 준비하기\n",
       "810   제목이 없습니다  내용이 없습니다  댓글이 없습니다  ┌─┐여행 준비하기\n",
       "812   제목이 없습니다  내용이 없습니다  댓글이 없습니다  ┌─┐여행 준비하기\n",
       "815   제목이 없습니다  내용이 없습니다  댓글이 없습니다  ┌─┐여행 준비하기\n",
       "818   제목이 없습니다  내용이 없습니다  댓글이 없습니다  ┌─┐여행 준비하기\n",
       "825   제목이 없습니다  내용이 없습니다  댓글이 없습니다  ┌─┐여행 준비하기\n",
       "832   제목이 없습니다  내용이 없습니다  댓글이 없습니다  ┌─┐여행 준비하기\n",
       "964   제목이 없습니다  내용이 없습니다  댓글이 없습니다  ┌─┐여행 준비하기\n",
       "1025  제목이 없습니다  내용이 없습니다  댓글이 없습니다  ┌─┐여행 준비하기\n",
       "1229  제목이 없습니다  내용이 없습니다  댓글이 없습니다  ┌─┐여행 준비하기\n",
       "1230  제목이 없습니다  내용이 없습니다  댓글이 없습니다  ┌─┐여행 준비하기\n",
       "1231  제목이 없습니다  내용이 없습니다  댓글이 없습니다  ┌─┐여행 준비하기\n",
       "1232  제목이 없습니다  내용이 없습니다  댓글이 없습니다  ┌─┐여행 준비하기\n",
       "1279  제목이 없습니다  내용이 없습니다  댓글이 없습니다  ┌─┐여행 준비하기\n",
       "1410  제목이 없습니다  내용이 없습니다  댓글이 없습니다  ┌─┐여행 준비하기\n",
       "1753  제목이 없습니다  내용이 없습니다  댓글이 없습니다  ┌─┐여행 준비하기\n",
       "1754  제목이 없습니다  내용이 없습니다  댓글이 없습니다  ┌─┐여행 준비하기\n",
       "1755  제목이 없습니다  내용이 없습니다  댓글이 없습니다  ┌─┐여행 준비하기\n",
       "1758  제목이 없습니다  내용이 없습니다  댓글이 없습니다  ┌─┐여행 준비하기\n",
       "1809  제목이 없습니다  내용이 없습니다  댓글이 없습니다  ┌─┐여행 준비하기\n",
       "1811  제목이 없습니다  내용이 없습니다  댓글이 없습니다  ┌─┐여행 준비하기\n",
       "1821  제목이 없습니다  내용이 없습니다  댓글이 없습니다  ┌─┐여행 준비하기\n",
       "1879  제목이 없습니다  내용이 없습니다  댓글이 없습니다  ┌─┐여행 준비하기\n",
       "1937  제목이 없습니다  내용이 없습니다  댓글이 없습니다  ┌─┐여행 준비하기\n",
       "2074  제목이 없습니다  내용이 없습니다  댓글이 없습니다  ┌─┐여행 준비하기\n",
       "2078  제목이 없습니다  내용이 없습니다  댓글이 없습니다  ┌─┐여행 준비하기\n",
       "2121  제목이 없습니다  내용이 없습니다  댓글이 없습니다  ┌─┐여행 준비하기"
      ]
     },
     "execution_count": 29,
     "metadata": {},
     "output_type": "execute_result"
    }
   ],
   "source": [
    "a = df[df['제목'] == '제목이 없습니다']\n",
    "b = df[df['내용'] == '내용이 없습니다']\n",
    "b"
   ]
  },
  {
   "cell_type": "code",
   "execution_count": 25,
   "metadata": {},
   "outputs": [
    {
     "data": {
      "text/html": [
       "<div>\n",
       "<style scoped>\n",
       "    .dataframe tbody tr th:only-of-type {\n",
       "        vertical-align: middle;\n",
       "    }\n",
       "\n",
       "    .dataframe tbody tr th {\n",
       "        vertical-align: top;\n",
       "    }\n",
       "\n",
       "    .dataframe thead th {\n",
       "        text-align: right;\n",
       "    }\n",
       "</style>\n",
       "<table border=\"1\" class=\"dataframe\">\n",
       "  <thead>\n",
       "    <tr style=\"text-align: right;\">\n",
       "      <th></th>\n",
       "      <th>제목</th>\n",
       "      <th>내용</th>\n",
       "      <th>댓글</th>\n",
       "      <th>유형</th>\n",
       "    </tr>\n",
       "  </thead>\n",
       "  <tbody>\n",
       "    <tr>\n",
       "      <th>965</th>\n",
       "      <td>우도에서 하루?</td>\n",
       "      <td>7월에 7박8일 예정입니다\\n앞4박은 서귀포쪽 신화월드 잡혀잇고 뒤3일은 함덕소노벨...</td>\n",
       "      <td>우도에서 숙박하면 차를가지고갈수있다고 해서 1일정도 숙박을할까 생각중인데 7일이시면...</td>\n",
       "      <td>┌─┐여행 준비하기</td>\n",
       "    </tr>\n",
       "  </tbody>\n",
       "</table>\n",
       "</div>"
      ],
      "text/plain": [
       "           제목                                                 내용  \\\n",
       "965  우도에서 하루?  7월에 7박8일 예정입니다\\n앞4박은 서귀포쪽 신화월드 잡혀잇고 뒤3일은 함덕소노벨...   \n",
       "\n",
       "                                                    댓글          유형  \n",
       "965  우도에서 숙박하면 차를가지고갈수있다고 해서 1일정도 숙박을할까 생각중인데 7일이시면...  ┌─┐여행 준비하기  "
      ]
     },
     "execution_count": 25,
     "metadata": {},
     "output_type": "execute_result"
    }
   ],
   "source": [
    "df[df['제목'] == '우도에서 하루?']"
   ]
  },
  {
   "cell_type": "code",
   "execution_count": 21,
   "metadata": {},
   "outputs": [],
   "source": [
    "driver.get(주소[147])"
   ]
  },
  {
   "cell_type": "code",
   "execution_count": 20,
   "metadata": {},
   "outputs": [
    {
     "data": {
      "text/plain": [
       "'2022.01.15.'"
      ]
     },
     "execution_count": 20,
     "metadata": {},
     "output_type": "execute_result"
    }
   ],
   "source": [
    "times[119]"
   ]
  },
  {
   "cell_type": "code",
   "execution_count": 18,
   "metadata": {},
   "outputs": [
    {
     "data": {
      "text/plain": [
       "'853'"
      ]
     },
     "execution_count": 18,
     "metadata": {},
     "output_type": "execute_result"
    }
   ],
   "source": [
    "counts[119]"
   ]
  },
  {
   "cell_type": "code",
   "execution_count": 31,
   "metadata": {},
   "outputs": [
    {
     "data": {
      "text/plain": [
       "'2020.06.18.'"
      ]
     },
     "execution_count": 31,
     "metadata": {},
     "output_type": "execute_result"
    }
   ],
   "source": [
    "times[965]"
   ]
  },
  {
   "cell_type": "code",
   "execution_count": 33,
   "metadata": {},
   "outputs": [
    {
     "data": {
      "text/plain": [
       "'1,025'"
      ]
     },
     "execution_count": 33,
     "metadata": {},
     "output_type": "execute_result"
    }
   ],
   "source": [
    "counts[966]"
   ]
  },
  {
   "cell_type": "code",
   "execution_count": null,
   "metadata": {},
   "outputs": [],
   "source": [
    "# del times[147]\n",
    "# del counts[147]\n",
    "\n",
    "# del"
   ]
  },
  {
   "cell_type": "code",
   "execution_count": 15,
   "metadata": {},
   "outputs": [
    {
     "data": {
      "text/html": [
       "<div>\n",
       "<style scoped>\n",
       "    .dataframe tbody tr th:only-of-type {\n",
       "        vertical-align: middle;\n",
       "    }\n",
       "\n",
       "    .dataframe tbody tr th {\n",
       "        vertical-align: top;\n",
       "    }\n",
       "\n",
       "    .dataframe thead th {\n",
       "        text-align: right;\n",
       "    }\n",
       "</style>\n",
       "<table border=\"1\" class=\"dataframe\">\n",
       "  <thead>\n",
       "    <tr style=\"text-align: right;\">\n",
       "      <th></th>\n",
       "      <th>제목</th>\n",
       "      <th>내용</th>\n",
       "      <th>댓글</th>\n",
       "      <th>유형</th>\n",
       "    </tr>\n",
       "  </thead>\n",
       "  <tbody>\n",
       "    <tr>\n",
       "      <th>145</th>\n",
       "      <td>우도 전기차는..</td>\n",
       "      <td>월요일 3일에 가려구요\\n지금 전기차 예약하려고 소셜 뒤지다가 요 카페도 검색하다가...</td>\n",
       "      <td>댓글이 없습니다</td>\n",
       "      <td>┌─┐여행 준비하기</td>\n",
       "    </tr>\n",
       "    <tr>\n",
       "      <th>146</th>\n",
       "      <td>우도 교통수단이요 ㅠ</td>\n",
       "      <td>60대 부모님 두분이랑 두자매가 다음주에 우도 들어가려고 하는데요..\\n1월의 우도...</td>\n",
       "      <td>이것저것 구경하다보니 점심식사없이 저는 4시간 놀다왔어요. 아이들이랑 바다구경하고 ...</td>\n",
       "      <td>┌─┐여행 준비하기</td>\n",
       "    </tr>\n",
       "    <tr>\n",
       "      <th>147</th>\n",
       "      <td>제목이 없습니다</td>\n",
       "      <td>내용이 없습니다</td>\n",
       "      <td>댓글이 없습니다</td>\n",
       "      <td>┌─┐여행 준비하기</td>\n",
       "    </tr>\n",
       "    <tr>\n",
       "      <th>148</th>\n",
       "      <td>전기차 렌트 1일5천카드 해야하나요?</td>\n",
       "      <td>안녕하세요 오늘오후가는데요\\n카드없어도충전되지않나요?\\n필수로 렌트카업체에서 해야하...</td>\n",
       "      <td>저는 렌터카업체에서 카드를 줬어요\\n비용 1일5천들지않나요?^^;\\n필수로 구매(결...</td>\n",
       "      <td>┌─┐여행 준비하기</td>\n",
       "    </tr>\n",
       "  </tbody>\n",
       "</table>\n",
       "</div>"
      ],
      "text/plain": [
       "                       제목                                                 내용  \\\n",
       "145             우도 전기차는..  월요일 3일에 가려구요\\n지금 전기차 예약하려고 소셜 뒤지다가 요 카페도 검색하다가...   \n",
       "146           우도 교통수단이요 ㅠ  60대 부모님 두분이랑 두자매가 다음주에 우도 들어가려고 하는데요..\\n1월의 우도...   \n",
       "147              제목이 없습니다                                           내용이 없습니다   \n",
       "148  전기차 렌트 1일5천카드 해야하나요?  안녕하세요 오늘오후가는데요\\n카드없어도충전되지않나요?\\n필수로 렌트카업체에서 해야하...   \n",
       "\n",
       "                                                    댓글          유형  \n",
       "145                                           댓글이 없습니다  ┌─┐여행 준비하기  \n",
       "146  이것저것 구경하다보니 점심식사없이 저는 4시간 놀다왔어요. 아이들이랑 바다구경하고 ...  ┌─┐여행 준비하기  \n",
       "147                                           댓글이 없습니다  ┌─┐여행 준비하기  \n",
       "148  저는 렌터카업체에서 카드를 줬어요\\n비용 1일5천들지않나요?^^;\\n필수로 구매(결...  ┌─┐여행 준비하기  "
      ]
     },
     "execution_count": 15,
     "metadata": {},
     "output_type": "execute_result"
    }
   ],
   "source": [
    "df.iloc[145:149]"
   ]
  },
  {
   "cell_type": "code",
   "execution_count": null,
   "metadata": {},
   "outputs": [
    {
     "data": {
      "text/html": [
       "<div>\n",
       "<style scoped>\n",
       "    .dataframe tbody tr th:only-of-type {\n",
       "        vertical-align: middle;\n",
       "    }\n",
       "\n",
       "    .dataframe tbody tr th {\n",
       "        vertical-align: top;\n",
       "    }\n",
       "\n",
       "    .dataframe thead th {\n",
       "        text-align: right;\n",
       "    }\n",
       "</style>\n",
       "<table border=\"1\" class=\"dataframe\">\n",
       "  <thead>\n",
       "    <tr style=\"text-align: right;\">\n",
       "      <th></th>\n",
       "      <th>제목</th>\n",
       "      <th>내용</th>\n",
       "      <th>댓글</th>\n",
       "      <th>유형</th>\n",
       "    </tr>\n",
       "  </thead>\n",
       "  <tbody>\n",
       "    <tr>\n",
       "      <th>0</th>\n",
       "      <td>bmw i3 타이어 교체 후덜덜</td>\n",
       "      <td>전기차 초창기 모델 i3 거든요. \\n타이어를 11월에 알아봤을때는 85정도였던 것...</td>\n",
       "      <td>3월부터 많이오른다곤하던데 30만원ㄷㄷ;;\\n저도 지금 갈때됬는데 걱정이네요ㅠㅠ\\n...</td>\n",
       "      <td>┌─┐종합 여행후기</td>\n",
       "    </tr>\n",
       "    <tr>\n",
       "      <th>1</th>\n",
       "      <td>3/4일 내키는대로 다닌 후기입니다(맛집+바다 위주)</td>\n",
       "      <td>오전 비행기라 일찍 자야하는데 아쉬움 부여잡고ㅎ\\n작은 도움이라도 드리고자 느나에 ...</td>\n",
       "      <td>파크선샤인 청결,위치 만족도 궁금해요~\\n위치는 서귀포 최남단 쪽이라 산방산이나 송...</td>\n",
       "      <td>┌─┐종합 여행후기</td>\n",
       "    </tr>\n",
       "    <tr>\n",
       "      <th>2</th>\n",
       "      <td>내일 우도 차량입도vs순환버스</td>\n",
       "      <td>만6세이하 둘있어서 렌트카 입도 가능한데요\\n보험미적용지역이다보니 괜히 신경쓰이네요...</td>\n",
       "      <td>아이가 어리고 주말인게 걸리지만 일요일이고\\n그냥 차량 입도요.\\n버스 생각보다 꽉...</td>\n",
       "      <td>┌─┐종합 여행후기</td>\n",
       "    </tr>\n",
       "    <tr>\n",
       "      <th>3</th>\n",
       "      <td>다리 불편한 부모님과의 여행</td>\n",
       "      <td>부모님과 함께 여행 계획하고 있어요\\n엄마가 다리가 불편해서 많이 걷지를 못합니다\\...</td>\n",
       "      <td>산방산부터 송악산까지 올레길 추천요. 물때랑 날씨 잘 맞으면 올레길 도중 사계해변의...</td>\n",
       "      <td>┌─┐종합 여행후기</td>\n",
       "    </tr>\n",
       "    <tr>\n",
       "      <th>4</th>\n",
       "      <td>렌트 전기차?일반차? 그리고 보험은??</td>\n",
       "      <td>렌트 전기차? 일반차? 어떤걸로 하셨나요?\\n전기차 하려고 했더니 \\n충전하기가 너...</td>\n",
       "      <td>제주도에 충전소가 엄청많아서 충전은 걱정안하셔도되구요 시장가면 주차장에꽂아두고 충전...</td>\n",
       "      <td>┌─┐종합 여행후기</td>\n",
       "    </tr>\n",
       "    <tr>\n",
       "      <th>5</th>\n",
       "      <td>우도 숙박후기</td>\n",
       "      <td>이번에 우도에서 3박했어요\\n매일 새로운 사람들이 들어오고 전기차를 대여해서 다니시...</td>\n",
       "      <td>우와..\\n너무 제스타일입니다 ㅎ\\n우리 모두의 스타일일거에요\\n쭈^^\\n가격보고 ...</td>\n",
       "      <td>┌─┐종합 여행후기</td>\n",
       "    </tr>\n",
       "    <tr>\n",
       "      <th>6</th>\n",
       "      <td>하루에 우도+스카이워터쇼+석예원본초족욕 가능할까요?</td>\n",
       "      <td>성산쪽 코스로 이렇게잡고 서귀포로 넘어가려고 하는데 가능할까요?\\n스카이워터쇼가 시...</td>\n",
       "      <td>오전에 일찍 움직이면 가능할것같은데요\\n아이들이랑은 힘들것 같아요. 스카이쇼 공연은...</td>\n",
       "      <td>┌─┐종합 여행후기</td>\n",
       "    </tr>\n",
       "    <tr>\n",
       "      <th>7</th>\n",
       "      <td>우도 꿀팁? 공유 부탁드립니다.</td>\n",
       "      <td>3월중순에 아이들과 우도 처음 가보는데 아는게 1도 없어요ㅠㅠ\\n꼭 알아야할 꿀팁이...</td>\n",
       "      <td>꿀팁 뭐가 있나요..\\n우도 생각만큼 막 꼭 먹어야하고 사야하고 가봐야하고 글치 않...</td>\n",
       "      <td>┌─┐종합 여행후기</td>\n",
       "    </tr>\n",
       "    <tr>\n",
       "      <th>8</th>\n",
       "      <td>우도 2인전기차타고 가볼만한곳 추천 부탁드립니다!!</td>\n",
       "      <td>안녕하세요\\n\\n우도에서 2인 전기차 대여 후\\n\\n섬소나이 라는 음식점을 가려고 ...</td>\n",
       "      <td>오른쪽으로 가도되고 왼쪽으로 가셔도 됩니다~~\\n네비로키면 가운데로 들어가던데 가운...</td>\n",
       "      <td>┌─┐종합 여행후기</td>\n",
       "    </tr>\n",
       "    <tr>\n",
       "      <th>9</th>\n",
       "      <td>1일차</td>\n",
       "      <td>10:05분 제주공항도착\\n10:36분 공항렌트카하우스에서 마음샌드 구입\\n11:1...</td>\n",
       "      <td>와우!!! 저 캔디가게는 애들 데리고 꼭 가봐야겠어요. 근데 탐나는전 오케이는 뭐에...</td>\n",
       "      <td>┌─┐종합 여행후기</td>\n",
       "    </tr>\n",
       "  </tbody>\n",
       "</table>\n",
       "</div>"
      ],
      "text/plain": [
       "                              제목  \\\n",
       "0              bmw i3 타이어 교체 후덜덜   \n",
       "1  3/4일 내키는대로 다닌 후기입니다(맛집+바다 위주)   \n",
       "2               내일 우도 차량입도vs순환버스   \n",
       "3                다리 불편한 부모님과의 여행   \n",
       "4          렌트 전기차?일반차? 그리고 보험은??   \n",
       "5                        우도 숙박후기   \n",
       "6   하루에 우도+스카이워터쇼+석예원본초족욕 가능할까요?   \n",
       "7              우도 꿀팁? 공유 부탁드립니다.   \n",
       "8   우도 2인전기차타고 가볼만한곳 추천 부탁드립니다!!   \n",
       "9                            1일차   \n",
       "\n",
       "                                                  내용  \\\n",
       "0  전기차 초창기 모델 i3 거든요. \\n타이어를 11월에 알아봤을때는 85정도였던 것...   \n",
       "1  오전 비행기라 일찍 자야하는데 아쉬움 부여잡고ㅎ\\n작은 도움이라도 드리고자 느나에 ...   \n",
       "2  만6세이하 둘있어서 렌트카 입도 가능한데요\\n보험미적용지역이다보니 괜히 신경쓰이네요...   \n",
       "3  부모님과 함께 여행 계획하고 있어요\\n엄마가 다리가 불편해서 많이 걷지를 못합니다\\...   \n",
       "4  렌트 전기차? 일반차? 어떤걸로 하셨나요?\\n전기차 하려고 했더니 \\n충전하기가 너...   \n",
       "5  이번에 우도에서 3박했어요\\n매일 새로운 사람들이 들어오고 전기차를 대여해서 다니시...   \n",
       "6  성산쪽 코스로 이렇게잡고 서귀포로 넘어가려고 하는데 가능할까요?\\n스카이워터쇼가 시...   \n",
       "7  3월중순에 아이들과 우도 처음 가보는데 아는게 1도 없어요ㅠㅠ\\n꼭 알아야할 꿀팁이...   \n",
       "8  안녕하세요\\n\\n우도에서 2인 전기차 대여 후\\n\\n섬소나이 라는 음식점을 가려고 ...   \n",
       "9  10:05분 제주공항도착\\n10:36분 공항렌트카하우스에서 마음샌드 구입\\n11:1...   \n",
       "\n",
       "                                                  댓글          유형  \n",
       "0  3월부터 많이오른다곤하던데 30만원ㄷㄷ;;\\n저도 지금 갈때됬는데 걱정이네요ㅠㅠ\\n...  ┌─┐종합 여행후기  \n",
       "1  파크선샤인 청결,위치 만족도 궁금해요~\\n위치는 서귀포 최남단 쪽이라 산방산이나 송...  ┌─┐종합 여행후기  \n",
       "2  아이가 어리고 주말인게 걸리지만 일요일이고\\n그냥 차량 입도요.\\n버스 생각보다 꽉...  ┌─┐종합 여행후기  \n",
       "3  산방산부터 송악산까지 올레길 추천요. 물때랑 날씨 잘 맞으면 올레길 도중 사계해변의...  ┌─┐종합 여행후기  \n",
       "4  제주도에 충전소가 엄청많아서 충전은 걱정안하셔도되구요 시장가면 주차장에꽂아두고 충전...  ┌─┐종합 여행후기  \n",
       "5  우와..\\n너무 제스타일입니다 ㅎ\\n우리 모두의 스타일일거에요\\n쭈^^\\n가격보고 ...  ┌─┐종합 여행후기  \n",
       "6  오전에 일찍 움직이면 가능할것같은데요\\n아이들이랑은 힘들것 같아요. 스카이쇼 공연은...  ┌─┐종합 여행후기  \n",
       "7  꿀팁 뭐가 있나요..\\n우도 생각만큼 막 꼭 먹어야하고 사야하고 가봐야하고 글치 않...  ┌─┐종합 여행후기  \n",
       "8  오른쪽으로 가도되고 왼쪽으로 가셔도 됩니다~~\\n네비로키면 가운데로 들어가던데 가운...  ┌─┐종합 여행후기  \n",
       "9  와우!!! 저 캔디가게는 애들 데리고 꼭 가봐야겠어요. 근데 탐나는전 오케이는 뭐에...  ┌─┐종합 여행후기  "
      ]
     },
     "execution_count": 177,
     "metadata": {},
     "output_type": "execute_result"
    }
   ],
   "source": [
    "df=pd.DataFrame({\"제목\":titles , \"내용\":contentss, '댓글':commentss, '유형':species, '조회수':counts, '작성날짜':times})\n",
    "df.to_csv('느영나영전기차크롤링.csv',index=False)\n",
    "df"
   ]
  },
  {
   "cell_type": "code",
   "execution_count": null,
   "metadata": {},
   "outputs": [],
   "source": []
  }
 ],
 "metadata": {
  "interpreter": {
   "hash": "374be8c39ae01ff66328729506a9b9a7ba9eb3f2df141c8f3098ad96d8cc6bdd"
  },
  "kernelspec": {
   "display_name": "Python 3 (ipykernel)",
   "language": "python",
   "name": "python3"
  },
  "language_info": {
   "codemirror_mode": {
    "name": "ipython",
    "version": 3
   },
   "file_extension": ".py",
   "mimetype": "text/x-python",
   "name": "python",
   "nbconvert_exporter": "python",
   "pygments_lexer": "ipython3",
   "version": "3.9.7"
  }
 },
 "nbformat": 4,
 "nbformat_minor": 4
}
