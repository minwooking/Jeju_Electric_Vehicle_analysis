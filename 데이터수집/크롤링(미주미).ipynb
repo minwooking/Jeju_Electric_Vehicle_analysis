{
 "cells": [
  {
   "cell_type": "markdown",
   "metadata": {},
   "source": [
    "## 제주도사랑하는모임 전기차 키워드로 크롤링하기"
   ]
  },
  {
   "cell_type": "markdown",
   "metadata": {},
   "source": [
    "#### 환경설치"
   ]
  },
  {
   "cell_type": "code",
   "execution_count": 2,
   "metadata": {},
   "outputs": [
    {
     "name": "stdout",
     "output_type": "stream",
     "text": [
      "Collecting pyperclip\n",
      "  Downloading pyperclip-1.8.2.tar.gz (20 kB)\n",
      "Building wheels for collected packages: pyperclip\n",
      "  Building wheel for pyperclip (setup.py): started\n",
      "  Building wheel for pyperclip (setup.py): finished with status 'done'\n",
      "  Created wheel for pyperclip: filename=pyperclip-1.8.2-py3-none-any.whl size=11136 sha256=1c7764ae02bf4adfd7ea82c0b1947d079ab30d33f0c8442d6f7c747d87674770\n",
      "  Stored in directory: c:\\users\\alsdn\\appdata\\local\\pip\\cache\\wheels\\0c\\09\\9e\\49e21a6840ef7955b06d47394afef0058f0378c0914e48b8b8\n",
      "Successfully built pyperclip\n",
      "Installing collected packages: pyperclip\n",
      "Successfully installed pyperclip-1.8.2\n",
      "Collecting selenium\n",
      "  Downloading selenium-4.1.3-py3-none-any.whl (968 kB)\n",
      "Requirement already satisfied: urllib3[secure,socks]~=1.26 in c:\\users\\alsdn\\anaconda3\\lib\\site-packages (from selenium) (1.26.7)\n",
      "Collecting trio-websocket~=0.9\n",
      "  Downloading trio_websocket-0.9.2-py3-none-any.whl (16 kB)\n",
      "Collecting trio~=0.17\n",
      "  Downloading trio-0.20.0-py3-none-any.whl (359 kB)\n",
      "Requirement already satisfied: sortedcontainers in c:\\users\\alsdn\\anaconda3\\lib\\site-packages (from trio~=0.17->selenium) (2.4.0)\n",
      "Collecting outcome\n",
      "  Downloading outcome-1.1.0-py2.py3-none-any.whl (9.7 kB)\n",
      "Requirement already satisfied: attrs>=19.2.0 in c:\\users\\alsdn\\anaconda3\\lib\\site-packages (from trio~=0.17->selenium) (21.2.0)\n",
      "Requirement already satisfied: idna in c:\\users\\alsdn\\anaconda3\\lib\\site-packages (from trio~=0.17->selenium) (3.2)\n",
      "Requirement already satisfied: async-generator>=1.9 in c:\\users\\alsdn\\anaconda3\\lib\\site-packages (from trio~=0.17->selenium) (1.10)\n",
      "Requirement already satisfied: sniffio in c:\\users\\alsdn\\anaconda3\\lib\\site-packages (from trio~=0.17->selenium) (1.2.0)\n",
      "Requirement already satisfied: cffi>=1.14 in c:\\users\\alsdn\\anaconda3\\lib\\site-packages (from trio~=0.17->selenium) (1.14.6)\n",
      "Requirement already satisfied: pycparser in c:\\users\\alsdn\\anaconda3\\lib\\site-packages (from cffi>=1.14->trio~=0.17->selenium) (2.20)\n",
      "Collecting wsproto>=0.14\n",
      "  Downloading wsproto-1.1.0-py3-none-any.whl (24 kB)\n",
      "Requirement already satisfied: PySocks!=1.5.7,<2.0,>=1.5.6 in c:\\users\\alsdn\\anaconda3\\lib\\site-packages (from urllib3[secure,socks]~=1.26->selenium) (1.7.1)\n",
      "Requirement already satisfied: pyOpenSSL>=0.14 in c:\\users\\alsdn\\anaconda3\\lib\\site-packages (from urllib3[secure,socks]~=1.26->selenium) (21.0.0)\n",
      "Requirement already satisfied: cryptography>=1.3.4 in c:\\users\\alsdn\\anaconda3\\lib\\site-packages (from urllib3[secure,socks]~=1.26->selenium) (3.4.8)\n",
      "Requirement already satisfied: certifi in c:\\users\\alsdn\\anaconda3\\lib\\site-packages (from urllib3[secure,socks]~=1.26->selenium) (2021.10.8)\n",
      "Requirement already satisfied: six>=1.5.2 in c:\\users\\alsdn\\anaconda3\\lib\\site-packages (from pyOpenSSL>=0.14->urllib3[secure,socks]~=1.26->selenium) (1.16.0)\n",
      "Collecting h11<1,>=0.9.0\n",
      "  Downloading h11-0.13.0-py3-none-any.whl (58 kB)\n",
      "Installing collected packages: outcome, h11, wsproto, trio, trio-websocket, selenium\n",
      "Successfully installed h11-0.13.0 outcome-1.1.0 selenium-4.1.3 trio-0.20.0 trio-websocket-0.9.2 wsproto-1.1.0\n"
     ]
    }
   ],
   "source": [
    "# !pip install pyperclip\n",
    "# !pip install selenium"
   ]
  },
  {
   "cell_type": "markdown",
   "metadata": {},
   "source": [
    "### User libaray"
   ]
  },
  {
   "cell_type": "code",
   "execution_count": 5,
   "metadata": {
    "execution": {
     "iopub.execute_input": "2022-03-26T12:37:52.761100Z",
     "iopub.status.busy": "2022-03-26T12:37:52.760846Z",
     "iopub.status.idle": "2022-03-26T12:37:52.765605Z",
     "shell.execute_reply": "2022-03-26T12:37:52.764991Z",
     "shell.execute_reply.started": "2022-03-26T12:37:52.761060Z"
    },
    "tags": []
   },
   "outputs": [],
   "source": [
    "from selenium import webdriver\n",
    "from webdriver_manager.chrome import ChromeDriverManager\n",
    "import time\n",
    "import pandas as pd\n",
    "from urllib.parse import quote\n",
    "from selenium.webdriver.common.keys import Keys\n",
    "import time\n",
    "import pyperclip\n",
    "from tqdm import  tqdm"
   ]
  },
  {
   "cell_type": "code",
   "execution_count": 2,
   "metadata": {
    "execution": {
     "iopub.execute_input": "2022-03-26T11:58:00.939541Z",
     "iopub.status.busy": "2022-03-26T11:58:00.939281Z",
     "iopub.status.idle": "2022-03-26T11:58:03.367541Z",
     "shell.execute_reply": "2022-03-26T11:58:03.365815Z",
     "shell.execute_reply.started": "2022-03-26T11:58:00.939527Z"
    }
   },
   "outputs": [
    {
     "name": "stdout",
     "output_type": "stream",
     "text": [
      "Collecting pyperclip\n",
      "  Using cached pyperclip-1.8.2-py3-none-any.whl\n",
      "Installing collected packages: pyperclip\n",
      "Successfully installed pyperclip-1.8.2\n",
      "Note: you may need to restart the kernel to use updated packages.\n"
     ]
    }
   ],
   "source": [
    "pip install pyperclip"
   ]
  },
  {
   "cell_type": "code",
   "execution_count": 2,
   "metadata": {
    "execution": {
     "iopub.execute_input": "2022-03-26T11:57:38.958990Z",
     "iopub.status.busy": "2022-03-26T11:57:38.958310Z",
     "iopub.status.idle": "2022-03-26T11:57:42.638140Z",
     "shell.execute_reply": "2022-03-26T11:57:42.636526Z",
     "shell.execute_reply.started": "2022-03-26T11:57:38.958956Z"
    }
   },
   "outputs": [
    {
     "name": "stdout",
     "output_type": "stream",
     "text": [
      "Collecting selenium\n",
      "  Using cached selenium-4.1.3-py3-none-any.whl (968 kB)\n",
      "Collecting trio-websocket~=0.9\n",
      "  Using cached trio_websocket-0.9.2-py3-none-any.whl (16 kB)\n",
      "Requirement already satisfied: urllib3[secure,socks]~=1.26 in /home/miwoos/anaconda3/lib/python3.9/site-packages (from selenium) (1.26.7)\n",
      "Collecting trio~=0.17\n",
      "  Using cached trio-0.20.0-py3-none-any.whl (359 kB)\n",
      "Requirement already satisfied: sniffio in /home/miwoos/anaconda3/lib/python3.9/site-packages (from trio~=0.17->selenium) (1.2.0)\n",
      "Requirement already satisfied: async-generator>=1.9 in /home/miwoos/anaconda3/lib/python3.9/site-packages (from trio~=0.17->selenium) (1.10)\n",
      "Requirement already satisfied: idna in /home/miwoos/anaconda3/lib/python3.9/site-packages (from trio~=0.17->selenium) (3.2)\n",
      "Requirement already satisfied: sortedcontainers in /home/miwoos/anaconda3/lib/python3.9/site-packages (from trio~=0.17->selenium) (2.4.0)\n",
      "Collecting outcome\n",
      "  Using cached outcome-1.1.0-py2.py3-none-any.whl (9.7 kB)\n",
      "Requirement already satisfied: attrs>=19.2.0 in /home/miwoos/anaconda3/lib/python3.9/site-packages (from trio~=0.17->selenium) (21.2.0)\n",
      "Collecting wsproto>=0.14\n",
      "  Using cached wsproto-1.1.0-py3-none-any.whl (24 kB)\n",
      "Requirement already satisfied: pyOpenSSL>=0.14 in /home/miwoos/anaconda3/lib/python3.9/site-packages (from urllib3[secure,socks]~=1.26->selenium) (21.0.0)\n",
      "Requirement already satisfied: cryptography>=1.3.4 in /home/miwoos/anaconda3/lib/python3.9/site-packages (from urllib3[secure,socks]~=1.26->selenium) (3.4.8)\n",
      "Requirement already satisfied: certifi in /home/miwoos/anaconda3/lib/python3.9/site-packages (from urllib3[secure,socks]~=1.26->selenium) (2021.10.8)\n",
      "Requirement already satisfied: PySocks!=1.5.7,<2.0,>=1.5.6 in /home/miwoos/anaconda3/lib/python3.9/site-packages (from urllib3[secure,socks]~=1.26->selenium) (1.7.1)\n",
      "Requirement already satisfied: cffi>=1.12 in /home/miwoos/anaconda3/lib/python3.9/site-packages (from cryptography>=1.3.4->urllib3[secure,socks]~=1.26->selenium) (1.14.6)\n",
      "Requirement already satisfied: six>=1.5.2 in /home/miwoos/anaconda3/lib/python3.9/site-packages (from pyOpenSSL>=0.14->urllib3[secure,socks]~=1.26->selenium) (1.16.0)\n",
      "Collecting h11<1,>=0.9.0\n",
      "  Using cached h11-0.13.0-py3-none-any.whl (58 kB)\n",
      "Requirement already satisfied: pycparser in /home/miwoos/anaconda3/lib/python3.9/site-packages (from cffi>=1.12->cryptography>=1.3.4->urllib3[secure,socks]~=1.26->selenium) (2.20)\n",
      "Installing collected packages: outcome, h11, wsproto, trio, trio-websocket, selenium\n",
      "Successfully installed h11-0.13.0 outcome-1.1.0 selenium-4.1.3 trio-0.20.0 trio-websocket-0.9.2 wsproto-1.1.0\n",
      "Note: you may need to restart the kernel to use updated packages.\n"
     ]
    }
   ],
   "source": [
    "pip install selenium"
   ]
  },
  {
   "cell_type": "code",
   "execution_count": 26,
   "metadata": {
    "execution": {
     "iopub.execute_input": "2022-03-26T12:29:44.345544Z",
     "iopub.status.busy": "2022-03-26T12:29:44.345195Z",
     "iopub.status.idle": "2022-03-26T12:29:45.410276Z",
     "shell.execute_reply": "2022-03-26T12:29:45.409727Z",
     "shell.execute_reply.started": "2022-03-26T12:29:44.345507Z"
    },
    "tags": []
   },
   "outputs": [
    {
     "name": "stderr",
     "output_type": "stream",
     "text": [
      "\n",
      "\n",
      "====== WebDriver manager ======\n",
      "Current google-chrome version is 99.0.4844\n",
      "Get LATEST chromedriver version for 99.0.4844 google-chrome\n",
      "Driver [/home/miwoos/.wdm/drivers/chromedriver/linux64/99.0.4844.51/chromedriver] found in cache\n",
      "/tmp/ipykernel_356713/1503906442.py:1: DeprecationWarning: executable_path has been deprecated, please pass in a Service object\n",
      "  driver = webdriver.Chrome(ChromeDriverManager().install())\n"
     ]
    }
   ],
   "source": [
    "driver = webdriver.Chrome(ChromeDriverManager().install())"
   ]
  },
  {
   "cell_type": "markdown",
   "metadata": {},
   "source": [
    "### driver open\n"
   ]
  },
  {
   "cell_type": "code",
   "execution_count": 2,
   "metadata": {},
   "outputs": [
    {
     "name": "stderr",
     "output_type": "stream",
     "text": [
      "C:\\Users\\alsdn\\AppData\\Local\\Temp/ipykernel_9676/1923150486.py:1: DeprecationWarning: executable_path has been deprecated, please pass in a Service object\n",
      "  driver = webdriver.Chrome('chromedriver.exe')  # 윈도우\n"
     ]
    }
   ],
   "source": [
    "driver = webdriver.Chrome('chromedriver.exe')  # 윈도우\n",
    "time.sleep(1)"
   ]
  },
  {
   "cell_type": "code",
   "execution_count": 4,
   "metadata": {
    "collapsed": true,
    "execution": {
     "iopub.execute_input": "2022-03-26T11:58:35.199664Z",
     "iopub.status.busy": "2022-03-26T11:58:35.198804Z",
     "iopub.status.idle": "2022-03-26T11:58:35.223018Z",
     "shell.execute_reply": "2022-03-26T11:58:35.222326Z",
     "shell.execute_reply.started": "2022-03-26T11:58:35.199633Z"
    },
    "jupyter": {
     "outputs_hidden": true
    },
    "tags": []
   },
   "outputs": [
    {
     "name": "stderr",
     "output_type": "stream",
     "text": [
      "/tmp/ipykernel_353781/3732133635.py:1: DeprecationWarning: executable_path has been deprecated, please pass in a Service object\n",
      "  driver = webdriver.Chrome('/media/minwooking/9C33-6BBD/WorkSpace/Jeju_Electric_Vehicle_analysis/chromedriver')  # 리눅스\n"
     ]
    },
    {
     "ename": "WebDriverException",
     "evalue": "Message: 'chromedriver' executable needs to be in PATH. Please see https://chromedriver.chromium.org/home\n",
     "output_type": "error",
     "traceback": [
      "\u001b[0;31m---------------------------------------------------------------------------\u001b[0m",
      "\u001b[0;31mFileNotFoundError\u001b[0m                         Traceback (most recent call last)",
      "\u001b[0;32m~/anaconda3/lib/python3.9/site-packages/selenium/webdriver/common/service.py\u001b[0m in \u001b[0;36mstart\u001b[0;34m(self)\u001b[0m\n\u001b[1;32m     70\u001b[0m             \u001b[0mcmd\u001b[0m\u001b[0;34m.\u001b[0m\u001b[0mextend\u001b[0m\u001b[0;34m(\u001b[0m\u001b[0mself\u001b[0m\u001b[0;34m.\u001b[0m\u001b[0mcommand_line_args\u001b[0m\u001b[0;34m(\u001b[0m\u001b[0;34m)\u001b[0m\u001b[0;34m)\u001b[0m\u001b[0;34m\u001b[0m\u001b[0;34m\u001b[0m\u001b[0m\n\u001b[0;32m---> 71\u001b[0;31m             self.process = subprocess.Popen(cmd, env=self.env,\n\u001b[0m\u001b[1;32m     72\u001b[0m                                             \u001b[0mclose_fds\u001b[0m\u001b[0;34m=\u001b[0m\u001b[0msystem\u001b[0m\u001b[0;34m(\u001b[0m\u001b[0;34m)\u001b[0m \u001b[0;34m!=\u001b[0m \u001b[0;34m'Windows'\u001b[0m\u001b[0;34m,\u001b[0m\u001b[0;34m\u001b[0m\u001b[0;34m\u001b[0m\u001b[0m\n",
      "\u001b[0;32m~/anaconda3/lib/python3.9/subprocess.py\u001b[0m in \u001b[0;36m__init__\u001b[0;34m(self, args, bufsize, executable, stdin, stdout, stderr, preexec_fn, close_fds, shell, cwd, env, universal_newlines, startupinfo, creationflags, restore_signals, start_new_session, pass_fds, user, group, extra_groups, encoding, errors, text, umask)\u001b[0m\n\u001b[1;32m    950\u001b[0m \u001b[0;34m\u001b[0m\u001b[0m\n\u001b[0;32m--> 951\u001b[0;31m             self._execute_child(args, executable, preexec_fn, close_fds,\n\u001b[0m\u001b[1;32m    952\u001b[0m                                 \u001b[0mpass_fds\u001b[0m\u001b[0;34m,\u001b[0m \u001b[0mcwd\u001b[0m\u001b[0;34m,\u001b[0m \u001b[0menv\u001b[0m\u001b[0;34m,\u001b[0m\u001b[0;34m\u001b[0m\u001b[0;34m\u001b[0m\u001b[0m\n",
      "\u001b[0;32m~/anaconda3/lib/python3.9/subprocess.py\u001b[0m in \u001b[0;36m_execute_child\u001b[0;34m(self, args, executable, preexec_fn, close_fds, pass_fds, cwd, env, startupinfo, creationflags, shell, p2cread, p2cwrite, c2pread, c2pwrite, errread, errwrite, restore_signals, gid, gids, uid, umask, start_new_session)\u001b[0m\n\u001b[1;32m   1820\u001b[0m                         \u001b[0merr_msg\u001b[0m \u001b[0;34m=\u001b[0m \u001b[0mos\u001b[0m\u001b[0;34m.\u001b[0m\u001b[0mstrerror\u001b[0m\u001b[0;34m(\u001b[0m\u001b[0merrno_num\u001b[0m\u001b[0;34m)\u001b[0m\u001b[0;34m\u001b[0m\u001b[0;34m\u001b[0m\u001b[0m\n\u001b[0;32m-> 1821\u001b[0;31m                     \u001b[0;32mraise\u001b[0m \u001b[0mchild_exception_type\u001b[0m\u001b[0;34m(\u001b[0m\u001b[0merrno_num\u001b[0m\u001b[0;34m,\u001b[0m \u001b[0merr_msg\u001b[0m\u001b[0;34m,\u001b[0m \u001b[0merr_filename\u001b[0m\u001b[0;34m)\u001b[0m\u001b[0;34m\u001b[0m\u001b[0;34m\u001b[0m\u001b[0m\n\u001b[0m\u001b[1;32m   1822\u001b[0m                 \u001b[0;32mraise\u001b[0m \u001b[0mchild_exception_type\u001b[0m\u001b[0;34m(\u001b[0m\u001b[0merr_msg\u001b[0m\u001b[0;34m)\u001b[0m\u001b[0;34m\u001b[0m\u001b[0;34m\u001b[0m\u001b[0m\n",
      "\u001b[0;31mFileNotFoundError\u001b[0m: [Errno 2] No such file or directory: '/media/minwooking/9C33-6BBD/WorkSpace/Jeju_Electric_Vehicle_analysis/chromedriver'",
      "\nDuring handling of the above exception, another exception occurred:\n",
      "\u001b[0;31mWebDriverException\u001b[0m                        Traceback (most recent call last)",
      "\u001b[0;32m/tmp/ipykernel_353781/3732133635.py\u001b[0m in \u001b[0;36m<module>\u001b[0;34m\u001b[0m\n\u001b[0;32m----> 1\u001b[0;31m \u001b[0mdriver\u001b[0m \u001b[0;34m=\u001b[0m \u001b[0mwebdriver\u001b[0m\u001b[0;34m.\u001b[0m\u001b[0mChrome\u001b[0m\u001b[0;34m(\u001b[0m\u001b[0;34m'/media/minwooking/9C33-6BBD/WorkSpace/Jeju_Electric_Vehicle_analysis/chromedriver'\u001b[0m\u001b[0;34m)\u001b[0m  \u001b[0;31m# 리눅스\u001b[0m\u001b[0;34m\u001b[0m\u001b[0;34m\u001b[0m\u001b[0m\n\u001b[0m\u001b[1;32m      2\u001b[0m \u001b[0mtime\u001b[0m\u001b[0;34m.\u001b[0m\u001b[0msleep\u001b[0m\u001b[0;34m(\u001b[0m\u001b[0;36m1\u001b[0m\u001b[0;34m)\u001b[0m\u001b[0;34m\u001b[0m\u001b[0;34m\u001b[0m\u001b[0m\n",
      "\u001b[0;32m~/anaconda3/lib/python3.9/site-packages/selenium/webdriver/chrome/webdriver.py\u001b[0m in \u001b[0;36m__init__\u001b[0;34m(self, executable_path, port, options, service_args, desired_capabilities, service_log_path, chrome_options, service, keep_alive)\u001b[0m\n\u001b[1;32m     68\u001b[0m             \u001b[0mservice\u001b[0m \u001b[0;34m=\u001b[0m \u001b[0mService\u001b[0m\u001b[0;34m(\u001b[0m\u001b[0mexecutable_path\u001b[0m\u001b[0;34m,\u001b[0m \u001b[0mport\u001b[0m\u001b[0;34m,\u001b[0m \u001b[0mservice_args\u001b[0m\u001b[0;34m,\u001b[0m \u001b[0mservice_log_path\u001b[0m\u001b[0;34m)\u001b[0m\u001b[0;34m\u001b[0m\u001b[0;34m\u001b[0m\u001b[0m\n\u001b[1;32m     69\u001b[0m \u001b[0;34m\u001b[0m\u001b[0m\n\u001b[0;32m---> 70\u001b[0;31m         super(WebDriver, self).__init__(DesiredCapabilities.CHROME['browserName'], \"goog\",\n\u001b[0m\u001b[1;32m     71\u001b[0m                                         \u001b[0mport\u001b[0m\u001b[0;34m,\u001b[0m \u001b[0moptions\u001b[0m\u001b[0;34m,\u001b[0m\u001b[0;34m\u001b[0m\u001b[0;34m\u001b[0m\u001b[0m\n\u001b[1;32m     72\u001b[0m                                         \u001b[0mservice_args\u001b[0m\u001b[0;34m,\u001b[0m \u001b[0mdesired_capabilities\u001b[0m\u001b[0;34m,\u001b[0m\u001b[0;34m\u001b[0m\u001b[0;34m\u001b[0m\u001b[0m\n",
      "\u001b[0;32m~/anaconda3/lib/python3.9/site-packages/selenium/webdriver/chromium/webdriver.py\u001b[0m in \u001b[0;36m__init__\u001b[0;34m(self, browser_name, vendor_prefix, port, options, service_args, desired_capabilities, service_log_path, service, keep_alive)\u001b[0m\n\u001b[1;32m     88\u001b[0m \u001b[0;34m\u001b[0m\u001b[0m\n\u001b[1;32m     89\u001b[0m         \u001b[0mself\u001b[0m\u001b[0;34m.\u001b[0m\u001b[0mservice\u001b[0m \u001b[0;34m=\u001b[0m \u001b[0mservice\u001b[0m\u001b[0;34m\u001b[0m\u001b[0;34m\u001b[0m\u001b[0m\n\u001b[0;32m---> 90\u001b[0;31m         \u001b[0mself\u001b[0m\u001b[0;34m.\u001b[0m\u001b[0mservice\u001b[0m\u001b[0;34m.\u001b[0m\u001b[0mstart\u001b[0m\u001b[0;34m(\u001b[0m\u001b[0;34m)\u001b[0m\u001b[0;34m\u001b[0m\u001b[0;34m\u001b[0m\u001b[0m\n\u001b[0m\u001b[1;32m     91\u001b[0m \u001b[0;34m\u001b[0m\u001b[0m\n\u001b[1;32m     92\u001b[0m         \u001b[0;32mtry\u001b[0m\u001b[0;34m:\u001b[0m\u001b[0;34m\u001b[0m\u001b[0;34m\u001b[0m\u001b[0m\n",
      "\u001b[0;32m~/anaconda3/lib/python3.9/site-packages/selenium/webdriver/common/service.py\u001b[0m in \u001b[0;36mstart\u001b[0;34m(self)\u001b[0m\n\u001b[1;32m     79\u001b[0m         \u001b[0;32mexcept\u001b[0m \u001b[0mOSError\u001b[0m \u001b[0;32mas\u001b[0m \u001b[0merr\u001b[0m\u001b[0;34m:\u001b[0m\u001b[0;34m\u001b[0m\u001b[0;34m\u001b[0m\u001b[0m\n\u001b[1;32m     80\u001b[0m             \u001b[0;32mif\u001b[0m \u001b[0merr\u001b[0m\u001b[0;34m.\u001b[0m\u001b[0merrno\u001b[0m \u001b[0;34m==\u001b[0m \u001b[0merrno\u001b[0m\u001b[0;34m.\u001b[0m\u001b[0mENOENT\u001b[0m\u001b[0;34m:\u001b[0m\u001b[0;34m\u001b[0m\u001b[0;34m\u001b[0m\u001b[0m\n\u001b[0;32m---> 81\u001b[0;31m                 raise WebDriverException(\n\u001b[0m\u001b[1;32m     82\u001b[0m                     \"'%s' executable needs to be in PATH. %s\" % (\n\u001b[1;32m     83\u001b[0m                         os.path.basename(self.path), self.start_error_message)\n",
      "\u001b[0;31mWebDriverException\u001b[0m: Message: 'chromedriver' executable needs to be in PATH. Please see https://chromedriver.chromium.org/home\n"
     ]
    }
   ],
   "source": [
    "driver = webdriver.Chrome('/media/minwooking/9C33-6BBD/WorkSpace/Jeju_Electric_Vehicle_analysis/chromedriver')  # 리눅스\n",
    "time.sleep(1)"
   ]
  },
  {
   "cell_type": "markdown",
   "metadata": {},
   "source": [
    "### driver close"
   ]
  },
  {
   "cell_type": "code",
   "execution_count": 8,
   "metadata": {},
   "outputs": [],
   "source": [
    "driver.quit()"
   ]
  },
  {
   "cell_type": "markdown",
   "metadata": {},
   "source": [
    "### 아이디 비밀번호 불러오기"
   ]
  },
  {
   "cell_type": "code",
   "execution_count": 5,
   "metadata": {
    "execution": {
     "iopub.execute_input": "2022-03-26T12:21:36.917905Z",
     "iopub.status.busy": "2022-03-26T12:21:36.917256Z",
     "iopub.status.idle": "2022-03-26T12:21:36.927867Z",
     "shell.execute_reply": "2022-03-26T12:21:36.927298Z",
     "shell.execute_reply.started": "2022-03-26T12:21:36.917867Z"
    }
   },
   "outputs": [
    {
     "data": {
      "text/plain": [
       "'/home/miwoos/WorkSpace/Jeju_Electric_Vehicle_analysis'"
      ]
     },
     "execution_count": 5,
     "metadata": {},
     "output_type": "execute_result"
    }
   ],
   "source": [
    "pwd"
   ]
  },
  {
   "cell_type": "code",
   "execution_count": 6,
   "metadata": {
    "execution": {
     "iopub.execute_input": "2022-03-26T12:21:44.899833Z",
     "iopub.status.busy": "2022-03-26T12:21:44.899624Z",
     "iopub.status.idle": "2022-03-26T12:21:44.911447Z",
     "shell.execute_reply": "2022-03-26T12:21:44.911077Z",
     "shell.execute_reply.started": "2022-03-26T12:21:44.899820Z"
    },
    "tags": []
   },
   "outputs": [],
   "source": [
    "with open('/home/miwoos/WorkSpace/mykey/Naver_pw.txt') as file: # 윈도우\n",
    "    PASSWORD = file.read()\n",
    "with open('/home/miwoos/WorkSpace/mykey/Naver_ID.txt') as file: # 윈도우 \n",
    "    ID = file.read()"
   ]
  },
  {
   "cell_type": "code",
   "execution_count": 5,
   "metadata": {},
   "outputs": [],
   "source": [
    "with open('D:\\\\WorkSpace\\\\mykey\\\\Naver_pw.txt') as file: # 윈도우\n",
    "    PASSWORD = file.read()\n",
    "with open('D:\\\\WorkSpace\\\\mykey\\\\Naver_ID.txt') as file: # 윈도우 \n",
    "    ID = file.read()"
   ]
  },
  {
   "cell_type": "code",
   "execution_count": 5,
   "metadata": {},
   "outputs": [],
   "source": [
    "## 리눅스\n",
    "with open('/media/minwooking/9C33-6BBD/WorkSpace/mykey/Naver_ID.txt') as file: \n",
    "    PASSWORD = file.read()\n",
    "with open('/media/minwooking/9C33-6BBD/WorkSpace/mykey/Naver_pw.txt') as file:\n",
    "    ID = file.read()"
   ]
  },
  {
   "cell_type": "markdown",
   "metadata": {},
   "source": [
    "### 로그인"
   ]
  },
  {
   "cell_type": "code",
   "execution_count": null,
   "metadata": {
    "execution": {
     "iopub.status.busy": "2022-03-26T12:22:05.550940Z",
     "iopub.status.idle": "2022-03-26T12:22:05.551096Z",
     "shell.execute_reply": "2022-03-26T12:22:05.551019Z",
     "shell.execute_reply.started": "2022-03-26T12:22:05.551011Z"
    },
    "tags": []
   },
   "outputs": [],
   "source": [
    "url = 'https://nid.naver.com/nidlogin.login?mode=form&url=https%3A%2F%2Fwww.naver.com' \n",
    "uid = ID\n",
    "upw = PASSWORD\n",
    "#네이버 로그인 페이지로 이동 \n",
    "driver.get(url) \n",
    "time.sleep(2) #로딩 대기 \n",
    "\n",
    "#아이디 입력폼 \n",
    "tag_id = driver.find_element_by_name('id') \n",
    "#패스워드 입력폼 \n",
    "tag_pw = driver.find_element_by_name('pw')\n",
    "\n",
    "# id 입력 \n",
    "# 입력폼 클릭 -> paperclip에 선언한 uid 내용 복사 -> 붙여넣기 \n",
    "tag_id.click() \n",
    "pyperclip.copy(uid) \n",
    "tag_id.send_keys(Keys.CONTROL, 'v') \n",
    "time.sleep(1) \n",
    "\n",
    "# pw 입력 # 입력폼 클릭 -> paperclip에 선언한 upw 내용 복사 -> 붙여넣기\n",
    "tag_pw.click() \n",
    "pyperclip.copy(upw) \n",
    "tag_pw.send_keys(Keys.CONTROL, 'v')\n",
    "time.sleep(1) \n",
    "\n",
    "#로그인 버튼 클릭 \n",
    "login_btn = driver.find_element_by_id('log.login') \n",
    "login_btn.click() \n",
    "time.sleep(2)\n",
    "\n"
   ]
  },
  {
   "cell_type": "code",
   "execution_count": null,
   "metadata": {},
   "outputs": [],
   "source": []
  },
  {
   "cell_type": "markdown",
   "metadata": {},
   "source": [
    "### 전기차 검색 코드"
   ]
  },
  {
   "cell_type": "code",
   "execution_count": 5,
   "metadata": {},
   "outputs": [
    {
     "name": "stderr",
     "output_type": "stream",
     "text": [
      "/tmp/ipykernel_106718/3677752914.py:2: DeprecationWarning: find_element_by_name is deprecated. Please use find_element(by=By.NAME, value=name) instead\n",
      "  tag_search = driver.find_element_by_name('query').send_keys('전기차')\n",
      "/tmp/ipykernel_106718/3677752914.py:3: DeprecationWarning: find_element_by_name is deprecated. Please use find_element(by=By.NAME, value=name) instead\n",
      "  driver.find_element_by_name(\"query\").send_keys(Keys.ENTER)\n"
     ]
    }
   ],
   "source": [
    "driver.get('https://cafe.naver.com/idiolle')\n",
    "tag_search = driver.find_element_by_name('query').send_keys('전기차')\n",
    "driver.find_element_by_name(\"query\").send_keys(Keys.ENTER)\n",
    "time.sleep(2)\n",
    "driver.switch_to.frame(\"cafe_main\")"
   ]
  },
  {
   "cell_type": "code",
   "execution_count": 9,
   "metadata": {},
   "outputs": [
    {
     "name": "stderr",
     "output_type": "stream",
     "text": [
      "C:\\Users\\alsdn\\AppData\\Local\\Temp/ipykernel_15600/2477498050.py:4: DeprecationWarning: find_elements_by_xpath is deprecated. Please use find_elements(by=By.XPATH, value=xpath) instead\n",
      "  driver.find_elements_by_xpath(f'/html/body/div[1]/div/div[5]/table/tbody/tr[1]/td[1]/div[2]/div/a[1]')[0].get_attribute(\"href\")\n"
     ]
    },
    {
     "data": {
      "text/plain": [
       "'https://cafe.naver.com/ca-fe/ArticleRead.nhn?clubid=20692649&page=1&inCafeSearch=true&searchBy=0&query=%EC%A0%84%EA%B8%B0%EC%B0%A8&includeAll=&exclude=&include=&exact=&searchdate=all&media=0&sortBy=date&articleid=1424190&referrerAllArticles=true'"
      ]
     },
     "execution_count": 9,
     "metadata": {},
     "output_type": "execute_result"
    }
   ],
   "source": [
    "driver.get('https://cafe.naver.com/ArticleSearchList.nhn?search.clubid=20692649&search.media=0&search.searchdate=all&userDisplay=15&search.option=0&search.sortBy=date&search.searchBy=0&search.query=%C0%FC%B1%E2%C2%F7&search.viewtype=title&search.page=1')\n",
    "time.sleep(2)\n",
    "driver.switch_to.frame('cafe_main')\n",
    "driver.find_elements_by_xpath(f'/html/body/div[1]/div/div[5]/table/tbody/tr[1]/td[1]/div[2]/div/a[1]')[0].get_attribute(\"href\")"
   ]
  },
  {
   "cell_type": "code",
   "execution_count": 13,
   "metadata": {},
   "outputs": [
    {
     "name": "stderr",
     "output_type": "stream",
     "text": [
      "C:\\Users\\alsdn\\AppData\\Local\\Temp/ipykernel_15600/1774579828.py:5: DeprecationWarning: find_element_by_class_name is deprecated. Please use find_element(by=By.CLASS_NAME, value=name) instead\n",
      "  driver.find_element_by_class_name('date').text\n"
     ]
    },
    {
     "data": {
      "text/plain": [
       "'2022.03.14. 14:38'"
      ]
     },
     "execution_count": 13,
     "metadata": {},
     "output_type": "execute_result"
    }
   ],
   "source": [
    "### test\n",
    "driver.get('https://cafe.naver.com/ca-fe/ArticleRead.nhn?clubid=20692649&page=1&inCafeSearch=true&searchBy=0&query=%EC%A0%84%EA%B8%B0%EC%B0%A8&includeAll=&exclude=&include=&exact=&searchdate=all&media=0&sortBy=date&articleid=1424190&referrerAllArticles=true')\n",
    "time.sleep(2)\n",
    "driver.switch_to.frame('cafe_main')\n",
    "driver.find_element_by_class_name('date').text\n",
    "driver.find_element_by_class_name('count').text"
   ]
  },
  {
   "cell_type": "markdown",
   "metadata": {},
   "source": [
    "### URL 주소 불러오기"
   ]
  },
  {
   "cell_type": "code",
   "execution_count": 9,
   "metadata": {
    "execution": {
     "iopub.execute_input": "2022-03-26T12:39:21.233090Z",
     "iopub.status.busy": "2022-03-26T12:39:21.232833Z",
     "iopub.status.idle": "2022-03-26T12:39:22.305878Z",
     "shell.execute_reply": "2022-03-26T12:39:22.304691Z",
     "shell.execute_reply.started": "2022-03-26T12:39:21.233056Z"
    },
    "tags": []
   },
   "outputs": [
    {
     "name": "stderr",
     "output_type": "stream",
     "text": [
      "\n",
      "\n",
      "====== WebDriver manager ======\n",
      "Current google-chrome version is 99.0.4844\n",
      "Get LATEST chromedriver version for 99.0.4844 google-chrome\n",
      "Driver [/home/miwoos/.wdm/drivers/chromedriver/linux64/99.0.4844.51/chromedriver] found in cache\n",
      "/tmp/ipykernel_361554/1503906442.py:1: DeprecationWarning: executable_path has been deprecated, please pass in a Service object\n",
      "  driver = webdriver.Chrome(ChromeDriverManager().install())\n"
     ]
    }
   ],
   "source": [
    "driver = webdriver.Chrome(ChromeDriverManager().install())"
   ]
  },
  {
   "cell_type": "code",
   "execution_count": 4,
   "metadata": {
    "execution": {
     "iopub.execute_input": "2022-03-26T12:34:33.602708Z",
     "iopub.status.busy": "2022-03-26T12:34:33.602188Z",
     "iopub.status.idle": "2022-03-26T12:37:50.655128Z",
     "shell.execute_reply": "2022-03-26T12:37:50.654684Z",
     "shell.execute_reply.started": "2022-03-26T12:34:33.602676Z"
    },
    "tags": []
   },
   "outputs": [
    {
     "name": "stderr",
     "output_type": "stream",
     "text": [
      "/tmp/ipykernel_361554/2415167858.py:12: DeprecationWarning: find_element_by_class_name is deprecated. Please use find_element(by=By.CLASS_NAME, value=name) instead\n",
      "  if driver.find_element_by_class_name(\"nodata\").text == '등록된 게시글이 없습니다.':\n",
      "/tmp/ipykernel_361554/2415167858.py:18: DeprecationWarning: find_element_by_xpath is deprecated. Please use find_element(by=By.XPATH, value=xpath) instead\n",
      "  b = driver.find_element_by_xpath('/html/body/div[1]/div/div[5]/table/tbody')\n",
      "/home/miwoos/anaconda3/lib/python3.9/site-packages/selenium/webdriver/remote/webelement.py:464: UserWarning: find_elements_by_class_name is deprecated. Please use find_elements(by=By.CLASS_NAME, value=name) instead\n",
      "  warnings.warn(\"find_elements_by_class_name is deprecated. Please use find_elements(by=By.CLASS_NAME, value=name) instead\")\n",
      "/tmp/ipykernel_361554/2415167858.py:21: DeprecationWarning: find_elements_by_class_name is deprecated. Please use find_elements(by=By.CLASS_NAME, value=name) instead\n",
      "  pops.append(driver.find_elements_by_class_name('td_view')[i].text)\n"
     ]
    }
   ],
   "source": [
    "address=[]\n",
    "pops=[]\n",
    "page= 0\n",
    "#while page < 0:\n",
    "while page < 43:\n",
    "    try:\n",
    "        time.sleep(1)\n",
    "        page+=1\n",
    "        driver.get(f'https://cafe.naver.com/ArticleSearchList.nhn?search.clubid=28497937&search.media=0&search.searchdate=all&search.exact=&search.include=&userDisplay=50&search.exclude=&search.option=0&search.sortBy=date&search.searchBy=0&search.includeAll=&search.query=%C4%A3%C8%AF%B0%E6&search.viewtype=title&search.page={page}')\n",
    "        driver.switch_to.frame(\"cafe_main\")\n",
    "        try:\n",
    "            if driver.find_element_by_class_name(\"nodata\").text == '등록된 게시글이 없습니다.':\n",
    "            # 무한으로 다음페이지로 넘어가는데 만약에 등록된게시글이 없습니다가 나오면 다음페이지로 넘어가는것을 멈춤\n",
    "                break\n",
    "        except:\n",
    "            pass\n",
    "\n",
    "        b = driver.find_element_by_xpath('/html/body/div[1]/div/div[5]/table/tbody')\n",
    "        for i in range(0,50):\n",
    "            address.append(b.find_elements_by_class_name('article')[i].get_attribute('href'))\n",
    "            pops.append(driver.find_elements_by_class_name('td_view')[i].text)\n",
    "       \n",
    "    except:\n",
    "        pass"
   ]
  },
  {
   "cell_type": "code",
   "execution_count": 7,
   "metadata": {
    "execution": {
     "iopub.execute_input": "2022-03-26T12:38:09.022465Z",
     "iopub.status.busy": "2022-03-26T12:38:09.022158Z",
     "iopub.status.idle": "2022-03-26T12:38:09.030946Z",
     "shell.execute_reply": "2022-03-26T12:38:09.030308Z",
     "shell.execute_reply.started": "2022-03-26T12:38:09.022427Z"
    },
    "tags": []
   },
   "outputs": [
    {
     "data": {
      "text/plain": [
       "2100"
      ]
     },
     "execution_count": 7,
     "metadata": {},
     "output_type": "execute_result"
    }
   ],
   "source": [
    "len(address)"
   ]
  },
  {
   "cell_type": "markdown",
   "metadata": {},
   "source": [
    "### 게시글 내용,제목,댓글 불러오기"
   ]
  },
  {
   "cell_type": "code",
   "execution_count": 15,
   "metadata": {},
   "outputs": [
    {
     "name": "stderr",
     "output_type": "stream",
     "text": [
      "C:\\Users\\alsdn\\AppData\\Local\\Temp/ipykernel_12264/4285009667.py:5: DeprecationWarning: find_element_by_class_name is deprecated. Please use find_element(by=By.CLASS_NAME, value=name) instead\n",
      "  if driver.find_element_by_class_name(\"title_text\")==None:\n",
      "C:\\Users\\alsdn\\AppData\\Local\\Temp/ipykernel_12264/4285009667.py:9: DeprecationWarning: find_element_by_class_name is deprecated. Please use find_element(by=By.CLASS_NAME, value=name) instead\n",
      "  title =driver.find_element_by_class_name(\"title_text\").text\n",
      "C:\\Users\\alsdn\\AppData\\Local\\Temp/ipykernel_12264/4285009667.py:10: DeprecationWarning: find_elements_by_tag_name is deprecated. Please use find_elements(by=By.TAG_NAME, value=name) instead\n",
      "  contents =driver.find_elements_by_tag_name('p')\n"
     ]
    },
    {
     "name": "stdout",
     "output_type": "stream",
     "text": [
      "우도전기차에서 직원 모십니다\n",
      "\n",
      "\n",
      "📢 '최저임금'은 임금의 최저수준을 정하고, 사용자에게 이 수준 이상의 임금을 지급하도록 하는 제도입니다.\n",
      "- 2022년 최저임금은 시간당 9,160원입니다.\n",
      "* 업체명 :  우도 전기차\n",
      "\n",
      "* 연락처 :  010-8663-8393\n",
      "\n",
      "* 근무지역 :  우도 \n",
      "\n",
      "* 채용정보 \n",
      "- 우도에서 전기차 직원모셔요\n",
      "급여 220만원\n",
      "점심 식대비 하루 1만원씩 지급합니다\n",
      "기숙사는 제공하며 공과금이나 따로 내는건 없습니다\n",
      "아침식사 저녁식사 제공해드립니다\n",
      "남자 25세에서 45세 사이 \n",
      "여자 25세에서 35세 사이 모십니다\n",
      "점심 식사는 근처 식당이나\n",
      "편의점에서 사서 드셔도 되고요\n",
      "가게에서 간식을주면 그것만 드셔도됩니다\n",
      "자세한 사항은 전화문의 부탁드립니다\n",
      "\n"
     ]
    }
   ],
   "source": [
    "driver.get(address[1])\n",
    "time.sleep(2)\n",
    "driver.switch_to.frame('cafe_main')\n",
    "try :\n",
    "    if driver.find_element_by_class_name(\"title_text\")==None:\n",
    "        title = '제목이없습니다.'\n",
    "except:\n",
    "    pass\n",
    "title =driver.find_element_by_class_name(\"title_text\").text\n",
    "contents =driver.find_elements_by_tag_name('p')\n",
    "content = ''\n",
    "for i,item in enumerate(contents):\n",
    "    content += contents[i].text+'\\n'\n",
    "print(title)\n",
    "print(content)"
   ]
  },
  {
   "cell_type": "code",
   "execution_count": 76,
   "metadata": {},
   "outputs": [
    {
     "name": "stderr",
     "output_type": "stream",
     "text": [
      "/tmp/ipykernel_106718/3517288520.py:4: DeprecationWarning: find_elements_by_class_name is deprecated. Please use find_elements(by=By.CLASS_NAME, value=name) instead\n",
      "  comments=driver.find_elements_by_class_name('text_comment')\n"
     ]
    },
    {
     "data": {
      "text/plain": [
       "True"
      ]
     },
     "execution_count": 76,
     "metadata": {},
     "output_type": "execute_result"
    }
   ],
   "source": [
    "driver.get(address[0])\n",
    "time.sleep(2)\n",
    "driver.switch_to.frame('cafe_main')\n",
    "comments=driver.find_elements_by_class_name('text_comment')\n",
    "comment = ''\n",
    "for k,com in enumerate(comments):\n",
    "    comment += comments[k].text+'\\n'\n",
    "        \n",
    "comment  == ''   "
   ]
  },
  {
   "cell_type": "markdown",
   "metadata": {},
   "source": [
    "### 주소 들어가서 내용 크롤링하기"
   ]
  },
  {
   "cell_type": "code",
   "execution_count": 10,
   "metadata": {
    "execution": {
     "iopub.execute_input": "2022-03-26T12:39:42.918327Z",
     "iopub.status.busy": "2022-03-26T12:39:42.918013Z",
     "iopub.status.idle": "2022-03-26T14:26:03.512538Z",
     "shell.execute_reply": "2022-03-26T14:26:03.510998Z",
     "shell.execute_reply.started": "2022-03-26T12:39:42.918295Z"
    },
    "tags": []
   },
   "outputs": [
    {
     "name": "stderr",
     "output_type": "stream",
     "text": [
      "  0%|                                                  | 0/2100 [00:00<?, ?it/s]/tmp/ipykernel_361554/2422836961.py:12: DeprecationWarning: find_element_by_class_name is deprecated. Please use find_element(by=By.CLASS_NAME, value=name) instead\n",
      "  if driver.find_element_by_class_name(\"nodata\").text == '삭제되었거나 없는 게시글입니다.':\n",
      "/tmp/ipykernel_361554/2422836961.py:19: DeprecationWarning: find_element_by_class_name is deprecated. Please use find_element(by=By.CLASS_NAME, value=name) instead\n",
      "  if driver.find_element_by_class_name(\"title_text\").text == None:\n",
      "/tmp/ipykernel_361554/2422836961.py:23: DeprecationWarning: find_element_by_class_name is deprecated. Please use find_element(by=By.CLASS_NAME, value=name) instead\n",
      "  title =driver.find_element_by_class_name(\"title_text\").text\n",
      "/tmp/ipykernel_361554/2422836961.py:29: DeprecationWarning: find_elements_by_tag_name is deprecated. Please use find_elements(by=By.TAG_NAME, value=name) instead\n",
      "  if driver.find_elements_by_tag_name('p')[0].text == None:\n",
      "/tmp/ipykernel_361554/2422836961.py:32: DeprecationWarning: find_element_by_xpath is deprecated. Please use find_element(by=By.XPATH, value=xpath) instead\n",
      "  contents =driver.find_element_by_xpath('/html/body/div/div/div/div[2]/div[2]/div[1]/div/div[1]/div/div').find_elements_by_tag_name('p')\n",
      "/home/miwoos/anaconda3/lib/python3.9/site-packages/selenium/webdriver/remote/webelement.py:359: UserWarning: find_elements_by_tag_name is deprecated. Please use find_elements(by=By.TAG_NAME, value=name) instead\n",
      "  warnings.warn(\"find_elements_by_tag_name is deprecated. Please use find_elements(by=By.TAG_NAME, value=name) instead\")\n",
      "/tmp/ipykernel_361554/2422836961.py:39: DeprecationWarning: find_elements_by_class_name is deprecated. Please use find_elements(by=By.CLASS_NAME, value=name) instead\n",
      "  comments=driver.find_elements_by_class_name('text_comment')\n",
      "/tmp/ipykernel_361554/2422836961.py:50: DeprecationWarning: find_element_by_class_name is deprecated. Please use find_element(by=By.CLASS_NAME, value=name) instead\n",
      "  link_boards.append(driver.find_element_by_class_name('link_board').text)### 필터링\n",
      "/tmp/ipykernel_361554/2422836961.py:51: DeprecationWarning: find_element_by_class_name is deprecated. Please use find_element(by=By.CLASS_NAME, value=name) instead\n",
      "  dates.append(driver.find_element_by_class_name('date').text)\n",
      "100%|█████████████████████████████████████| 2100/2100 [1:46:20<00:00,  3.04s/it]\n"
     ]
    }
   ],
   "source": [
    "titles = []\n",
    "contentss = []\n",
    "link_boards = []\n",
    "commentss = []\n",
    "dates=[]\n",
    "for element in tqdm(address):\n",
    "    try:\n",
    "        driver.get(element)\n",
    "        time.sleep(2)\n",
    "        driver.switch_to.frame('cafe_main')\n",
    "        try: \n",
    "            if driver.find_element_by_class_name(\"nodata\").text == '삭제되었거나 없는 게시글입니다.':\n",
    "                    break\n",
    "        except:\n",
    "                pass\n",
    "            \n",
    "        ### 제목 \n",
    "        try :\n",
    "            if driver.find_element_by_class_name(\"title_text\").text == None:\n",
    "                title = '제목이없습니다.'\n",
    "                pass\n",
    "            else:\n",
    "                title =driver.find_element_by_class_name(\"title_text\").text\n",
    "        except:\n",
    "            pass\n",
    "        \n",
    "        \n",
    "        ### 내용\n",
    "        if driver.find_elements_by_tag_name('p')[0].text == None:\n",
    "            contents =driver.find_element_by_xpath('/html/body/div/div/div/div[2]/div[2]/div[1]/div/div[1]/div/div').find_elements_by_tag_name('b')\n",
    "        else:\n",
    "            contents =driver.find_element_by_xpath('/html/body/div/div/div/div[2]/div[2]/div[1]/div/div[1]/div/div').find_elements_by_tag_name('p')\n",
    "        content = ''\n",
    "        for j,item in enumerate(contents):\n",
    "            content += contents[j].text+'\\n'\n",
    "        \n",
    "        \n",
    "        ### 댓글\n",
    "        comments=driver.find_elements_by_class_name('text_comment')\n",
    "        comment = ''\n",
    "        for k,com in enumerate(comments):\n",
    "            comment += comments[k].text+'\\n'\n",
    "        \n",
    "        if comment  == '':\n",
    "            comment = '댓글이없습니다.'\n",
    "        ### 추가\n",
    "        titles.append(title) ## 제목\n",
    "        contentss.append(content) ## 내용     \n",
    "        commentss.append(comment) ## 댓글 어펜드\n",
    "        link_boards.append(driver.find_element_by_class_name('link_board').text)### 필터링\n",
    "        dates.append(driver.find_element_by_class_name('date').text)\n",
    "\n",
    "    except:\n",
    "        pass"
   ]
  },
  {
   "cell_type": "markdown",
   "metadata": {},
   "source": [
    "## 만들어진 결과 데이터프레임으로 만들기"
   ]
  },
  {
   "cell_type": "code",
   "execution_count": 11,
   "metadata": {
    "execution": {
     "iopub.execute_input": "2022-03-26T15:06:45.549462Z",
     "iopub.status.busy": "2022-03-26T15:06:45.549003Z",
     "iopub.status.idle": "2022-03-26T15:06:45.627572Z",
     "shell.execute_reply": "2022-03-26T15:06:45.626851Z",
     "shell.execute_reply.started": "2022-03-26T15:06:45.549372Z"
    }
   },
   "outputs": [
    {
     "data": {
      "text/html": [
       "<div>\n",
       "<style scoped>\n",
       "    .dataframe tbody tr th:only-of-type {\n",
       "        vertical-align: middle;\n",
       "    }\n",
       "\n",
       "    .dataframe tbody tr th {\n",
       "        vertical-align: top;\n",
       "    }\n",
       "\n",
       "    .dataframe thead th {\n",
       "        text-align: right;\n",
       "    }\n",
       "</style>\n",
       "<table border=\"1\" class=\"dataframe\">\n",
       "  <thead>\n",
       "    <tr style=\"text-align: right;\">\n",
       "      <th></th>\n",
       "      <th>제목</th>\n",
       "      <th>내용</th>\n",
       "      <th>날짜</th>\n",
       "      <th>게시글</th>\n",
       "      <th>댓글</th>\n",
       "    </tr>\n",
       "  </thead>\n",
       "  <tbody>\n",
       "    <tr>\n",
       "      <th>0</th>\n",
       "      <td>美빅테크 독점 막자…EU '디지털시장법' 도입</td>\n",
       "      <td>美빅테크 독점 막자…EU 디지털시장법 도입 | 한경닷컴 (hankyung.com)\\n</td>\n",
       "      <td>2022.03.26. 16:22</td>\n",
       "      <td>자유게시판</td>\n",
       "      <td>그럴시간에 너희 기업이나 좀 키워라 ㅉㅉ\\n유럽은 이미 망했어요.. 새로운 사업 투...</td>\n",
       "    </tr>\n",
       "    <tr>\n",
       "      <th>1</th>\n",
       "      <td>메모</td>\n",
       "      <td>\\n# 인베스팅 닷컴 기준 날짜라 틀릴수 있음\\n# 본격적인 유가 상승분의 실적이 ...</td>\n",
       "      <td>2022.03.26. 00:39</td>\n",
       "      <td>자유게시판</td>\n",
       "      <td>주식생각정리인가요?\\n네\\n제가 관심있는 내용이랑 앞으로 어떻게 대응할까 생각해서 ...</td>\n",
       "    </tr>\n",
       "    <tr>\n",
       "      <th>2</th>\n",
       "      <td>유가 250달러까지 갈 수 있다는 조선일보 기사 ㅋㅋㅋ</td>\n",
       "      <td>https://n.news.naver.com/article/366/000080212...</td>\n",
       "      <td>2022.03.25. 21:45</td>\n",
       "      <td>글로벌뉴스</td>\n",
       "      <td>100넘을지 누가알았나유\\n그건 그런데 100달러까지는 이전에도 좀 갔으니까요.\\n...</td>\n",
       "    </tr>\n",
       "  </tbody>\n",
       "</table>\n",
       "</div>"
      ],
      "text/plain": [
       "                               제목  \\\n",
       "0       美빅테크 독점 막자…EU '디지털시장법' 도입   \n",
       "1                              메모   \n",
       "2  유가 250달러까지 갈 수 있다는 조선일보 기사 ㅋㅋㅋ   \n",
       "\n",
       "                                                  내용                 날짜  \\\n",
       "0    美빅테크 독점 막자…EU 디지털시장법 도입 | 한경닷컴 (hankyung.com)\\n  2022.03.26. 16:22   \n",
       "1  \\n# 인베스팅 닷컴 기준 날짜라 틀릴수 있음\\n# 본격적인 유가 상승분의 실적이 ...  2022.03.26. 00:39   \n",
       "2  https://n.news.naver.com/article/366/000080212...  2022.03.25. 21:45   \n",
       "\n",
       "     게시글                                                 댓글  \n",
       "0  자유게시판  그럴시간에 너희 기업이나 좀 키워라 ㅉㅉ\\n유럽은 이미 망했어요.. 새로운 사업 투...  \n",
       "1  자유게시판  주식생각정리인가요?\\n네\\n제가 관심있는 내용이랑 앞으로 어떻게 대응할까 생각해서 ...  \n",
       "2  글로벌뉴스  100넘을지 누가알았나유\\n그건 그런데 100달러까지는 이전에도 좀 갔으니까요.\\n...  "
      ]
     },
     "execution_count": 11,
     "metadata": {},
     "output_type": "execute_result"
    }
   ],
   "source": [
    "df=pd.DataFrame({\"제목\":titles ,\"내용\":contentss,'날짜':dates,'게시글':link_boards\n",
    "                 , \"댓글\":commentss})\n",
    "df.to_csv('미주미.csv',index=False)\n",
    "df.head(3)\n"
   ]
  },
  {
   "cell_type": "code",
   "execution_count": 15,
   "metadata": {
    "execution": {
     "iopub.execute_input": "2022-03-26T15:09:56.145664Z",
     "iopub.status.busy": "2022-03-26T15:09:56.145432Z",
     "iopub.status.idle": "2022-03-26T15:09:56.156994Z",
     "shell.execute_reply": "2022-03-26T15:09:56.156280Z",
     "shell.execute_reply.started": "2022-03-26T15:09:56.145632Z"
    },
    "tags": []
   },
   "outputs": [
    {
     "data": {
      "text/plain": [
       "댓글이없습니다.                                                                                                                                                                                                                                                                                                                                                                                                                                                                                                                                                                                                                                                                                                                                                                                                                                                                                                                                                                                                                                                                                                                                                                                                                                                                                                                                                                                                                                                                                                                                                                                                                                                                                                                                                                                                                                                                                                                                                                                                                                                                                                                                                                                                                                                                                                                                                                                                                                                                                                                                                                                                                                                                                                                                                                                                                                                                                                                                                                                                                                                                            78\n",
       "\\n                                                                                                                                                                                                                                                                                                                                                                                                                                                                                                                                                                                                                                                                                                                                                                                                                                                                                                                                                                                                                                                                                                                                                                                                                                                                                                                                                                                                                                                                                                                                                                                                                                                                                                                                                                                                                                                                                                                                                                                                                                                                                                                                                                                                                                                                                                                                                                                                                                                                                                                                                                                                                                                                                                                                                                                                                                                                                                                                                                                                                                                                                   6\n",
       "감사합니다\\n                                                                                                                                                                                                                                                                                                                                                                                                                                                                                                                                                                                                                                                                                                                                                                                                                                                                                                                                                                                                                                                                                                                                                                                                                                                                                                                                                                                                                                                                                                                                                                                                                                                                                                                                                                                                                                                                                                                                                                                                                                                                                                                                                                                                                                                                                                                                                                                                                                                                                                                                                                                                                                                                                                                                                                                                                                                                                                                                                                                                                                                                              3\n",
       "좋은 정보 공유 감사합니다^^\\n좋은 정보 감사합니다\\n좋은 정보 감사합니다.\\n\\n감사합니다.\\n시작한지 일주일된 주린이라서 다 처음 들어보는 기업이네요.찾아봐야 겠어요.좋은 정보 감사합니다^^\\n정말정말 감사드립니다.\\n\\nNEE같은 회사는 부시 말고 고어가 대통령이 됐으면 정말 대단했을텐데요.. 결국은 트럼프 정부인데도 성장하네요.ㅡ 대세인 듯...\\n만약 트럼프가 재선에 성공해서 조정오면 줍줍 기회로 보고 추매할 생각입니다. 어차피 세계적 추세가 친환경이 대세라서 배당 받으면서 장투하려구요 ㅎㅎ\\n저도 같이 동참하겠습니다. 이런 회사가 성공해야 지구를 살리죠.\\n네 같이 지구를 살립시다!\\n좋은 정보 감사합니다\\n공유 감사드립니다^^\\nnee 랑 wm 투자중이에용 ㅎ\\n오늘 spgi 내려가면 들어갈까 생각중이에여\\n공유감사드립니다~\\nspgi는 단기적으론 고평가라는 의견도 있더라구요. 내려갈 때 사는것도 좋은거 같아요 ㅎㅎ\\n아 저번에 뉴스 본바로는 미국이 2050년까지 풍력발전으로 500조 사용할계획이라고 발표했다고 하네여 ㅋㅋㅋ\\n정보 감사합니다^^\\n좋은 정보 감사합니다\\n좋은정보 김사합니다\\n감사합니다. WM한번 공부해봐야겠네요 ㅇㅅㅇ\\n제약과 Medical Devices, Tools 쪽 (전반적인 헬스케어쪽)에도 10년 20년후에도 계속 유망할 회사들이 많이 있습니다.\\n네 감사합니다 ㅎㅎ 찾아보겠습니다 ㅎㅎ\\n사고픈 종목이 너무 많네요 정보 감사합니다\\nspgi 진퉁이죠 나는 왜 매도했는가 ㅜ\\n최고세요♡\\n정보 감사합니다!\\n오우 좋은정보 감사합니다 ^^\\n정보 감사해요~\\n감사합니다\\nwm좋네요 꾸준히 배당도 올려주구요 ㅎ\\n좋은정보감사드립니다\\n감사합니다\\n네 맞아요. 하루단위 주가등락에 일희일비 할필요 없고 일상생활에 지장을 안주는 주식들이죠 ㅎㅎ\\n좋네요\\n요즘에 열심히 공부하다가\\n문득 든 생각이 목표 수익률 좀 낮추고\\n\\n올웨더로 1년에 한번만 밸런싱하고\\n취미생활 시간을 좀 늘리는게 낫지 않나 생각 하네요\\n감사합니다\\n최근 주가가 하락하고 있지만 AMT, PLD도 위 조건에 들어가는 기업들이라고 생각합니다.ㅎㅎ\\nNee 탐나네요 ㅎㅎ\\n감사헙니다\\n감사합니다\\n감사합니다.\\n감사합니다\\n와 이런글 너무 좋아요. 자세히 살펴봐야겠어요. 감사합니닷\\nlin\\n감사합니다\\n좋은 정보 감사합니다\\n정보 고맙습니다\\n감사합니다. ^^\\n살펴봐야겠습니다.\\n좋은정보 감사합니다~ 챙겨볼것!\\n감사합니당\\n정보 감사해요\\n감사감사^^\\n초보에게는 정말 좋은 글이에요 감사합니다\\n감사합니다\\n좋은정보 감사드려요\\n감사합니다\\n좋은정보감사합니다\\n감사합니다.\\n미주식 처음 하는사람에게 정말 유용한 정보입니다.\\n감사합니다.\\n\\n존정보감삼돠~\\n감사합니다.\\nWM은 처음 들어보는데 앞으로 더 좋아질거같은 기업이네요 ㅎㅎ\\n저도 NEE는 적립식으로 모아가려고 생각하고 있습니다. 에너지에 관심이 많아서요~\\n미국 주식은 우상향하는 종목이 정말 많은거 같아요\\n감사합니다\\n저도 열심히 공부하다보면 이렇게 분석하고 종목을 선정할 수 있는 날이 오겠죠? ㅎㅎ 감사합니다.\\n감사합니다 ㅎㅎ\\nWM! 정보 감사드려요\\n폐기물업체 미주미 강의에서 들은거 같은데 다시 한번찾아봐야겠어요! 감사합니다\\n정보 감사합니다!\\n좋은정보 감사합니다.\\n감사해요\\n미국주식은 살게 많아서 좋네요 ㅎ\\n맘 편한 주식 추천 고맙습니다.\\n정보 너무 감사합니다~\\n좋은 정보 고마워요~~^^\\n좋운 글 감사해요\\n감사합니다\\n좋은정보 감사드립니다..^^\\n초보가 감사히 담아갑니다\\n한국인이 사랑하는 가치주?인 워크호스, 니콜라, 니오등 전기차관련 과 슈레딩거 같은 바이오 주의 3년후 어떻게 보시나요?\\n워크호스, 니콜라 같은 기업들은 가치주라기보다는 성장기대주, 성장주라고 해야 할 거 같네요. 가치주는 기업 실제가치보다 낮은 가격에 거래되는 주식을 말하는거라서...\\n적어주신 기업들의 미래는 업계에 몸담고 있거나 내부자들 제외하면 정확히 알 수 있는 사람들은 거의 없지 않을까요?\\n사업초기에 있는 기업들인데 기대감에 주가가 뛴 상태라서, 잘되면 대박 기대만큼 못되면 쪽박이겠죠.\\n저는 이런 주식들보다는 이미 독과점적 지위에 있어서 안정적으로 중간정도의 리턴을 주는 주식 위주(본문에 있는 주식들)로 가져갈 예정입니다.\\n감사합니다.\\n감사합니다\\n나연홀릭스님 방갑고 감사합니다\\n나연홀릭스님 방갑고 감사합니다\\n\\n\\n\\n\\nㅇㅇㅇㅇㅇㅇㅇㅇㅇㅇㅇㅇㅇㅇㅇ\\n좋은 정보 감사합니다.^^\\n감사합니다. 많은 도움이 됩니다.\\n저도 nee 관심있게 지켜보고 있습니다. 향후 20년 내다봤을때 기술주보다 유틸리티주가 더 안정성있게 올라갈거같아서요.\\n맞아요. 미국은 전력 공급의 75프로가 민영화되어 있어서 투자할 만한 가치가 있는 거 같아요. NEE는 미국 전역으로 태양광, 풍력시설 늘려가고 있어서 확장성도 있고요. 태양광 ess 및 스마트 그리드 발전으로 인한 분산형 에너지원의 등장이 리스크이긴한데, 아직은 먼 얘기여서 당분간은 걱정 안해도 될거 같네요.\\n참고하겠습니다 감사합니다\\n정보 감사합니다.\\n좋은정보 감사합니다.\\n정보 감사합니다. 관종에 넣어놓고 봐야겠어요\\n좋은 정보 감사합니다\\n굿\\n감사합니다.\\n좋은 정보 감사합니다\\n                                                                                                                                                                                                                                                                                                                                                                                                                 3\n",
       "전기차로 바꾸게되면 기존 생산라인과 관련 인력들 하청 모두 비용으로 처리되죠ㅠ\\n맞습니다ㅎㅎ\\n개인적으로 기가베를린에 기대하는것중 하나가 차에 관해서는 독일이 유명하니 완성도를 높일 인력들을 충원해 퀄리티를 높일것같습니다\\n마치 카카오뱅크 출범때 기존은행권 과장급들 싹쓸이해간것과 비슷하군요ㅋㅋ\\n감사합니다..!타이칸이 포르쉐가 동력계를 안 만들면 외주업체는 혹시 어딘지 알 수 있을까요?\\n리막오토모빌리 용\\n\\n'그런 문제들이 대세를 거스르는 문제는 아니라는게 핵심'\\n\\n현업에 계신 분의 통찰이 느껴집니다...\\n예전부터 봐 오던 회산데 갑자기 떡상하니 노이즈가 참 많은것같네요ㅎㅎ\\n좋은정보감사합니다~\\n도움되셨길바랍니다~\\n현직자분답게 큰 흐름에서 잘 설명해 주셨네요.\\n\\n테슬라에 큰 기대를 가지고 있는 주주 입장에서 차량완성도까지 높여서 압도적인 모습을 계속 보였으면 하는 욕심이 드네요. ㅎㅎ\\n\\n좋은 글 감사합니다.\\n물론 앞으로의 미래는 알지 못 합니다.\\n다만 현재의 상황은 이러하다~정도로 참고해주시면 될것같습니다ㅎㅎ\\n댓글 보면 외계인 고문시켜서 만든다던 포르쉐도 쉽지않나보네요\\n폴쉐 2대째 타고 있는데, 정말 만족합니다. 근데 뭔가 느낌상 훗날에는 롤렉스처럼 되지 않을까 싶네요.\\n전기차는 외형은비슷하지만 완전새로운것으로 보아야합니다\\n마치 스위스브랜드의 시계제조사와 애플워치처럼요\\n와ㅎㅎ 댓글적고왔더니 딱 로렉스로 비교하셨네요 제생각도 그러합니다ㅎㅎ 테슬라가 아무리 뛰어나도 991 mk1의 8000rpm의 배기음은 절대 흉내내지 못할것같습니다ㅎㅎ\\n애플워치가 아무리 많은 기능을 가지더라도\\n로렉스의 감성과 헤리티지는 넘을수가 없는것처럼\\n투자전문가가 아니라 매수해라 매도해라는 없습니다ㅎㅎ 그저 산업의 흐름과 시장분위기만..\\n별볼일 없는글입니다ㅠㅠ\\n포르쉐 타이칸이 테슬라 모델S의 대략 2배 정도 되는 가격임에도 퍼포먼스 측면에서 앞지르지도 못하고 주율주행부분에서도 앞지르지도 못했고...\\n최근에 나온 벤츠 EQC, 아우디 E-트론은 거의 1억원 넘는 가격인데, 6천만원대인 모델Y보다 좋은점이 뭔지 잘 모르겠더군요.\\n물론 감성의 부분인 내장, 외장 완성도는 포르쉐, 벤츠, 아우디가 당연히 훨씬 좋습니다 ㅎㅎㅎ\\n정답을 말씀해주셨네요ㅎㅎ\\n기존 내연기관 자동차업계가 전기차로 급속히 방향을 틀기 힘든 이유가 또 하나 있죠.\\n\\n바로 노조..\\n분명 극렬하게 저항하고 변화를 거부할 겁니다.\\n(노조 하면 국내 민주노총을 떠올리는 분들이\\n많겠지만 독일 노조도 만만치 않음)\\n\\n전기차는 내부 구조가 내연기관차에 비해 현격할 정도로 간결하기 때문에 부품 수도 1/3미만\\n이고 그만큼 손도 덜 갑니다.\\n\\n전기차로 순식간에 바꾼다면 기존 내연기관차 라인에 깔리던 조립인원의 2/3가\\n정리해고 되어야 하죠.\\n\\n그리고 내연기관차의 대표적 부품인 엔진과\\n미션이 전기차엔 필요없습니다.\\n엔진을 만드는 현대계열사인 현대위아, 미션을\\n만드는 현대계열사인 현대파워텍..\\n한순간에 전기차로 전환한다면 이런 회사들 다 문닫아야돼요.\\n그에 딸린 임직원들도 다 잘라야 하고..\\n\\n현대계열사뿐만 아니라 현대에 납품하는 2차,\\n3차 협력업체들 수백개와 그에딸린 인력들\\n수십만명의 일자리가 날아갑니다.\\n정부가 가만히 있을까요?\\n\\n내연기관과 전기차의 구조는 바퀴 네개\\n달린 것과\\n섀시골격 빼고는 다 다르다고 봐도 무방할 정도예요.\\n\\n그래서 처음부터 전기차로 시작한 테슬라에\\n강점이 있는겁니다.\\n이런 걱정없이 바로 전기차 하나만 갖고 직진할 수 있기 때문에\\n완전히 동감하는 내용입니다\\n기존 내연기관 자동차의 강자인 벤비아, 폭바, 도요타 등이\\n전기차로 본격적으로 뛰어들면 신생 테슬라쯤은\\n바로 뛰어넘을 걸로 생각하시는 분들이 많은데\\n\\n독일이든, 미국이든, 일본이든 위의 이유때문에\\n(노조의 저항, 내연기관에 맞춰진 협력, 산하업체들의 연쇄부도) 쉽게 못움직입니다.\\n\\n현대도 아이오닉, 코나 전기차 등 전기차 시대로의 변화를 위해 슬슬 준비는 하고있는데\\n본격적으로 비중을 높여 뛰어들기엔 꽤 많은 어려움이 있을 거예요.\\n\\n기타 다른 내연기관 전통의 강자들도 마찬가지이고요.\\n현직 계신분이라 더 맘에 와닿습니다\\n좋은 글 감사합니다 ~\\n도움되셨길 바랍니다~\\n주가의 향방은 잘 모르겠습니다ㅎㅎ\\n테슬라 자체가 etf라는 의견 신선하네요\\n의견 감사드립니다\\n오 테슬라 자체가 etf이다~굉장히 신선하네요 덕분에 테슬라를 바라보는 시각이 달라질거같습니다\\n오 신선한 생각이네요 테슬라 자체가 etf\\n맞습니다. 기존 내연기관 사업 때문에 전기차에 올인못하죠. 인력은 한정 되어있는데, 전기차쪽으로 인력 배분이 적절히 될까요. ㅎㅎ\\n사실 제대로 하고 싶으면 아예 분사를 하는게 답입니다. 하지만 분사를 하게되면 천문학적인 투자금이 들어가는데 적자를 수년간 유지 할수 있을까하는 생각이 드네요. 성공은 불투명하구요.\\n현실적으로 전기차 개발하는 돈이면 내연기관 모델 여러개 개발해서 당장 돈 벌 수 있기 때문에, 전기차 쪽으로 리소스를 집중시키는건 쉽지 않은 길입니다.\\n구구절절 맞는말씀이십니다\\n테슬라가 대세라는데는 이견이 없습니다. 그런데 궁금한게 하나 있어 질문드립니다. 작성자님은 전기차 시대가 오면 직장을 잃으시는건가요? 그 많은 자동차업계 근로자들은 어떻게 되는걸까요?\\n다행히 생산직이 아니라 조금은 다행이겠군요.\\n전기차시대가 오더라도 기존 자동차브랜드가 완전 사라지진 않을거에요. 다만 기존 내연기관을 생산하던 하청업체는 다 사라진다고 봐야죠.\\n자동차산업 뿐만 아니라, 늘 세상은 변화해왔습니다. 그에 적응하리라 봅니다.\\n계산기와 컴퓨터가 공급되면서 주산학원이 다 사라졌죠..그렇다고 그 분들이 길거리에 앉지는 않듯이..\\nㅎㅎ 그쵸 주산학원뿐만 아니라 컴퓨터학원에서 도스 베이직 이런것도 배웠었죠...\\n좋은 의견 잘 보았습니다\\n판매쪽 일하셨나보네요\\nhttps://m.blog.naver.com/hjy4617/222033655260\\n통찰력이 느껴집니다 좋은 글 잘 읽었습니다\\n     2\n",
       "                                                                                                                                                                                                                                                                                                                                                                                                                                                                                                                                                                                                                                                                                                                                                                                                                                                                                                                                                                                                                                                                                                                                                                                                                                                                                                                                                                                                                                                                                                                                                                                                                                                                                                                                                                                                                                                                                                                                                                                                                                                                                                                                                                                                                                                                                                                                                                                                                                                                                                                                                                                                                                                                                                                                                                                                                                                                                                                                                                                                                                                                                    ..\n",
       "좋은소식이네요 감사합니다~\\n\\n감사해요👍\\n\\n역시 빵나루님, 매번 빠른 소식 정말 감사합니다!\\n확인된 사실은 아니기에ㅋㅋ그냥 좋은소식 들려오면 좋고 아님 말고 정도로 받으들이면 될거같아요^^\\n좋은소식 감사합니다 :)\\n\\n좋은 소식 고맙습니다\\n\\n소식 감사합니다\\n\\n그래서 현재시간 기준 5.79% 상승중요? ㅋㅋ 떨어지지말래이~~ 쮹~~~가래이~~~\\n앗.. 6.11%로 바꼈어요 ㅋㅋ\\n쭉쭉 오르고잇네요ㅋㅋ장 초반에 너무 급등하면 갈수록 힘빠지는 경우가 많아서...ㅠㅠ상승세가 쭉 이어지길 바래봅니다~!\\n정보 감사합니다~ 락업해제때매 무서워서 쫄고있어요\\n오호~~♡\\n머가됐든 멋지네요\\n빵나루님 감사합니다 ^-^\\n감사합니다. 락업때 떨어지면 더 줏을 준비 되어있습니다ㅎㅎ 빵나루님 덕분에 편안하게 지켜보고 있습니다\\n어 장투종목 대니머 안 샀다 뭐 몇 개월 뒤에 담아야겠네요. 축하드려요\\n작은소식이라도 님 덕에 알수있다는것에 대해 감사하게 생각합니다^^\\n한상 소식 감사합니다. 익절하고 락업 해제 날을 기다리고 있습니다. 현금화 100프로 해놨어요. 기업은 믿고 있습니다!!!\\n가즈아~~~\\n감사합니다. 대니머 대장님\\n역시 빵나루님 따따봉\\nㅋㅋㅋ 좋은소식 있어서 좋네요\\n좋은 정보 감사드립니다~~~\\n                                                                                                                                                                                                                                                                                                                                                                                                                                                                                                                                                                                                                                                                                                                                                                                                                                                                                                                                                                                                                                                                                                                                                                                                                                                                                                                                                                                                                                                                                                                                                                                                                                                                                                                                                                                                                                                                                                                                                                                                                                                                                                                                                                                                                                                                                                                                                                                                                            1\n",
       "제가 아이낳는다면\\nIVV 50%\\nQQQ 50%\\n이렇게 투자할것같네요~\\n저는 qld 올인\\n제가 너무 종목이 많은가 싶기도 했어요 집중과 선택 고민해볼께요 감사합니다^^\\nIVV 40%\\nQQQ 40%\\nARKK 20%\\n전 이렇게 갑니다 ㅎ\\n다들 s&p, qqq 에 비중 높이 넣으시네요 저도 비룽 늘리는 방향 고민해볼께요 감사합니다^^\\n저라면 vti를 스파이와 큐큐큐에 적절히 분산하겠습니다.\\n다들 스파이, 큐큐큐 많이 추천하시네요 비중을 늘려볼까봐요 감사합니다^^\\n차라리 VT 70%, 현금성자산 30% 정도 들고 가시는 것도 방법입니다. 윌리엄 번스타인의 If you can에서는 그냥 미국전체주식33%, 미국제외전세계주식33%, 미국채권지수 33%로 투자하라고 간단히 말합니다. VT가 전세계 ETF이니 리밸런싱도 필요없고 좋아보입니다.\\n그책은 안읽어봤는데 읽어볼께요\\n조언 감사합니다^^\\nsnp500에 40프로 qqq에 40프로 반도체 etf20프로요 애들껀 팔지못하니까 개별주식은 못하겠더라고요 하지만 말씀하신 구글 아마존 애플 나이키 디즈니,이런건 적어도 15년은 끄덕없을것 같긴하네요\\nsnp, qqq 다들 많은 비중 넣으시네요, 저도 늘리는 방향으로 고민해볼까봐요^^\\n고민하신만큼 좋은결과가 나오시길 바래요\\n감사합니다^^\\n                                                                                                                                                                                                                                                                                                                                                                                                                                                                                                                                                                                                                                                                                                                                                                                                                                                                                                                                                                                                                                                                                                                                                                                                                                                                                                                                                                                                                                                                                                                                                                                                                                                                                                                                                                                                                                                                                                                                                                                                                                                                                                                                                                                                                                                                                                                                                                                                           1\n",
       "2퍼먹고들어가서 3퍼먹고 나왔어요.살생각이 없었는데 갑자기산거라 다음기회가된다면. . .챠트랑 사업이 괜찮아구매했다 편차가 심해서팔았어요.제생각엔 가격적당해보이는데 성투하세요\\n태양광이라면 짜장면주식인 융기실리콘도 추천합니다.\\n                                                                                                                                                                                                                                                                                                                                                                                                                                                                                                                                                                                                                                                                                                                                                                                                                                                                                                                                                                                                                                                                                                                                                                                                                                                                                                                                                                                                                                                                                                                                                                                                                                                                                                                                                                                                                                                                                                                                                                                                                                                                                                                                                                                                                                                                                                                                                                                                                                                                                                                                                                                                                                                                                                                                                                                                                                                                                                                                                     1\n",
       "재직회사별로 다르더라고요\\n제남편은 하나은행 dc형 10년 정기예금 상품으로 가입되어있었다는요.. 저도 미국 블루칩만있고 나머지는 없더라구요. 저도 찾고 있네요.. ㅠ.ㅠ\\n은행에 직접 물어봐야할까요... 하 ㅠㅠ 저 글쓴이 분이 찾는 펀드가 있으면 바로 적립식 투자 했을텐데요 ㅠㅠㅠ\\n근데 etf를 모아 놓은 펀드인데 미국 그러스나 미국 인덱스가 어차피 qqq 처럼 모아놓은 펀드라 그렇게 차이 가 있을까 싶기도 하고 해서 저는 그냥 ab미국 그로스랑 삼성글로벌 선진국 이런거 들긴했어요 ㅋ\\nDC형의 묘미는 투자인데...정기예금이라니 ㅜ.ㅜ\\n제가 6년전쯤 회사에서 전환기회 나오자마자 dc로 전환했었는데 당시 저희회사는 보험사 위주였어요..\\n어차피 제가 운용할거라 상관없었고 교보생명이 적당한 펀드들이 있어서 가입했고 최근에 꽃을 피고 있습니다.\\n퇴직연금이란 특성상 위험상품(주식)에는 70% 제한있고 나머지는 채권등 안전자산 배정해야 합니다.\\n얼른 알아보시고 투자상품으로 하세요..저는 6~7개 펀드상품으로 운용중이고 상황에 따라 한두개씩 리밸런싱합니다.\\n저도 이번에 전환할려고하는데 펀드말고 etf투자는 안되나요??\\n증권사시면 가능하지만 은행에 묶여있고 증권사 이전불가능하시다면 etf투자는 불가능하고 펀드 tdf만 가능합니다 ㅠㅠ\\n아그렇군요 감사합니다\\n저희도 교보생명인데 안전자산은 어떤 포트폴리오로 운영하시나 궁금해요 ^^ 최근에 ETF가 가능하게되서 70퍼센트는 그걸로 해볼까해요\\n안전자산30%는 TDF펀드 하시고\\n펀드도 찾아보면 좋은거 많습니다.\\n4차산업관련이나 친환경 등등\\n                                                                                                                                                                                                                                                                                                                                                                                                                                                                                                                                                                                                                                                                                                                                                                                                                                                                                                                                                                                                                                                                                                                                                                                                                                                                                                                                                                                                                                                                                                                                                                                                                                                                                                                                                                                                                                                                                                                                                                                                                                                                                                                                                                                                                                                              1\n",
       "광산 매입 스펙주 한데요\\n저는 희토류에 관심있어서 몇주 담았는데 회사 방향은 좋은것같은데 리스크도 있어서 오늘 프장에 떨쳐냈습니다.\\n위험한 만큼 ㆍ성공시 이득도 커겠죠\\n친환경 채굴이라는 유일한 독점 기술이 크죠\\n얘들 실적발표가 6월인가 7윌인데, 그때 작년보다 호전된 실적나오면 재무재표때문에 못오르던 상승분이 오를수도 잇겟죠. 지금 재무 불안한건 사실이지만 작년 철강용탄 가격이 너무싸서 이익 떨어진거나, 아예 시설 돌리지못한 걸 생각하면 계속 저 재무상태는 아닐거라 생각합니다. 미중갈등은 미소갈등처럼 장기화될 가능성이 높기때문에 아이템 자체가 나쁘지않다면 그 이후는 투자자가 믿는만큼 사고 넣는 상황일겁니다~\\n친환경+희토류 관련주죠\\n                                                                                                                                                                                                                                                                                                                                                                                                                                                                                                                                                                                                                                                                                                                                                                                                                                                                                                                                                                                                                                                                                                                                                                                                                                                                                                                                                                                                                                                                                                                                                                                                                                                                                                                                                                                                                                                                                                                                                                                                                                                                                                                                                                                                                                                                                                                                                                                                                                                                                                                                                                                                                                                                                                          1\n",
       "Name: 댓글, Length: 1861, dtype: int64"
      ]
     },
     "execution_count": 15,
     "metadata": {},
     "output_type": "execute_result"
    }
   ],
   "source": [
    " df.댓글.value_counts()"
   ]
  },
  {
   "cell_type": "code",
   "execution_count": 14,
   "metadata": {},
   "outputs": [
    {
     "data": {
      "text/plain": [
       "422"
      ]
     },
     "execution_count": 14,
     "metadata": {},
     "output_type": "execute_result"
    }
   ],
   "source": [
    "len(link_boards)\n"
   ]
  },
  {
   "cell_type": "code",
   "execution_count": 15,
   "metadata": {},
   "outputs": [
    {
     "data": {
      "text/plain": [
       "422"
      ]
     },
     "execution_count": 15,
     "metadata": {},
     "output_type": "execute_result"
    }
   ],
   "source": [
    "len(commentss)"
   ]
  },
  {
   "cell_type": "code",
   "execution_count": 16,
   "metadata": {},
   "outputs": [
    {
     "data": {
      "text/plain": [
       "422"
      ]
     },
     "execution_count": 16,
     "metadata": {},
     "output_type": "execute_result"
    }
   ],
   "source": [
    "len(titles)"
   ]
  },
  {
   "cell_type": "code",
   "execution_count": 17,
   "metadata": {},
   "outputs": [
    {
     "data": {
      "text/plain": [
       "422"
      ]
     },
     "execution_count": 17,
     "metadata": {},
     "output_type": "execute_result"
    }
   ],
   "source": [
    "len(contentss)"
   ]
  },
  {
   "cell_type": "code",
   "execution_count": 18,
   "metadata": {},
   "outputs": [
    {
     "data": {
      "text/plain": [
       "1013"
      ]
     },
     "execution_count": 18,
     "metadata": {},
     "output_type": "execute_result"
    }
   ],
   "source": [
    "len(address)"
   ]
  },
  {
   "cell_type": "code",
   "execution_count": 19,
   "metadata": {},
   "outputs": [
    {
     "data": {
      "text/plain": [
       "422"
      ]
     },
     "execution_count": 19,
     "metadata": {},
     "output_type": "execute_result"
    }
   ],
   "source": [
    "len(dates)"
   ]
  },
  {
   "cell_type": "code",
   "execution_count": 20,
   "metadata": {},
   "outputs": [
    {
     "data": {
      "text/plain": [
       "1013"
      ]
     },
     "execution_count": 20,
     "metadata": {},
     "output_type": "execute_result"
    }
   ],
   "source": [
    "len(pops)"
   ]
  },
  {
   "cell_type": "code",
   "execution_count": 28,
   "metadata": {},
   "outputs": [],
   "source": [
    "# df1 = pd.DataFrame({'제목':titles})\n",
    "# df2 = pd.DataFrame({'내용':contentss})\n",
    "# df3 = pd.DataFrame({'주소':address})\n",
    "# df4 = pd.DataFrame({'시간':dates})\n",
    "# df5 = pd.DataFrame({'조회수':pops})\n"
   ]
  },
  {
   "cell_type": "code",
   "execution_count": 29,
   "metadata": {},
   "outputs": [],
   "source": [
    "# df1.to_csv('제사모1.csv',index=False)\n",
    "# df2.to_csv('제사모2.csv',index=False)\n",
    "# df3.to_csv('제사모3.csv',index=False)\n",
    "# df4.to_csv('제사모4.csv',index=False)\n",
    "# df5.to_csv('제사모5.csv',index=False)"
   ]
  },
  {
   "cell_type": "code",
   "execution_count": 10,
   "metadata": {},
   "outputs": [
    {
     "name": "stdout",
     "output_type": "stream",
     "text": [
      "<class 'pandas.core.frame.DataFrame'>\n",
      "RangeIndex: 1001 entries, 0 to 1000\n",
      "Data columns (total 3 columns):\n",
      " #   Column  Non-Null Count  Dtype \n",
      "---  ------  --------------  ----- \n",
      " 0   제목      1001 non-null   object\n",
      " 1   내용      1001 non-null   object\n",
      " 2   주소      1001 non-null   object\n",
      "dtypes: object(3)\n",
      "memory usage: 23.6+ KB\n"
     ]
    }
   ],
   "source": [
    "df.info()"
   ]
  },
  {
   "cell_type": "code",
   "execution_count": null,
   "metadata": {},
   "outputs": [],
   "source": []
  }
 ],
 "metadata": {
  "interpreter": {
   "hash": "374be8c39ae01ff66328729506a9b9a7ba9eb3f2df141c8f3098ad96d8cc6bdd"
  },
  "kernelspec": {
   "display_name": "Python 3 (ipykernel)",
   "language": "python",
   "name": "python3"
  },
  "language_info": {
   "codemirror_mode": {
    "name": "ipython",
    "version": 3
   },
   "file_extension": ".py",
   "mimetype": "text/x-python",
   "name": "python",
   "nbconvert_exporter": "python",
   "pygments_lexer": "ipython3",
   "version": "3.9.7"
  }
 },
 "nbformat": 4,
 "nbformat_minor": 4
}
