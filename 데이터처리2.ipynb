{
 "cells": [
  {
   "cell_type": "code",
   "execution_count": 1,
   "id": "a600acb9-9a9d-47e8-a351-daa09b07b314",
   "metadata": {
    "execution": {
     "iopub.execute_input": "2022-03-19T05:54:15.362489Z",
     "iopub.status.busy": "2022-03-19T05:54:15.362002Z",
     "iopub.status.idle": "2022-03-19T05:54:15.959654Z",
     "shell.execute_reply": "2022-03-19T05:54:15.958874Z",
     "shell.execute_reply.started": "2022-03-19T05:54:15.362414Z"
    }
   },
   "outputs": [],
   "source": [
    "import pandas as pd\n",
    "import numpy as np\n",
    "import matplotlib.pyplot as plt\n",
    "import seaborn as sns\n",
    "import copy\n",
    "import matplotlib as mpl\n",
    "import datetime\n",
    "from datetime import timedelta\n",
    "# from datetime import datetime, date\n",
    "mpl.rcParams['axes.unicode_minus'] = False\n",
    "plt.rcParams['font.family'] = 'Malgun Gothic'\n",
    "import os"
   ]
  },
  {
   "cell_type": "code",
   "execution_count": 2,
   "id": "889383fe-e835-4845-a5f1-eaa5266dc927",
   "metadata": {
    "execution": {
     "iopub.execute_input": "2022-03-19T05:54:30.483856Z",
     "iopub.status.busy": "2022-03-19T05:54:30.483489Z",
     "iopub.status.idle": "2022-03-19T05:54:30.493418Z",
     "shell.execute_reply": "2022-03-19T05:54:30.492184Z",
     "shell.execute_reply.started": "2022-03-19T05:54:30.483820Z"
    }
   },
   "outputs": [
    {
     "data": {
      "text/plain": [
       "'/home/miwoos/WorkSpace/Jeju_Electric_Vehicle_analysis'"
      ]
     },
     "execution_count": 2,
     "metadata": {},
     "output_type": "execute_result"
    }
   ],
   "source": [
    "pwd"
   ]
  },
  {
   "cell_type": "code",
   "execution_count": 6,
   "id": "d47cc7a3-aaf6-41fd-b5ca-6963ba6f921d",
   "metadata": {
    "execution": {
     "iopub.execute_input": "2022-03-19T05:56:27.548192Z",
     "iopub.status.busy": "2022-03-19T05:56:27.547726Z",
     "iopub.status.idle": "2022-03-19T05:56:27.571035Z",
     "shell.execute_reply": "2022-03-19T05:56:27.569581Z",
     "shell.execute_reply.started": "2022-03-19T05:56:27.548113Z"
    },
    "tags": []
   },
   "outputs": [],
   "source": [
    "os.chdir('/home/miwoos/WorkSpace/GoogleDrive/제주_전기차/data/')"
   ]
  },
  {
   "cell_type": "code",
   "execution_count": 8,
   "id": "b55a013c-bcec-453e-a047-87f6e3c3e55a",
   "metadata": {
    "execution": {
     "iopub.execute_input": "2022-03-19T05:56:33.001710Z",
     "iopub.status.busy": "2022-03-19T05:56:33.001162Z",
     "iopub.status.idle": "2022-03-19T05:56:33.153196Z",
     "shell.execute_reply": "2022-03-19T05:56:33.151952Z",
     "shell.execute_reply.started": "2022-03-19T05:56:33.001649Z"
    },
    "tags": []
   },
   "outputs": [
    {
     "name": "stdout",
     "output_type": "stream",
     "text": [
      " elecafe.csv                       전기차관련검색어인기순.csv\n",
      " 관련키워드.csv                    전기차관심도지역.csv\n",
      " 네이버-제주전기차후기통합.csv     전기차관심증가.csv\n",
      " 느영나영전기차크롤링.csv          전기차키워드관련주제인기순.csv\n",
      " 느영나영전기차크롤링.csv.part     전체본문의댓글결과_2022.03.06.xlsx\n",
      "'본문 검색 결과_2022.03.06.xlsx'   제사모크롤링.csv\n",
      "'전기차 동호회 전기차크롤링.csv'   투플럭스sjeju.csv\n"
     ]
    }
   ],
   "source": [
    "ls"
   ]
  },
  {
   "cell_type": "code",
   "execution_count": 11,
   "id": "cd27586a-73c8-4a23-8c03-f59260ba52f5",
   "metadata": {
    "execution": {
     "iopub.execute_input": "2022-03-19T05:57:56.934980Z",
     "iopub.status.busy": "2022-03-19T05:57:56.934147Z",
     "iopub.status.idle": "2022-03-19T05:58:00.146211Z",
     "shell.execute_reply": "2022-03-19T05:58:00.145352Z",
     "shell.execute_reply.started": "2022-03-19T05:57:56.934905Z"
    },
    "tags": []
   },
   "outputs": [],
   "source": [
    "df_cafe = pd.read_csv('elecafe.csv')"
   ]
  },
  {
   "cell_type": "code",
   "execution_count": 14,
   "id": "e08ecc52-3798-4c93-becf-a54b359db009",
   "metadata": {
    "execution": {
     "iopub.execute_input": "2022-03-19T05:58:21.608244Z",
     "iopub.status.busy": "2022-03-19T05:58:21.607951Z",
     "iopub.status.idle": "2022-03-19T05:58:21.622344Z",
     "shell.execute_reply": "2022-03-19T05:58:21.621314Z",
     "shell.execute_reply.started": "2022-03-19T05:58:21.608163Z"
    },
    "tags": []
   },
   "outputs": [
    {
     "data": {
      "text/html": [
       "<div>\n",
       "<style scoped>\n",
       "    .dataframe tbody tr th:only-of-type {\n",
       "        vertical-align: middle;\n",
       "    }\n",
       "\n",
       "    .dataframe tbody tr th {\n",
       "        vertical-align: top;\n",
       "    }\n",
       "\n",
       "    .dataframe thead th {\n",
       "        text-align: right;\n",
       "    }\n",
       "</style>\n",
       "<table border=\"1\" class=\"dataframe\">\n",
       "  <thead>\n",
       "    <tr style=\"text-align: right;\">\n",
       "      <th></th>\n",
       "      <th>제목</th>\n",
       "      <th>내용</th>\n",
       "      <th>댓글</th>\n",
       "      <th>유형</th>\n",
       "      <th>조회수</th>\n",
       "      <th>작성날짜</th>\n",
       "      <th>월별</th>\n",
       "      <th>카페명</th>\n",
       "    </tr>\n",
       "  </thead>\n",
       "  <tbody>\n",
       "    <tr>\n",
       "      <th>0</th>\n",
       "      <td>봉고3더블캡</td>\n",
       "      <td>※ 보다 투명하고, 빠른 거래를 위하여 아래의 글 양식을 준수하여 주세요. ※ \\n...</td>\n",
       "      <td>가격이 궁금해요..^^\\n얼마인가요ㅡ\\n</td>\n",
       "      <td>제사모 중고장터</td>\n",
       "      <td>130</td>\n",
       "      <td>2022.03.16.</td>\n",
       "      <td>2022.03</td>\n",
       "      <td>제사모</td>\n",
       "    </tr>\n",
       "    <tr>\n",
       "      <th>1</th>\n",
       "      <td>렌트카 알아보고 있는데 lpg 차량이 저렴한 이유가 뭘까요?</td>\n",
       "      <td>육지에서 이번주 토욜부터 제주 한달살이 시작하면서. 렌트카 알아보고 있어요. 육지에...</td>\n",
       "      <td>요즘 전기차가 대세기도 하지만 가스값 장난아니게 올랏어요...또한 한달살기라면 자차...</td>\n",
       "      <td>Q. 종합 질문방</td>\n",
       "      <td>161</td>\n",
       "      <td>2022.03.16.</td>\n",
       "      <td>2022.03</td>\n",
       "      <td>제사모</td>\n",
       "    </tr>\n",
       "    <tr>\n",
       "      <th>2</th>\n",
       "      <td>더 뉴 아이오닉 일렉트릭N 20년형 흰색7만 현대스마트센스 l추가 완전무사고/믿고사...</td>\n",
       "      <td>★ 차량 정보 ★\\n\\n▶▷모델명 : 더 뉴 아이오닉 일렉트릭 N 전기차\\n\\n▶▷...</td>\n",
       "      <td>NaN</td>\n",
       "      <td>중고자동차 매물</td>\n",
       "      <td>62</td>\n",
       "      <td>2022.03.16.</td>\n",
       "      <td>2022.03</td>\n",
       "      <td>제사모</td>\n",
       "    </tr>\n",
       "  </tbody>\n",
       "</table>\n",
       "</div>"
      ],
      "text/plain": [
       "                                                  제목  \\\n",
       "0                                             봉고3더블캡   \n",
       "1                  렌트카 알아보고 있는데 lpg 차량이 저렴한 이유가 뭘까요?   \n",
       "2  더 뉴 아이오닉 일렉트릭N 20년형 흰색7만 현대스마트센스 l추가 완전무사고/믿고사...   \n",
       "\n",
       "                                                  내용  \\\n",
       "0  ※ 보다 투명하고, 빠른 거래를 위하여 아래의 글 양식을 준수하여 주세요. ※ \\n...   \n",
       "1  육지에서 이번주 토욜부터 제주 한달살이 시작하면서. 렌트카 알아보고 있어요. 육지에...   \n",
       "2  ★ 차량 정보 ★\\n\\n▶▷모델명 : 더 뉴 아이오닉 일렉트릭 N 전기차\\n\\n▶▷...   \n",
       "\n",
       "                                                  댓글         유형  조회수  \\\n",
       "0                             가격이 궁금해요..^^\\n얼마인가요ㅡ\\n   제사모 중고장터  130   \n",
       "1  요즘 전기차가 대세기도 하지만 가스값 장난아니게 올랏어요...또한 한달살기라면 자차...  Q. 종합 질문방  161   \n",
       "2                                                NaN   중고자동차 매물   62   \n",
       "\n",
       "          작성날짜       월별  카페명  \n",
       "0  2022.03.16.  2022.03  제사모  \n",
       "1  2022.03.16.  2022.03  제사모  \n",
       "2  2022.03.16.  2022.03  제사모  "
      ]
     },
     "execution_count": 14,
     "metadata": {},
     "output_type": "execute_result"
    }
   ],
   "source": [
    "df_cafe.head(3)"
   ]
  },
  {
   "cell_type": "code",
   "execution_count": 1,
   "id": "f15e49ab-85cb-41fd-9ee3-34bcfc973f4e",
   "metadata": {
    "execution": {
     "iopub.execute_input": "2022-03-19T06:00:56.267498Z",
     "iopub.status.busy": "2022-03-19T06:00:56.267070Z",
     "iopub.status.idle": "2022-03-19T06:00:56.277021Z",
     "shell.execute_reply": "2022-03-19T06:00:56.276011Z",
     "shell.execute_reply.started": "2022-03-19T06:00:56.267433Z"
    }
   },
   "outputs": [
    {
     "data": {
      "text/plain": [
       "'/home/miwoos/WorkSpace/Jeju_Electric_Vehicle_analysis'"
      ]
     },
     "execution_count": 1,
     "metadata": {},
     "output_type": "execute_result"
    }
   ],
   "source": []
  },
  {
   "cell_type": "code",
   "execution_count": null,
   "id": "2e0c8983-aa97-480b-a378-7642f0ab36a6",
   "metadata": {},
   "outputs": [],
   "source": []
  }
 ],
 "metadata": {
  "kernelspec": {
   "display_name": "Python 3 (ipykernel)",
   "language": "python",
   "name": "python3"
  },
  "language_info": {
   "codemirror_mode": {
    "name": "ipython",
    "version": 3
   },
   "file_extension": ".py",
   "mimetype": "text/x-python",
   "name": "python",
   "nbconvert_exporter": "python",
   "pygments_lexer": "ipython3",
   "version": "3.9.7"
  }
 },
 "nbformat": 4,
 "nbformat_minor": 5
}
