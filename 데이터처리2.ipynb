{
 "cells": [
  {
   "cell_type": "code",
   "execution_count": 1,
   "id": "a600acb9-9a9d-47e8-a351-daa09b07b314",
   "metadata": {
    "execution": {
     "iopub.execute_input": "2022-03-19T07:56:42.102378Z",
     "iopub.status.busy": "2022-03-19T07:56:42.101909Z",
     "iopub.status.idle": "2022-03-19T07:56:42.700373Z",
     "shell.execute_reply": "2022-03-19T07:56:42.699677Z",
     "shell.execute_reply.started": "2022-03-19T07:56:42.102291Z"
    },
    "tags": []
   },
   "outputs": [],
   "source": [
    "import pandas as pd\n",
    "import numpy as np\n",
    "import matplotlib.pyplot as plt\n",
    "import seaborn as sns\n",
    "import copy\n",
    "import matplotlib as mpl\n",
    "import datetime\n",
    "from datetime import timedelta\n",
    "# from datetime import datetime, date\n",
    "mpl.rcParams['axes.unicode_minus'] = False\n",
    "plt.rcParams['font.family'] = 'NanumGothicCoding'\n",
    "import os"
   ]
  },
  {
   "cell_type": "code",
   "execution_count": 2,
   "id": "c058259d",
   "metadata": {
    "execution": {
     "iopub.execute_input": "2022-03-19T07:38:48.628626Z",
     "iopub.status.busy": "2022-03-19T07:38:48.628228Z",
     "iopub.status.idle": "2022-03-19T07:38:48.636270Z",
     "shell.execute_reply": "2022-03-19T07:38:48.634693Z",
     "shell.execute_reply.started": "2022-03-19T07:38:48.628568Z"
    }
   },
   "outputs": [],
   "source": []
  },
  {
   "cell_type": "code",
   "execution_count": 6,
   "id": "889383fe-e835-4845-a5f1-eaa5266dc927",
   "metadata": {
    "execution": {
     "iopub.execute_input": "2022-03-19T06:40:46.861456Z",
     "iopub.status.busy": "2022-03-19T06:40:46.861025Z",
     "iopub.status.idle": "2022-03-19T06:40:46.871195Z",
     "shell.execute_reply": "2022-03-19T06:40:46.869682Z",
     "shell.execute_reply.started": "2022-03-19T06:40:46.861353Z"
    },
    "tags": []
   },
   "outputs": [
    {
     "data": {
      "text/plain": [
       "'/home/miwoos/WorkSpace/Jeju_Electric_Vehicle_analysis'"
      ]
     },
     "execution_count": 6,
     "metadata": {},
     "output_type": "execute_result"
    }
   ],
   "source": [
    "pwd"
   ]
  },
  {
   "cell_type": "code",
   "execution_count": 2,
   "id": "d47cc7a3-aaf6-41fd-b5ca-6963ba6f921d",
   "metadata": {
    "execution": {
     "iopub.execute_input": "2022-03-19T07:56:45.210445Z",
     "iopub.status.busy": "2022-03-19T07:56:45.209947Z",
     "iopub.status.idle": "2022-03-19T07:56:46.560472Z",
     "shell.execute_reply": "2022-03-19T07:56:46.558700Z",
     "shell.execute_reply.started": "2022-03-19T07:56:45.210377Z"
    },
    "tags": []
   },
   "outputs": [],
   "source": [
    "os.chdir('/home/miwoos/WorkSpace/GoogleDrive/제주_전기차/data/')"
   ]
  },
  {
   "cell_type": "code",
   "execution_count": 3,
   "id": "41505aef",
   "metadata": {},
   "outputs": [],
   "source": [
    "# os.chdir('G:\\내 드라이브\\제주_전기차\\data')"
   ]
  },
  {
   "cell_type": "code",
   "execution_count": 3,
   "id": "b55a013c-bcec-453e-a047-87f6e3c3e55a",
   "metadata": {
    "execution": {
     "iopub.execute_input": "2022-03-19T07:56:47.292962Z",
     "iopub.status.busy": "2022-03-19T07:56:47.292543Z",
     "iopub.status.idle": "2022-03-19T07:56:47.519015Z",
     "shell.execute_reply": "2022-03-19T07:56:47.516861Z",
     "shell.execute_reply.started": "2022-03-19T07:56:47.292906Z"
    },
    "tags": []
   },
   "outputs": [
    {
     "name": "stdout",
     "output_type": "stream",
     "text": [
      " elecafe.csv                       전기차관련검색어인기순.csv\n",
      " 관련키워드.csv                    전기차관심도지역.csv\n",
      " 네이버-제주전기차후기통합.csv     전기차관심증가.csv\n",
      " 느영나영전기차크롤링.csv          전기차키워드관련주제인기순.csv\n",
      " 느영나영전기차크롤링.csv.part     전체본문의댓글결과_2022.03.06.xlsx\n",
      "'본문 검색 결과_2022.03.06.xlsx'   제사모크롤링.csv\n",
      "'전기차 동호회 전기차크롤링.csv'   투플럭스sjeju.csv\n"
     ]
    }
   ],
   "source": [
    "ls"
   ]
  },
  {
   "cell_type": "code",
   "execution_count": 4,
   "id": "cd27586a-73c8-4a23-8c03-f59260ba52f5",
   "metadata": {
    "execution": {
     "iopub.execute_input": "2022-03-19T07:57:03.812078Z",
     "iopub.status.busy": "2022-03-19T07:57:03.811579Z",
     "iopub.status.idle": "2022-03-19T07:57:04.197780Z",
     "shell.execute_reply": "2022-03-19T07:57:04.197006Z",
     "shell.execute_reply.started": "2022-03-19T07:57:03.812000Z"
    },
    "tags": []
   },
   "outputs": [],
   "source": [
    "df_cafe = pd.read_csv('elecafe.csv')"
   ]
  },
  {
   "cell_type": "code",
   "execution_count": 5,
   "id": "e08ecc52-3798-4c93-becf-a54b359db009",
   "metadata": {
    "execution": {
     "iopub.execute_input": "2022-03-19T07:57:05.368702Z",
     "iopub.status.busy": "2022-03-19T07:57:05.368257Z",
     "iopub.status.idle": "2022-03-19T07:57:05.386624Z",
     "shell.execute_reply": "2022-03-19T07:57:05.385706Z",
     "shell.execute_reply.started": "2022-03-19T07:57:05.368641Z"
    },
    "tags": []
   },
   "outputs": [
    {
     "data": {
      "text/html": [
       "<div>\n",
       "<style scoped>\n",
       "    .dataframe tbody tr th:only-of-type {\n",
       "        vertical-align: middle;\n",
       "    }\n",
       "\n",
       "    .dataframe tbody tr th {\n",
       "        vertical-align: top;\n",
       "    }\n",
       "\n",
       "    .dataframe thead th {\n",
       "        text-align: right;\n",
       "    }\n",
       "</style>\n",
       "<table border=\"1\" class=\"dataframe\">\n",
       "  <thead>\n",
       "    <tr style=\"text-align: right;\">\n",
       "      <th></th>\n",
       "      <th>제목</th>\n",
       "      <th>내용</th>\n",
       "      <th>댓글</th>\n",
       "      <th>유형</th>\n",
       "      <th>조회수</th>\n",
       "      <th>작성날짜</th>\n",
       "      <th>월별</th>\n",
       "      <th>카페명</th>\n",
       "    </tr>\n",
       "  </thead>\n",
       "  <tbody>\n",
       "    <tr>\n",
       "      <th>0</th>\n",
       "      <td>봉고3더블캡</td>\n",
       "      <td>※ 보다 투명하고, 빠른 거래를 위하여 아래의 글 양식을 준수하여 주세요. ※ \\n...</td>\n",
       "      <td>가격이 궁금해요..^^\\n얼마인가요ㅡ\\n</td>\n",
       "      <td>제사모 중고장터</td>\n",
       "      <td>130</td>\n",
       "      <td>2022.03.16.</td>\n",
       "      <td>2022.03</td>\n",
       "      <td>제사모</td>\n",
       "    </tr>\n",
       "    <tr>\n",
       "      <th>1</th>\n",
       "      <td>렌트카 알아보고 있는데 lpg 차량이 저렴한 이유가 뭘까요?</td>\n",
       "      <td>육지에서 이번주 토욜부터 제주 한달살이 시작하면서. 렌트카 알아보고 있어요. 육지에...</td>\n",
       "      <td>요즘 전기차가 대세기도 하지만 가스값 장난아니게 올랏어요...또한 한달살기라면 자차...</td>\n",
       "      <td>Q. 종합 질문방</td>\n",
       "      <td>161</td>\n",
       "      <td>2022.03.16.</td>\n",
       "      <td>2022.03</td>\n",
       "      <td>제사모</td>\n",
       "    </tr>\n",
       "    <tr>\n",
       "      <th>2</th>\n",
       "      <td>더 뉴 아이오닉 일렉트릭N 20년형 흰색7만 현대스마트센스 l추가 완전무사고/믿고사...</td>\n",
       "      <td>★ 차량 정보 ★\\n\\n▶▷모델명 : 더 뉴 아이오닉 일렉트릭 N 전기차\\n\\n▶▷...</td>\n",
       "      <td>NaN</td>\n",
       "      <td>중고자동차 매물</td>\n",
       "      <td>62</td>\n",
       "      <td>2022.03.16.</td>\n",
       "      <td>2022.03</td>\n",
       "      <td>제사모</td>\n",
       "    </tr>\n",
       "  </tbody>\n",
       "</table>\n",
       "</div>"
      ],
      "text/plain": [
       "                                                  제목  \\\n",
       "0                                             봉고3더블캡   \n",
       "1                  렌트카 알아보고 있는데 lpg 차량이 저렴한 이유가 뭘까요?   \n",
       "2  더 뉴 아이오닉 일렉트릭N 20년형 흰색7만 현대스마트센스 l추가 완전무사고/믿고사...   \n",
       "\n",
       "                                                  내용  \\\n",
       "0  ※ 보다 투명하고, 빠른 거래를 위하여 아래의 글 양식을 준수하여 주세요. ※ \\n...   \n",
       "1  육지에서 이번주 토욜부터 제주 한달살이 시작하면서. 렌트카 알아보고 있어요. 육지에...   \n",
       "2  ★ 차량 정보 ★\\n\\n▶▷모델명 : 더 뉴 아이오닉 일렉트릭 N 전기차\\n\\n▶▷...   \n",
       "\n",
       "                                                  댓글         유형  조회수  \\\n",
       "0                             가격이 궁금해요..^^\\n얼마인가요ㅡ\\n   제사모 중고장터  130   \n",
       "1  요즘 전기차가 대세기도 하지만 가스값 장난아니게 올랏어요...또한 한달살기라면 자차...  Q. 종합 질문방  161   \n",
       "2                                                NaN   중고자동차 매물   62   \n",
       "\n",
       "          작성날짜       월별  카페명  \n",
       "0  2022.03.16.  2022.03  제사모  \n",
       "1  2022.03.16.  2022.03  제사모  \n",
       "2  2022.03.16.  2022.03  제사모  "
      ]
     },
     "execution_count": 5,
     "metadata": {},
     "output_type": "execute_result"
    }
   ],
   "source": [
    "df_cafe.head(3)"
   ]
  },
  {
   "cell_type": "code",
   "execution_count": 6,
   "id": "f15e49ab-85cb-41fd-9ee3-34bcfc973f4e",
   "metadata": {
    "execution": {
     "iopub.execute_input": "2022-03-19T07:57:08.860775Z",
     "iopub.status.busy": "2022-03-19T07:57:08.860350Z",
     "iopub.status.idle": "2022-03-19T07:57:09.261147Z",
     "shell.execute_reply": "2022-03-19T07:57:09.260447Z",
     "shell.execute_reply.started": "2022-03-19T07:57:08.860692Z"
    },
    "tags": []
   },
   "outputs": [],
   "source": [
    "df_elecafe = pd.read_csv('투플럭스sjeju.csv')"
   ]
  },
  {
   "cell_type": "code",
   "execution_count": 7,
   "id": "cc9835dc",
   "metadata": {
    "execution": {
     "iopub.execute_input": "2022-03-19T07:57:10.705052Z",
     "iopub.status.busy": "2022-03-19T07:57:10.704675Z",
     "iopub.status.idle": "2022-03-19T07:57:10.721957Z",
     "shell.execute_reply": "2022-03-19T07:57:10.721393Z",
     "shell.execute_reply.started": "2022-03-19T07:57:10.705002Z"
    }
   },
   "outputs": [
    {
     "data": {
      "text/html": [
       "<div>\n",
       "<style scoped>\n",
       "    .dataframe tbody tr th:only-of-type {\n",
       "        vertical-align: middle;\n",
       "    }\n",
       "\n",
       "    .dataframe tbody tr th {\n",
       "        vertical-align: top;\n",
       "    }\n",
       "\n",
       "    .dataframe thead th {\n",
       "        text-align: right;\n",
       "    }\n",
       "</style>\n",
       "<table border=\"1\" class=\"dataframe\">\n",
       "  <thead>\n",
       "    <tr style=\"text-align: right;\">\n",
       "      <th></th>\n",
       "      <th>제목</th>\n",
       "      <th>카페명</th>\n",
       "      <th>작성날짜</th>\n",
       "      <th>내용</th>\n",
       "      <th>조회수</th>\n",
       "      <th>긍부정</th>\n",
       "      <th>Url</th>\n",
       "      <th>월</th>\n",
       "    </tr>\n",
       "  </thead>\n",
       "  <tbody>\n",
       "    <tr>\n",
       "      <th>0</th>\n",
       "      <td>전기차충전요금 원복및 조속한 충전인프라확충에대한 국민청원을 진행하려니 읽어보셔요~(...</td>\n",
       "      <td>전기차동호회</td>\n",
       "      <td>2020-05-13 15:19:00</td>\n",
       "      <td>▶ 전기차충전요금 원복및 조속한 충전인프라확충에대한 국민청원을 진행하려니 읽어보셔요...</td>\n",
       "      <td>2461</td>\n",
       "      <td>P</td>\n",
       "      <td>https://cafe.naver.com/allfm01/463393</td>\n",
       "      <td>2020.05</td>\n",
       "    </tr>\n",
       "    <tr>\n",
       "      <th>1</th>\n",
       "      <td>코나 급발진 실화냐</td>\n",
       "      <td>전기차동호회</td>\n",
       "      <td>2021-03-04 21:15:00</td>\n",
       "      <td>▶ 코나 급발진 실화냐_x000D_\\n_x000D_\\n주차 차단기 뚫고 쾅…전기차도...</td>\n",
       "      <td>753</td>\n",
       "      <td>N</td>\n",
       "      <td>https://cafe.naver.com/allfm01/577259</td>\n",
       "      <td>2021.03</td>\n",
       "    </tr>\n",
       "    <tr>\n",
       "      <th>2</th>\n",
       "      <td>약930일을 운행한 후에 운행하면서 느낀점을 수정 추가해서 적어보았습니다 2020년...</td>\n",
       "      <td>전기차동호회</td>\n",
       "      <td>2020-01-03 04:57:00</td>\n",
       "      <td>▶ 약930일을 운행한 후에 운행하면서 느낀점을 수정 추가해서 적어보았습니다 202...</td>\n",
       "      <td>690</td>\n",
       "      <td>P</td>\n",
       "      <td>https://cafe.naver.com/allfm01/413286</td>\n",
       "      <td>2020.01</td>\n",
       "    </tr>\n",
       "  </tbody>\n",
       "</table>\n",
       "</div>"
      ],
      "text/plain": [
       "                                                  제목     카페명  \\\n",
       "0  전기차충전요금 원복및 조속한 충전인프라확충에대한 국민청원을 진행하려니 읽어보셔요~(...  전기차동호회   \n",
       "1                                         코나 급발진 실화냐  전기차동호회   \n",
       "2  약930일을 운행한 후에 운행하면서 느낀점을 수정 추가해서 적어보았습니다 2020년...  전기차동호회   \n",
       "\n",
       "                  작성날짜                                                 내용  \\\n",
       "0  2020-05-13 15:19:00  ▶ 전기차충전요금 원복및 조속한 충전인프라확충에대한 국민청원을 진행하려니 읽어보셔요...   \n",
       "1  2021-03-04 21:15:00  ▶ 코나 급발진 실화냐_x000D_\\n_x000D_\\n주차 차단기 뚫고 쾅…전기차도...   \n",
       "2  2020-01-03 04:57:00  ▶ 약930일을 운행한 후에 운행하면서 느낀점을 수정 추가해서 적어보았습니다 202...   \n",
       "\n",
       "    조회수 긍부정                                    Url        월  \n",
       "0  2461   P  https://cafe.naver.com/allfm01/463393  2020.05  \n",
       "1   753   N  https://cafe.naver.com/allfm01/577259  2021.03  \n",
       "2   690   P  https://cafe.naver.com/allfm01/413286  2020.01  "
      ]
     },
     "execution_count": 7,
     "metadata": {},
     "output_type": "execute_result"
    }
   ],
   "source": [
    "df_elecafe.head(3)"
   ]
  },
  {
   "cell_type": "markdown",
   "id": "c7a95ce6",
   "metadata": {},
   "source": [
    "## 월별 년별 로 바꾸기"
   ]
  },
  {
   "cell_type": "code",
   "execution_count": 8,
   "id": "eb2e0622",
   "metadata": {
    "execution": {
     "iopub.execute_input": "2022-03-19T07:57:33.270072Z",
     "iopub.status.busy": "2022-03-19T07:57:33.269597Z",
     "iopub.status.idle": "2022-03-19T07:57:33.280606Z",
     "shell.execute_reply": "2022-03-19T07:57:33.279826Z",
     "shell.execute_reply.started": "2022-03-19T07:57:33.269991Z"
    }
   },
   "outputs": [],
   "source": [
    "df_elecafe['월'] = df_elecafe['작성날짜'].apply(lambda x : str(x).replace('-','.')[:7])"
   ]
  },
  {
   "cell_type": "code",
   "execution_count": 9,
   "id": "733d5a4c",
   "metadata": {
    "execution": {
     "iopub.execute_input": "2022-03-19T07:57:34.854214Z",
     "iopub.status.busy": "2022-03-19T07:57:34.853695Z",
     "iopub.status.idle": "2022-03-19T07:57:34.864498Z",
     "shell.execute_reply": "2022-03-19T07:57:34.863926Z",
     "shell.execute_reply.started": "2022-03-19T07:57:34.854151Z"
    }
   },
   "outputs": [],
   "source": [
    "df_elecafe['년'] = df_elecafe['작성날짜'].apply(lambda x : str(x).replace('-','.')[:4])"
   ]
  },
  {
   "cell_type": "code",
   "execution_count": 11,
   "id": "0489d01e",
   "metadata": {
    "execution": {
     "iopub.execute_input": "2022-03-19T07:58:22.432655Z",
     "iopub.status.busy": "2022-03-19T07:58:22.432107Z",
     "iopub.status.idle": "2022-03-19T07:58:35.258686Z",
     "shell.execute_reply": "2022-03-19T07:58:35.257742Z",
     "shell.execute_reply.started": "2022-03-19T07:58:22.432581Z"
    },
    "tags": []
   },
   "outputs": [],
   "source": [
    "# df_elecafe.to_csv('투플럭스sjeju.csv',index=False)"
   ]
  },
  {
   "cell_type": "code",
   "execution_count": 23,
   "id": "02ed02d8",
   "metadata": {},
   "outputs": [],
   "source": [
    "# df_elecafe.to_csv('투플럭스sjeju.csv',index=False)"
   ]
  },
  {
   "cell_type": "code",
   "execution_count": 12,
   "id": "aeeebd6f",
   "metadata": {
    "execution": {
     "iopub.execute_input": "2022-03-19T07:58:35.270425Z",
     "iopub.status.busy": "2022-03-19T07:58:35.270061Z",
     "iopub.status.idle": "2022-03-19T07:58:35.282613Z",
     "shell.execute_reply": "2022-03-19T07:58:35.281854Z",
     "shell.execute_reply.started": "2022-03-19T07:58:35.270393Z"
    }
   },
   "outputs": [
    {
     "data": {
      "text/html": [
       "<div>\n",
       "<style scoped>\n",
       "    .dataframe tbody tr th:only-of-type {\n",
       "        vertical-align: middle;\n",
       "    }\n",
       "\n",
       "    .dataframe tbody tr th {\n",
       "        vertical-align: top;\n",
       "    }\n",
       "\n",
       "    .dataframe thead th {\n",
       "        text-align: right;\n",
       "    }\n",
       "</style>\n",
       "<table border=\"1\" class=\"dataframe\">\n",
       "  <thead>\n",
       "    <tr style=\"text-align: right;\">\n",
       "      <th></th>\n",
       "      <th>제목</th>\n",
       "      <th>카페명</th>\n",
       "      <th>작성날짜</th>\n",
       "      <th>내용</th>\n",
       "      <th>조회수</th>\n",
       "      <th>긍부정</th>\n",
       "      <th>Url</th>\n",
       "      <th>월</th>\n",
       "      <th>년</th>\n",
       "    </tr>\n",
       "  </thead>\n",
       "  <tbody>\n",
       "    <tr>\n",
       "      <th>0</th>\n",
       "      <td>전기차충전요금 원복및 조속한 충전인프라확충에대한 국민청원을 진행하려니 읽어보셔요~(...</td>\n",
       "      <td>전기차동호회</td>\n",
       "      <td>2020-05-13 15:19:00</td>\n",
       "      <td>▶ 전기차충전요금 원복및 조속한 충전인프라확충에대한 국민청원을 진행하려니 읽어보셔요...</td>\n",
       "      <td>2461</td>\n",
       "      <td>P</td>\n",
       "      <td>https://cafe.naver.com/allfm01/463393</td>\n",
       "      <td>2020.05</td>\n",
       "      <td>2020</td>\n",
       "    </tr>\n",
       "    <tr>\n",
       "      <th>1</th>\n",
       "      <td>코나 급발진 실화냐</td>\n",
       "      <td>전기차동호회</td>\n",
       "      <td>2021-03-04 21:15:00</td>\n",
       "      <td>▶ 코나 급발진 실화냐_x000D_\\n_x000D_\\n주차 차단기 뚫고 쾅…전기차도...</td>\n",
       "      <td>753</td>\n",
       "      <td>N</td>\n",
       "      <td>https://cafe.naver.com/allfm01/577259</td>\n",
       "      <td>2021.03</td>\n",
       "      <td>2021</td>\n",
       "    </tr>\n",
       "    <tr>\n",
       "      <th>2</th>\n",
       "      <td>약930일을 운행한 후에 운행하면서 느낀점을 수정 추가해서 적어보았습니다 2020년...</td>\n",
       "      <td>전기차동호회</td>\n",
       "      <td>2020-01-03 04:57:00</td>\n",
       "      <td>▶ 약930일을 운행한 후에 운행하면서 느낀점을 수정 추가해서 적어보았습니다 202...</td>\n",
       "      <td>690</td>\n",
       "      <td>P</td>\n",
       "      <td>https://cafe.naver.com/allfm01/413286</td>\n",
       "      <td>2020.01</td>\n",
       "      <td>2020</td>\n",
       "    </tr>\n",
       "  </tbody>\n",
       "</table>\n",
       "</div>"
      ],
      "text/plain": [
       "                                                  제목     카페명  \\\n",
       "0  전기차충전요금 원복및 조속한 충전인프라확충에대한 국민청원을 진행하려니 읽어보셔요~(...  전기차동호회   \n",
       "1                                         코나 급발진 실화냐  전기차동호회   \n",
       "2  약930일을 운행한 후에 운행하면서 느낀점을 수정 추가해서 적어보았습니다 2020년...  전기차동호회   \n",
       "\n",
       "                  작성날짜                                                 내용  \\\n",
       "0  2020-05-13 15:19:00  ▶ 전기차충전요금 원복및 조속한 충전인프라확충에대한 국민청원을 진행하려니 읽어보셔요...   \n",
       "1  2021-03-04 21:15:00  ▶ 코나 급발진 실화냐_x000D_\\n_x000D_\\n주차 차단기 뚫고 쾅…전기차도...   \n",
       "2  2020-01-03 04:57:00  ▶ 약930일을 운행한 후에 운행하면서 느낀점을 수정 추가해서 적어보았습니다 202...   \n",
       "\n",
       "    조회수 긍부정                                    Url        월     년  \n",
       "0  2461   P  https://cafe.naver.com/allfm01/463393  2020.05  2020  \n",
       "1   753   N  https://cafe.naver.com/allfm01/577259  2021.03  2021  \n",
       "2   690   P  https://cafe.naver.com/allfm01/413286  2020.01  2020  "
      ]
     },
     "execution_count": 12,
     "metadata": {},
     "output_type": "execute_result"
    }
   ],
   "source": [
    "df_elecafe.head(3)"
   ]
  },
  {
   "cell_type": "code",
   "execution_count": 13,
   "id": "a3ba2f71",
   "metadata": {
    "execution": {
     "iopub.execute_input": "2022-03-19T07:58:38.958238Z",
     "iopub.status.busy": "2022-03-19T07:58:38.957537Z",
     "iopub.status.idle": "2022-03-19T07:58:39.128520Z",
     "shell.execute_reply": "2022-03-19T07:58:39.128114Z",
     "shell.execute_reply.started": "2022-03-19T07:58:38.958147Z"
    }
   },
   "outputs": [
    {
     "data": {
      "text/plain": [
       "<Figure size 1080x720 with 0 Axes>"
      ]
     },
     "metadata": {},
     "output_type": "display_data"
    },
    {
     "data": {
      "image/png": "[encoded data removed]",
      "text/plain": [
       "<Figure size 432x288 with 1 Axes>"
      ]
     },
     "metadata": {
      "needs_background": "light"
     },
     "output_type": "display_data"
    }
   ],
   "source": [
    "plt.figure(figsize=(15,10))\n",
    "df_elecafe.groupby([df_elecafe.년,df_elecafe.긍부정]).긍부정.count().unstack().plot.bar(fontsize=15)\n",
    "plt.grid()"
   ]
  },
  {
   "cell_type": "code",
   "execution_count": 15,
   "id": "c809c5b5",
   "metadata": {
    "execution": {
     "iopub.execute_input": "2022-03-19T07:58:58.624403Z",
     "iopub.status.busy": "2022-03-19T07:58:58.623908Z",
     "iopub.status.idle": "2022-03-19T07:58:58.639083Z",
     "shell.execute_reply": "2022-03-19T07:58:58.638569Z",
     "shell.execute_reply.started": "2022-03-19T07:58:58.624331Z"
    },
    "tags": []
   },
   "outputs": [
    {
     "data": {
      "text/plain": [
       "제목         0\n",
       "내용       114\n",
       "댓글       648\n",
       "유형         0\n",
       "조회수        0\n",
       "작성날짜       0\n",
       "월별      4899\n",
       "카페명        0\n",
       "dtype: int64"
      ]
     },
     "execution_count": 15,
     "metadata": {},
     "output_type": "execute_result"
    }
   ],
   "source": [
    "df_cafe.isnull().sum()"
   ]
  },
  {
   "cell_type": "code",
   "execution_count": 16,
   "id": "d04c024b",
   "metadata": {
    "execution": {
     "iopub.execute_input": "2022-03-19T07:59:10.657277Z",
     "iopub.status.busy": "2022-03-19T07:59:10.656945Z",
     "iopub.status.idle": "2022-03-19T07:59:10.664159Z",
     "shell.execute_reply": "2022-03-19T07:59:10.663801Z",
     "shell.execute_reply.started": "2022-03-19T07:59:10.657206Z"
    },
    "tags": []
   },
   "outputs": [],
   "source": [
    "df_cafe['월별']=df_cafe.작성날짜.apply(lambda x:str(x)[:7])"
   ]
  },
  {
   "cell_type": "code",
   "execution_count": 18,
   "id": "eb8d595f-7c33-4fe3-a879-52262730a65d",
   "metadata": {
    "execution": {
     "iopub.execute_input": "2022-03-19T07:59:24.743408Z",
     "iopub.status.busy": "2022-03-19T07:59:24.743187Z",
     "iopub.status.idle": "2022-03-19T07:59:24.754341Z",
     "shell.execute_reply": "2022-03-19T07:59:24.753315Z",
     "shell.execute_reply.started": "2022-03-19T07:59:24.743375Z"
    },
    "tags": []
   },
   "outputs": [
    {
     "data": {
      "text/plain": [
       "제목        0\n",
       "내용      114\n",
       "댓글      648\n",
       "유형        0\n",
       "조회수       0\n",
       "작성날짜      0\n",
       "월별        0\n",
       "카페명       0\n",
       "dtype: int64"
      ]
     },
     "execution_count": 18,
     "metadata": {},
     "output_type": "execute_result"
    }
   ],
   "source": [
    "df_cafe.isnull().sum()"
   ]
  },
  {
   "cell_type": "code",
   "execution_count": 19,
   "id": "205d019b",
   "metadata": {
    "execution": {
     "iopub.execute_input": "2022-03-19T07:59:30.671540Z",
     "iopub.status.busy": "2022-03-19T07:59:30.671093Z",
     "iopub.status.idle": "2022-03-19T07:59:30.686039Z",
     "shell.execute_reply": "2022-03-19T07:59:30.684445Z",
     "shell.execute_reply.started": "2022-03-19T07:59:30.671481Z"
    },
    "tags": []
   },
   "outputs": [],
   "source": [
    "df_cafe['년별']=df_cafe.작성날짜.apply(lambda x:str(x)[:4])"
   ]
  },
  {
   "cell_type": "code",
   "execution_count": 20,
   "id": "5bd5916e-98b8-4e48-be8a-9a677c6ef1da",
   "metadata": {
    "execution": {
     "iopub.execute_input": "2022-03-19T07:59:32.510090Z",
     "iopub.status.busy": "2022-03-19T07:59:32.509574Z",
     "iopub.status.idle": "2022-03-19T07:59:32.528864Z",
     "shell.execute_reply": "2022-03-19T07:59:32.528404Z",
     "shell.execute_reply.started": "2022-03-19T07:59:32.510016Z"
    },
    "tags": []
   },
   "outputs": [
    {
     "data": {
      "text/plain": [
       "제목        0\n",
       "내용      114\n",
       "댓글      648\n",
       "유형        0\n",
       "조회수       0\n",
       "작성날짜      0\n",
       "월별        0\n",
       "카페명       0\n",
       "년별        0\n",
       "dtype: int64"
      ]
     },
     "execution_count": 20,
     "metadata": {},
     "output_type": "execute_result"
    }
   ],
   "source": [
    "df_cafe.isnull().sum()"
   ]
  },
  {
   "cell_type": "code",
   "execution_count": 21,
   "id": "5319b6e7-7e5b-4425-92ae-3b81982983d5",
   "metadata": {
    "execution": {
     "iopub.execute_input": "2022-03-19T07:59:37.717683Z",
     "iopub.status.busy": "2022-03-19T07:59:37.717222Z",
     "iopub.status.idle": "2022-03-19T07:59:37.732768Z",
     "shell.execute_reply": "2022-03-19T07:59:37.732172Z",
     "shell.execute_reply.started": "2022-03-19T07:59:37.717628Z"
    },
    "tags": []
   },
   "outputs": [],
   "source": [
    "# df_cafe.fillna('내용없음',inplace=True)"
   ]
  },
  {
   "cell_type": "code",
   "execution_count": 32,
   "id": "d596c0a9-d236-44dc-9042-8bfd141dd386",
   "metadata": {
    "execution": {
     "iopub.execute_input": "2022-03-19T07:47:01.714149Z",
     "iopub.status.busy": "2022-03-19T07:47:01.713614Z",
     "iopub.status.idle": "2022-03-19T07:47:01.723658Z",
     "shell.execute_reply": "2022-03-19T07:47:01.723057Z",
     "shell.execute_reply.started": "2022-03-19T07:47:01.714086Z"
    },
    "tags": []
   },
   "outputs": [
    {
     "data": {
      "text/plain": [
       "'※ 보다 투명하고, 빠른 거래를 위하여 아래의 글 양식을 준수하여 주세요. ※ \\n\\n\\n1. 거래 지역 : 한림\\n\\n2. 거래 방법 : 직거래\\n\\n3. 연락 방법 : 010-2525-5552\\n(연락처, 안심번호, 쪽지, 채팅 가능 / 📵카카오톡 금지) \\n\\n4. 판매 가격 : 연락주세요\\n\\n5. 판매 제품 : 봉고3더블캡\\n\\n6. 제품 상태 : 중고차량\\n(사용감 있음, 거의 새 것, 미개봉) \\n\\n7. 제품설명 및 사진 \\n-봉고3더블캡  18년 6월식 \\n정확히 5만탔구요\\n오토. \\n차량 잡소리 하나도 안나요\\n전기차 나와서 팔아요\\n\\n\\n블랙박스.0\\n후방감지 0\\n네비 ×\\n열선시트 0\\n열선 핸들 0\\n만든공구함 박스 0\\n핸즈프리 0\\n'"
      ]
     },
     "execution_count": 32,
     "metadata": {},
     "output_type": "execute_result"
    }
   ],
   "source": [
    "df_cafe.내용[0]\n",
    "df_cafe.내용[0]df_cafe.내용[0]"
   ]
  },
  {
   "cell_type": "code",
   "execution_count": 22,
   "id": "e219563e-e575-4da7-9648-bb06981c9934",
   "metadata": {
    "execution": {
     "iopub.execute_input": "2022-03-19T07:59:55.078512Z",
     "iopub.status.busy": "2022-03-19T07:59:55.078065Z",
     "iopub.status.idle": "2022-03-19T07:59:55.293551Z",
     "shell.execute_reply": "2022-03-19T07:59:55.291631Z",
     "shell.execute_reply.started": "2022-03-19T07:59:55.078444Z"
    }
   },
   "outputs": [
    {
     "name": "stdout",
     "output_type": "stream",
     "text": [
      " elecafe.csv                       전기차관련검색어인기순.csv\n",
      " 관련키워드.csv                    전기차관심도지역.csv\n",
      " 네이버-제주전기차후기통합.csv     전기차관심증가.csv\n",
      " 느영나영전기차크롤링.csv          전기차키워드관련주제인기순.csv\n",
      " 느영나영전기차크롤링.csv.part     전체본문의댓글결과_2022.03.06.xlsx\n",
      "'본문 검색 결과_2022.03.06.xlsx'   제사모크롤링.csv\n",
      "'전기차 동호회 전기차크롤링.csv'   투플럭스sjeju.csv\n"
     ]
    }
   ],
   "source": [
    "ls"
   ]
  },
  {
   "cell_type": "code",
   "execution_count": 23,
   "id": "6c266338-7c4d-4aae-8909-c584ed9cfc69",
   "metadata": {
    "execution": {
     "iopub.execute_input": "2022-03-19T08:00:11.045692Z",
     "iopub.status.busy": "2022-03-19T08:00:11.045183Z",
     "iopub.status.idle": "2022-03-19T08:00:20.355318Z",
     "shell.execute_reply": "2022-03-19T08:00:20.354416Z",
     "shell.execute_reply.started": "2022-03-19T08:00:11.045636Z"
    }
   },
   "outputs": [],
   "source": [
    "# df_cafe.to_csv('elecafe.csv',index=False)"
   ]
  },
  {
   "cell_type": "code",
   "execution_count": 31,
   "id": "80f4bc11-c25e-47b6-9199-c955446b06c1",
   "metadata": {
    "execution": {
     "iopub.execute_input": "2022-03-19T08:02:32.987503Z",
     "iopub.status.busy": "2022-03-19T08:02:32.987050Z",
     "iopub.status.idle": "2022-03-19T08:02:33.018089Z",
     "shell.execute_reply": "2022-03-19T08:02:33.017547Z",
     "shell.execute_reply.started": "2022-03-19T08:02:32.987439Z"
    },
    "tags": []
   },
   "outputs": [
    {
     "data": {
      "text/html": [
       "<div>\n",
       "<style scoped>\n",
       "    .dataframe tbody tr th:only-of-type {\n",
       "        vertical-align: middle;\n",
       "    }\n",
       "\n",
       "    .dataframe tbody tr th {\n",
       "        vertical-align: top;\n",
       "    }\n",
       "\n",
       "    .dataframe thead th {\n",
       "        text-align: right;\n",
       "    }\n",
       "</style>\n",
       "<table border=\"1\" class=\"dataframe\">\n",
       "  <thead>\n",
       "    <tr style=\"text-align: right;\">\n",
       "      <th></th>\n",
       "      <th>제목</th>\n",
       "      <th>내용</th>\n",
       "      <th>댓글</th>\n",
       "      <th>유형</th>\n",
       "      <th>조회수</th>\n",
       "      <th>작성날짜</th>\n",
       "      <th>월별</th>\n",
       "      <th>카페명</th>\n",
       "      <th>년별</th>\n",
       "    </tr>\n",
       "  </thead>\n",
       "  <tbody>\n",
       "    <tr>\n",
       "      <th>0</th>\n",
       "      <td>봉고3더블캡</td>\n",
       "      <td>※ 보다 투명하고, 빠른 거래를 위하여 아래의 글 양식을 준수하여 주세요. ※ \\n...</td>\n",
       "      <td>가격이 궁금해요..^^\\n얼마인가요ㅡ\\n</td>\n",
       "      <td>제사모 중고장터</td>\n",
       "      <td>130</td>\n",
       "      <td>2022.03.16.</td>\n",
       "      <td>2022.03</td>\n",
       "      <td>제사모</td>\n",
       "      <td>2022</td>\n",
       "    </tr>\n",
       "    <tr>\n",
       "      <th>2</th>\n",
       "      <td>더 뉴 아이오닉 일렉트릭N 20년형 흰색7만 현대스마트센스 l추가 완전무사고/믿고사...</td>\n",
       "      <td>★ 차량 정보 ★\\n\\n▶▷모델명 : 더 뉴 아이오닉 일렉트릭 N 전기차\\n\\n▶▷...</td>\n",
       "      <td>내용없음</td>\n",
       "      <td>중고자동차 매물</td>\n",
       "      <td>62</td>\n",
       "      <td>2022.03.16.</td>\n",
       "      <td>2022.03</td>\n",
       "      <td>제사모</td>\n",
       "      <td>2022</td>\n",
       "    </tr>\n",
       "    <tr>\n",
       "      <th>3</th>\n",
       "      <td>요번에 보니..</td>\n",
       "      <td>안에\\n\\n렌터카 무진장 많이 다니던데..\\n\\n임산부 노약자 상관없이..\\n\\n넘...</td>\n",
       "      <td>내용없음</td>\n",
       "      <td>실시간 이야기</td>\n",
       "      <td>119</td>\n",
       "      <td>2022.03.15.</td>\n",
       "      <td>2022.03</td>\n",
       "      <td>제사모</td>\n",
       "      <td>2022</td>\n",
       "    </tr>\n",
       "    <tr>\n",
       "      <th>4</th>\n",
       "      <td>제주시 애월읍 해안도로 도보 1분 거리 애월 르시엘 아파트 할인 분양(회사 직영)</td>\n",
       "      <td>◈ 매물제목 :  애월 르시엘 분양\\n◈ 거래유형 :  분양\\n◈ 소재지역 :  애...</td>\n",
       "      <td>내용없음</td>\n",
       "      <td>■ 분양정보/신축매물</td>\n",
       "      <td>134</td>\n",
       "      <td>2022.03.15.</td>\n",
       "      <td>2022.03</td>\n",
       "      <td>제사모</td>\n",
       "      <td>2022</td>\n",
       "    </tr>\n",
       "    <tr>\n",
       "      <th>5</th>\n",
       "      <td>여행 고수님들 추천좀 해주세요</td>\n",
       "      <td>4월22일~25일 딸3명과 엄마까지 총 4인 제주여행을 계획중입니다\\n비행기 예약은...</td>\n",
       "      <td>렌트카는 가스 예요.\\n평소 본인이 운전하기 편한차로 하세요.\\n74시간이면 2박3...</td>\n",
       "      <td>제주여행 수다&amp;질문</td>\n",
       "      <td>60</td>\n",
       "      <td>2022.03.14.</td>\n",
       "      <td>2022.03</td>\n",
       "      <td>제사모</td>\n",
       "      <td>2022</td>\n",
       "    </tr>\n",
       "    <tr>\n",
       "      <th>...</th>\n",
       "      <td>...</td>\n",
       "      <td>...</td>\n",
       "      <td>...</td>\n",
       "      <td>...</td>\n",
       "      <td>...</td>\n",
       "      <td>...</td>\n",
       "      <td>...</td>\n",
       "      <td>...</td>\n",
       "      <td>...</td>\n",
       "    </tr>\n",
       "    <tr>\n",
       "      <th>5906</th>\n",
       "      <td>전기차계약하려고 하는데요</td>\n",
       "      <td>쏘울 전기차 계약할려고하는데 딜러가 다음주 수요일이나 되야 차가 언제나올지 알수있다...</td>\n",
       "      <td>내용없음</td>\n",
       "      <td>제주특별자치도</td>\n",
       "      <td>125</td>\n",
       "      <td>2015.05.15.</td>\n",
       "      <td>2015.05</td>\n",
       "      <td>전기차동호회</td>\n",
       "      <td>2015</td>\n",
       "    </tr>\n",
       "    <tr>\n",
       "      <th>5907</th>\n",
       "      <td>제주도 전기차 보급사업 결과</td>\n",
       "      <td>http://m.news.naver.com/read.nhn?mode=LSD&amp;mid=...</td>\n",
       "      <td>내용없음</td>\n",
       "      <td>제주특별자치도</td>\n",
       "      <td>148</td>\n",
       "      <td>2015.04.25.</td>\n",
       "      <td>2015.04</td>\n",
       "      <td>전기차동호회</td>\n",
       "      <td>2015</td>\n",
       "    </tr>\n",
       "    <tr>\n",
       "      <th>5908</th>\n",
       "      <td>전기차 충전카드 발급 받는 방법 알려주세욤^^</td>\n",
       "      <td>전기차 충전기 설치보다 차가 먼저 나올꺼 같아서\\n충전카드가 급 필요한데 어떻해 발...</td>\n",
       "      <td>삭제된 댓글입니다.\\n네 알겠습니다\\n감사합니다^^~\\n저도 궁금했었는데 ㅎㅎ 감사...</td>\n",
       "      <td>제주특별자치도</td>\n",
       "      <td>182</td>\n",
       "      <td>2015.04.08.</td>\n",
       "      <td>2015.04</td>\n",
       "      <td>전기차동호회</td>\n",
       "      <td>2015</td>\n",
       "    </tr>\n",
       "    <tr>\n",
       "      <th>5912</th>\n",
       "      <td>등업부탁해요 하반기 전기차를 신청하고싶었는데</td>\n",
       "      <td>하반기 전기차를 신청하고싶었는데\\n주차장문제로 못하로 내년 상반기를 기대합니다\\n등...</td>\n",
       "      <td>반가워요~~😊\\n내년에 제주도 전기차 공급량이 대박이던데 좋은소식 있으시길...\\n...</td>\n",
       "      <td>제주특별자치도</td>\n",
       "      <td>76</td>\n",
       "      <td>2014.10.26.</td>\n",
       "      <td>2014.10</td>\n",
       "      <td>전기차동호회</td>\n",
       "      <td>2014</td>\n",
       "    </tr>\n",
       "    <tr>\n",
       "      <th>5914</th>\n",
       "      <td>제주도, 상반기 전기차 226대 공모 7.3:1</td>\n",
       "      <td>제주도 상반기 전기차 공모결과 경쟁률이 평균 7.3:1으로 나타났다. \\n \\n제주...</td>\n",
       "      <td>내용없음</td>\n",
       "      <td>제주특별자치도</td>\n",
       "      <td>50</td>\n",
       "      <td>2014.04.08.</td>\n",
       "      <td>2014.04</td>\n",
       "      <td>전기차동호회</td>\n",
       "      <td>2014</td>\n",
       "    </tr>\n",
       "  </tbody>\n",
       "</table>\n",
       "<p>3069 rows × 9 columns</p>\n",
       "</div>"
      ],
      "text/plain": [
       "                                                     제목  \\\n",
       "0                                                봉고3더블캡   \n",
       "2     더 뉴 아이오닉 일렉트릭N 20년형 흰색7만 현대스마트센스 l추가 완전무사고/믿고사...   \n",
       "3                                              요번에 보니..   \n",
       "4         제주시 애월읍 해안도로 도보 1분 거리 애월 르시엘 아파트 할인 분양(회사 직영)   \n",
       "5                                      여행 고수님들 추천좀 해주세요   \n",
       "...                                                 ...   \n",
       "5906                                      전기차계약하려고 하는데요   \n",
       "5907                                    제주도 전기차 보급사업 결과   \n",
       "5908                          전기차 충전카드 발급 받는 방법 알려주세욤^^   \n",
       "5912                           등업부탁해요 하반기 전기차를 신청하고싶었는데   \n",
       "5914                         제주도, 상반기 전기차 226대 공모 7.3:1   \n",
       "\n",
       "                                                     내용  \\\n",
       "0     ※ 보다 투명하고, 빠른 거래를 위하여 아래의 글 양식을 준수하여 주세요. ※ \\n...   \n",
       "2     ★ 차량 정보 ★\\n\\n▶▷모델명 : 더 뉴 아이오닉 일렉트릭 N 전기차\\n\\n▶▷...   \n",
       "3     안에\\n\\n렌터카 무진장 많이 다니던데..\\n\\n임산부 노약자 상관없이..\\n\\n넘...   \n",
       "4     ◈ 매물제목 :  애월 르시엘 분양\\n◈ 거래유형 :  분양\\n◈ 소재지역 :  애...   \n",
       "5     4월22일~25일 딸3명과 엄마까지 총 4인 제주여행을 계획중입니다\\n비행기 예약은...   \n",
       "...                                                 ...   \n",
       "5906  쏘울 전기차 계약할려고하는데 딜러가 다음주 수요일이나 되야 차가 언제나올지 알수있다...   \n",
       "5907  http://m.news.naver.com/read.nhn?mode=LSD&mid=...   \n",
       "5908  전기차 충전기 설치보다 차가 먼저 나올꺼 같아서\\n충전카드가 급 필요한데 어떻해 발...   \n",
       "5912  하반기 전기차를 신청하고싶었는데\\n주차장문제로 못하로 내년 상반기를 기대합니다\\n등...   \n",
       "5914  제주도 상반기 전기차 공모결과 경쟁률이 평균 7.3:1으로 나타났다. \\n \\n제주...   \n",
       "\n",
       "                                                     댓글           유형  조회수  \\\n",
       "0                                가격이 궁금해요..^^\\n얼마인가요ㅡ\\n     제사모 중고장터  130   \n",
       "2                                                  내용없음     중고자동차 매물   62   \n",
       "3                                                  내용없음      실시간 이야기  119   \n",
       "4                                                  내용없음  ■ 분양정보/신축매물  134   \n",
       "5     렌트카는 가스 예요.\\n평소 본인이 운전하기 편한차로 하세요.\\n74시간이면 2박3...   제주여행 수다&질문   60   \n",
       "...                                                 ...          ...  ...   \n",
       "5906                                               내용없음      제주특별자치도  125   \n",
       "5907                                               내용없음      제주특별자치도  148   \n",
       "5908  삭제된 댓글입니다.\\n네 알겠습니다\\n감사합니다^^~\\n저도 궁금했었는데 ㅎㅎ 감사...      제주특별자치도  182   \n",
       "5912  반가워요~~😊\\n내년에 제주도 전기차 공급량이 대박이던데 좋은소식 있으시길...\\n...      제주특별자치도   76   \n",
       "5914                                               내용없음      제주특별자치도   50   \n",
       "\n",
       "             작성날짜       월별     카페명    년별  \n",
       "0     2022.03.16.  2022.03     제사모  2022  \n",
       "2     2022.03.16.  2022.03     제사모  2022  \n",
       "3     2022.03.15.  2022.03     제사모  2022  \n",
       "4     2022.03.15.  2022.03     제사모  2022  \n",
       "5     2022.03.14.  2022.03     제사모  2022  \n",
       "...           ...      ...     ...   ...  \n",
       "5906  2015.05.15.  2015.05  전기차동호회  2015  \n",
       "5907  2015.04.25.  2015.04  전기차동호회  2015  \n",
       "5908  2015.04.08.  2015.04  전기차동호회  2015  \n",
       "5912  2014.10.26.  2014.10  전기차동호회  2014  \n",
       "5914  2014.04.08.  2014.04  전기차동호회  2014  \n",
       "\n",
       "[3069 rows x 9 columns]"
      ]
     },
     "execution_count": 31,
     "metadata": {},
     "output_type": "execute_result"
    }
   ],
   "source": [
    "df_cafe[df_cafe.내용.str.contains('전기차')]"
   ]
  },
  {
   "cell_type": "code",
   "execution_count": null,
   "id": "a8110802-a3d8-4236-9c77-4925fbe6a57e",
   "metadata": {},
   "outputs": [],
   "source": []
  }
 ],
 "metadata": {
  "kernelspec": {
   "display_name": "Python 3 (ipykernel)",
   "language": "python",
   "name": "python3"
  },
  "language_info": {
   "codemirror_mode": {
    "name": "ipython",
    "version": 3
   },
   "file_extension": ".py",
   "mimetype": "text/x-python",
   "name": "python",
   "nbconvert_exporter": "python",
   "pygments_lexer": "ipython3",
   "version": "3.9.7"
  }
 },
 "nbformat": 4,
 "nbformat_minor": 5
}
