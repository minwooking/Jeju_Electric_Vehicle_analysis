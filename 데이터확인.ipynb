{
 "cells": [
  {
   "cell_type": "code",
   "execution_count": 13,
   "metadata": {
    "execution": {
     "iopub.execute_input": "2022-03-18T01:43:09.264211Z",
     "iopub.status.busy": "2022-03-18T01:43:09.263642Z",
     "iopub.status.idle": "2022-03-18T01:43:09.271010Z",
     "shell.execute_reply": "2022-03-18T01:43:09.270653Z",
     "shell.execute_reply.started": "2022-03-18T01:43:09.264139Z"
    },
    "tags": []
   },
   "outputs": [],
   "source": [
    "import pandas as pd\n",
    "import numpy as np\n",
    "import matplotlib.pyplot as plt\n",
    "import seaborn as sns\n",
    "import copy\n",
    "import matplotlib as mpl\n",
    "import datetime\n",
    "from datetime import timedelta\n",
    "# from datetime import datetime, date\n",
    "mpl.rcParams['axes.unicode_minus'] = False\n",
    "plt.rcParams['font.family'] = 'Malgun Gothic'\n",
    "import os"
   ]
  },
  {
   "cell_type": "code",
   "execution_count": 9,
   "metadata": {
    "execution": {
     "iopub.execute_input": "2022-03-18T01:42:00.089221Z",
     "iopub.status.busy": "2022-03-18T01:42:00.089019Z",
     "iopub.status.idle": "2022-03-18T01:42:00.095365Z",
     "shell.execute_reply": "2022-03-18T01:42:00.094764Z",
     "shell.execute_reply.started": "2022-03-18T01:42:00.089177Z"
    }
   },
   "outputs": [
    {
     "data": {
      "text/plain": [
       "'/home/miwoos/WorkSpace/Jeju_Electric_Vehicle_analysis'"
      ]
     },
     "execution_count": 9,
     "metadata": {},
     "output_type": "execute_result"
    }
   ],
   "source": [
    "pwd"
   ]
  },
  {
   "cell_type": "code",
   "execution_count": 11,
   "metadata": {
    "execution": {
     "iopub.execute_input": "2022-03-18T01:42:16.616833Z",
     "iopub.status.busy": "2022-03-18T01:42:16.616477Z",
     "iopub.status.idle": "2022-03-18T01:42:16.636206Z",
     "shell.execute_reply": "2022-03-18T01:42:16.635596Z",
     "shell.execute_reply.started": "2022-03-18T01:42:16.616798Z"
    },
    "tags": []
   },
   "outputs": [],
   "source": [
    "# os.chdir('D:\\GoogleDrive\\Data\\Data\\제주_전기차\\data')\n",
    "os.chdir('/home/miwoos/WorkSpace/GoogleDrive/제주_전기차/data/')"
   ]
  },
  {
   "cell_type": "code",
   "execution_count": 12,
   "metadata": {
    "execution": {
     "iopub.execute_input": "2022-03-18T01:42:18.555039Z",
     "iopub.status.busy": "2022-03-18T01:42:18.554604Z",
     "iopub.status.idle": "2022-03-18T01:42:18.777496Z",
     "shell.execute_reply": "2022-03-18T01:42:18.775686Z",
     "shell.execute_reply.started": "2022-03-18T01:42:18.554966Z"
    },
    "tags": []
   },
   "outputs": [
    {
     "name": "stdout",
     "output_type": "stream",
     "text": [
      " 관련키워드.csv                    전기차관련검색어인기순.csv\n",
      " 네이버-제주전기차후기통합.csv     전기차관심도지역.csv\n",
      " 느영나영전기차크롤링.csv          전기차관심증가.csv\n",
      " 느영나영전기차크롤링.csv.part     전기차키워드관련주제인기순.csv\n",
      "'본문 검색 결과_2022.03.06.xlsx'   전체본문의댓글결과_2022.03.06.xlsx\n",
      "'전기차 동호회 전기차크롤링.csv'   제사모크롤링.csv\n"
     ]
    }
   ],
   "source": [
    "ls"
   ]
  },
  {
   "cell_type": "code",
   "execution_count": 4,
   "metadata": {},
   "outputs": [],
   "source": [
    "df_google = pd.read_csv('전기차관심증가.csv')"
   ]
  },
  {
   "cell_type": "code",
   "execution_count": 5,
   "metadata": {},
   "outputs": [
    {
     "data": {
      "text/html": [
       "<div>\n",
       "<style scoped>\n",
       "    .dataframe tbody tr th:only-of-type {\n",
       "        vertical-align: middle;\n",
       "    }\n",
       "\n",
       "    .dataframe tbody tr th {\n",
       "        vertical-align: top;\n",
       "    }\n",
       "\n",
       "    .dataframe thead th {\n",
       "        text-align: right;\n",
       "    }\n",
       "</style>\n",
       "<table border=\"1\" class=\"dataframe\">\n",
       "  <thead>\n",
       "    <tr style=\"text-align: right;\">\n",
       "      <th></th>\n",
       "      <th>카테고리: 모든 카테고리</th>\n",
       "    </tr>\n",
       "  </thead>\n",
       "  <tbody>\n",
       "    <tr>\n",
       "      <th>주</th>\n",
       "      <td>전기차: (대한민국)</td>\n",
       "    </tr>\n",
       "    <tr>\n",
       "      <th>2017-03-19</th>\n",
       "      <td>40</td>\n",
       "    </tr>\n",
       "    <tr>\n",
       "      <th>2017-03-26</th>\n",
       "      <td>26</td>\n",
       "    </tr>\n",
       "    <tr>\n",
       "      <th>2017-04-02</th>\n",
       "      <td>27</td>\n",
       "    </tr>\n",
       "    <tr>\n",
       "      <th>2017-04-09</th>\n",
       "      <td>24</td>\n",
       "    </tr>\n",
       "    <tr>\n",
       "      <th>...</th>\n",
       "      <td>...</td>\n",
       "    </tr>\n",
       "    <tr>\n",
       "      <th>2022-02-13</th>\n",
       "      <td>81</td>\n",
       "    </tr>\n",
       "    <tr>\n",
       "      <th>2022-02-20</th>\n",
       "      <td>80</td>\n",
       "    </tr>\n",
       "    <tr>\n",
       "      <th>2022-02-27</th>\n",
       "      <td>76</td>\n",
       "    </tr>\n",
       "    <tr>\n",
       "      <th>2022-03-06</th>\n",
       "      <td>69</td>\n",
       "    </tr>\n",
       "    <tr>\n",
       "      <th>2022-03-13</th>\n",
       "      <td>68</td>\n",
       "    </tr>\n",
       "  </tbody>\n",
       "</table>\n",
       "<p>262 rows × 1 columns</p>\n",
       "</div>"
      ],
      "text/plain": [
       "           카테고리: 모든 카테고리\n",
       "주            전기차: (대한민국)\n",
       "2017-03-19            40\n",
       "2017-03-26            26\n",
       "2017-04-02            27\n",
       "2017-04-09            24\n",
       "...                  ...\n",
       "2022-02-13            81\n",
       "2022-02-20            80\n",
       "2022-02-27            76\n",
       "2022-03-06            69\n",
       "2022-03-13            68\n",
       "\n",
       "[262 rows x 1 columns]"
      ]
     },
     "execution_count": 5,
     "metadata": {},
     "output_type": "execute_result"
    }
   ],
   "source": [
    "df_google\n",
    "    "
   ]
  },
  {
   "cell_type": "code",
   "execution_count": 6,
   "metadata": {},
   "outputs": [
    {
     "data": {
      "text/html": [
       "<div>\n",
       "<style scoped>\n",
       "    .dataframe tbody tr th:only-of-type {\n",
       "        vertical-align: middle;\n",
       "    }\n",
       "\n",
       "    .dataframe tbody tr th {\n",
       "        vertical-align: top;\n",
       "    }\n",
       "\n",
       "    .dataframe thead th {\n",
       "        text-align: right;\n",
       "    }\n",
       "</style>\n",
       "<table border=\"1\" class=\"dataframe\">\n",
       "  <thead>\n",
       "    <tr style=\"text-align: right;\">\n",
       "      <th></th>\n",
       "      <th>제목</th>\n",
       "      <th>내용</th>\n",
       "      <th>댓글</th>\n",
       "      <th>유형</th>\n",
       "      <th>조회수</th>\n",
       "      <th>작성날짜</th>\n",
       "    </tr>\n",
       "  </thead>\n",
       "  <tbody>\n",
       "    <tr>\n",
       "      <th>0</th>\n",
       "      <td>봉고3더블캡</td>\n",
       "      <td>※ 보다 투명하고, 빠른 거래를 위하여 아래의 글 양식을 준수하여 주세요. ※ \\n...</td>\n",
       "      <td>가격이 궁금해요..^^\\n얼마인가요ㅡ\\n</td>\n",
       "      <td>제사모 중고장터</td>\n",
       "      <td>130</td>\n",
       "      <td>2022.03.16.</td>\n",
       "    </tr>\n",
       "    <tr>\n",
       "      <th>1</th>\n",
       "      <td>렌트카 알아보고 있는데 lpg 차량이 저렴한 이유가 뭘까요?</td>\n",
       "      <td>육지에서 이번주 토욜부터 제주 한달살이 시작하면서. 렌트카 알아보고 있어요. 육지에...</td>\n",
       "      <td>요즘 전기차가 대세기도 하지만 가스값 장난아니게 올랏어요...또한 한달살기라면 자차...</td>\n",
       "      <td>Q. 종합 질문방</td>\n",
       "      <td>161</td>\n",
       "      <td>2022.03.16.</td>\n",
       "    </tr>\n",
       "    <tr>\n",
       "      <th>2</th>\n",
       "      <td>더 뉴 아이오닉 일렉트릭N 20년형 흰색7만 현대스마트센스 l추가 완전무사고/믿고사...</td>\n",
       "      <td>★ 차량 정보 ★\\n\\n▶▷모델명 : 더 뉴 아이오닉 일렉트릭 N 전기차\\n\\n▶▷...</td>\n",
       "      <td>NaN</td>\n",
       "      <td>중고자동차 매물</td>\n",
       "      <td>62</td>\n",
       "      <td>2022.03.16.</td>\n",
       "    </tr>\n",
       "  </tbody>\n",
       "</table>\n",
       "</div>"
      ],
      "text/plain": [
       "                                                  제목  \\\n",
       "0                                             봉고3더블캡   \n",
       "1                  렌트카 알아보고 있는데 lpg 차량이 저렴한 이유가 뭘까요?   \n",
       "2  더 뉴 아이오닉 일렉트릭N 20년형 흰색7만 현대스마트센스 l추가 완전무사고/믿고사...   \n",
       "\n",
       "                                                  내용  \\\n",
       "0  ※ 보다 투명하고, 빠른 거래를 위하여 아래의 글 양식을 준수하여 주세요. ※ \\n...   \n",
       "1  육지에서 이번주 토욜부터 제주 한달살이 시작하면서. 렌트카 알아보고 있어요. 육지에...   \n",
       "2  ★ 차량 정보 ★\\n\\n▶▷모델명 : 더 뉴 아이오닉 일렉트릭 N 전기차\\n\\n▶▷...   \n",
       "\n",
       "                                                  댓글         유형  조회수  \\\n",
       "0                             가격이 궁금해요..^^\\n얼마인가요ㅡ\\n   제사모 중고장터  130   \n",
       "1  요즘 전기차가 대세기도 하지만 가스값 장난아니게 올랏어요...또한 한달살기라면 자차...  Q. 종합 질문방  161   \n",
       "2                                                NaN   중고자동차 매물   62   \n",
       "\n",
       "          작성날짜  \n",
       "0  2022.03.16.  \n",
       "1  2022.03.16.  \n",
       "2  2022.03.16.  "
      ]
     },
     "execution_count": 6,
     "metadata": {},
     "output_type": "execute_result"
    }
   ],
   "source": [
    "df_제사모 = pd.read_csv('제사모크롤링.csv')\n",
    "df_제사모.head(3)"
   ]
  },
  {
   "cell_type": "code",
   "execution_count": 7,
   "metadata": {},
   "outputs": [],
   "source": [
    "df_제사모['월별']=df_제사모.작성날짜.apply(lambda x: x[:-4])"
   ]
  },
  {
   "cell_type": "code",
   "execution_count": null,
   "metadata": {},
   "outputs": [],
   "source": []
  },
  {
   "cell_type": "code",
   "execution_count": null,
   "metadata": {},
   "outputs": [],
   "source": []
  },
  {
   "cell_type": "code",
   "execution_count": 8,
   "metadata": {},
   "outputs": [
    {
     "ename": "NameError",
     "evalue": "name 'df' is not defined",
     "output_type": "error",
     "traceback": [
      "\u001b[1;31m---------------------------------------------------------------------------\u001b[0m",
      "\u001b[1;31mNameError\u001b[0m                                 Traceback (most recent call last)",
      "\u001b[1;32m~\\AppData\\Local\\Temp/ipykernel_17048/1396537375.py\u001b[0m in \u001b[0;36m<module>\u001b[1;34m\u001b[0m\n\u001b[1;32m----> 1\u001b[1;33m \u001b[0mdf\u001b[0m\u001b[1;33m\u001b[0m\u001b[1;33m\u001b[0m\u001b[0m\n\u001b[0m",
      "\u001b[1;31mNameError\u001b[0m: name 'df' is not defined"
     ]
    }
   ],
   "source": [
    "df"
   ]
  },
  {
   "cell_type": "code",
   "execution_count": null,
   "metadata": {},
   "outputs": [
    {
     "data": {
      "text/plain": [
       "(array([ 0,  1,  2,  3,  4,  5,  6,  7,  8,  9, 10, 11, 12, 13, 14, 15, 16,\n",
       "        17, 18, 19, 20, 21, 22, 23, 24, 25, 26, 27, 28, 29, 30, 31, 32, 33,\n",
       "        34, 35, 36, 37, 38, 39, 40, 41, 42, 43, 44, 45, 46, 47, 48, 49, 50,\n",
       "        51, 52, 53, 54, 55, 56, 57, 58, 59, 60, 61, 62, 63, 64, 65, 66, 67,\n",
       "        68, 69, 70, 71, 72, 73, 74, 75, 76, 77, 78, 79, 80, 81, 82, 83, 84,\n",
       "        85, 86]),\n",
       " [Text(0, 0, '2010.06'),\n",
       "  Text(1, 0, '2010.11'),\n",
       "  Text(2, 0, '2011.06'),\n",
       "  Text(3, 0, '2012.07'),\n",
       "  Text(4, 0, '2013.04'),\n",
       "  Text(5, 0, '2014.02'),\n",
       "  Text(6, 0, '2014.03'),\n",
       "  Text(7, 0, '2014.07'),\n",
       "  Text(8, 0, '2014.08'),\n",
       "  Text(9, 0, '2014.09'),\n",
       "  Text(10, 0, '2014.11'),\n",
       "  Text(11, 0, '2015.03'),\n",
       "  Text(12, 0, '2015.04'),\n",
       "  Text(13, 0, '2015.12'),\n",
       "  Text(14, 0, '2016.01'),\n",
       "  Text(15, 0, '2016.02'),\n",
       "  Text(16, 0, '2016.03'),\n",
       "  Text(17, 0, '2016.04'),\n",
       "  Text(18, 0, '2016.05'),\n",
       "  Text(19, 0, '2016.07'),\n",
       "  Text(20, 0, '2016.08'),\n",
       "  Text(21, 0, '2016.09'),\n",
       "  Text(22, 0, '2016.10'),\n",
       "  Text(23, 0, '2016.11'),\n",
       "  Text(24, 0, '2017.01'),\n",
       "  Text(25, 0, '2017.02'),\n",
       "  Text(26, 0, '2017.03'),\n",
       "  Text(27, 0, '2017.04'),\n",
       "  Text(28, 0, '2017.05'),\n",
       "  Text(29, 0, '2017.06'),\n",
       "  Text(30, 0, '2017.07'),\n",
       "  Text(31, 0, '2017.08'),\n",
       "  Text(32, 0, '2017.09'),\n",
       "  Text(33, 0, '2017.10'),\n",
       "  Text(34, 0, '2017.11'),\n",
       "  Text(35, 0, '2017.12'),\n",
       "  Text(36, 0, '2018.01'),\n",
       "  Text(37, 0, '2018.02'),\n",
       "  Text(38, 0, '2018.03'),\n",
       "  Text(39, 0, '2018.04'),\n",
       "  Text(40, 0, '2018.05'),\n",
       "  Text(41, 0, '2018.06'),\n",
       "  Text(42, 0, '2018.07'),\n",
       "  Text(43, 0, '2018.08'),\n",
       "  Text(44, 0, '2018.09'),\n",
       "  Text(45, 0, '2018.10'),\n",
       "  Text(46, 0, '2018.11'),\n",
       "  Text(47, 0, '2018.12'),\n",
       "  Text(48, 0, '2019.01'),\n",
       "  Text(49, 0, '2019.02'),\n",
       "  Text(50, 0, '2019.03'),\n",
       "  Text(51, 0, '2019.04'),\n",
       "  Text(52, 0, '2019.05'),\n",
       "  Text(53, 0, '2019.06'),\n",
       "  Text(54, 0, '2019.07'),\n",
       "  Text(55, 0, '2019.08'),\n",
       "  Text(56, 0, '2019.09'),\n",
       "  Text(57, 0, '2019.10'),\n",
       "  Text(58, 0, '2019.11'),\n",
       "  Text(59, 0, '2019.12'),\n",
       "  Text(60, 0, '2020.01'),\n",
       "  Text(61, 0, '2020.02'),\n",
       "  Text(62, 0, '2020.03'),\n",
       "  Text(63, 0, '2020.04'),\n",
       "  Text(64, 0, '2020.05'),\n",
       "  Text(65, 0, '2020.06'),\n",
       "  Text(66, 0, '2020.07'),\n",
       "  Text(67, 0, '2020.08'),\n",
       "  Text(68, 0, '2020.09'),\n",
       "  Text(69, 0, '2020.10'),\n",
       "  Text(70, 0, '2020.11'),\n",
       "  Text(71, 0, '2020.12'),\n",
       "  Text(72, 0, '2021.01'),\n",
       "  Text(73, 0, '2021.02'),\n",
       "  Text(74, 0, '2021.03'),\n",
       "  Text(75, 0, '2021.04'),\n",
       "  Text(76, 0, '2021.05'),\n",
       "  Text(77, 0, '2021.06'),\n",
       "  Text(78, 0, '2021.07'),\n",
       "  Text(79, 0, '2021.08'),\n",
       "  Text(80, 0, '2021.09'),\n",
       "  Text(81, 0, '2021.10'),\n",
       "  Text(82, 0, '2021.11'),\n",
       "  Text(83, 0, '2021.12'),\n",
       "  Text(84, 0, '2022.01'),\n",
       "  Text(85, 0, '2022.02'),\n",
       "  Text(86, 0, '2022.03')])"
      ]
     },
     "execution_count": 98,
     "metadata": {},
     "output_type": "execute_result"
    },
    {
     "data": {
      "image/png": "[encoded data removed]",
      "text/plain": [
       "<Figure size 1440x1080 with 1 Axes>"
      ]
     },
     "metadata": {
      "needs_background": "light"
     },
     "output_type": "display_data"
    }
   ],
   "source": [
    "plt.figure(figsize=(20,15))\n",
    "df_제사모.groupby(df_제사모.월별).월별.count().plot.bar()\n",
    "df_제사모.groupby(df_제사모.월별).월별.count().plot(color='red')\n",
    "plt.xticks(rotation=45)"
   ]
  },
  {
   "cell_type": "code",
   "execution_count": null,
   "metadata": {},
   "outputs": [],
   "source": [
    "df_제사모=pd.concat([df_제사모,pd.DataFrame(df_제사모.월별).rename(columns={'작성날짜':'작성월분류'},inplace=True)],axis=1)"
   ]
  },
  {
   "cell_type": "code",
   "execution_count": null,
   "metadata": {},
   "outputs": [
    {
     "data": {
      "text/plain": [
       "130"
      ]
     },
     "execution_count": 126,
     "metadata": {},
     "output_type": "execute_result"
    }
   ],
   "source": [
    "int(df_제사모.조회수])"
   ]
  },
  {
   "cell_type": "code",
   "execution_count": null,
   "metadata": {},
   "outputs": [
    {
     "name": "stderr",
     "output_type": "stream",
     "text": [
      "C:\\Users\\alsdn\\AppData\\Local\\Temp/ipykernel_20748/2450812333.py:1: FutureWarning: The default value of regex will change from True to False in a future version.\n",
      "  df_제사모['조회수']=df_제사모['조회수'].str.replace('.만','000').str.replace(',','').str.replace('.','').astype(int)\n",
      "C:\\Users\\alsdn\\AppData\\Local\\Temp/ipykernel_20748/2450812333.py:1: FutureWarning: The default value of regex will change from True to False in a future version. In addition, single character regular expressions will *not* be treated as literal strings when regex=True.\n",
      "  df_제사모['조회수']=df_제사모['조회수'].str.replace('.만','000').str.replace(',','').str.replace('.','').astype(int)\n"
     ]
    }
   ],
   "source": [
    "df_제사모['조회수']=df_제사모['조회수'].str.replace('.만','000').str.replace(',','').str.replace('.','').astype(int)"
   ]
  },
  {
   "cell_type": "code",
   "execution_count": null,
   "metadata": {},
   "outputs": [
    {
     "name": "stdout",
     "output_type": "stream",
     "text": [
      "<class 'pandas.core.frame.DataFrame'>\n",
      "RangeIndex: 1016 entries, 0 to 1015\n",
      "Data columns (total 7 columns):\n",
      " #   Column  Non-Null Count  Dtype \n",
      "---  ------  --------------  ----- \n",
      " 0   제목      1016 non-null   object\n",
      " 1   내용      926 non-null    object\n",
      " 2   댓글      603 non-null    object\n",
      " 3   유형      1016 non-null   object\n",
      " 4   조회수     1016 non-null   int32 \n",
      " 5   작성날짜    1016 non-null   object\n",
      " 6   월별      1016 non-null   object\n",
      "dtypes: int32(1), object(6)\n",
      "memory usage: 51.7+ KB\n"
     ]
    }
   ],
   "source": [
    "df_제사모.info()"
   ]
  },
  {
   "cell_type": "code",
   "execution_count": null,
   "metadata": {},
   "outputs": [
    {
     "data": {
      "text/plain": [
       "<AxesSubplot:xlabel='월별'>"
      ]
     },
     "execution_count": 143,
     "metadata": {},
     "output_type": "execute_result"
    },
    {
     "data": {
      "text/plain": [
       "<Figure size 1440x1080 with 0 Axes>"
      ]
     },
     "metadata": {},
     "output_type": "display_data"
    },
    {
     "data": {
      "image/png": "[encoded data removed]",
      "text/plain": [
       "<Figure size 432x288 with 1 Axes>"
      ]
     },
     "metadata": {
      "needs_background": "light"
     },
     "output_type": "display_data"
    }
   ],
   "source": [
    "plt.figure(figsize=(20,15))\n",
    "pd.DataFrame(df_제사모.groupby(['월별'])['조회수'].sum()).plot()"
   ]
  },
  {
   "cell_type": "code",
   "execution_count": null,
   "metadata": {},
   "outputs": [],
   "source": [
    "df_제사모=pd.concat([df_제사모,pd.DataFrame(df_제사모.월별)],axis=1)"
   ]
  },
  {
   "cell_type": "code",
   "execution_count": null,
   "metadata": {},
   "outputs": [
    {
     "data": {
      "text/html": [
       "<div>\n",
       "<style scoped>\n",
       "    .dataframe tbody tr th:only-of-type {\n",
       "        vertical-align: middle;\n",
       "    }\n",
       "\n",
       "    .dataframe tbody tr th {\n",
       "        vertical-align: top;\n",
       "    }\n",
       "\n",
       "    .dataframe thead th {\n",
       "        text-align: right;\n",
       "    }\n",
       "</style>\n",
       "<table border=\"1\" class=\"dataframe\">\n",
       "  <thead>\n",
       "    <tr style=\"text-align: right;\">\n",
       "      <th></th>\n",
       "      <th>제목</th>\n",
       "      <th>내용</th>\n",
       "      <th>댓글</th>\n",
       "      <th>유형</th>\n",
       "      <th>조회수</th>\n",
       "      <th>작성날짜</th>\n",
       "      <th>작성날짜</th>\n",
       "    </tr>\n",
       "  </thead>\n",
       "  <tbody>\n",
       "    <tr>\n",
       "      <th>0</th>\n",
       "      <td>봉고3더블캡</td>\n",
       "      <td>※ 보다 투명하고, 빠른 거래를 위하여 아래의 글 양식을 준수하여 주세요. ※ \\n...</td>\n",
       "      <td>가격이 궁금해요..^^\\n얼마인가요ㅡ\\n</td>\n",
       "      <td>제사모 중고장터</td>\n",
       "      <td>130</td>\n",
       "      <td>2022.03.16.</td>\n",
       "      <td>2022.03</td>\n",
       "    </tr>\n",
       "    <tr>\n",
       "      <th>1</th>\n",
       "      <td>렌트카 알아보고 있는데 lpg 차량이 저렴한 이유가 뭘까요?</td>\n",
       "      <td>육지에서 이번주 토욜부터 제주 한달살이 시작하면서. 렌트카 알아보고 있어요. 육지에...</td>\n",
       "      <td>요즘 전기차가 대세기도 하지만 가스값 장난아니게 올랏어요...또한 한달살기라면 자차...</td>\n",
       "      <td>Q. 종합 질문방</td>\n",
       "      <td>161</td>\n",
       "      <td>2022.03.16.</td>\n",
       "      <td>2022.03</td>\n",
       "    </tr>\n",
       "    <tr>\n",
       "      <th>2</th>\n",
       "      <td>더 뉴 아이오닉 일렉트릭N 20년형 흰색7만 현대스마트센스 l추가 완전무사고/믿고사...</td>\n",
       "      <td>★ 차량 정보 ★\\n\\n▶▷모델명 : 더 뉴 아이오닉 일렉트릭 N 전기차\\n\\n▶▷...</td>\n",
       "      <td>NaN</td>\n",
       "      <td>중고자동차 매물</td>\n",
       "      <td>62</td>\n",
       "      <td>2022.03.16.</td>\n",
       "      <td>2022.03</td>\n",
       "    </tr>\n",
       "    <tr>\n",
       "      <th>3</th>\n",
       "      <td>요번에 보니..</td>\n",
       "      <td>안에\\n\\n렌터카 무진장 많이 다니던데..\\n\\n임산부 노약자 상관없이..\\n\\n넘...</td>\n",
       "      <td>NaN</td>\n",
       "      <td>실시간 이야기</td>\n",
       "      <td>119</td>\n",
       "      <td>2022.03.15.</td>\n",
       "      <td>2022.03</td>\n",
       "    </tr>\n",
       "    <tr>\n",
       "      <th>4</th>\n",
       "      <td>제주시 애월읍 해안도로 도보 1분 거리 애월 르시엘 아파트 할인 분양(회사 직영)</td>\n",
       "      <td>◈ 매물제목 :  애월 르시엘 분양\\n◈ 거래유형 :  분양\\n◈ 소재지역 :  애...</td>\n",
       "      <td>NaN</td>\n",
       "      <td>■ 분양정보/신축매물</td>\n",
       "      <td>134</td>\n",
       "      <td>2022.03.15.</td>\n",
       "      <td>2022.03</td>\n",
       "    </tr>\n",
       "    <tr>\n",
       "      <th>...</th>\n",
       "      <td>...</td>\n",
       "      <td>...</td>\n",
       "      <td>...</td>\n",
       "      <td>...</td>\n",
       "      <td>...</td>\n",
       "      <td>...</td>\n",
       "      <td>...</td>\n",
       "    </tr>\n",
       "    <tr>\n",
       "      <th>1011</th>\n",
       "      <td>잘잘특공대~~~~</td>\n",
       "      <td>JIBS 방송국...잘잘특공대인가..\\n요즘 뭐 시장을 돌면서 하는 프로그램에서~~...</td>\n",
       "      <td>잘 피하세요 ^^ ㅋㅋㅋ\\n안에 짱박혀서...그냥 있어요ㅕ~~~\\n제가 하는 파트랑...</td>\n",
       "      <td>이시국 랜선여행 (종료)</td>\n",
       "      <td>31</td>\n",
       "      <td>2011.06.09.</td>\n",
       "      <td>2011.06</td>\n",
       "    </tr>\n",
       "    <tr>\n",
       "      <th>1012</th>\n",
       "      <td>제목이 없습니다</td>\n",
       "      <td>내용이 없습니다</td>\n",
       "      <td>댓글이 없습니다</td>\n",
       "      <td>유형이 없습니다</td>\n",
       "      <td>16</td>\n",
       "      <td>2010.11.29.</td>\n",
       "      <td>2010.11</td>\n",
       "    </tr>\n",
       "    <tr>\n",
       "      <th>1013</th>\n",
       "      <td>전기차~~~</td>\n",
       "      <td>아주 아담한 전기차~~~~</td>\n",
       "      <td>헛..어디 김녕에서 찍은건가요? 어디서 찍은거죠? ^^;;\\n글고 요차.....넘 ...</td>\n",
       "      <td>실시간 이야기</td>\n",
       "      <td>65</td>\n",
       "      <td>2010.11.22.</td>\n",
       "      <td>2010.11</td>\n",
       "    </tr>\n",
       "    <tr>\n",
       "      <th>1014</th>\n",
       "      <td>제목이 없습니다</td>\n",
       "      <td>내용이 없습니다</td>\n",
       "      <td>댓글이 없습니다</td>\n",
       "      <td>유형이 없습니다</td>\n",
       "      <td>8</td>\n",
       "      <td>2010.11.19.</td>\n",
       "      <td>2010.11</td>\n",
       "    </tr>\n",
       "    <tr>\n",
       "      <th>1015</th>\n",
       "      <td>고민하다가~~~</td>\n",
       "      <td>이번에 스마트그리드에 사용하는 전기차와</td>\n",
       "      <td>1인용이에요??ㅎㅎ\\n오왕~~~~~ 제네시스 안 부러운 차네요! 원츄 원츄 ^^ 대...</td>\n",
       "      <td>제사모 사진방</td>\n",
       "      <td>317</td>\n",
       "      <td>2010.06.08.</td>\n",
       "      <td>2010.06</td>\n",
       "    </tr>\n",
       "  </tbody>\n",
       "</table>\n",
       "<p>1016 rows × 7 columns</p>\n",
       "</div>"
      ],
      "text/plain": [
       "                                                     제목  \\\n",
       "0                                                봉고3더블캡   \n",
       "1                     렌트카 알아보고 있는데 lpg 차량이 저렴한 이유가 뭘까요?   \n",
       "2     더 뉴 아이오닉 일렉트릭N 20년형 흰색7만 현대스마트센스 l추가 완전무사고/믿고사...   \n",
       "3                                              요번에 보니..   \n",
       "4         제주시 애월읍 해안도로 도보 1분 거리 애월 르시엘 아파트 할인 분양(회사 직영)   \n",
       "...                                                 ...   \n",
       "1011                                          잘잘특공대~~~~   \n",
       "1012                                           제목이 없습니다   \n",
       "1013                                             전기차~~~   \n",
       "1014                                           제목이 없습니다   \n",
       "1015                                           고민하다가~~~   \n",
       "\n",
       "                                                     내용  \\\n",
       "0     ※ 보다 투명하고, 빠른 거래를 위하여 아래의 글 양식을 준수하여 주세요. ※ \\n...   \n",
       "1     육지에서 이번주 토욜부터 제주 한달살이 시작하면서. 렌트카 알아보고 있어요. 육지에...   \n",
       "2     ★ 차량 정보 ★\\n\\n▶▷모델명 : 더 뉴 아이오닉 일렉트릭 N 전기차\\n\\n▶▷...   \n",
       "3     안에\\n\\n렌터카 무진장 많이 다니던데..\\n\\n임산부 노약자 상관없이..\\n\\n넘...   \n",
       "4     ◈ 매물제목 :  애월 르시엘 분양\\n◈ 거래유형 :  분양\\n◈ 소재지역 :  애...   \n",
       "...                                                 ...   \n",
       "1011  JIBS 방송국...잘잘특공대인가..\\n요즘 뭐 시장을 돌면서 하는 프로그램에서~~...   \n",
       "1012                                           내용이 없습니다   \n",
       "1013                                     아주 아담한 전기차~~~~   \n",
       "1014                                           내용이 없습니다   \n",
       "1015                              이번에 스마트그리드에 사용하는 전기차와   \n",
       "\n",
       "                                                     댓글             유형  조회수  \\\n",
       "0                                가격이 궁금해요..^^\\n얼마인가요ㅡ\\n       제사모 중고장터  130   \n",
       "1     요즘 전기차가 대세기도 하지만 가스값 장난아니게 올랏어요...또한 한달살기라면 자차...      Q. 종합 질문방  161   \n",
       "2                                                   NaN       중고자동차 매물   62   \n",
       "3                                                   NaN        실시간 이야기  119   \n",
       "4                                                   NaN    ■ 분양정보/신축매물  134   \n",
       "...                                                 ...            ...  ...   \n",
       "1011  잘 피하세요 ^^ ㅋㅋㅋ\\n안에 짱박혀서...그냥 있어요ㅕ~~~\\n제가 하는 파트랑...  이시국 랜선여행 (종료)   31   \n",
       "1012                                           댓글이 없습니다       유형이 없습니다   16   \n",
       "1013  헛..어디 김녕에서 찍은건가요? 어디서 찍은거죠? ^^;;\\n글고 요차.....넘 ...        실시간 이야기   65   \n",
       "1014                                           댓글이 없습니다       유형이 없습니다    8   \n",
       "1015  1인용이에요??ㅎㅎ\\n오왕~~~~~ 제네시스 안 부러운 차네요! 원츄 원츄 ^^ 대...        제사모 사진방  317   \n",
       "\n",
       "             작성날짜     작성날짜  \n",
       "0     2022.03.16.  2022.03  \n",
       "1     2022.03.16.  2022.03  \n",
       "2     2022.03.16.  2022.03  \n",
       "3     2022.03.15.  2022.03  \n",
       "4     2022.03.15.  2022.03  \n",
       "...           ...      ...  \n",
       "1011  2011.06.09.  2011.06  \n",
       "1012  2010.11.29.  2010.11  \n",
       "1013  2010.11.22.  2010.11  \n",
       "1014  2010.11.19.  2010.11  \n",
       "1015  2010.06.08.  2010.06  \n",
       "\n",
       "[1016 rows x 7 columns]"
      ]
     },
     "execution_count": 35,
     "metadata": {},
     "output_type": "execute_result"
    }
   ],
   "source": []
  },
  {
   "cell_type": "code",
   "execution_count": null,
   "metadata": {},
   "outputs": [
    {
     "data": {
      "text/html": [
       "<div>\n",
       "<style scoped>\n",
       "    .dataframe tbody tr th:only-of-type {\n",
       "        vertical-align: middle;\n",
       "    }\n",
       "\n",
       "    .dataframe tbody tr th {\n",
       "        vertical-align: top;\n",
       "    }\n",
       "\n",
       "    .dataframe thead th {\n",
       "        text-align: right;\n",
       "    }\n",
       "</style>\n",
       "<table border=\"1\" class=\"dataframe\">\n",
       "  <thead>\n",
       "    <tr style=\"text-align: right;\">\n",
       "      <th></th>\n",
       "      <th>제목</th>\n",
       "      <th>내용</th>\n",
       "      <th>댓글</th>\n",
       "      <th>유형</th>\n",
       "      <th>조회수</th>\n",
       "      <th>작성날짜</th>\n",
       "    </tr>\n",
       "  </thead>\n",
       "  <tbody>\n",
       "    <tr>\n",
       "      <th>0</th>\n",
       "      <td>우도갈때 렌트카 가지고 들어가는게 나을까요?</td>\n",
       "      <td>영유아있어서 가능하긴한데 글보니 전기차들 많아서\\n운전불편할수도 있다는 글을 봐서요...</td>\n",
       "      <td>예전에는 전기차에 자동차에 길은 좁은데 구불구불 운전하면서도 위험 느낄때 많았는데 ...</td>\n",
       "      <td>┌─┐여행 준비하기</td>\n",
       "      <td>365</td>\n",
       "      <td>2022.03.15.</td>\n",
       "    </tr>\n",
       "    <tr>\n",
       "      <th>1</th>\n",
       "      <td>5개월된 애기와 와이프 이렇게 3명서 여행갑니다~~장소 추천부탁해요~</td>\n",
       "      <td>이번 제주도 여행은 정말로 다르네요..ㅎㅎ\\n기존에는 남자끼리 여행을 다녀서 코스가...</td>\n",
       "      <td>날씨 확인하시고 좋으면 우도가세요 서빈백사에서 발도담그고 바다멍해도 좋을것같아요\\n...</td>\n",
       "      <td>┌─┐여행 준비하기</td>\n",
       "      <td>113</td>\n",
       "      <td>2022.03.15.</td>\n",
       "    </tr>\n",
       "    <tr>\n",
       "      <th>2</th>\n",
       "      <td>4월말 예정인데 벌써 LPG는 다 나갔을까요</td>\n",
       "      <td>SK렌터카고 롯데렌터카고 죄다 휘발류 디젤 전기차 밖에 없네요ㅎㅎ\\n전기차는 사실 ...</td>\n",
       "      <td>기름 값도 비싸고 LPG도 가격이 많이 올랐기는 마찬가지에요.\\n전기차 빌리시는게 ...</td>\n",
       "      <td>┌─┐여행 준비하기</td>\n",
       "      <td>368</td>\n",
       "      <td>2022.03.15.</td>\n",
       "    </tr>\n",
       "  </tbody>\n",
       "</table>\n",
       "</div>"
      ],
      "text/plain": [
       "                                       제목  \\\n",
       "0                우도갈때 렌트카 가지고 들어가는게 나을까요?   \n",
       "1  5개월된 애기와 와이프 이렇게 3명서 여행갑니다~~장소 추천부탁해요~   \n",
       "2                4월말 예정인데 벌써 LPG는 다 나갔을까요   \n",
       "\n",
       "                                                  내용  \\\n",
       "0  영유아있어서 가능하긴한데 글보니 전기차들 많아서\\n운전불편할수도 있다는 글을 봐서요...   \n",
       "1  이번 제주도 여행은 정말로 다르네요..ㅎㅎ\\n기존에는 남자끼리 여행을 다녀서 코스가...   \n",
       "2  SK렌터카고 롯데렌터카고 죄다 휘발류 디젤 전기차 밖에 없네요ㅎㅎ\\n전기차는 사실 ...   \n",
       "\n",
       "                                                  댓글          유형  조회수  \\\n",
       "0  예전에는 전기차에 자동차에 길은 좁은데 구불구불 운전하면서도 위험 느낄때 많았는데 ...  ┌─┐여행 준비하기  365   \n",
       "1  날씨 확인하시고 좋으면 우도가세요 서빈백사에서 발도담그고 바다멍해도 좋을것같아요\\n...  ┌─┐여행 준비하기  113   \n",
       "2  기름 값도 비싸고 LPG도 가격이 많이 올랐기는 마찬가지에요.\\n전기차 빌리시는게 ...  ┌─┐여행 준비하기  368   \n",
       "\n",
       "          작성날짜  \n",
       "0  2022.03.15.  \n",
       "1  2022.03.15.  \n",
       "2  2022.03.15.  "
      ]
     },
     "execution_count": 18,
     "metadata": {},
     "output_type": "execute_result"
    }
   ],
   "source": [
    "df_느영나영 = pd.read_csv('느영나영전기차크롤링.csv')\n",
    "df_느영나영.head(3)"
   ]
  },
  {
   "cell_type": "code",
   "execution_count": null,
   "metadata": {},
   "outputs": [],
   "source": [
    "df_투플럭스 = pd.read_excel('본문 검색 결과_2022.03.06.xlsx')"
   ]
  },
  {
   "cell_type": "code",
   "execution_count": null,
   "metadata": {},
   "outputs": [
    {
     "data": {
      "text/html": [
       "<div>\n",
       "<style scoped>\n",
       "    .dataframe tbody tr th:only-of-type {\n",
       "        vertical-align: middle;\n",
       "    }\n",
       "\n",
       "    .dataframe tbody tr th {\n",
       "        vertical-align: top;\n",
       "    }\n",
       "\n",
       "    .dataframe thead th {\n",
       "        text-align: right;\n",
       "    }\n",
       "</style>\n",
       "<table border=\"1\" class=\"dataframe\">\n",
       "  <thead>\n",
       "    <tr style=\"text-align: right;\">\n",
       "      <th></th>\n",
       "      <th>Unnamed: 0</th>\n",
       "      <th>classCode</th>\n",
       "      <th>필터명</th>\n",
       "      <th>수집채널</th>\n",
       "      <th>카페명</th>\n",
       "      <th>제목</th>\n",
       "      <th>작성자</th>\n",
       "      <th>작성시간</th>\n",
       "      <th>조회수</th>\n",
       "      <th>댓글수</th>\n",
       "      <th>...</th>\n",
       "      <th>Url</th>\n",
       "      <th>Contents</th>\n",
       "      <th>ChannelCode</th>\n",
       "      <th>ContentType</th>\n",
       "      <th>PostNo</th>\n",
       "      <th>Sno</th>\n",
       "      <th>Og_ImageUrl</th>\n",
       "      <th>Og_Description</th>\n",
       "      <th>grpNo</th>\n",
       "      <th>SeqIdx</th>\n",
       "    </tr>\n",
       "  </thead>\n",
       "  <tbody>\n",
       "    <tr>\n",
       "      <th>0</th>\n",
       "      <td>NaN</td>\n",
       "      <td>-99</td>\n",
       "      <td>NaN</td>\n",
       "      <td>네이버카페</td>\n",
       "      <td>전기차동호회</td>\n",
       "      <td>아이오닉5 휠베이스 3000의 가치</td>\n",
       "      <td>용꽁I코나일렉I군포</td>\n",
       "      <td>2021-01-12 17:01:00</td>\n",
       "      <td>7147</td>\n",
       "      <td>16</td>\n",
       "      <td>...</td>\n",
       "      <td>https://cafe.naver.com/allfm01/550997</td>\n",
       "      <td>▶ 아이오닉5 휠베이스 3000의 가치_x000D_\\n_x000D_\\n서비스센터 갔...</td>\n",
       "      <td>1002</td>\n",
       "      <td>P</td>\n",
       "      <td>79504497</td>\n",
       "      <td>0</td>\n",
       "      <td>NaN</td>\n",
       "      <td>NaN</td>\n",
       "      <td>1116</td>\n",
       "      <td>79504497</td>\n",
       "    </tr>\n",
       "    <tr>\n",
       "      <th>1</th>\n",
       "      <td>NaN</td>\n",
       "      <td>-99</td>\n",
       "      <td>NaN</td>\n",
       "      <td>네이버카페</td>\n",
       "      <td>전기차동호회</td>\n",
       "      <td>현대차 아이오닉5 vs 테슬라 모델Y, 뭘 살까요?</td>\n",
       "      <td>뭉치I오닉5모3I서울</td>\n",
       "      <td>2021-02-23 21:36:00</td>\n",
       "      <td>4268</td>\n",
       "      <td>19</td>\n",
       "      <td>...</td>\n",
       "      <td>https://cafe.naver.com/allfm01/570331</td>\n",
       "      <td>▶ 현대차 아이오닉5 vs 테슬라 모델Y, 뭘 살까요?_x000D_\\n_x000D_...</td>\n",
       "      <td>1002</td>\n",
       "      <td>P</td>\n",
       "      <td>82848532</td>\n",
       "      <td>0</td>\n",
       "      <td>NaN</td>\n",
       "      <td>NaN</td>\n",
       "      <td>1116</td>\n",
       "      <td>82848532</td>\n",
       "    </tr>\n",
       "  </tbody>\n",
       "</table>\n",
       "<p>2 rows × 27 columns</p>\n",
       "</div>"
      ],
      "text/plain": [
       "   Unnamed: 0  classCode  필터명   수집채널     카페명                            제목  \\\n",
       "0         NaN        -99  NaN  네이버카페  전기차동호회           아이오닉5 휠베이스 3000의 가치   \n",
       "1         NaN        -99  NaN  네이버카페  전기차동호회  현대차 아이오닉5 vs 테슬라 모델Y, 뭘 살까요?   \n",
       "\n",
       "           작성자                작성시간   조회수  댓글수  ...  \\\n",
       "0   용꽁I코나일렉I군포 2021-01-12 17:01:00  7147   16  ...   \n",
       "1  뭉치I오닉5모3I서울 2021-02-23 21:36:00  4268   19  ...   \n",
       "\n",
       "                                     Url  \\\n",
       "0  https://cafe.naver.com/allfm01/550997   \n",
       "1  https://cafe.naver.com/allfm01/570331   \n",
       "\n",
       "                                            Contents  ChannelCode ContentType  \\\n",
       "0  ▶ 아이오닉5 휠베이스 3000의 가치_x000D_\\n_x000D_\\n서비스센터 갔...         1002           P   \n",
       "1  ▶ 현대차 아이오닉5 vs 테슬라 모델Y, 뭘 살까요?_x000D_\\n_x000D_...         1002           P   \n",
       "\n",
       "     PostNo Sno  Og_ImageUrl Og_Description grpNo    SeqIdx  \n",
       "0  79504497   0          NaN            NaN  1116  79504497  \n",
       "1  82848532   0          NaN            NaN  1116  82848532  \n",
       "\n",
       "[2 rows x 27 columns]"
      ]
     },
     "execution_count": 22,
     "metadata": {},
     "output_type": "execute_result"
    }
   ],
   "source": [
    "df_투플럭스.head(2)"
   ]
  },
  {
   "cell_type": "code",
   "execution_count": 14,
   "metadata": {
    "execution": {
     "iopub.execute_input": "2022-03-18T01:43:28.556796Z",
     "iopub.status.busy": "2022-03-18T01:43:28.556536Z",
     "iopub.status.idle": "2022-03-18T01:43:30.997207Z",
     "shell.execute_reply": "2022-03-18T01:43:30.996279Z",
     "shell.execute_reply.started": "2022-03-18T01:43:28.556756Z"
    }
   },
   "outputs": [],
   "source": [
    "df_네이버뷰 = pd.read_csv('네이버-제주전기차후기통합.csv')"
   ]
  },
  {
   "cell_type": "code",
   "execution_count": 19,
   "metadata": {
    "execution": {
     "iopub.execute_input": "2022-03-18T01:51:43.912869Z",
     "iopub.status.busy": "2022-03-18T01:51:43.912449Z",
     "iopub.status.idle": "2022-03-18T01:51:43.922560Z",
     "shell.execute_reply": "2022-03-18T01:51:43.921760Z",
     "shell.execute_reply.started": "2022-03-18T01:51:43.912837Z"
    },
    "tags": []
   },
   "outputs": [
    {
     "data": {
      "text/plain": [
       "2019.04.03.    103\n",
       "2019.04.04.     64\n",
       "2019.04.02.     55\n",
       "2019.04.01.     33\n",
       "2020.01.21.     24\n",
       "              ... \n",
       "2016.05.04.      1\n",
       "2016.04.21.      1\n",
       "2016.04.20.      1\n",
       "2016.04.18.      1\n",
       "2017.07.09.      1\n",
       "Name: 날짜, Length: 1955, dtype: int64"
      ]
     },
     "execution_count": 19,
     "metadata": {},
     "output_type": "execute_result"
    }
   ],
   "source": [
    "df_네이버뷰.날짜.value_counts()"
   ]
  },
  {
   "cell_type": "code",
   "execution_count": 21,
   "metadata": {
    "execution": {
     "iopub.execute_input": "2022-03-18T02:42:48.964236Z",
     "iopub.status.busy": "2022-03-18T02:42:48.963812Z",
     "iopub.status.idle": "2022-03-18T02:42:48.973323Z",
     "shell.execute_reply": "2022-03-18T02:42:48.972497Z",
     "shell.execute_reply.started": "2022-03-18T02:42:48.964194Z"
    },
    "tags": []
   },
   "outputs": [
    {
     "data": {
      "text/plain": [
       "'/home/miwoos/WorkSpace/GoogleDrive/제주_전기차/data'"
      ]
     },
     "execution_count": 21,
     "metadata": {},
     "output_type": "execute_result"
    }
   ],
   "source": [
    "pwd"
   ]
  },
  {
   "cell_type": "code",
   "execution_count": 23,
   "metadata": {
    "execution": {
     "iopub.execute_input": "2022-03-18T02:43:38.294229Z",
     "iopub.status.busy": "2022-03-18T02:43:38.293799Z",
     "iopub.status.idle": "2022-03-18T02:43:38.299369Z",
     "shell.execute_reply": "2022-03-18T02:43:38.298784Z",
     "shell.execute_reply.started": "2022-03-18T02:43:38.294152Z"
    },
    "tags": []
   },
   "outputs": [],
   "source": [
    "os.chdir('/home/miwoos/WorkSpace/Jeju_Electric_Vehicle_analysis')"
   ]
  },
  {
   "cell_type": "code",
   "execution_count": 24,
   "metadata": {
    "execution": {
     "iopub.execute_input": "2022-03-18T02:43:42.220856Z",
     "iopub.status.busy": "2022-03-18T02:43:42.220328Z",
     "iopub.status.idle": "2022-03-18T02:43:42.229086Z",
     "shell.execute_reply": "2022-03-18T02:43:42.228034Z",
     "shell.execute_reply.started": "2022-03-18T02:43:42.220769Z"
    }
   },
   "outputs": [
    {
     "data": {
      "text/plain": [
       "'/home/miwoos/WorkSpace/Jeju_Electric_Vehicle_analysis'"
      ]
     },
     "execution_count": 24,
     "metadata": {},
     "output_type": "execute_result"
    }
   ],
   "source": [
    "pwd"
   ]
  },
  {
   "cell_type": "code",
   "execution_count": 25,
   "metadata": {
    "execution": {
     "iopub.execute_input": "2022-03-18T02:44:11.599015Z",
     "iopub.status.busy": "2022-03-18T02:44:11.598591Z",
     "iopub.status.idle": "2022-03-18T02:44:11.603091Z",
     "shell.execute_reply": "2022-03-18T02:44:11.602767Z",
     "shell.execute_reply.started": "2022-03-18T02:44:11.598969Z"
    }
   },
   "outputs": [
    {
     "name": "stdout",
     "output_type": "stream",
     "text": [
      "/home/miwoos/WorkSpace/Jeju_Electric_Vehicle_analysis\n"
     ]
    }
   ],
   "source": [
    "cd /home/miwoos/WorkSpace/Jeju_Electric_Vehicle_analysis"
   ]
  },
  {
   "cell_type": "code",
   "execution_count": 26,
   "metadata": {
    "execution": {
     "iopub.execute_input": "2022-03-18T02:44:20.375276Z",
     "iopub.status.busy": "2022-03-18T02:44:20.374858Z",
     "iopub.status.idle": "2022-03-18T02:44:20.498399Z",
     "shell.execute_reply": "2022-03-18T02:44:20.495827Z",
     "shell.execute_reply.started": "2022-03-18T02:44:20.375237Z"
    }
   },
   "outputs": [],
   "source": [
    "!git add ."
   ]
  },
  {
   "cell_type": "code",
   "execution_count": 28,
   "metadata": {
    "execution": {
     "iopub.execute_input": "2022-03-18T02:44:45.747364Z",
     "iopub.status.busy": "2022-03-18T02:44:45.746884Z",
     "iopub.status.idle": "2022-03-18T02:44:45.874163Z",
     "shell.execute_reply": "2022-03-18T02:44:45.872579Z",
     "shell.execute_reply.started": "2022-03-18T02:44:45.747290Z"
    },
    "tags": []
   },
   "outputs": [
    {
     "name": "stdout",
     "output_type": "stream",
     "text": [
      "현재 브랜치 main\n",
      "브랜치가 'origin/main'에 맞게 업데이트된 상태입니다.\n",
      "\n",
      "커밋하도록 정하지 않은 변경 사항:\n",
      "  (무엇을 커밋할지 바꾸려면 \"git add <파일>...\"을 사용하십시오)\n",
      "  (작업 디렉토리의 변경을 무시하려면 \"git restore <file>...\"을 사용하시오)\n",
      "\t\u001b[31m수정함:        \"\\353\\215\\260\\354\\235\\264\\355\\204\\260\\355\\231\\225\\354\\235\\270.ipynb\"\u001b[m\n",
      "\n",
      "커밋할 변경 사항을 추가하지 않았습니다 (\"git add\" 및/또는 \"git commit -a\"를\n",
      "사용하십시오)\n"
     ]
    }
   ],
   "source": [
    "!git commit -m 'commit test'"
   ]
  },
  {
   "cell_type": "code",
   "execution_count": null,
   "metadata": {
    "tags": []
   },
   "outputs": [],
   "source": [
    "!git add .\n",
    "!git commit -m 'jupyter lab 에서 커밋하기'"
   ]
  },
  {
   "cell_type": "code",
   "execution_count": null,
   "metadata": {},
   "outputs": [],
   "source": [
    "!git push"
   ]
  },
  {
   "cell_type": "code",
   "execution_count": null,
   "metadata": {},
   "outputs": [],
   "source": [
    "asdas"
   ]
  }
 ],
 "metadata": {
  "interpreter": {
   "hash": "982c78d920726c4e066517e5f806c5a92239fdf1e257c5744bcc49f815c4d4bb"
  },
  "kernelspec": {
   "display_name": "Python 3 (ipykernel)",
   "language": "python",
   "name": "python3"
  },
  "language_info": {
   "codemirror_mode": {
    "name": "ipython",
    "version": 3
   },
   "file_extension": ".py",
   "mimetype": "text/x-python",
   "name": "python",
   "nbconvert_exporter": "python",
   "pygments_lexer": "ipython3",
   "version": "3.9.7"
  },
  "toc-showcode": false
 },
 "nbformat": 4,
 "nbformat_minor": 4
}
