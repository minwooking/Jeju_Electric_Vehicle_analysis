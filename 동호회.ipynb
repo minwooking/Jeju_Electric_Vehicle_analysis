{
 "cells": [
  {
   "cell_type": "markdown",
   "metadata": {},
   "source": [
    "# 동호회 데이터 분석 \n",
    "- 수집기간 2019.02.28 ~ 2022.02.28\n",
    "- 카페명 전기차동호회,클럽코나EV"
   ]
  },
  {
   "cell_type": "code",
   "execution_count": 1,
   "metadata": {},
   "outputs": [],
   "source": [
    "import pandas as pd\n",
    "import numpy as np"
   ]
  },
  {
   "cell_type": "code",
   "execution_count": null,
   "metadata": {},
   "outputs": [],
   "source": [
    "df = pd.read_excel('본문 검색 결과_2022.03.06.xlsx')"
   ]
  },
  {
   "cell_type": "code",
   "execution_count": 3,
   "metadata": {},
   "outputs": [
    {
     "data": {
      "text/plain": [
       "23962"
      ]
     },
     "execution_count": 3,
     "metadata": {},
     "output_type": "execute_result"
    }
   ],
   "source": [
    "df.카페명.isnull().sum()"
   ]
  },
  {
   "cell_type": "code",
   "execution_count": 5,
   "metadata": {},
   "outputs": [
    {
     "data": {
      "text/plain": [
       "'▶ 전기차 탄지 2년만에 충전 스트레스를 처음 받아보네요 ㅠㅠ_x000D_\\n_x000D_\\n최근 이사를 했는데요. 이사 전에 전기차 충전기가 몇대까지 있는지부터 파워큐브가 있는지를 최우선으로 고려하게 되더라구요. 전에 살던 아파트가 워낙 대단지에 전기차 인프라도 잘 되어 있었는데, 새로 이사한 집은 700세대에 전기차 충전기는 완속3대, 급속1대, 파워큐브 이동형이 있더라구요. ? 큰 걱정없겠다 싶어서 이사를 했는데 충전이 참 스트레스네요 ㅠㅠ 파워큐브는 꽂으면 항상 지역사용량 초과뜨면서 충전이 안되고... 완속, 급속은 전기차 오너들도 그냥 꽂아두고 기본 2일 씩은 잠수타버리네요. ? 어제 밤에 타지역 갔다가 주행가능거리 20km에서 오늘 출근못할까봐 완속, 급속 안따지고 꽂으려는데 여전히 주차된걸 보고 참... 다행히 파워큐브때문에 아침에 출근했네요. ? 전기차 오너분들끼리 최소한의 매너는 지켰으면 좋겠습니다...ㅠㅠ'"
      ]
     },
     "execution_count": 5,
     "metadata": {},
     "output_type": "execute_result"
    }
   ],
   "source": [
    "df.Contents[10000]"
   ]
  },
  {
   "cell_type": "markdown",
   "metadata": {},
   "source": [
    "df"
   ]
  },
  {
   "cell_type": "markdown",
   "metadata": {},
   "source": [
    "<img src=\"https://biz.chosun.com/resizer/pbvjIVkbdoCUf_4Z5maSvvEFWi8=/616x0/smart/cloudfront-ap-northeast-1.images.arcpublishing.com/chosunbiz/XXQXIK5SKJECFPCRGI3JDQRJRE.png\">\n"
   ]
  },
  {
   "cell_type": "code",
   "execution_count": null,
   "metadata": {},
   "outputs": [],
   "source": []
  },
  {
   "cell_type": "code",
   "execution_count": null,
   "metadata": {},
   "outputs": [],
   "source": []
  }
 ],
 "metadata": {
  "interpreter": {
   "hash": "d2fd8c4474f054a18d8dada1f1309894080d2f5dd228179df2638892ef1ae857"
  },
  "kernelspec": {
   "display_name": "Python 3.9.7 ('base')",
   "language": "python",
   "name": "python3"
  },
  "language_info": {
   "codemirror_mode": {
    "name": "ipython",
    "version": 3
   },
   "file_extension": ".py",
   "mimetype": "text/x-python",
   "name": "python",
   "nbconvert_exporter": "python",
   "pygments_lexer": "ipython3",
   "version": "3.9.7"
  },
  "orig_nbformat": 4
 },
 "nbformat": 4,
 "nbformat_minor": 2
}
