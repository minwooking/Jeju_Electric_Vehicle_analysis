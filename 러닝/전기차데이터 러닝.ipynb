{
 "cells": [
  {
   "cell_type": "markdown",
   "metadata": {},
   "source": [
    "## UseLib"
   ]
  },
  {
   "cell_type": "code",
   "execution_count": 25,
   "metadata": {
    "execution": {
     "iopub.execute_input": "2022-03-23T10:21:44.839088Z",
     "iopub.status.busy": "2022-03-23T10:21:44.838929Z",
     "iopub.status.idle": "2022-03-23T10:21:44.845142Z",
     "shell.execute_reply": "2022-03-23T10:21:44.844425Z",
     "shell.execute_reply.started": "2022-03-23T10:21:44.839075Z"
    },
    "tags": []
   },
   "outputs": [],
   "source": [
    "############## 전처리 및 데이터 핸들링 ###############################\n",
    "\n",
    "import numpy as np\n",
    "import  pandas as pd\n",
    "import os\n",
    "from konlpy.tag import Okt \n",
    "okt = Okt()\n",
    "from tqdm.notebook import tqdm\n",
    "import joblib\n",
    "from sklearn.preprocessing import LabelEncoder\n",
    "from sklearn.model_selection import train_test_split\n",
    "import copy\n",
    "from sklearn.feature_extraction.text import CountVectorizer\n",
    "from sklearn.feature_extraction.text import TfidfVectorizer\n",
    "\n",
    "\n",
    "from tqdm import tqdm\n",
    "import time\n",
    "\n",
    "############## 머신러닝 모델#########################\n",
    "from sklearn.naive_bayes import MultinomialNB\n",
    "nb = MultinomialNB()\n",
    "from sklearn.linear_model import LogisticRegression\n",
    "lr = LogisticRegression()\n",
    "from sklearn.svm import SVC\n",
    "svc =  SVC()\n",
    "from sklearn.neighbors import KNeighborsClassifier\n",
    "knn =KNeighborsClassifier()\n",
    "from sklearn.ensemble import RandomForestClassifier\n",
    "rfc = RandomForestClassifier(random_state=2021)\n",
    "import xgboost as xgb\n",
    "from xgboost import XGBClassifier\n",
    "xgc = XGBClassifier()\n",
    "\n",
    "\n",
    "############## 평가 ###############################\n",
    "from sklearn.metrics import accuracy_score\n",
    "from sklearn.metrics import precision_score, recall_score, f1_score\n",
    "from sklearn.model_selection import GridSearchCV"
   ]
  },
  {
   "cell_type": "markdown",
   "metadata": {},
   "source": [
    "## UseData"
   ]
  },
  {
   "cell_type": "code",
   "execution_count": 2,
   "metadata": {
    "execution": {
     "iopub.execute_input": "2022-03-23T10:09:57.286075Z",
     "iopub.status.busy": "2022-03-23T10:09:57.285356Z",
     "iopub.status.idle": "2022-03-23T10:09:58.005442Z",
     "shell.execute_reply": "2022-03-23T10:09:58.003897Z",
     "shell.execute_reply.started": "2022-03-23T10:09:57.286005Z"
    }
   },
   "outputs": [
    {
     "name": "stdout",
     "output_type": "stream",
     "text": [
      "/home/miwoos/WorkSpace/GoogleDrive/제주_전기차/data\n"
     ]
    }
   ],
   "source": [
    "cd ~/WorkSpace/GoogleDrive/제주_전기차/data "
   ]
  },
  {
   "cell_type": "code",
   "execution_count": 3,
   "metadata": {
    "execution": {
     "iopub.execute_input": "2022-03-23T10:09:59.297224Z",
     "iopub.status.busy": "2022-03-23T10:09:59.296772Z",
     "iopub.status.idle": "2022-03-23T10:10:01.169693Z",
     "shell.execute_reply": "2022-03-23T10:10:01.167140Z",
     "shell.execute_reply.started": "2022-03-23T10:09:59.297149Z"
    }
   },
   "outputs": [
    {
     "name": "stdout",
     "output_type": "stream",
     "text": [
      " \u001b[0m\u001b[01;35melc_usewordcloud.png\u001b[0m              \u001b[01;35m빈도수파악.png\u001b[0m\n",
      " elecafe.csv                      '전기차 동호회 전기차크롤링.csv'\n",
      " lr.pkl                            전기차_전처리및토큰화.csv\n",
      " lrc.pkl                           전기차관련검색어인기순.csv\n",
      " \u001b[01;34mmodel\u001b[0m/                            전기차관심도지역.csv\n",
      " tvect.pkl                         전기차관심증가.csv\n",
      " 감성사전분석.csv                  전기차전처리추가.csv\n",
      " 관련키워드.csv                    전기차키워드관련주제인기순.csv\n",
      " 네이버-제주전기차후기통합.csv     전체본문의댓글결과_2022.03.06.xlsx\n",
      " 네이버블로그감성분석비교.csv      제사모크롤링.csv\n",
      " 느영나영전기차크롤링.csv          카페통합감성추가.csv\n",
      " 느영나영전기차크롤링.csv.part     투플럭스sjeju.csv\n",
      "'본문 검색 결과_2022.03.06.xlsx'\n"
     ]
    }
   ],
   "source": [
    "ls ## 데이터 위치 파악 및 데이터 리스트 확인"
   ]
  },
  {
   "cell_type": "code",
   "execution_count": 4,
   "metadata": {
    "execution": {
     "iopub.execute_input": "2022-03-23T10:10:09.566095Z",
     "iopub.status.busy": "2022-03-23T10:10:09.565341Z",
     "iopub.status.idle": "2022-03-23T10:10:11.900586Z",
     "shell.execute_reply": "2022-03-23T10:10:11.899812Z",
     "shell.execute_reply.started": "2022-03-23T10:10:09.566030Z"
    }
   },
   "outputs": [],
   "source": [
    "df_train= pd.read_csv('전기차_전처리및토큰화.csv')\n",
    "df_cafe = pd.read_csv('elecafe.csv')\n",
    "df_Blog = pd.read_csv('네이버-제주전기차후기통합.csv')"
   ]
  },
  {
   "cell_type": "markdown",
   "metadata": {},
   "source": [
    "## 러닝"
   ]
  },
  {
   "cell_type": "markdown",
   "metadata": {},
   "source": [
    "### 널값 제거 및 전처리"
   ]
  },
  {
   "cell_type": "code",
   "execution_count": 5,
   "metadata": {
    "execution": {
     "iopub.execute_input": "2022-03-23T10:10:12.492628Z",
     "iopub.status.busy": "2022-03-23T10:10:12.492040Z",
     "iopub.status.idle": "2022-03-23T10:10:12.507202Z",
     "shell.execute_reply": "2022-03-23T10:10:12.506758Z",
     "shell.execute_reply.started": "2022-03-23T10:10:12.492530Z"
    }
   },
   "outputs": [
    {
     "data": {
      "text/html": [
       "<div>\n",
       "<style scoped>\n",
       "    .dataframe tbody tr th:only-of-type {\n",
       "        vertical-align: middle;\n",
       "    }\n",
       "\n",
       "    .dataframe tbody tr th {\n",
       "        vertical-align: top;\n",
       "    }\n",
       "\n",
       "    .dataframe thead th {\n",
       "        text-align: right;\n",
       "    }\n",
       "</style>\n",
       "<table border=\"1\" class=\"dataframe\">\n",
       "  <thead>\n",
       "    <tr style=\"text-align: right;\">\n",
       "      <th></th>\n",
       "      <th>전처리</th>\n",
       "      <th>평가</th>\n",
       "    </tr>\n",
       "  </thead>\n",
       "  <tbody>\n",
       "    <tr>\n",
       "      <th>0</th>\n",
       "      <td>아이오 닉 휠 베이스 가치 서비스 센터 가다 부품 수급 문제 로 렌터카 받다 오다 ...</td>\n",
       "      <td>P</td>\n",
       "    </tr>\n",
       "    <tr>\n",
       "      <th>1</th>\n",
       "      <td>현대차 아이오 닉 테슬라 모델 뭘 살다 요 현대차 아이오 닉 테슬라 모델 뭘 살다 ...</td>\n",
       "      <td>P</td>\n",
       "    </tr>\n",
       "  </tbody>\n",
       "</table>\n",
       "</div>"
      ],
      "text/plain": [
       "                                                 전처리 평가\n",
       "0  아이오 닉 휠 베이스 가치 서비스 센터 가다 부품 수급 문제 로 렌터카 받다 오다 ...  P\n",
       "1  현대차 아이오 닉 테슬라 모델 뭘 살다 요 현대차 아이오 닉 테슬라 모델 뭘 살다 ...  P"
      ]
     },
     "execution_count": 5,
     "metadata": {},
     "output_type": "execute_result"
    }
   ],
   "source": [
    "df_train.head(2)"
   ]
  },
  {
   "cell_type": "code",
   "execution_count": 6,
   "metadata": {
    "execution": {
     "iopub.execute_input": "2022-03-23T10:10:15.708691Z",
     "iopub.status.busy": "2022-03-23T10:10:15.708215Z",
     "iopub.status.idle": "2022-03-23T10:10:15.774801Z",
     "shell.execute_reply": "2022-03-23T10:10:15.774185Z",
     "shell.execute_reply.started": "2022-03-23T10:10:15.708612Z"
    }
   },
   "outputs": [
    {
     "name": "stdout",
     "output_type": "stream",
     "text": [
      "전처리    42\n",
      "평가      0\n",
      "dtype: int64\n",
      "제목      0\n",
      "내용      0\n",
      "댓글      0\n",
      "유형      0\n",
      "조회수     0\n",
      "작성날짜    0\n",
      "월별      0\n",
      "카페명     0\n",
      "년별      0\n",
      "dtype: int64\n",
      "제목          0\n",
      "날짜          0\n",
      "내용          0\n",
      "href        0\n",
      "index    6096\n",
      "dtype: int64\n"
     ]
    }
   ],
   "source": [
    "print(df_train.isnull().sum())\n",
    "print(df_cafe.isnull().sum())\n",
    "print(df_Blog.isnull().sum())"
   ]
  },
  {
   "cell_type": "code",
   "execution_count": 7,
   "metadata": {
    "execution": {
     "iopub.execute_input": "2022-03-23T10:10:25.312875Z",
     "iopub.status.busy": "2022-03-23T10:10:25.312390Z",
     "iopub.status.idle": "2022-03-23T10:10:25.390830Z",
     "shell.execute_reply": "2022-03-23T10:10:25.390194Z",
     "shell.execute_reply.started": "2022-03-23T10:10:25.312818Z"
    }
   },
   "outputs": [],
   "source": [
    "del df_Blog['index'] # 인덱스칼럼이 널값이많아서 컬럼 자체를 없애 버림 \n",
    "df_train.dropna(inplace=True) # 드랍으로 널값제거"
   ]
  },
  {
   "cell_type": "markdown",
   "metadata": {},
   "source": [
    "### 이진분류"
   ]
  },
  {
   "cell_type": "code",
   "execution_count": 8,
   "metadata": {
    "execution": {
     "iopub.execute_input": "2022-03-23T10:10:27.265058Z",
     "iopub.status.busy": "2022-03-23T10:10:27.264502Z",
     "iopub.status.idle": "2022-03-23T10:10:27.358567Z",
     "shell.execute_reply": "2022-03-23T10:10:27.357877Z",
     "shell.execute_reply.started": "2022-03-23T10:10:27.264964Z"
    }
   },
   "outputs": [],
   "source": [
    "df_이진분류 = copy.deepcopy(df_train[df_train !='E'])"
   ]
  },
  {
   "cell_type": "code",
   "execution_count": 9,
   "metadata": {
    "execution": {
     "iopub.execute_input": "2022-03-23T10:10:28.862917Z",
     "iopub.status.busy": "2022-03-23T10:10:28.862436Z",
     "iopub.status.idle": "2022-03-23T10:10:28.984211Z",
     "shell.execute_reply": "2022-03-23T10:10:28.983264Z",
     "shell.execute_reply.started": "2022-03-23T10:10:28.862861Z"
    }
   },
   "outputs": [
    {
     "data": {
      "text/plain": [
       "전처리    0\n",
       "평가     0\n",
       "dtype: int64"
      ]
     },
     "execution_count": 9,
     "metadata": {},
     "output_type": "execute_result"
    }
   ],
   "source": [
    "df_이진분류.head(2)\n",
    "df_이진분류.dropna(inplace=True)\n",
    "df_이진분류.isnull().sum()"
   ]
  },
  {
   "cell_type": "code",
   "execution_count": 10,
   "metadata": {
    "execution": {
     "iopub.execute_input": "2022-03-23T10:10:33.133555Z",
     "iopub.status.busy": "2022-03-23T10:10:33.133118Z",
     "iopub.status.idle": "2022-03-23T10:10:33.196374Z",
     "shell.execute_reply": "2022-03-23T10:10:33.195393Z",
     "shell.execute_reply.started": "2022-03-23T10:10:33.133492Z"
    }
   },
   "outputs": [],
   "source": [
    "X_train,X_test,y_train,y_test = train_test_split (\n",
    "    df_이진분류['전처리'],df_이진분류['평가'],test_size=0.25,random_state=2021\n",
    ")"
   ]
  },
  {
   "cell_type": "code",
   "execution_count": 11,
   "metadata": {
    "execution": {
     "iopub.execute_input": "2022-03-23T10:10:34.989845Z",
     "iopub.status.busy": "2022-03-23T10:10:34.989301Z",
     "iopub.status.idle": "2022-03-23T10:10:34.998952Z",
     "shell.execute_reply": "2022-03-23T10:10:34.997943Z",
     "shell.execute_reply.started": "2022-03-23T10:10:34.989768Z"
    }
   },
   "outputs": [
    {
     "data": {
      "text/plain": [
       "((218401,), (72801,), (218401,), (72801,))"
      ]
     },
     "execution_count": 11,
     "metadata": {},
     "output_type": "execute_result"
    }
   ],
   "source": [
    "X_train.shape,X_test.shape,y_train.shape,y_test.shape"
   ]
  },
  {
   "cell_type": "markdown",
   "metadata": {},
   "source": [
    "##### 타겟값 라벨링"
   ]
  },
  {
   "cell_type": "code",
   "execution_count": 12,
   "metadata": {
    "execution": {
     "iopub.execute_input": "2022-03-23T10:10:42.361959Z",
     "iopub.status.busy": "2022-03-23T10:10:42.361524Z",
     "iopub.status.idle": "2022-03-23T10:10:42.409848Z",
     "shell.execute_reply": "2022-03-23T10:10:42.409512Z",
     "shell.execute_reply.started": "2022-03-23T10:10:42.361900Z"
    }
   },
   "outputs": [],
   "source": [
    "y_train_label = LabelEncoder().fit_transform(y_train)\n",
    "y_test_label = LabelEncoder().fit_transform(y_test)"
   ]
  },
  {
   "cell_type": "code",
   "execution_count": 13,
   "metadata": {
    "execution": {
     "iopub.execute_input": "2022-03-23T10:10:44.723163Z",
     "iopub.status.busy": "2022-03-23T10:10:44.722689Z",
     "iopub.status.idle": "2022-03-23T10:10:44.734083Z",
     "shell.execute_reply": "2022-03-23T10:10:44.733413Z",
     "shell.execute_reply.started": "2022-03-23T10:10:44.723120Z"
    }
   },
   "outputs": [
    {
     "data": {
      "text/plain": [
       "(array([1, 0, 1, ..., 0, 1, 0]), array([1, 1, 0, ..., 1, 1, 1]))"
      ]
     },
     "execution_count": 13,
     "metadata": {},
     "output_type": "execute_result"
    }
   ],
   "source": [
    "y_train_label,y_test_label"
   ]
  },
  {
   "cell_type": "markdown",
   "metadata": {},
   "source": [
    "#### CV binary"
   ]
  },
  {
   "cell_type": "code",
   "execution_count": 14,
   "metadata": {
    "execution": {
     "iopub.execute_input": "2022-03-23T10:10:47.434031Z",
     "iopub.status.busy": "2022-03-23T10:10:47.433612Z",
     "iopub.status.idle": "2022-03-23T10:10:56.930879Z",
     "shell.execute_reply": "2022-03-23T10:10:56.930078Z",
     "shell.execute_reply.started": "2022-03-23T10:10:47.433967Z"
    }
   },
   "outputs": [
    {
     "data": {
      "text/plain": [
       "CountVectorizer()"
      ]
     },
     "execution_count": 14,
     "metadata": {},
     "output_type": "execute_result"
    }
   ],
   "source": [
    "cvect_binary =  CountVectorizer()\n",
    "cvect_binary.fit(X_train)"
   ]
  },
  {
   "cell_type": "code",
   "execution_count": 15,
   "metadata": {
    "execution": {
     "iopub.execute_input": "2022-03-23T10:10:56.943297Z",
     "iopub.status.busy": "2022-03-23T10:10:56.943164Z",
     "iopub.status.idle": "2022-03-23T10:11:04.157314Z",
     "shell.execute_reply": "2022-03-23T10:11:04.156500Z",
     "shell.execute_reply.started": "2022-03-23T10:10:56.943285Z"
    }
   },
   "outputs": [],
   "source": [
    "X_train_cv_binary = cvect_binary.transform(X_train)\n",
    "X_test_cv_binary =  cvect_binary.transform(X_test)"
   ]
  },
  {
   "cell_type": "markdown",
   "metadata": {},
   "source": [
    "#### TF-IDF binary"
   ]
  },
  {
   "cell_type": "code",
   "execution_count": 16,
   "metadata": {
    "execution": {
     "iopub.execute_input": "2022-03-23T10:11:04.382309Z",
     "iopub.status.busy": "2022-03-23T10:11:04.382145Z",
     "iopub.status.idle": "2022-03-23T10:11:04.385567Z",
     "shell.execute_reply": "2022-03-23T10:11:04.384978Z",
     "shell.execute_reply.started": "2022-03-23T10:11:04.382271Z"
    }
   },
   "outputs": [],
   "source": [
    "tvect_binary = TfidfVectorizer(ngram_range=(1,2), max_df = 0.9)"
   ]
  },
  {
   "cell_type": "code",
   "execution_count": 17,
   "metadata": {
    "execution": {
     "iopub.execute_input": "2022-03-23T10:11:04.386603Z",
     "iopub.status.busy": "2022-03-23T10:11:04.386407Z",
     "iopub.status.idle": "2022-03-23T10:14:21.028617Z",
     "shell.execute_reply": "2022-03-23T10:14:21.027831Z",
     "shell.execute_reply.started": "2022-03-23T10:11:04.386581Z"
    }
   },
   "outputs": [
    {
     "name": "stdout",
     "output_type": "stream",
     "text": [
      "CPU times: user 2min 54s, sys: 916 ms, total: 2min 55s\n",
      "Wall time: 2min 54s\n",
      "CPU times: user 16.4 s, sys: 124 ms, total: 16.5 s\n",
      "Wall time: 16.5 s\n",
      "CPU times: user 5.2 s, sys: 16 ms, total: 5.22 s\n",
      "Wall time: 5.22 s\n"
     ]
    }
   ],
   "source": [
    "%time tvect_binary.fit(X_train)\n",
    "%time X_train_tv_binary = tvect_binary.transform(X_train)\n",
    "%time X_test_tv_binary = tvect_binary.transform(X_test)"
   ]
  },
  {
   "cell_type": "markdown",
   "metadata": {
    "tags": []
   },
   "source": [
    "### 다중분류"
   ]
  },
  {
   "cell_type": "code",
   "execution_count": 18,
   "metadata": {
    "execution": {
     "iopub.execute_input": "2022-03-23T10:14:22.290534Z",
     "iopub.status.busy": "2022-03-23T10:14:22.290399Z",
     "iopub.status.idle": "2022-03-23T10:14:22.368380Z",
     "shell.execute_reply": "2022-03-23T10:14:22.367582Z",
     "shell.execute_reply.started": "2022-03-23T10:14:22.290522Z"
    }
   },
   "outputs": [],
   "source": [
    "XX_train,XX_test,yy_train,yy_test = train_test_split (\n",
    "    df_train['전처리'],df_train['평가'],test_size=0.25,random_state=2021\n",
    ")"
   ]
  },
  {
   "cell_type": "code",
   "execution_count": 19,
   "metadata": {
    "execution": {
     "iopub.execute_input": "2022-03-23T10:14:22.369403Z",
     "iopub.status.busy": "2022-03-23T10:14:22.369232Z",
     "iopub.status.idle": "2022-03-23T10:14:22.373559Z",
     "shell.execute_reply": "2022-03-23T10:14:22.373060Z",
     "shell.execute_reply.started": "2022-03-23T10:14:22.369365Z"
    }
   },
   "outputs": [
    {
     "data": {
      "text/plain": [
       "((296083,), (98695,), (296083,), (98695,))"
      ]
     },
     "execution_count": 19,
     "metadata": {},
     "output_type": "execute_result"
    }
   ],
   "source": [
    "XX_train.shape,XX_test.shape,yy_train.shape,yy_test.shape"
   ]
  },
  {
   "cell_type": "markdown",
   "metadata": {},
   "source": [
    "#### cv "
   ]
  },
  {
   "cell_type": "code",
   "execution_count": 20,
   "metadata": {
    "execution": {
     "iopub.execute_input": "2022-03-23T10:14:22.374426Z",
     "iopub.status.busy": "2022-03-23T10:14:22.374293Z",
     "iopub.status.idle": "2022-03-23T10:17:33.997375Z",
     "shell.execute_reply": "2022-03-23T10:17:33.995625Z",
     "shell.execute_reply.started": "2022-03-23T10:14:22.374415Z"
    }
   },
   "outputs": [
    {
     "data": {
      "text/plain": [
       "CountVectorizer(max_df=0.9, ngram_range=(1, 2))"
      ]
     },
     "execution_count": 20,
     "metadata": {},
     "output_type": "execute_result"
    }
   ],
   "source": [
    "cvect  = CountVectorizer(ngram_range=(1,2), max_df = 0.9)\n",
    "cvect.fit(XX_train)"
   ]
  },
  {
   "cell_type": "code",
   "execution_count": 21,
   "metadata": {
    "execution": {
     "iopub.execute_input": "2022-03-23T10:17:33.999310Z",
     "iopub.status.busy": "2022-03-23T10:17:33.999157Z",
     "iopub.status.idle": "2022-03-23T10:17:57.170420Z",
     "shell.execute_reply": "2022-03-23T10:17:57.169366Z",
     "shell.execute_reply.started": "2022-03-23T10:17:33.999296Z"
    }
   },
   "outputs": [],
   "source": [
    "XX_train_cv = cvect.transform(XX_train)\n",
    "XX_test_cv=  cvect.transform(XX_test)"
   ]
  },
  {
   "cell_type": "markdown",
   "metadata": {},
   "source": [
    "#### TF-IDF"
   ]
  },
  {
   "cell_type": "code",
   "execution_count": 22,
   "metadata": {
    "execution": {
     "iopub.execute_input": "2022-03-23T10:17:57.172263Z",
     "iopub.status.busy": "2022-03-23T10:17:57.172041Z",
     "iopub.status.idle": "2022-03-23T10:17:57.175765Z",
     "shell.execute_reply": "2022-03-23T10:17:57.175111Z",
     "shell.execute_reply.started": "2022-03-23T10:17:57.172235Z"
    }
   },
   "outputs": [],
   "source": [
    "tvect = TfidfVectorizer(ngram_range=(1,2), max_df = 0.9)"
   ]
  },
  {
   "cell_type": "code",
   "execution_count": 23,
   "metadata": {
    "execution": {
     "iopub.execute_input": "2022-03-23T10:17:57.176691Z",
     "iopub.status.busy": "2022-03-23T10:17:57.176482Z",
     "iopub.status.idle": "2022-03-23T10:21:38.073478Z",
     "shell.execute_reply": "2022-03-23T10:21:38.072622Z",
     "shell.execute_reply.started": "2022-03-23T10:17:57.176665Z"
    }
   },
   "outputs": [],
   "source": [
    "tvect.fit(XX_train)\n",
    "XX_train_tv = tvect.transform(XX_train)\n",
    "XX_test_tv = tvect.transform(XX_test)\n"
   ]
  },
  {
   "cell_type": "markdown",
   "metadata": {},
   "source": [
    "## 모델 비교 평가"
   ]
  },
  {
   "cell_type": "code",
   "execution_count": null,
   "metadata": {},
   "outputs": [],
   "source": [
    "XX_test_cv"
   ]
  },
  {
   "cell_type": "code",
   "execution_count": 24,
   "metadata": {
    "execution": {
     "iopub.execute_input": "2022-03-23T10:21:38.074594Z",
     "iopub.status.busy": "2022-03-23T10:21:38.074391Z",
     "iopub.status.idle": "2022-03-23T10:21:38.079043Z",
     "shell.execute_reply": "2022-03-23T10:21:38.078501Z",
     "shell.execute_reply.started": "2022-03-23T10:21:38.074569Z"
    }
   },
   "outputs": [],
   "source": [
    "def auto(model,train_test):\n",
    "    model.fit(train_test[0],y_train_label)\n",
    "    pred=model.predict(train_test[1])\n",
    "    if train_test[1] in [X_test_cv_binary,X_test_tv_binary]:\n",
    "        ave = 'binary'\n",
    "    else:\n",
    "        ave = 'macro'\n",
    "    accuracy_score(y_test_label, pred)\n",
    "    p = precision_score(y_test_label, pred,average=ave)\n",
    "    r = recall_score(y_test_label, pred,average=ave)\n",
    "    f1 = f1_score(y_test_label, pred,average=ave)\n",
    "    return f'스코어:{model.score(train_test[1],y_test_label)}\\nP:{p}\\nR:{r}\\nF1:{f1}'"
   ]
  },
  {
   "cell_type": "code",
   "execution_count": null,
   "metadata": {
    "execution": {
     "iopub.execute_input": "2022-03-23T10:22:38.838785Z",
     "iopub.status.busy": "2022-03-23T10:22:38.838292Z"
    },
    "tags": []
   },
   "outputs": [
    {
     "name": "stderr",
     "output_type": "stream",
     "text": [
      "  0%|                                                     | 0/3 [00:00<?, ?it/s]\n",
      "  0%|                                                     | 0/2 [00:00<?, ?it/s]\u001b[A"
     ]
    }
   ],
   "source": [
    "results = []\n",
    "# !mkdir model\n",
    "g = globals()\n",
    "# for model in [lr,nb,svc,knn,rfc]:\n",
    "for model in tqdm([svc,knn,rfc]):\n",
    "    for train_test in tqdm([[X_train_cv_binary,X_test_cv_binary],[X_train_tv_binary,X_test_tv_binary]]):\n",
    "        print(f'모델:{model}\\n벡터:{train_test}일때\\n{auto(model,train_test)}입니다.')\n",
    "        results.append(f'모델:{model}\\n벡터:{test}일때\\n{auto(model,train_test)}입니다.')\n",
    "        joblib.dump(model,f'model/전기차이진{model}.pkl')\n",
    "    # for train_test in [[XX_train_cv,XX_test_cv],[XX_train_tv,XX_test_tv]]:\n",
    "    #     print(f'다중분류모델모델:{model}\\n,벡터:{test}일때\\n{auto(model,train_test)}입니다.')\n",
    "    #     results.append(f'다중분류모델:{model}\\n벡터:{test}일때\\n{auto(model,train_test)}입니다.')\n",
    "    #     joblib.dump(model,f'model/전기차삼진{model}.pkl')\n",
    "\n"
   ]
  },
  {
   "cell_type": "code",
   "execution_count": null,
   "metadata": {},
   "outputs": [],
   "source": []
  },
  {
   "cell_type": "code",
   "execution_count": null,
   "metadata": {},
   "outputs": [],
   "source": [
    "# def auto2(model,vect,i):\n",
    "#     g= globals()\n",
    "#     if vect == 'cvect':\n",
    "#         g[f'{vect}{i}'] = CountVectorizer(ngram_range=(1,i))\n",
    "#     elif vect == 'tvect':\n",
    "#         g[f'{vect}{i}'] = TfidfVectorizer(ngram_range=(1,i))\n",
    "#     g[f'{vect}{i}'].fit(X_train)\n",
    "#     g[f'XX_train_{vect}{i}'] = g[f'{vect}{i}'].transform(XX_train)\n",
    "#     g[f'XX_test_{vect}{i}'] = g[f'{vect}{i}'].transform(XX_test)\n",
    "#     model.fit(g[f'XX_train_{vect}{i}'],y_train_label)\n",
    "#     return model.score(g[f'XX_test_{vect}{i}'],y_test_label)"
   ]
  },
  {
   "cell_type": "code",
   "execution_count": null,
   "metadata": {},
   "outputs": [],
   "source": [
    "# !mkdir model\n",
    "# for model in [lr,nb,xgc,svc,knn,rfc]:\n",
    "#     for vect in ['cvect','tvect']:\n",
    "#             for i in [1,2]:\n",
    "#                     print(f'다중분류 모델:{model}\\t,벡터:{vect}\\tngram_range:{i}일때:{auto2(model,vect,i)}입니다.')\n",
    "#                     joblib.dump(model,f'다중분류model/전기차{vect}{model}ngram{i}.pkl')\n"
   ]
  },
  {
   "cell_type": "code",
   "execution_count": null,
   "metadata": {},
   "outputs": [],
   "source": [
    "for model in [lr,nb,svc,knn,rfc]:\n",
    "    for test in [X_test_cv_binary,X_test_tv_binary,XX_test_tv,XX_test_tv]:\n",
    "        pred=model.predict(test)\n",
    "        if test in [X_test_cv_binary,X_test_tv_binary]:\n",
    "            ave = 'binary'\n",
    "        else:\n",
    "            ave = 'macro'\n",
    "        accuracy_score(y_test_label, pred)\n",
    "        p = precision_score(y_test_label, pred,average=ave)\n",
    "        print(f'{model}일떄+{test}이면+{p}는p입니다')\n",
    "        r = recall_score(y_test_label, pred,average=ave)\n",
    "        print(f'{model}일떄+{test}이면+{r}는r입니다')\n",
    "        f1 = f1_score(y_test_label, pred,average=ave)\n",
    "        print(f'{model}일떄+{test}이면+{f1}는f1입니다')\n"
   ]
  },
  {
   "cell_type": "markdown",
   "metadata": {},
   "source": [
    "#### 모델저장"
   ]
  },
  {
   "cell_type": "code",
   "execution_count": null,
   "metadata": {},
   "outputs": [],
   "source": [
    "# !mkdir model\n",
    "# for model in [lr,nb,xgc,svc,knn,rfc]:\n",
    "#     joblib.dump(model,f'model/전기차{model}.pkl')\n",
    "for vect in [cvect_binary,tvect_binary,cvect,tvect]:\n",
    "    joblib.dump(vect,f'model/전기차{vect}.pkl')"
   ]
  },
  {
   "cell_type": "code",
   "execution_count": null,
   "metadata": {},
   "outputs": [],
   "source": []
  }
 ],
 "metadata": {
  "kernelspec": {
   "display_name": "Python 3 (ipykernel)",
   "language": "python",
   "name": "python3"
  },
  "language_info": {
   "codemirror_mode": {
    "name": "ipython",
    "version": 3
   },
   "file_extension": ".py",
   "mimetype": "text/x-python",
   "name": "python",
   "nbconvert_exporter": "python",
   "pygments_lexer": "ipython3",
   "version": "3.9.7"
  }
 },
 "nbformat": 4,
 "nbformat_minor": 4
}
