{
 "cells": [
  {
   "cell_type": "code",
   "execution_count": 1,
   "metadata": {},
   "outputs": [],
   "source": [
    "# !pip install sklearn"
   ]
  },
  {
   "cell_type": "code",
   "execution_count": 5,
   "metadata": {
    "execution": {
     "iopub.execute_input": "2022-03-26T03:11:34.263205Z",
     "iopub.status.busy": "2022-03-26T03:11:34.263030Z",
     "iopub.status.idle": "2022-03-26T03:11:34.267702Z",
     "shell.execute_reply": "2022-03-26T03:11:34.266885Z",
     "shell.execute_reply.started": "2022-03-26T03:11:34.263191Z"
    },
    "tags": []
   },
   "outputs": [],
   "source": [
    "import numpy as np\n",
    "import pandas as pd\n",
    "import os\n",
    "import matplotlib.pyplot as plt\n",
    "from collections import Counter\n",
    "import time\n",
    "import copy\n",
    "from sklearn.model_selection import train_test_split\n",
    "from tensorflow.keras.preprocessing.text import Tokenizer\n",
    "from tensorflow.keras.preprocessing.sequence import pad_sequences\n",
    "from sklearn.preprocessing import LabelEncoder"
   ]
  },
  {
   "cell_type": "code",
   "execution_count": 4,
   "metadata": {
    "execution": {
     "iopub.execute_input": "2022-03-26T03:11:32.835783Z",
     "iopub.status.busy": "2022-03-26T03:11:32.835189Z",
     "iopub.status.idle": "2022-03-26T03:11:32.839196Z",
     "shell.execute_reply": "2022-03-26T03:11:32.838754Z",
     "shell.execute_reply.started": "2022-03-26T03:11:32.835746Z"
    }
   },
   "outputs": [],
   "source": [
    "la = LabelEncoder()"
   ]
  },
  {
   "cell_type": "code",
   "execution_count": 3,
   "metadata": {},
   "outputs": [],
   "source": [
    "os.chdir('G:\\내 드라이브\\제주_전기차\\data')"
   ]
  },
  {
   "cell_type": "code",
   "execution_count": 5,
   "metadata": {},
   "outputs": [],
   "source": [
    "# ls"
   ]
  },
  {
   "cell_type": "code",
   "execution_count": 4,
   "metadata": {},
   "outputs": [],
   "source": [
    "df_train = pd.read_csv('전기차_전처리및토큰화.csv')"
   ]
  },
  {
   "cell_type": "code",
   "execution_count": 8,
   "metadata": {},
   "outputs": [],
   "source": [
    "# df_train.to_csv('전기차_전처리및토큰화.csv',index=False)"
   ]
  },
  {
   "cell_type": "code",
   "execution_count": 5,
   "metadata": {},
   "outputs": [
    {
     "data": {
      "text/plain": [
       "전처리    0\n",
       "평가     0\n",
       "dtype: int64"
      ]
     },
     "execution_count": 5,
     "metadata": {},
     "output_type": "execute_result"
    }
   ],
   "source": [
    "df_train.isnull().sum()"
   ]
  },
  {
   "cell_type": "code",
   "execution_count": 6,
   "metadata": {},
   "outputs": [],
   "source": [
    "train_data, test_data = train_test_split(df_train, test_size = 0.25, random_state = 42)\n"
   ]
  },
  {
   "cell_type": "code",
   "execution_count": 7,
   "metadata": {},
   "outputs": [
    {
     "data": {
      "text/html": [
       "<div>\n",
       "<style scoped>\n",
       "    .dataframe tbody tr th:only-of-type {\n",
       "        vertical-align: middle;\n",
       "    }\n",
       "\n",
       "    .dataframe tbody tr th {\n",
       "        vertical-align: top;\n",
       "    }\n",
       "\n",
       "    .dataframe thead th {\n",
       "        text-align: right;\n",
       "    }\n",
       "</style>\n",
       "<table border=\"1\" class=\"dataframe\">\n",
       "  <thead>\n",
       "    <tr style=\"text-align: right;\">\n",
       "      <th></th>\n",
       "      <th>전처리</th>\n",
       "      <th>평가</th>\n",
       "    </tr>\n",
       "  </thead>\n",
       "  <tbody>\n",
       "    <tr>\n",
       "      <th>382913</th>\n",
       "      <td>안녕하다 전기차 동호회 가입 인사 자기 소개 이번 코 나 계약 한 신입 이다 한글 ...</td>\n",
       "      <td>P</td>\n",
       "    </tr>\n",
       "    <tr>\n",
       "      <th>322973</th>\n",
       "      <td>한글 변경 신 고변 경전 메 액션 변경 후 메 액션 충남</td>\n",
       "      <td>E</td>\n",
       "    </tr>\n",
       "    <tr>\n",
       "      <th>226465</th>\n",
       "      <td>볼트 풀옵 세이 프티 포함 구합 니 다 경기도 안산 이고 주소 상 부산 이다 키 로...</td>\n",
       "      <td>E</td>\n",
       "    </tr>\n",
       "    <tr>\n",
       "      <th>82421</th>\n",
       "      <td>아이오 닉 년 식 년 월 등록 파다 만원 아이오 닉 년 식 년 월 등록 파다 만원 ...</td>\n",
       "      <td>P</td>\n",
       "    </tr>\n",
       "    <tr>\n",
       "      <th>84988</th>\n",
       "      <td>드디어 스타코 프 에서 차지 스타 출시 돼다 ㄷㄷㄷ 사전 물량 원 이라니 가격 어마...</td>\n",
       "      <td>N</td>\n",
       "    </tr>\n",
       "    <tr>\n",
       "      <th>...</th>\n",
       "      <td>...</td>\n",
       "      <td>...</td>\n",
       "    </tr>\n",
       "    <tr>\n",
       "      <th>259178</th>\n",
       "      <td>서울 보조금 줄 건 가요 이라고 써다 욤</td>\n",
       "      <td>E</td>\n",
       "    </tr>\n",
       "    <tr>\n",
       "      <th>365838</th>\n",
       "      <td>안녕하다 자기 소개 안녕하다 전기차 관심 많다 가입 하다 지역 서울 송파구 한글 별...</td>\n",
       "      <td>P</td>\n",
       "    </tr>\n",
       "    <tr>\n",
       "      <th>131932</th>\n",
       "      <td>트론 실물 보다 넘다 이쁘다 너무 이쁘다 테슬라 이제 흔하다 보이다 것 같다</td>\n",
       "      <td>P</td>\n",
       "    </tr>\n",
       "    <tr>\n",
       "      <th>146867</th>\n",
       "      <td>서울 륜 장기 렌트 보조금 없다 취소 하다 ㅠ 아마존 카 에서 계약 한 건대 오늘 ...</td>\n",
       "      <td>E</td>\n",
       "    </tr>\n",
       "    <tr>\n",
       "      <th>121958</th>\n",
       "      <td>충전 되다 가요 충전 되다 맞다</td>\n",
       "      <td>P</td>\n",
       "    </tr>\n",
       "  </tbody>\n",
       "</table>\n",
       "<p>296083 rows × 2 columns</p>\n",
       "</div>"
      ],
      "text/plain": [
       "                                                      전처리 평가\n",
       "382913  안녕하다 전기차 동호회 가입 인사 자기 소개 이번 코 나 계약 한 신입 이다 한글 ...  P\n",
       "322973                    한글 변경 신 고변 경전 메 액션 변경 후 메 액션 충남  E\n",
       "226465  볼트 풀옵 세이 프티 포함 구합 니 다 경기도 안산 이고 주소 상 부산 이다 키 로...  E\n",
       "82421   아이오 닉 년 식 년 월 등록 파다 만원 아이오 닉 년 식 년 월 등록 파다 만원 ...  P\n",
       "84988   드디어 스타코 프 에서 차지 스타 출시 돼다 ㄷㄷㄷ 사전 물량 원 이라니 가격 어마...  N\n",
       "...                                                   ... ..\n",
       "259178                             서울 보조금 줄 건 가요 이라고 써다 욤  E\n",
       "365838  안녕하다 자기 소개 안녕하다 전기차 관심 많다 가입 하다 지역 서울 송파구 한글 별...  P\n",
       "131932         트론 실물 보다 넘다 이쁘다 너무 이쁘다 테슬라 이제 흔하다 보이다 것 같다  P\n",
       "146867  서울 륜 장기 렌트 보조금 없다 취소 하다 ㅠ 아마존 카 에서 계약 한 건대 오늘 ...  E\n",
       "121958                                  충전 되다 가요 충전 되다 맞다  P\n",
       "\n",
       "[296083 rows x 2 columns]"
      ]
     },
     "execution_count": 7,
     "metadata": {},
     "output_type": "execute_result"
    }
   ],
   "source": [
    "train_data"
   ]
  },
  {
   "cell_type": "code",
   "execution_count": 8,
   "metadata": {},
   "outputs": [
    {
     "data": {
      "text/html": [
       "<div>\n",
       "<style scoped>\n",
       "    .dataframe tbody tr th:only-of-type {\n",
       "        vertical-align: middle;\n",
       "    }\n",
       "\n",
       "    .dataframe tbody tr th {\n",
       "        vertical-align: top;\n",
       "    }\n",
       "\n",
       "    .dataframe thead th {\n",
       "        text-align: right;\n",
       "    }\n",
       "</style>\n",
       "<table border=\"1\" class=\"dataframe\">\n",
       "  <thead>\n",
       "    <tr style=\"text-align: right;\">\n",
       "      <th></th>\n",
       "      <th>전처리</th>\n",
       "      <th>평가</th>\n",
       "    </tr>\n",
       "  </thead>\n",
       "  <tbody>\n",
       "    <tr>\n",
       "      <th>198025</th>\n",
       "      <td>충전 자리 문의 관련 되다 주제 대해 미리 카페 내 검색 하다 보다 네 아니다 전기...</td>\n",
       "      <td>N</td>\n",
       "    </tr>\n",
       "    <tr>\n",
       "      <th>352104</th>\n",
       "      <td>가입 인사 드리다 자기 소개 안녕하다 트론 차주 이다 지역 울 명 한글 별명 뜻 하...</td>\n",
       "      <td>P</td>\n",
       "    </tr>\n",
       "    <tr>\n",
       "      <th>299466</th>\n",
       "      <td>오늘 날씨 좋다 전 비도 좋다 딸 운전 연 수주 인데 킬로 넘다 타다 ㅋ</td>\n",
       "      <td>P</td>\n",
       "    </tr>\n",
       "    <tr>\n",
       "      <th>305876</th>\n",
       "      <td>아이오 닉 아이오 닉 주행 거리 늘 가능성 없다</td>\n",
       "      <td>E</td>\n",
       "    </tr>\n",
       "    <tr>\n",
       "      <th>145782</th>\n",
       "      <td>보조금 신청 관련 하다 관련 되다 주제 대해 미리 카페 내 검색 하다 보다 네 아니...</td>\n",
       "      <td>N</td>\n",
       "    </tr>\n",
       "    <tr>\n",
       "      <th>...</th>\n",
       "      <td>...</td>\n",
       "      <td>...</td>\n",
       "    </tr>\n",
       "    <tr>\n",
       "      <th>40482</th>\n",
       "      <td>드뎌 아이오 닉 모니터 형 거치 대 구해 서 설치 완료 아이오 닉 딱 맞다 모니터 ...</td>\n",
       "      <td>P</td>\n",
       "    </tr>\n",
       "    <tr>\n",
       "      <th>214305</th>\n",
       "      <td>전기차 중고 거래 시 환경부 카드 및 하이패스 관련 문의 질문 하다 전 먼저 카페 ...</td>\n",
       "      <td>P</td>\n",
       "    </tr>\n",
       "    <tr>\n",
       "      <th>128990</th>\n",
       "      <td>환경부 카드 개 신한카드 개 관련 되다 주제 대해 미리 카페 내 검색 하다 보다 네...</td>\n",
       "      <td>P</td>\n",
       "    </tr>\n",
       "    <tr>\n",
       "      <th>213410</th>\n",
       "      <td>년 월일 등록 한 코 나 이다 대전 에서 등록 하다 전국 이전 하다 언제 부터 가능하다</td>\n",
       "      <td>E</td>\n",
       "    </tr>\n",
       "    <tr>\n",
       "      <th>225622</th>\n",
       "      <td>충북 에서 전기차 구매 하다 해 요 안녕하다 충북 혁신도시 살 고 있다 신 입회 원...</td>\n",
       "      <td>P</td>\n",
       "    </tr>\n",
       "  </tbody>\n",
       "</table>\n",
       "<p>98695 rows × 2 columns</p>\n",
       "</div>"
      ],
      "text/plain": [
       "                                                      전처리 평가\n",
       "198025  충전 자리 문의 관련 되다 주제 대해 미리 카페 내 검색 하다 보다 네 아니다 전기...  N\n",
       "352104  가입 인사 드리다 자기 소개 안녕하다 트론 차주 이다 지역 울 명 한글 별명 뜻 하...  P\n",
       "299466           오늘 날씨 좋다 전 비도 좋다 딸 운전 연 수주 인데 킬로 넘다 타다 ㅋ  P\n",
       "305876                         아이오 닉 아이오 닉 주행 거리 늘 가능성 없다  E\n",
       "145782  보조금 신청 관련 하다 관련 되다 주제 대해 미리 카페 내 검색 하다 보다 네 아니...  N\n",
       "...                                                   ... ..\n",
       "40482   드뎌 아이오 닉 모니터 형 거치 대 구해 서 설치 완료 아이오 닉 딱 맞다 모니터 ...  P\n",
       "214305  전기차 중고 거래 시 환경부 카드 및 하이패스 관련 문의 질문 하다 전 먼저 카페 ...  P\n",
       "128990  환경부 카드 개 신한카드 개 관련 되다 주제 대해 미리 카페 내 검색 하다 보다 네...  P\n",
       "213410   년 월일 등록 한 코 나 이다 대전 에서 등록 하다 전국 이전 하다 언제 부터 가능하다  E\n",
       "225622  충북 에서 전기차 구매 하다 해 요 안녕하다 충북 혁신도시 살 고 있다 신 입회 원...  P\n",
       "\n",
       "[98695 rows x 2 columns]"
      ]
     },
     "execution_count": 8,
     "metadata": {},
     "output_type": "execute_result"
    }
   ],
   "source": [
    "test_data"
   ]
  },
  {
   "cell_type": "code",
   "execution_count": 9,
   "metadata": {},
   "outputs": [
    {
     "data": {
      "text/plain": [
       "<AxesSubplot:>"
      ]
     },
     "execution_count": 9,
     "metadata": {},
     "output_type": "execute_result"
    },
    {
     "data": {
      "image/png": "[encoded data removed]",
      "text/plain": [
       "<Figure size 432x288 with 1 Axes>"
      ]
     },
     "metadata": {
      "needs_background": "light"
     },
     "output_type": "display_data"
    }
   ],
   "source": [
    "train_data['평가'].value_counts().plot(kind = 'bar')"
   ]
  },
  {
   "cell_type": "code",
   "execution_count": 10,
   "metadata": {},
   "outputs": [
    {
     "name": "stdout",
     "output_type": "stream",
     "text": [
      "  평가   count\n",
      "0  E   77427\n",
      "1  N   67318\n",
      "2  P  151338\n"
     ]
    }
   ],
   "source": [
    "print(train_data.groupby('평가').size().reset_index(name = 'count'))\n"
   ]
  },
  {
   "cell_type": "code",
   "execution_count": 11,
   "metadata": {},
   "outputs": [],
   "source": [
    "# negative_words = np.hstack(train_data[train_data.평가== 0]['tokenized'].values)\n",
    "# positive_words = np.hstack(train_data[train_data.평가l == 1]['tokenized'].values)"
   ]
  },
  {
   "cell_type": "code",
   "execution_count": 12,
   "metadata": {},
   "outputs": [],
   "source": [
    "X_train = train_data['전처리'].values\n",
    "y_train = train_data['평가'].values\n",
    "X_test= test_data['전처리'].values\n",
    "y_test = test_data['평가'].values"
   ]
  },
  {
   "cell_type": "code",
   "execution_count": 13,
   "metadata": {},
   "outputs": [],
   "source": [
    "tokenizer = Tokenizer()\n",
    "tokenizer.fit_on_texts(X_train)\n"
   ]
  },
  {
   "cell_type": "code",
   "execution_count": 14,
   "metadata": {},
   "outputs": [
    {
     "name": "stdout",
     "output_type": "stream",
     "text": [
      "단어 집합(vocabulary)의 크기 : 82548\n",
      "등장 빈도가 1번 이하인 희귀 단어의 수: 34239\n",
      "단어 집합에서 희귀 단어의 비율: 41.47768571013229\n",
      "전체 등장 빈도에서 희귀 단어 등장 빈도 비율: 0.1915514503816623\n"
     ]
    }
   ],
   "source": [
    "threshold = 2\n",
    "total_cnt = len(tokenizer.word_index) # 단어의 수\n",
    "rare_cnt = 0 # 등장 빈도수가 threshold보다 작은 단어의 개수를 카운트\n",
    "total_freq = 0 # 훈련 데이터의 전체 단어 빈도수 총 합\n",
    "rare_freq = 0 # 등장 빈도수가 threshold보다 작은 단어의 등장 빈도수의 총 합\n",
    "\n",
    "# 단어와 빈도수의 쌍(pair)을 key와 value로 받는다.\n",
    "for key, value in tokenizer.word_counts.items():\n",
    "    total_freq = total_freq + value\n",
    "\n",
    "    # 단어의 등장 빈도수가 threshold보다 작으면\n",
    "    if(value < threshold):\n",
    "        rare_cnt = rare_cnt + 1\n",
    "        rare_freq = rare_freq + value\n",
    "\n",
    "print('단어 집합(vocabulary)의 크기 :',total_cnt)\n",
    "print('등장 빈도가 %s번 이하인 희귀 단어의 수: %s'%(threshold - 1, rare_cnt))\n",
    "print(\"단어 집합에서 희귀 단어의 비율:\", (rare_cnt / total_cnt)*100)\n",
    "print(\"전체 등장 빈도에서 희귀 단어 등장 빈도 비율:\", (rare_freq / total_freq)*100)"
   ]
  },
  {
   "cell_type": "code",
   "execution_count": 15,
   "metadata": {},
   "outputs": [
    {
     "name": "stdout",
     "output_type": "stream",
     "text": [
      "단어 집합의 크기 : 48311\n"
     ]
    }
   ],
   "source": [
    "vocab_size = total_cnt - rare_cnt + 2\n",
    "print('단어 집합의 크기 :',vocab_size)"
   ]
  },
  {
   "cell_type": "code",
   "execution_count": 16,
   "metadata": {},
   "outputs": [],
   "source": [
    "tokenizer = Tokenizer(vocab_size, oov_token = 'OOV') \n",
    "tokenizer.fit_on_texts(X_train)\n",
    "X_train = tokenizer.texts_to_sequences(X_train)\n",
    "X_test = tokenizer.texts_to_sequences(X_test)"
   ]
  },
  {
   "cell_type": "code",
   "execution_count": 17,
   "metadata": {},
   "outputs": [
    {
     "name": "stdout",
     "output_type": "stream",
     "text": [
      "[[52, 4, 263, 13, 96, 84, 73, 228, 63, 24, 17, 22, 1609, 8, 61, 43, 76, 183, 43, 8, 49, 3, 4, 63, 24, 16, 1368, 2683, 4, 27, 205, 142, 170, 156, 17, 13, 60, 17, 53, 4, 117, 247, 13, 2, 2, 33, 80, 91, 57, 43, 4, 176, 16, 61, 43, 155, 22, 53, 13, 96, 368, 82, 154], [61, 155, 819, 6137, 3103, 3607, 9359, 155, 53, 3607, 9359, 1166], [106, 872, 1413, 1435, 123, 999, 64, 51, 539, 2097, 329, 876, 216, 338, 8, 313, 6, 42, 21, 223, 21, 223, 21, 223, 25, 1355, 95, 10, 55, 9, 153, 57]]\n",
      "[[7, 551, 214, 90, 5, 191, 117, 131, 87, 46, 108, 2, 9, 71, 39, 4, 171, 16, 63, 24, 103, 111, 5201, 1946, 359, 7, 2118, 741, 326, 1, 83, 2019, 929, 563, 262, 89, 192, 551, 109, 11, 3, 523, 10, 12224, 543, 7, 551, 543, 163, 1349, 95, 11, 220, 192, 2, 4488, 28, 23, 543, 7, 3848, 543, 3, 1853, 1849, 192, 119, 144, 2821, 29, 28, 23, 3048, 7, 22169, 3048, 3048, 12224, 1819, 81, 1539, 551, 192, 2, 620, 5368, 192, 2, 5717, 30, 2761, 59, 40, 28, 23, 7, 157, 245, 314, 119, 2, 7296, 2, 192, 2, 289, 22, 1152, 1806, 192, 551, 11, 39, 7, 2, 40, 940, 38, 2, 2245], [13, 96, 72, 84, 73, 52, 308, 527, 8, 16, 1194, 176, 61, 43, 76, 2644, 49, 3, 4, 308, 27, 18, 3, 4, 27, 17, 68, 308, 13, 60, 4, 70, 179, 2, 33, 80, 70, 179, 2], [122, 715, 36, 56, 2074, 36, 2138, 197, 756, 9265, 105, 665, 332, 112, 552]]\n"
     ]
    }
   ],
   "source": [
    "print(X_train[:3])\n",
    "print(X_test[:3])"
   ]
  },
  {
   "cell_type": "code",
   "execution_count": 18,
   "metadata": {},
   "outputs": [
    {
     "name": "stdout",
     "output_type": "stream",
     "text": [
      "리뷰의 최대 길이 : 6176\n",
      "리뷰의 평균 길이 : 60.37013607670822\n"
     ]
    },
    {
     "data": {
      "image/png": "[encoded data removed]",
      "text/plain": [
       "<Figure size 432x288 with 1 Axes>"
      ]
     },
     "metadata": {
      "needs_background": "light"
     },
     "output_type": "display_data"
    }
   ],
   "source": [
    "print('리뷰의 최대 길이 :',max(len(review) for review in X_train))\n",
    "print('리뷰의 평균 길이 :',sum(map(len, X_train))/len(X_train))\n",
    "plt.hist([len(review) for review in X_train], bins=50)\n",
    "plt.xlabel('length of samples')\n",
    "plt.ylabel('number of samples')\n",
    "plt.show()"
   ]
  },
  {
   "cell_type": "code",
   "execution_count": 19,
   "metadata": {},
   "outputs": [],
   "source": [
    "def below_threshold_len(max_len, nested_list):\n",
    "    count = 0\n",
    "    for sentence in nested_list:\n",
    "        if(len(sentence) <= max_len):\n",
    "            count = count + 1\n",
    "    print('전체 샘플 중 길이가 %s 이하인 샘플의 비율: %s'%(max_len, (count / len(nested_list))*100))"
   ]
  },
  {
   "cell_type": "code",
   "execution_count": 20,
   "metadata": {},
   "outputs": [
    {
     "name": "stdout",
     "output_type": "stream",
     "text": [
      "전체 샘플 중 길이가 500 이하인 샘플의 비율: 99.19346939878345\n"
     ]
    }
   ],
   "source": [
    "max_len = 500\n",
    "below_threshold_len(max_len, X_train)"
   ]
  },
  {
   "cell_type": "code",
   "execution_count": 21,
   "metadata": {},
   "outputs": [],
   "source": [
    "X_train = pad_sequences(X_train, maxlen=max_len)\n",
    "X_test = pad_sequences(X_test, maxlen=max_len)"
   ]
  },
  {
   "cell_type": "code",
   "execution_count": 22,
   "metadata": {},
   "outputs": [
    {
     "data": {
      "text/plain": [
       "array(['P', 'E', 'E', ..., 'P', 'E', 'P'], dtype=object)"
      ]
     },
     "execution_count": 22,
     "metadata": {},
     "output_type": "execute_result"
    }
   ],
   "source": [
    "y_train"
   ]
  },
  {
   "cell_type": "code",
   "execution_count": 23,
   "metadata": {},
   "outputs": [],
   "source": [
    "la.fit(y_train)\n",
    "y_train_la = la.transform(y_train)\n",
    "y_test_la = la.transform(y_test)"
   ]
  },
  {
   "cell_type": "code",
   "execution_count": 24,
   "metadata": {},
   "outputs": [
    {
     "data": {
      "text/plain": [
       "array(['P', 'E', 'E', ..., 'P', 'E', 'P'], dtype=object)"
      ]
     },
     "execution_count": 24,
     "metadata": {},
     "output_type": "execute_result"
    }
   ],
   "source": [
    "la.inverse_transform(y_train_la)"
   ]
  },
  {
   "cell_type": "code",
   "execution_count": 25,
   "metadata": {},
   "outputs": [
    {
     "name": "stdout",
     "output_type": "stream",
     "text": [
      "Epoch 1/2\n",
      "3701/3702 [============================>.] - ETA: 0s - loss: 0.0000e+00 - acc: 0.2273\n",
      "Epoch 1: val_acc improved from -inf to 0.22760, saving model to best_model.h5\n",
      "3702/3702 [==============================] - 286s 76ms/step - loss: 0.0000e+00 - acc: 0.2273 - val_loss: 0.0000e+00 - val_acc: 0.2276\n",
      "Epoch 2/2\n",
      "3701/3702 [============================>.] - ETA: 0s - loss: 0.0000e+00 - acc: 0.2273\n",
      "Epoch 2: val_acc did not improve from 0.22760\n",
      "3702/3702 [==============================] - 273s 74ms/step - loss: 0.0000e+00 - acc: 0.2273 - val_loss: 0.0000e+00 - val_acc: 0.2276\n"
     ]
    }
   ],
   "source": [
    "from tensorflow.keras.layers import Embedding, Dense, GRU\n",
    "from tensorflow.keras.models import Sequential\n",
    "from tensorflow.keras.models import load_model\n",
    "from tensorflow.keras.callbacks import EarlyStopping, ModelCheckpoint\n",
    "\n",
    "embedding_dim = 100\n",
    "hidden_units = 128\n",
    "\n",
    "model = Sequential()\n",
    "model.add(Embedding(vocab_size, embedding_dim))\n",
    "model.add(GRU(hidden_units))\n",
    "model.add(Dense(1, activation='softmax'))\n",
    "\n",
    "es = EarlyStopping(monitor='val_loss', mode='min', verbose=1, patience=4)\n",
    "mc = ModelCheckpoint('best_model.h5', monitor='val_acc', mode='max', verbose=1, save_best_only=True)\n",
    "\n",
    "model.compile(optimizer='Adam', loss='categorical_crossentropy', metrics=['acc'])\n",
    "history = model.fit(X_train, y_train_la, epochs=2, callbacks=[es, mc], batch_size=64, validation_split=0.2)"
   ]
  },
  {
   "cell_type": "code",
   "execution_count": null,
   "metadata": {},
   "outputs": [],
   "source": []
  }
 ],
 "metadata": {
  "interpreter": {
   "hash": "c3003ad0e24f20418333972023f2fb21f303d4fd179acf9f52c87ecd022e9271"
  },
  "kernelspec": {
   "display_name": "Python 3 (ipykernel)",
   "language": "python",
   "name": "python3"
  },
  "language_info": {
   "codemirror_mode": {
    "name": "ipython",
    "version": 3
   },
   "file_extension": ".py",
   "mimetype": "text/x-python",
   "name": "python",
   "nbconvert_exporter": "python",
   "pygments_lexer": "ipython3",
   "version": "3.9.7"
  }
 },
 "nbformat": 4,
 "nbformat_minor": 4
}
