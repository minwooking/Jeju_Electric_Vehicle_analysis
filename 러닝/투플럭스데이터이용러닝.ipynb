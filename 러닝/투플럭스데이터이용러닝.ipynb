{
 "cells": [
  {
   "cell_type": "code",
   "execution_count": 3,
   "id": "fd793afd-5c2c-4a0e-81c8-a5541fde004f",
   "metadata": {
    "execution": {
     "iopub.execute_input": "2022-03-22T02:15:56.640835Z",
     "iopub.status.busy": "2022-03-22T02:15:56.640420Z",
     "iopub.status.idle": "2022-03-22T02:15:57.317554Z",
     "shell.execute_reply": "2022-03-22T02:15:57.317013Z",
     "shell.execute_reply.started": "2022-03-22T02:15:56.640770Z"
    }
   },
   "outputs": [],
   "source": [
    "import pandas as pd\n",
    "import numpy as np\n",
    "import os"
   ]
  },
  {
   "cell_type": "code",
   "execution_count": 1,
   "id": "d5cd49c5",
   "metadata": {},
   "outputs": [],
   "source": [
    "from konlpy.tag import Okt \n",
    "okt = Okt()"
   ]
  },
  {
   "cell_type": "code",
   "execution_count": null,
   "id": "9915abde",
   "metadata": {},
   "outputs": [],
   "source": [
    "df_train = pd.read_excel('D:\\WorkSpace\\Jeju_Electric_Vehicle_analysis\\data\\본문 검색 결과_2022.03.06.xlsx')"
   ]
  },
  {
   "cell_type": "code",
   "execution_count": null,
   "id": "64dcac06",
   "metadata": {},
   "outputs": [],
   "source": [
    "df_train"
   ]
  },
  {
   "cell_type": "code",
   "execution_count": 6,
   "id": "cd49fcad",
   "metadata": {},
   "outputs": [],
   "source": [
    "df_test = pd.read_csv('G:\\내 드라이브\\제주_전기차\\data\\네이버-제주전기차후기통합.csv')"
   ]
  },
  {
   "cell_type": "code",
   "execution_count": 7,
   "id": "e4903477",
   "metadata": {},
   "outputs": [
    {
     "data": {
      "text/plain": [
       "(394820, 27)"
      ]
     },
     "execution_count": 7,
     "metadata": {},
     "output_type": "execute_result"
    }
   ],
   "source": [
    "df_train.shape"
   ]
  },
  {
   "cell_type": "code",
   "execution_count": 8,
   "id": "5966f22e",
   "metadata": {},
   "outputs": [],
   "source": [
    "train_data=pd.concat([df_train['Contents'],df_train['평가']],axis=1)"
   ]
  },
  {
   "cell_type": "code",
   "execution_count": 9,
   "id": "b61f2719",
   "metadata": {},
   "outputs": [
    {
     "data": {
      "text/plain": [
       "(394820, 2)"
      ]
     },
     "execution_count": 9,
     "metadata": {},
     "output_type": "execute_result"
    }
   ],
   "source": [
    "train_data.shape"
   ]
  },
  {
   "cell_type": "code",
   "execution_count": 10,
   "id": "dad24150",
   "metadata": {},
   "outputs": [
    {
     "data": {
      "text/plain": [
       "(9788,)"
      ]
     },
     "execution_count": 10,
     "metadata": {},
     "output_type": "execute_result"
    }
   ],
   "source": [
    "df_test.내용.shape"
   ]
  },
  {
   "cell_type": "code",
   "execution_count": 11,
   "id": "7b7eb002",
   "metadata": {},
   "outputs": [],
   "source": [
    "train_data.fillna('E',inplace=True)"
   ]
  },
  {
   "cell_type": "code",
   "execution_count": 12,
   "id": "4c0b2a03",
   "metadata": {},
   "outputs": [
    {
     "data": {
      "text/html": [
       "<div>\n",
       "<style scoped>\n",
       "    .dataframe tbody tr th:only-of-type {\n",
       "        vertical-align: middle;\n",
       "    }\n",
       "\n",
       "    .dataframe tbody tr th {\n",
       "        vertical-align: top;\n",
       "    }\n",
       "\n",
       "    .dataframe thead th {\n",
       "        text-align: right;\n",
       "    }\n",
       "</style>\n",
       "<table border=\"1\" class=\"dataframe\">\n",
       "  <thead>\n",
       "    <tr style=\"text-align: right;\">\n",
       "      <th></th>\n",
       "      <th>Contents</th>\n",
       "      <th>평가</th>\n",
       "    </tr>\n",
       "  </thead>\n",
       "  <tbody>\n",
       "    <tr>\n",
       "      <th>0</th>\n",
       "      <td>▶ 아이오닉5 휠베이스 3000의 가치_x000D_\\n_x000D_\\n서비스센터 갔...</td>\n",
       "      <td>P</td>\n",
       "    </tr>\n",
       "    <tr>\n",
       "      <th>1</th>\n",
       "      <td>▶ 현대차 아이오닉5 vs 테슬라 모델Y, 뭘 살까요?_x000D_\\n_x000D_...</td>\n",
       "      <td>P</td>\n",
       "    </tr>\n",
       "    <tr>\n",
       "      <th>2</th>\n",
       "      <td>▶ (완판) 2020.5 롯데렌터카 신차장! 테슬라프로모션 105대 공지드립니다. ...</td>\n",
       "      <td>P</td>\n",
       "    </tr>\n",
       "    <tr>\n",
       "      <th>3</th>\n",
       "      <td>▶ 코나ev 충전중 화재로 전손 됬습니다_x000D_\\n_x000D_\\n안녕하세요,...</td>\n",
       "      <td>P</td>\n",
       "    </tr>\n",
       "    <tr>\n",
       "      <th>4</th>\n",
       "      <td>▶ 전기차충전요금 원복및 조속한 충전인프라확충에대한 국민청원을 진행하려니 읽어보셔요...</td>\n",
       "      <td>P</td>\n",
       "    </tr>\n",
       "    <tr>\n",
       "      <th>...</th>\n",
       "      <td>...</td>\n",
       "      <td>...</td>\n",
       "    </tr>\n",
       "    <tr>\n",
       "      <th>394815</th>\n",
       "      <td>▶ C40 대기순번 문의_x000D_\\n_x000D_\\n* 관련된 주제에 대해 미리...</td>\n",
       "      <td>E</td>\n",
       "    </tr>\n",
       "    <tr>\n",
       "      <th>394816</th>\n",
       "      <td>▶ 와.. 진짜 미­쳣나봐요 ㅋㅋ_x000D_\\n_x000D_\\n쿠­팡이 드디어 미...</td>\n",
       "      <td>P</td>\n",
       "    </tr>\n",
       "    <tr>\n",
       "      <th>394817</th>\n",
       "      <td>▶ 니로 ev 회생제동 질문_x000D_\\n_x000D_\\n안녕하세요 니로 ev 중...</td>\n",
       "      <td>E</td>\n",
       "    </tr>\n",
       "    <tr>\n",
       "      <th>394818</th>\n",
       "      <td>▶ 가입인사 드립니다_x000D_\\n_x000D_\\n1. 자기소개 : 안녕하세요~e...</td>\n",
       "      <td>P</td>\n",
       "    </tr>\n",
       "    <tr>\n",
       "      <th>394819</th>\n",
       "      <td>▶ 취소차 문의드립니다._x000D_\\n_x000D_\\n* 관련된 주제에 대해 미리...</td>\n",
       "      <td>P</td>\n",
       "    </tr>\n",
       "  </tbody>\n",
       "</table>\n",
       "<p>394820 rows × 2 columns</p>\n",
       "</div>"
      ],
      "text/plain": [
       "                                                 Contents 평가\n",
       "0       ▶ 아이오닉5 휠베이스 3000의 가치_x000D_\\n_x000D_\\n서비스센터 갔...  P\n",
       "1       ▶ 현대차 아이오닉5 vs 테슬라 모델Y, 뭘 살까요?_x000D_\\n_x000D_...  P\n",
       "2       ▶ (완판) 2020.5 롯데렌터카 신차장! 테슬라프로모션 105대 공지드립니다. ...  P\n",
       "3       ▶ 코나ev 충전중 화재로 전손 됬습니다_x000D_\\n_x000D_\\n안녕하세요,...  P\n",
       "4       ▶ 전기차충전요금 원복및 조속한 충전인프라확충에대한 국민청원을 진행하려니 읽어보셔요...  P\n",
       "...                                                   ... ..\n",
       "394815  ▶ C40 대기순번 문의_x000D_\\n_x000D_\\n* 관련된 주제에 대해 미리...  E\n",
       "394816  ▶ 와.. 진짜 미­쳣나봐요 ㅋㅋ_x000D_\\n_x000D_\\n쿠­팡이 드디어 미...  P\n",
       "394817  ▶ 니로 ev 회생제동 질문_x000D_\\n_x000D_\\n안녕하세요 니로 ev 중...  E\n",
       "394818  ▶ 가입인사 드립니다_x000D_\\n_x000D_\\n1. 자기소개 : 안녕하세요~e...  P\n",
       "394819  ▶ 취소차 문의드립니다._x000D_\\n_x000D_\\n* 관련된 주제에 대해 미리...  P\n",
       "\n",
       "[394820 rows x 2 columns]"
      ]
     },
     "execution_count": 12,
     "metadata": {},
     "output_type": "execute_result"
    }
   ],
   "source": [
    "train_data"
   ]
  },
  {
   "cell_type": "code",
   "execution_count": 13,
   "id": "a7a466cd",
   "metadata": {},
   "outputs": [
    {
     "data": {
      "text/plain": [
       "0       [ 1 ] ■종목명 : < 삼성전기 > (2) - 시가총액(억) : 119509 -...\n",
       "1       #제주도#신혼여행#후기#내돈내산#2022년 2022년 월 28일 드뎌 결혼식이 끝나...\n",
       "2       디럭스룸 후기 제주특별자치도 제주시 도령로 133 전화 064-743-1147 공항...\n",
       "3       수용 가능해 쾌적하고 편안하게 머무르기 좋습니다. *에디터 Tip 전기차 충전기를 ...\n",
       "4       신혼여행 일정은: https://blog.naver.com/yumichoe9810/...\n",
       "                              ...                        \n",
       "9783    렌터카 하우스 적혀있는대로 가면 됩니다 날씨가 참 좋던 제주 :) 저 멀리... 내...\n",
       "9784    같은 전기차, 지프 레니게이드 등 다양한 차량이 여행객을 기다리고 있었습니다.......\n",
       "9785    그래서 제주도를 6박 7일 여행을 다녀왔습니당ㅎㅎㅎㅎ 마니주 펜션 옥상에서... 렌...\n",
       "9786    규모가 어마어마합니다 걸어서 다 못갈것 같더라고요 영주산을 바라보며 걷기 걷기도 했...\n",
       "9787    이번에 혼자 제주도여행하면서 은근 깨알 꿀팁 많이 알았으니 제대로 여행후기 남겨볼게...\n",
       "Name: 내용, Length: 9788, dtype: object"
      ]
     },
     "execution_count": 13,
     "metadata": {},
     "output_type": "execute_result"
    }
   ],
   "source": [
    "df_test.내용"
   ]
  },
  {
   "cell_type": "code",
   "execution_count": 14,
   "id": "80cb2fb5",
   "metadata": {},
   "outputs": [
    {
     "name": "stderr",
     "output_type": "stream",
     "text": [
      "C:\\Users\\alsdn\\AppData\\Local\\Temp/ipykernel_18496/1056399298.py:1: FutureWarning: The default value of regex will change from True to False in a future version.\n",
      "  df_test.내용 = df_test.내용.str.replace('[^ㄱ-ㅎㅏ-ㅣ가-힣 ]','')\n"
     ]
    },
    {
     "data": {
      "text/plain": [
       "(9788, 5)"
      ]
     },
     "execution_count": 14,
     "metadata": {},
     "output_type": "execute_result"
    }
   ],
   "source": [
    "df_test.내용 = df_test.내용.str.replace('[^ㄱ-ㅎㅏ-ㅣ가-힣 ]','')\n",
    "df_test.shape"
   ]
  },
  {
   "cell_type": "code",
   "execution_count": 15,
   "id": "b6002ee8",
   "metadata": {},
   "outputs": [
    {
     "data": {
      "text/plain": [
       "0          종목명   삼성전기    시가총액억    투자의견    후기 안정적인 오피스 ...\n",
       "1       제주도신혼여행후기내돈내산년 년 월 일 드뎌 결혼식이 끝나고 우도 가자마자 전기차를 ...\n",
       "2       디럭스룸 후기 제주특별자치도 제주시 도령로  전화  공항의 지하 주차장은 지하층까지...\n",
       "3       수용 가능해 쾌적하고 편안하게 머무르기 좋습니다 에디터  전기차 충전기를 이용할 수...\n",
       "4       신혼여행 일정은  제주도 도착 이날 아 오빠가 전기차 충전에 대해서 걱정이 많아서 ...\n",
       "                              ...                        \n",
       "9783    렌터카 하우스 적혀있는대로 가면 됩니다 날씨가 참 좋던 제주  저 멀리 내 돈 내고...\n",
       "9784    같은 전기차 지프 레니게이드 등 다양한 차량이 여행객을 기다리고 있었습니다 제주전기...\n",
       "9785    그래서 제주도를 박 일 여행을 다녀왔습니당ㅎㅎㅎㅎ 마니주 펜션 옥상에서 렌터카 차종...\n",
       "9786    규모가 어마어마합니다 걸어서 다 못갈것 같더라고요 영주산을 바라보며 걷기 걷기도 했...\n",
       "9787    이번에 혼자 제주도여행하면서 은근 깨알 꿀팁 많이 알았으니 제대로 여행후기 남겨볼게...\n",
       "Name: 내용, Length: 9788, dtype: object"
      ]
     },
     "execution_count": 15,
     "metadata": {},
     "output_type": "execute_result"
    }
   ],
   "source": [
    "df_test.내용"
   ]
  },
  {
   "cell_type": "code",
   "execution_count": 16,
   "id": "9ab82c0e",
   "metadata": {},
   "outputs": [
    {
     "name": "stderr",
     "output_type": "stream",
     "text": [
      "C:\\Users\\alsdn\\AppData\\Local\\Temp/ipykernel_18496/3113495308.py:1: FutureWarning: The default value of regex will change from True to False in a future version.\n",
      "  train_data.Contents = train_data.Contents.str.replace('[^ㄱ-ㅎㅏ-ㅣ가-힣 ]','')\n"
     ]
    },
    {
     "data": {
      "text/plain": [
       "(394820, 2)"
      ]
     },
     "execution_count": 16,
     "metadata": {},
     "output_type": "execute_result"
    }
   ],
   "source": [
    "train_data.Contents = train_data.Contents.str.replace('[^ㄱ-ㅎㅏ-ㅣ가-힣 ]','')\n",
    "train_data.shape"
   ]
  },
  {
   "cell_type": "code",
   "execution_count": 17,
   "id": "e88dc62a",
   "metadata": {},
   "outputs": [
    {
     "data": {
      "text/html": [
       "<div>\n",
       "<style scoped>\n",
       "    .dataframe tbody tr th:only-of-type {\n",
       "        vertical-align: middle;\n",
       "    }\n",
       "\n",
       "    .dataframe tbody tr th {\n",
       "        vertical-align: top;\n",
       "    }\n",
       "\n",
       "    .dataframe thead th {\n",
       "        text-align: right;\n",
       "    }\n",
       "</style>\n",
       "<table border=\"1\" class=\"dataframe\">\n",
       "  <thead>\n",
       "    <tr style=\"text-align: right;\">\n",
       "      <th></th>\n",
       "      <th>Contents</th>\n",
       "      <th>평가</th>\n",
       "    </tr>\n",
       "  </thead>\n",
       "  <tbody>\n",
       "    <tr>\n",
       "      <th>0</th>\n",
       "      <td>아이오닉 휠베이스 의 가치서비스센터 갔다오며 부품 수급 문제로 렌터카 받고 왔습니...</td>\n",
       "      <td>P</td>\n",
       "    </tr>\n",
       "    <tr>\n",
       "      <th>1</th>\n",
       "      <td>현대차 아이오닉  테슬라 모델 뭘 살까요현대차 아이오닉  테슬라 모델 뭘 살까요 ...</td>\n",
       "      <td>P</td>\n",
       "    </tr>\n",
       "    <tr>\n",
       "      <th>2</th>\n",
       "      <td>완판  롯데렌터카 신차장 테슬라프로모션 대 공지드립니다 스탠다드롱레인지  안녕하세...</td>\n",
       "      <td>P</td>\n",
       "    </tr>\n",
       "    <tr>\n",
       "      <th>3</th>\n",
       "      <td>코나 충전중 화재로 전손 됬습니다안녕하세요 코나 회원입니다 오늘 충전중 자연발화로...</td>\n",
       "      <td>P</td>\n",
       "    </tr>\n",
       "    <tr>\n",
       "      <th>4</th>\n",
       "      <td>전기차충전요금 원복및 조속한 충전인프라확충에대한 국민청원을 진행하려니 읽어보셔요만...</td>\n",
       "      <td>P</td>\n",
       "    </tr>\n",
       "    <tr>\n",
       "      <th>...</th>\n",
       "      <td>...</td>\n",
       "      <td>...</td>\n",
       "    </tr>\n",
       "    <tr>\n",
       "      <th>394815</th>\n",
       "      <td>대기순번 문의 관련된 주제에 대해 미리 카페내 검색해 보셨습니까  네아니오 네 ...</td>\n",
       "      <td>E</td>\n",
       "    </tr>\n",
       "    <tr>\n",
       "      <th>394816</th>\n",
       "      <td>와 진짜 미쳣나봐요 ㅋㅋ쿠팡이 드디어 미쳣나봐요ㅋㅋㅋ 나이키랑 아디다스 뉴발 신발...</td>\n",
       "      <td>P</td>\n",
       "    </tr>\n",
       "    <tr>\n",
       "      <th>394817</th>\n",
       "      <td>니로  회생제동 질문안녕하세요 니로  중고로 타고 있는데 네비업뎃하고 나서부터인가...</td>\n",
       "      <td>E</td>\n",
       "    </tr>\n",
       "    <tr>\n",
       "      <th>394818</th>\n",
       "      <td>가입인사 드립니다 자기소개  안녕하세요 기다리고 있습니다  지역  고양시  한글별...</td>\n",
       "      <td>P</td>\n",
       "    </tr>\n",
       "    <tr>\n",
       "      <th>394819</th>\n",
       "      <td>취소차 문의드립니다 관련된 주제에 대해 미리 카페내 검색해 보셨습니까  네아니오 ...</td>\n",
       "      <td>P</td>\n",
       "    </tr>\n",
       "  </tbody>\n",
       "</table>\n",
       "<p>394820 rows × 2 columns</p>\n",
       "</div>"
      ],
      "text/plain": [
       "                                                 Contents 평가\n",
       "0        아이오닉 휠베이스 의 가치서비스센터 갔다오며 부품 수급 문제로 렌터카 받고 왔습니...  P\n",
       "1        현대차 아이오닉  테슬라 모델 뭘 살까요현대차 아이오닉  테슬라 모델 뭘 살까요 ...  P\n",
       "2        완판  롯데렌터카 신차장 테슬라프로모션 대 공지드립니다 스탠다드롱레인지  안녕하세...  P\n",
       "3        코나 충전중 화재로 전손 됬습니다안녕하세요 코나 회원입니다 오늘 충전중 자연발화로...  P\n",
       "4        전기차충전요금 원복및 조속한 충전인프라확충에대한 국민청원을 진행하려니 읽어보셔요만...  P\n",
       "...                                                   ... ..\n",
       "394815    대기순번 문의 관련된 주제에 대해 미리 카페내 검색해 보셨습니까  네아니오 네 ...  E\n",
       "394816   와 진짜 미쳣나봐요 ㅋㅋ쿠팡이 드디어 미쳣나봐요ㅋㅋㅋ 나이키랑 아디다스 뉴발 신발...  P\n",
       "394817   니로  회생제동 질문안녕하세요 니로  중고로 타고 있는데 네비업뎃하고 나서부터인가...  E\n",
       "394818   가입인사 드립니다 자기소개  안녕하세요 기다리고 있습니다  지역  고양시  한글별...  P\n",
       "394819   취소차 문의드립니다 관련된 주제에 대해 미리 카페내 검색해 보셨습니까  네아니오 ...  P\n",
       "\n",
       "[394820 rows x 2 columns]"
      ]
     },
     "execution_count": 17,
     "metadata": {},
     "output_type": "execute_result"
    }
   ],
   "source": [
    "train_data"
   ]
  },
  {
   "cell_type": "code",
   "execution_count": 18,
   "id": "1b5e712f",
   "metadata": {},
   "outputs": [
    {
     "data": {
      "text/html": [
       "<div>\n",
       "<style scoped>\n",
       "    .dataframe tbody tr th:only-of-type {\n",
       "        vertical-align: middle;\n",
       "    }\n",
       "\n",
       "    .dataframe tbody tr th {\n",
       "        vertical-align: top;\n",
       "    }\n",
       "\n",
       "    .dataframe thead th {\n",
       "        text-align: right;\n",
       "    }\n",
       "</style>\n",
       "<table border=\"1\" class=\"dataframe\">\n",
       "  <thead>\n",
       "    <tr style=\"text-align: right;\">\n",
       "      <th></th>\n",
       "      <th>제목</th>\n",
       "      <th>날짜</th>\n",
       "      <th>내용</th>\n",
       "      <th>href</th>\n",
       "      <th>index</th>\n",
       "    </tr>\n",
       "  </thead>\n",
       "  <tbody>\n",
       "    <tr>\n",
       "      <th>0</th>\n",
       "      <td>[2022/3/17]오늘의 증권사 리포트 정리</td>\n",
       "      <td>2022.03.17</td>\n",
       "      <td>종목명   삼성전기    시가총액억    투자의견    후기 안정적인 오피스 ...</td>\n",
       "      <td>https://blog.naver.com/unicornup?Redirect=Log&amp;...</td>\n",
       "      <td>NaN</td>\n",
       "    </tr>\n",
       "    <tr>\n",
       "      <th>1</th>\n",
       "      <td>2022년 4박 5일 신혼여행 후기 ing 제주도 (Feat. 일오반식당...</td>\n",
       "      <td>2022.03.17</td>\n",
       "      <td>제주도신혼여행후기내돈내산년 년 월 일 드뎌 결혼식이 끝나고 우도 가자마자 전기차를 ...</td>\n",
       "      <td>https://blog.naver.com/apple_378?Redirect=Log&amp;...</td>\n",
       "      <td>NaN</td>\n",
       "    </tr>\n",
       "    <tr>\n",
       "      <th>2</th>\n",
       "      <td>제주공항숙소 시리우스 제주호텔: 트윈룸, 디럭스룸 장단점</td>\n",
       "      <td>2022.03.17</td>\n",
       "      <td>디럭스룸 후기 제주특별자치도 제주시 도령로  전화  공항의 지하 주차장은 지하층까지...</td>\n",
       "      <td>https://blog.naver.com/zoonee96?Redirect=Log&amp;l...</td>\n",
       "      <td>NaN</td>\n",
       "    </tr>\n",
       "    <tr>\n",
       "      <th>3</th>\n",
       "      <td>서귀포 바닷가 한적한 마을에서 힐링을 해봅시다...</td>\n",
       "      <td>2022.03.17</td>\n",
       "      <td>수용 가능해 쾌적하고 편안하게 머무르기 좋습니다 에디터  전기차 충전기를 이용할 수...</td>\n",
       "      <td>https://blog.naver.com/yenyo?Redirect=Log&amp;logN...</td>\n",
       "      <td>NaN</td>\n",
       "    </tr>\n",
       "    <tr>\n",
       "      <th>4</th>\n",
       "      <td>[신혼여행②]제주1일차_제주로렌트카/순옥이네명가/신라호텔...</td>\n",
       "      <td>2022.03.17</td>\n",
       "      <td>신혼여행 일정은  제주도 도착 이날 아 오빠가 전기차 충전에 대해서 걱정이 많아서 ...</td>\n",
       "      <td>https://blog.naver.com/yumichoe9810?Redirect=L...</td>\n",
       "      <td>NaN</td>\n",
       "    </tr>\n",
       "    <tr>\n",
       "      <th>...</th>\n",
       "      <td>...</td>\n",
       "      <td>...</td>\n",
       "      <td>...</td>\n",
       "      <td>...</td>\n",
       "      <td>...</td>\n",
       "    </tr>\n",
       "    <tr>\n",
       "      <th>9783</th>\n",
       "      <td>제주도 여행 렌트카 대여 :: 스타렌터카</td>\n",
       "      <td>2019.06.08.</td>\n",
       "      <td>렌터카 하우스 적혀있는대로 가면 됩니다 날씨가 참 좋던 제주  저 멀리 내 돈 내고...</td>\n",
       "      <td>https://blog.naver.com/s__1202?Redirect=Log&amp;lo...</td>\n",
       "      <td>1045.0</td>\n",
       "    </tr>\n",
       "    <tr>\n",
       "      <th>9784</th>\n",
       "      <td>타기_쏘카 &amp; 쏘카스테이션 제주 이용후기(Feat. 쏘카패스)</td>\n",
       "      <td>2019.06.08.</td>\n",
       "      <td>같은 전기차 지프 레니게이드 등 다양한 차량이 여행객을 기다리고 있었습니다 제주전기...</td>\n",
       "      <td>https://blog.naver.com/aramf16?Redirect=Log&amp;lo...</td>\n",
       "      <td>1046.0</td>\n",
       "    </tr>\n",
       "    <tr>\n",
       "      <th>9785</th>\n",
       "      <td>♨ 제주도 6박 7일 여행 비용, 경비 다 알려드립니당 ♨</td>\n",
       "      <td>2019.06.08.</td>\n",
       "      <td>그래서 제주도를 박 일 여행을 다녀왔습니당ㅎㅎㅎㅎ 마니주 펜션 옥상에서 렌터카 차종...</td>\n",
       "      <td>https://blog.naver.com/star1233star?Redirect=L...</td>\n",
       "      <td>1047.0</td>\n",
       "    </tr>\n",
       "    <tr>\n",
       "      <th>9786</th>\n",
       "      <td>가볼만한 곳/제주도 숨은 명소/제주 청초밭 방문 후기</td>\n",
       "      <td>2019.06.07.</td>\n",
       "      <td>규모가 어마어마합니다 걸어서 다 못갈것 같더라고요 영주산을 바라보며 걷기 걷기도 했...</td>\n",
       "      <td>https://blog.naver.com/nahmeerang0?Redirect=Lo...</td>\n",
       "      <td>1048.0</td>\n",
       "    </tr>\n",
       "    <tr>\n",
       "      <th>9787</th>\n",
       "      <td>뜸했던 쳐비 제주도 혼여(혼자여행)하고왔어요:)</td>\n",
       "      <td>2019.06.07.</td>\n",
       "      <td>이번에 혼자 제주도여행하면서 은근 깨알 꿀팁 많이 알았으니 제대로 여행후기 남겨볼게...</td>\n",
       "      <td>https://blog.naver.com/tuvenus?Redirect=Log&amp;lo...</td>\n",
       "      <td>1049.0</td>\n",
       "    </tr>\n",
       "  </tbody>\n",
       "</table>\n",
       "<p>9788 rows × 5 columns</p>\n",
       "</div>"
      ],
      "text/plain": [
       "                                               제목           날짜  \\\n",
       "0                       [2022/3/17]오늘의 증권사 리포트 정리   2022.03.17   \n",
       "1     2022년 4박 5일 신혼여행 후기 ing 제주도 (Feat. 일오반식당...   2022.03.17   \n",
       "2                 제주공항숙소 시리우스 제주호텔: 트윈룸, 디럭스룸 장단점   2022.03.17   \n",
       "3                    서귀포 바닷가 한적한 마을에서 힐링을 해봅시다...   2022.03.17   \n",
       "4              [신혼여행②]제주1일차_제주로렌트카/순옥이네명가/신라호텔...   2022.03.17   \n",
       "...                                           ...          ...   \n",
       "9783                       제주도 여행 렌트카 대여 :: 스타렌터카  2019.06.08.   \n",
       "9784           타기_쏘카 & 쏘카스테이션 제주 이용후기(Feat. 쏘카패스)  2019.06.08.   \n",
       "9785             ♨ 제주도 6박 7일 여행 비용, 경비 다 알려드립니당 ♨  2019.06.08.   \n",
       "9786                가볼만한 곳/제주도 숨은 명소/제주 청초밭 방문 후기  2019.06.07.   \n",
       "9787                   뜸했던 쳐비 제주도 혼여(혼자여행)하고왔어요:)  2019.06.07.   \n",
       "\n",
       "                                                     내용  \\\n",
       "0        종목명   삼성전기    시가총액억    투자의견    후기 안정적인 오피스 ...   \n",
       "1     제주도신혼여행후기내돈내산년 년 월 일 드뎌 결혼식이 끝나고 우도 가자마자 전기차를 ...   \n",
       "2     디럭스룸 후기 제주특별자치도 제주시 도령로  전화  공항의 지하 주차장은 지하층까지...   \n",
       "3     수용 가능해 쾌적하고 편안하게 머무르기 좋습니다 에디터  전기차 충전기를 이용할 수...   \n",
       "4     신혼여행 일정은  제주도 도착 이날 아 오빠가 전기차 충전에 대해서 걱정이 많아서 ...   \n",
       "...                                                 ...   \n",
       "9783  렌터카 하우스 적혀있는대로 가면 됩니다 날씨가 참 좋던 제주  저 멀리 내 돈 내고...   \n",
       "9784  같은 전기차 지프 레니게이드 등 다양한 차량이 여행객을 기다리고 있었습니다 제주전기...   \n",
       "9785  그래서 제주도를 박 일 여행을 다녀왔습니당ㅎㅎㅎㅎ 마니주 펜션 옥상에서 렌터카 차종...   \n",
       "9786  규모가 어마어마합니다 걸어서 다 못갈것 같더라고요 영주산을 바라보며 걷기 걷기도 했...   \n",
       "9787  이번에 혼자 제주도여행하면서 은근 깨알 꿀팁 많이 알았으니 제대로 여행후기 남겨볼게...   \n",
       "\n",
       "                                                   href   index  \n",
       "0     https://blog.naver.com/unicornup?Redirect=Log&...     NaN  \n",
       "1     https://blog.naver.com/apple_378?Redirect=Log&...     NaN  \n",
       "2     https://blog.naver.com/zoonee96?Redirect=Log&l...     NaN  \n",
       "3     https://blog.naver.com/yenyo?Redirect=Log&logN...     NaN  \n",
       "4     https://blog.naver.com/yumichoe9810?Redirect=L...     NaN  \n",
       "...                                                 ...     ...  \n",
       "9783  https://blog.naver.com/s__1202?Redirect=Log&lo...  1045.0  \n",
       "9784  https://blog.naver.com/aramf16?Redirect=Log&lo...  1046.0  \n",
       "9785  https://blog.naver.com/star1233star?Redirect=L...  1047.0  \n",
       "9786  https://blog.naver.com/nahmeerang0?Redirect=Lo...  1048.0  \n",
       "9787  https://blog.naver.com/tuvenus?Redirect=Log&lo...  1049.0  \n",
       "\n",
       "[9788 rows x 5 columns]"
      ]
     },
     "execution_count": 18,
     "metadata": {},
     "output_type": "execute_result"
    }
   ],
   "source": [
    "df_test.내용"
   ]
  },
  {
   "cell_type": "code",
   "execution_count": 19,
   "id": "56fbdb41",
   "metadata": {},
   "outputs": [],
   "source": [
    "stop_text = '은 는 이 가 을 를 의 에게 에 들 좀 잘 과 도 으로 자 와 ㅋㅋ ㅠㅠ ㅎㅎ'\n",
    "stopwords = stop_text.split()"
   ]
  },
  {
   "cell_type": "code",
   "execution_count": 20,
   "id": "38327b70",
   "metadata": {},
   "outputs": [
    {
     "data": {
      "application/vnd.jupyter.widget-view+json": {
       "model_id": "5f7525c89030409baaab0ffdd177808e",
       "version_major": 2,
       "version_minor": 0
      },
      "text/plain": [
       "  0%|          | 0/394820 [00:00<?, ?it/s]"
      ]
     },
     "metadata": {},
     "output_type": "display_data"
    }
   ],
   "source": [
    "from tqdm.notebook import tqdm\n",
    "X_train = []\n",
    "for sentence in tqdm(train_data.Contents):\n",
    "    morphs = okt.morphs(sentence, stem=True)\n",
    "    tmp_list = [word for word in morphs if word not in stopwords]\n",
    "    tmp_str = ' '.join(tmp_list)\n",
    "    X_train.append(tmp_str)"
   ]
  },
  {
   "cell_type": "code",
   "execution_count": 21,
   "id": "8c9a4825",
   "metadata": {},
   "outputs": [
    {
     "data": {
      "application/vnd.jupyter.widget-view+json": {
       "model_id": "30ff2ecdd9da48bba805e087e20e37d0",
       "version_major": 2,
       "version_minor": 0
      },
      "text/plain": [
       "  0%|          | 0/9788 [00:00<?, ?it/s]"
      ]
     },
     "metadata": {},
     "output_type": "display_data"
    }
   ],
   "source": [
    "X_test = []\n",
    "for sentence in tqdm(df_test.내용):\n",
    "    morphs = okt.morphs(sentence, stem=True)\n",
    "    tmp_str = ' '.join([word for word in morphs if word not in stopwords])\n",
    "    X_test.append(tmp_str)"
   ]
  },
  {
   "cell_type": "code",
   "execution_count": 33,
   "id": "924020b4",
   "metadata": {},
   "outputs": [
    {
     "data": {
      "text/plain": [
       "(394820, 9788)"
      ]
     },
     "execution_count": 33,
     "metadata": {},
     "output_type": "execute_result"
    }
   ],
   "source": [
    "len(X_train),len(X_test)"
   ]
  },
  {
   "cell_type": "code",
   "execution_count": 163,
   "id": "628c1205",
   "metadata": {},
   "outputs": [
    {
     "data": {
      "text/plain": [
       "'▶ 아이오닉5 휠베이스 3000의 가치_x000D_\\n_x000D_\\n서비스센터 갔다오며 부품 수급 문제로 렌터카 받고 왔습니다. 그랜저IG 받았는데 전시차 시승했을 때도 공간이 엄청 넓어서 놀랐는데 오늘 렌터카로 받고 문득 든 생각이 휠베이스가 얼마일까 했는데 2885였더군요. 휠베이스 2885와 3000은 거의 코나에서 니로 탔을 때의 차이정도일 것 같은데 체감이 엄청 날것 같습니다. 10cm 별거 아니라고 하신 분 글도 봤는데 차량에서 특히 레그룸 10cm는 정말 24평 집에서 30평 집으로 이사 갔을 때의 느낌이 아닐까 개인적으로 생각해봅니다. 코나 형편없어서 현대차에 별 기대 안했던 사람도 휠베이스 3000은 그 자체로 엄청난 메리트일것 같다는 생각입니다. 모델y와 아이오닉5 비교하며 구매 생각하고 계신 님들 휠베이스 3000이 기대 이상의 만족감을 줄수도 있다는 점 고려해보세요. ota, 소재, 자율주행, 감성, 편의성 모든 면에서 모델y가 위라고 해도 휠베이스는 아이오닉5가 3000이고 모델y가 2890이라는 것 참고하세요. 더불어 모델X 2965보다도 아이오닉5가 휠베이스 넓습니다. ?'"
      ]
     },
     "execution_count": 163,
     "metadata": {},
     "output_type": "execute_result"
    }
   ],
   "source": [
    "df_train.Contents[0]"
   ]
  },
  {
   "cell_type": "code",
   "execution_count": 165,
   "id": "9b760d4d",
   "metadata": {},
   "outputs": [
    {
     "data": {
      "text/plain": [
       "'아이오 닉 휠 베이스 가치 서비스 센터 가다 부품 수급 문제 로 렌터카 받다 오다 그랜저 받다 전 시차 시 승 하다 때 공간 엄청 넓다 놀라다 오늘 렌터카 로 받다 문득 들다 생각 휠 베이스 얼마 이다 하다 이다 휠 베이스 오다 거의 코나 에서 니 로 타다 때 차이 정도 일 것 같다 체감 엄청 날다 같다 별거 아니다 하다 분 글 보다 차량 에서 특히 레그룸 늘다 정말 평 집 에서 평 집 이사 가다 때 느낌 아니다 개인 적 생각 해보다 코 나 형편 없다 현대차 별 기대 안 하다 사람 휠 베이스 그 자체 로 엄청나다 메리 트이다 같다 생각 이다 모델 아이오 닉 비교 하다 구매 생각 하고 계시다 님들 휠 베이스 기대 이상 만족감 줄 수도 있다 점 고려 해보다 소재 자율 주행 감성 편의 성 모든 면 에서 모델 위 라고 해도 휠 베이스 아이오 닉 이고 모델 이라는 것 참고 하다 더불다 모델 보다도 아이오 닉 휠 베이스 넓다'"
      ]
     },
     "execution_count": 165,
     "metadata": {},
     "output_type": "execute_result"
    }
   ],
   "source": [
    "XX_train[0]"
   ]
  },
  {
   "cell_type": "code",
   "execution_count": 211,
   "id": "17a2e7b8",
   "metadata": {},
   "outputs": [],
   "source": [
    "df_다중분류.to_csv('전기차_전처리및토큰화.csv',index=False)"
   ]
  },
  {
   "cell_type": "code",
   "execution_count": 213,
   "id": "0cefff22",
   "metadata": {},
   "outputs": [],
   "source": [
    "df_train.to_csv('전기차전처리추가.csv',index=False)"
   ]
  },
  {
   "cell_type": "code",
   "execution_count": 80,
   "id": "ec5ceb90",
   "metadata": {},
   "outputs": [],
   "source": [
    "df_train['전처리']= X_train"
   ]
  },
  {
   "cell_type": "code",
   "execution_count": 82,
   "id": "56f583f8",
   "metadata": {},
   "outputs": [
    {
     "data": {
      "text/plain": [
       "0         아이오 닉 휠 베이스 가치 서비스 센터 가다 부품 수급 문제 로 렌터카 받다 오다 ...\n",
       "1         현대차 아이오 닉 테슬라 모델 뭘 살다 요 현대차 아이오 닉 테슬라 모델 뭘 살다 ...\n",
       "2         완판 롯데 렌터카 신 차장 테슬라 프로모션 대다 공지 드리다 스탠다드 롱 레인지 안...\n",
       "3         코 나 충전 중 화재 로 전 손 되다 안녕하다 코 나 회원 이다 오늘 충전 중 자연...\n",
       "4         전기차 충전 요금 원 복및 조속 한 충전 인프라 확충 대한 국민 청원 진행 하다 읽...\n",
       "                                ...                        \n",
       "394815    대기 순번 문의 관련 되다 주제 대해 미리 카페 내 검색 하다 보다 네 아니다 네 ...\n",
       "394816    오다 진짜 미쳣나봐 요 쿠팡 드디어 미쳣나봐 요 ㅋㅋㅋ 나이키 랑 아디다스 뉴발 신...\n",
       "394817    니 로 회생제동 질문 안녕하다 니 로 중고 로 타고 있다 네비업뎃 하고 나서다 부터...\n",
       "394818    가입 인사 드리다 자기 소개 안녕하다 기다리다 있다 지역 고양시 한글 별명 뜻 이름...\n",
       "394819    취소 차 문의 드리다 관련 되다 주제 대해 미리 카페 내 검색 하다 보다 네 아니다...\n",
       "Name: 전처리, Length: 394820, dtype: object"
      ]
     },
     "execution_count": 82,
     "metadata": {},
     "output_type": "execute_result"
    }
   ],
   "source": [
    "df_train['전처리']"
   ]
  },
  {
   "cell_type": "code",
   "execution_count": 83,
   "id": "daa06689",
   "metadata": {},
   "outputs": [
    {
     "data": {
      "text/plain": [
       "0         P\n",
       "1         P\n",
       "2         P\n",
       "3         P\n",
       "4         P\n",
       "         ..\n",
       "394815    E\n",
       "394816    P\n",
       "394817    E\n",
       "394818    P\n",
       "394819    P\n",
       "Name: 평가, Length: 394820, dtype: object"
      ]
     },
     "execution_count": 83,
     "metadata": {},
     "output_type": "execute_result"
    }
   ],
   "source": [
    "df_train"
   ]
  },
  {
   "cell_type": "code",
   "execution_count": 78,
   "id": "32d5b154",
   "metadata": {},
   "outputs": [
    {
     "data": {
      "text/plain": [
       "'아이오 닉 휠 베이스 가치 서비스 센터 가다 부품 수급 문제 로 렌터카 받다 오다 그랜저 받다 전 시차 시 승 하다 때 공간 엄청 넓다 놀라다 오늘 렌터카 로 받다 문득 들다 생각 휠 베이스 얼마 이다 하다 이다 휠 베이스 오다 거의 코나 에서 니 로 타다 때 차이 정도 일 것 같다 체감 엄청 날다 같다 별거 아니다 하다 분 글 보다 차량 에서 특히 레그룸 늘다 정말 평 집 에서 평 집 이사 가다 때 느낌 아니다 개인 적 생각 해보다 코 나 형편 없다 현대차 별 기대 안 하다 사람 휠 베이스 그 자체 로 엄청나다 메리 트이다 같다 생각 이다 모델 아이오 닉 비교 하다 구매 생각 하고 계시다 님들 휠 베이스 기대 이상 만족감 줄 수도 있다 점 고려 해보다 소재 자율 주행 감성 편의 성 모든 면 에서 모델 위 라고 해도 휠 베이스 아이오 닉 이고 모델 이라는 것 참고 하다 더불다 모델 보다도 아이오 닉 휠 베이스 넓다'"
      ]
     },
     "execution_count": 78,
     "metadata": {},
     "output_type": "execute_result"
    }
   ],
   "source": [
    "X_train[0]"
   ]
  },
  {
   "cell_type": "code",
   "execution_count": 90,
   "id": "da73fd00",
   "metadata": {},
   "outputs": [],
   "source": [
    "import copy"
   ]
  },
  {
   "cell_type": "code",
   "execution_count": 102,
   "id": "9e3aed18",
   "metadata": {},
   "outputs": [],
   "source": [
    "df_이진분류=copy.deepcopy(df_train[df_train.평가!='E'])"
   ]
  },
  {
   "cell_type": "code",
   "execution_count": 103,
   "id": "1f6a5ca1",
   "metadata": {},
   "outputs": [
    {
     "data": {
      "text/plain": [
       "0         아이오 닉 휠 베이스 가치 서비스 센터 가다 부품 수급 문제 로 렌터카 받다 오다 ...\n",
       "1         현대차 아이오 닉 테슬라 모델 뭘 살다 요 현대차 아이오 닉 테슬라 모델 뭘 살다 ...\n",
       "2         완판 롯데 렌터카 신 차장 테슬라 프로모션 대다 공지 드리다 스탠다드 롱 레인지 안...\n",
       "3         코 나 충전 중 화재 로 전 손 되다 안녕하다 코 나 회원 이다 오늘 충전 중 자연...\n",
       "4         전기차 충전 요금 원 복및 조속 한 충전 인프라 확충 대한 국민 청원 진행 하다 읽...\n",
       "                                ...                        \n",
       "394813    기아 포인트 내 버 페이 포인트 전환 이번 새롭다 기아 포인트 네이버 페이 포인트 ...\n",
       "394814     취소 차 잡다 카 마스터 님 계시다 요 계시다 요 아이오 닉 두다 좋다 지역 울릉 이다\n",
       "394816    오다 진짜 미쳣나봐 요 쿠팡 드디어 미쳣나봐 요 ㅋㅋㅋ 나이키 랑 아디다스 뉴발 신...\n",
       "394818    가입 인사 드리다 자기 소개 안녕하다 기다리다 있다 지역 고양시 한글 별명 뜻 이름...\n",
       "394819    취소 차 문의 드리다 관련 되다 주제 대해 미리 카페 내 검색 하다 보다 네 아니다...\n",
       "Name: 전처리, Length: 292084, dtype: object"
      ]
     },
     "execution_count": 103,
     "metadata": {},
     "output_type": "execute_result"
    }
   ],
   "source": [
    "df_이진분류['전처리']"
   ]
  },
  {
   "cell_type": "code",
   "execution_count": 111,
   "id": "55271351",
   "metadata": {},
   "outputs": [],
   "source": [
    "df_이진분류['평가'].fillna('N',inplace=True)"
   ]
  },
  {
   "cell_type": "code",
   "execution_count": 110,
   "id": "48cf99d0",
   "metadata": {},
   "outputs": [
    {
     "data": {
      "text/plain": [
       "전처리      0\n",
       "평가     882\n",
       "dtype: int64"
      ]
     },
     "execution_count": 110,
     "metadata": {},
     "output_type": "execute_result"
    }
   ],
   "source": [
    "df_이진분류.isnull().sum()"
   ]
  },
  {
   "cell_type": "code",
   "execution_count": 113,
   "id": "9d0623af",
   "metadata": {},
   "outputs": [
    {
     "data": {
      "text/plain": [
       "전처리    0\n",
       "평가     0\n",
       "dtype: int64"
      ]
     },
     "execution_count": 113,
     "metadata": {},
     "output_type": "execute_result"
    }
   ],
   "source": [
    "df_이진분류.isnull().sum()"
   ]
  },
  {
   "cell_type": "code",
   "execution_count": 168,
   "id": "9eb3951c",
   "metadata": {},
   "outputs": [],
   "source": [
    "df_다중분류=pd.concat([df_train['전처리'],df_train['평가']],axis=1)"
   ]
  },
  {
   "cell_type": "code",
   "execution_count": null,
   "id": "ad7a7008",
   "metadata": {},
   "outputs": [],
   "source": []
  },
  {
   "cell_type": "code",
   "execution_count": 170,
   "id": "3e11c800",
   "metadata": {},
   "outputs": [
    {
     "data": {
      "text/plain": [
       "P    201518\n",
       "E    102736\n",
       "N     89684\n",
       "Name: 평가, dtype: int64"
      ]
     },
     "execution_count": 170,
     "metadata": {},
     "output_type": "execute_result"
    }
   ],
   "source": [
    "df_다중분류.평가.value_counts()"
   ]
  },
  {
   "cell_type": "markdown",
   "id": "471a6a88",
   "metadata": {},
   "source": [
    "### 다중분류"
   ]
  },
  {
   "cell_type": "code",
   "execution_count": 196,
   "id": "68d282c5",
   "metadata": {},
   "outputs": [],
   "source": [
    "XXX_train, XXX_test,yyy_train,yyy_test = train_test_split(\n",
    "    df_다중분류['전처리'],df_다중분류['평가'],test_size=0.2, random_state=2021\n",
    ")"
   ]
  },
  {
   "cell_type": "code",
   "execution_count": 202,
   "id": "17f0dd48",
   "metadata": {},
   "outputs": [
    {
     "data": {
      "text/plain": [
       "((315856, 82878), (78964, 82878))"
      ]
     },
     "execution_count": 202,
     "metadata": {},
     "output_type": "execute_result"
    }
   ],
   "source": [
    "from sklearn.feature_extraction.text import CountVectorizer\n",
    "cvect3 = CountVectorizer()\n",
    "cvect3.fit(XXX_train)\n",
    "XXX_train_cv = cvect3.transform(XXX_train)\n",
    "XXX_test_cv = cvect3.transform(XXX_test)\n",
    "XXX_train_cv.shape, XXX_test_cv.shape"
   ]
  },
  {
   "cell_type": "code",
   "execution_count": 182,
   "id": "e98f63f8",
   "metadata": {},
   "outputs": [
    {
     "data": {
      "text/plain": [
       "LabelEncoder()"
      ]
     },
     "execution_count": 182,
     "metadata": {},
     "output_type": "execute_result"
    }
   ],
   "source": [
    "from sklearn.preprocessing import LabelEncoder\n",
    "encoder = LabelEncoder()\n",
    "encoder.fit(df_다중분류['평가'])\n"
   ]
  },
  {
   "cell_type": "code",
   "execution_count": 183,
   "id": "11e1386a",
   "metadata": {},
   "outputs": [],
   "source": [
    "labels = encoder.transform(df_다중분류['평가'])"
   ]
  },
  {
   "cell_type": "code",
   "execution_count": 184,
   "id": "f6116df3",
   "metadata": {},
   "outputs": [
    {
     "data": {
      "text/plain": [
       "array([2, 2, 2, ..., 0, 2, 2])"
      ]
     },
     "execution_count": 184,
     "metadata": {},
     "output_type": "execute_result"
    }
   ],
   "source": [
    "labels"
   ]
  },
  {
   "cell_type": "code",
   "execution_count": 203,
   "id": "9a2cb699",
   "metadata": {},
   "outputs": [
    {
     "name": "stderr",
     "output_type": "stream",
     "text": [
      "C:\\Users\\alsdn\\anaconda3\\lib\\site-packages\\sklearn\\linear_model\\_logistic.py:763: ConvergenceWarning: lbfgs failed to converge (status=1):\n",
      "STOP: TOTAL NO. of ITERATIONS REACHED LIMIT.\n",
      "\n",
      "Increase the number of iterations (max_iter) or scale the data as shown in:\n",
      "    https://scikit-learn.org/stable/modules/preprocessing.html\n",
      "Please also refer to the documentation for alternative solver options:\n",
      "    https://scikit-learn.org/stable/modules/linear_model.html#logistic-regression\n",
      "  n_iter_i = _check_optimize_result(\n"
     ]
    },
    {
     "data": {
      "text/plain": [
       "LogisticRegression()"
      ]
     },
     "execution_count": 203,
     "metadata": {},
     "output_type": "execute_result"
    }
   ],
   "source": [
    "lr = LogisticRegression()\n",
    "lr.fit(XXX_train_cv, yyy_train)"
   ]
  },
  {
   "cell_type": "code",
   "execution_count": 204,
   "id": "573e8eb8",
   "metadata": {},
   "outputs": [
    {
     "data": {
      "text/plain": [
       "0.814624385796059"
      ]
     },
     "execution_count": 204,
     "metadata": {},
     "output_type": "execute_result"
    }
   ],
   "source": [
    "lr.score(XXX_test_cv,yyy_test)"
   ]
  },
  {
   "cell_type": "code",
   "execution_count": 205,
   "id": "8f2a17cb",
   "metadata": {},
   "outputs": [],
   "source": [
    "import joblib"
   ]
  },
  {
   "cell_type": "code",
   "execution_count": null,
   "id": "c23f192a",
   "metadata": {},
   "outputs": [],
   "source": []
  },
  {
   "cell_type": "code",
   "execution_count": 207,
   "id": "5aa6ae22",
   "metadata": {},
   "outputs": [
    {
     "data": {
      "text/plain": [
       "['lr.pkl']"
      ]
     },
     "execution_count": 207,
     "metadata": {},
     "output_type": "execute_result"
    }
   ],
   "source": [
    "joblib.dump(lr, 'lr.pkl')"
   ]
  },
  {
   "cell_type": "code",
   "execution_count": 208,
   "id": "d3ef1839",
   "metadata": {},
   "outputs": [],
   "source": [
    "newlr=joblib.load('lr.pkl')"
   ]
  },
  {
   "cell_type": "code",
   "execution_count": 209,
   "id": "3375f575",
   "metadata": {},
   "outputs": [
    {
     "data": {
      "text/plain": [
       "0.814624385796059"
      ]
     },
     "execution_count": 209,
     "metadata": {},
     "output_type": "execute_result"
    }
   ],
   "source": [
    "newlr.score(XXX_test_cv,yyy_test)"
   ]
  },
  {
   "cell_type": "code",
   "execution_count": 186,
   "id": "596ae141",
   "metadata": {},
   "outputs": [
    {
     "data": {
      "text/plain": [
       "array([2, 2, 2, ..., 0, 2, 2])"
      ]
     },
     "execution_count": 186,
     "metadata": {},
     "output_type": "execute_result"
    }
   ],
   "source": [
    "# labels_test = LabelEncoder().fit_transform(df_다중분류['평가'])\n",
    "# labels_test"
   ]
  },
  {
   "cell_type": "code",
   "execution_count": null,
   "id": "ff465041",
   "metadata": {},
   "outputs": [],
   "source": [
    "lr.score(XXX_test_cv,labels_test)"
   ]
  },
  {
   "cell_type": "code",
   "execution_count": 188,
   "id": "77c6b0b8",
   "metadata": {},
   "outputs": [],
   "source": [
    "XXXX_train, XXXX_test,yyyy_train,yyyy_test = train_test_split(\n",
    "    df_다중분류['전처리'],labels,test_size=0.2, random_state=2021\n",
    ")"
   ]
  },
  {
   "cell_type": "code",
   "execution_count": 189,
   "id": "2de58700",
   "metadata": {},
   "outputs": [
    {
     "data": {
      "text/plain": [
       "((315856, 82878), (78964, 82878))"
      ]
     },
     "execution_count": 189,
     "metadata": {},
     "output_type": "execute_result"
    }
   ],
   "source": [
    "from sklearn.feature_extraction.text import CountVectorizer\n",
    "cvect4 = CountVectorizer()\n",
    "cvect4.fit(XXXX_train)\n",
    "XXXX_train_cv = cvect4.transform(XXXX_train)\n",
    "XXXX_test_cv = cvect4.transform(XXXX_test)\n",
    "XXXX_train_cv.shape, XXXX_test_cv.shape"
   ]
  },
  {
   "cell_type": "code",
   "execution_count": null,
   "id": "9e079a46",
   "metadata": {},
   "outputs": [],
   "source": []
  },
  {
   "cell_type": "code",
   "execution_count": 190,
   "id": "a6d8a409",
   "metadata": {},
   "outputs": [
    {
     "name": "stderr",
     "output_type": "stream",
     "text": [
      "C:\\Users\\alsdn\\anaconda3\\lib\\site-packages\\sklearn\\linear_model\\_logistic.py:763: ConvergenceWarning: lbfgs failed to converge (status=1):\n",
      "STOP: TOTAL NO. of ITERATIONS REACHED LIMIT.\n",
      "\n",
      "Increase the number of iterations (max_iter) or scale the data as shown in:\n",
      "    https://scikit-learn.org/stable/modules/preprocessing.html\n",
      "Please also refer to the documentation for alternative solver options:\n",
      "    https://scikit-learn.org/stable/modules/linear_model.html#logistic-regression\n",
      "  n_iter_i = _check_optimize_result(\n"
     ]
    },
    {
     "data": {
      "text/plain": [
       "LogisticRegression()"
      ]
     },
     "execution_count": 190,
     "metadata": {},
     "output_type": "execute_result"
    }
   ],
   "source": [
    "lr = LogisticRegression()\n",
    "lr.fit(XXXX_train_cv, yyyy_train)"
   ]
  },
  {
   "cell_type": "code",
   "execution_count": null,
   "id": "839b70e4",
   "metadata": {},
   "outputs": [],
   "source": []
  },
  {
   "cell_type": "code",
   "execution_count": 192,
   "id": "cc90b4a7",
   "metadata": {},
   "outputs": [
    {
     "data": {
      "text/plain": [
       "0.814624385796059"
      ]
     },
     "execution_count": 192,
     "metadata": {},
     "output_type": "execute_result"
    }
   ],
   "source": [
    "from sklearn.metrics import accuracy_score\n",
    "\n",
    "pred=lr.predict(XXXX_test_cv)\n",
    "accuracy_score(yyyy_test, pred)"
   ]
  },
  {
   "cell_type": "code",
   "execution_count": 195,
   "id": "eac1a156",
   "metadata": {},
   "outputs": [
    {
     "name": "stdout",
     "output_type": "stream",
     "text": [
      "0.7962914012378169\n",
      "0.7924325864915781\n",
      "0.7928660786655469\n"
     ]
    }
   ],
   "source": [
    "from sklearn.metrics import precision_score, recall_score, f1_score\n",
    "p = precision_score(yyyy_test, pred,average='macro')\n",
    "print(p)\n",
    "r = recall_score(yyyy_test, pred,average='macro')\n",
    "print(r)\n",
    "f1 = f1_score(yyyy_test, pred,average='macro')\n",
    "print(f1)"
   ]
  },
  {
   "cell_type": "code",
   "execution_count": null,
   "id": "350b9629",
   "metadata": {},
   "outputs": [],
   "source": []
  },
  {
   "cell_type": "code",
   "execution_count": 191,
   "id": "d6f8cd2a",
   "metadata": {},
   "outputs": [
    {
     "data": {
      "text/plain": [
       "0.814624385796059"
      ]
     },
     "execution_count": 191,
     "metadata": {},
     "output_type": "execute_result"
    }
   ],
   "source": [
    "lr.score(XXXX_test_cv, yyyy_test)"
   ]
  },
  {
   "cell_type": "code",
   "execution_count": 181,
   "id": "e3107069",
   "metadata": {},
   "outputs": [
    {
     "data": {
      "text/plain": [
       "array(['E', 'N', 'P'], dtype=object)"
      ]
     },
     "execution_count": 181,
     "metadata": {},
     "output_type": "execute_result"
    }
   ],
   "source": [
    "np.unique(lr.predict(XXX_test_cv))"
   ]
  },
  {
   "cell_type": "code",
   "execution_count": null,
   "id": "b912c114",
   "metadata": {},
   "outputs": [],
   "source": [
    "from sklearn.metrics import accuracy_score\n",
    "\n",
    "pred=lr.predict(XX_test_cv)\n",
    "accuracy_score(YY_test, pred)"
   ]
  },
  {
   "cell_type": "code",
   "execution_count": 97,
   "id": "10b6691c",
   "metadata": {},
   "outputs": [
    {
     "data": {
      "text/plain": [
       "((292084, 85032), (9788, 85032))"
      ]
     },
     "execution_count": 97,
     "metadata": {},
     "output_type": "execute_result"
    }
   ],
   "source": [
    "from sklearn.feature_extraction.text import CountVectorizer\n",
    "cvect = CountVectorizer()\n",
    "cvect.fit(df_이진분류['전처리'])\n",
    "X_train_cv = cvect.transform(df_이진분류['전처리'])\n",
    "X_test_cv = cvect.transform(X_test)\n",
    "X_train_cv.shape, X_test_cv.shape"
   ]
  },
  {
   "cell_type": "code",
   "execution_count": null,
   "id": "ad74d5bf",
   "metadata": {},
   "outputs": [],
   "source": [
    "from sklearn.linear_model import LogisticRegression\n",
    "lr = LogisticRegression()\n",
    "lr.fit(X_train_cv, df_이진분류['평가'])"
   ]
  },
  {
   "cell_type": "code",
   "execution_count": 58,
   "id": "1248b6cc",
   "metadata": {},
   "outputs": [
    {
     "data": {
      "text/plain": [
       "{'alpha': 1.0, 'class_prior': None, 'fit_prior': True}"
      ]
     },
     "execution_count": 58,
     "metadata": {},
     "output_type": "execute_result"
    }
   ],
   "source": [
    "from sklearn.ensemble import RandomForestClassifier\n",
    "from sklearn.linear_model import LogisticRegression\n",
    "from sklearn.svm import SVC\n",
    "from sklearn.neighbors import KNeighborsClassifier\n",
    "from sklearn.ensemble import VotingClassifier\n",
    "from sklearn.feature_extraction.text import TfidfVectorizer\n",
    "from sklearn.naive_bayes import MultinomialNB\n",
    "from sklearn.feature_extraction.text import CountVectorizer\n",
    "cvect = CountVectorizer()\n",
    "nb = MultinomialNB()\n",
    "\n",
    "nb.get_params()\n"
   ]
  },
  {
   "cell_type": "code",
   "execution_count": 100,
   "id": "98fa7d33",
   "metadata": {},
   "outputs": [],
   "source": [
    "df_이진분류.dropna(inplace=True)"
   ]
  },
  {
   "cell_type": "code",
   "execution_count": 105,
   "id": "7894a9c8",
   "metadata": {},
   "outputs": [],
   "source": [
    "df_이진분류=pd.concat([df_이진분류['전처리'],df_이진분류['평가']],axis=1)"
   ]
  },
  {
   "cell_type": "code",
   "execution_count": 107,
   "id": "3918ed74",
   "metadata": {},
   "outputs": [
    {
     "data": {
      "text/plain": [
       "전처리      0\n",
       "평가     882\n",
       "dtype: int64"
      ]
     },
     "execution_count": 107,
     "metadata": {},
     "output_type": "execute_result"
    }
   ],
   "source": [
    "df_이진분류.isnull().sum()"
   ]
  },
  {
   "cell_type": "code",
   "execution_count": 37,
   "id": "6246dd10",
   "metadata": {},
   "outputs": [],
   "source": [
    "y_train=df_train.평가"
   ]
  },
  {
   "cell_type": "code",
   "execution_count": null,
   "id": "208054b4",
   "metadata": {},
   "outputs": [],
   "source": [
    "X_train_tvect = TfidfVectorizer(\n",
    "    tokenizer=X_train, ngram_range=(1,2), max_df=0.9\n",
    ")"
   ]
  },
  {
   "cell_type": "code",
   "execution_count": 44,
   "id": "b1198172",
   "metadata": {},
   "outputs": [],
   "source": [
    "X_train_tvect = TfidfVectorizer(\n",
    "    tokenizer=X_train, ngram_range=(1,2), max_df=0.9\n",
    ")"
   ]
  },
  {
   "cell_type": "code",
   "execution_count": 47,
   "id": "ce0f6906",
   "metadata": {},
   "outputs": [
    {
     "data": {
      "text/plain": [
       "TfidfVectorizer(max_df=0.9, ngram_range=(1, 2),\n",
       "                tokenizer=['아이오 닉 휠 베이스 가치 서비스 센터 가다 부품 수급 문제 로 렌터카 받다 오다 그랜저 '\n",
       "                           '받다 전 시차 시 승 하다 때 공간 엄청 넓다 놀라다 오늘 렌터카 로 받다 문득 들다 생각 '\n",
       "                           '휠 베이스 얼마 이다 하다 이다 휠 베이스 오다 거의 코나 에서 니 로 타다 때 차이 정도 '\n",
       "                           '일 것 같다 체감 엄청 날다 같다 별거 아니다 하다 분 글 보다 차량 에서 특히 레그룸 '\n",
       "                           '늘다 정말 평 집 에서 평 집 이사 가다 때 느낌 아니다 개인 적 생각 해보다 코 나 형편 '\n",
       "                           '없다 현대차 별 기대 안 하다 사람 휠 베이스 그 자체 로 엄청나다 메리 트이다 같다 생각 '\n",
       "                           '이다 모델 아이오 닉 비교 하다 구매 생각 하고 계시다 님들 휠 베이스 기대 이상 만족감 '\n",
       "                           '줄 수도 있다 점 고려 해보다 소재 자율 주행 감성 편의 성 모든 면 에서 모델 위 라고 '\n",
       "                           '해도 휠 베이스 아이오 닉 이고 모...\n",
       "                           '거리 네 요 ㅡㅡ 롱렌 못 가다 도대체 어쩌 라는 건지다 하다 만원 주다 아니다 저걸 또 '\n",
       "                           '글라스 터 떡하니 적다 뭔 지 ㅋㅋㅋ 아이오 닉를 열망 한 입장 에서도 무척 실망 스럽다 '\n",
       "                           '그래도 일단 가격 만 맞다 사전예약 하다 생각 이다',\n",
       "                           '아이오 닉 외부 사진 출처 모터 그래프 실버 색상 기준',\n",
       "                           '아이오 닉 주행 거리 가격 만원 초반 발표 되어다 주행 거리 롱 레인지 후륜 구동 모델 '\n",
       "                           '기준 라고 하다 국내 인증 방식 측정 한 당사 연구소 결과 가격 익스 클루 시브 만원 대 '\n",
       "                           '초반 프레스티지 만원 대 중반 롱 레인지 기준 디자인 좋다 주행 가능 거리 정보 참고 하다 '\n",
       "                           '현대차 아이오 닉 공개 만원 대 후반 구매 가능 김현호 기자 현대 자동차 전용 전기차 '\n",
       "                           '브랜드 아이오 닉 첫 모델 인 아이오 닉 아이오 닉 파이브 마침내 공개 돼다 현대차 일 '\n",
       "                           '온라인 통해 아이오 닉 세계 최초 공개 행사 진행 하다 날 행사 에서는 아이오 닉 주요 '\n",
       "                           '디자인 및 상품 성 보여주다 론칭 영상 현대 월드 와이드 유튜브 통해 전 세계 중계 돼다', ...])"
      ]
     },
     "execution_count": 47,
     "metadata": {},
     "output_type": "execute_result"
    }
   ],
   "source": [
    "X_train_tvect"
   ]
  },
  {
   "cell_type": "code",
   "execution_count": 48,
   "id": "2503a07d",
   "metadata": {},
   "outputs": [],
   "source": [
    "X_test_tvect = TfidfVectorizer(\n",
    "    tokenizer=okt_tokenizer, ngram_range=(1,2), max_df=0.9\n",
    ")"
   ]
  },
  {
   "cell_type": "code",
   "execution_count": 49,
   "id": "329fb9a4",
   "metadata": {},
   "outputs": [
    {
     "data": {
      "text/plain": [
       "TfidfVectorizer(max_df=0.9, ngram_range=(1, 2),\n",
       "                tokenizer=['종목 명 삼성 전기 시가총액 억 투자 의견 후기 안정 적 인 오피스 기반 사업 넘다 신 '\n",
       "                           '사업 본격 추진 중',\n",
       "                           '제주도 신혼여행 후기 내 돈 내 산년 년 월 일 드뎌 결혼식 끝나다 우도 가다 전기차 타고 '\n",
       "                           '우도 한 바퀴 다 돌다 습 니당다 저희 호객 행위 하',\n",
       "                           '디럭스 룸 후기 제주 특별자치도 제주시 도령로 전화 공항 지하 주차장 지 하층 까지 있다 '\n",
       "                           '지하 층 전기차 충전 소가 있다 주차장 조금 좁다 펴다',\n",
       "                           '수용 가능하다 쾌적하다 편안하다 머무르다 좋다 에디터 전기차 충전기 이용 하다 수 있다 '\n",
       "                           '위치 제주 서귀포 숙소 상세 정보 요금 조회 이용 후기 숙소 위치',\n",
       "                           '신혼여행 일정 제주도 도착 날 아 오빠 전기차 충전 대해 서 걱정 많다 유튜브 로 충전 '\n",
       "                           '방법 검색 충전기',\n",
       "                           '제주 에서 글 쓰다 봉우리 이다 차 알아보다 계시...\n",
       "                           '전기차 충전 소 찾다 동네 까지 한참 나가야 하고 야외 수영장 안 하고 하지만 다른 계절 '\n",
       "                           '오기 엔 너무 좋다 것 같다 제주 호텔 어쨌거 나 박일 머물다',\n",
       "                           '예 약 팁 맹꽁이 전기차 매점 주차 팁 코 시국 이라 해외여행 못 가다 좋다 점 덕분 '\n",
       "                           '널찍하다 공간 쓰다 아이 뛰어놀다 차다 좋다 전기 쓸다 수 있다',\n",
       "                           'ㅋㅋㅋㅋㅋㅋ 전기차 택시 오다 진짜 승 차감 너무 좋다 꼭 전기차 운전기사 수 못 먹다 나 '\n",
       "                           '만 한라산 와르르 마시다 버리다 제주 성산 마늘 치킨 맛집 추천',\n",
       "                           '여기다 이다 따로 없다 이다 있다 제 주 공항 에서 차 타다 꽤 가깝다 전기차 충전 '\n",
       "                           '가능하다 전기차 아니다 안 하다 암튼 방 하다 개정 있다 것 같다',\n",
       "                           '우도 들어가다 이용 하다 수 있다 교통 수단 전동차 투어 버스 자전거 전기차 보다 후기 제 '\n",
       "                           '주 투어 패스 구매 하다 가족 소중하다 시간 투자 하다 직접 방문 하고',\n",
       "                           '안녕하다 알 아두 면 쓸모 있다 제 블로그 오다 감사하다 저 제주도 친구 나 혼자 가시다 '\n",
       "                           '분 자전거 전기차 추천 드리다 ㅋㅋㅋ 다음 번 가면 전기 자전', ...])"
      ]
     },
     "execution_count": 49,
     "metadata": {},
     "output_type": "execute_result"
    }
   ],
   "source": [
    "X_test_tvect"
   ]
  },
  {
   "cell_type": "code",
   "execution_count": 41,
   "id": "8ac8e781",
   "metadata": {},
   "outputs": [],
   "source": [
    "lrc = LogisticRegression()\n",
    "svc = SVC()\n",
    "knn = KNeighborsClassifier()\n",
    "voc = VotingClassifier(\n",
    "    estimators=[('LR',lrc), ('SVC',svc), ('KNN',knn)], voting='hard'\n",
    ")"
   ]
  },
  {
   "cell_type": "code",
   "execution_count": null,
   "id": "e4395790",
   "metadata": {},
   "outputs": [],
   "source": [
    "voc.fit(X_train, y_train)"
   ]
  },
  {
   "cell_type": "code",
   "execution_count": null,
   "id": "bd462631",
   "metadata": {},
   "outputs": [],
   "source": [
    "nb.fit(X_train_tvect, y_train)"
   ]
  },
  {
   "cell_type": "code",
   "execution_count": 55,
   "id": "a567d9c7",
   "metadata": {},
   "outputs": [
    {
     "data": {
      "text/plain": [
       "'아이오 닉 휠 베이스 가치 서비스 센터 가다 부품 수급 문제 로 렌터카 받다 오다 그랜저 받다 전 시차 시 승 하다 때 공간 엄청 넓다 놀라다 오늘 렌터카 로 받다 문득 들다 생각 휠 베이스 얼마 이다 하다 이다 휠 베이스 오다 거의 코나 에서 니 로 타다 때 차이 정도 일 것 같다 체감 엄청 날다 같다 별거 아니다 하다 분 글 보다 차량 에서 특히 레그룸 늘다 정말 평 집 에서 평 집 이사 가다 때 느낌 아니다 개인 적 생각 해보다 코 나 형편 없다 현대차 별 기대 안 하다 사람 휠 베이스 그 자체 로 엄청나다 메리 트이다 같다 생각 이다 모델 아이오 닉 비교 하다 구매 생각 하고 계시다 님들 휠 베이스 기대 이상 만족감 줄 수도 있다 점 고려 해보다 소재 자율 주행 감성 편의 성 모든 면 에서 모델 위 라고 해도 휠 베이스 아이오 닉 이고 모델 이라는 것 참고 하다 더불다 모델 보다도 아이오 닉 휠 베이스 넓다'"
      ]
     },
     "execution_count": 55,
     "metadata": {},
     "output_type": "execute_result"
    }
   ],
   "source": [
    "X_train[0]"
   ]
  },
  {
   "cell_type": "code",
   "execution_count": 57,
   "id": "4b91869e",
   "metadata": {},
   "outputs": [
    {
     "data": {
      "text/plain": [
       "'P'"
      ]
     },
     "execution_count": 57,
     "metadata": {},
     "output_type": "execute_result"
    }
   ],
   "source": [
    "y_train[0]"
   ]
  },
  {
   "cell_type": "code",
   "execution_count": 38,
   "id": "20a83d58",
   "metadata": {},
   "outputs": [
    {
     "data": {
      "text/plain": [
       "0         P\n",
       "1         P\n",
       "2         P\n",
       "3         P\n",
       "4         P\n",
       "         ..\n",
       "394815    E\n",
       "394816    P\n",
       "394817    E\n",
       "394818    P\n",
       "394819    P\n",
       "Name: 평가, Length: 394820, dtype: object"
      ]
     },
     "execution_count": 38,
     "metadata": {},
     "output_type": "execute_result"
    }
   ],
   "source": [
    "(X_train,y_train)"
   ]
  },
  {
   "cell_type": "code",
   "execution_count": 59,
   "id": "fe28aab1",
   "metadata": {},
   "outputs": [
    {
     "data": {
      "text/plain": [
       "((394820, 91756), (9788, 91756))"
      ]
     },
     "execution_count": 59,
     "metadata": {},
     "output_type": "execute_result"
    }
   ],
   "source": [
    "cvect = CountVectorizer()\n",
    "cvect.fit(X_train)\n",
    "X_train_cv = cvect.transform(X_train)\n",
    "X_test_cv = cvect.transform(X_test)\n",
    "X_train_cv.shape, X_test_cv.shape"
   ]
  },
  {
   "cell_type": "code",
   "execution_count": 64,
   "id": "5ec93c1f",
   "metadata": {},
   "outputs": [
    {
     "data": {
      "text/plain": [
       "P    201518\n",
       "E    102736\n",
       "N     89684\n",
       "Name: 평가, dtype: int64"
      ]
     },
     "execution_count": 64,
     "metadata": {},
     "output_type": "execute_result"
    }
   ],
   "source": [
    "y_train.value_counts()"
   ]
  },
  {
   "cell_type": "code",
   "execution_count": 115,
   "id": "ac85936d",
   "metadata": {},
   "outputs": [
    {
     "name": "stderr",
     "output_type": "stream",
     "text": [
      "C:\\Users\\alsdn\\anaconda3\\lib\\site-packages\\sklearn\\linear_model\\_logistic.py:763: ConvergenceWarning: lbfgs failed to converge (status=1):\n",
      "STOP: TOTAL NO. of ITERATIONS REACHED LIMIT.\n",
      "\n",
      "Increase the number of iterations (max_iter) or scale the data as shown in:\n",
      "    https://scikit-learn.org/stable/modules/preprocessing.html\n",
      "Please also refer to the documentation for alternative solver options:\n",
      "    https://scikit-learn.org/stable/modules/linear_model.html#logistic-regression\n",
      "  n_iter_i = _check_optimize_result(\n"
     ]
    },
    {
     "data": {
      "text/plain": [
       "LogisticRegression()"
      ]
     },
     "execution_count": 115,
     "metadata": {},
     "output_type": "execute_result"
    }
   ],
   "source": [
    "from sklearn.linear_model import LogisticRegression\n",
    "lr = LogisticRegression()\n",
    "lr.fit(X_train_cv, df_이진분류['평가'])"
   ]
  },
  {
   "cell_type": "code",
   "execution_count": 127,
   "id": "06e7a17d",
   "metadata": {},
   "outputs": [
    {
     "data": {
      "text/plain": [
       "'신혼여행 일정 제주도 도착 날 아 오빠 전기차 충전 대해 서 걱정 많다 유튜브 로 충전 방법 검색 충전기'"
      ]
     },
     "execution_count": 127,
     "metadata": {},
     "output_type": "execute_result"
    }
   ],
   "source": [
    "X_test[4]"
   ]
  },
  {
   "cell_type": "code",
   "execution_count": 129,
   "id": "85f01ed6",
   "metadata": {},
   "outputs": [],
   "source": [
    "from sklearn.model_selection import train_test_split"
   ]
  },
  {
   "cell_type": "code",
   "execution_count": 130,
   "id": "753d6f8f",
   "metadata": {},
   "outputs": [
    {
     "data": {
      "text/html": [
       "<div>\n",
       "<style scoped>\n",
       "    .dataframe tbody tr th:only-of-type {\n",
       "        vertical-align: middle;\n",
       "    }\n",
       "\n",
       "    .dataframe tbody tr th {\n",
       "        vertical-align: top;\n",
       "    }\n",
       "\n",
       "    .dataframe thead th {\n",
       "        text-align: right;\n",
       "    }\n",
       "</style>\n",
       "<table border=\"1\" class=\"dataframe\">\n",
       "  <thead>\n",
       "    <tr style=\"text-align: right;\">\n",
       "      <th></th>\n",
       "      <th>전처리</th>\n",
       "      <th>평가</th>\n",
       "    </tr>\n",
       "  </thead>\n",
       "  <tbody>\n",
       "    <tr>\n",
       "      <th>0</th>\n",
       "      <td>아이오 닉 휠 베이스 가치 서비스 센터 가다 부품 수급 문제 로 렌터카 받다 오다 ...</td>\n",
       "      <td>P</td>\n",
       "    </tr>\n",
       "    <tr>\n",
       "      <th>1</th>\n",
       "      <td>현대차 아이오 닉 테슬라 모델 뭘 살다 요 현대차 아이오 닉 테슬라 모델 뭘 살다 ...</td>\n",
       "      <td>P</td>\n",
       "    </tr>\n",
       "    <tr>\n",
       "      <th>2</th>\n",
       "      <td>완판 롯데 렌터카 신 차장 테슬라 프로모션 대다 공지 드리다 스탠다드 롱 레인지 안...</td>\n",
       "      <td>P</td>\n",
       "    </tr>\n",
       "    <tr>\n",
       "      <th>3</th>\n",
       "      <td>코 나 충전 중 화재 로 전 손 되다 안녕하다 코 나 회원 이다 오늘 충전 중 자연...</td>\n",
       "      <td>P</td>\n",
       "    </tr>\n",
       "    <tr>\n",
       "      <th>4</th>\n",
       "      <td>전기차 충전 요금 원 복및 조속 한 충전 인프라 확충 대한 국민 청원 진행 하다 읽...</td>\n",
       "      <td>P</td>\n",
       "    </tr>\n",
       "    <tr>\n",
       "      <th>...</th>\n",
       "      <td>...</td>\n",
       "      <td>...</td>\n",
       "    </tr>\n",
       "    <tr>\n",
       "      <th>394813</th>\n",
       "      <td>기아 포인트 내 버 페이 포인트 전환 이번 새롭다 기아 포인트 네이버 페이 포인트 ...</td>\n",
       "      <td>P</td>\n",
       "    </tr>\n",
       "    <tr>\n",
       "      <th>394814</th>\n",
       "      <td>취소 차 잡다 카 마스터 님 계시다 요 계시다 요 아이오 닉 두다 좋다 지역 울릉 이다</td>\n",
       "      <td>P</td>\n",
       "    </tr>\n",
       "    <tr>\n",
       "      <th>394816</th>\n",
       "      <td>오다 진짜 미쳣나봐 요 쿠팡 드디어 미쳣나봐 요 ㅋㅋㅋ 나이키 랑 아디다스 뉴발 신...</td>\n",
       "      <td>P</td>\n",
       "    </tr>\n",
       "    <tr>\n",
       "      <th>394818</th>\n",
       "      <td>가입 인사 드리다 자기 소개 안녕하다 기다리다 있다 지역 고양시 한글 별명 뜻 이름...</td>\n",
       "      <td>P</td>\n",
       "    </tr>\n",
       "    <tr>\n",
       "      <th>394819</th>\n",
       "      <td>취소 차 문의 드리다 관련 되다 주제 대해 미리 카페 내 검색 하다 보다 네 아니다...</td>\n",
       "      <td>P</td>\n",
       "    </tr>\n",
       "  </tbody>\n",
       "</table>\n",
       "<p>292084 rows × 2 columns</p>\n",
       "</div>"
      ],
      "text/plain": [
       "                                                      전처리 평가\n",
       "0       아이오 닉 휠 베이스 가치 서비스 센터 가다 부품 수급 문제 로 렌터카 받다 오다 ...  P\n",
       "1       현대차 아이오 닉 테슬라 모델 뭘 살다 요 현대차 아이오 닉 테슬라 모델 뭘 살다 ...  P\n",
       "2       완판 롯데 렌터카 신 차장 테슬라 프로모션 대다 공지 드리다 스탠다드 롱 레인지 안...  P\n",
       "3       코 나 충전 중 화재 로 전 손 되다 안녕하다 코 나 회원 이다 오늘 충전 중 자연...  P\n",
       "4       전기차 충전 요금 원 복및 조속 한 충전 인프라 확충 대한 국민 청원 진행 하다 읽...  P\n",
       "...                                                   ... ..\n",
       "394813  기아 포인트 내 버 페이 포인트 전환 이번 새롭다 기아 포인트 네이버 페이 포인트 ...  P\n",
       "394814   취소 차 잡다 카 마스터 님 계시다 요 계시다 요 아이오 닉 두다 좋다 지역 울릉 이다  P\n",
       "394816  오다 진짜 미쳣나봐 요 쿠팡 드디어 미쳣나봐 요 ㅋㅋㅋ 나이키 랑 아디다스 뉴발 신...  P\n",
       "394818  가입 인사 드리다 자기 소개 안녕하다 기다리다 있다 지역 고양시 한글 별명 뜻 이름...  P\n",
       "394819  취소 차 문의 드리다 관련 되다 주제 대해 미리 카페 내 검색 하다 보다 네 아니다...  P\n",
       "\n",
       "[292084 rows x 2 columns]"
      ]
     },
     "execution_count": 130,
     "metadata": {},
     "output_type": "execute_result"
    }
   ],
   "source": [
    "df_이진분류"
   ]
  },
  {
   "cell_type": "code",
   "execution_count": 133,
   "id": "672c47e1",
   "metadata": {},
   "outputs": [],
   "source": [
    "XX_train, XX_test,YY_train,YY_test = train_test_split(\n",
    "    df_이진분류['전처리'],df_이진분류['평가'],test_size=0.2, random_state=2021\n",
    ")"
   ]
  },
  {
   "cell_type": "code",
   "execution_count": 135,
   "id": "b86bd6ac",
   "metadata": {},
   "outputs": [
    {
     "data": {
      "text/plain": [
       "((233667, 77141), (58417, 77141))"
      ]
     },
     "execution_count": 135,
     "metadata": {},
     "output_type": "execute_result"
    }
   ],
   "source": [
    "from sklearn.feature_extraction.text import CountVectorizer\n",
    "cvect = CountVectorizer()\n",
    "cvect.fit(XX_train)\n",
    "XX_train_cv = cvect.transform(XX_train)\n",
    "XX_test_cv = cvect.transform(XX_test)\n",
    "XX_train_cv.shape, XX_test_cv.shape"
   ]
  },
  {
   "cell_type": "code",
   "execution_count": 152,
   "id": "c2f0f57a",
   "metadata": {},
   "outputs": [
    {
     "name": "stderr",
     "output_type": "stream",
     "text": [
      "C:\\Users\\alsdn\\anaconda3\\lib\\site-packages\\sklearn\\linear_model\\_logistic.py:763: ConvergenceWarning: lbfgs failed to converge (status=1):\n",
      "STOP: TOTAL NO. of ITERATIONS REACHED LIMIT.\n",
      "\n",
      "Increase the number of iterations (max_iter) or scale the data as shown in:\n",
      "    https://scikit-learn.org/stable/modules/preprocessing.html\n",
      "Please also refer to the documentation for alternative solver options:\n",
      "    https://scikit-learn.org/stable/modules/linear_model.html#logistic-regression\n",
      "  n_iter_i = _check_optimize_result(\n"
     ]
    },
    {
     "data": {
      "text/plain": [
       "0.8902716674940514"
      ]
     },
     "execution_count": 152,
     "metadata": {},
     "output_type": "execute_result"
    }
   ],
   "source": [
    "lr = LogisticRegression()\n",
    "lr.fit(XX_train_cv, YY_train)\n",
    "lr.score(XX_test_cv, YY_test)"
   ]
  },
  {
   "cell_type": "code",
   "execution_count": 142,
   "id": "cce0e90a",
   "metadata": {},
   "outputs": [
    {
     "data": {
      "text/plain": [
       "0.8902716674940514"
      ]
     },
     "execution_count": 142,
     "metadata": {},
     "output_type": "execute_result"
    }
   ],
   "source": [
    "from sklearn.metrics import accuracy_score\n",
    "\n",
    "pred=lr.predict(XX_test_cv)\n",
    "accuracy_score(YY_test, pred)"
   ]
  },
  {
   "cell_type": "code",
   "execution_count": null,
   "id": "d0dc423a",
   "metadata": {},
   "outputs": [],
   "source": [
    "lr.predict('나는 개 바보고 너무 싫어')"
   ]
  },
  {
   "cell_type": "code",
   "execution_count": 158,
   "id": "3ce2bfa3",
   "metadata": {},
   "outputs": [
    {
     "name": "stdout",
     "output_type": "stream",
     "text": [
      "[[14519  3601]\n",
      " [ 2809 37488]]\n"
     ]
    }
   ],
   "source": [
    "from sklearn.model_selection import cross_val_predict\n",
    "from sklearn.metrics import confusion_matrix\n",
    "cf = confusion_matrix(YY_test, pred)\n",
    "print(cf)"
   ]
  },
  {
   "cell_type": "code",
   "execution_count": 157,
   "id": "3fa03c5b",
   "metadata": {},
   "outputs": [
    {
     "data": {
      "text/plain": [
       "142492    P\n",
       "110653    P\n",
       "260080    P\n",
       "37159     N\n",
       "251125    N\n",
       "         ..\n",
       "322618    P\n",
       "33934     N\n",
       "245590    P\n",
       "334038    P\n",
       "383003    P\n",
       "Name: 평가, Length: 58417, dtype: object"
      ]
     },
     "execution_count": 157,
     "metadata": {},
     "output_type": "execute_result"
    }
   ],
   "source": [
    "YY_test"
   ]
  },
  {
   "cell_type": "code",
   "execution_count": null,
   "id": "e6ed35d3",
   "metadata": {},
   "outputs": [],
   "source": [
    "YY_test == "
   ]
  },
  {
   "cell_type": "code",
   "execution_count": null,
   "id": "f4b884c5",
   "metadata": {},
   "outputs": [],
   "source": [
    "from sklearn.metrics import precision_score, recall_score, f1_score\n",
    "p = precision_score(YY_test, pred)\n",
    "print(p)\n",
    "r = recall_score(YY_test, pred)\n",
    "print(r)\n",
    "f1 = f1_score(YY_test, pred)\n",
    "print(f1)"
   ]
  },
  {
   "cell_type": "code",
   "execution_count": null,
   "id": "8aedbb39",
   "metadata": {},
   "outputs": [],
   "source": [
    "lr.predict(X_test_cv[4])"
   ]
  },
  {
   "cell_type": "code",
   "execution_count": null,
   "id": "1f90cb48",
   "metadata": {},
   "outputs": [],
   "source": [
    "nb.fit(X_train_cv, y_train)"
   ]
  },
  {
   "cell_type": "code",
   "execution_count": null,
   "id": "4e17993f",
   "metadata": {},
   "outputs": [],
   "source": [
    "# y_train = train_df.label.values \n",
    "# y_test = test_df.label.values "
   ]
  },
  {
   "cell_type": "code",
   "execution_count": null,
   "id": "8fe23600",
   "metadata": {},
   "outputs": [],
   "source": [
    "from sklearn.feature_extraction.text import CountVectorizer\n",
    "cvect = CountVectorizer()\n",
    "cvect.fit(X_train)\n",
    "X_train_cv = cvect.transform(X_train)\n",
    "X_test_cv = cvect.transform(X_test)\n",
    "X_train_cv.shape, X_test_cv.shape"
   ]
  },
  {
   "cell_type": "code",
   "execution_count": null,
   "id": "b6935794",
   "metadata": {},
   "outputs": [],
   "source": [
    "from sklearn.linear_model import LogisticRegression\n",
    "lr = LogisticRegression()\n",
    "lr.fit(X_train_cv, y_train)\n",
    "lr.score(X_test_cv, y_test)"
   ]
  },
  {
   "cell_type": "code",
   "execution_count": null,
   "id": "d9a668a2",
   "metadata": {},
   "outputs": [],
   "source": [
    "import keras\n",
    "from keras.preprocessing.text import Tokenizerㅠ\n",
    "from keras.preprocessing.sequence import pad_sequences"
   ]
  },
  {
   "cell_type": "code",
   "execution_count": null,
   "id": "dc048c6e",
   "metadata": {},
   "outputs": [],
   "source": [
    "tokenizer = Tokenizer()\n",
    "tokenizer.fit_on_texts(tokenized_data)\n",
    "print(tokenizer.word_index)"
   ]
  },
  {
   "cell_type": "code",
   "execution_count": null,
   "id": "d6a49430",
   "metadata": {},
   "outputs": [],
   "source": [
    "threshold = 3\n",
    "total_cnt = len(tokenizer.word_index) # 단어의 수\n",
    "rare_cnt = 0 # 등장 빈도수가 threshold보다 작은 단어의 개수를 카운트\n",
    "total_freq = 0 # 훈련 데이터의 전체 단어 빈도수 총 합\n",
    "rare_freq = 0 # 등장 빈도수가 threshold보다 작은 단어의 등장 빈도수의 총 합\n",
    "\n",
    "# 단어와 빈도수의 쌍(pair)을 key와 value로 받는다.\n",
    "for key, value in tokenizer.word_counts.items():\n",
    "    total_freq = total_freq + value\n",
    "\n",
    "    # 단어의 등장 빈도수가 threshold보다 작으면\n",
    "    if(value < threshold):\n",
    "        rare_cnt = rare_cnt + 1\n",
    "        rare_freq = rare_freq + value\n",
    "\n",
    "print('단어 집합(vocabulary)의 크기 :',total_cnt)\n",
    "print('등장 빈도가 %s번 이하인 희귀 단어의 수: %s'%(threshold - 1, rare_cnt))\n",
    "print(\"단어 집합에서 희귀 단어의 비율:\", (rare_cnt / total_cnt)*100)\n",
    "print(\"전체 등장 빈도에서 희귀 단어 등장 빈도 비율:\", (rare_freq / total_freq)*100)"
   ]
  },
  {
   "cell_type": "code",
   "execution_count": null,
   "id": "c5df29d3",
   "metadata": {},
   "outputs": [],
   "source": [
    "vocab_size = total_cnt - rare_cnt + 2\n",
    "print('단어 집합의 크기 :',vocab_size)"
   ]
  },
  {
   "cell_type": "code",
   "execution_count": null,
   "id": "65aed23c",
   "metadata": {},
   "outputs": [],
   "source": [
    "tokenizer = Tokenizer(vocab_size, oov_token = 'OOV') \n",
    "tokenizer.fit_on_texts(tokenized_data)\n",
    "X_train = tokenizer.texts_to_sequences(tokenized_data)\n",
    "print(X_train[:3])"
   ]
  },
  {
   "cell_type": "code",
   "execution_count": null,
   "id": "28e09ce5",
   "metadata": {},
   "outputs": [],
   "source": [
    "y_train = np.array(train_data['label'])"
   ]
  },
  {
   "cell_type": "code",
   "execution_count": null,
   "id": "668f8cb2",
   "metadata": {},
   "outputs": [],
   "source": [
    "drop_train = [index for index, sentence in enumerate(X_train) if len(sentence) < 1]\n",
    "len(drop_train)"
   ]
  },
  {
   "cell_type": "code",
   "execution_count": null,
   "id": "e0301bb2",
   "metadata": {},
   "outputs": [],
   "source": [
    "X_train = np.delete(X_train, drop_train, axis=0)\n",
    "y_train = np.delete(y_train, drop_train, axis=0)\n",
    "print(len(X_train))\n",
    "print(len(y_train))"
   ]
  },
  {
   "cell_type": "code",
   "execution_count": null,
   "id": "645c9f7c",
   "metadata": {},
   "outputs": [],
   "source": [
    "print('리뷰의 평균 길이 :',sum(map(len, X_train))/len(X_train))\n",
    "plt.hist([len(s) for s in X_train], bins=50)\n",
    "plt.xlabel('length of samples')\n",
    "plt.ylabel('number of samples')\n",
    "plt.show()"
   ]
  },
  {
   "cell_type": "code",
   "execution_count": 68,
   "id": "005ee697",
   "metadata": {},
   "outputs": [
    {
     "data": {
      "text/plain": [
       "'아이오 닉 휠 베이스 가치 서비스 센터 가다 부품 수급 문제 로 렌터카 받다 오다 그랜저 받다 전 시차 시 승 하다 때 공간 엄청 넓다 놀라다 오늘 렌터카 로 받다 문득 들다 생각 휠 베이스 얼마 이다 하다 이다 휠 베이스 오다 거의 코나 에서 니 로 타다 때 차이 정도 일 것 같다 체감 엄청 날다 같다 별거 아니다 하다 분 글 보다 차량 에서 특히 레그룸 늘다 정말 평 집 에서 평 집 이사 가다 때 느낌 아니다 개인 적 생각 해보다 코 나 형편 없다 현대차 별 기대 안 하다 사람 휠 베이스 그 자체 로 엄청나다 메리 트이다 같다 생각 이다 모델 아이오 닉 비교 하다 구매 생각 하고 계시다 님들 휠 베이스 기대 이상 만족감 줄 수도 있다 점 고려 해보다 소재 자율 주행 감성 편의 성 모든 면 에서 모델 위 라고 해도 휠 베이스 아이오 닉 이고 모델 이라는 것 참고 하다 더불다 모델 보다도 아이오 닉 휠 베이스 넓다'"
      ]
     },
     "execution_count": 68,
     "metadata": {},
     "output_type": "execute_result"
    }
   ],
   "source": [
    "X_train[0]"
   ]
  },
  {
   "cell_type": "code",
   "execution_count": 76,
   "id": "fa3188e1",
   "metadata": {},
   "outputs": [
    {
     "data": {
      "text/plain": [
       "((394820, 3181797), (9788, 3181797))"
      ]
     },
     "execution_count": 76,
     "metadata": {},
     "output_type": "execute_result"
    }
   ],
   "source": [
    "from sklearn.feature_extraction.text import TfidfVectorizer\n",
    "tvect = TfidfVectorizer(stop_words='english', ngram_range=(1,2))\n",
    "tvect.fit(X_train)\n",
    "X_train_tv = tvect.transform(X_train)\n",
    "X_test_tv = tvect.transform(X_test)\n",
    "X_train_tv.shape, X_test_tv.shape"
   ]
  },
  {
   "cell_type": "code",
   "execution_count": null,
   "id": "b0ba8056",
   "metadata": {},
   "outputs": [],
   "source": []
  },
  {
   "cell_type": "code",
   "execution_count": null,
   "id": "9127c06f",
   "metadata": {},
   "outputs": [],
   "source": [
    "from sklearn.linear_model import LogisticRegression\n",
    "lrc = LogisticRegression(max_iter=300)\n",
    "%time lrc.fit(X_train_tv, y_train)"
   ]
  },
  {
   "cell_type": "code",
   "execution_count": 70,
   "id": "49b0863f",
   "metadata": {},
   "outputs": [
    {
     "data": {
      "text/plain": [
       "<9788x3181797 sparse matrix of type '<class 'numpy.float64'>'\n",
       "\twith 325203 stored elements in Compressed Sparse Row format>"
      ]
     },
     "execution_count": 70,
     "metadata": {},
     "output_type": "execute_result"
    }
   ],
   "source": [
    "X_test_tv"
   ]
  },
  {
   "cell_type": "code",
   "execution_count": null,
   "id": "34f069a0",
   "metadata": {},
   "outputs": [],
   "source": [
    "from sklearn.preprocessing import StandardScaler\n",
    "scaler = StandardScaler()\n",
    "X_train_std = scaler.fit_transform(X_train)"
   ]
  }
 ],
 "metadata": {
  "kernelspec": {
   "display_name": "Python 3 (ipykernel)",
   "language": "python",
   "name": "python3"
  },
  "language_info": {
   "codemirror_mode": {
    "name": "ipython",
    "version": 3
   },
   "file_extension": ".py",
   "mimetype": "text/x-python",
   "name": "python",
   "nbconvert_exporter": "python",
   "pygments_lexer": "ipython3",
   "version": "3.9.7"
  }
 },
 "nbformat": 4,
 "nbformat_minor": 5
}
