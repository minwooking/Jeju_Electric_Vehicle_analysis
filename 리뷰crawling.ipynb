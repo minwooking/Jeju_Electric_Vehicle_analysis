{
 "cells": [
  {
   "cell_type": "code",
   "execution_count": 42,
   "metadata": {},
   "outputs": [],
   "source": [
    "import urllib.request \n",
    "from urllib import parse\n",
    "from bs4 import BeautifulSoup\n",
    "import ssl\n",
    "\n",
    "context = ssl._create_unverified_context()\n",
    "\n",
    "search = '제주전기차'\n",
    "url = 'https://search.naver.com/search.naver?where=post&sm=tab_jum&query=' \n",
    "newurl = url+parse.quote(search)\n",
    "\n",
    "html = urllib.request.urlopen(newurl,context=context).read()\n",
    "soup = BeautifulSoup(html,'html.parser') \n",
    "\n",
    "title = soup.find_all(id='sp_blog_1')"
   ]
  },
  {
   "cell_type": "code",
   "execution_count": 15,
   "metadata": {},
   "outputs": [
    {
     "data": {
      "text/plain": [
       "'https://search.naver.com/search.naver?where=post&sm=tab_jum&query=%EC%A0%9C%EC%A3%BC%EC%A0%84%EA%B8%B0%EC%B0%A8'"
      ]
     },
     "execution_count": 15,
     "metadata": {},
     "output_type": "execute_result"
    }
   ],
   "source": [
    "newurl"
   ]
  },
  {
   "cell_type": "code",
   "execution_count": 52,
   "metadata": {},
   "outputs": [
    {
     "data": {
      "text/plain": [
       "<li class=\"bx\" id=\"sp_blog_1\"> <div class=\"total_wrap api_ani_send\"> <div class=\"total_area\"> <div class=\"total_info\"> <div class=\"api_save_group _keep_wrap\"> <a aria-pressed=\"false\" class=\"btn_save _keep_trigger\" data-cr-off=\"a=blg*a.kep&amp;r=1&amp;i=90000003_0000000000000033D6A527CC&amp;u=javascript\" data-cr-on=\"a=blg*a.kep&amp;r=1&amp;i=90000003_0000000000000033D6A527CC&amp;u=javascript\" data-url=\"https://blog.naver.com/nailstan?Redirect=Log&amp;logNo=222644479948\" href=\"javascript:;\" role=\"button\"><i class=\"spnew ico_save\">문서 저장하기</i></a> <div class=\"api_ly_save _keep_save_layer\"> <a class=\"spnew_af item item_save _keep_save\" data-cr-off=\"a=blg*a.kepoff&amp;r=1&amp;i=90000003_0000000000000033D6A527CC&amp;u=javascript\" data-cr-on=\"a=blg*a.kepon&amp;r=1&amp;i=90000003_0000000000000033D6A527CC&amp;u=javascript\" href=\"javascript:;\" role=\"button\">Keep에 저장</a> <a class=\"spnew_af item item_quick\" href=\"https://keep.naver.com/\" onclick=\"return goOtherCR(this, 'a=blg*a.kephome&amp;r=1&amp;i=90000003_0000000000000033D6A527CC&amp;u='+urlencode(this.href))\" target=\"_blank\">Keep 바로가기</a> </div> </div> <div class=\"total_sub\"> <a class=\"sub_thumb\" href=\"https://blog.naver.com/nailstan\" onclick=\"return goOtherCR(this, 'a=blg*a.writer&amp;r=1&amp;i=90000003_0000000000000033D6A527CC&amp;u='+urlencode(this.href))\" target=\"_blank\"> <span class=\"thumb\"><img alt=\"\" height=\"20\" onerror=\"onErrorImage(this, 'bg_npimg');\" src=\"https://search.pstatic.net/common/?src=http%3A%2F%2Fblogpfthumb.phinf.naver.net%2FMjAyMTA2MDlfMjA0%2FMDAxNjIzMTY0OTA1MzUz.sUBd8VE4kx1esTJ175gKAvVrPGIsmZp62YzBkbA_8jAg.4LdiyT5cXIu0XnMdJuHgKCTYVakxyyagFKMCoJ3mxygg.JPEG.nailstan%2FprofileImage.jpg&amp;type=n48_48\" width=\"20\"/></span> </a> <span class=\"elss etc_dsc\"> <span class=\"etc_dsc_group\"> <span class=\"etc_dsc_area\"> <span class=\"sub_time sub_txt\">2022.02.11.</span> </span> <span class=\"elss etc_dsc_inner\"> <a class=\"sub_txt sub_name\" href=\"https://blog.naver.com/nailstan\" onclick=\"return goOtherCR(this, 'a=blg*a.writer&amp;r=1&amp;i=90000003_0000000000000033D6A527CC&amp;u='+urlencode(this.href))\" target=\"_blank\">행복물결 넘실대는 여행이야기</a> </span> </span> </span> </div> </div> <a class=\"api_txt_lines total_tit\" href=\"https://blog.naver.com/nailstan?Redirect=Log&amp;logNo=222644479948\" onclick=\"return goOtherCR(this, 'a=blg*a.iblg&amp;r=1&amp;i=90000003_0000000000000033D6A527CC&amp;u='+urlencode(this.href))\" target=\"_blank\"><mark>제주</mark> 렌트카 <mark>전기차</mark> 렌트했던 <mark>제주</mark>도 렌트카 완전자차</a> <div class=\"total_group\"> <div class=\"total_dsc_wrap\"> <a class=\"total_dsc\" href=\"https://blog.naver.com/nailstan?Redirect=Log&amp;logNo=222644479948\" onclick=\"return goOtherCR(this, 'a=blg*a.iblg&amp;r=1&amp;i=90000003_0000000000000033D6A527CC&amp;u='+urlencode(this.href))\" target=\"_blank\"> <div class=\"api_txt_lines dsc_txt\">아이오닉 <mark>제주 전기차</mark> 렌트를 생각보다 빠르게 진행할 수 있었다. 내비게이션... 완전자차로 제주도 차 렌트한 전기차 아이오닉은 트렁크도 넓어 여행가방 2~3개를... </div> </a> </div> </div> </div> <a class=\"thumb_single\" href=\"https://blog.naver.com/nailstan?Redirect=Log&amp;logNo=222644479948\" onclick=\"return goOtherCR(this, 'a=blg*a.iblg&amp;r=1&amp;i=90000003_0000000000000033D6A527CC&amp;u='+urlencode(this.href))\" target=\"_blank\"> <span class=\"thumb_fix\"><img alt=\"\" class=\"thumb api_get\" height=\"90\" onerror=\"onErrorImage(this, 'bg_nimg');\" src=\"https://search.pstatic.net/common/?src=http%3A%2F%2Fblogfiles.naver.net%2FMjAyMjAyMTFfNzEg%2FMDAxNjQ0NTA2ODY5Nzk0.WG6IYXIVZpx4jkON8nhinmuEqhjUwQXVPe-O_5lBGxIg._LDekT8fun8RmMlq768qX4OwlJxk_kEjtV6ZA2VuIawg.JPEG.nailstan%2FDSC_1634.jpg%23900x599&amp;type=ff264_180\" width=\"132\"/><span class=\"thumb_count\">35</span></span> </a> </div> </li>"
      ]
     },
     "execution_count": 52,
     "metadata": {},
     "output_type": "execute_result"
    }
   ],
   "source": [
    "title[0]"
   ]
  },
  {
   "cell_type": "markdown",
   "metadata": {},
   "source": [
    "## 보완사항\n",
    "\n",
    "1. "
   ]
  },
  {
   "cell_type": "code",
   "execution_count": null,
   "metadata": {},
   "outputs": [],
   "source": []
  }
 ],
 "metadata": {
  "interpreter": {
   "hash": "982c78d920726c4e066517e5f806c5a92239fdf1e257c5744bcc49f815c4d4bb"
  },
  "kernelspec": {
   "display_name": "Python 3.9.7 ('base')",
   "language": "python",
   "name": "python3"
  },
  "language_info": {
   "codemirror_mode": {
    "name": "ipython",
    "version": 3
   },
   "file_extension": ".py",
   "mimetype": "text/x-python",
   "name": "python",
   "nbconvert_exporter": "python",
   "pygments_lexer": "ipython3",
   "version": "3.9.7"
  },
  "orig_nbformat": 4
 },
 "nbformat": 4,
 "nbformat_minor": 2
}
