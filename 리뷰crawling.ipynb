{
 "cells": [
  {
   "cell_type": "code",
   "execution_count": 2,
   "metadata": {},
   "outputs": [],
   "source": [
    "import urllib.request \n",
    "from urllib import parse\n",
    "from bs4 import BeautifulSoup\n",
    "import ssl\n",
    "\n",
    "context = ssl._create_unverified_context()\n",
    "\n",
    "search = '제주전기차'\n",
    "url = 'https://search.naver.com/search.naver?where=post&sm=tab_jum&query=' \n",
    "newurl = url+parse.quote(search)\n",
    "\n",
    "html = urllib.request.urlopen(newurl,context=context).read()\n",
    "soup = BeautifulSoup(html,'html.parser') \n",
    "\n",
    "title = soup.find_all(id='sp_blog_1')"
   ]
  },
  {
   "cell_type": "markdown",
   "metadata": {},
   "source": []
  },
  {
   "cell_type": "code",
   "execution_count": 3,
   "metadata": {},
   "outputs": [
    {
     "data": {
      "text/plain": [
       "'https://search.naver.com/search.naver?where=post&sm=tab_jum&query=%EC%A0%9C%EC%A3%BC%EC%A0%84%EA%B8%B0%EC%B0%A8'"
      ]
     },
     "execution_count": 3,
     "metadata": {},
     "output_type": "execute_result"
    }
   ],
   "source": [
    "newurl"
   ]
  },
  {
   "cell_type": "code",
   "execution_count": 4,
   "metadata": {},
   "outputs": [
    {
     "data": {
      "text/plain": [
       "<li class=\"bx\" id=\"sp_blog_1\"> <div class=\"total_wrap api_ani_send\"> <div class=\"total_area\"> <div class=\"total_info\"> <div class=\"api_save_group _keep_wrap\"> <a aria-pressed=\"false\" class=\"btn_save _keep_trigger\" data-cr-off=\"a=blg*a.kep&amp;r=1&amp;i=90000003_0000000000000033D65B87A6&amp;u=javascript\" data-cr-on=\"a=blg*a.kep&amp;r=1&amp;i=90000003_0000000000000033D65B87A6&amp;u=javascript\" data-url=\"https://blog.naver.com/obh1680?Redirect=Log&amp;logNo=222639654822\" href=\"javascript:;\" role=\"button\"><i class=\"spnew ico_save\">문서 저장하기</i></a> <div class=\"api_ly_save _keep_save_layer\"> <a class=\"spnew_af item item_save _keep_save\" data-cr-off=\"a=blg*a.kepoff&amp;r=1&amp;i=90000003_0000000000000033D65B87A6&amp;u=javascript\" data-cr-on=\"a=blg*a.kepon&amp;r=1&amp;i=90000003_0000000000000033D65B87A6&amp;u=javascript\" href=\"javascript:;\" role=\"button\">Keep에 저장</a> <a class=\"spnew_af item item_quick\" href=\"https://keep.naver.com/\" onclick=\"return goOtherCR(this, 'a=blg*a.kephome&amp;r=1&amp;i=90000003_0000000000000033D65B87A6&amp;u='+urlencode(this.href))\" target=\"_blank\">Keep 바로가기</a> </div> </div> <div class=\"total_sub\"> <a class=\"sub_thumb\" href=\"https://blog.naver.com/obh1680\" onclick=\"return goOtherCR(this, 'a=blg*a.writer&amp;r=1&amp;i=90000003_0000000000000033D65B87A6&amp;u='+urlencode(this.href))\" target=\"_blank\"> <span class=\"thumb\"><img alt=\"\" height=\"20\" onerror=\"onErrorImage(this, 'bg_npimg');\" src=\"https://search.pstatic.net/common/?src=http%3A%2F%2Fblogpfthumb.phinf.naver.net%2FMjAyMTA0MDVfMTcx%2FMDAxNjE3NTc4OTc4NTM3.WVfDis1vgXiTtbnNADILfTFWrV-dhxRoAGwJ7PampHQg.c5R_ZcKY1R5PE8ONMpsMj5v844rtgv7UDIsCV6x5D8Ug.PNG.obh1680%2F%2525EC%252598%2525A4%2525EB%2525B3%2525B4-%2525ED%252594%252584%2525EB%2525A1%25259C%2525ED%252595%252584.png&amp;type=n48_48\" width=\"20\"/></span> </a> <span class=\"elss etc_dsc\"> <span class=\"etc_dsc_group\"> <span class=\"etc_dsc_area\"> <span class=\"sub_time sub_txt\">2022.02.05.</span> </span> <span class=\"elss etc_dsc_inner\"> <a class=\"sub_txt sub_name\" href=\"https://blog.naver.com/obh1680\" onclick=\"return goOtherCR(this, 'a=blg*a.writer&amp;r=1&amp;i=90000003_0000000000000033D65B87A6&amp;u='+urlencode(this.href))\" target=\"_blank\">거제도 맛집 혀니</a> </span> </span> </span> </div> </div> <a class=\"api_txt_lines total_tit\" href=\"https://blog.naver.com/obh1680?Redirect=Log&amp;logNo=222639654822\" onclick=\"return goOtherCR(this, 'a=blg*a.iblg&amp;r=1&amp;i=90000003_0000000000000033D65B87A6&amp;u='+urlencode(this.href))\" target=\"_blank\"><mark>제주</mark> 렌트카 저렴한 <mark>전기차</mark> 예약</a> <div class=\"total_group\"> <div class=\"total_dsc_wrap\"> <a class=\"total_dsc\" href=\"https://blog.naver.com/obh1680?Redirect=Log&amp;logNo=222639654822\" onclick=\"return goOtherCR(this, 'a=blg*a.iblg&amp;r=1&amp;i=90000003_0000000000000033D65B87A6&amp;u='+urlencode(this.href))\" target=\"_blank\"> <div class=\"api_txt_lines dsc_txt\">#제주도렌트카 #제주렌트카 #카모아 #제주도전기차 #<mark>제주전기차</mark> #제주도렌트카완전자차 #제주렌트카완전자차 #제주도렌트카가격비교 #제주렌트카가격비교</div> </a> </div> </div> </div> <a class=\"thumb_single\" href=\"https://blog.naver.com/obh1680?Redirect=Log&amp;logNo=222639654822\" onclick=\"return goOtherCR(this, 'a=blg*a.iblg&amp;r=1&amp;i=90000003_0000000000000033D65B87A6&amp;u='+urlencode(this.href))\" target=\"_blank\"> <span class=\"thumb_fix\"><img alt=\"\" class=\"thumb api_get\" height=\"90\" onerror=\"onErrorImage(this, 'bg_nimg');\" src=\"https://search.pstatic.net/common/?src=http%3A%2F%2Fblogfiles.naver.net%2FMjAyMjAyMDVfMzYg%2FMDAxNjQ0MDQ4MTU0ODc3.npNG-DB36u4EAeJs9U8ieazCtq5wp-VYKJ6GHZ5zMaAg.lv_EdluRkZLNPHyt36NHYbOqVmlN_rrXPJ7gMrcaSXMg.JPEG.obh1680%2F10.jpg%231279x853&amp;type=ff264_180\" width=\"132\"/><span class=\"thumb_count\">42</span></span> </a> </div> </li>"
      ]
     },
     "execution_count": 4,
     "metadata": {},
     "output_type": "execute_result"
    }
   ],
   "source": [
    "title[0]"
   ]
  },
  {
   "cell_type": "markdown",
   "metadata": {},
   "source": [
    "## 보완사항\n",
    "\n",
    "1. "
   ]
  },
  {
   "cell_type": "code",
   "execution_count": null,
   "metadata": {},
   "outputs": [],
   "source": []
  }
 ],
 "metadata": {
  "interpreter": {
   "hash": "982c78d920726c4e066517e5f806c5a92239fdf1e257c5744bcc49f815c4d4bb"
  },
  "kernelspec": {
   "display_name": "Python 3 (ipykernel)",
   "language": "python",
   "name": "python3"
  },
  "language_info": {
   "codemirror_mode": {
    "name": "ipython",
    "version": 3
   },
   "file_extension": ".py",
   "mimetype": "text/x-python",
   "name": "python",
   "nbconvert_exporter": "python",
   "pygments_lexer": "ipython3",
   "version": "3.9.7"
  }
 },
 "nbformat": 4,
 "nbformat_minor": 4
}
