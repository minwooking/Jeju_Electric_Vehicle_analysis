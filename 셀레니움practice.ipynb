{
 "cells": [
  {
   "cell_type": "code",
   "execution_count": 12,
   "metadata": {},
   "outputs": [],
   "source": [
    "from selenium import webdriver\n",
    "import pandas as pd\n",
    "import time\n",
    "\n",
    "\n",
    "driver = webdriver.Chrome('chromedriver.exe')\n",
    "driver.implicitly_wait(3)\n",
    "\n",
    "# # 네이버 로그인\n",
    "# # driver.get('https://cafe.naver.com/likeusstock')\n",
    "# driver.get('https://nid.naver.com/nidlogin.login')\n",
    "# driver.find_element_by_name('id').send_keys('alsdnji')\n",
    "# driver.find_element_by_name('pw').send_keys('931811ji!')\n",
    "# driver.find_element_by_css_selector('#log\\.login').click()\n",
    "# 주소=[]\n",
    "# page=0\n",
    "# number=60420\n",
    "# # while page < 0:\n",
    "# while page>-1:\n",
    "#     try:\n",
    "#         page+=1\n",
    "#         number+=1\n",
    "#         driver.get(f'https://cafe.naver.com/ArticleRead.nhn?clubid=28497937&page=1&boardtype=L&articleid={number}&referrerAllArticles=true')\n",
    "#         driver.switch_to_frame(\"cafe_main\")\n",
    "#         try:\n",
    "#             if driver.find_element_by_class_name(\"nodata\").text == '등록된 게시글이 없습니다.':\n",
    "#             # 무한으로 다음페이지로 넘어가는데 만약에 등록된게시글이 없습니다가 나오면 다음페이지로 넘어가는것을 멈춤\n",
    "#                 break\n",
    "#         except:\n",
    "#             pass\n",
    "#         for i in range(1,51,1):\n",
    "#             주소.append(driver.find_element_by_xpath(f\"/html/body/div[1]/div/div[5]/table/tbody/tr[{i}]/td[1]/div[2]/div/a[1]\").get_attribute(\"href\"))\n",
    "        \n",
    "#         driver.switch_to_default_content()\n",
    "#     except:\n",
    "#         pass"
   ]
  },
  {
   "cell_type": "code",
   "execution_count": null,
   "metadata": {},
   "outputs": [],
   "source": [
    "https://cafe.naver.com/likeusstock?iframe_url=/ArticleList.nhn%3Fsearch.clubid=28497937%26search.boardtype=L\n",
    "https://cafe.naver.com/ArticleRead.nhn?clubid=28497937&page=2&boardtype=L&articleid=604270&referrerAllArticles=true\n",
    "https://cafe.naver.com/ArticleRead.nhn?clubid=28497937&page=1&boardtype=L&articleid=604262&referrerAllArticles=true"
   ]
  },
  {
   "cell_type": "code",
   "execution_count": null,
   "metadata": {},
   "outputs": [],
   "source": [
    "while page>-1:\n",
    "    try:\n",
    "        page+=1\n",
    "        number+=1\n",
    "        driver.get(f'https://cafe.naver.com/ArticleRead.nhn?clubid=28497937&page=1&boardtype=L&articleid={number}&referrerAllArticles=true')\n",
    "        driver.switch_to_frame(\"cafe_main\")\n",
    "        try:\n",
    "            if driver.find_element_by_class_name(\"nodata\").text == '등록된 게시글이 없습니다.':\n",
    "            # 무한으로 다음페이지로 넘어가는데 만약에 등록된게시글이 없습니다가 나오면 다음페이지로 넘어가는것을 멈춤\n",
    "                break\n",
    "        except:\n",
    "            pass\n",
    "        for i in range(1,51,1):\n",
    "            주소.append(driver.find_element_by_xpath(f\"/html/body/div[1]/div/div[5]/table/tbody/tr[{i}]/td[1]/div[2]/div/a[1]\").get_attribute(\"href\"))\n",
    "        \n",
    "        driver.switch_to_default_content()\n",
    "    except:\n",
    "        pass"
   ]
  },
  {
   "cell_type": "code",
   "execution_count": 32,
   "metadata": {},
   "outputs": [],
   "source": [
    "driver = webdriver.Chrome('chromedriver.exe')\n",
    "driver.implicitly_wait(3)"
   ]
  },
  {
   "cell_type": "code",
   "execution_count": 31,
   "metadata": {},
   "outputs": [],
   "source": [
    "driver.close()"
   ]
  },
  {
   "cell_type": "code",
   "execution_count": 52,
   "metadata": {},
   "outputs": [
    {
     "name": "stdout",
     "output_type": "stream",
     "text": [
      "[]\n"
     ]
    }
   ],
   "source": [
    "주소=[]\n",
    "driver.get(f'https://cafe.naver.com/ArticleRead.nhn?clubid=28497937&page=1&boardtype=L&articleid=604251&referrerAllArticles=true')\n",
    "# 주소.append(driver.find_element_by_xpath(f\"/html/body/div[1]/div/div[5]/table/tbody/tr[1]/td[1]/div[2]/div/a[1]\").get_attribute(\"href\"))\n",
    "주소=[]\n",
    "제목=[]\n",
    "내용=[]\n",
    "for url in 주소:\n",
    "    driver.get(url)\n",
    "    driver.switch_to_frame(\"cafe_main\")\n",
    "    제목.append(driver.find_element_by_css_selector('h3').text)\n",
    "    내용.append(driver.find_element_by_xpath(\"/html/body/div/div/div/div[2]/div[2]/div[1]/div[2]/div[1]/div/div/div/div/div/div/p[1]/span\"))\n",
    "    \n",
    "df=pd.DataFrame({\"제목\":제목 ,\"내용\":내용})\n",
    "# df.to_excel(\"test.xlsx\")\n",
    "print(제목)"
   ]
  },
  {
   "cell_type": "code",
   "execution_count": 23,
   "metadata": {},
   "outputs": [
    {
     "data": {
      "text/html": [
       "<div>\n",
       "<style scoped>\n",
       "    .dataframe tbody tr th:only-of-type {\n",
       "        vertical-align: middle;\n",
       "    }\n",
       "\n",
       "    .dataframe tbody tr th {\n",
       "        vertical-align: top;\n",
       "    }\n",
       "\n",
       "    .dataframe thead th {\n",
       "        text-align: right;\n",
       "    }\n",
       "</style>\n",
       "<table border=\"1\" class=\"dataframe\">\n",
       "  <thead>\n",
       "    <tr style=\"text-align: right;\">\n",
       "      <th></th>\n",
       "      <th>제목</th>\n",
       "      <th>내용</th>\n",
       "    </tr>\n",
       "  </thead>\n",
       "  <tbody>\n",
       "  </tbody>\n",
       "</table>\n",
       "</div>"
      ],
      "text/plain": [
       "Empty DataFrame\n",
       "Columns: [제목, 내용]\n",
       "Index: []"
      ]
     },
     "execution_count": 23,
     "metadata": {},
     "output_type": "execute_result"
    }
   ],
   "source": [
    "df"
   ]
  },
  {
   "cell_type": "code",
   "execution_count": null,
   "metadata": {},
   "outputs": [],
   "source": []
  }
 ],
 "metadata": {
  "interpreter": {
   "hash": "982c78d920726c4e066517e5f806c5a92239fdf1e257c5744bcc49f815c4d4bb"
  },
  "kernelspec": {
   "display_name": "Python 3 (ipykernel)",
   "language": "python",
   "name": "python3"
  },
  "language_info": {
   "codemirror_mode": {
    "name": "ipython",
    "version": 3
   },
   "file_extension": ".py",
   "mimetype": "text/x-python",
   "name": "python",
   "nbconvert_exporter": "python",
   "pygments_lexer": "ipython3",
   "version": "3.9.7"
  }
 },
 "nbformat": 4,
 "nbformat_minor": 2
}
