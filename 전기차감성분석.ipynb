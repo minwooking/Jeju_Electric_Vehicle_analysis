{
 "cells": [
  {
   "cell_type": "code",
   "execution_count": 26,
   "id": "90ef7515-3404-422d-a144-5c145c647d04",
   "metadata": {
    "execution": {
     "iopub.execute_input": "2022-03-22T00:58:01.326205Z",
     "iopub.status.busy": "2022-03-22T00:58:01.325770Z",
     "iopub.status.idle": "2022-03-22T00:58:01.335500Z",
     "shell.execute_reply": "2022-03-22T00:58:01.334021Z",
     "shell.execute_reply.started": "2022-03-22T00:58:01.326150Z"
    },
    "tags": []
   },
   "outputs": [],
   "source": [
    "import numpy as np\n",
    "import pandas as pd \n",
    "import warnings\n",
    "warnings.filterwarnings('ignore')\n",
    "import splitfolders\n",
    "from konlpy.tag import Okt\n",
    "okt = Okt()\n"
   ]
  },
  {
   "cell_type": "code",
   "execution_count": 24,
   "id": "47287c07-1eee-4785-9498-4fed5d8791c3",
   "metadata": {
    "execution": {
     "iopub.execute_input": "2022-03-22T00:55:55.974560Z",
     "iopub.status.busy": "2022-03-22T00:55:55.974183Z",
     "iopub.status.idle": "2022-03-22T00:55:55.988326Z",
     "shell.execute_reply": "2022-03-22T00:55:55.987747Z",
     "shell.execute_reply.started": "2022-03-22T00:55:55.974511Z"
    }
   },
   "outputs": [
    {
     "ename": "ModuleNotFoundError",
     "evalue": "No module named 'soynlp'",
     "output_type": "error",
     "traceback": [
      "\u001b[0;31m---------------------------------------------------------------------------\u001b[0m",
      "\u001b[0;31mModuleNotFoundError\u001b[0m                       Traceback (most recent call last)",
      "\u001b[0;32m/tmp/ipykernel_286635/3050668281.py\u001b[0m in \u001b[0;36m<module>\u001b[0;34m\u001b[0m\n\u001b[0;32m----> 1\u001b[0;31m \u001b[0;32mimport\u001b[0m \u001b[0msoynlp\u001b[0m\u001b[0;34m\u001b[0m\u001b[0;34m\u001b[0m\u001b[0m\n\u001b[0m",
      "\u001b[0;31mModuleNotFoundError\u001b[0m: No module named 'soynlp'"
     ]
    }
   ],
   "source": [
    "import soynlp"
   ]
  },
  {
   "cell_type": "code",
   "execution_count": 17,
   "id": "3c28dd62-4e41-4161-90c2-8bbfc61529a9",
   "metadata": {
    "execution": {
     "iopub.execute_input": "2022-03-21T07:42:34.606486Z",
     "iopub.status.busy": "2022-03-21T07:42:34.606323Z",
     "iopub.status.idle": "2022-03-21T07:42:34.610073Z",
     "shell.execute_reply": "2022-03-21T07:42:34.609626Z",
     "shell.execute_reply.started": "2022-03-21T07:42:34.606468Z"
    },
    "tags": []
   },
   "outputs": [],
   "source": [
    "from konlpy.tag import Okt\n",
    "okt = Okt()"
   ]
  },
  {
   "cell_type": "code",
   "execution_count": 18,
   "id": "0a4a4ce1-fce0-4e43-a11a-bbc9b8cb1337",
   "metadata": {
    "execution": {
     "iopub.execute_input": "2022-03-21T07:42:36.354834Z",
     "iopub.status.busy": "2022-03-21T07:42:36.354671Z",
     "iopub.status.idle": "2022-03-21T07:42:36.358476Z",
     "shell.execute_reply": "2022-03-21T07:42:36.357911Z",
     "shell.execute_reply.started": "2022-03-21T07:42:36.354820Z"
    },
    "tags": []
   },
   "outputs": [],
   "source": [
    "stop_text = '은 는 이 가 을 를 의 에게 에 들 좀 잘 과 도 으로 자 와 ㅋㅋ ㅠㅠ ㅎㅎ'\n",
    "stopwords = stop_text.split()"
   ]
  },
  {
   "cell_type": "code",
   "execution_count": 19,
   "id": "ab242649-9925-43c3-a882-76620aa8aa30",
   "metadata": {
    "execution": {
     "iopub.execute_input": "2022-03-21T07:42:37.094268Z",
     "iopub.status.busy": "2022-03-21T07:42:37.094064Z",
     "iopub.status.idle": "2022-03-21T07:42:37.097922Z",
     "shell.execute_reply": "2022-03-21T07:42:37.097356Z",
     "shell.execute_reply.started": "2022-03-21T07:42:37.094249Z"
    },
    "tags": []
   },
   "outputs": [],
   "source": [
    "def okt_tokenizer(text):\n",
    "    morphs = okt.morphs(text, stem=True)\n",
    "    tokens = [word for word in morphs if word not in stopwords]\n",
    "    return tokens"
   ]
  },
  {
   "cell_type": "code",
   "execution_count": 20,
   "id": "11231dbb-45e1-447e-b82a-0215552c8c40",
   "metadata": {
    "execution": {
     "iopub.execute_input": "2022-03-21T07:49:31.210198Z",
     "iopub.status.busy": "2022-03-21T07:49:31.209969Z",
     "iopub.status.idle": "2022-03-21T07:49:31.214097Z",
     "shell.execute_reply": "2022-03-21T07:49:31.213409Z",
     "shell.execute_reply.started": "2022-03-21T07:49:31.210169Z"
    },
    "tags": []
   },
   "outputs": [],
   "source": [
    "from sklearn.feature_extraction.text import TfidfVectorizer\n",
    "\n",
    "tvect = TfidfVectorizer(\n",
    "    tokenizer=okt_tokenizer, ngram_range=(1,2), max_df=0.9\n",
    ")"
   ]
  },
  {
   "cell_type": "code",
   "execution_count": 22,
   "id": "c4a3f589-5555-4e1a-a0ed-56df8f67926c",
   "metadata": {
    "execution": {
     "iopub.execute_input": "2022-03-21T07:49:39.380874Z",
     "iopub.status.busy": "2022-03-21T07:49:39.380668Z",
     "iopub.status.idle": "2022-03-21T07:49:39.389300Z",
     "shell.execute_reply": "2022-03-21T07:49:39.388714Z",
     "shell.execute_reply.started": "2022-03-21T07:49:39.380841Z"
    },
    "tags": []
   },
   "outputs": [
    {
     "ename": "NameError",
     "evalue": "name 'train_df' is not defined",
     "output_type": "error",
     "traceback": [
      "\u001b[0;31m---------------------------------------------------------------------------\u001b[0m",
      "\u001b[0;31mNameError\u001b[0m                                 Traceback (most recent call last)",
      "\u001b[0;32m<timed eval>\u001b[0m in \u001b[0;36m<module>\u001b[0;34m\u001b[0m\n",
      "\u001b[0;31mNameError\u001b[0m: name 'train_df' is not defined"
     ]
    }
   ],
   "source": [
    "%time tvect.fit(train_df.document)"
   ]
  },
  {
   "cell_type": "code",
   "execution_count": null,
   "id": "3e5800a1-e9cd-4d17-a9ff-5c48679adf85",
   "metadata": {},
   "outputs": [],
   "source": []
  }
 ],
 "metadata": {
  "kernelspec": {
   "display_name": "Python 3 (ipykernel)",
   "language": "python",
   "name": "python3"
  },
  "language_info": {
   "codemirror_mode": {
    "name": "ipython",
    "version": 3
   },
   "file_extension": ".py",
   "mimetype": "text/x-python",
   "name": "python",
   "nbconvert_exporter": "python",
   "pygments_lexer": "ipython3",
   "version": "3.9.7"
  }
 },
 "nbformat": 4,
 "nbformat_minor": 5
}
