{
 "cells": [
  {
   "cell_type": "markdown",
   "metadata": {},
   "source": [
    "## UseLib"
   ]
  },
  {
   "cell_type": "code",
   "execution_count": null,
   "metadata": {},
   "outputs": [],
   "source": [
    "############## 전처리 및 데이터 핸들링 ###############################\n",
    "\n",
    "import numpy as np\n",
    "import  pandas as pd\n",
    "import os\n",
    "from konlpy.tag import Okt \n",
    "okt = Okt()\n",
    "from tqdm.notebook import tqdm\n",
    "import joblib\n",
    "from sklearn.preprocessing import LabelEncoder\n",
    "from sklearn.model_selection import train_test_split\n",
    "import copy\n",
    "from sklearn.feature_extraction.text import CountVectorizer\n",
    "from sklearn.feature_extraction.text import TfidfVectorizer\n",
    "\n",
    "\n",
    "############## 머신러닝 모델#########################\n",
    "from sklearn.naive_bayes import MultinomialNB\n",
    "nb = MultinomialNB()\n",
    "from sklearn.linear_model import LogisticRegression\n",
    "lr = LogisticRegression()\n",
    "from sklearn.svm import SVC\n",
    "svc =  SVC()\n",
    "from sklearn.neighbors import KNeighborsClassifier\n",
    "knn =KNeighborsClassifier()\n",
    "from sklearn.ensemble import RandomForestClassifier\n",
    "rfc = RandomForestClassifier(random_state=2021)\n",
    "import xgboost as xgb\n",
    "from xgboost import XGBClassifier\n",
    "xgc = XGBClassifier()\n",
    "\n",
    "\n",
    "############## 평가 ###############################\n",
    "from sklearn.metrics import accuracy_score\n",
    "from sklearn.metrics import precision_score, recall_score, f1_score\n",
    "from sklearn.model_selection import GridSearchCV"
   ]
  },
  {
   "cell_type": "markdown",
   "metadata": {},
   "source": [
    "## UseData"
   ]
  },
  {
   "cell_type": "code",
   "execution_count": null,
   "metadata": {},
   "outputs": [],
   "source": [
    "cd ~/WorkSpace/GoogleDrive/제주_전기차/data "
   ]
  },
  {
   "cell_type": "code",
   "execution_count": null,
   "metadata": {},
   "outputs": [],
   "source": [
    "ls ## 데이터 위치 파악 및 데이터 리스트 확인"
   ]
  },
  {
   "cell_type": "code",
   "execution_count": null,
   "metadata": {},
   "outputs": [],
   "source": [
    "df_train= pd.read_csv('전기차_전처리및토큰화.csv')\n",
    "df_cafe = pd.read_csv('elecafe.csv')\n",
    "df_Blog = pd.read_csv('네이버-제주전기차후기통합.csv')"
   ]
  },
  {
   "cell_type": "markdown",
   "metadata": {},
   "source": [
    "## 러닝"
   ]
  },
  {
   "cell_type": "markdown",
   "metadata": {},
   "source": [
    "### 널값 제거 및 전처리"
   ]
  },
  {
   "cell_type": "code",
   "execution_count": null,
   "metadata": {},
   "outputs": [],
   "source": [
    "df_train.head(2)"
   ]
  },
  {
   "cell_type": "code",
   "execution_count": null,
   "metadata": {},
   "outputs": [],
   "source": [
    "print(df_train.isnull().sum())\n",
    "print(df_cafe.isnull().sum())\n",
    "print(df_Blog.isnull().sum())"
   ]
  },
  {
   "cell_type": "code",
   "execution_count": null,
   "metadata": {},
   "outputs": [],
   "source": [
    "del df_Blog['index'] # 인덱스칼럼이 널값이많아서 컬럼 자체를 없애 버림 \n",
    "df_train.dropna(inplace=True) # 드랍으로 널값제거"
   ]
  },
  {
   "cell_type": "markdown",
   "metadata": {},
   "source": [
    "### 이진분류"
   ]
  },
  {
   "cell_type": "code",
   "execution_count": null,
   "metadata": {},
   "outputs": [],
   "source": [
    "df_이진분류 = copy.deepcopy(df_train[df_train !='E'])"
   ]
  },
  {
   "cell_type": "code",
   "execution_count": null,
   "metadata": {},
   "outputs": [],
   "source": [
    "df_이진분류.head(2)\n",
    "df_이진분류.dropna(inplace=True)\n",
    "df_이진분류.isnull().sum()"
   ]
  },
  {
   "cell_type": "code",
   "execution_count": null,
   "metadata": {},
   "outputs": [],
   "source": [
    "X_train,X_test,y_train,y_test = train_test_split (\n",
    "    df_이진분류['전처리'],df_이진분류['평가'],test_size=0.25,random_state=2021\n",
    ")"
   ]
  },
  {
   "cell_type": "code",
   "execution_count": null,
   "metadata": {},
   "outputs": [],
   "source": [
    "X_train.shape,X_test.shape,y_train.shape,y_test.shape"
   ]
  },
  {
   "cell_type": "markdown",
   "metadata": {},
   "source": [
    "##### 타겟값 라벨링"
   ]
  },
  {
   "cell_type": "code",
   "execution_count": null,
   "metadata": {},
   "outputs": [],
   "source": [
    "y_train_label = LabelEncoder().fit_transform(y_train)\n",
    "y_test_label = LabelEncoder().fit_transform(y_test)"
   ]
  },
  {
   "cell_type": "code",
   "execution_count": null,
   "metadata": {},
   "outputs": [],
   "source": [
    "y_train_label,y_test_label"
   ]
  },
  {
   "cell_type": "markdown",
   "metadata": {},
   "source": [
    "#### CV binary"
   ]
  },
  {
   "cell_type": "code",
   "execution_count": null,
   "metadata": {},
   "outputs": [],
   "source": [
    "cvect_binary =  CountVectorizer()\n",
    "cvect_binary.fit(X_train)"
   ]
  },
  {
   "cell_type": "code",
   "execution_count": null,
   "metadata": {},
   "outputs": [],
   "source": [
    "X_train_cv_binary = cvect_binary.transform(X_train)\n",
    "X_test_cv_binary =  cvect_binary.transform(X_test)"
   ]
  },
  {
   "cell_type": "markdown",
   "metadata": {},
   "source": [
    "#### TF-IDF binary"
   ]
  },
  {
   "cell_type": "code",
   "execution_count": null,
   "metadata": {},
   "outputs": [],
   "source": [
    "tvect_binary = TfidfVectorizer(ngram_range=(1,2), max_df = 0.9)"
   ]
  },
  {
   "cell_type": "code",
   "execution_count": null,
   "metadata": {},
   "outputs": [],
   "source": [
    "%time tvect_binary.fit(X_train)\n",
    "%time X_train_tv_binary = tvect_binary.transform(X_train)\n",
    "%time X_test_tv_binary = tvect_binary.transform(X_test)"
   ]
  },
  {
   "cell_type": "markdown",
   "metadata": {},
   "source": [
    "### 다중분류"
   ]
  },
  {
   "cell_type": "code",
   "execution_count": null,
   "metadata": {},
   "outputs": [],
   "source": [
    "XX_train,XX_test,yy_train,yy_test = train_test_split (\n",
    "    df_train['전처리'],df_train['평가'],test_size=0.25,random_state=2021\n",
    ")"
   ]
  },
  {
   "cell_type": "code",
   "execution_count": null,
   "metadata": {},
   "outputs": [],
   "source": [
    "XX_train.shape,XX_test.shape,yy_train.shape,yy_test.shape"
   ]
  },
  {
   "cell_type": "markdown",
   "metadata": {},
   "source": [
    "#### cv "
   ]
  },
  {
   "cell_type": "code",
   "execution_count": null,
   "metadata": {},
   "outputs": [],
   "source": [
    "cvect  = CountVectorizer(ngram_range=(1,2), max_df = 0.9)\n",
    "cvect.fit(XX_train)"
   ]
  },
  {
   "cell_type": "code",
   "execution_count": null,
   "metadata": {},
   "outputs": [],
   "source": [
    "XX_train_cv = cvect.transform(XX_train)\n",
    "XX_test_cv=  cvect.transform(XX_test)"
   ]
  },
  {
   "cell_type": "markdown",
   "metadata": {},
   "source": [
    "#### TF-IDF"
   ]
  },
  {
   "cell_type": "code",
   "execution_count": null,
   "metadata": {},
   "outputs": [],
   "source": [
    "tvect = TfidfVectorizer(ngram_range=(1,2), max_df = 0.9)"
   ]
  },
  {
   "cell_type": "code",
   "execution_count": null,
   "metadata": {},
   "outputs": [],
   "source": [
    "tvect.fit(XX_train)\n",
    "XX_train_tv = tvect.transform(XX_train)\n",
    "XX_test_tv = tvect.transform(XX_test)\n"
   ]
  },
  {
   "cell_type": "markdown",
   "metadata": {},
   "source": [
    "## 모델 비교 평가"
   ]
  },
  {
   "cell_type": "code",
   "execution_count": null,
   "metadata": {},
   "outputs": [],
   "source": [
    "XX_test_cv"
   ]
  },
  {
   "cell_type": "code",
   "execution_count": null,
   "metadata": {},
   "outputs": [],
   "source": [
    "def auto(model,train_test):\n",
    "    model.fit(train_test[0],y_train_label)\n",
    "    pred=model.predict(train_test[1])\n",
    "    if train_test[1] in [X_test_cv_binary,X_test_tv_binary]:\n",
    "        ave = 'binary'\n",
    "    else:\n",
    "        ave = 'macro'\n",
    "    accuracy_score(y_test_label, pred)\n",
    "    p = precision_score(y_test_label, pred,average=ave)\n",
    "    r = recall_score(y_test_label, pred,average=ave)\n",
    "    f1 = f1_score(y_test_label, pred,average=ave)\n",
    "    return f'스코어:{model.score(train_test[1],y_test_label)}\\nP:{p}\\nR:{r}\\nF1:{f1}'"
   ]
  },
  {
   "cell_type": "code",
   "execution_count": 71,
   "metadata": {},
   "outputs": [],
   "source": [
    "results = []\n",
    "# !mkdir model\n",
    "g = globals()\n",
    "for model in [lr,nb,svc,knn,rfc]:\n",
    "    for train_test in [[X_train_cv_binary,X_test_cv_binary],[X_train_tv_binary,X_test_tv_binary]]:\n",
    "        print(f'모델:{model}\\n벡터:{test}일때\\n{auto(model,train_test)}입니다.')\n",
    "        results.append(f'모델:{model}\\n벡터:{test}일때\\n{auto(model,train_test)}입니다.')\n",
    "        joblib.dump(model,f'model/전기차이진{model}.pkl')\n",
    "    # for train_test in [[XX_train_cv,XX_test_cv],[XX_train_tv,XX_test_tv]]:\n",
    "    #     print(f'다중분류모델모델:{model}\\n,벡터:{test}일때\\n{auto(model,train_test)}입니다.')\n",
    "    #     results.append(f'다중분류모델:{model}\\n벡터:{test}일때\\n{auto(model,train_test)}입니다.')\n",
    "    #     joblib.dump(model,f'model/전기차삼진{model}.pkl')\n",
    "\n"
   ]
  },
  {
   "cell_type": "code",
   "execution_count": null,
   "metadata": {},
   "outputs": [],
   "source": []
  },
  {
   "cell_type": "code",
   "execution_count": null,
   "metadata": {},
   "outputs": [],
   "source": [
    "# def auto2(model,vect,i):\n",
    "#     g= globals()\n",
    "#     if vect == 'cvect':\n",
    "#         g[f'{vect}{i}'] = CountVectorizer(ngram_range=(1,i))\n",
    "#     elif vect == 'tvect':\n",
    "#         g[f'{vect}{i}'] = TfidfVectorizer(ngram_range=(1,i))\n",
    "#     g[f'{vect}{i}'].fit(X_train)\n",
    "#     g[f'XX_train_{vect}{i}'] = g[f'{vect}{i}'].transform(XX_train)\n",
    "#     g[f'XX_test_{vect}{i}'] = g[f'{vect}{i}'].transform(XX_test)\n",
    "#     model.fit(g[f'XX_train_{vect}{i}'],y_train_label)\n",
    "#     return model.score(g[f'XX_test_{vect}{i}'],y_test_label)"
   ]
  },
  {
   "cell_type": "code",
   "execution_count": null,
   "metadata": {},
   "outputs": [],
   "source": [
    "# !mkdir model\n",
    "# for model in [lr,nb,xgc,svc,knn,rfc]:\n",
    "#     for vect in ['cvect','tvect']:\n",
    "#             for i in [1,2]:\n",
    "#                     print(f'다중분류 모델:{model}\\t,벡터:{vect}\\tngram_range:{i}일때:{auto2(model,vect,i)}입니다.')\n",
    "#                     joblib.dump(model,f'다중분류model/전기차{vect}{model}ngram{i}.pkl')\n"
   ]
  },
  {
   "cell_type": "code",
   "execution_count": null,
   "metadata": {},
   "outputs": [],
   "source": [
    "for model in [lr,nb,svc,knn,rfc]:\n",
    "    for test in [X_test_cv_binary,X_test_tv_binary,XX_test_tv,XX_test_tv]:\n",
    "        pred=model.predict(test)\n",
    "        if test in [X_test_cv_binary,X_test_tv_binary]:\n",
    "            ave = 'binary'\n",
    "        else:\n",
    "            ave = 'macro'\n",
    "        accuracy_score(y_test_label, pred)\n",
    "        p = precision_score(y_test_label, pred,average=ave)\n",
    "        print(f'{model}일떄+{test}이면+{p}는p입니다')\n",
    "        r = recall_score(y_test_label, pred,average=ave)\n",
    "        print(f'{model}일떄+{test}이면+{r}는r입니다')\n",
    "        f1 = f1_score(y_test_label, pred,average=ave)\n",
    "        print(f'{model}일떄+{test}이면+{f1}는f1입니다')\n"
   ]
  },
  {
   "cell_type": "markdown",
   "metadata": {},
   "source": [
    "#### 모델저장"
   ]
  },
  {
   "cell_type": "code",
   "execution_count": null,
   "metadata": {},
   "outputs": [],
   "source": [
    "# !mkdir model\n",
    "# for model in [lr,nb,xgc,svc,knn,rfc]:\n",
    "#     joblib.dump(model,f'model/전기차{model}.pkl')\n",
    "for vect in [cvect_binary,tvect_binary,cvect,tvect]:\n",
    "    joblib.dump(vect,f'model/전기차{vect}.pkl')"
   ]
  },
  {
   "cell_type": "code",
   "execution_count": null,
   "metadata": {},
   "outputs": [],
   "source": []
  }
 ],
 "metadata": {
  "kernelspec": {
   "display_name": "Python 3 (ipykernel)",
   "language": "python",
   "name": "python3"
  },
  "language_info": {
   "codemirror_mode": {
    "name": "ipython",
    "version": 3
   },
   "file_extension": ".py",
   "mimetype": "text/x-python",
   "name": "python",
   "nbconvert_exporter": "python",
   "pygments_lexer": "ipython3",
   "version": "3.9.7"
  },
  "orig_nbformat": 4
 },
 "nbformat": 4,
 "nbformat_minor": 2
}
