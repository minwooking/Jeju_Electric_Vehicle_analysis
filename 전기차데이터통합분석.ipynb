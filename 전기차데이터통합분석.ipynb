{
 "cells": [
  {
   "cell_type": "markdown",
   "metadata": {},
   "source": [
    "## Use lib"
   ]
  },
  {
   "cell_type": "code",
   "execution_count": 2,
   "metadata": {
    "execution": {
     "iopub.execute_input": "2022-03-26T05:39:43.399132Z",
     "iopub.status.busy": "2022-03-26T05:39:43.398747Z",
     "iopub.status.idle": "2022-03-26T05:39:44.737228Z",
     "shell.execute_reply": "2022-03-26T05:39:44.736533Z",
     "shell.execute_reply.started": "2022-03-26T05:39:43.399073Z"
    },
    "tags": []
   },
   "outputs": [],
   "source": [
    "import pandas as pd\n",
    "import numpy as np\n",
    "import copy\n",
    "import os\n",
    "import matplotlib.pyplot as plt\n",
    "import matplotlib as mpl\n",
    "mpl.rcParams['axes.unicode_minus'] = False\n",
    "plt.rcParams['font.family'] = 'NanumGothicCoding'\n",
    "import nltk\n",
    "from wordcloud import WordCloud, STOPWORDS\n",
    "from PIL import Image\n",
    "import re, joblib\n",
    "import konlpy\n",
    "from konlpy.tag import Okt \n",
    "okt = Okt()\n",
    "import string\n",
    "import threading\n",
    "from sklearn.feature_extraction.text import CountVectorizer\n",
    "from sklearn.preprocessing import LabelEncoder\n",
    "\n",
    "from tqdm import tqdm\n",
    "import time\n",
    "\n",
    "from sklearn.model_selection import train_test_split\n",
    "from sklearn.linear_model import LogisticRegression\n",
    "lr = LogisticRegression()\n",
    "\n"
   ]
  },
  {
   "cell_type": "code",
   "execution_count": 2,
   "metadata": {
    "execution": {
     "iopub.execute_input": "2022-03-26T05:22:49.543474Z",
     "iopub.status.busy": "2022-03-26T05:22:49.543065Z",
     "iopub.status.idle": "2022-03-26T05:22:51.336979Z",
     "shell.execute_reply": "2022-03-26T05:22:51.335350Z",
     "shell.execute_reply.started": "2022-03-26T05:22:49.543433Z"
    }
   },
   "outputs": [
    {
     "name": "stdout",
     "output_type": "stream",
     "text": [
      "Collecting WordCloud\n",
      "  Downloading wordcloud-1.8.1-cp39-cp39-manylinux1_x86_64.whl (363 kB)\n",
      "\u001b[K     |████████████████████████████████| 363 kB 4.8 MB/s eta 0:00:01\n",
      "\u001b[?25hRequirement already satisfied: matplotlib in /home/miwoos/anaconda3/lib/python3.9/site-packages (from WordCloud) (3.4.3)\n",
      "Requirement already satisfied: numpy>=1.6.1 in /home/miwoos/anaconda3/lib/python3.9/site-packages (from WordCloud) (1.20.3)\n",
      "Requirement already satisfied: pillow in /home/miwoos/anaconda3/lib/python3.9/site-packages (from WordCloud) (8.4.0)\n",
      "Requirement already satisfied: kiwisolver>=1.0.1 in /home/miwoos/anaconda3/lib/python3.9/site-packages (from matplotlib->WordCloud) (1.3.1)\n",
      "Requirement already satisfied: pyparsing>=2.2.1 in /home/miwoos/anaconda3/lib/python3.9/site-packages (from matplotlib->WordCloud) (3.0.4)\n",
      "Requirement already satisfied: cycler>=0.10 in /home/miwoos/anaconda3/lib/python3.9/site-packages (from matplotlib->WordCloud) (0.10.0)\n",
      "Requirement already satisfied: python-dateutil>=2.7 in /home/miwoos/anaconda3/lib/python3.9/site-packages (from matplotlib->WordCloud) (2.8.2)\n",
      "Requirement already satisfied: six in /home/miwoos/anaconda3/lib/python3.9/site-packages (from cycler>=0.10->matplotlib->WordCloud) (1.16.0)\n",
      "Installing collected packages: WordCloud\n",
      "Successfully installed WordCloud-1.8.1\n",
      "Note: you may need to restart the kernel to use updated packages.\n"
     ]
    }
   ],
   "source": [
    "# pip install WordCloud"
   ]
  },
  {
   "cell_type": "markdown",
   "metadata": {},
   "source": [
    "## Use Data"
   ]
  },
  {
   "cell_type": "markdown",
   "metadata": {},
   "source": [
    "### 연결된 구글드라이브 로 경로 바꾸기(windows,liunx)"
   ]
  },
  {
   "cell_type": "code",
   "execution_count": 2,
   "metadata": {},
   "outputs": [],
   "source": [
    "os.chdir('G:\\내 드라이브\\제주_전기차\\data')"
   ]
  },
  {
   "cell_type": "code",
   "execution_count": 24,
   "metadata": {
    "execution": {
     "iopub.execute_input": "2022-03-26T05:28:15.335812Z",
     "iopub.status.busy": "2022-03-26T05:28:15.335619Z",
     "iopub.status.idle": "2022-03-26T05:28:15.342871Z",
     "shell.execute_reply": "2022-03-26T05:28:15.341945Z",
     "shell.execute_reply.started": "2022-03-26T05:28:15.335782Z"
    },
    "tags": []
   },
   "outputs": [
    {
     "name": "stdout",
     "output_type": "stream",
     "text": [
      "/home/miwoos/WorkSpace/GoogleDrive/제주_전기차/data\n"
     ]
    }
   ],
   "source": [
    "\n",
    "cd data"
   ]
  },
  {
   "cell_type": "code",
   "execution_count": 7,
   "metadata": {
    "execution": {
     "iopub.execute_input": "2022-03-26T05:40:57.557496Z",
     "iopub.status.busy": "2022-03-26T05:40:57.557270Z",
     "iopub.status.idle": "2022-03-26T05:40:57.562651Z",
     "shell.execute_reply": "2022-03-26T05:40:57.561905Z",
     "shell.execute_reply.started": "2022-03-26T05:40:57.557453Z"
    },
    "tags": []
   },
   "outputs": [],
   "source": [
    "os.chdir('/home/miwoos/WorkSpace/GoogleDrive/제주_전기차/data')"
   ]
  },
  {
   "cell_type": "code",
   "execution_count": 8,
   "metadata": {
    "execution": {
     "iopub.execute_input": "2022-03-26T05:40:59.870472Z",
     "iopub.status.busy": "2022-03-26T05:40:59.870294Z",
     "iopub.status.idle": "2022-03-26T05:41:00.061882Z",
     "shell.execute_reply": "2022-03-26T05:41:00.060247Z",
     "shell.execute_reply.started": "2022-03-26T05:40:59.870456Z"
    }
   },
   "outputs": [
    {
     "name": "stdout",
     "output_type": "stream",
     "text": [
      " CFI전기차보도자료.csv             블로그전기차문장.csv\n",
      " best_model.h5                     \u001b[0m\u001b[01;35m빈도수파악.png\u001b[0m\n",
      " cafe댓글추출후분석.csv            인스타전기차.csv\n",
      " df_cafe_commet_merge.csv          인스타전기차충전소.csv\n",
      " \u001b[01;35melc_usewordcloud.png\u001b[0m             '전기차 동호회 전기차크롤링.csv'\n",
      " elecafe.csv                       전기차_전처리및토큰화.csv\n",
      " lr.pkl                           '전기차감성분석(0325).csv'\n",
      " lrc.pkl                           전기차감성분석.csv\n",
      " \u001b[01;34mmodel\u001b[0m/                            전기차관련검색어인기순.csv\n",
      " tvect.pkl                         전기차관심도지역.csv\n",
      " 감성사전분석.csv                  전기차관심증가.csv\n",
      " 관련키워드.csv                    전기차전처리추가.csv\n",
      " 네이버-제주전기차후기통합.csv     전기차키워드관련주제인기순.csv\n",
      " 네이버블로그감성분석비교.csv      전체본문의댓글결과_2022.03.06.xlsx\n",
      " 느영나영전기차크롤링.csv          제사모크롤링.csv\n",
      " 느영나영전기차크롤링.csv.part     카페통합감성추가.csv\n",
      "'본문 검색 결과_2022.03.06.xlsx'   투플럭스sjeju.csv\n"
     ]
    }
   ],
   "source": [
    "ls"
   ]
  },
  {
   "cell_type": "code",
   "execution_count": null,
   "metadata": {},
   "outputs": [],
   "source": []
  },
  {
   "cell_type": "markdown",
   "metadata": {},
   "source": [
    "### data list"
   ]
  },
  {
   "cell_type": "code",
   "execution_count": 102,
   "metadata": {
    "execution": {
     "iopub.execute_input": "2022-03-26T06:20:10.765011Z",
     "iopub.status.busy": "2022-03-26T06:20:10.764425Z",
     "iopub.status.idle": "2022-03-26T06:20:16.894526Z",
     "shell.execute_reply": "2022-03-26T06:20:16.893710Z",
     "shell.execute_reply.started": "2022-03-26T06:20:10.764913Z"
    },
    "tags": []
   },
   "outputs": [
    {
     "name": "stderr",
     "output_type": "stream",
     "text": [
      "/home/miwoos/anaconda3/lib/python3.9/site-packages/IPython/core/interactiveshell.py:3444: DtypeWarning: Columns (13) have mixed types.Specify dtype option on import or set low_memory=False.\n",
      "  exec(code_obj, self.user_global_ns, self.user_ns)\n"
     ]
    }
   ],
   "source": [
    "# df_blog = pd.read_csv('전기차감성분석(0325).csv')\n",
    "# df_cafe = pd.read_csv('카페통합감성추가.csv')\n",
    "df_toflux = pd.read_csv('전기차전처리추가.csv')\n",
    "# df_train = pd.read_csv('전기차_전처리및토큰화.csv')"
   ]
  },
  {
   "cell_type": "code",
   "execution_count": 43,
   "metadata": {
    "execution": {
     "iopub.execute_input": "2022-03-26T05:57:43.393250Z",
     "iopub.status.busy": "2022-03-26T05:57:43.392458Z",
     "iopub.status.idle": "2022-03-26T05:57:43.407977Z",
     "shell.execute_reply": "2022-03-26T05:57:43.407574Z",
     "shell.execute_reply.started": "2022-03-26T05:57:43.393183Z"
    }
   },
   "outputs": [
    {
     "data": {
      "text/html": [
       "<div>\n",
       "<style scoped>\n",
       "    .dataframe tbody tr th:only-of-type {\n",
       "        vertical-align: middle;\n",
       "    }\n",
       "\n",
       "    .dataframe tbody tr th {\n",
       "        vertical-align: top;\n",
       "    }\n",
       "\n",
       "    .dataframe thead th {\n",
       "        text-align: right;\n",
       "    }\n",
       "</style>\n",
       "<table border=\"1\" class=\"dataframe\">\n",
       "  <thead>\n",
       "    <tr style=\"text-align: right;\">\n",
       "      <th></th>\n",
       "      <th>전처리</th>\n",
       "      <th>평가</th>\n",
       "    </tr>\n",
       "  </thead>\n",
       "  <tbody>\n",
       "    <tr>\n",
       "      <th>0</th>\n",
       "      <td>아이오 닉 휠 베이스 가치 서비스 센터 가다 부품 수급 문제 로 렌터카 받다 오다 ...</td>\n",
       "      <td>P</td>\n",
       "    </tr>\n",
       "    <tr>\n",
       "      <th>1</th>\n",
       "      <td>현대차 아이오 닉 테슬라 모델 뭘 살다 요 현대차 아이오 닉 테슬라 모델 뭘 살다 ...</td>\n",
       "      <td>P</td>\n",
       "    </tr>\n",
       "  </tbody>\n",
       "</table>\n",
       "</div>"
      ],
      "text/plain": [
       "                                                 전처리 평가\n",
       "0  아이오 닉 휠 베이스 가치 서비스 센터 가다 부품 수급 문제 로 렌터카 받다 오다 ...  P\n",
       "1  현대차 아이오 닉 테슬라 모델 뭘 살다 요 현대차 아이오 닉 테슬라 모델 뭘 살다 ...  P"
      ]
     },
     "execution_count": 43,
     "metadata": {},
     "output_type": "execute_result"
    }
   ],
   "source": [
    "df_train.head(2)"
   ]
  },
  {
   "cell_type": "code",
   "execution_count": 44,
   "metadata": {
    "execution": {
     "iopub.execute_input": "2022-03-26T05:57:45.391663Z",
     "iopub.status.busy": "2022-03-26T05:57:45.391184Z",
     "iopub.status.idle": "2022-03-26T05:57:48.042102Z",
     "shell.execute_reply": "2022-03-26T05:57:48.040743Z",
     "shell.execute_reply.started": "2022-03-26T05:57:45.391601Z"
    },
    "tags": []
   },
   "outputs": [],
   "source": [
    "df_sns = pd.read_csv('인스타전기차.csv')\n",
    "df_news = pd.read_csv('CFI전기차보도자료.csv')"
   ]
  },
  {
   "cell_type": "markdown",
   "metadata": {},
   "source": [
    "### data 확인"
   ]
  },
  {
   "cell_type": "code",
   "execution_count": 105,
   "metadata": {
    "execution": {
     "iopub.execute_input": "2022-03-26T06:30:41.892603Z",
     "iopub.status.busy": "2022-03-26T06:30:41.892027Z",
     "iopub.status.idle": "2022-03-26T06:30:42.087406Z",
     "shell.execute_reply": "2022-03-26T06:30:42.085563Z",
     "shell.execute_reply.started": "2022-03-26T06:30:41.892547Z"
    },
    "tags": []
   },
   "outputs": [
    {
     "name": "stdout",
     "output_type": "stream",
     "text": [
      "Unnamed: 0        394820\n",
      "classCode              0\n",
      "필터명               394820\n",
      "수집채널                   0\n",
      "카페명                23962\n",
      "제목                     0\n",
      "작성자                    0\n",
      "작성시간                   0\n",
      "조회수                    0\n",
      "댓글수                    0\n",
      "호감수                    0\n",
      "비호감수                   0\n",
      "공유수                    0\n",
      "모델명               378979\n",
      "별점                 40260\n",
      "평가                   882\n",
      "해시태그              394820\n",
      "Url                    0\n",
      "Contents               0\n",
      "ChannelCode            0\n",
      "ContentType            0\n",
      "PostNo                 0\n",
      "Sno                    0\n",
      "Og_ImageUrl       394820\n",
      "Og_Description    394820\n",
      "grpNo                  0\n",
      "SeqIdx                 0\n",
      "전처리                   42\n",
      "dtype: int64\n"
     ]
    }
   ],
   "source": [
    "# print (df_blog.isnull().sum())\n",
    "# print (df_cafe.isnull().sum())\n",
    "print (df_toflux.isnull().sum())\n",
    "# print (df_sns.isnull().sum())\n",
    "# print (df_news.isnull().sum())"
   ]
  },
  {
   "cell_type": "code",
   "execution_count": 106,
   "metadata": {
    "execution": {
     "iopub.execute_input": "2022-03-26T06:30:57.031757Z",
     "iopub.status.busy": "2022-03-26T06:30:57.031382Z",
     "iopub.status.idle": "2022-03-26T06:30:57.093332Z",
     "shell.execute_reply": "2022-03-26T06:30:57.092534Z",
     "shell.execute_reply.started": "2022-03-26T06:30:57.031721Z"
    },
    "tags": []
   },
   "outputs": [],
   "source": [
    "df_toflux['전처리'].dropna(inplace=True)"
   ]
  },
  {
   "cell_type": "code",
   "execution_count": 6,
   "metadata": {},
   "outputs": [
    {
     "data": {
      "text/html": [
       "<div>\n",
       "<style scoped>\n",
       "    .dataframe tbody tr th:only-of-type {\n",
       "        vertical-align: middle;\n",
       "    }\n",
       "\n",
       "    .dataframe tbody tr th {\n",
       "        vertical-align: top;\n",
       "    }\n",
       "\n",
       "    .dataframe thead th {\n",
       "        text-align: right;\n",
       "    }\n",
       "</style>\n",
       "<table border=\"1\" class=\"dataframe\">\n",
       "  <thead>\n",
       "    <tr style=\"text-align: right;\">\n",
       "      <th></th>\n",
       "      <th>컨텐츠</th>\n",
       "      <th>날짜</th>\n",
       "      <th>좋아요</th>\n",
       "      <th>장소</th>\n",
       "      <th>태그</th>\n",
       "    </tr>\n",
       "  </thead>\n",
       "  <tbody>\n",
       "    <tr>\n",
       "      <th>0</th>\n",
       "      <td>hyoseong_90신형 G90 첫출고 🥳사전계약하고도 오래걸렸지만기다려 주셔서 감...</td>\n",
       "      <td>2022-03-22</td>\n",
       "      <td>0</td>\n",
       "      <td>NaN</td>\n",
       "      <td>[]</td>\n",
       "    </tr>\n",
       "    <tr>\n",
       "      <th>1</th>\n",
       "      <td>ony._.chuu제주에서 바다 정말 많이가봣지만 개인적으로 가장 아름다운바다는 서...</td>\n",
       "      <td>2020-10-08</td>\n",
       "      <td>0</td>\n",
       "      <td>우도</td>\n",
       "      <td>['#워니의✈️🌏', '#워니_jeju', '#제주', '#jeju', '#우도수정됨']</td>\n",
       "    </tr>\n",
       "  </tbody>\n",
       "</table>\n",
       "</div>"
      ],
      "text/plain": [
       "                                                 컨텐츠          날짜  좋아요   장소  \\\n",
       "0  hyoseong_90신형 G90 첫출고 🥳사전계약하고도 오래걸렸지만기다려 주셔서 감...  2022-03-22    0  NaN   \n",
       "1  ony._.chuu제주에서 바다 정말 많이가봣지만 개인적으로 가장 아름다운바다는 서...  2020-10-08    0   우도   \n",
       "\n",
       "                                                  태그  \n",
       "0                                                 []  \n",
       "1  ['#워니의✈️🌏', '#워니_jeju', '#제주', '#jeju', '#우도수정됨']  "
      ]
     },
     "execution_count": 6,
     "metadata": {},
     "output_type": "execute_result"
    }
   ],
   "source": [
    "df_sns.head(2)"
   ]
  },
  {
   "cell_type": "code",
   "execution_count": 15,
   "metadata": {},
   "outputs": [
    {
     "data": {
      "text/plain": [
       "Index(['Unnamed: 0', 'classCode', '필터명', '수집채널', '카페명', '제목', '작성자', '작성시간',\n",
       "       '조회수', '댓글수', '호감수', '비호감수', '공유수', '모델명', '별점', '평가', '해시태그', 'Url',\n",
       "       'Contents', 'ChannelCode', 'ContentType', 'PostNo', 'Sno',\n",
       "       'Og_ImageUrl', 'Og_Description', 'grpNo', 'SeqIdx', '전처리'],\n",
       "      dtype='object')"
      ]
     },
     "execution_count": 15,
     "metadata": {},
     "output_type": "execute_result"
    }
   ],
   "source": [
    "df_toflux.columns\n"
   ]
  },
  {
   "cell_type": "code",
   "execution_count": 108,
   "metadata": {
    "execution": {
     "iopub.execute_input": "2022-03-26T06:31:19.699393Z",
     "iopub.status.busy": "2022-03-26T06:31:19.698801Z",
     "iopub.status.idle": "2022-03-26T06:31:19.738143Z",
     "shell.execute_reply": "2022-03-26T06:31:19.737204Z",
     "shell.execute_reply.started": "2022-03-26T06:31:19.699334Z"
    },
    "tags": []
   },
   "outputs": [],
   "source": [
    "df_toflux= pd.DataFrame(\n",
    "    {\n",
    "    '제목':df_toflux.제목,\n",
    "    '내용':df_toflux.Contents,\n",
    "    '작성시간':df_toflux.작성시간,\n",
    "    '카페명':df_toflux.카페명,\n",
    "    '평가':df_toflux.평가,\n",
    "    '전처리':df_toflux.전처리,\n",
    "    }    \n",
    ")"
   ]
  },
  {
   "cell_type": "code",
   "execution_count": 111,
   "metadata": {
    "execution": {
     "iopub.execute_input": "2022-03-26T06:31:32.426988Z",
     "iopub.status.busy": "2022-03-26T06:31:32.426579Z",
     "iopub.status.idle": "2022-03-26T06:31:32.662749Z",
     "shell.execute_reply": "2022-03-26T06:31:32.661909Z",
     "shell.execute_reply.started": "2022-03-26T06:31:32.426930Z"
    },
    "tags": []
   },
   "outputs": [],
   "source": [
    "df_toflux['카페명'].fillna('전기차동호회',inplace=True)\n",
    "df_toflux['평가'].fillna('E',inplace=True)\n",
    "df_toflux.dropna(inplace=True)"
   ]
  },
  {
   "cell_type": "code",
   "execution_count": 98,
   "metadata": {},
   "outputs": [
    {
     "data": {
      "text/plain": [
       "P    201518\n",
       "E    103576\n",
       "N     89684\n",
       "Name: 평가, dtype: int64"
      ]
     },
     "execution_count": 98,
     "metadata": {},
     "output_type": "execute_result"
    }
   ],
   "source": [
    "df_toflux['평가'].value_counts()"
   ]
  },
  {
   "cell_type": "code",
   "execution_count": 112,
   "metadata": {
    "execution": {
     "iopub.execute_input": "2022-03-26T06:31:34.393123Z",
     "iopub.status.busy": "2022-03-26T06:31:34.392918Z",
     "iopub.status.idle": "2022-03-26T06:31:34.536020Z",
     "shell.execute_reply": "2022-03-26T06:31:34.535371Z",
     "shell.execute_reply.started": "2022-03-26T06:31:34.393099Z"
    },
    "tags": []
   },
   "outputs": [
    {
     "data": {
      "text/plain": [
       "제목      0\n",
       "내용      0\n",
       "작성시간    0\n",
       "카페명     0\n",
       "평가      0\n",
       "전처리     0\n",
       "dtype: int64"
      ]
     },
     "execution_count": 112,
     "metadata": {},
     "output_type": "execute_result"
    }
   ],
   "source": [
    "df_toflux.isnull().sum()"
   ]
  },
  {
   "cell_type": "code",
   "execution_count": 100,
   "metadata": {},
   "outputs": [
    {
     "data": {
      "text/html": [
       "<div>\n",
       "<style scoped>\n",
       "    .dataframe tbody tr th:only-of-type {\n",
       "        vertical-align: middle;\n",
       "    }\n",
       "\n",
       "    .dataframe tbody tr th {\n",
       "        vertical-align: top;\n",
       "    }\n",
       "\n",
       "    .dataframe thead th {\n",
       "        text-align: right;\n",
       "    }\n",
       "</style>\n",
       "<table border=\"1\" class=\"dataframe\">\n",
       "  <thead>\n",
       "    <tr style=\"text-align: right;\">\n",
       "      <th></th>\n",
       "      <th>제목</th>\n",
       "      <th>내용</th>\n",
       "      <th>작성시간</th>\n",
       "      <th>카페명</th>\n",
       "      <th>평가</th>\n",
       "      <th>전처리</th>\n",
       "    </tr>\n",
       "  </thead>\n",
       "  <tbody>\n",
       "    <tr>\n",
       "      <th>0</th>\n",
       "      <td>아이오닉5 휠베이스 3000의 가치</td>\n",
       "      <td>▶ 아이오닉5 휠베이스 3000의 가치_x000D_\\n_x000D_\\n서비스센터 갔...</td>\n",
       "      <td>2021-01-12 17:01:00</td>\n",
       "      <td>전기차동호회</td>\n",
       "      <td>P</td>\n",
       "      <td>아이오 닉 휠 베이스 가치 서비스 센터 가다 부품 수급 문제 로 렌터카 받다 오다 ...</td>\n",
       "    </tr>\n",
       "    <tr>\n",
       "      <th>1</th>\n",
       "      <td>현대차 아이오닉5 vs 테슬라 모델Y, 뭘 살까요?</td>\n",
       "      <td>▶ 현대차 아이오닉5 vs 테슬라 모델Y, 뭘 살까요?_x000D_\\n_x000D_...</td>\n",
       "      <td>2021-02-23 21:36:00</td>\n",
       "      <td>전기차동호회</td>\n",
       "      <td>P</td>\n",
       "      <td>현대차 아이오 닉 테슬라 모델 뭘 살다 요 현대차 아이오 닉 테슬라 모델 뭘 살다 ...</td>\n",
       "    </tr>\n",
       "  </tbody>\n",
       "</table>\n",
       "</div>"
      ],
      "text/plain": [
       "                             제목  \\\n",
       "0           아이오닉5 휠베이스 3000의 가치   \n",
       "1  현대차 아이오닉5 vs 테슬라 모델Y, 뭘 살까요?   \n",
       "\n",
       "                                                  내용                 작성시간  \\\n",
       "0  ▶ 아이오닉5 휠베이스 3000의 가치_x000D_\\n_x000D_\\n서비스센터 갔...  2021-01-12 17:01:00   \n",
       "1  ▶ 현대차 아이오닉5 vs 테슬라 모델Y, 뭘 살까요?_x000D_\\n_x000D_...  2021-02-23 21:36:00   \n",
       "\n",
       "      카페명 평가                                                전처리  \n",
       "0  전기차동호회  P  아이오 닉 휠 베이스 가치 서비스 센터 가다 부품 수급 문제 로 렌터카 받다 오다 ...  \n",
       "1  전기차동호회  P  현대차 아이오 닉 테슬라 모델 뭘 살다 요 현대차 아이오 닉 테슬라 모델 뭘 살다 ...  "
      ]
     },
     "execution_count": 100,
     "metadata": {},
     "output_type": "execute_result"
    }
   ],
   "source": [
    "df_toflux.head(2)"
   ]
  },
  {
   "cell_type": "code",
   "execution_count": 21,
   "metadata": {},
   "outputs": [
    {
     "data": {
      "text/html": [
       "<div>\n",
       "<style scoped>\n",
       "    .dataframe tbody tr th:only-of-type {\n",
       "        vertical-align: middle;\n",
       "    }\n",
       "\n",
       "    .dataframe tbody tr th {\n",
       "        vertical-align: top;\n",
       "    }\n",
       "\n",
       "    .dataframe thead th {\n",
       "        text-align: right;\n",
       "    }\n",
       "</style>\n",
       "<table border=\"1\" class=\"dataframe\">\n",
       "  <thead>\n",
       "    <tr style=\"text-align: right;\">\n",
       "      <th></th>\n",
       "      <th>제목</th>\n",
       "      <th>날짜</th>\n",
       "      <th>내용</th>\n",
       "      <th>긍부정</th>\n",
       "      <th>href</th>\n",
       "      <th>year</th>\n",
       "      <th>lr긍부정</th>\n",
       "      <th>lr긍부정이진분류</th>\n",
       "      <th>감성사전긍부정</th>\n",
       "      <th>전기차문장</th>\n",
       "      <th>전기차본문감성분석</th>\n",
       "    </tr>\n",
       "  </thead>\n",
       "  <tbody>\n",
       "    <tr>\n",
       "      <th>0</th>\n",
       "      <td>2022년 4박 5일 신혼여행 후기 ing 제주도 (Feat. 일오반식당...</td>\n",
       "      <td>2022.03.17</td>\n",
       "      <td>제주도신혼여행후기내돈내산년 년 월 일 드뎌 결혼식이 끝나고 우도 가자마자 전기차를 ...</td>\n",
       "      <td>0</td>\n",
       "      <td>https://blog.naver.com/apple_378?Redirect=Log&amp;...</td>\n",
       "      <td>2022</td>\n",
       "      <td>E</td>\n",
       "      <td>P</td>\n",
       "      <td>E</td>\n",
       "      <td>​ 오랜만에 바다를 보니 뻥 뚫리고 좋았어여 ㅎㅎ  같이 커플 트레이닝복으로 맞추고...</td>\n",
       "      <td>P</td>\n",
       "    </tr>\n",
       "    <tr>\n",
       "      <th>1</th>\n",
       "      <td>제주공항숙소 시리우스 제주호텔: 트윈룸, 디럭스룸 장단점</td>\n",
       "      <td>2022.03.17</td>\n",
       "      <td>디럭스룸 후기 제주특별자치도 제주시 도령로  전화  공항의 지하 주차장은 지하층까지...</td>\n",
       "      <td>-1</td>\n",
       "      <td>https://blog.naver.com/zoonee96?Redirect=Log&amp;l...</td>\n",
       "      <td>2022</td>\n",
       "      <td>E</td>\n",
       "      <td>P</td>\n",
       "      <td>F</td>\n",
       "      <td>​ 공항의 지하 주차장은 지하4층까지 있고 지하 1층에 전기차 충전소가 있어요 주차...</td>\n",
       "      <td>N</td>\n",
       "    </tr>\n",
       "  </tbody>\n",
       "</table>\n",
       "</div>"
      ],
      "text/plain": [
       "                                            제목          날짜  \\\n",
       "0  2022년 4박 5일 신혼여행 후기 ing 제주도 (Feat. 일오반식당...  2022.03.17   \n",
       "1              제주공항숙소 시리우스 제주호텔: 트윈룸, 디럭스룸 장단점  2022.03.17   \n",
       "\n",
       "                                                  내용  긍부정  \\\n",
       "0  제주도신혼여행후기내돈내산년 년 월 일 드뎌 결혼식이 끝나고 우도 가자마자 전기차를 ...    0   \n",
       "1  디럭스룸 후기 제주특별자치도 제주시 도령로  전화  공항의 지하 주차장은 지하층까지...   -1   \n",
       "\n",
       "                                                href  year lr긍부정 lr긍부정이진분류  \\\n",
       "0  https://blog.naver.com/apple_378?Redirect=Log&...  2022     E         P   \n",
       "1  https://blog.naver.com/zoonee96?Redirect=Log&l...  2022     E         P   \n",
       "\n",
       "  감성사전긍부정                                              전기차문장 전기차본문감성분석  \n",
       "0       E  ​ 오랜만에 바다를 보니 뻥 뚫리고 좋았어여 ㅎㅎ  같이 커플 트레이닝복으로 맞추고...         P  \n",
       "1       F  ​ 공항의 지하 주차장은 지하4층까지 있고 지하 1층에 전기차 충전소가 있어요 주차...         N  "
      ]
     },
     "execution_count": 21,
     "metadata": {},
     "output_type": "execute_result"
    }
   ],
   "source": [
    "df_blog.head(2)"
   ]
  },
  {
   "cell_type": "code",
   "execution_count": 20,
   "metadata": {},
   "outputs": [
    {
     "data": {
      "text/html": [
       "<div>\n",
       "<style scoped>\n",
       "    .dataframe tbody tr th:only-of-type {\n",
       "        vertical-align: middle;\n",
       "    }\n",
       "\n",
       "    .dataframe tbody tr th {\n",
       "        vertical-align: top;\n",
       "    }\n",
       "\n",
       "    .dataframe thead th {\n",
       "        text-align: right;\n",
       "    }\n",
       "</style>\n",
       "<table border=\"1\" class=\"dataframe\">\n",
       "  <thead>\n",
       "    <tr style=\"text-align: right;\">\n",
       "      <th></th>\n",
       "      <th>제목</th>\n",
       "      <th>내용</th>\n",
       "      <th>댓글</th>\n",
       "      <th>유형</th>\n",
       "      <th>조회수</th>\n",
       "      <th>작성날짜</th>\n",
       "      <th>월별</th>\n",
       "      <th>카페명</th>\n",
       "      <th>년별</th>\n",
       "      <th>lr긍부정</th>\n",
       "      <th>lr긍부정이진</th>\n",
       "    </tr>\n",
       "  </thead>\n",
       "  <tbody>\n",
       "    <tr>\n",
       "      <th>0</th>\n",
       "      <td>봉고3더블캡</td>\n",
       "      <td>보다 투명하고 빠른 거래를 위하여 아래의 글 양식을 준수하여 주세요   거래 지역...</td>\n",
       "      <td>가격이 궁금해요..^^\\n얼마인가요ㅡ\\n</td>\n",
       "      <td>제사모 중고장터</td>\n",
       "      <td>130</td>\n",
       "      <td>2022.03.16.</td>\n",
       "      <td>2022.03</td>\n",
       "      <td>제사모</td>\n",
       "      <td>2022</td>\n",
       "      <td>P</td>\n",
       "      <td>P</td>\n",
       "    </tr>\n",
       "    <tr>\n",
       "      <th>1</th>\n",
       "      <td>렌트카 알아보고 있는데 lpg 차량이 저렴한 이유가 뭘까요?</td>\n",
       "      <td>육지에서 이번주 토욜부터 제주 한달살이 시작하면서 렌트카 알아보고 있어요 육지에선 ...</td>\n",
       "      <td>요즘 전기차가 대세기도 하지만 가스값 장난아니게 올랏어요...또한 한달살기라면 자차...</td>\n",
       "      <td>Q. 종합 질문방</td>\n",
       "      <td>161</td>\n",
       "      <td>2022.03.16.</td>\n",
       "      <td>2022.03</td>\n",
       "      <td>제사모</td>\n",
       "      <td>2022</td>\n",
       "      <td>N</td>\n",
       "      <td>N</td>\n",
       "    </tr>\n",
       "  </tbody>\n",
       "</table>\n",
       "</div>"
      ],
      "text/plain": [
       "                                  제목  \\\n",
       "0                             봉고3더블캡   \n",
       "1  렌트카 알아보고 있는데 lpg 차량이 저렴한 이유가 뭘까요?   \n",
       "\n",
       "                                                  내용  \\\n",
       "0   보다 투명하고 빠른 거래를 위하여 아래의 글 양식을 준수하여 주세요   거래 지역...   \n",
       "1  육지에서 이번주 토욜부터 제주 한달살이 시작하면서 렌트카 알아보고 있어요 육지에선 ...   \n",
       "\n",
       "                                                  댓글         유형  조회수  \\\n",
       "0                             가격이 궁금해요..^^\\n얼마인가요ㅡ\\n   제사모 중고장터  130   \n",
       "1  요즘 전기차가 대세기도 하지만 가스값 장난아니게 올랏어요...또한 한달살기라면 자차...  Q. 종합 질문방  161   \n",
       "\n",
       "          작성날짜       월별  카페명    년별 lr긍부정 lr긍부정이진  \n",
       "0  2022.03.16.  2022.03  제사모  2022     P       P  \n",
       "1  2022.03.16.  2022.03  제사모  2022     N       N  "
      ]
     },
     "execution_count": 20,
     "metadata": {},
     "output_type": "execute_result"
    }
   ],
   "source": [
    "df_cafe.head(2)"
   ]
  },
  {
   "cell_type": "code",
   "execution_count": 33,
   "metadata": {},
   "outputs": [
    {
     "data": {
      "text/plain": [
       "Index(['제목', '내용', '댓글', '유형', '조회수', '작성날짜', '월별', '카페명', '년별', 'lr긍부정',\n",
       "       'lr긍부정이진'],\n",
       "      dtype='object')"
      ]
     },
     "execution_count": 33,
     "metadata": {},
     "output_type": "execute_result"
    }
   ],
   "source": [
    "df_cafe.columns"
   ]
  },
  {
   "cell_type": "code",
   "execution_count": 117,
   "metadata": {},
   "outputs": [],
   "source": [
    "df_cafe_commet =pd.DataFrame(\n",
    "    {\n",
    "    '제목':df_cafe.제목,\n",
    "    '내용':df_cafe.댓글,\n",
    "    '작성날짜':df_cafe.작성날짜,\n",
    "    '카페명':df_cafe.카페명,\n",
    "    '평가':df_cafe.lr긍부정,\n",
    "    '월별':df_cafe.월별,\n",
    "    '년별':df_cafe.년별,\n",
    "    }    \n",
    ")"
   ]
  },
  {
   "cell_type": "code",
   "execution_count": 122,
   "metadata": {},
   "outputs": [],
   "source": [
    "df_cafe_commet['내용'] = df_cafe_commet['내용'].apply(lambda x : None if x in ['내용없음','댓글이 없습니다','\\n'] else x)"
   ]
  },
  {
   "cell_type": "code",
   "execution_count": 123,
   "metadata": {},
   "outputs": [
    {
     "data": {
      "text/plain": [
       "이야~~사진 너무예쁘네요^^\\n낼출발하는데 기대많이하고하겠습니당당\\n서쪽이 진리였네요ㅠㅠ\\n동쪽에 가까워지니 눈길이 많아요ㅋ\\n꽁닥네용작흑ㅡㅜ\\n눈길운전조심하세요~\\n삭제된 댓글입니다.\\n헉 저흰 나와서 광치기해변 가고 있어요ㅋㅋ\\n만날뻔 했네요ㅠㅠ\\n햇살 비치는 오징어 자태가 넘 이쁜데요 ㅎㅎ\\n춘미향에서도 꼭 한끼 먹어봐야겠다는~^^*\\nㅎㅎ꼭 점심에 가셔요\\n2시에 주문 마감입니다^^\\n슈퍼그레잇 고기정식 정보부탁드려요^^\\n춘미향이요^^\\n저도 널린 오징어 득템하고 춘미향 들러봐야 겠어요~~ 사진 너무 좋네요\\n                                                                                                                                                                                                                                                                                                                                                                                                                                                                                                                                                                                                                                                                                                                                                                                                                                                                                   12\n",
       "스마트공항 이라는 어플 깔면\\n결항이나 지연 여부 알 수 있어요\\n앗 감사합니다 안그래도 그거 찾고 있었는데 이름이 생각이 안나서 ..\\n두루치기는 어디예요??ㅎ저도 2월에 숙소가롯데인데 사진보니 설레이네요~^^드래곤쇼 자리는 있는데 쇼를안한다니 그게 아쉽네요~\\n저도 화산쇼 작년에 끝났다고 ㅜㅠ 흑흑.. 해안도로 따라오다 급검색해서 들른 구이사이집인데요 오겹살이랑 정식 시켜먹었는데 애들이 저 돼지불고기? 맛나다고 얌얌 고등어 맛나다고 먹고 전 오겹살 엄청 맛나게 먹었네요 강추요\\n아메한잔작년에 화산쇼 넘잼나게봐서 이번에는 혼자본쇼라 부모님모시고가는데 결굴못보여드리네요~거기음식점가봐야겠어요ㅎㅎ감사합니다~\\n이쁜시연맘오겹살 .. 생고기 넘 쫄깃 맛났고요 ㅋ 양도 많았어요\\n여기 협재쪽은 눈도 엄청오고..ㅜ.ㅜ\\n바람도 미친듯이 부네요 ㅜ.ㅜ\\n오는 족족 다 얼었어요 ㅜ.ㅜ\\n                                                                                                                                                                                                                                                                                                                                                                                                                                                                                                                                                                                                                                                                                                                                  11\n",
       "전, 바다의집은 성게비빔밥 맛있게 먹었었어요. 성게미역국은 저도 간이 너무 쎄더라구여 :)\\n비빔밥을 먹을껄 그랬나봐요ㅠ\\n삭제된 댓글입니다.\\n오타죄송해용ㅜ\\n봉실이네비가 다른곳을 알려주더라구요 ㅠㅠㅠㅠㅠㅠㅠ\\n자세한 후기 감사합니다~\\n도움이되시길 바라며 올려봅니다^^\\n후기감사합니다~~~^^ 다음주 가는데 다 가보고 싶네요~~^^\\n좋은여행되용\\n                                                                                                                                                                                                                                                                                                                                                                                                                                                                                                                                                                                                                                                                                                                                                                                                                                                                                                                                                                                  11\n",
       "잘가셔야할텐데 ...서두르시고\\n남조로 타려 했더니 체인이네요;;\\n그래서 일주도로로^^\\n지연씨 만나지 않고 비행기 타면 좋겠어요\\n아고 운전조심하셔요ㅜ\\n네\\n감사합니다\\n안전운전이 최고죠^^\\n저도 내일 제주 넘어가야하는데 서귀포에서 일주 도로로 가야할듯. 체인은 다 터져 버리고. 조심해서 가세요.\\n내일 오후면 좀 나아지지 싶어요^^\\n운전 조심하세요\\n일주도로로 움직이시는게 좋을듯 합니다~\\n한경에서 협재까지는 도로 다 녹았어요~~\\n위미에서 제주시까지 3시간 넘게 걸렸어요;;\\n성산부터는 30km로 이동;;\\n삭제된 댓글입니다.\\n설마....본명이 지연씨??\\n벌써 지연씨 만나서 9시 뱅기인데 11시로 지연씨 만났어요\\n조심해서 오세요\\n공항 수속은 끝났는데 3시간이나 기다려야 하네요\\n여기서 더 지연되면;;;\\n저도 남원 위미리인데요. 낼 낮2시 뱅기타야하는데.. 남편없이 저랑 애들만 있어서 걱정이 앞서네요.. 일주도로로 타고간다면 중문.한경.협재방향으로 가야하나요? 성산.함덕방향으로 가야하나요?\\n전 성산 함덕쪽으로 왔는데\\n거의 4시간 걸렸어요;;;\\n루까의집정말.. 헉.. ;;; 눈길 운전 경험이 없어서 아이 둘 태우고 가려니 걱정이네요ㅡㅡ 빨리 눈 좀 그치길 기도하며 자야 겠어요^^;;\\nyoung7924아니면 렌트 연장하시고 숙박도 연장하세요\\n제가 보기엔 내일 2시면 좀 운전이 애매하긴할것같아요;;\\n그냥 아이들도 있으니 안전이 더 중요합니다\\n루까의집네..그래야할것같아요. 남편 빈자리가 크게 느껴지네요^^;: 지금도 눈이 계속오니..낼2시 뱅기 취소하고 늦은 저녁 뱅기로 가든 익일 아침으로 가든..낼 아침 일어나 결정해야겠어요. 불안하니 빨리 집에 가고프지만 공항가는길 안전이 문제니까요^^;; 좋은말씀 감사합니다. ^^\\n삭제된 댓글입니다.\\n하루에 두번이나 해야하니까요;;\\n게다가 충전기 고장난게 생각보다 많더라고요\\n도착하시면 도로 사정 댓글 부탁합니다.\\n위미 성산 함덕 제주시 이쪽으로 왔는데 평균 30km로 주행했어요;;;\\n우찌되셨는지..\\n공항입성~~~\\n지연씨가 아주 환대해주십니다\\n2시간이나;;\\n루까의집안전하게 도착하셔서 다행이네요^^ 지연씨는 얄밉지만..\\nyoung7924나중에 또 상황이 변할수도 있어요\\n그냥 지연씨로도 만족해야죠\\n결항된 분들도 계시니까요\\n    11\n",
       "대리운전도 알아보세요\\n                                                                                                                                                                                                                                                                                                                                                                                                                                                                                                                                                                                                                                                                                                                                                                                                                                                                                                                                                                                                                                                                                                                                                                           11\n",
       "                                                                                                                                                                                                                                                                                                                                                                                                                                                                                                                                                                                                                                                                                                                                                                                                                                                                                                                                                                                                                                                                                                                                                                                        ..\n",
       "어차피 2명이면 뒷좌석은 안 쓰니 그냥 편한 걸로 하세요.\\n2명이면 그냥 경차타도 됩니다.\\n산타페타다가 경차 또는 k3 같이 차체 낮은 차량을 타면 적응에 있어 괜찮을까요?\\n옛날에 k3를 렌트해본 적이 있었는데 운전이 힘들진 않았지만 많이 어색했던 기억이 있습니다 ㅠㅠ..\\n항상항상어색하긴 해요.\\n전 아버지 차는 테라칸, 경차 한대 상시 운전하고 수시로 필요할 때 스파크넥스트, 티볼리, 코나, 아반떼 쏘카 렌트하는데 어차피 운전하는 건 같아요.\\n돈때문이면 그냥 저렴한 거 하셔도 되요.\\nAitch늦은 시간에 좋은 답변 감사합니다!ㅎㅎ\\n내차 아니면 다 어색해요 30분만타면\\n\\n적응됩니다\\n감사합니다! 혹시 2인 기준으로 추천해주실만한 차종 있으신지요?..\\n항상항상편하게 타실려면 케이파이브\\n\\n좀 작으셔도 되면 아방이\\n\\n둘이 가격차이는 안날듯 해요\\n\\n모닝 아니면 가격차이 별루안납니다\\n\\n그냥 저는 갈때마다 케이 5 빌려탑니다\\n창원제주늦은 시간에 좋은 답변 감사합니다ㅎㅎ 창원제주님!\\n항상항상좋은 여행하세요\\n레이타고 여행중인데 내차인듯 금방적응되어요^^\\n티볼리는 정말 비추요 소음도 심하고 기름도 많이 먹어요.\\n                                                                                                                                                                                                                                                                                                                                                                                                                                                                                                                                                                             1\n",
       "저렴한데 추천 많이 하는건 빌리카업체.. 중형정도 하시면 넉넉하고.. 유류비 아끼시려면 전기차 코나 하실수도 있죠. 좀더 저렴하게 가려면 보험이 불안불안면은 있지만 카페 제휴도 싼맛에 쓰기 괜찮다는 후기들 있었어요..\\n네~\\n빌*카 알아보세요\\n겨울이라 사고위험 많아 메이저급으로 완전자차로 자세히 알아보고 타세요\\n빌리카에서 48시간 8만500원에 전기차 니로 ev 완전자차로 빌려서 충전료 비제휴에서 5천원 쓰고 2박3일간 270키로 주행했습니다 겨울이라 체인도 넣어주고요 반응속도가 기름차보다 빨라서 좋았습니다\\n전기차 어디서 예약하셨어요? 위메프에는 전기차 검색안되고 홈피도 안되서 타업체 알아보고있거든오\\n둘맘 asuka38x빌리카라고 적혀있네요\\n포메요빌리카에 전기차 검색이안되어서 어디서 결제했는지 물어본거에요~\\n둘맘 asuka38x그냥 직접 어플에서 했습니다 완전자차는 얼마 차이 안나요 ev차종이 인기가 많은지.. 시간을 여러가지로 넣어보세요 한시간전 한시간후 이렇게요\\n서울제주차량검색에 전기차가 안떠서요 ㅠㅠ 차량 일일히 다 검색해볼게요~ 전기차가 있다는것만으로 희망적이네요@!\\n둘맘 asuka38x저희껀 도착시간 한시간후로 넣고 찾아서 받았어요 그전차는 한시간전으로해서 받았구요 한두시간 더낸다 생각하고 찾아보세요\\n저는 소나타dn8 평일 75시간 10만6천원 정도에 했네요.. 카모아어플 신규가입으로 만원할인받아서요... 보험은 휴차보상료 안되는 무제한이구요..\\n이번에 sk에서 아반떼 3박4일 7만원대에 했어요. 저렴한 곳보다 더 저렴한데 안전하고 차 상태가 좋아서 만족이에요\\n진짜 저렴이네요\\n느영나영이요\\n                                                                                                                                                                                                                                                                                                                                                 1\n",
       "충전사업자에게 문의하세요\\n충전사업자=충전기 설치회사\\n후불 교통카드만 되는데 일반 카드도 되는 기계가 있긴해요.근데 그런 기계 찾기가 힘들더라구요.전에 숙소가 서귀포 신시가지 쪽이라 일반 카드로 충전 하긴 했었어요.삼성페이 되는 기계는 못본듯해요.티머니 카드로는 안되구요.전기차 처음이시면 될수있으면 개인카드 쓰시는것 보다 렌트카 회사에서 충전카드 구입하시는걸 권해드려요.숙소에 따라 다르지만 일반 카드 되는 기계가 최신 기계라 찾기가 힘들더라구요ㅠ\\n                                                                                                                                                                                                                                                                                                                                                                                                                                                                                                                                                                                                                                                                                                                                                                                                                                                                                                                           1\n",
       "넹 많이\\n위험하지는안습니다.\\n감사해요~ ^^\\n셀리나님 오늘 우도 들어가는데 전기차 대여 정보 얻을 수 있을까요?^^\\n                                                                                                                                                                                                                                                                                                                                                                                                                                                                                                                                                                                                                                                                                                                                                                                                                                                                                                                                                                                                                                                                                                                    1\n",
       "0\\n                                                                                                                                                                                                                                                                                                                                                                                                                                                                                                                                                                                                                                                                                                                                                                                                                                                                                                                                                                                                                                                                                                                                                                                      1\n",
       "Name: 내용, Length: 4595, dtype: int64"
      ]
     },
     "execution_count": 123,
     "metadata": {},
     "output_type": "execute_result"
    }
   ],
   "source": [
    "df_cafe_commet.내용.value_counts()"
   ]
  },
  {
   "cell_type": "code",
   "execution_count": 126,
   "metadata": {},
   "outputs": [],
   "source": [
    "df_cafe_commet.dropna(inplace=True)"
   ]
  },
  {
   "cell_type": "code",
   "execution_count": 127,
   "metadata": {},
   "outputs": [
    {
     "data": {
      "text/html": [
       "<div>\n",
       "<style scoped>\n",
       "    .dataframe tbody tr th:only-of-type {\n",
       "        vertical-align: middle;\n",
       "    }\n",
       "\n",
       "    .dataframe tbody tr th {\n",
       "        vertical-align: top;\n",
       "    }\n",
       "\n",
       "    .dataframe thead th {\n",
       "        text-align: right;\n",
       "    }\n",
       "</style>\n",
       "<table border=\"1\" class=\"dataframe\">\n",
       "  <thead>\n",
       "    <tr style=\"text-align: right;\">\n",
       "      <th></th>\n",
       "      <th>제목</th>\n",
       "      <th>내용</th>\n",
       "      <th>작성날짜</th>\n",
       "      <th>카페명</th>\n",
       "      <th>평가</th>\n",
       "      <th>월별</th>\n",
       "      <th>년별</th>\n",
       "    </tr>\n",
       "  </thead>\n",
       "  <tbody>\n",
       "    <tr>\n",
       "      <th>0</th>\n",
       "      <td>봉고3더블캡</td>\n",
       "      <td>가격이 궁금해요..^^\\n얼마인가요ㅡ\\n</td>\n",
       "      <td>2022.03.16.</td>\n",
       "      <td>제사모</td>\n",
       "      <td>P</td>\n",
       "      <td>2022.03</td>\n",
       "      <td>2022</td>\n",
       "    </tr>\n",
       "    <tr>\n",
       "      <th>1</th>\n",
       "      <td>렌트카 알아보고 있는데 lpg 차량이 저렴한 이유가 뭘까요?</td>\n",
       "      <td>요즘 전기차가 대세기도 하지만 가스값 장난아니게 올랏어요...또한 한달살기라면 자차...</td>\n",
       "      <td>2022.03.16.</td>\n",
       "      <td>제사모</td>\n",
       "      <td>N</td>\n",
       "      <td>2022.03</td>\n",
       "      <td>2022</td>\n",
       "    </tr>\n",
       "    <tr>\n",
       "      <th>5</th>\n",
       "      <td>여행 고수님들 추천좀 해주세요</td>\n",
       "      <td>렌트카는 가스 예요.\\n평소 본인이 운전하기 편한차로 하세요.\\n74시간이면 2박3...</td>\n",
       "      <td>2022.03.14.</td>\n",
       "      <td>제사모</td>\n",
       "      <td>P</td>\n",
       "      <td>2022.03</td>\n",
       "      <td>2022</td>\n",
       "    </tr>\n",
       "    <tr>\n",
       "      <th>8</th>\n",
       "      <td>전기차 신차급</td>\n",
       "      <td>팔렸나요?\\n</td>\n",
       "      <td>2022.03.10.</td>\n",
       "      <td>제사모</td>\n",
       "      <td>E</td>\n",
       "      <td>2022.03</td>\n",
       "      <td>2022</td>\n",
       "    </tr>\n",
       "    <tr>\n",
       "      <th>12</th>\n",
       "      <td>제주공항 전기차 주차요금..</td>\n",
       "      <td>승용차는 모두 소형입니다.\\n저공해차량 50% 할인.\\n공항에\\n소형 대형 분류는\\...</td>\n",
       "      <td>2022.03.05.</td>\n",
       "      <td>제사모</td>\n",
       "      <td>E</td>\n",
       "      <td>2022.03</td>\n",
       "      <td>2022</td>\n",
       "    </tr>\n",
       "    <tr>\n",
       "      <th>...</th>\n",
       "      <td>...</td>\n",
       "      <td>...</td>\n",
       "      <td>...</td>\n",
       "      <td>...</td>\n",
       "      <td>...</td>\n",
       "      <td>...</td>\n",
       "      <td>...</td>\n",
       "    </tr>\n",
       "    <tr>\n",
       "      <th>5909</th>\n",
       "      <td>제주도 전기차 도민 공모</td>\n",
       "      <td>보급대수 규모가 차원이 틀리네요..ㅎㅎ\\n</td>\n",
       "      <td>2015.03.17.</td>\n",
       "      <td>전기차동호회</td>\n",
       "      <td>E</td>\n",
       "      <td>2015.03</td>\n",
       "      <td>2015</td>\n",
       "    </tr>\n",
       "    <tr>\n",
       "      <th>5910</th>\n",
       "      <td>[링크스크랩] 100% 순수 전기차 ‘SM3 Z.E.’ 보급 위해 특별 할인 제공</td>\n",
       "      <td>정부 보조금 까지 받게 된다면 엄청 싸게 살수 있겠네요....서울에서 다시 보조금 ...</td>\n",
       "      <td>2015.03.08.</td>\n",
       "      <td>전기차동호회</td>\n",
       "      <td>E</td>\n",
       "      <td>2015.03</td>\n",
       "      <td>2015</td>\n",
       "    </tr>\n",
       "    <tr>\n",
       "      <th>5911</th>\n",
       "      <td>[링크스크랩] 자동차 업계, 제주도 전기차 민간 보급 공모 총력전…가격 인하 이어져</td>\n",
       "      <td>쏘울 내일 받는데 100만원 낮아지다니....ㅠㅠ\\n서울도 다시한번더 보조금 지원하...</td>\n",
       "      <td>2015.03.04.</td>\n",
       "      <td>전기차동호회</td>\n",
       "      <td>E</td>\n",
       "      <td>2015.03</td>\n",
       "      <td>2015</td>\n",
       "    </tr>\n",
       "    <tr>\n",
       "      <th>5912</th>\n",
       "      <td>등업부탁해요 하반기 전기차를 신청하고싶었는데</td>\n",
       "      <td>반가워요~~😊\\n내년에 제주도 전기차 공급량이 대박이던데 좋은소식 있으시길...\\n...</td>\n",
       "      <td>2014.10.26.</td>\n",
       "      <td>전기차동호회</td>\n",
       "      <td>P</td>\n",
       "      <td>2014.10</td>\n",
       "      <td>2014</td>\n",
       "    </tr>\n",
       "    <tr>\n",
       "      <th>5913</th>\n",
       "      <td>ㅇㅇ</td>\n",
       "      <td>0\\n</td>\n",
       "      <td>2014.06.21.</td>\n",
       "      <td>전기차동호회</td>\n",
       "      <td>E</td>\n",
       "      <td>2014.06</td>\n",
       "      <td>2014</td>\n",
       "    </tr>\n",
       "  </tbody>\n",
       "</table>\n",
       "<p>5079 rows × 7 columns</p>\n",
       "</div>"
      ],
      "text/plain": [
       "                                                  제목  \\\n",
       "0                                             봉고3더블캡   \n",
       "1                  렌트카 알아보고 있는데 lpg 차량이 저렴한 이유가 뭘까요?   \n",
       "5                                   여행 고수님들 추천좀 해주세요   \n",
       "8                                            전기차 신차급   \n",
       "12                                   제주공항 전기차 주차요금..   \n",
       "...                                              ...   \n",
       "5909                                   제주도 전기차 도민 공모   \n",
       "5910   [링크스크랩] 100% 순수 전기차 ‘SM3 Z.E.’ 보급 위해 특별 할인 제공   \n",
       "5911  [링크스크랩] 자동차 업계, 제주도 전기차 민간 보급 공모 총력전…가격 인하 이어져   \n",
       "5912                        등업부탁해요 하반기 전기차를 신청하고싶었는데   \n",
       "5913                                              ㅇㅇ   \n",
       "\n",
       "                                                     내용         작성날짜     카페명  \\\n",
       "0                                가격이 궁금해요..^^\\n얼마인가요ㅡ\\n  2022.03.16.     제사모   \n",
       "1     요즘 전기차가 대세기도 하지만 가스값 장난아니게 올랏어요...또한 한달살기라면 자차...  2022.03.16.     제사모   \n",
       "5     렌트카는 가스 예요.\\n평소 본인이 운전하기 편한차로 하세요.\\n74시간이면 2박3...  2022.03.14.     제사모   \n",
       "8                                               팔렸나요?\\n  2022.03.10.     제사모   \n",
       "12    승용차는 모두 소형입니다.\\n저공해차량 50% 할인.\\n공항에\\n소형 대형 분류는\\...  2022.03.05.     제사모   \n",
       "...                                                 ...          ...     ...   \n",
       "5909                            보급대수 규모가 차원이 틀리네요..ㅎㅎ\\n  2015.03.17.  전기차동호회   \n",
       "5910  정부 보조금 까지 받게 된다면 엄청 싸게 살수 있겠네요....서울에서 다시 보조금 ...  2015.03.08.  전기차동호회   \n",
       "5911  쏘울 내일 받는데 100만원 낮아지다니....ㅠㅠ\\n서울도 다시한번더 보조금 지원하...  2015.03.04.  전기차동호회   \n",
       "5912  반가워요~~😊\\n내년에 제주도 전기차 공급량이 대박이던데 좋은소식 있으시길...\\n...  2014.10.26.  전기차동호회   \n",
       "5913                                                0\\n  2014.06.21.  전기차동호회   \n",
       "\n",
       "     평가       월별    년별  \n",
       "0     P  2022.03  2022  \n",
       "1     N  2022.03  2022  \n",
       "5     P  2022.03  2022  \n",
       "8     E  2022.03  2022  \n",
       "12    E  2022.03  2022  \n",
       "...  ..      ...   ...  \n",
       "5909  E  2015.03  2015  \n",
       "5910  E  2015.03  2015  \n",
       "5911  E  2015.03  2015  \n",
       "5912  P  2014.10  2014  \n",
       "5913  E  2014.06  2014  \n",
       "\n",
       "[5079 rows x 7 columns]"
      ]
     },
     "execution_count": 127,
     "metadata": {},
     "output_type": "execute_result"
    }
   ],
   "source": [
    "df_cafe_commet"
   ]
  },
  {
   "cell_type": "markdown",
   "metadata": {},
   "source": [
    "#### 댓글칼럼 토큰화 및 머신러닝"
   ]
  },
  {
   "cell_type": "code",
   "execution_count": 128,
   "metadata": {},
   "outputs": [],
   "source": [
    "df_cafe_commet['token']=df_cafe_commet.내용.apply(lambda x : re.sub('[^가-힣]',' ',x))"
   ]
  },
  {
   "cell_type": "code",
   "execution_count": 129,
   "metadata": {},
   "outputs": [
    {
     "name": "stderr",
     "output_type": "stream",
     "text": [
      "100%|██████████| 5079/5079 [01:58<00:00, 42.76it/s] \n"
     ]
    }
   ],
   "source": [
    "stop_text = '은 는 이 가 을 를 의 에게 에 들 좀 잘 과 도 으로 자 와 ㅋㅋ ㅠㅠ ㅎㅎ'\n",
    "stopwords = stop_text.split()\n",
    "X_val = []\n",
    "for sentence in tqdm(df_cafe_commet.token):\n",
    "    morphs = okt.morphs(sentence, stem=True)\n",
    "    tmp_list = [word for word in morphs if word not in stopwords]\n",
    "    tmp_str = ' '.join(tmp_list)\n",
    "    X_val.append(tmp_str)"
   ]
  },
  {
   "cell_type": "code",
   "execution_count": 130,
   "metadata": {},
   "outputs": [],
   "source": [
    "df_cafe_commet['token'] = X_val"
   ]
  },
  {
   "cell_type": "code",
   "execution_count": 49,
   "metadata": {
    "execution": {
     "iopub.execute_input": "2022-03-26T05:58:47.995740Z",
     "iopub.status.busy": "2022-03-26T05:58:47.994140Z",
     "iopub.status.idle": "2022-03-26T05:58:48.008190Z",
     "shell.execute_reply": "2022-03-26T05:58:48.007778Z",
     "shell.execute_reply.started": "2022-03-26T05:58:47.995672Z"
    },
    "tags": []
   },
   "outputs": [
    {
     "data": {
      "text/plain": [
       "LabelEncoder()"
      ]
     },
     "execution_count": 49,
     "metadata": {},
     "output_type": "execute_result"
    }
   ],
   "source": [
    "la = LabelEncoder()\n",
    "la.fit(df_train.평가)"
   ]
  },
  {
   "cell_type": "code",
   "execution_count": 46,
   "metadata": {
    "execution": {
     "iopub.execute_input": "2022-03-26T05:58:31.989299Z",
     "iopub.status.busy": "2022-03-26T05:58:31.988806Z",
     "iopub.status.idle": "2022-03-26T05:58:32.278328Z",
     "shell.execute_reply": "2022-03-26T05:58:32.277455Z",
     "shell.execute_reply.started": "2022-03-26T05:58:31.989220Z"
    },
    "tags": []
   },
   "outputs": [],
   "source": [
    "X_train,X_test,y_train,y_test = train_test_split(\n",
    "    df_train.전처리,df_train.평가,stratify=df_train.평가,random_state=2022\n",
    ")"
   ]
  },
  {
   "cell_type": "code",
   "execution_count": 50,
   "metadata": {
    "execution": {
     "iopub.execute_input": "2022-03-26T05:58:49.431643Z",
     "iopub.status.busy": "2022-03-26T05:58:49.431130Z",
     "iopub.status.idle": "2022-03-26T05:58:49.477819Z",
     "shell.execute_reply": "2022-03-26T05:58:49.476992Z",
     "shell.execute_reply.started": "2022-03-26T05:58:49.431605Z"
    }
   },
   "outputs": [],
   "source": [
    "y_train_la = la.transform(y_train)\n",
    "y_test_la = la.transform(y_test)"
   ]
  },
  {
   "cell_type": "code",
   "execution_count": 51,
   "metadata": {
    "execution": {
     "iopub.execute_input": "2022-03-26T05:58:52.093044Z",
     "iopub.status.busy": "2022-03-26T05:58:52.092418Z",
     "iopub.status.idle": "2022-03-26T05:59:05.009661Z",
     "shell.execute_reply": "2022-03-26T05:59:05.008818Z",
     "shell.execute_reply.started": "2022-03-26T05:58:52.092984Z"
    }
   },
   "outputs": [
    {
     "data": {
      "text/plain": [
       "CountVectorizer()"
      ]
     },
     "execution_count": 51,
     "metadata": {},
     "output_type": "execute_result"
    }
   ],
   "source": [
    "\n",
    "cvect = CountVectorizer()\n",
    "cvect.fit(X_train)"
   ]
  },
  {
   "cell_type": "code",
   "execution_count": 52,
   "metadata": {
    "execution": {
     "iopub.execute_input": "2022-03-26T05:59:05.011024Z",
     "iopub.status.busy": "2022-03-26T05:59:05.010785Z",
     "iopub.status.idle": "2022-03-26T05:59:14.732692Z",
     "shell.execute_reply": "2022-03-26T05:59:14.731668Z",
     "shell.execute_reply.started": "2022-03-26T05:59:05.010996Z"
    }
   },
   "outputs": [],
   "source": [
    "X_train_cv=cvect.transform(X_train)\n",
    "X_test_cv=cvect.transform(X_test)\n",
    "X_val_cv=cvect.transform(X_val)"
   ]
  },
  {
   "cell_type": "code",
   "execution_count": 53,
   "metadata": {
    "execution": {
     "iopub.execute_input": "2022-03-26T05:59:14.733802Z",
     "iopub.status.busy": "2022-03-26T05:59:14.733606Z",
     "iopub.status.idle": "2022-03-26T06:00:34.406355Z",
     "shell.execute_reply": "2022-03-26T06:00:34.406001Z",
     "shell.execute_reply.started": "2022-03-26T05:59:14.733774Z"
    }
   },
   "outputs": [
    {
     "name": "stderr",
     "output_type": "stream",
     "text": [
      "/home/miwoos/anaconda3/lib/python3.9/site-packages/sklearn/linear_model/_logistic.py:763: ConvergenceWarning: lbfgs failed to converge (status=1):\n",
      "STOP: TOTAL NO. of ITERATIONS REACHED LIMIT.\n",
      "\n",
      "Increase the number of iterations (max_iter) or scale the data as shown in:\n",
      "    https://scikit-learn.org/stable/modules/preprocessing.html\n",
      "Please also refer to the documentation for alternative solver options:\n",
      "    https://scikit-learn.org/stable/modules/linear_model.html#logistic-regression\n",
      "  n_iter_i = _check_optimize_result(\n"
     ]
    },
    {
     "data": {
      "text/plain": [
       "LogisticRegression(max_iter=350)"
      ]
     },
     "execution_count": 53,
     "metadata": {},
     "output_type": "execute_result"
    }
   ],
   "source": [
    "lr = LogisticRegression(max_iter=350)\n",
    "lr.fit(X_train_cv,y_train_la)"
   ]
  },
  {
   "cell_type": "code",
   "execution_count": 55,
   "metadata": {
    "execution": {
     "iopub.execute_input": "2022-03-26T06:00:39.211186Z",
     "iopub.status.busy": "2022-03-26T06:00:39.210473Z",
     "iopub.status.idle": "2022-03-26T06:00:39.247269Z",
     "shell.execute_reply": "2022-03-26T06:00:39.246435Z",
     "shell.execute_reply.started": "2022-03-26T06:00:39.211129Z"
    },
    "tags": []
   },
   "outputs": [
    {
     "data": {
      "text/plain": [
       "0.814782917067734"
      ]
     },
     "execution_count": 55,
     "metadata": {},
     "output_type": "execute_result"
    }
   ],
   "source": [
    "lr.score(X_test_cv,y_test_la)"
   ]
  },
  {
   "cell_type": "code",
   "execution_count": 132,
   "metadata": {},
   "outputs": [
    {
     "data": {
      "text/plain": [
       "array(['E', 'P', 'P', ..., 'P', 'P', 'E'], dtype=object)"
      ]
     },
     "execution_count": 132,
     "metadata": {},
     "output_type": "execute_result"
    }
   ],
   "source": [
    "la.inverse_transform(lr.predict(X_val_cv))"
   ]
  },
  {
   "cell_type": "code",
   "execution_count": 133,
   "metadata": {},
   "outputs": [],
   "source": [
    "df_cafe_commet['평가']=la.inverse_transform(lr.predict(X_val_cv))"
   ]
  },
  {
   "cell_type": "code",
   "execution_count": 134,
   "metadata": {},
   "outputs": [
    {
     "data": {
      "text/html": [
       "<div>\n",
       "<style scoped>\n",
       "    .dataframe tbody tr th:only-of-type {\n",
       "        vertical-align: middle;\n",
       "    }\n",
       "\n",
       "    .dataframe tbody tr th {\n",
       "        vertical-align: top;\n",
       "    }\n",
       "\n",
       "    .dataframe thead th {\n",
       "        text-align: right;\n",
       "    }\n",
       "</style>\n",
       "<table border=\"1\" class=\"dataframe\">\n",
       "  <thead>\n",
       "    <tr style=\"text-align: right;\">\n",
       "      <th></th>\n",
       "      <th>제목</th>\n",
       "      <th>내용</th>\n",
       "      <th>작성날짜</th>\n",
       "      <th>카페명</th>\n",
       "      <th>평가</th>\n",
       "      <th>월별</th>\n",
       "      <th>년별</th>\n",
       "      <th>token</th>\n",
       "    </tr>\n",
       "  </thead>\n",
       "  <tbody>\n",
       "    <tr>\n",
       "      <th>0</th>\n",
       "      <td>봉고3더블캡</td>\n",
       "      <td>가격이 궁금해요..^^\\n얼마인가요ㅡ\\n</td>\n",
       "      <td>2022.03.16.</td>\n",
       "      <td>제사모</td>\n",
       "      <td>E</td>\n",
       "      <td>2022.03</td>\n",
       "      <td>2022</td>\n",
       "      <td>가격 궁금하다 얼마 인가요</td>\n",
       "    </tr>\n",
       "    <tr>\n",
       "      <th>1</th>\n",
       "      <td>렌트카 알아보고 있는데 lpg 차량이 저렴한 이유가 뭘까요?</td>\n",
       "      <td>요즘 전기차가 대세기도 하지만 가스값 장난아니게 올랏어요...또한 한달살기라면 자차...</td>\n",
       "      <td>2022.03.16.</td>\n",
       "      <td>제사모</td>\n",
       "      <td>P</td>\n",
       "      <td>2022.03</td>\n",
       "      <td>2022</td>\n",
       "      <td>요즘 전기차 대세 기도 하지만 가스 값 장난 아니다 올 랏 어 요 또한 한 달 살기...</td>\n",
       "    </tr>\n",
       "  </tbody>\n",
       "</table>\n",
       "</div>"
      ],
      "text/plain": [
       "                                  제목  \\\n",
       "0                             봉고3더블캡   \n",
       "1  렌트카 알아보고 있는데 lpg 차량이 저렴한 이유가 뭘까요?   \n",
       "\n",
       "                                                  내용         작성날짜  카페명 평가  \\\n",
       "0                             가격이 궁금해요..^^\\n얼마인가요ㅡ\\n  2022.03.16.  제사모  E   \n",
       "1  요즘 전기차가 대세기도 하지만 가스값 장난아니게 올랏어요...또한 한달살기라면 자차...  2022.03.16.  제사모  P   \n",
       "\n",
       "        월별    년별                                              token  \n",
       "0  2022.03  2022                                     가격 궁금하다 얼마 인가요  \n",
       "1  2022.03  2022  요즘 전기차 대세 기도 하지만 가스 값 장난 아니다 올 랏 어 요 또한 한 달 살기...  "
      ]
     },
     "execution_count": 134,
     "metadata": {},
     "output_type": "execute_result"
    }
   ],
   "source": [
    "df_cafe_commet.head(2)"
   ]
  },
  {
   "cell_type": "code",
   "execution_count": 135,
   "metadata": {},
   "outputs": [],
   "source": [
    "df_cafe_commet.to_csv('cafe댓글추출후분석.csv',index=False)"
   ]
  },
  {
   "cell_type": "code",
   "execution_count": 142,
   "metadata": {},
   "outputs": [],
   "source": [
    "df_cafe['내용'] = df_cafe['내용'].apply(lambda x : None if x in ['내용없음','내용이 없습니다','\\n'] else x)"
   ]
  },
  {
   "cell_type": "code",
   "execution_count": 144,
   "metadata": {},
   "outputs": [],
   "source": [
    "df_cafe.dropna(inplace=True)"
   ]
  },
  {
   "cell_type": "code",
   "execution_count": 146,
   "metadata": {},
   "outputs": [
    {
     "data": {
      "text/plain": [
       "제목         0\n",
       "내용         0\n",
       "댓글         0\n",
       "유형         0\n",
       "조회수        0\n",
       "작성날짜       0\n",
       "월별         0\n",
       "카페명        0\n",
       "년별         0\n",
       "lr긍부정      0\n",
       "lr긍부정이진    0\n",
       "dtype: int64"
      ]
     },
     "execution_count": 146,
     "metadata": {},
     "output_type": "execute_result"
    }
   ],
   "source": [
    "df_cafe.isnull().sum()"
   ]
  },
  {
   "cell_type": "code",
   "execution_count": 148,
   "metadata": {},
   "outputs": [
    {
     "data": {
      "text/html": [
       "<div>\n",
       "<style scoped>\n",
       "    .dataframe tbody tr th:only-of-type {\n",
       "        vertical-align: middle;\n",
       "    }\n",
       "\n",
       "    .dataframe tbody tr th {\n",
       "        vertical-align: top;\n",
       "    }\n",
       "\n",
       "    .dataframe thead th {\n",
       "        text-align: right;\n",
       "    }\n",
       "</style>\n",
       "<table border=\"1\" class=\"dataframe\">\n",
       "  <thead>\n",
       "    <tr style=\"text-align: right;\">\n",
       "      <th></th>\n",
       "      <th>제목</th>\n",
       "      <th>내용</th>\n",
       "      <th>작성날짜</th>\n",
       "      <th>카페명</th>\n",
       "      <th>평가</th>\n",
       "      <th>월별</th>\n",
       "      <th>년별</th>\n",
       "      <th>token</th>\n",
       "    </tr>\n",
       "  </thead>\n",
       "  <tbody>\n",
       "    <tr>\n",
       "      <th>0</th>\n",
       "      <td>봉고3더블캡</td>\n",
       "      <td>가격이 궁금해요..^^\\n얼마인가요ㅡ\\n</td>\n",
       "      <td>2022.03.16.</td>\n",
       "      <td>제사모</td>\n",
       "      <td>E</td>\n",
       "      <td>2022.03</td>\n",
       "      <td>2022</td>\n",
       "      <td>가격 궁금하다 얼마 인가요</td>\n",
       "    </tr>\n",
       "    <tr>\n",
       "      <th>1</th>\n",
       "      <td>렌트카 알아보고 있는데 lpg 차량이 저렴한 이유가 뭘까요?</td>\n",
       "      <td>요즘 전기차가 대세기도 하지만 가스값 장난아니게 올랏어요...또한 한달살기라면 자차...</td>\n",
       "      <td>2022.03.16.</td>\n",
       "      <td>제사모</td>\n",
       "      <td>P</td>\n",
       "      <td>2022.03</td>\n",
       "      <td>2022</td>\n",
       "      <td>요즘 전기차 대세 기도 하지만 가스 값 장난 아니다 올 랏 어 요 또한 한 달 살기...</td>\n",
       "    </tr>\n",
       "  </tbody>\n",
       "</table>\n",
       "</div>"
      ],
      "text/plain": [
       "                                  제목  \\\n",
       "0                             봉고3더블캡   \n",
       "1  렌트카 알아보고 있는데 lpg 차량이 저렴한 이유가 뭘까요?   \n",
       "\n",
       "                                                  내용         작성날짜  카페명 평가  \\\n",
       "0                             가격이 궁금해요..^^\\n얼마인가요ㅡ\\n  2022.03.16.  제사모  E   \n",
       "1  요즘 전기차가 대세기도 하지만 가스값 장난아니게 올랏어요...또한 한달살기라면 자차...  2022.03.16.  제사모  P   \n",
       "\n",
       "        월별    년별                                              token  \n",
       "0  2022.03  2022                                     가격 궁금하다 얼마 인가요  \n",
       "1  2022.03  2022  요즘 전기차 대세 기도 하지만 가스 값 장난 아니다 올 랏 어 요 또한 한 달 살기...  "
      ]
     },
     "execution_count": 148,
     "metadata": {},
     "output_type": "execute_result"
    }
   ],
   "source": [
    "df_cafe_commet.head(2)"
   ]
  },
  {
   "cell_type": "code",
   "execution_count": 147,
   "metadata": {},
   "outputs": [
    {
     "data": {
      "text/html": [
       "<div>\n",
       "<style scoped>\n",
       "    .dataframe tbody tr th:only-of-type {\n",
       "        vertical-align: middle;\n",
       "    }\n",
       "\n",
       "    .dataframe tbody tr th {\n",
       "        vertical-align: top;\n",
       "    }\n",
       "\n",
       "    .dataframe thead th {\n",
       "        text-align: right;\n",
       "    }\n",
       "</style>\n",
       "<table border=\"1\" class=\"dataframe\">\n",
       "  <thead>\n",
       "    <tr style=\"text-align: right;\">\n",
       "      <th></th>\n",
       "      <th>제목</th>\n",
       "      <th>내용</th>\n",
       "      <th>댓글</th>\n",
       "      <th>유형</th>\n",
       "      <th>조회수</th>\n",
       "      <th>작성날짜</th>\n",
       "      <th>월별</th>\n",
       "      <th>카페명</th>\n",
       "      <th>년별</th>\n",
       "      <th>lr긍부정</th>\n",
       "      <th>lr긍부정이진</th>\n",
       "    </tr>\n",
       "  </thead>\n",
       "  <tbody>\n",
       "    <tr>\n",
       "      <th>0</th>\n",
       "      <td>봉고3더블캡</td>\n",
       "      <td>보다 투명하고 빠른 거래를 위하여 아래의 글 양식을 준수하여 주세요   거래 지역...</td>\n",
       "      <td>가격이 궁금해요..^^\\n얼마인가요ㅡ\\n</td>\n",
       "      <td>제사모 중고장터</td>\n",
       "      <td>130</td>\n",
       "      <td>2022.03.16.</td>\n",
       "      <td>2022.03</td>\n",
       "      <td>제사모</td>\n",
       "      <td>2022</td>\n",
       "      <td>P</td>\n",
       "      <td>P</td>\n",
       "    </tr>\n",
       "    <tr>\n",
       "      <th>1</th>\n",
       "      <td>렌트카 알아보고 있는데 lpg 차량이 저렴한 이유가 뭘까요?</td>\n",
       "      <td>육지에서 이번주 토욜부터 제주 한달살이 시작하면서 렌트카 알아보고 있어요 육지에선 ...</td>\n",
       "      <td>요즘 전기차가 대세기도 하지만 가스값 장난아니게 올랏어요...또한 한달살기라면 자차...</td>\n",
       "      <td>Q. 종합 질문방</td>\n",
       "      <td>161</td>\n",
       "      <td>2022.03.16.</td>\n",
       "      <td>2022.03</td>\n",
       "      <td>제사모</td>\n",
       "      <td>2022</td>\n",
       "      <td>N</td>\n",
       "      <td>N</td>\n",
       "    </tr>\n",
       "  </tbody>\n",
       "</table>\n",
       "</div>"
      ],
      "text/plain": [
       "                                  제목  \\\n",
       "0                             봉고3더블캡   \n",
       "1  렌트카 알아보고 있는데 lpg 차량이 저렴한 이유가 뭘까요?   \n",
       "\n",
       "                                                  내용  \\\n",
       "0   보다 투명하고 빠른 거래를 위하여 아래의 글 양식을 준수하여 주세요   거래 지역...   \n",
       "1  육지에서 이번주 토욜부터 제주 한달살이 시작하면서 렌트카 알아보고 있어요 육지에선 ...   \n",
       "\n",
       "                                                  댓글         유형  조회수  \\\n",
       "0                             가격이 궁금해요..^^\\n얼마인가요ㅡ\\n   제사모 중고장터  130   \n",
       "1  요즘 전기차가 대세기도 하지만 가스값 장난아니게 올랏어요...또한 한달살기라면 자차...  Q. 종합 질문방  161   \n",
       "\n",
       "          작성날짜       월별  카페명    년별 lr긍부정 lr긍부정이진  \n",
       "0  2022.03.16.  2022.03  제사모  2022     P       P  \n",
       "1  2022.03.16.  2022.03  제사모  2022     N       N  "
      ]
     },
     "execution_count": 147,
     "metadata": {},
     "output_type": "execute_result"
    }
   ],
   "source": [
    "df_cafe.head.head(2)"
   ]
  },
  {
   "cell_type": "code",
   "execution_count": 149,
   "metadata": {},
   "outputs": [],
   "source": [
    "del df_cafe['lr긍부정이진']\n",
    "df_cafe.rename(columns={'lr긍부정':'평가'},inplace=True)"
   ]
  },
  {
   "cell_type": "code",
   "execution_count": 159,
   "metadata": {},
   "outputs": [
    {
     "data": {
      "text/plain": [
       "' 보다 투명하고 빠른 거래를 위하여 아래의 글 양식을 준수하여 주세요   거래 지역  한림 거래 방법  직거래 연락 방법  연락처 안심번호 쪽지 채팅 가능  카카오톡 금지  판매 가격  연락주세요 판매 제품  봉고더블캡 제품 상태  중고차량사용감 있음 거의 새 것 미개봉  제품설명 및 사진 봉고더블캡  년 월식 정확히 만탔구요오토 차량 잡소리 하나도 안나요전기차 나와서 팔아요블랙박스후방감지 네비 열선시트 열선 핸들 만든공구함 박스 핸즈프리 '"
      ]
     },
     "execution_count": 159,
     "metadata": {},
     "output_type": "execute_result"
    }
   ],
   "source": [
    "df_cafe.내용[0]"
   ]
  },
  {
   "cell_type": "code",
   "execution_count": 166,
   "metadata": {},
   "outputs": [],
   "source": [
    "df_cafe_commet.reset_index(inplace=True)\n",
    "df_cafe.reset_index(inplace=True)"
   ]
  },
  {
   "cell_type": "code",
   "execution_count": 170,
   "metadata": {},
   "outputs": [],
   "source": [
    "del df_cafe_commet['index']"
   ]
  },
  {
   "cell_type": "code",
   "execution_count": 174,
   "metadata": {},
   "outputs": [],
   "source": [
    "# del df_cafe_commet['내용']\n",
    "df_cafe_commet.rename(columns={'token':'내용'},inplace=True)"
   ]
  },
  {
   "cell_type": "code",
   "execution_count": 175,
   "metadata": {},
   "outputs": [
    {
     "data": {
      "text/html": [
       "<div>\n",
       "<style scoped>\n",
       "    .dataframe tbody tr th:only-of-type {\n",
       "        vertical-align: middle;\n",
       "    }\n",
       "\n",
       "    .dataframe tbody tr th {\n",
       "        vertical-align: top;\n",
       "    }\n",
       "\n",
       "    .dataframe thead th {\n",
       "        text-align: right;\n",
       "    }\n",
       "</style>\n",
       "<table border=\"1\" class=\"dataframe\">\n",
       "  <thead>\n",
       "    <tr style=\"text-align: right;\">\n",
       "      <th></th>\n",
       "      <th>제목</th>\n",
       "      <th>작성날짜</th>\n",
       "      <th>카페명</th>\n",
       "      <th>평가</th>\n",
       "      <th>월별</th>\n",
       "      <th>년별</th>\n",
       "      <th>내용</th>\n",
       "    </tr>\n",
       "  </thead>\n",
       "  <tbody>\n",
       "    <tr>\n",
       "      <th>0</th>\n",
       "      <td>봉고3더블캡</td>\n",
       "      <td>2022.03.16.</td>\n",
       "      <td>제사모</td>\n",
       "      <td>E</td>\n",
       "      <td>2022.03</td>\n",
       "      <td>2022</td>\n",
       "      <td>가격 궁금하다 얼마 인가요</td>\n",
       "    </tr>\n",
       "    <tr>\n",
       "      <th>1</th>\n",
       "      <td>렌트카 알아보고 있는데 lpg 차량이 저렴한 이유가 뭘까요?</td>\n",
       "      <td>2022.03.16.</td>\n",
       "      <td>제사모</td>\n",
       "      <td>P</td>\n",
       "      <td>2022.03</td>\n",
       "      <td>2022</td>\n",
       "      <td>요즘 전기차 대세 기도 하지만 가스 값 장난 아니다 올 랏 어 요 또한 한 달 살기...</td>\n",
       "    </tr>\n",
       "  </tbody>\n",
       "</table>\n",
       "</div>"
      ],
      "text/plain": [
       "                                  제목         작성날짜  카페명 평가       월별    년별  \\\n",
       "0                             봉고3더블캡  2022.03.16.  제사모  E  2022.03  2022   \n",
       "1  렌트카 알아보고 있는데 lpg 차량이 저렴한 이유가 뭘까요?  2022.03.16.  제사모  P  2022.03  2022   \n",
       "\n",
       "                                                  내용  \n",
       "0                                     가격 궁금하다 얼마 인가요  \n",
       "1  요즘 전기차 대세 기도 하지만 가스 값 장난 아니다 올 랏 어 요 또한 한 달 살기...  "
      ]
     },
     "execution_count": 175,
     "metadata": {},
     "output_type": "execute_result"
    }
   ],
   "source": [
    "df_cafe_commet.head(2)"
   ]
  },
  {
   "cell_type": "code",
   "execution_count": 182,
   "metadata": {},
   "outputs": [],
   "source": [
    "a= pd.concat([df_cafe,df_cafe_commet],axis=0)"
   ]
  },
  {
   "cell_type": "code",
   "execution_count": 184,
   "metadata": {},
   "outputs": [],
   "source": [
    "del a['index']"
   ]
  },
  {
   "cell_type": "code",
   "execution_count": 186,
   "metadata": {},
   "outputs": [],
   "source": [
    "a.reset_index(inplace=True)"
   ]
  },
  {
   "cell_type": "code",
   "execution_count": 189,
   "metadata": {},
   "outputs": [],
   "source": [
    "df_cafe_commet_merge = copy.deepcopy(a)"
   ]
  },
  {
   "cell_type": "code",
   "execution_count": 191,
   "metadata": {},
   "outputs": [
    {
     "name": "stdout",
     "output_type": "stream",
     "text": [
      "<class 'pandas.core.frame.DataFrame'>\n",
      "RangeIndex: 10762 entries, 0 to 10761\n",
      "Data columns (total 9 columns):\n",
      " #   Column  Non-Null Count  Dtype  \n",
      "---  ------  --------------  -----  \n",
      " 0   제목      10762 non-null  object \n",
      " 1   내용      10762 non-null  object \n",
      " 2   유형      5683 non-null   object \n",
      " 3   조회수     5683 non-null   object \n",
      " 4   작성날짜    10762 non-null  object \n",
      " 5   월별      10762 non-null  float64\n",
      " 6   카페명     10762 non-null  object \n",
      " 7   년별      10762 non-null  int64  \n",
      " 8   평가      10762 non-null  object \n",
      "dtypes: float64(1), int64(1), object(7)\n",
      "memory usage: 756.8+ KB\n"
     ]
    }
   ],
   "source": [
    "df_cafe_commet_merge.info()"
   ]
  },
  {
   "cell_type": "code",
   "execution_count": 192,
   "metadata": {},
   "outputs": [],
   "source": [
    "df_cafe_commet_merge.to_csv('df_cafe_commet_merge.csv',index=False)"
   ]
  },
  {
   "cell_type": "code",
   "execution_count": 199,
   "metadata": {},
   "outputs": [
    {
     "data": {
      "text/html": [
       "<div>\n",
       "<style scoped>\n",
       "    .dataframe tbody tr th:only-of-type {\n",
       "        vertical-align: middle;\n",
       "    }\n",
       "\n",
       "    .dataframe tbody tr th {\n",
       "        vertical-align: top;\n",
       "    }\n",
       "\n",
       "    .dataframe thead th {\n",
       "        text-align: right;\n",
       "    }\n",
       "</style>\n",
       "<table border=\"1\" class=\"dataframe\">\n",
       "  <thead>\n",
       "    <tr style=\"text-align: right;\">\n",
       "      <th></th>\n",
       "      <th>제목</th>\n",
       "      <th>내용</th>\n",
       "      <th>유형</th>\n",
       "      <th>조회수</th>\n",
       "      <th>작성날짜</th>\n",
       "      <th>월별</th>\n",
       "      <th>카페명</th>\n",
       "      <th>년별</th>\n",
       "      <th>평가</th>\n",
       "    </tr>\n",
       "  </thead>\n",
       "  <tbody>\n",
       "    <tr>\n",
       "      <th>0</th>\n",
       "      <td>봉고3더블캡</td>\n",
       "      <td>보다 투명하고 빠른 거래를 위하여 아래의 글 양식을 준수하여 주세요   거래 지역...</td>\n",
       "      <td>제사모 중고장터</td>\n",
       "      <td>130</td>\n",
       "      <td>2022.03.16.</td>\n",
       "      <td>2022.03</td>\n",
       "      <td>제사모</td>\n",
       "      <td>2022</td>\n",
       "      <td>P</td>\n",
       "    </tr>\n",
       "    <tr>\n",
       "      <th>1</th>\n",
       "      <td>렌트카 알아보고 있는데 lpg 차량이 저렴한 이유가 뭘까요?</td>\n",
       "      <td>육지에서 이번주 토욜부터 제주 한달살이 시작하면서 렌트카 알아보고 있어요 육지에선 ...</td>\n",
       "      <td>Q. 종합 질문방</td>\n",
       "      <td>161</td>\n",
       "      <td>2022.03.16.</td>\n",
       "      <td>2022.03</td>\n",
       "      <td>제사모</td>\n",
       "      <td>2022</td>\n",
       "      <td>N</td>\n",
       "    </tr>\n",
       "  </tbody>\n",
       "</table>\n",
       "</div>"
      ],
      "text/plain": [
       "                                  제목  \\\n",
       "0                             봉고3더블캡   \n",
       "1  렌트카 알아보고 있는데 lpg 차량이 저렴한 이유가 뭘까요?   \n",
       "\n",
       "                                                  내용         유형  조회수  \\\n",
       "0   보다 투명하고 빠른 거래를 위하여 아래의 글 양식을 준수하여 주세요   거래 지역...   제사모 중고장터  130   \n",
       "1  육지에서 이번주 토욜부터 제주 한달살이 시작하면서 렌트카 알아보고 있어요 육지에선 ...  Q. 종합 질문방  161   \n",
       "\n",
       "          작성날짜       월별  카페명    년별 평가  \n",
       "0  2022.03.16.  2022.03  제사모  2022  P  \n",
       "1  2022.03.16.  2022.03  제사모  2022  N  "
      ]
     },
     "execution_count": 199,
     "metadata": {},
     "output_type": "execute_result"
    }
   ],
   "source": [
    "df_cafe_commet_merge.head(2)"
   ]
  },
  {
   "cell_type": "code",
   "execution_count": 198,
   "metadata": {},
   "outputs": [
    {
     "data": {
      "text/html": [
       "<div>\n",
       "<style scoped>\n",
       "    .dataframe tbody tr th:only-of-type {\n",
       "        vertical-align: middle;\n",
       "    }\n",
       "\n",
       "    .dataframe tbody tr th {\n",
       "        vertical-align: top;\n",
       "    }\n",
       "\n",
       "    .dataframe thead th {\n",
       "        text-align: right;\n",
       "    }\n",
       "</style>\n",
       "<table border=\"1\" class=\"dataframe\">\n",
       "  <thead>\n",
       "    <tr style=\"text-align: right;\">\n",
       "      <th></th>\n",
       "      <th>제목</th>\n",
       "      <th>날짜</th>\n",
       "      <th>내용</th>\n",
       "      <th>긍부정</th>\n",
       "      <th>href</th>\n",
       "      <th>year</th>\n",
       "      <th>lr긍부정</th>\n",
       "      <th>lr긍부정이진분류</th>\n",
       "      <th>감성사전긍부정</th>\n",
       "      <th>전기차문장</th>\n",
       "      <th>전기차본문감성분석</th>\n",
       "    </tr>\n",
       "  </thead>\n",
       "  <tbody>\n",
       "    <tr>\n",
       "      <th>0</th>\n",
       "      <td>2022년 4박 5일 신혼여행 후기 ing 제주도 (Feat. 일오반식당...</td>\n",
       "      <td>2022.03.17</td>\n",
       "      <td>제주도신혼여행후기내돈내산년 년 월 일 드뎌 결혼식이 끝나고 우도 가자마자 전기차를 ...</td>\n",
       "      <td>0</td>\n",
       "      <td>https://blog.naver.com/apple_378?Redirect=Log&amp;...</td>\n",
       "      <td>2022</td>\n",
       "      <td>E</td>\n",
       "      <td>P</td>\n",
       "      <td>E</td>\n",
       "      <td>​ 오랜만에 바다를 보니 뻥 뚫리고 좋았어여 ㅎㅎ  같이 커플 트레이닝복으로 맞추고...</td>\n",
       "      <td>P</td>\n",
       "    </tr>\n",
       "    <tr>\n",
       "      <th>1</th>\n",
       "      <td>제주공항숙소 시리우스 제주호텔: 트윈룸, 디럭스룸 장단점</td>\n",
       "      <td>2022.03.17</td>\n",
       "      <td>디럭스룸 후기 제주특별자치도 제주시 도령로  전화  공항의 지하 주차장은 지하층까지...</td>\n",
       "      <td>-1</td>\n",
       "      <td>https://blog.naver.com/zoonee96?Redirect=Log&amp;l...</td>\n",
       "      <td>2022</td>\n",
       "      <td>E</td>\n",
       "      <td>P</td>\n",
       "      <td>F</td>\n",
       "      <td>​ 공항의 지하 주차장은 지하4층까지 있고 지하 1층에 전기차 충전소가 있어요 주차...</td>\n",
       "      <td>N</td>\n",
       "    </tr>\n",
       "  </tbody>\n",
       "</table>\n",
       "</div>"
      ],
      "text/plain": [
       "                                            제목          날짜  \\\n",
       "0  2022년 4박 5일 신혼여행 후기 ing 제주도 (Feat. 일오반식당...  2022.03.17   \n",
       "1              제주공항숙소 시리우스 제주호텔: 트윈룸, 디럭스룸 장단점  2022.03.17   \n",
       "\n",
       "                                                  내용  긍부정  \\\n",
       "0  제주도신혼여행후기내돈내산년 년 월 일 드뎌 결혼식이 끝나고 우도 가자마자 전기차를 ...    0   \n",
       "1  디럭스룸 후기 제주특별자치도 제주시 도령로  전화  공항의 지하 주차장은 지하층까지...   -1   \n",
       "\n",
       "                                                href  year lr긍부정 lr긍부정이진분류  \\\n",
       "0  https://blog.naver.com/apple_378?Redirect=Log&...  2022     E         P   \n",
       "1  https://blog.naver.com/zoonee96?Redirect=Log&l...  2022     E         P   \n",
       "\n",
       "  감성사전긍부정                                              전기차문장 전기차본문감성분석  \n",
       "0       E  ​ 오랜만에 바다를 보니 뻥 뚫리고 좋았어여 ㅎㅎ  같이 커플 트레이닝복으로 맞추고...         P  \n",
       "1       F  ​ 공항의 지하 주차장은 지하4층까지 있고 지하 1층에 전기차 충전소가 있어요 주차...         N  "
      ]
     },
     "execution_count": 198,
     "metadata": {},
     "output_type": "execute_result"
    }
   ],
   "source": [
    "df_blog.head(2)"
   ]
  },
  {
   "cell_type": "code",
   "execution_count": null,
   "metadata": {},
   "outputs": [],
   "source": [
    "del df_blog['내용','긍부정','href','lr긍부정','lr긍부정이진분류','감성사전긍부정']"
   ]
  },
  {
   "cell_type": "code",
   "execution_count": null,
   "metadata": {},
   "outputs": [],
   "source": [
    "df_blog = pd.DataFrame(\n",
    "    { \"제목\"\n",
    "        \n",
    "    }\n",
    ")"
   ]
  },
  {
   "cell_type": "code",
   "execution_count": 26,
   "metadata": {
    "execution": {
     "iopub.execute_input": "2022-03-26T05:45:36.593794Z",
     "iopub.status.busy": "2022-03-26T05:45:36.593605Z",
     "iopub.status.idle": "2022-03-26T05:45:36.721164Z",
     "shell.execute_reply": "2022-03-26T05:45:36.720254Z",
     "shell.execute_reply.started": "2022-03-26T05:45:36.593755Z"
    },
    "tags": []
   },
   "outputs": [],
   "source": [
    "df_cafe_commet_merge = pd.read_csv('df_cafe_commet_merge.csv')"
   ]
  },
  {
   "cell_type": "code",
   "execution_count": 27,
   "metadata": {
    "execution": {
     "iopub.execute_input": "2022-03-26T05:45:38.345562Z",
     "iopub.status.busy": "2022-03-26T05:45:38.345348Z",
     "iopub.status.idle": "2022-03-26T05:45:38.354375Z",
     "shell.execute_reply": "2022-03-26T05:45:38.353738Z",
     "shell.execute_reply.started": "2022-03-26T05:45:38.345531Z"
    },
    "tags": []
   },
   "outputs": [],
   "source": [
    "df_cafe_commet_merge=copy.deepcopy(df_cafe_commet_merge[df_cafe_commet_merge.유형!='제주도 구인'])"
   ]
  },
  {
   "cell_type": "code",
   "execution_count": 28,
   "metadata": {
    "execution": {
     "iopub.execute_input": "2022-03-26T05:45:39.865472Z",
     "iopub.status.busy": "2022-03-26T05:45:39.865279Z",
     "iopub.status.idle": "2022-03-26T05:45:39.868768Z",
     "shell.execute_reply": "2022-03-26T05:45:39.868153Z",
     "shell.execute_reply.started": "2022-03-26T05:45:39.865431Z"
    },
    "tags": []
   },
   "outputs": [],
   "source": [
    "df_cafe_commet_merge.reset_index(inplace=True,drop=True)"
   ]
  },
  {
   "cell_type": "code",
   "execution_count": 29,
   "metadata": {
    "execution": {
     "iopub.execute_input": "2022-03-26T05:45:41.390869Z",
     "iopub.status.busy": "2022-03-26T05:45:41.390444Z",
     "iopub.status.idle": "2022-03-26T05:45:41.407071Z",
     "shell.execute_reply": "2022-03-26T05:45:41.405894Z",
     "shell.execute_reply.started": "2022-03-26T05:45:41.390807Z"
    },
    "tags": []
   },
   "outputs": [
    {
     "data": {
      "text/html": [
       "<div>\n",
       "<style scoped>\n",
       "    .dataframe tbody tr th:only-of-type {\n",
       "        vertical-align: middle;\n",
       "    }\n",
       "\n",
       "    .dataframe tbody tr th {\n",
       "        vertical-align: top;\n",
       "    }\n",
       "\n",
       "    .dataframe thead th {\n",
       "        text-align: right;\n",
       "    }\n",
       "</style>\n",
       "<table border=\"1\" class=\"dataframe\">\n",
       "  <thead>\n",
       "    <tr style=\"text-align: right;\">\n",
       "      <th></th>\n",
       "      <th>제목</th>\n",
       "      <th>내용</th>\n",
       "      <th>유형</th>\n",
       "      <th>조회수</th>\n",
       "      <th>작성날짜</th>\n",
       "      <th>월별</th>\n",
       "      <th>카페명</th>\n",
       "      <th>년별</th>\n",
       "      <th>평가</th>\n",
       "    </tr>\n",
       "  </thead>\n",
       "  <tbody>\n",
       "    <tr>\n",
       "      <th>0</th>\n",
       "      <td>봉고3더블캡</td>\n",
       "      <td>보다 투명하고 빠른 거래를 위하여 아래의 글 양식을 준수하여 주세요   거래 지역...</td>\n",
       "      <td>제사모 중고장터</td>\n",
       "      <td>130</td>\n",
       "      <td>2022.03.16.</td>\n",
       "      <td>2022.03</td>\n",
       "      <td>제사모</td>\n",
       "      <td>2022</td>\n",
       "      <td>P</td>\n",
       "    </tr>\n",
       "    <tr>\n",
       "      <th>1</th>\n",
       "      <td>렌트카 알아보고 있는데 lpg 차량이 저렴한 이유가 뭘까요?</td>\n",
       "      <td>육지에서 이번주 토욜부터 제주 한달살이 시작하면서 렌트카 알아보고 있어요 육지에선 ...</td>\n",
       "      <td>Q. 종합 질문방</td>\n",
       "      <td>161</td>\n",
       "      <td>2022.03.16.</td>\n",
       "      <td>2022.03</td>\n",
       "      <td>제사모</td>\n",
       "      <td>2022</td>\n",
       "      <td>N</td>\n",
       "    </tr>\n",
       "  </tbody>\n",
       "</table>\n",
       "</div>"
      ],
      "text/plain": [
       "                                  제목  \\\n",
       "0                             봉고3더블캡   \n",
       "1  렌트카 알아보고 있는데 lpg 차량이 저렴한 이유가 뭘까요?   \n",
       "\n",
       "                                                  내용         유형  조회수  \\\n",
       "0   보다 투명하고 빠른 거래를 위하여 아래의 글 양식을 준수하여 주세요   거래 지역...   제사모 중고장터  130   \n",
       "1  육지에서 이번주 토욜부터 제주 한달살이 시작하면서 렌트카 알아보고 있어요 육지에선 ...  Q. 종합 질문방  161   \n",
       "\n",
       "          작성날짜       월별  카페명    년별 평가  \n",
       "0  2022.03.16.  2022.03  제사모  2022  P  \n",
       "1  2022.03.16.  2022.03  제사모  2022  N  "
      ]
     },
     "execution_count": 29,
     "metadata": {},
     "output_type": "execute_result"
    }
   ],
   "source": [
    "df_cafe_commet_merge.head(2)"
   ]
  },
  {
   "cell_type": "code",
   "execution_count": 11,
   "metadata": {
    "execution": {
     "iopub.execute_input": "2022-03-26T05:41:14.649587Z",
     "iopub.status.busy": "2022-03-26T05:41:14.648881Z",
     "iopub.status.idle": "2022-03-26T05:41:14.671609Z",
     "shell.execute_reply": "2022-03-26T05:41:14.670897Z",
     "shell.execute_reply.started": "2022-03-26T05:41:14.649522Z"
    },
    "tags": []
   },
   "outputs": [
    {
     "data": {
      "text/html": [
       "<div>\n",
       "<style scoped>\n",
       "    .dataframe tbody tr th:only-of-type {\n",
       "        vertical-align: middle;\n",
       "    }\n",
       "\n",
       "    .dataframe tbody tr th {\n",
       "        vertical-align: top;\n",
       "    }\n",
       "\n",
       "    .dataframe thead th {\n",
       "        text-align: right;\n",
       "    }\n",
       "</style>\n",
       "<table border=\"1\" class=\"dataframe\">\n",
       "  <thead>\n",
       "    <tr style=\"text-align: right;\">\n",
       "      <th></th>\n",
       "      <th>제목</th>\n",
       "      <th>날짜</th>\n",
       "      <th>내용</th>\n",
       "      <th>긍부정</th>\n",
       "      <th>href</th>\n",
       "      <th>year</th>\n",
       "      <th>lr긍부정</th>\n",
       "      <th>lr긍부정이진분류</th>\n",
       "      <th>감성사전긍부정</th>\n",
       "      <th>전기차문장</th>\n",
       "      <th>전기차본문감성분석</th>\n",
       "    </tr>\n",
       "  </thead>\n",
       "  <tbody>\n",
       "    <tr>\n",
       "      <th>0</th>\n",
       "      <td>2022년 4박 5일 신혼여행 후기 ing 제주도 (Feat. 일오반식당...</td>\n",
       "      <td>2022.03.17</td>\n",
       "      <td>제주도신혼여행후기내돈내산년 년 월 일 드뎌 결혼식이 끝나고 우도 가자마자 전기차를 ...</td>\n",
       "      <td>0</td>\n",
       "      <td>https://blog.naver.com/apple_378?Redirect=Log&amp;...</td>\n",
       "      <td>2022</td>\n",
       "      <td>E</td>\n",
       "      <td>P</td>\n",
       "      <td>E</td>\n",
       "      <td>​ 오랜만에 바다를 보니 뻥 뚫리고 좋았어여 ㅎㅎ  같이 커플 트레이닝복으로 맞추고...</td>\n",
       "      <td>P</td>\n",
       "    </tr>\n",
       "    <tr>\n",
       "      <th>1</th>\n",
       "      <td>제주공항숙소 시리우스 제주호텔: 트윈룸, 디럭스룸 장단점</td>\n",
       "      <td>2022.03.17</td>\n",
       "      <td>디럭스룸 후기 제주특별자치도 제주시 도령로  전화  공항의 지하 주차장은 지하층까지...</td>\n",
       "      <td>-1</td>\n",
       "      <td>https://blog.naver.com/zoonee96?Redirect=Log&amp;l...</td>\n",
       "      <td>2022</td>\n",
       "      <td>E</td>\n",
       "      <td>P</td>\n",
       "      <td>F</td>\n",
       "      <td>​ 공항의 지하 주차장은 지하4층까지 있고 지하 1층에 전기차 충전소가 있어요 주차...</td>\n",
       "      <td>N</td>\n",
       "    </tr>\n",
       "  </tbody>\n",
       "</table>\n",
       "</div>"
      ],
      "text/plain": [
       "                                            제목          날짜  \\\n",
       "0  2022년 4박 5일 신혼여행 후기 ing 제주도 (Feat. 일오반식당...  2022.03.17   \n",
       "1              제주공항숙소 시리우스 제주호텔: 트윈룸, 디럭스룸 장단점  2022.03.17   \n",
       "\n",
       "                                                  내용  긍부정  \\\n",
       "0  제주도신혼여행후기내돈내산년 년 월 일 드뎌 결혼식이 끝나고 우도 가자마자 전기차를 ...    0   \n",
       "1  디럭스룸 후기 제주특별자치도 제주시 도령로  전화  공항의 지하 주차장은 지하층까지...   -1   \n",
       "\n",
       "                                                href  year lr긍부정 lr긍부정이진분류  \\\n",
       "0  https://blog.naver.com/apple_378?Redirect=Log&...  2022     E         P   \n",
       "1  https://blog.naver.com/zoonee96?Redirect=Log&l...  2022     E         P   \n",
       "\n",
       "  감성사전긍부정                                              전기차문장 전기차본문감성분석  \n",
       "0       E  ​ 오랜만에 바다를 보니 뻥 뚫리고 좋았어여 ㅎㅎ  같이 커플 트레이닝복으로 맞추고...         P  \n",
       "1       F  ​ 공항의 지하 주차장은 지하4층까지 있고 지하 1층에 전기차 충전소가 있어요 주차...         N  "
      ]
     },
     "execution_count": 11,
     "metadata": {},
     "output_type": "execute_result"
    }
   ],
   "source": [
    "df_blog.head(2)"
   ]
  },
  {
   "cell_type": "code",
   "execution_count": 16,
   "metadata": {
    "execution": {
     "iopub.execute_input": "2022-03-26T05:42:49.982369Z",
     "iopub.status.busy": "2022-03-26T05:42:49.982007Z",
     "iopub.status.idle": "2022-03-26T05:42:49.989206Z",
     "shell.execute_reply": "2022-03-26T05:42:49.988331Z",
     "shell.execute_reply.started": "2022-03-26T05:42:49.982329Z"
    },
    "tags": []
   },
   "outputs": [
    {
     "data": {
      "text/plain": [
       "str"
      ]
     },
     "execution_count": 16,
     "metadata": {},
     "output_type": "execute_result"
    }
   ],
   "source": [
    "type(df_blog.날짜[0]"
   ]
  },
  {
   "cell_type": "code",
   "execution_count": 21,
   "metadata": {
    "execution": {
     "iopub.execute_input": "2022-03-26T05:44:17.914320Z",
     "iopub.status.busy": "2022-03-26T05:44:17.914131Z",
     "iopub.status.idle": "2022-03-26T05:44:17.919275Z",
     "shell.execute_reply": "2022-03-26T05:44:17.918512Z",
     "shell.execute_reply.started": "2022-03-26T05:44:17.914278Z"
    },
    "tags": []
   },
   "outputs": [
    {
     "data": {
      "text/plain": [
       "'2022.03'"
      ]
     },
     "execution_count": 21,
     "metadata": {},
     "output_type": "execute_result"
    }
   ],
   "source": [
    "df_blog.날짜[0][:7]"
   ]
  },
  {
   "cell_type": "code",
   "execution_count": 22,
   "metadata": {
    "execution": {
     "iopub.execute_input": "2022-03-26T05:44:39.442073Z",
     "iopub.status.busy": "2022-03-26T05:44:39.441867Z",
     "iopub.status.idle": "2022-03-26T05:44:39.453784Z",
     "shell.execute_reply": "2022-03-26T05:44:39.452270Z",
     "shell.execute_reply.started": "2022-03-26T05:44:39.442041Z"
    },
    "tags": []
   },
   "outputs": [],
   "source": [
    "df_blog['월별']= df_blog.날짜.apply(lambda x: x[:7])"
   ]
  },
  {
   "cell_type": "code",
   "execution_count": 30,
   "metadata": {
    "execution": {
     "iopub.execute_input": "2022-03-26T05:45:54.186660Z",
     "iopub.status.busy": "2022-03-26T05:45:54.186473Z",
     "iopub.status.idle": "2022-03-26T05:45:54.196678Z",
     "shell.execute_reply": "2022-03-26T05:45:54.196138Z",
     "shell.execute_reply.started": "2022-03-26T05:45:54.186619Z"
    },
    "tags": []
   },
   "outputs": [
    {
     "data": {
      "text/html": [
       "<div>\n",
       "<style scoped>\n",
       "    .dataframe tbody tr th:only-of-type {\n",
       "        vertical-align: middle;\n",
       "    }\n",
       "\n",
       "    .dataframe tbody tr th {\n",
       "        vertical-align: top;\n",
       "    }\n",
       "\n",
       "    .dataframe thead th {\n",
       "        text-align: right;\n",
       "    }\n",
       "</style>\n",
       "<table border=\"1\" class=\"dataframe\">\n",
       "  <thead>\n",
       "    <tr style=\"text-align: right;\">\n",
       "      <th></th>\n",
       "      <th>제목</th>\n",
       "      <th>내용</th>\n",
       "      <th>유형</th>\n",
       "      <th>조회수</th>\n",
       "      <th>작성날짜</th>\n",
       "      <th>월별</th>\n",
       "      <th>카페명</th>\n",
       "      <th>년별</th>\n",
       "      <th>평가</th>\n",
       "    </tr>\n",
       "  </thead>\n",
       "  <tbody>\n",
       "    <tr>\n",
       "      <th>0</th>\n",
       "      <td>봉고3더블캡</td>\n",
       "      <td>보다 투명하고 빠른 거래를 위하여 아래의 글 양식을 준수하여 주세요   거래 지역...</td>\n",
       "      <td>제사모 중고장터</td>\n",
       "      <td>130</td>\n",
       "      <td>2022.03.16.</td>\n",
       "      <td>2022.03</td>\n",
       "      <td>제사모</td>\n",
       "      <td>2022</td>\n",
       "      <td>P</td>\n",
       "    </tr>\n",
       "    <tr>\n",
       "      <th>1</th>\n",
       "      <td>렌트카 알아보고 있는데 lpg 차량이 저렴한 이유가 뭘까요?</td>\n",
       "      <td>육지에서 이번주 토욜부터 제주 한달살이 시작하면서 렌트카 알아보고 있어요 육지에선 ...</td>\n",
       "      <td>Q. 종합 질문방</td>\n",
       "      <td>161</td>\n",
       "      <td>2022.03.16.</td>\n",
       "      <td>2022.03</td>\n",
       "      <td>제사모</td>\n",
       "      <td>2022</td>\n",
       "      <td>N</td>\n",
       "    </tr>\n",
       "  </tbody>\n",
       "</table>\n",
       "</div>"
      ],
      "text/plain": [
       "                                  제목  \\\n",
       "0                             봉고3더블캡   \n",
       "1  렌트카 알아보고 있는데 lpg 차량이 저렴한 이유가 뭘까요?   \n",
       "\n",
       "                                                  내용         유형  조회수  \\\n",
       "0   보다 투명하고 빠른 거래를 위하여 아래의 글 양식을 준수하여 주세요   거래 지역...   제사모 중고장터  130   \n",
       "1  육지에서 이번주 토욜부터 제주 한달살이 시작하면서 렌트카 알아보고 있어요 육지에선 ...  Q. 종합 질문방  161   \n",
       "\n",
       "          작성날짜       월별  카페명    년별 평가  \n",
       "0  2022.03.16.  2022.03  제사모  2022  P  \n",
       "1  2022.03.16.  2022.03  제사모  2022  N  "
      ]
     },
     "execution_count": 30,
     "metadata": {},
     "output_type": "execute_result"
    }
   ],
   "source": [
    "df_cafe_commet_merge.head(2)"
   ]
  },
  {
   "cell_type": "code",
   "execution_count": 24,
   "metadata": {
    "execution": {
     "iopub.execute_input": "2022-03-26T05:44:54.813979Z",
     "iopub.status.busy": "2022-03-26T05:44:54.813763Z",
     "iopub.status.idle": "2022-03-26T05:44:54.833316Z",
     "shell.execute_reply": "2022-03-26T05:44:54.832965Z",
     "shell.execute_reply.started": "2022-03-26T05:44:54.813943Z"
    },
    "tags": []
   },
   "outputs": [
    {
     "data": {
      "text/html": [
       "<div>\n",
       "<style scoped>\n",
       "    .dataframe tbody tr th:only-of-type {\n",
       "        vertical-align: middle;\n",
       "    }\n",
       "\n",
       "    .dataframe tbody tr th {\n",
       "        vertical-align: top;\n",
       "    }\n",
       "\n",
       "    .dataframe thead th {\n",
       "        text-align: right;\n",
       "    }\n",
       "</style>\n",
       "<table border=\"1\" class=\"dataframe\">\n",
       "  <thead>\n",
       "    <tr style=\"text-align: right;\">\n",
       "      <th></th>\n",
       "      <th>제목</th>\n",
       "      <th>날짜</th>\n",
       "      <th>내용</th>\n",
       "      <th>긍부정</th>\n",
       "      <th>href</th>\n",
       "      <th>year</th>\n",
       "      <th>lr긍부정</th>\n",
       "      <th>lr긍부정이진분류</th>\n",
       "      <th>감성사전긍부정</th>\n",
       "      <th>전기차문장</th>\n",
       "      <th>전기차본문감성분석</th>\n",
       "      <th>년별</th>\n",
       "      <th>월별</th>\n",
       "    </tr>\n",
       "  </thead>\n",
       "  <tbody>\n",
       "    <tr>\n",
       "      <th>0</th>\n",
       "      <td>2022년 4박 5일 신혼여행 후기 ing 제주도 (Feat. 일오반식당...</td>\n",
       "      <td>2022.03.17</td>\n",
       "      <td>제주도신혼여행후기내돈내산년 년 월 일 드뎌 결혼식이 끝나고 우도 가자마자 전기차를 ...</td>\n",
       "      <td>0</td>\n",
       "      <td>https://blog.naver.com/apple_378?Redirect=Log&amp;...</td>\n",
       "      <td>2022</td>\n",
       "      <td>E</td>\n",
       "      <td>P</td>\n",
       "      <td>E</td>\n",
       "      <td>​ 오랜만에 바다를 보니 뻥 뚫리고 좋았어여 ㅎㅎ  같이 커플 트레이닝복으로 맞추고...</td>\n",
       "      <td>P</td>\n",
       "      <td>2022</td>\n",
       "      <td>2022.03</td>\n",
       "    </tr>\n",
       "    <tr>\n",
       "      <th>1</th>\n",
       "      <td>제주공항숙소 시리우스 제주호텔: 트윈룸, 디럭스룸 장단점</td>\n",
       "      <td>2022.03.17</td>\n",
       "      <td>디럭스룸 후기 제주특별자치도 제주시 도령로  전화  공항의 지하 주차장은 지하층까지...</td>\n",
       "      <td>-1</td>\n",
       "      <td>https://blog.naver.com/zoonee96?Redirect=Log&amp;l...</td>\n",
       "      <td>2022</td>\n",
       "      <td>E</td>\n",
       "      <td>P</td>\n",
       "      <td>F</td>\n",
       "      <td>​ 공항의 지하 주차장은 지하4층까지 있고 지하 1층에 전기차 충전소가 있어요 주차...</td>\n",
       "      <td>N</td>\n",
       "      <td>2022</td>\n",
       "      <td>2022.03</td>\n",
       "    </tr>\n",
       "  </tbody>\n",
       "</table>\n",
       "</div>"
      ],
      "text/plain": [
       "                                            제목          날짜  \\\n",
       "0  2022년 4박 5일 신혼여행 후기 ing 제주도 (Feat. 일오반식당...  2022.03.17   \n",
       "1              제주공항숙소 시리우스 제주호텔: 트윈룸, 디럭스룸 장단점  2022.03.17   \n",
       "\n",
       "                                                  내용  긍부정  \\\n",
       "0  제주도신혼여행후기내돈내산년 년 월 일 드뎌 결혼식이 끝나고 우도 가자마자 전기차를 ...    0   \n",
       "1  디럭스룸 후기 제주특별자치도 제주시 도령로  전화  공항의 지하 주차장은 지하층까지...   -1   \n",
       "\n",
       "                                                href  year lr긍부정 lr긍부정이진분류  \\\n",
       "0  https://blog.naver.com/apple_378?Redirect=Log&...  2022     E         P   \n",
       "1  https://blog.naver.com/zoonee96?Redirect=Log&l...  2022     E         P   \n",
       "\n",
       "  감성사전긍부정                                              전기차문장 전기차본문감성분석    년별  \\\n",
       "0       E  ​ 오랜만에 바다를 보니 뻥 뚫리고 좋았어여 ㅎㅎ  같이 커플 트레이닝복으로 맞추고...         P  2022   \n",
       "1       F  ​ 공항의 지하 주차장은 지하4층까지 있고 지하 1층에 전기차 충전소가 있어요 주차...         N  2022   \n",
       "\n",
       "        월별  \n",
       "0  2022.03  \n",
       "1  2022.03  "
      ]
     },
     "execution_count": 24,
     "metadata": {},
     "output_type": "execute_result"
    }
   ],
   "source": [
    "df_blog.head(2)"
   ]
  },
  {
   "cell_type": "markdown",
   "metadata": {},
   "source": [
    "#### 전기차문장 간단한 전처리"
   ]
  },
  {
   "cell_type": "code",
   "execution_count": 33,
   "metadata": {
    "execution": {
     "iopub.execute_input": "2022-03-26T05:49:26.713222Z",
     "iopub.status.busy": "2022-03-26T05:49:26.712559Z",
     "iopub.status.idle": "2022-03-26T05:49:26.928695Z",
     "shell.execute_reply": "2022-03-26T05:49:26.927756Z",
     "shell.execute_reply.started": "2022-03-26T05:49:26.713131Z"
    }
   },
   "outputs": [],
   "source": [
    "df_blog['내용']=df_blog.전기차문장.apply(lambda x : re.sub('[^가-힣]',' ',x))"
   ]
  },
  {
   "cell_type": "code",
   "execution_count": 32,
   "metadata": {
    "execution": {
     "iopub.execute_input": "2022-03-26T05:47:55.334115Z",
     "iopub.status.busy": "2022-03-26T05:47:55.333858Z",
     "iopub.status.idle": "2022-03-26T05:47:55.341096Z",
     "shell.execute_reply": "2022-03-26T05:47:55.340402Z",
     "shell.execute_reply.started": "2022-03-26T05:47:55.334079Z"
    }
   },
   "outputs": [
    {
     "data": {
      "text/plain": [
       "0       ​ 오랜만에 바다를 보니 뻥 뚫리고 좋았어여 ㅎㅎ  같이 커플 트레이닝복으로 맞추고...\n",
       "1       ​ 공항의 지하 주차장은 지하4층까지 있고 지하 1층에 전기차 충전소가 있어요 주차...\n",
       "2       주소 : 제주 서귀포시 이어도로 1028-12 ​ 숙소측 설명 : 귤낭하우스는 서귀...\n",
       "3       렌트카 픽업 우리는 렌트카를 할까말까 하다가 하기로 결정했고 오빠가 마침 새차 고민...\n",
       "4                                                    내용없음\n",
       "                              ...                        \n",
       "8714    ​ 우리가 빌린 차는  전기차 니로 ​ 나는 먼저 차에 타고 구님이 차 외관 확인하...\n",
       "8715    저는 쏘카패스 베타서비스 기간에 가입하여 쏘카스테이션에서도 가능하였습니다. 추가로 ...\n",
       "8716    숙박 비용은 총 6박을 하여서 215,391원에 예약했습니다! 렌터카 차종 :  B...\n",
       "8717    영주산을 바라보며 걷기 걷기도 했지만 일부는 전기차로 데려다 주시더라고요 제주 청초...\n",
       "8718       제대로 여행후기 남겨볼게요!!! ​ 전기차 처음 타보는데  신차라그런지  너무좋음!\n",
       "Name: 전기차문장, Length: 8719, dtype: object"
      ]
     },
     "execution_count": 32,
     "metadata": {},
     "output_type": "execute_result"
    }
   ],
   "source": [
    "df_blog.전기차문장"
   ]
  },
  {
   "cell_type": "code",
   "execution_count": 35,
   "metadata": {
    "execution": {
     "iopub.execute_input": "2022-03-26T05:49:39.155574Z",
     "iopub.status.busy": "2022-03-26T05:49:39.155266Z",
     "iopub.status.idle": "2022-03-26T05:49:39.160775Z",
     "shell.execute_reply": "2022-03-26T05:49:39.160353Z",
     "shell.execute_reply.started": "2022-03-26T05:49:39.155545Z"
    },
    "tags": []
   },
   "outputs": [
    {
     "data": {
      "text/plain": [
       "'  오랜만에 바다를 보니 뻥 뚫리고 좋았어여     같이 커플 트레이닝복으로 맞추고 신혼 티 팍팍   내면서 다녔구요  우도 가자마자 전기차를 타고 우도를 한바퀴 다 돌수있습니당   저희는 호객행위하는 사장님들로 인해 배에서 내리자마자 어찌저찌 바로 앞에 위치한 전기차가게로 갔는데  전기차가 제일 오래되서 비추       좀만 더 앞으로 가면 캐릭터 있고 귀여운 전기차 많아여  오랜만에 바다를 보니 뻥 뚫리고 좋았어여     같이 커플 트레이닝복으로 맞추고 신혼 티 팍팍   내면서 다녔구요  우도 가자마자 전기차를 타고 우도를 한바퀴 다 돌수있습니당   저희는 호객행위하는 사장님들로 인해 배에서 내리자마자 어찌저찌 바로 앞에 위치한 전기차가게로 갔는데  전기차가 제일 오래되서 비추       좀만 더 앞으로 가면 캐릭터 있고 귀여운 전기차 많아여   핑크색 하늘색 베이지색 다양합니당   같이 커플 트레이닝복으로 맞추고 신혼 티 팍팍   내면서 다녔구요  우도 가자마자 전기차를 타고 우도를 한바퀴 다 돌수있습니당   저희는 호객행위하는 사장님들로 인해 배에서 내리자마자 어찌저찌 바로 앞에 위치한 전기차가게로 갔는데  전기차가 제일 오래되서 비추       좀만 더 앞으로 가면 캐릭터 있고 귀여운 전기차 많아여   핑크색 하늘색 베이지색 다양합니당    우도까지 오셨으니 전기차를 타는건 추천드려요  우도가 생각보다 커서 걷어다니는건 완전 비추구요  좀만 더 앞으로 가면 캐릭터 있고 귀여운 전기차 많아여   핑크색 하늘색 베이지색 다양합니당    우도까지 오셨으니 전기차를 타는건 추천드려요  우도가 생각보다 커서 걷어다니는건 완전 비추구요   전기차를 타고 중간중간 식당  카페 들릴수 있고 이쁜 바다 뷰 사진도 여러군데에서 찍을 수 있습니당  우도에 왔으면 필수로 먹어줘야 하는  우도 땅콩아이스크림  핑크색 하늘색 베이지색 다양합니당    우도까지 오셨으니 전기차를 타는건 추천드려요  우도가 생각보다 커서 걷어다니는건 완전 비추구요   전기차를 타고 중간중간 식당  카페 들릴수 있고 이쁜 바다 뷰 사진도 여러군데에서 찍을 수 있습니당  우도에 왔으면 필수로 먹어줘야 하는  우도 땅콩아이스크림   땅콩을 한번 볶아서 그런지 정말 고소한 풍미가 진하고 맛있었어요  땅콩을 한번 볶아서 그런지 정말 고소한 풍미가 진하고 맛있었어요   우도의 절경이 너무나 웅장하고 멋있었어요     우도에서 전기차 타고 이리저리 사진찍고 까페가고 돌아다녀 보니 총 소요시간  시간정도 걸렸습니당     다시 왕복으로 끊은 배를 타고 나왔구요   바로 성산일출봉 고고    성산일출봉도 우도로 똑같다 생각하시면 안됩니다       비슷하지만  '"
      ]
     },
     "execution_count": 35,
     "metadata": {},
     "output_type": "execute_result"
    }
   ],
   "source": [
    "df_blog.내용[0]"
   ]
  },
  {
   "cell_type": "code",
   "execution_count": 31,
   "metadata": {
    "execution": {
     "iopub.execute_input": "2022-03-26T05:47:36.826437Z",
     "iopub.status.busy": "2022-03-26T05:47:36.825813Z",
     "iopub.status.idle": "2022-03-26T05:47:36.832665Z",
     "shell.execute_reply": "2022-03-26T05:47:36.832199Z",
     "shell.execute_reply.started": "2022-03-26T05:47:36.826348Z"
    }
   },
   "outputs": [
    {
     "data": {
      "text/plain": [
       "'\\u200b 오랜만에 바다를 보니 뻥 뚫리고 좋았어여 ㅎㅎ  같이 커플 트레이닝복으로 맞추고 신혼 티 팍팍!! 내면서 다녔구요! 우도 가자마자 전기차를 타고 우도를 한바퀴 다 돌수있습니당.  저희는 호객행위하는 사장님들로 인해 배에서 내리자마자 어찌저찌 바로 앞에 위치한 전기차가게로 갔는데 (전기차가 제일 오래되서 비추 ....) 좀만 더 앞으로 가면 캐릭터 있고 귀여운 전기차 많아여! 오랜만에 바다를 보니 뻥 뚫리고 좋았어여 ㅎㅎ  같이 커플 트레이닝복으로 맞추고 신혼 티 팍팍!! 내면서 다녔구요! 우도 가자마자 전기차를 타고 우도를 한바퀴 다 돌수있습니당.  저희는 호객행위하는 사장님들로 인해 배에서 내리자마자 어찌저찌 바로 앞에 위치한 전기차가게로 갔는데 (전기차가 제일 오래되서 비추 ....) 좀만 더 앞으로 가면 캐릭터 있고 귀여운 전기차 많아여!  핑크색 하늘색 베이지색 다양합니당~! 같이 커플 트레이닝복으로 맞추고 신혼 티 팍팍!! 내면서 다녔구요! 우도 가자마자 전기차를 타고 우도를 한바퀴 다 돌수있습니당.  저희는 호객행위하는 사장님들로 인해 배에서 내리자마자 어찌저찌 바로 앞에 위치한 전기차가게로 갔는데 (전기차가 제일 오래되서 비추 ....) 좀만 더 앞으로 가면 캐릭터 있고 귀여운 전기차 많아여!  핑크색 하늘색 베이지색 다양합니당~!  우도까지 오셨으니 전기차를 타는건 추천드려요! 우도가 생각보다 커서 걷어다니는건 완전 비추구요! 좀만 더 앞으로 가면 캐릭터 있고 귀여운 전기차 많아여!  핑크색 하늘색 베이지색 다양합니당~!  우도까지 오셨으니 전기차를 타는건 추천드려요! 우도가 생각보다 커서 걷어다니는건 완전 비추구요!  전기차를 타고 중간중간 식당, 카페 들릴수 있고 이쁜 바다 뷰 사진도 여러군데에서 찍을 수 있습니당  우도에 왔으면 필수로 먹어줘야 하는 \"우도 땅콩아이스크림\" 핑크색 하늘색 베이지색 다양합니당~!  우도까지 오셨으니 전기차를 타는건 추천드려요! 우도가 생각보다 커서 걷어다니는건 완전 비추구요!  전기차를 타고 중간중간 식당, 카페 들릴수 있고 이쁜 바다 뷰 사진도 여러군데에서 찍을 수 있습니당  우도에 왔으면 필수로 먹어줘야 하는 \"우도 땅콩아이스크림\"  땅콩을 한번 볶아서 그런지 정말 고소한 풍미가 진하고 맛있었어요! 땅콩을 한번 볶아서 그런지 정말 고소한 풍미가 진하고 맛있었어요!  우도의 절경이 너무나 웅장하고 멋있었어요 ㅎㅎ  우도에서 전기차 타고 이리저리 사진찍고 까페가고 돌아다녀 보니 총 소요시간 3시간정도 걸렸습니당~!!! 다시 왕복으로 끊은 배를 타고 나왔구요 ~ 바로 성산일출봉 고고 !! 성산일출봉도 우도로 똑같다 생각하시면 안됩니다~ ㅋㅋㅋ (비슷하지만) '"
      ]
     },
     "execution_count": 31,
     "metadata": {},
     "output_type": "execute_result"
    }
   ],
   "source": [
    "df_blog.전기차문장[0]"
   ]
  },
  {
   "cell_type": "code",
   "execution_count": 36,
   "metadata": {
    "execution": {
     "iopub.execute_input": "2022-03-26T05:51:22.020949Z",
     "iopub.status.busy": "2022-03-26T05:51:22.020426Z",
     "iopub.status.idle": "2022-03-26T05:55:25.613020Z",
     "shell.execute_reply": "2022-03-26T05:55:25.612230Z",
     "shell.execute_reply.started": "2022-03-26T05:51:22.020866Z"
    },
    "tags": []
   },
   "outputs": [
    {
     "name": "stderr",
     "output_type": "stream",
     "text": [
      "100%|███████████████████████████████████████| 8719/8719 [04:03<00:00, 35.79it/s]\n"
     ]
    }
   ],
   "source": [
    "stop_text = '은 는 이 가 을 를 의 에게 에 들 좀 잘 과 도 으로 자 와 ㅋㅋ ㅠㅠ ㅎㅎ ㅋㅋㅋ !'\n",
    "stopwords = stop_text.split()\n",
    "X_val = []\n",
    "for sentence in tqdm(df_blog.내용):\n",
    "    morphs = okt.morphs(sentence, stem=True)\n",
    "    tmp_list = [word for word in morphs if word not in stopwords]\n",
    "    tmp_str = ' '.join(tmp_list)\n",
    "    X_val.append(tmp_str)"
   ]
  },
  {
   "cell_type": "code",
   "execution_count": 56,
   "metadata": {
    "execution": {
     "iopub.execute_input": "2022-03-26T06:00:45.255559Z",
     "iopub.status.busy": "2022-03-26T06:00:45.255040Z",
     "iopub.status.idle": "2022-03-26T06:00:45.807802Z",
     "shell.execute_reply": "2022-03-26T06:00:45.807411Z",
     "shell.execute_reply.started": "2022-03-26T06:00:45.255493Z"
    },
    "tags": []
   },
   "outputs": [
    {
     "data": {
      "text/plain": [
       "array(['P', 'N', 'P', ..., 'E', 'P', 'P'], dtype=object)"
      ]
     },
     "execution_count": 56,
     "metadata": {},
     "output_type": "execute_result"
    }
   ],
   "source": [
    "X_val_cv=cvect.transform(X_val)\n",
    "la.inverse_transform(lr.predict(X_val_cv))"
   ]
  },
  {
   "cell_type": "code",
   "execution_count": 58,
   "metadata": {
    "execution": {
     "iopub.execute_input": "2022-03-26T06:01:20.421353Z",
     "iopub.status.busy": "2022-03-26T06:01:20.420871Z",
     "iopub.status.idle": "2022-03-26T06:01:20.434704Z",
     "shell.execute_reply": "2022-03-26T06:01:20.433912Z",
     "shell.execute_reply.started": "2022-03-26T06:01:20.421269Z"
    },
    "tags": []
   },
   "outputs": [],
   "source": [
    "df_blog['평가'] = la.inverse_transform(lr.predict(X_val_cv))"
   ]
  },
  {
   "cell_type": "code",
   "execution_count": 60,
   "metadata": {
    "execution": {
     "iopub.execute_input": "2022-03-26T06:01:41.414300Z",
     "iopub.status.busy": "2022-03-26T06:01:41.414039Z",
     "iopub.status.idle": "2022-03-26T06:01:41.424767Z",
     "shell.execute_reply": "2022-03-26T06:01:41.424350Z",
     "shell.execute_reply.started": "2022-03-26T06:01:41.414268Z"
    },
    "tags": []
   },
   "outputs": [
    {
     "data": {
      "text/html": [
       "<div>\n",
       "<style scoped>\n",
       "    .dataframe tbody tr th:only-of-type {\n",
       "        vertical-align: middle;\n",
       "    }\n",
       "\n",
       "    .dataframe tbody tr th {\n",
       "        vertical-align: top;\n",
       "    }\n",
       "\n",
       "    .dataframe thead th {\n",
       "        text-align: right;\n",
       "    }\n",
       "</style>\n",
       "<table border=\"1\" class=\"dataframe\">\n",
       "  <thead>\n",
       "    <tr style=\"text-align: right;\">\n",
       "      <th></th>\n",
       "      <th>제목</th>\n",
       "      <th>날짜</th>\n",
       "      <th>내용</th>\n",
       "      <th>긍부정</th>\n",
       "      <th>href</th>\n",
       "      <th>year</th>\n",
       "      <th>lr긍부정</th>\n",
       "      <th>lr긍부정이진분류</th>\n",
       "      <th>감성사전긍부정</th>\n",
       "      <th>전기차문장</th>\n",
       "      <th>전기차본문감성분석</th>\n",
       "      <th>년별</th>\n",
       "      <th>월별</th>\n",
       "      <th>평가</th>\n",
       "    </tr>\n",
       "  </thead>\n",
       "  <tbody>\n",
       "    <tr>\n",
       "      <th>0</th>\n",
       "      <td>2022년 4박 5일 신혼여행 후기 ing 제주도 (Feat. 일오반식당...</td>\n",
       "      <td>2022.03.17</td>\n",
       "      <td>오랜만에 바다를 보니 뻥 뚫리고 좋았어여     같이 커플 트레이닝복으로 맞추고...</td>\n",
       "      <td>0</td>\n",
       "      <td>https://blog.naver.com/apple_378?Redirect=Log&amp;...</td>\n",
       "      <td>2022</td>\n",
       "      <td>E</td>\n",
       "      <td>P</td>\n",
       "      <td>E</td>\n",
       "      <td>​ 오랜만에 바다를 보니 뻥 뚫리고 좋았어여 ㅎㅎ  같이 커플 트레이닝복으로 맞추고...</td>\n",
       "      <td>P</td>\n",
       "      <td>2022</td>\n",
       "      <td>2022.03</td>\n",
       "      <td>P</td>\n",
       "    </tr>\n",
       "  </tbody>\n",
       "</table>\n",
       "</div>"
      ],
      "text/plain": [
       "                                            제목          날짜  \\\n",
       "0  2022년 4박 5일 신혼여행 후기 ing 제주도 (Feat. 일오반식당...  2022.03.17   \n",
       "\n",
       "                                                  내용  긍부정  \\\n",
       "0    오랜만에 바다를 보니 뻥 뚫리고 좋았어여     같이 커플 트레이닝복으로 맞추고...    0   \n",
       "\n",
       "                                                href  year lr긍부정 lr긍부정이진분류  \\\n",
       "0  https://blog.naver.com/apple_378?Redirect=Log&...  2022     E         P   \n",
       "\n",
       "  감성사전긍부정                                              전기차문장 전기차본문감성분석    년별  \\\n",
       "0       E  ​ 오랜만에 바다를 보니 뻥 뚫리고 좋았어여 ㅎㅎ  같이 커플 트레이닝복으로 맞추고...         P  2022   \n",
       "\n",
       "        월별 평가  \n",
       "0  2022.03  P  "
      ]
     },
     "execution_count": 60,
     "metadata": {},
     "output_type": "execute_result"
    }
   ],
   "source": [
    "df_blog.head(1)"
   ]
  },
  {
   "cell_type": "code",
   "execution_count": 62,
   "metadata": {
    "execution": {
     "iopub.execute_input": "2022-03-26T06:02:55.555994Z",
     "iopub.status.busy": "2022-03-26T06:02:55.555433Z",
     "iopub.status.idle": "2022-03-26T06:02:55.566342Z",
     "shell.execute_reply": "2022-03-26T06:02:55.564500Z",
     "shell.execute_reply.started": "2022-03-26T06:02:55.555900Z"
    },
    "tags": []
   },
   "outputs": [],
   "source": [
    "df_blog['내용'] = X_val"
   ]
  },
  {
   "cell_type": "code",
   "execution_count": 64,
   "metadata": {
    "execution": {
     "iopub.execute_input": "2022-03-26T06:03:13.095049Z",
     "iopub.status.busy": "2022-03-26T06:03:13.094781Z",
     "iopub.status.idle": "2022-03-26T06:03:13.118142Z",
     "shell.execute_reply": "2022-03-26T06:03:13.117775Z",
     "shell.execute_reply.started": "2022-03-26T06:03:13.095014Z"
    },
    "tags": []
   },
   "outputs": [
    {
     "data": {
      "text/html": [
       "<div>\n",
       "<style scoped>\n",
       "    .dataframe tbody tr th:only-of-type {\n",
       "        vertical-align: middle;\n",
       "    }\n",
       "\n",
       "    .dataframe tbody tr th {\n",
       "        vertical-align: top;\n",
       "    }\n",
       "\n",
       "    .dataframe thead th {\n",
       "        text-align: right;\n",
       "    }\n",
       "</style>\n",
       "<table border=\"1\" class=\"dataframe\">\n",
       "  <thead>\n",
       "    <tr style=\"text-align: right;\">\n",
       "      <th></th>\n",
       "      <th>제목</th>\n",
       "      <th>날짜</th>\n",
       "      <th>내용</th>\n",
       "      <th>긍부정</th>\n",
       "      <th>href</th>\n",
       "      <th>year</th>\n",
       "      <th>lr긍부정</th>\n",
       "      <th>lr긍부정이진분류</th>\n",
       "      <th>감성사전긍부정</th>\n",
       "      <th>전기차문장</th>\n",
       "      <th>전기차본문감성분석</th>\n",
       "      <th>년별</th>\n",
       "      <th>월별</th>\n",
       "      <th>평가</th>\n",
       "    </tr>\n",
       "  </thead>\n",
       "  <tbody>\n",
       "    <tr>\n",
       "      <th>0</th>\n",
       "      <td>2022년 4박 5일 신혼여행 후기 ing 제주도 (Feat. 일오반식당...</td>\n",
       "      <td>2022.03.17</td>\n",
       "      <td>오랜 만 바다 보다 뻥 뚫리다 좋다 같이 커플 트레이닝복 맞추다 신혼 티 팍팍 내면...</td>\n",
       "      <td>0</td>\n",
       "      <td>https://blog.naver.com/apple_378?Redirect=Log&amp;...</td>\n",
       "      <td>2022</td>\n",
       "      <td>E</td>\n",
       "      <td>P</td>\n",
       "      <td>E</td>\n",
       "      <td>​ 오랜만에 바다를 보니 뻥 뚫리고 좋았어여 ㅎㅎ  같이 커플 트레이닝복으로 맞추고...</td>\n",
       "      <td>P</td>\n",
       "      <td>2022</td>\n",
       "      <td>2022.03</td>\n",
       "      <td>P</td>\n",
       "    </tr>\n",
       "  </tbody>\n",
       "</table>\n",
       "</div>"
      ],
      "text/plain": [
       "                                            제목          날짜  \\\n",
       "0  2022년 4박 5일 신혼여행 후기 ing 제주도 (Feat. 일오반식당...  2022.03.17   \n",
       "\n",
       "                                                  내용  긍부정  \\\n",
       "0  오랜 만 바다 보다 뻥 뚫리다 좋다 같이 커플 트레이닝복 맞추다 신혼 티 팍팍 내면...    0   \n",
       "\n",
       "                                                href  year lr긍부정 lr긍부정이진분류  \\\n",
       "0  https://blog.naver.com/apple_378?Redirect=Log&...  2022     E         P   \n",
       "\n",
       "  감성사전긍부정                                              전기차문장 전기차본문감성분석    년별  \\\n",
       "0       E  ​ 오랜만에 바다를 보니 뻥 뚫리고 좋았어여 ㅎㅎ  같이 커플 트레이닝복으로 맞추고...         P  2022   \n",
       "\n",
       "        월별 평가  \n",
       "0  2022.03  P  "
      ]
     },
     "execution_count": 64,
     "metadata": {},
     "output_type": "execute_result"
    }
   ],
   "source": [
    "df_blog.head(1)"
   ]
  },
  {
   "cell_type": "code",
   "execution_count": null,
   "metadata": {},
   "outputs": [],
   "source": [
    "# 제목,내용, 유형 , 조회수 , 작성날짜 , 월별 , 카페명 , 년별 , 평가 "
   ]
  },
  {
   "cell_type": "code",
   "execution_count": 69,
   "metadata": {
    "execution": {
     "iopub.execute_input": "2022-03-26T06:07:41.642379Z",
     "iopub.status.busy": "2022-03-26T06:07:41.642118Z",
     "iopub.status.idle": "2022-03-26T06:07:41.649174Z",
     "shell.execute_reply": "2022-03-26T06:07:41.648306Z",
     "shell.execute_reply.started": "2022-03-26T06:07:41.642348Z"
    },
    "tags": []
   },
   "outputs": [],
   "source": [
    "df_blog['유형'] = '블로그'\n",
    "df_blog['조회수'] = None\n",
    "df_blog['카페명'] = '네이버블로그'"
   ]
  },
  {
   "cell_type": "code",
   "execution_count": 67,
   "metadata": {
    "execution": {
     "iopub.execute_input": "2022-03-26T06:06:47.847421Z",
     "iopub.status.busy": "2022-03-26T06:06:47.847051Z",
     "iopub.status.idle": "2022-03-26T06:06:47.865797Z",
     "shell.execute_reply": "2022-03-26T06:06:47.865375Z",
     "shell.execute_reply.started": "2022-03-26T06:06:47.847386Z"
    }
   },
   "outputs": [
    {
     "data": {
      "text/html": [
       "<div>\n",
       "<style scoped>\n",
       "    .dataframe tbody tr th:only-of-type {\n",
       "        vertical-align: middle;\n",
       "    }\n",
       "\n",
       "    .dataframe tbody tr th {\n",
       "        vertical-align: top;\n",
       "    }\n",
       "\n",
       "    .dataframe thead th {\n",
       "        text-align: right;\n",
       "    }\n",
       "</style>\n",
       "<table border=\"1\" class=\"dataframe\">\n",
       "  <thead>\n",
       "    <tr style=\"text-align: right;\">\n",
       "      <th></th>\n",
       "      <th>제목</th>\n",
       "      <th>날짜</th>\n",
       "      <th>내용</th>\n",
       "      <th>긍부정</th>\n",
       "      <th>href</th>\n",
       "      <th>year</th>\n",
       "      <th>lr긍부정</th>\n",
       "      <th>lr긍부정이진분류</th>\n",
       "      <th>감성사전긍부정</th>\n",
       "      <th>전기차문장</th>\n",
       "      <th>전기차본문감성분석</th>\n",
       "      <th>년별</th>\n",
       "      <th>월별</th>\n",
       "      <th>평가</th>\n",
       "      <th>유형</th>\n",
       "      <th>조회수</th>\n",
       "    </tr>\n",
       "  </thead>\n",
       "  <tbody>\n",
       "    <tr>\n",
       "      <th>0</th>\n",
       "      <td>2022년 4박 5일 신혼여행 후기 ing 제주도 (Feat. 일오반식당...</td>\n",
       "      <td>2022.03.17</td>\n",
       "      <td>오랜 만 바다 보다 뻥 뚫리다 좋다 같이 커플 트레이닝복 맞추다 신혼 티 팍팍 내면...</td>\n",
       "      <td>0</td>\n",
       "      <td>https://blog.naver.com/apple_378?Redirect=Log&amp;...</td>\n",
       "      <td>2022</td>\n",
       "      <td>E</td>\n",
       "      <td>P</td>\n",
       "      <td>E</td>\n",
       "      <td>​ 오랜만에 바다를 보니 뻥 뚫리고 좋았어여 ㅎㅎ  같이 커플 트레이닝복으로 맞추고...</td>\n",
       "      <td>P</td>\n",
       "      <td>2022</td>\n",
       "      <td>2022.03</td>\n",
       "      <td>P</td>\n",
       "      <td>블로그</td>\n",
       "      <td>None</td>\n",
       "    </tr>\n",
       "  </tbody>\n",
       "</table>\n",
       "</div>"
      ],
      "text/plain": [
       "                                            제목          날짜  \\\n",
       "0  2022년 4박 5일 신혼여행 후기 ing 제주도 (Feat. 일오반식당...  2022.03.17   \n",
       "\n",
       "                                                  내용  긍부정  \\\n",
       "0  오랜 만 바다 보다 뻥 뚫리다 좋다 같이 커플 트레이닝복 맞추다 신혼 티 팍팍 내면...    0   \n",
       "\n",
       "                                                href  year lr긍부정 lr긍부정이진분류  \\\n",
       "0  https://blog.naver.com/apple_378?Redirect=Log&...  2022     E         P   \n",
       "\n",
       "  감성사전긍부정                                              전기차문장 전기차본문감성분석    년별  \\\n",
       "0       E  ​ 오랜만에 바다를 보니 뻥 뚫리고 좋았어여 ㅎㅎ  같이 커플 트레이닝복으로 맞추고...         P  2022   \n",
       "\n",
       "        월별 평가   유형   조회수  \n",
       "0  2022.03  P  블로그  None  "
      ]
     },
     "execution_count": 67,
     "metadata": {},
     "output_type": "execute_result"
    }
   ],
   "source": [
    "df_blog.head(1)"
   ]
  },
  {
   "cell_type": "code",
   "execution_count": 72,
   "metadata": {
    "execution": {
     "iopub.execute_input": "2022-03-26T06:08:14.792360Z",
     "iopub.status.busy": "2022-03-26T06:08:14.792021Z",
     "iopub.status.idle": "2022-03-26T06:08:14.802605Z",
     "shell.execute_reply": "2022-03-26T06:08:14.801620Z",
     "shell.execute_reply.started": "2022-03-26T06:08:14.792329Z"
    },
    "tags": []
   },
   "outputs": [],
   "source": [
    "df_blog_s=pd.DataFrame(\n",
    "    {\n",
    "        '제목' : df_blog.제목,\n",
    "        '내용' : df_blog.내용,\n",
    "        '유형' : df_blog['유형'],\n",
    "        '조회수' : df_blog['조회수'],\n",
    "        '작성날짜' : df_blog.날짜,\n",
    "        '월별' : df_blog.월별,\n",
    "        '카페명' : df_blog['카페명'],\n",
    "        '년별' : df_blog.년별,\n",
    "        '평가' : df_blog.평가\n",
    "    }\n",
    ")"
   ]
  },
  {
   "cell_type": "code",
   "execution_count": 75,
   "metadata": {
    "execution": {
     "iopub.execute_input": "2022-03-26T06:08:43.819870Z",
     "iopub.status.busy": "2022-03-26T06:08:43.819474Z",
     "iopub.status.idle": "2022-03-26T06:08:43.837063Z",
     "shell.execute_reply": "2022-03-26T06:08:43.835485Z",
     "shell.execute_reply.started": "2022-03-26T06:08:43.819806Z"
    },
    "tags": []
   },
   "outputs": [
    {
     "data": {
      "text/html": [
       "<div>\n",
       "<style scoped>\n",
       "    .dataframe tbody tr th:only-of-type {\n",
       "        vertical-align: middle;\n",
       "    }\n",
       "\n",
       "    .dataframe tbody tr th {\n",
       "        vertical-align: top;\n",
       "    }\n",
       "\n",
       "    .dataframe thead th {\n",
       "        text-align: right;\n",
       "    }\n",
       "</style>\n",
       "<table border=\"1\" class=\"dataframe\">\n",
       "  <thead>\n",
       "    <tr style=\"text-align: right;\">\n",
       "      <th></th>\n",
       "      <th>제목</th>\n",
       "      <th>내용</th>\n",
       "      <th>유형</th>\n",
       "      <th>조회수</th>\n",
       "      <th>작성날짜</th>\n",
       "      <th>월별</th>\n",
       "      <th>카페명</th>\n",
       "      <th>년별</th>\n",
       "      <th>평가</th>\n",
       "    </tr>\n",
       "  </thead>\n",
       "  <tbody>\n",
       "    <tr>\n",
       "      <th>0</th>\n",
       "      <td>2022년 4박 5일 신혼여행 후기 ing 제주도 (Feat. 일오반식당...</td>\n",
       "      <td>오랜 만 바다 보다 뻥 뚫리다 좋다 같이 커플 트레이닝복 맞추다 신혼 티 팍팍 내면...</td>\n",
       "      <td>블로그</td>\n",
       "      <td>None</td>\n",
       "      <td>2022.03.17</td>\n",
       "      <td>2022.03</td>\n",
       "      <td>네이버블로그</td>\n",
       "      <td>2022</td>\n",
       "      <td>P</td>\n",
       "    </tr>\n",
       "  </tbody>\n",
       "</table>\n",
       "</div>"
      ],
      "text/plain": [
       "                                            제목  \\\n",
       "0  2022년 4박 5일 신혼여행 후기 ing 제주도 (Feat. 일오반식당...   \n",
       "\n",
       "                                                  내용   유형   조회수        작성날짜  \\\n",
       "0  오랜 만 바다 보다 뻥 뚫리다 좋다 같이 커플 트레이닝복 맞추다 신혼 티 팍팍 내면...  블로그  None  2022.03.17   \n",
       "\n",
       "        월별     카페명    년별 평가  \n",
       "0  2022.03  네이버블로그  2022  P  "
      ]
     },
     "execution_count": 75,
     "metadata": {},
     "output_type": "execute_result"
    }
   ],
   "source": [
    "df_blog_s.head(1)"
   ]
  },
  {
   "cell_type": "code",
   "execution_count": 74,
   "metadata": {
    "execution": {
     "iopub.execute_input": "2022-03-26T06:08:33.364461Z",
     "iopub.status.busy": "2022-03-26T06:08:33.363904Z",
     "iopub.status.idle": "2022-03-26T06:08:33.382571Z",
     "shell.execute_reply": "2022-03-26T06:08:33.382133Z",
     "shell.execute_reply.started": "2022-03-26T06:08:33.364402Z"
    }
   },
   "outputs": [
    {
     "data": {
      "text/html": [
       "<div>\n",
       "<style scoped>\n",
       "    .dataframe tbody tr th:only-of-type {\n",
       "        vertical-align: middle;\n",
       "    }\n",
       "\n",
       "    .dataframe tbody tr th {\n",
       "        vertical-align: top;\n",
       "    }\n",
       "\n",
       "    .dataframe thead th {\n",
       "        text-align: right;\n",
       "    }\n",
       "</style>\n",
       "<table border=\"1\" class=\"dataframe\">\n",
       "  <thead>\n",
       "    <tr style=\"text-align: right;\">\n",
       "      <th></th>\n",
       "      <th>제목</th>\n",
       "      <th>내용</th>\n",
       "      <th>유형</th>\n",
       "      <th>조회수</th>\n",
       "      <th>작성날짜</th>\n",
       "      <th>월별</th>\n",
       "      <th>카페명</th>\n",
       "      <th>년별</th>\n",
       "      <th>평가</th>\n",
       "    </tr>\n",
       "  </thead>\n",
       "  <tbody>\n",
       "    <tr>\n",
       "      <th>0</th>\n",
       "      <td>봉고3더블캡</td>\n",
       "      <td>보다 투명하고 빠른 거래를 위하여 아래의 글 양식을 준수하여 주세요   거래 지역...</td>\n",
       "      <td>제사모 중고장터</td>\n",
       "      <td>130</td>\n",
       "      <td>2022.03.16.</td>\n",
       "      <td>2022.03</td>\n",
       "      <td>제사모</td>\n",
       "      <td>2022</td>\n",
       "      <td>P</td>\n",
       "    </tr>\n",
       "  </tbody>\n",
       "</table>\n",
       "</div>"
      ],
      "text/plain": [
       "       제목                                                 내용        유형  조회수  \\\n",
       "0  봉고3더블캡   보다 투명하고 빠른 거래를 위하여 아래의 글 양식을 준수하여 주세요   거래 지역...  제사모 중고장터  130   \n",
       "\n",
       "          작성날짜       월별  카페명    년별 평가  \n",
       "0  2022.03.16.  2022.03  제사모  2022  P  "
      ]
     },
     "execution_count": 74,
     "metadata": {},
     "output_type": "execute_result"
    }
   ],
   "source": [
    "df_cafe_commet_merge.head(1)"
   ]
  },
  {
   "cell_type": "code",
   "execution_count": 76,
   "metadata": {
    "execution": {
     "iopub.execute_input": "2022-03-26T06:10:00.890449Z",
     "iopub.status.busy": "2022-03-26T06:10:00.890160Z",
     "iopub.status.idle": "2022-03-26T06:10:00.902616Z",
     "shell.execute_reply": "2022-03-26T06:10:00.902152Z",
     "shell.execute_reply.started": "2022-03-26T06:10:00.890379Z"
    }
   },
   "outputs": [],
   "source": [
    "df_cafe_commet_merge2 = pd.concat([df_cafe_commet_merge,df_blog_s],axis=0)"
   ]
  },
  {
   "cell_type": "code",
   "execution_count": 82,
   "metadata": {
    "execution": {
     "iopub.execute_input": "2022-03-26T06:10:56.821811Z",
     "iopub.status.busy": "2022-03-26T06:10:56.821599Z",
     "iopub.status.idle": "2022-03-26T06:10:56.831030Z",
     "shell.execute_reply": "2022-03-26T06:10:56.830655Z",
     "shell.execute_reply.started": "2022-03-26T06:10:56.821780Z"
    },
    "tags": []
   },
   "outputs": [
    {
     "data": {
      "text/html": [
       "<div>\n",
       "<style scoped>\n",
       "    .dataframe tbody tr th:only-of-type {\n",
       "        vertical-align: middle;\n",
       "    }\n",
       "\n",
       "    .dataframe tbody tr th {\n",
       "        vertical-align: top;\n",
       "    }\n",
       "\n",
       "    .dataframe thead th {\n",
       "        text-align: right;\n",
       "    }\n",
       "</style>\n",
       "<table border=\"1\" class=\"dataframe\">\n",
       "  <thead>\n",
       "    <tr style=\"text-align: right;\">\n",
       "      <th></th>\n",
       "      <th>제목</th>\n",
       "      <th>내용</th>\n",
       "      <th>유형</th>\n",
       "      <th>조회수</th>\n",
       "      <th>작성날짜</th>\n",
       "      <th>월별</th>\n",
       "      <th>카페명</th>\n",
       "      <th>년별</th>\n",
       "      <th>평가</th>\n",
       "    </tr>\n",
       "  </thead>\n",
       "  <tbody>\n",
       "    <tr>\n",
       "      <th>0</th>\n",
       "      <td>봉고3더블캡</td>\n",
       "      <td>보다 투명하고 빠른 거래를 위하여 아래의 글 양식을 준수하여 주세요   거래 지역...</td>\n",
       "      <td>제사모 중고장터</td>\n",
       "      <td>130</td>\n",
       "      <td>2022.03.16.</td>\n",
       "      <td>2022.03</td>\n",
       "      <td>제사모</td>\n",
       "      <td>2022</td>\n",
       "      <td>P</td>\n",
       "    </tr>\n",
       "    <tr>\n",
       "      <th>1</th>\n",
       "      <td>렌트카 알아보고 있는데 lpg 차량이 저렴한 이유가 뭘까요?</td>\n",
       "      <td>육지에서 이번주 토욜부터 제주 한달살이 시작하면서 렌트카 알아보고 있어요 육지에선 ...</td>\n",
       "      <td>Q. 종합 질문방</td>\n",
       "      <td>161</td>\n",
       "      <td>2022.03.16.</td>\n",
       "      <td>2022.03</td>\n",
       "      <td>제사모</td>\n",
       "      <td>2022</td>\n",
       "      <td>N</td>\n",
       "    </tr>\n",
       "  </tbody>\n",
       "</table>\n",
       "</div>"
      ],
      "text/plain": [
       "                                  제목  \\\n",
       "0                             봉고3더블캡   \n",
       "1  렌트카 알아보고 있는데 lpg 차량이 저렴한 이유가 뭘까요?   \n",
       "\n",
       "                                                  내용         유형  조회수  \\\n",
       "0   보다 투명하고 빠른 거래를 위하여 아래의 글 양식을 준수하여 주세요   거래 지역...   제사모 중고장터  130   \n",
       "1  육지에서 이번주 토욜부터 제주 한달살이 시작하면서 렌트카 알아보고 있어요 육지에선 ...  Q. 종합 질문방  161   \n",
       "\n",
       "          작성날짜       월별  카페명    년별 평가  \n",
       "0  2022.03.16.  2022.03  제사모  2022  P  \n",
       "1  2022.03.16.  2022.03  제사모  2022  N  "
      ]
     },
     "execution_count": 82,
     "metadata": {},
     "output_type": "execute_result"
    }
   ],
   "source": [
    "df_cafe_commet_merge2.head(2)"
   ]
  },
  {
   "cell_type": "code",
   "execution_count": 84,
   "metadata": {
    "execution": {
     "iopub.execute_input": "2022-03-26T06:12:02.313512Z",
     "iopub.status.busy": "2022-03-26T06:12:02.313038Z",
     "iopub.status.idle": "2022-03-26T06:12:08.527546Z",
     "shell.execute_reply": "2022-03-26T06:12:08.526020Z",
     "shell.execute_reply.started": "2022-03-26T06:12:02.313424Z"
    },
    "tags": []
   },
   "outputs": [],
   "source": [
    "df_cafe_commet_merge2.to_csv('블로그제사모느영나영전기차동호회merge.csv',index=False)"
   ]
  },
  {
   "cell_type": "code",
   "execution_count": 100,
   "metadata": {
    "execution": {
     "iopub.execute_input": "2022-03-26T06:19:27.476284Z",
     "iopub.status.busy": "2022-03-26T06:19:27.475833Z",
     "iopub.status.idle": "2022-03-26T06:19:27.485675Z",
     "shell.execute_reply": "2022-03-26T06:19:27.484418Z",
     "shell.execute_reply.started": "2022-03-26T06:19:27.476217Z"
    },
    "tags": []
   },
   "outputs": [
    {
     "data": {
      "text/plain": [
       "Index(['제목', '내용', '작성시간', '카페명', '평가', '전처리'], dtype='object')"
      ]
     },
     "execution_count": 100,
     "metadata": {},
     "output_type": "execute_result"
    }
   ],
   "source": [
    "df_toflux.columns"
   ]
  },
  {
   "cell_type": "code",
   "execution_count": 113,
   "metadata": {
    "execution": {
     "iopub.execute_input": "2022-03-26T06:31:43.375415Z",
     "iopub.status.busy": "2022-03-26T06:31:43.375036Z",
     "iopub.status.idle": "2022-03-26T06:31:43.392644Z",
     "shell.execute_reply": "2022-03-26T06:31:43.392284Z",
     "shell.execute_reply.started": "2022-03-26T06:31:43.375379Z"
    },
    "tags": []
   },
   "outputs": [
    {
     "data": {
      "text/html": [
       "<div>\n",
       "<style scoped>\n",
       "    .dataframe tbody tr th:only-of-type {\n",
       "        vertical-align: middle;\n",
       "    }\n",
       "\n",
       "    .dataframe tbody tr th {\n",
       "        vertical-align: top;\n",
       "    }\n",
       "\n",
       "    .dataframe thead th {\n",
       "        text-align: right;\n",
       "    }\n",
       "</style>\n",
       "<table border=\"1\" class=\"dataframe\">\n",
       "  <thead>\n",
       "    <tr style=\"text-align: right;\">\n",
       "      <th></th>\n",
       "      <th>제목</th>\n",
       "      <th>내용</th>\n",
       "      <th>작성시간</th>\n",
       "      <th>카페명</th>\n",
       "      <th>평가</th>\n",
       "      <th>전처리</th>\n",
       "    </tr>\n",
       "  </thead>\n",
       "  <tbody>\n",
       "    <tr>\n",
       "      <th>0</th>\n",
       "      <td>아이오닉5 휠베이스 3000의 가치</td>\n",
       "      <td>▶ 아이오닉5 휠베이스 3000의 가치_x000D_\\n_x000D_\\n서비스센터 갔...</td>\n",
       "      <td>2021-01-12 17:01:00</td>\n",
       "      <td>전기차동호회</td>\n",
       "      <td>P</td>\n",
       "      <td>아이오 닉 휠 베이스 가치 서비스 센터 가다 부품 수급 문제 로 렌터카 받다 오다 ...</td>\n",
       "    </tr>\n",
       "  </tbody>\n",
       "</table>\n",
       "</div>"
      ],
      "text/plain": [
       "                    제목                                                 내용  \\\n",
       "0  아이오닉5 휠베이스 3000의 가치  ▶ 아이오닉5 휠베이스 3000의 가치_x000D_\\n_x000D_\\n서비스센터 갔...   \n",
       "\n",
       "                  작성시간     카페명 평가  \\\n",
       "0  2021-01-12 17:01:00  전기차동호회  P   \n",
       "\n",
       "                                                 전처리  \n",
       "0  아이오 닉 휠 베이스 가치 서비스 센터 가다 부품 수급 문제 로 렌터카 받다 오다 ...  "
      ]
     },
     "execution_count": 113,
     "metadata": {},
     "output_type": "execute_result"
    }
   ],
   "source": [
    "df_toflux.head(1)"
   ]
  },
  {
   "cell_type": "code",
   "execution_count": 128,
   "metadata": {
    "execution": {
     "iopub.execute_input": "2022-03-26T06:38:57.740052Z",
     "iopub.status.busy": "2022-03-26T06:38:57.739695Z",
     "iopub.status.idle": "2022-03-26T06:38:57.747324Z",
     "shell.execute_reply": "2022-03-26T06:38:57.746405Z",
     "shell.execute_reply.started": "2022-03-26T06:38:57.740016Z"
    }
   },
   "outputs": [],
   "source": [
    "df_toflux['유형'] = '투플럭스'\n",
    "df_toflux['조회수'] = None\n"
   ]
  },
  {
   "cell_type": "code",
   "execution_count": 121,
   "metadata": {
    "execution": {
     "iopub.execute_input": "2022-03-26T06:36:15.129950Z",
     "iopub.status.busy": "2022-03-26T06:36:15.129429Z",
     "iopub.status.idle": "2022-03-26T06:36:15.230373Z",
     "shell.execute_reply": "2022-03-26T06:36:15.229682Z",
     "shell.execute_reply.started": "2022-03-26T06:36:15.129883Z"
    },
    "tags": []
   },
   "outputs": [],
   "source": [
    "df_toflux['작성시간']=df_toflux.작성시간.str.replace('-','.')"
   ]
  },
  {
   "cell_type": "code",
   "execution_count": 122,
   "metadata": {
    "execution": {
     "iopub.execute_input": "2022-03-26T06:36:24.932405Z",
     "iopub.status.busy": "2022-03-26T06:36:24.932161Z",
     "iopub.status.idle": "2022-03-26T06:36:24.940279Z",
     "shell.execute_reply": "2022-03-26T06:36:24.939851Z",
     "shell.execute_reply.started": "2022-03-26T06:36:24.932378Z"
    }
   },
   "outputs": [
    {
     "data": {
      "text/html": [
       "<div>\n",
       "<style scoped>\n",
       "    .dataframe tbody tr th:only-of-type {\n",
       "        vertical-align: middle;\n",
       "    }\n",
       "\n",
       "    .dataframe tbody tr th {\n",
       "        vertical-align: top;\n",
       "    }\n",
       "\n",
       "    .dataframe thead th {\n",
       "        text-align: right;\n",
       "    }\n",
       "</style>\n",
       "<table border=\"1\" class=\"dataframe\">\n",
       "  <thead>\n",
       "    <tr style=\"text-align: right;\">\n",
       "      <th></th>\n",
       "      <th>제목</th>\n",
       "      <th>내용</th>\n",
       "      <th>작성시간</th>\n",
       "      <th>카페명</th>\n",
       "      <th>평가</th>\n",
       "      <th>전처리</th>\n",
       "    </tr>\n",
       "  </thead>\n",
       "  <tbody>\n",
       "    <tr>\n",
       "      <th>0</th>\n",
       "      <td>아이오닉5 휠베이스 3000의 가치</td>\n",
       "      <td>▶ 아이오닉5 휠베이스 3000의 가치_x000D_\\n_x000D_\\n서비스센터 갔...</td>\n",
       "      <td>2021.01.12 17:01:00</td>\n",
       "      <td>전기차동호회</td>\n",
       "      <td>P</td>\n",
       "      <td>아이오 닉 휠 베이스 가치 서비스 센터 가다 부품 수급 문제 로 렌터카 받다 오다 ...</td>\n",
       "    </tr>\n",
       "  </tbody>\n",
       "</table>\n",
       "</div>"
      ],
      "text/plain": [
       "                    제목                                                 내용  \\\n",
       "0  아이오닉5 휠베이스 3000의 가치  ▶ 아이오닉5 휠베이스 3000의 가치_x000D_\\n_x000D_\\n서비스센터 갔...   \n",
       "\n",
       "                  작성시간     카페명 평가  \\\n",
       "0  2021.01.12 17:01:00  전기차동호회  P   \n",
       "\n",
       "                                                 전처리  \n",
       "0  아이오 닉 휠 베이스 가치 서비스 센터 가다 부품 수급 문제 로 렌터카 받다 오다 ...  "
      ]
     },
     "execution_count": 122,
     "metadata": {},
     "output_type": "execute_result"
    }
   ],
   "source": [
    "df_toflux.head(1)"
   ]
  },
  {
   "cell_type": "code",
   "execution_count": 124,
   "metadata": {
    "execution": {
     "iopub.execute_input": "2022-03-26T06:37:53.554818Z",
     "iopub.status.busy": "2022-03-26T06:37:53.554374Z",
     "iopub.status.idle": "2022-03-26T06:37:53.561618Z",
     "shell.execute_reply": "2022-03-26T06:37:53.561277Z",
     "shell.execute_reply.started": "2022-03-26T06:37:53.554743Z"
    },
    "tags": []
   },
   "outputs": [
    {
     "data": {
      "text/plain": [
       "'2021.01'"
      ]
     },
     "execution_count": 124,
     "metadata": {},
     "output_type": "execute_result"
    }
   ],
   "source": [
    "df_toflux.작성시간[0][:7]"
   ]
  },
  {
   "cell_type": "code",
   "execution_count": 125,
   "metadata": {
    "execution": {
     "iopub.execute_input": "2022-03-26T06:38:01.034287Z",
     "iopub.status.busy": "2022-03-26T06:38:01.033757Z",
     "iopub.status.idle": "2022-03-26T06:38:01.157545Z",
     "shell.execute_reply": "2022-03-26T06:38:01.156608Z",
     "shell.execute_reply.started": "2022-03-26T06:38:01.034227Z"
    }
   },
   "outputs": [],
   "source": [
    "df_toflux['월별'] = df_toflux.작성시간.apply(lambda x: x[:7])\n",
    "df_toflux['년별'] = df_toflux.작성시간.apply(lambda x: x[:4])"
   ]
  },
  {
   "cell_type": "code",
   "execution_count": 129,
   "metadata": {
    "execution": {
     "iopub.execute_input": "2022-03-26T06:38:59.848352Z",
     "iopub.status.busy": "2022-03-26T06:38:59.846758Z",
     "iopub.status.idle": "2022-03-26T06:38:59.890990Z",
     "shell.execute_reply": "2022-03-26T06:38:59.890149Z",
     "shell.execute_reply.started": "2022-03-26T06:38:59.848278Z"
    },
    "tags": []
   },
   "outputs": [],
   "source": [
    "df_toflux2 = pd.DataFrame(\n",
    "    {\n",
    "        '제목' : df_toflux.제목,\n",
    "        '내용' : df_toflux.전처리,\n",
    "        '유형' : df_toflux.유형,\n",
    "        '조회수' : df_toflux.조회수,\n",
    "        '작성날짜' : df_toflux.작성시간,\n",
    "        '월별' : df_toflux.월별,\n",
    "        '카페명' : df_toflux.카페명,\n",
    "        '년별' : df_toflux.년별,\n",
    "        '평가' : df_toflux.평가,\n",
    "    \n",
    "    }\n",
    ")"
   ]
  },
  {
   "cell_type": "code",
   "execution_count": 141,
   "metadata": {
    "execution": {
     "iopub.execute_input": "2022-03-26T06:42:05.478663Z",
     "iopub.status.busy": "2022-03-26T06:42:05.478394Z",
     "iopub.status.idle": "2022-03-26T06:42:05.577194Z",
     "shell.execute_reply": "2022-03-26T06:42:05.576151Z",
     "shell.execute_reply.started": "2022-03-26T06:42:05.478623Z"
    },
    "tags": []
   },
   "outputs": [],
   "source": [
    "df_toflux2['작성날짜'] = df_toflux2.작성날짜.apply(lambda x:x[:11].replace(' ','.'))"
   ]
  },
  {
   "cell_type": "code",
   "execution_count": 143,
   "metadata": {
    "execution": {
     "iopub.execute_input": "2022-03-26T06:42:46.442203Z",
     "iopub.status.busy": "2022-03-26T06:42:46.441984Z",
     "iopub.status.idle": "2022-03-26T06:42:46.450306Z",
     "shell.execute_reply": "2022-03-26T06:42:46.449142Z",
     "shell.execute_reply.started": "2022-03-26T06:42:46.442171Z"
    },
    "tags": []
   },
   "outputs": [],
   "source": [
    "df_toflux2['카페명'] = '전기차동호회(투플럭스)'"
   ]
  },
  {
   "cell_type": "code",
   "execution_count": 144,
   "metadata": {
    "execution": {
     "iopub.execute_input": "2022-03-26T06:43:00.092484Z",
     "iopub.status.busy": "2022-03-26T06:43:00.092225Z",
     "iopub.status.idle": "2022-03-26T06:43:00.109239Z",
     "shell.execute_reply": "2022-03-26T06:43:00.108791Z",
     "shell.execute_reply.started": "2022-03-26T06:43:00.092454Z"
    }
   },
   "outputs": [
    {
     "data": {
      "text/html": [
       "<div>\n",
       "<style scoped>\n",
       "    .dataframe tbody tr th:only-of-type {\n",
       "        vertical-align: middle;\n",
       "    }\n",
       "\n",
       "    .dataframe tbody tr th {\n",
       "        vertical-align: top;\n",
       "    }\n",
       "\n",
       "    .dataframe thead th {\n",
       "        text-align: right;\n",
       "    }\n",
       "</style>\n",
       "<table border=\"1\" class=\"dataframe\">\n",
       "  <thead>\n",
       "    <tr style=\"text-align: right;\">\n",
       "      <th></th>\n",
       "      <th>제목</th>\n",
       "      <th>내용</th>\n",
       "      <th>유형</th>\n",
       "      <th>조회수</th>\n",
       "      <th>작성날짜</th>\n",
       "      <th>월별</th>\n",
       "      <th>카페명</th>\n",
       "      <th>년별</th>\n",
       "      <th>평가</th>\n",
       "    </tr>\n",
       "  </thead>\n",
       "  <tbody>\n",
       "    <tr>\n",
       "      <th>0</th>\n",
       "      <td>아이오닉5 휠베이스 3000의 가치</td>\n",
       "      <td>아이오 닉 휠 베이스 가치 서비스 센터 가다 부품 수급 문제 로 렌터카 받다 오다 ...</td>\n",
       "      <td>투플럭스</td>\n",
       "      <td>None</td>\n",
       "      <td>2021.01.12.</td>\n",
       "      <td>2021.01</td>\n",
       "      <td>전기차동호회(투플럭스)</td>\n",
       "      <td>2021</td>\n",
       "      <td>P</td>\n",
       "    </tr>\n",
       "    <tr>\n",
       "      <th>1</th>\n",
       "      <td>현대차 아이오닉5 vs 테슬라 모델Y, 뭘 살까요?</td>\n",
       "      <td>현대차 아이오 닉 테슬라 모델 뭘 살다 요 현대차 아이오 닉 테슬라 모델 뭘 살다 ...</td>\n",
       "      <td>투플럭스</td>\n",
       "      <td>None</td>\n",
       "      <td>2021.02.23.</td>\n",
       "      <td>2021.02</td>\n",
       "      <td>전기차동호회(투플럭스)</td>\n",
       "      <td>2021</td>\n",
       "      <td>P</td>\n",
       "    </tr>\n",
       "  </tbody>\n",
       "</table>\n",
       "</div>"
      ],
      "text/plain": [
       "                             제목  \\\n",
       "0           아이오닉5 휠베이스 3000의 가치   \n",
       "1  현대차 아이오닉5 vs 테슬라 모델Y, 뭘 살까요?   \n",
       "\n",
       "                                                  내용    유형   조회수         작성날짜  \\\n",
       "0  아이오 닉 휠 베이스 가치 서비스 센터 가다 부품 수급 문제 로 렌터카 받다 오다 ...  투플럭스  None  2021.01.12.   \n",
       "1  현대차 아이오 닉 테슬라 모델 뭘 살다 요 현대차 아이오 닉 테슬라 모델 뭘 살다 ...  투플럭스  None  2021.02.23.   \n",
       "\n",
       "        월별           카페명    년별 평가  \n",
       "0  2021.01  전기차동호회(투플럭스)  2021  P  \n",
       "1  2021.02  전기차동호회(투플럭스)  2021  P  "
      ]
     },
     "execution_count": 144,
     "metadata": {},
     "output_type": "execute_result"
    }
   ],
   "source": [
    "df_toflux2.head(2)"
   ]
  },
  {
   "cell_type": "code",
   "execution_count": 147,
   "metadata": {
    "execution": {
     "iopub.execute_input": "2022-03-26T06:43:39.316673Z",
     "iopub.status.busy": "2022-03-26T06:43:39.316451Z",
     "iopub.status.idle": "2022-03-26T06:43:39.320744Z",
     "shell.execute_reply": "2022-03-26T06:43:39.320400Z",
     "shell.execute_reply.started": "2022-03-26T06:43:39.316641Z"
    },
    "tags": []
   },
   "outputs": [
    {
     "data": {
      "text/plain": [
       "'현대차 아이오 닉 테슬라 모델 뭘 살다 요 현대차 아이오 닉 테슬라 모델 뭘 살다 요 외형 적 차량 뼈대 되다 차체 테슬라 모델 더 크다 다만 차 마니아 사이 에선 그 보다 휠 레인지 일명 차축 길이 더 중요하다 말 하다 실제 로 아이오 닉 휠 레인지 로 모델 보다 약 가다 더 크다 실내 공간 더 만들다 현대차 능력 시스템 자다 맞다 물리다 셈 이다 다만 출력 이나 제로 백 에서는 모델 더 앞서다 모습 이다 모델 출력 롱 레인지 기준 마력 아이오 닉 프레스티지 사륜구동 모델 출력 인 마력 보다 훨씬 크다 제로 백도 아이오 닉 초 인데 반하다 모델 늘다 퍼포먼스 트림 기준 초 롱 레인지 기준 초로 앞서다 주행 거리 에서도 모델 아이오 닉 다소 우세하다 익스 클루 시브 트림 기준 아이오 닉 늘다 완충 기준 주행 하다 수 있다 반면 모델 늘다 롱 레인지 기준 퍼포먼스 기준 로 하다 번 더 멀리 간다 물론 스탠다드 레인지 기준 으론 로 아이오 닉 보다 짧다 점도 참고 하다 하다 부분 이다 배터리 충전 속도 에선 아이오 닉 모델 월등하다 앞서다 것 보이다 같다 타입 쓰다 것 알려지다 두 차량 배터리 용량 모델 아이오 닉 보다 더 높다 반면 충전 속도 멀티 급속 충전 호 환하다 아이오 닉 분 만에 까지 충전 가능하다 모델 늘다 완충 시간 이상 소요 되다 하다 아이오 닉 모델 늘다 특장점 뚜렷하다 아이오 닉 늘다 차량 외부 에서도 차 전기 쓸다 수 있다 기능 호환 되다 지능 형 공기 유동 제어기 탑재 돼다 주행 거리 연장 기여 한 다 모델 늘다 테슬라 자랑 하다 오토파일럿 기능 탑재 돼다 장점 있다 한편 현대차 일 부터 아이오 닉 국내 사전 계약 시작 한 다 롱 레인지 모델 개 트림 진행 하다 가격 세제 혜택 전 기준 익스 클루 시브 만원 대 초반 프레스티지 만원 대 중반 이다 보조금 개별 소비 세 인하 반영 되다 익스 클루 시브 트림 기준 만원 대 후반 에도 구입 하다 수 있다 말 나오다'"
      ]
     },
     "execution_count": 147,
     "metadata": {},
     "output_type": "execute_result"
    }
   ],
   "source": [
    "df_toflux2.내용[1]"
   ]
  },
  {
   "cell_type": "code",
   "execution_count": 145,
   "metadata": {
    "execution": {
     "iopub.execute_input": "2022-03-26T06:43:03.520571Z",
     "iopub.status.busy": "2022-03-26T06:43:03.519995Z",
     "iopub.status.idle": "2022-03-26T06:43:03.540001Z",
     "shell.execute_reply": "2022-03-26T06:43:03.539583Z",
     "shell.execute_reply.started": "2022-03-26T06:43:03.520507Z"
    },
    "tags": []
   },
   "outputs": [
    {
     "data": {
      "text/html": [
       "<div>\n",
       "<style scoped>\n",
       "    .dataframe tbody tr th:only-of-type {\n",
       "        vertical-align: middle;\n",
       "    }\n",
       "\n",
       "    .dataframe tbody tr th {\n",
       "        vertical-align: top;\n",
       "    }\n",
       "\n",
       "    .dataframe thead th {\n",
       "        text-align: right;\n",
       "    }\n",
       "</style>\n",
       "<table border=\"1\" class=\"dataframe\">\n",
       "  <thead>\n",
       "    <tr style=\"text-align: right;\">\n",
       "      <th></th>\n",
       "      <th>제목</th>\n",
       "      <th>내용</th>\n",
       "      <th>유형</th>\n",
       "      <th>조회수</th>\n",
       "      <th>작성날짜</th>\n",
       "      <th>월별</th>\n",
       "      <th>카페명</th>\n",
       "      <th>년별</th>\n",
       "      <th>평가</th>\n",
       "    </tr>\n",
       "  </thead>\n",
       "  <tbody>\n",
       "    <tr>\n",
       "      <th>0</th>\n",
       "      <td>봉고3더블캡</td>\n",
       "      <td>보다 투명하고 빠른 거래를 위하여 아래의 글 양식을 준수하여 주세요   거래 지역...</td>\n",
       "      <td>제사모 중고장터</td>\n",
       "      <td>130</td>\n",
       "      <td>2022.03.16.</td>\n",
       "      <td>2022.03</td>\n",
       "      <td>제사모</td>\n",
       "      <td>2022</td>\n",
       "      <td>P</td>\n",
       "    </tr>\n",
       "  </tbody>\n",
       "</table>\n",
       "</div>"
      ],
      "text/plain": [
       "       제목                                                 내용        유형  조회수  \\\n",
       "0  봉고3더블캡   보다 투명하고 빠른 거래를 위하여 아래의 글 양식을 준수하여 주세요   거래 지역...  제사모 중고장터  130   \n",
       "\n",
       "          작성날짜       월별  카페명    년별 평가  \n",
       "0  2022.03.16.  2022.03  제사모  2022  P  "
      ]
     },
     "execution_count": 145,
     "metadata": {},
     "output_type": "execute_result"
    }
   ],
   "source": [
    "df_cafe_commet_merge2.head(1)"
   ]
  },
  {
   "cell_type": "code",
   "execution_count": 148,
   "metadata": {
    "execution": {
     "iopub.execute_input": "2022-03-26T06:44:18.680719Z",
     "iopub.status.busy": "2022-03-26T06:44:18.680247Z",
     "iopub.status.idle": "2022-03-26T06:44:18.728663Z",
     "shell.execute_reply": "2022-03-26T06:44:18.727623Z",
     "shell.execute_reply.started": "2022-03-26T06:44:18.680643Z"
    }
   },
   "outputs": [],
   "source": [
    "df_final = pd.concat([df_cafe_commet_merge2,df_toflux2],axis=0)"
   ]
  },
  {
   "cell_type": "code",
   "execution_count": 150,
   "metadata": {
    "execution": {
     "iopub.execute_input": "2022-03-26T06:44:42.460062Z",
     "iopub.status.busy": "2022-03-26T06:44:42.459928Z",
     "iopub.status.idle": "2022-03-26T06:44:42.476839Z",
     "shell.execute_reply": "2022-03-26T06:44:42.476177Z",
     "shell.execute_reply.started": "2022-03-26T06:44:42.460050Z"
    },
    "tags": []
   },
   "outputs": [
    {
     "data": {
      "text/plain": [
       "P    214068\n",
       "E    107234\n",
       "N     92864\n",
       "Name: 평가, dtype: int64"
      ]
     },
     "execution_count": 150,
     "metadata": {},
     "output_type": "execute_result"
    }
   ],
   "source": [
    "df_final.평가.value_counts()"
   ]
  },
  {
   "cell_type": "code",
   "execution_count": 162,
   "metadata": {
    "execution": {
     "iopub.execute_input": "2022-03-26T06:50:19.759889Z",
     "iopub.status.busy": "2022-03-26T06:50:19.759669Z",
     "iopub.status.idle": "2022-03-26T06:50:19.775185Z",
     "shell.execute_reply": "2022-03-26T06:50:19.774680Z",
     "shell.execute_reply.started": "2022-03-26T06:50:19.759871Z"
    },
    "tags": []
   },
   "outputs": [],
   "source": [
    "df_final['유형'].fillna('카페댓글',inplace=True)"
   ]
  },
  {
   "cell_type": "code",
   "execution_count": 164,
   "metadata": {
    "execution": {
     "iopub.execute_input": "2022-03-26T06:51:14.549688Z",
     "iopub.status.busy": "2022-03-26T06:51:14.549267Z",
     "iopub.status.idle": "2022-03-26T06:51:14.569217Z",
     "shell.execute_reply": "2022-03-26T06:51:14.568513Z",
     "shell.execute_reply.started": "2022-03-26T06:51:14.549608Z"
    },
    "tags": []
   },
   "outputs": [],
   "source": [
    "df_final['조회수'].fillna('조회수없음',inplace=True)"
   ]
  },
  {
   "cell_type": "code",
   "execution_count": 166,
   "metadata": {
    "execution": {
     "iopub.execute_input": "2022-03-26T06:51:52.457509Z",
     "iopub.status.busy": "2022-03-26T06:51:52.457054Z",
     "iopub.status.idle": "2022-03-26T06:51:52.773616Z",
     "shell.execute_reply": "2022-03-26T06:51:52.772625Z",
     "shell.execute_reply.started": "2022-03-26T06:51:52.457426Z"
    }
   },
   "outputs": [],
   "source": [
    "df_final.dropna(inplace=True)"
   ]
  },
  {
   "cell_type": "code",
   "execution_count": 167,
   "metadata": {
    "execution": {
     "iopub.execute_input": "2022-03-26T06:51:54.386860Z",
     "iopub.status.busy": "2022-03-26T06:51:54.386410Z",
     "iopub.status.idle": "2022-03-26T06:51:54.536446Z",
     "shell.execute_reply": "2022-03-26T06:51:54.535710Z",
     "shell.execute_reply.started": "2022-03-26T06:51:54.386799Z"
    },
    "tags": []
   },
   "outputs": [
    {
     "data": {
      "text/plain": [
       "제목      0\n",
       "내용      0\n",
       "유형      0\n",
       "조회수     0\n",
       "작성날짜    0\n",
       "월별      0\n",
       "카페명     0\n",
       "년별      0\n",
       "평가      0\n",
       "dtype: int64"
      ]
     },
     "execution_count": 167,
     "metadata": {},
     "output_type": "execute_result"
    }
   ],
   "source": [
    "df_final.isnull().sum()"
   ]
  },
  {
   "cell_type": "code",
   "execution_count": 169,
   "metadata": {
    "execution": {
     "iopub.execute_input": "2022-03-26T06:52:25.630684Z",
     "iopub.status.busy": "2022-03-26T06:52:25.630503Z",
     "iopub.status.idle": "2022-03-26T06:52:25.647170Z",
     "shell.execute_reply": "2022-03-26T06:52:25.646821Z",
     "shell.execute_reply.started": "2022-03-26T06:52:25.630644Z"
    },
    "tags": []
   },
   "outputs": [
    {
     "data": {
      "text/plain": [
       "투플럭스             394778\n",
       "블로그                8719\n",
       "카페댓글               5072\n",
       "┌─┐여행 준비하기         2518\n",
       "제주특별자치도            2301\n",
       "■ 분양정보/신축매물         145\n",
       "실시간 이야기              97\n",
       "Q. 종합 질문방            97\n",
       "[종료된 입점게시물]          57\n",
       "우리 가게 소식 ★           56\n",
       "이시국 랜선여행 (종료)        36\n",
       "■ 원룸/투룸/쓰리룸          31\n",
       "제사모 중고장터             30\n",
       "중고자동차 매물             29\n",
       "제주여행 수다&질문           19\n",
       "□ 일반 부동산             17\n",
       "■ 오피스텔/빌딩/숙박         14\n",
       "휴애리 매화축제 (종료)        13\n",
       "중고물건 구해요             11\n",
       "제주여행 후기&꿀팁            9\n",
       "제주도 구직                8\n",
       "50대↑ 이야기방             7\n",
       "■ 빌라/다세대              6\n",
       "[벙개/동행/친구]            6\n",
       "■ 아파트                 6\n",
       "유형이 없습니다              6\n",
       "축제/행사/공연              5\n",
       "제주도 여행상품              5\n",
       "제주이주 수다방              5\n",
       "공짜/ 드림/ 교환            4\n",
       "제사모 사진방               4\n",
       "★등업신청★                4\n",
       "[위반 게시물-일반]           3\n",
       "Q. 생활일상 질문            3\n",
       "▩ 숙소 구해요              3\n",
       "한달살기 수다&질문            2\n",
       "좋은글/재밌는 글             2\n",
       "■ 단독/다가구              2\n",
       "□ 일반 제주숙소             2\n",
       "반려동물 게시판              2\n",
       "날씨/교통 정보통             2\n",
       "▦ 부동산 방 구해요           2\n",
       "서귀포문화예술               2\n",
       "제주생활 속 후기             2\n",
       "내 SNS 자랑하기            2\n",
       "제사모 수다방               2\n",
       "내모습 인증샷               1\n",
       "[카페 모임 후기]            1\n",
       "제사모 회원가게              1\n",
       "20대 이야기방              1\n",
       "제사모 제휴업체 ★            1\n",
       "제주신화월드                1\n",
       "Q. 맛집카페 질문            1\n",
       "행정사 김용우               1\n",
       "40대 이야기방              1\n",
       "맛집/카페 후기              1\n",
       "[제사모 여행백서]            1\n",
       "■ 전원주택/농가주택           1\n",
       "건축.인테리어 상담            1\n",
       "Name: 유형, dtype: int64"
      ]
     },
     "execution_count": 169,
     "metadata": {},
     "output_type": "execute_result"
    }
   ],
   "source": [
    "df_final.유형.value_counts()"
   ]
  },
  {
   "cell_type": "code",
   "execution_count": 156,
   "metadata": {
    "execution": {
     "iopub.execute_input": "2022-03-26T06:45:52.668347Z",
     "iopub.status.busy": "2022-03-26T06:45:52.667723Z",
     "iopub.status.idle": "2022-03-26T06:45:52.679402Z",
     "shell.execute_reply": "2022-03-26T06:45:52.678725Z",
     "shell.execute_reply.started": "2022-03-26T06:45:52.668136Z"
    }
   },
   "outputs": [
    {
     "data": {
      "text/plain": [
       "0            제사모 중고장터\n",
       "1           Q. 종합 질문방\n",
       "2            중고자동차 매물\n",
       "3             실시간 이야기\n",
       "4         ■ 분양정보/신축매물\n",
       "             ...     \n",
       "394815           투플럭스\n",
       "394816           투플럭스\n",
       "394817           투플럭스\n",
       "394818           투플럭스\n",
       "394819           투플럭스\n",
       "Name: 유형, Length: 414166, dtype: object"
      ]
     },
     "execution_count": 156,
     "metadata": {},
     "output_type": "execute_result"
    }
   ],
   "source": [
    "df_final['블로그']"
   ]
  },
  {
   "cell_type": "code",
   "execution_count": 171,
   "metadata": {
    "execution": {
     "iopub.execute_input": "2022-03-26T06:54:40.129065Z",
     "iopub.status.busy": "2022-03-26T06:54:40.128545Z",
     "iopub.status.idle": "2022-03-26T06:55:13.386178Z",
     "shell.execute_reply": "2022-03-26T06:55:13.384409Z",
     "shell.execute_reply.started": "2022-03-26T06:54:40.128997Z"
    },
    "tags": []
   },
   "outputs": [],
   "source": [
    "df_final.to_csv('0326전기차수집내용다합침.csv',index=False)"
   ]
  },
  {
   "cell_type": "code",
   "execution_count": null,
   "metadata": {},
   "outputs": [],
   "source": []
  }
 ],
 "metadata": {
  "interpreter": {
   "hash": "982c78d920726c4e066517e5f806c5a92239fdf1e257c5744bcc49f815c4d4bb"
  },
  "kernelspec": {
   "display_name": "Python 3 (ipykernel)",
   "language": "python",
   "name": "python3"
  },
  "language_info": {
   "codemirror_mode": {
    "name": "ipython",
    "version": 3
   },
   "file_extension": ".py",
   "mimetype": "text/x-python",
   "name": "python",
   "nbconvert_exporter": "python",
   "pygments_lexer": "ipython3",
   "version": "3.9.7"
  }
 },
 "nbformat": 4,
 "nbformat_minor": 4
}
