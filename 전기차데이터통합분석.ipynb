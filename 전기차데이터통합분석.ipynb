{
 "cells": [
  {
   "cell_type": "markdown",
   "metadata": {},
   "source": [
    "## Use lib"
   ]
  },
  {
   "cell_type": "code",
   "execution_count": 72,
   "metadata": {},
   "outputs": [],
   "source": [
    "import pandas as pd\n",
    "import numpy as np\n",
    "import copy\n",
    "import os\n",
    "import matplotlib.pyplot as plt\n",
    "import matplotlib as mpl\n",
    "mpl.rcParams['axes.unicode_minus'] = False\n",
    "plt.rcParams['font.family'] = 'NanumGothicCoding'\n",
    "import nltk\n",
    "from wordcloud import WordCloud, STOPWORDS\n",
    "from PIL import Image\n",
    "import re, joblib\n",
    "import konlpy\n",
    "from konlpy.tag import Okt \n",
    "okt = Okt()\n",
    "import string\n",
    "import threading\n",
    "from sklearn.feature_extraction.text import CountVectorizer\n",
    "from sklearn.preprocessing import LabelEncoder\n",
    "\n",
    "from tqdm import tqdm\n",
    "import time\n",
    "\n",
    "from sklearn.model_selection import train_test_split\n",
    "from sklearn.linear_model import LogisticRegression\n",
    "lr = LogisticRegression()\n",
    "\n"
   ]
  },
  {
   "cell_type": "markdown",
   "metadata": {},
   "source": [
    "## Use Data"
   ]
  },
  {
   "cell_type": "markdown",
   "metadata": {},
   "source": [
    "### 연결된 구글드라이브 로 경로 바꾸기(windows)"
   ]
  },
  {
   "cell_type": "code",
   "execution_count": 2,
   "metadata": {},
   "outputs": [],
   "source": [
    "os.chdir('G:\\내 드라이브\\제주_전기차\\data')"
   ]
  },
  {
   "cell_type": "markdown",
   "metadata": {},
   "source": [
    "### data list"
   ]
  },
  {
   "cell_type": "code",
   "execution_count": 11,
   "metadata": {},
   "outputs": [
    {
     "name": "stderr",
     "output_type": "stream",
     "text": [
      "C:\\Users\\alsdn\\anaconda3\\lib\\site-packages\\IPython\\core\\interactiveshell.py:3444: DtypeWarning: Columns (13) have mixed types.Specify dtype option on import or set low_memory=False.\n",
      "  exec(code_obj, self.user_global_ns, self.user_ns)\n"
     ]
    }
   ],
   "source": [
    "df_blog = pd.read_csv('전기차감성분석(0325).csv')\n",
    "df_cafe = pd.read_csv('카페통합감성추가.csv')\n",
    "df_toflux = pd.read_csv('전기차전처리추가.csv')"
   ]
  },
  {
   "cell_type": "code",
   "execution_count": 63,
   "metadata": {},
   "outputs": [],
   "source": [
    "df_sns = pd.read_csv('인스타전기차.csv')\n",
    "df_news = pd.read_csv('CFI전기차보도자료.csv')"
   ]
  },
  {
   "cell_type": "markdown",
   "metadata": {},
   "source": [
    "### data 확인"
   ]
  },
  {
   "cell_type": "code",
   "execution_count": 83,
   "metadata": {},
   "outputs": [
    {
     "name": "stdout",
     "output_type": "stream",
     "text": [
      "Unnamed: 0        394820\n",
      "classCode              0\n",
      "필터명               394820\n",
      "수집채널                   0\n",
      "카페명                23962\n",
      "제목                     0\n",
      "작성자                    0\n",
      "작성시간                   0\n",
      "조회수                    0\n",
      "댓글수                    0\n",
      "호감수                    0\n",
      "비호감수                   0\n",
      "공유수                    0\n",
      "모델명               378979\n",
      "별점                 40260\n",
      "평가                   882\n",
      "해시태그              394820\n",
      "Url                    0\n",
      "Contents               0\n",
      "ChannelCode            0\n",
      "ContentType            0\n",
      "PostNo                 0\n",
      "Sno                    0\n",
      "Og_ImageUrl       394820\n",
      "Og_Description    394820\n",
      "grpNo                  0\n",
      "SeqIdx                 0\n",
      "전처리                   42\n",
      "dtype: int64\n"
     ]
    }
   ],
   "source": [
    "# print (df_blog.isnull().sum())\n",
    "# print (df_cafe.isnull().sum())\n",
    "print (df_toflux.isnull().sum())\n",
    "# print (df_sns.isnull().sum())\n",
    "# print (df_news.isnull().sum())"
   ]
  },
  {
   "cell_type": "code",
   "execution_count": 82,
   "metadata": {},
   "outputs": [],
   "source": [
    "df_toflux['전처리'].dropna(inplace=True)"
   ]
  },
  {
   "cell_type": "code",
   "execution_count": 6,
   "metadata": {},
   "outputs": [
    {
     "data": {
      "text/html": [
       "<div>\n",
       "<style scoped>\n",
       "    .dataframe tbody tr th:only-of-type {\n",
       "        vertical-align: middle;\n",
       "    }\n",
       "\n",
       "    .dataframe tbody tr th {\n",
       "        vertical-align: top;\n",
       "    }\n",
       "\n",
       "    .dataframe thead th {\n",
       "        text-align: right;\n",
       "    }\n",
       "</style>\n",
       "<table border=\"1\" class=\"dataframe\">\n",
       "  <thead>\n",
       "    <tr style=\"text-align: right;\">\n",
       "      <th></th>\n",
       "      <th>컨텐츠</th>\n",
       "      <th>날짜</th>\n",
       "      <th>좋아요</th>\n",
       "      <th>장소</th>\n",
       "      <th>태그</th>\n",
       "    </tr>\n",
       "  </thead>\n",
       "  <tbody>\n",
       "    <tr>\n",
       "      <th>0</th>\n",
       "      <td>hyoseong_90신형 G90 첫출고 🥳사전계약하고도 오래걸렸지만기다려 주셔서 감...</td>\n",
       "      <td>2022-03-22</td>\n",
       "      <td>0</td>\n",
       "      <td>NaN</td>\n",
       "      <td>[]</td>\n",
       "    </tr>\n",
       "    <tr>\n",
       "      <th>1</th>\n",
       "      <td>ony._.chuu제주에서 바다 정말 많이가봣지만 개인적으로 가장 아름다운바다는 서...</td>\n",
       "      <td>2020-10-08</td>\n",
       "      <td>0</td>\n",
       "      <td>우도</td>\n",
       "      <td>['#워니의✈️🌏', '#워니_jeju', '#제주', '#jeju', '#우도수정됨']</td>\n",
       "    </tr>\n",
       "  </tbody>\n",
       "</table>\n",
       "</div>"
      ],
      "text/plain": [
       "                                                 컨텐츠          날짜  좋아요   장소  \\\n",
       "0  hyoseong_90신형 G90 첫출고 🥳사전계약하고도 오래걸렸지만기다려 주셔서 감...  2022-03-22    0  NaN   \n",
       "1  ony._.chuu제주에서 바다 정말 많이가봣지만 개인적으로 가장 아름다운바다는 서...  2020-10-08    0   우도   \n",
       "\n",
       "                                                  태그  \n",
       "0                                                 []  \n",
       "1  ['#워니의✈️🌏', '#워니_jeju', '#제주', '#jeju', '#우도수정됨']  "
      ]
     },
     "execution_count": 6,
     "metadata": {},
     "output_type": "execute_result"
    }
   ],
   "source": [
    "df_sns.head(2)"
   ]
  },
  {
   "cell_type": "code",
   "execution_count": 15,
   "metadata": {},
   "outputs": [
    {
     "data": {
      "text/plain": [
       "Index(['Unnamed: 0', 'classCode', '필터명', '수집채널', '카페명', '제목', '작성자', '작성시간',\n",
       "       '조회수', '댓글수', '호감수', '비호감수', '공유수', '모델명', '별점', '평가', '해시태그', 'Url',\n",
       "       'Contents', 'ChannelCode', 'ContentType', 'PostNo', 'Sno',\n",
       "       'Og_ImageUrl', 'Og_Description', 'grpNo', 'SeqIdx', '전처리'],\n",
       "      dtype='object')"
      ]
     },
     "execution_count": 15,
     "metadata": {},
     "output_type": "execute_result"
    }
   ],
   "source": [
    "df_toflux.columns\n"
   ]
  },
  {
   "cell_type": "code",
   "execution_count": 84,
   "metadata": {},
   "outputs": [],
   "source": [
    "df_toflux= pd.DataFrame(\n",
    "    {\n",
    "    '제목':df_toflux.제목,\n",
    "    '내용':df_toflux.Contents,\n",
    "    '작성시간':df_toflux.작성시간,\n",
    "    '카페명':df_toflux.카페명,\n",
    "    '평가':df_toflux.평가,\n",
    "    '전처리':df_toflux.전처리,\n",
    "    }    \n",
    ")"
   ]
  },
  {
   "cell_type": "code",
   "execution_count": 97,
   "metadata": {},
   "outputs": [],
   "source": [
    "df_toflux['카페명'].fillna('전기차동호회',inplace=True)\n",
    "df_toflux['평가'].fillna('E',inplace=True)\n",
    "df_toflux.dropna(inplace=True)"
   ]
  },
  {
   "cell_type": "code",
   "execution_count": 98,
   "metadata": {},
   "outputs": [
    {
     "data": {
      "text/plain": [
       "P    201518\n",
       "E    103576\n",
       "N     89684\n",
       "Name: 평가, dtype: int64"
      ]
     },
     "execution_count": 98,
     "metadata": {},
     "output_type": "execute_result"
    }
   ],
   "source": [
    "df_toflux['평가'].value_counts()"
   ]
  },
  {
   "cell_type": "code",
   "execution_count": 99,
   "metadata": {},
   "outputs": [
    {
     "data": {
      "text/plain": [
       "제목      0\n",
       "내용      0\n",
       "작성시간    0\n",
       "카페명     0\n",
       "평가      0\n",
       "전처리     0\n",
       "dtype: int64"
      ]
     },
     "execution_count": 99,
     "metadata": {},
     "output_type": "execute_result"
    }
   ],
   "source": [
    "df_toflux.isnull().sum()"
   ]
  },
  {
   "cell_type": "code",
   "execution_count": 100,
   "metadata": {},
   "outputs": [
    {
     "data": {
      "text/html": [
       "<div>\n",
       "<style scoped>\n",
       "    .dataframe tbody tr th:only-of-type {\n",
       "        vertical-align: middle;\n",
       "    }\n",
       "\n",
       "    .dataframe tbody tr th {\n",
       "        vertical-align: top;\n",
       "    }\n",
       "\n",
       "    .dataframe thead th {\n",
       "        text-align: right;\n",
       "    }\n",
       "</style>\n",
       "<table border=\"1\" class=\"dataframe\">\n",
       "  <thead>\n",
       "    <tr style=\"text-align: right;\">\n",
       "      <th></th>\n",
       "      <th>제목</th>\n",
       "      <th>내용</th>\n",
       "      <th>작성시간</th>\n",
       "      <th>카페명</th>\n",
       "      <th>평가</th>\n",
       "      <th>전처리</th>\n",
       "    </tr>\n",
       "  </thead>\n",
       "  <tbody>\n",
       "    <tr>\n",
       "      <th>0</th>\n",
       "      <td>아이오닉5 휠베이스 3000의 가치</td>\n",
       "      <td>▶ 아이오닉5 휠베이스 3000의 가치_x000D_\\n_x000D_\\n서비스센터 갔...</td>\n",
       "      <td>2021-01-12 17:01:00</td>\n",
       "      <td>전기차동호회</td>\n",
       "      <td>P</td>\n",
       "      <td>아이오 닉 휠 베이스 가치 서비스 센터 가다 부품 수급 문제 로 렌터카 받다 오다 ...</td>\n",
       "    </tr>\n",
       "    <tr>\n",
       "      <th>1</th>\n",
       "      <td>현대차 아이오닉5 vs 테슬라 모델Y, 뭘 살까요?</td>\n",
       "      <td>▶ 현대차 아이오닉5 vs 테슬라 모델Y, 뭘 살까요?_x000D_\\n_x000D_...</td>\n",
       "      <td>2021-02-23 21:36:00</td>\n",
       "      <td>전기차동호회</td>\n",
       "      <td>P</td>\n",
       "      <td>현대차 아이오 닉 테슬라 모델 뭘 살다 요 현대차 아이오 닉 테슬라 모델 뭘 살다 ...</td>\n",
       "    </tr>\n",
       "  </tbody>\n",
       "</table>\n",
       "</div>"
      ],
      "text/plain": [
       "                             제목  \\\n",
       "0           아이오닉5 휠베이스 3000의 가치   \n",
       "1  현대차 아이오닉5 vs 테슬라 모델Y, 뭘 살까요?   \n",
       "\n",
       "                                                  내용                 작성시간  \\\n",
       "0  ▶ 아이오닉5 휠베이스 3000의 가치_x000D_\\n_x000D_\\n서비스센터 갔...  2021-01-12 17:01:00   \n",
       "1  ▶ 현대차 아이오닉5 vs 테슬라 모델Y, 뭘 살까요?_x000D_\\n_x000D_...  2021-02-23 21:36:00   \n",
       "\n",
       "      카페명 평가                                                전처리  \n",
       "0  전기차동호회  P  아이오 닉 휠 베이스 가치 서비스 센터 가다 부품 수급 문제 로 렌터카 받다 오다 ...  \n",
       "1  전기차동호회  P  현대차 아이오 닉 테슬라 모델 뭘 살다 요 현대차 아이오 닉 테슬라 모델 뭘 살다 ...  "
      ]
     },
     "execution_count": 100,
     "metadata": {},
     "output_type": "execute_result"
    }
   ],
   "source": [
    "df_toflux.head(2)"
   ]
  },
  {
   "cell_type": "code",
   "execution_count": 21,
   "metadata": {},
   "outputs": [
    {
     "data": {
      "text/html": [
       "<div>\n",
       "<style scoped>\n",
       "    .dataframe tbody tr th:only-of-type {\n",
       "        vertical-align: middle;\n",
       "    }\n",
       "\n",
       "    .dataframe tbody tr th {\n",
       "        vertical-align: top;\n",
       "    }\n",
       "\n",
       "    .dataframe thead th {\n",
       "        text-align: right;\n",
       "    }\n",
       "</style>\n",
       "<table border=\"1\" class=\"dataframe\">\n",
       "  <thead>\n",
       "    <tr style=\"text-align: right;\">\n",
       "      <th></th>\n",
       "      <th>제목</th>\n",
       "      <th>날짜</th>\n",
       "      <th>내용</th>\n",
       "      <th>긍부정</th>\n",
       "      <th>href</th>\n",
       "      <th>year</th>\n",
       "      <th>lr긍부정</th>\n",
       "      <th>lr긍부정이진분류</th>\n",
       "      <th>감성사전긍부정</th>\n",
       "      <th>전기차문장</th>\n",
       "      <th>전기차본문감성분석</th>\n",
       "    </tr>\n",
       "  </thead>\n",
       "  <tbody>\n",
       "    <tr>\n",
       "      <th>0</th>\n",
       "      <td>2022년 4박 5일 신혼여행 후기 ing 제주도 (Feat. 일오반식당...</td>\n",
       "      <td>2022.03.17</td>\n",
       "      <td>제주도신혼여행후기내돈내산년 년 월 일 드뎌 결혼식이 끝나고 우도 가자마자 전기차를 ...</td>\n",
       "      <td>0</td>\n",
       "      <td>https://blog.naver.com/apple_378?Redirect=Log&amp;...</td>\n",
       "      <td>2022</td>\n",
       "      <td>E</td>\n",
       "      <td>P</td>\n",
       "      <td>E</td>\n",
       "      <td>​ 오랜만에 바다를 보니 뻥 뚫리고 좋았어여 ㅎㅎ  같이 커플 트레이닝복으로 맞추고...</td>\n",
       "      <td>P</td>\n",
       "    </tr>\n",
       "    <tr>\n",
       "      <th>1</th>\n",
       "      <td>제주공항숙소 시리우스 제주호텔: 트윈룸, 디럭스룸 장단점</td>\n",
       "      <td>2022.03.17</td>\n",
       "      <td>디럭스룸 후기 제주특별자치도 제주시 도령로  전화  공항의 지하 주차장은 지하층까지...</td>\n",
       "      <td>-1</td>\n",
       "      <td>https://blog.naver.com/zoonee96?Redirect=Log&amp;l...</td>\n",
       "      <td>2022</td>\n",
       "      <td>E</td>\n",
       "      <td>P</td>\n",
       "      <td>F</td>\n",
       "      <td>​ 공항의 지하 주차장은 지하4층까지 있고 지하 1층에 전기차 충전소가 있어요 주차...</td>\n",
       "      <td>N</td>\n",
       "    </tr>\n",
       "  </tbody>\n",
       "</table>\n",
       "</div>"
      ],
      "text/plain": [
       "                                            제목          날짜  \\\n",
       "0  2022년 4박 5일 신혼여행 후기 ing 제주도 (Feat. 일오반식당...  2022.03.17   \n",
       "1              제주공항숙소 시리우스 제주호텔: 트윈룸, 디럭스룸 장단점  2022.03.17   \n",
       "\n",
       "                                                  내용  긍부정  \\\n",
       "0  제주도신혼여행후기내돈내산년 년 월 일 드뎌 결혼식이 끝나고 우도 가자마자 전기차를 ...    0   \n",
       "1  디럭스룸 후기 제주특별자치도 제주시 도령로  전화  공항의 지하 주차장은 지하층까지...   -1   \n",
       "\n",
       "                                                href  year lr긍부정 lr긍부정이진분류  \\\n",
       "0  https://blog.naver.com/apple_378?Redirect=Log&...  2022     E         P   \n",
       "1  https://blog.naver.com/zoonee96?Redirect=Log&l...  2022     E         P   \n",
       "\n",
       "  감성사전긍부정                                              전기차문장 전기차본문감성분석  \n",
       "0       E  ​ 오랜만에 바다를 보니 뻥 뚫리고 좋았어여 ㅎㅎ  같이 커플 트레이닝복으로 맞추고...         P  \n",
       "1       F  ​ 공항의 지하 주차장은 지하4층까지 있고 지하 1층에 전기차 충전소가 있어요 주차...         N  "
      ]
     },
     "execution_count": 21,
     "metadata": {},
     "output_type": "execute_result"
    }
   ],
   "source": [
    "df_blog.head(2)"
   ]
  },
  {
   "cell_type": "code",
   "execution_count": 20,
   "metadata": {},
   "outputs": [
    {
     "data": {
      "text/html": [
       "<div>\n",
       "<style scoped>\n",
       "    .dataframe tbody tr th:only-of-type {\n",
       "        vertical-align: middle;\n",
       "    }\n",
       "\n",
       "    .dataframe tbody tr th {\n",
       "        vertical-align: top;\n",
       "    }\n",
       "\n",
       "    .dataframe thead th {\n",
       "        text-align: right;\n",
       "    }\n",
       "</style>\n",
       "<table border=\"1\" class=\"dataframe\">\n",
       "  <thead>\n",
       "    <tr style=\"text-align: right;\">\n",
       "      <th></th>\n",
       "      <th>제목</th>\n",
       "      <th>내용</th>\n",
       "      <th>댓글</th>\n",
       "      <th>유형</th>\n",
       "      <th>조회수</th>\n",
       "      <th>작성날짜</th>\n",
       "      <th>월별</th>\n",
       "      <th>카페명</th>\n",
       "      <th>년별</th>\n",
       "      <th>lr긍부정</th>\n",
       "      <th>lr긍부정이진</th>\n",
       "    </tr>\n",
       "  </thead>\n",
       "  <tbody>\n",
       "    <tr>\n",
       "      <th>0</th>\n",
       "      <td>봉고3더블캡</td>\n",
       "      <td>보다 투명하고 빠른 거래를 위하여 아래의 글 양식을 준수하여 주세요   거래 지역...</td>\n",
       "      <td>가격이 궁금해요..^^\\n얼마인가요ㅡ\\n</td>\n",
       "      <td>제사모 중고장터</td>\n",
       "      <td>130</td>\n",
       "      <td>2022.03.16.</td>\n",
       "      <td>2022.03</td>\n",
       "      <td>제사모</td>\n",
       "      <td>2022</td>\n",
       "      <td>P</td>\n",
       "      <td>P</td>\n",
       "    </tr>\n",
       "    <tr>\n",
       "      <th>1</th>\n",
       "      <td>렌트카 알아보고 있는데 lpg 차량이 저렴한 이유가 뭘까요?</td>\n",
       "      <td>육지에서 이번주 토욜부터 제주 한달살이 시작하면서 렌트카 알아보고 있어요 육지에선 ...</td>\n",
       "      <td>요즘 전기차가 대세기도 하지만 가스값 장난아니게 올랏어요...또한 한달살기라면 자차...</td>\n",
       "      <td>Q. 종합 질문방</td>\n",
       "      <td>161</td>\n",
       "      <td>2022.03.16.</td>\n",
       "      <td>2022.03</td>\n",
       "      <td>제사모</td>\n",
       "      <td>2022</td>\n",
       "      <td>N</td>\n",
       "      <td>N</td>\n",
       "    </tr>\n",
       "  </tbody>\n",
       "</table>\n",
       "</div>"
      ],
      "text/plain": [
       "                                  제목  \\\n",
       "0                             봉고3더블캡   \n",
       "1  렌트카 알아보고 있는데 lpg 차량이 저렴한 이유가 뭘까요?   \n",
       "\n",
       "                                                  내용  \\\n",
       "0   보다 투명하고 빠른 거래를 위하여 아래의 글 양식을 준수하여 주세요   거래 지역...   \n",
       "1  육지에서 이번주 토욜부터 제주 한달살이 시작하면서 렌트카 알아보고 있어요 육지에선 ...   \n",
       "\n",
       "                                                  댓글         유형  조회수  \\\n",
       "0                             가격이 궁금해요..^^\\n얼마인가요ㅡ\\n   제사모 중고장터  130   \n",
       "1  요즘 전기차가 대세기도 하지만 가스값 장난아니게 올랏어요...또한 한달살기라면 자차...  Q. 종합 질문방  161   \n",
       "\n",
       "          작성날짜       월별  카페명    년별 lr긍부정 lr긍부정이진  \n",
       "0  2022.03.16.  2022.03  제사모  2022     P       P  \n",
       "1  2022.03.16.  2022.03  제사모  2022     N       N  "
      ]
     },
     "execution_count": 20,
     "metadata": {},
     "output_type": "execute_result"
    }
   ],
   "source": [
    "df_cafe.head(2)"
   ]
  },
  {
   "cell_type": "code",
   "execution_count": 33,
   "metadata": {},
   "outputs": [
    {
     "data": {
      "text/plain": [
       "Index(['제목', '내용', '댓글', '유형', '조회수', '작성날짜', '월별', '카페명', '년별', 'lr긍부정',\n",
       "       'lr긍부정이진'],\n",
       "      dtype='object')"
      ]
     },
     "execution_count": 33,
     "metadata": {},
     "output_type": "execute_result"
    }
   ],
   "source": [
    "df_cafe.columns"
   ]
  },
  {
   "cell_type": "code",
   "execution_count": 117,
   "metadata": {},
   "outputs": [],
   "source": [
    "df_cafe_commet =pd.DataFrame(\n",
    "    {\n",
    "    '제목':df_cafe.제목,\n",
    "    '내용':df_cafe.댓글,\n",
    "    '작성날짜':df_cafe.작성날짜,\n",
    "    '카페명':df_cafe.카페명,\n",
    "    '평가':df_cafe.lr긍부정,\n",
    "    '월별':df_cafe.월별,\n",
    "    '년별':df_cafe.년별,\n",
    "    }    \n",
    ")"
   ]
  },
  {
   "cell_type": "code",
   "execution_count": 122,
   "metadata": {},
   "outputs": [],
   "source": [
    "df_cafe_commet['내용'] = df_cafe_commet['내용'].apply(lambda x : None if x in ['내용없음','댓글이 없습니다','\\n'] else x)"
   ]
  },
  {
   "cell_type": "code",
   "execution_count": 123,
   "metadata": {},
   "outputs": [
    {
     "data": {
      "text/plain": [
       "이야~~사진 너무예쁘네요^^\\n낼출발하는데 기대많이하고하겠습니당당\\n서쪽이 진리였네요ㅠㅠ\\n동쪽에 가까워지니 눈길이 많아요ㅋ\\n꽁닥네용작흑ㅡㅜ\\n눈길운전조심하세요~\\n삭제된 댓글입니다.\\n헉 저흰 나와서 광치기해변 가고 있어요ㅋㅋ\\n만날뻔 했네요ㅠㅠ\\n햇살 비치는 오징어 자태가 넘 이쁜데요 ㅎㅎ\\n춘미향에서도 꼭 한끼 먹어봐야겠다는~^^*\\nㅎㅎ꼭 점심에 가셔요\\n2시에 주문 마감입니다^^\\n슈퍼그레잇 고기정식 정보부탁드려요^^\\n춘미향이요^^\\n저도 널린 오징어 득템하고 춘미향 들러봐야 겠어요~~ 사진 너무 좋네요\\n                                                                                                                                                                                                                                                                                                                                                                                                                                                                                                                                                                                                                                                                                                                                                                                                                                                                                   12\n",
       "스마트공항 이라는 어플 깔면\\n결항이나 지연 여부 알 수 있어요\\n앗 감사합니다 안그래도 그거 찾고 있었는데 이름이 생각이 안나서 ..\\n두루치기는 어디예요??ㅎ저도 2월에 숙소가롯데인데 사진보니 설레이네요~^^드래곤쇼 자리는 있는데 쇼를안한다니 그게 아쉽네요~\\n저도 화산쇼 작년에 끝났다고 ㅜㅠ 흑흑.. 해안도로 따라오다 급검색해서 들른 구이사이집인데요 오겹살이랑 정식 시켜먹었는데 애들이 저 돼지불고기? 맛나다고 얌얌 고등어 맛나다고 먹고 전 오겹살 엄청 맛나게 먹었네요 강추요\\n아메한잔작년에 화산쇼 넘잼나게봐서 이번에는 혼자본쇼라 부모님모시고가는데 결굴못보여드리네요~거기음식점가봐야겠어요ㅎㅎ감사합니다~\\n이쁜시연맘오겹살 .. 생고기 넘 쫄깃 맛났고요 ㅋ 양도 많았어요\\n여기 협재쪽은 눈도 엄청오고..ㅜ.ㅜ\\n바람도 미친듯이 부네요 ㅜ.ㅜ\\n오는 족족 다 얼었어요 ㅜ.ㅜ\\n                                                                                                                                                                                                                                                                                                                                                                                                                                                                                                                                                                                                                                                                                                                                  11\n",
       "전, 바다의집은 성게비빔밥 맛있게 먹었었어요. 성게미역국은 저도 간이 너무 쎄더라구여 :)\\n비빔밥을 먹을껄 그랬나봐요ㅠ\\n삭제된 댓글입니다.\\n오타죄송해용ㅜ\\n봉실이네비가 다른곳을 알려주더라구요 ㅠㅠㅠㅠㅠㅠㅠ\\n자세한 후기 감사합니다~\\n도움이되시길 바라며 올려봅니다^^\\n후기감사합니다~~~^^ 다음주 가는데 다 가보고 싶네요~~^^\\n좋은여행되용\\n                                                                                                                                                                                                                                                                                                                                                                                                                                                                                                                                                                                                                                                                                                                                                                                                                                                                                                                                                                                  11\n",
       "잘가셔야할텐데 ...서두르시고\\n남조로 타려 했더니 체인이네요;;\\n그래서 일주도로로^^\\n지연씨 만나지 않고 비행기 타면 좋겠어요\\n아고 운전조심하셔요ㅜ\\n네\\n감사합니다\\n안전운전이 최고죠^^\\n저도 내일 제주 넘어가야하는데 서귀포에서 일주 도로로 가야할듯. 체인은 다 터져 버리고. 조심해서 가세요.\\n내일 오후면 좀 나아지지 싶어요^^\\n운전 조심하세요\\n일주도로로 움직이시는게 좋을듯 합니다~\\n한경에서 협재까지는 도로 다 녹았어요~~\\n위미에서 제주시까지 3시간 넘게 걸렸어요;;\\n성산부터는 30km로 이동;;\\n삭제된 댓글입니다.\\n설마....본명이 지연씨??\\n벌써 지연씨 만나서 9시 뱅기인데 11시로 지연씨 만났어요\\n조심해서 오세요\\n공항 수속은 끝났는데 3시간이나 기다려야 하네요\\n여기서 더 지연되면;;;\\n저도 남원 위미리인데요. 낼 낮2시 뱅기타야하는데.. 남편없이 저랑 애들만 있어서 걱정이 앞서네요.. 일주도로로 타고간다면 중문.한경.협재방향으로 가야하나요? 성산.함덕방향으로 가야하나요?\\n전 성산 함덕쪽으로 왔는데\\n거의 4시간 걸렸어요;;;\\n루까의집정말.. 헉.. ;;; 눈길 운전 경험이 없어서 아이 둘 태우고 가려니 걱정이네요ㅡㅡ 빨리 눈 좀 그치길 기도하며 자야 겠어요^^;;\\nyoung7924아니면 렌트 연장하시고 숙박도 연장하세요\\n제가 보기엔 내일 2시면 좀 운전이 애매하긴할것같아요;;\\n그냥 아이들도 있으니 안전이 더 중요합니다\\n루까의집네..그래야할것같아요. 남편 빈자리가 크게 느껴지네요^^;: 지금도 눈이 계속오니..낼2시 뱅기 취소하고 늦은 저녁 뱅기로 가든 익일 아침으로 가든..낼 아침 일어나 결정해야겠어요. 불안하니 빨리 집에 가고프지만 공항가는길 안전이 문제니까요^^;; 좋은말씀 감사합니다. ^^\\n삭제된 댓글입니다.\\n하루에 두번이나 해야하니까요;;\\n게다가 충전기 고장난게 생각보다 많더라고요\\n도착하시면 도로 사정 댓글 부탁합니다.\\n위미 성산 함덕 제주시 이쪽으로 왔는데 평균 30km로 주행했어요;;;\\n우찌되셨는지..\\n공항입성~~~\\n지연씨가 아주 환대해주십니다\\n2시간이나;;\\n루까의집안전하게 도착하셔서 다행이네요^^ 지연씨는 얄밉지만..\\nyoung7924나중에 또 상황이 변할수도 있어요\\n그냥 지연씨로도 만족해야죠\\n결항된 분들도 계시니까요\\n    11\n",
       "대리운전도 알아보세요\\n                                                                                                                                                                                                                                                                                                                                                                                                                                                                                                                                                                                                                                                                                                                                                                                                                                                                                                                                                                                                                                                                                                                                                                           11\n",
       "                                                                                                                                                                                                                                                                                                                                                                                                                                                                                                                                                                                                                                                                                                                                                                                                                                                                                                                                                                                                                                                                                                                                                                                        ..\n",
       "어차피 2명이면 뒷좌석은 안 쓰니 그냥 편한 걸로 하세요.\\n2명이면 그냥 경차타도 됩니다.\\n산타페타다가 경차 또는 k3 같이 차체 낮은 차량을 타면 적응에 있어 괜찮을까요?\\n옛날에 k3를 렌트해본 적이 있었는데 운전이 힘들진 않았지만 많이 어색했던 기억이 있습니다 ㅠㅠ..\\n항상항상어색하긴 해요.\\n전 아버지 차는 테라칸, 경차 한대 상시 운전하고 수시로 필요할 때 스파크넥스트, 티볼리, 코나, 아반떼 쏘카 렌트하는데 어차피 운전하는 건 같아요.\\n돈때문이면 그냥 저렴한 거 하셔도 되요.\\nAitch늦은 시간에 좋은 답변 감사합니다!ㅎㅎ\\n내차 아니면 다 어색해요 30분만타면\\n\\n적응됩니다\\n감사합니다! 혹시 2인 기준으로 추천해주실만한 차종 있으신지요?..\\n항상항상편하게 타실려면 케이파이브\\n\\n좀 작으셔도 되면 아방이\\n\\n둘이 가격차이는 안날듯 해요\\n\\n모닝 아니면 가격차이 별루안납니다\\n\\n그냥 저는 갈때마다 케이 5 빌려탑니다\\n창원제주늦은 시간에 좋은 답변 감사합니다ㅎㅎ 창원제주님!\\n항상항상좋은 여행하세요\\n레이타고 여행중인데 내차인듯 금방적응되어요^^\\n티볼리는 정말 비추요 소음도 심하고 기름도 많이 먹어요.\\n                                                                                                                                                                                                                                                                                                                                                                                                                                                                                                                                                                             1\n",
       "저렴한데 추천 많이 하는건 빌리카업체.. 중형정도 하시면 넉넉하고.. 유류비 아끼시려면 전기차 코나 하실수도 있죠. 좀더 저렴하게 가려면 보험이 불안불안면은 있지만 카페 제휴도 싼맛에 쓰기 괜찮다는 후기들 있었어요..\\n네~\\n빌*카 알아보세요\\n겨울이라 사고위험 많아 메이저급으로 완전자차로 자세히 알아보고 타세요\\n빌리카에서 48시간 8만500원에 전기차 니로 ev 완전자차로 빌려서 충전료 비제휴에서 5천원 쓰고 2박3일간 270키로 주행했습니다 겨울이라 체인도 넣어주고요 반응속도가 기름차보다 빨라서 좋았습니다\\n전기차 어디서 예약하셨어요? 위메프에는 전기차 검색안되고 홈피도 안되서 타업체 알아보고있거든오\\n둘맘 asuka38x빌리카라고 적혀있네요\\n포메요빌리카에 전기차 검색이안되어서 어디서 결제했는지 물어본거에요~\\n둘맘 asuka38x그냥 직접 어플에서 했습니다 완전자차는 얼마 차이 안나요 ev차종이 인기가 많은지.. 시간을 여러가지로 넣어보세요 한시간전 한시간후 이렇게요\\n서울제주차량검색에 전기차가 안떠서요 ㅠㅠ 차량 일일히 다 검색해볼게요~ 전기차가 있다는것만으로 희망적이네요@!\\n둘맘 asuka38x저희껀 도착시간 한시간후로 넣고 찾아서 받았어요 그전차는 한시간전으로해서 받았구요 한두시간 더낸다 생각하고 찾아보세요\\n저는 소나타dn8 평일 75시간 10만6천원 정도에 했네요.. 카모아어플 신규가입으로 만원할인받아서요... 보험은 휴차보상료 안되는 무제한이구요..\\n이번에 sk에서 아반떼 3박4일 7만원대에 했어요. 저렴한 곳보다 더 저렴한데 안전하고 차 상태가 좋아서 만족이에요\\n진짜 저렴이네요\\n느영나영이요\\n                                                                                                                                                                                                                                                                                                                                                 1\n",
       "충전사업자에게 문의하세요\\n충전사업자=충전기 설치회사\\n후불 교통카드만 되는데 일반 카드도 되는 기계가 있긴해요.근데 그런 기계 찾기가 힘들더라구요.전에 숙소가 서귀포 신시가지 쪽이라 일반 카드로 충전 하긴 했었어요.삼성페이 되는 기계는 못본듯해요.티머니 카드로는 안되구요.전기차 처음이시면 될수있으면 개인카드 쓰시는것 보다 렌트카 회사에서 충전카드 구입하시는걸 권해드려요.숙소에 따라 다르지만 일반 카드 되는 기계가 최신 기계라 찾기가 힘들더라구요ㅠ\\n                                                                                                                                                                                                                                                                                                                                                                                                                                                                                                                                                                                                                                                                                                                                                                                                                                                                                                                           1\n",
       "넹 많이\\n위험하지는안습니다.\\n감사해요~ ^^\\n셀리나님 오늘 우도 들어가는데 전기차 대여 정보 얻을 수 있을까요?^^\\n                                                                                                                                                                                                                                                                                                                                                                                                                                                                                                                                                                                                                                                                                                                                                                                                                                                                                                                                                                                                                                                                                                                    1\n",
       "0\\n                                                                                                                                                                                                                                                                                                                                                                                                                                                                                                                                                                                                                                                                                                                                                                                                                                                                                                                                                                                                                                                                                                                                                                                      1\n",
       "Name: 내용, Length: 4595, dtype: int64"
      ]
     },
     "execution_count": 123,
     "metadata": {},
     "output_type": "execute_result"
    }
   ],
   "source": [
    "df_cafe_commet.내용.value_counts()"
   ]
  },
  {
   "cell_type": "code",
   "execution_count": 126,
   "metadata": {},
   "outputs": [],
   "source": [
    "df_cafe_commet.dropna(inplace=True)"
   ]
  },
  {
   "cell_type": "code",
   "execution_count": 127,
   "metadata": {},
   "outputs": [
    {
     "data": {
      "text/html": [
       "<div>\n",
       "<style scoped>\n",
       "    .dataframe tbody tr th:only-of-type {\n",
       "        vertical-align: middle;\n",
       "    }\n",
       "\n",
       "    .dataframe tbody tr th {\n",
       "        vertical-align: top;\n",
       "    }\n",
       "\n",
       "    .dataframe thead th {\n",
       "        text-align: right;\n",
       "    }\n",
       "</style>\n",
       "<table border=\"1\" class=\"dataframe\">\n",
       "  <thead>\n",
       "    <tr style=\"text-align: right;\">\n",
       "      <th></th>\n",
       "      <th>제목</th>\n",
       "      <th>내용</th>\n",
       "      <th>작성날짜</th>\n",
       "      <th>카페명</th>\n",
       "      <th>평가</th>\n",
       "      <th>월별</th>\n",
       "      <th>년별</th>\n",
       "    </tr>\n",
       "  </thead>\n",
       "  <tbody>\n",
       "    <tr>\n",
       "      <th>0</th>\n",
       "      <td>봉고3더블캡</td>\n",
       "      <td>가격이 궁금해요..^^\\n얼마인가요ㅡ\\n</td>\n",
       "      <td>2022.03.16.</td>\n",
       "      <td>제사모</td>\n",
       "      <td>P</td>\n",
       "      <td>2022.03</td>\n",
       "      <td>2022</td>\n",
       "    </tr>\n",
       "    <tr>\n",
       "      <th>1</th>\n",
       "      <td>렌트카 알아보고 있는데 lpg 차량이 저렴한 이유가 뭘까요?</td>\n",
       "      <td>요즘 전기차가 대세기도 하지만 가스값 장난아니게 올랏어요...또한 한달살기라면 자차...</td>\n",
       "      <td>2022.03.16.</td>\n",
       "      <td>제사모</td>\n",
       "      <td>N</td>\n",
       "      <td>2022.03</td>\n",
       "      <td>2022</td>\n",
       "    </tr>\n",
       "    <tr>\n",
       "      <th>5</th>\n",
       "      <td>여행 고수님들 추천좀 해주세요</td>\n",
       "      <td>렌트카는 가스 예요.\\n평소 본인이 운전하기 편한차로 하세요.\\n74시간이면 2박3...</td>\n",
       "      <td>2022.03.14.</td>\n",
       "      <td>제사모</td>\n",
       "      <td>P</td>\n",
       "      <td>2022.03</td>\n",
       "      <td>2022</td>\n",
       "    </tr>\n",
       "    <tr>\n",
       "      <th>8</th>\n",
       "      <td>전기차 신차급</td>\n",
       "      <td>팔렸나요?\\n</td>\n",
       "      <td>2022.03.10.</td>\n",
       "      <td>제사모</td>\n",
       "      <td>E</td>\n",
       "      <td>2022.03</td>\n",
       "      <td>2022</td>\n",
       "    </tr>\n",
       "    <tr>\n",
       "      <th>12</th>\n",
       "      <td>제주공항 전기차 주차요금..</td>\n",
       "      <td>승용차는 모두 소형입니다.\\n저공해차량 50% 할인.\\n공항에\\n소형 대형 분류는\\...</td>\n",
       "      <td>2022.03.05.</td>\n",
       "      <td>제사모</td>\n",
       "      <td>E</td>\n",
       "      <td>2022.03</td>\n",
       "      <td>2022</td>\n",
       "    </tr>\n",
       "    <tr>\n",
       "      <th>...</th>\n",
       "      <td>...</td>\n",
       "      <td>...</td>\n",
       "      <td>...</td>\n",
       "      <td>...</td>\n",
       "      <td>...</td>\n",
       "      <td>...</td>\n",
       "      <td>...</td>\n",
       "    </tr>\n",
       "    <tr>\n",
       "      <th>5909</th>\n",
       "      <td>제주도 전기차 도민 공모</td>\n",
       "      <td>보급대수 규모가 차원이 틀리네요..ㅎㅎ\\n</td>\n",
       "      <td>2015.03.17.</td>\n",
       "      <td>전기차동호회</td>\n",
       "      <td>E</td>\n",
       "      <td>2015.03</td>\n",
       "      <td>2015</td>\n",
       "    </tr>\n",
       "    <tr>\n",
       "      <th>5910</th>\n",
       "      <td>[링크스크랩] 100% 순수 전기차 ‘SM3 Z.E.’ 보급 위해 특별 할인 제공</td>\n",
       "      <td>정부 보조금 까지 받게 된다면 엄청 싸게 살수 있겠네요....서울에서 다시 보조금 ...</td>\n",
       "      <td>2015.03.08.</td>\n",
       "      <td>전기차동호회</td>\n",
       "      <td>E</td>\n",
       "      <td>2015.03</td>\n",
       "      <td>2015</td>\n",
       "    </tr>\n",
       "    <tr>\n",
       "      <th>5911</th>\n",
       "      <td>[링크스크랩] 자동차 업계, 제주도 전기차 민간 보급 공모 총력전…가격 인하 이어져</td>\n",
       "      <td>쏘울 내일 받는데 100만원 낮아지다니....ㅠㅠ\\n서울도 다시한번더 보조금 지원하...</td>\n",
       "      <td>2015.03.04.</td>\n",
       "      <td>전기차동호회</td>\n",
       "      <td>E</td>\n",
       "      <td>2015.03</td>\n",
       "      <td>2015</td>\n",
       "    </tr>\n",
       "    <tr>\n",
       "      <th>5912</th>\n",
       "      <td>등업부탁해요 하반기 전기차를 신청하고싶었는데</td>\n",
       "      <td>반가워요~~😊\\n내년에 제주도 전기차 공급량이 대박이던데 좋은소식 있으시길...\\n...</td>\n",
       "      <td>2014.10.26.</td>\n",
       "      <td>전기차동호회</td>\n",
       "      <td>P</td>\n",
       "      <td>2014.10</td>\n",
       "      <td>2014</td>\n",
       "    </tr>\n",
       "    <tr>\n",
       "      <th>5913</th>\n",
       "      <td>ㅇㅇ</td>\n",
       "      <td>0\\n</td>\n",
       "      <td>2014.06.21.</td>\n",
       "      <td>전기차동호회</td>\n",
       "      <td>E</td>\n",
       "      <td>2014.06</td>\n",
       "      <td>2014</td>\n",
       "    </tr>\n",
       "  </tbody>\n",
       "</table>\n",
       "<p>5079 rows × 7 columns</p>\n",
       "</div>"
      ],
      "text/plain": [
       "                                                  제목  \\\n",
       "0                                             봉고3더블캡   \n",
       "1                  렌트카 알아보고 있는데 lpg 차량이 저렴한 이유가 뭘까요?   \n",
       "5                                   여행 고수님들 추천좀 해주세요   \n",
       "8                                            전기차 신차급   \n",
       "12                                   제주공항 전기차 주차요금..   \n",
       "...                                              ...   \n",
       "5909                                   제주도 전기차 도민 공모   \n",
       "5910   [링크스크랩] 100% 순수 전기차 ‘SM3 Z.E.’ 보급 위해 특별 할인 제공   \n",
       "5911  [링크스크랩] 자동차 업계, 제주도 전기차 민간 보급 공모 총력전…가격 인하 이어져   \n",
       "5912                        등업부탁해요 하반기 전기차를 신청하고싶었는데   \n",
       "5913                                              ㅇㅇ   \n",
       "\n",
       "                                                     내용         작성날짜     카페명  \\\n",
       "0                                가격이 궁금해요..^^\\n얼마인가요ㅡ\\n  2022.03.16.     제사모   \n",
       "1     요즘 전기차가 대세기도 하지만 가스값 장난아니게 올랏어요...또한 한달살기라면 자차...  2022.03.16.     제사모   \n",
       "5     렌트카는 가스 예요.\\n평소 본인이 운전하기 편한차로 하세요.\\n74시간이면 2박3...  2022.03.14.     제사모   \n",
       "8                                               팔렸나요?\\n  2022.03.10.     제사모   \n",
       "12    승용차는 모두 소형입니다.\\n저공해차량 50% 할인.\\n공항에\\n소형 대형 분류는\\...  2022.03.05.     제사모   \n",
       "...                                                 ...          ...     ...   \n",
       "5909                            보급대수 규모가 차원이 틀리네요..ㅎㅎ\\n  2015.03.17.  전기차동호회   \n",
       "5910  정부 보조금 까지 받게 된다면 엄청 싸게 살수 있겠네요....서울에서 다시 보조금 ...  2015.03.08.  전기차동호회   \n",
       "5911  쏘울 내일 받는데 100만원 낮아지다니....ㅠㅠ\\n서울도 다시한번더 보조금 지원하...  2015.03.04.  전기차동호회   \n",
       "5912  반가워요~~😊\\n내년에 제주도 전기차 공급량이 대박이던데 좋은소식 있으시길...\\n...  2014.10.26.  전기차동호회   \n",
       "5913                                                0\\n  2014.06.21.  전기차동호회   \n",
       "\n",
       "     평가       월별    년별  \n",
       "0     P  2022.03  2022  \n",
       "1     N  2022.03  2022  \n",
       "5     P  2022.03  2022  \n",
       "8     E  2022.03  2022  \n",
       "12    E  2022.03  2022  \n",
       "...  ..      ...   ...  \n",
       "5909  E  2015.03  2015  \n",
       "5910  E  2015.03  2015  \n",
       "5911  E  2015.03  2015  \n",
       "5912  P  2014.10  2014  \n",
       "5913  E  2014.06  2014  \n",
       "\n",
       "[5079 rows x 7 columns]"
      ]
     },
     "execution_count": 127,
     "metadata": {},
     "output_type": "execute_result"
    }
   ],
   "source": [
    "df_cafe_commet"
   ]
  },
  {
   "cell_type": "markdown",
   "metadata": {},
   "source": [
    "#### 댓글칼럼 토큰화 및 머신러닝"
   ]
  },
  {
   "cell_type": "code",
   "execution_count": 128,
   "metadata": {},
   "outputs": [],
   "source": [
    "df_cafe_commet['token']=df_cafe_commet.내용.apply(lambda x : re.sub('[^가-힣]',' ',x))"
   ]
  },
  {
   "cell_type": "code",
   "execution_count": 129,
   "metadata": {},
   "outputs": [
    {
     "name": "stderr",
     "output_type": "stream",
     "text": [
      "100%|██████████| 5079/5079 [01:58<00:00, 42.76it/s] \n"
     ]
    }
   ],
   "source": [
    "stop_text = '은 는 이 가 을 를 의 에게 에 들 좀 잘 과 도 으로 자 와 ㅋㅋ ㅠㅠ ㅎㅎ'\n",
    "stopwords = stop_text.split()\n",
    "X_val = []\n",
    "for sentence in tqdm(df_cafe_commet.token):\n",
    "    morphs = okt.morphs(sentence, stem=True)\n",
    "    tmp_list = [word for word in morphs if word not in stopwords]\n",
    "    tmp_str = ' '.join(tmp_list)\n",
    "    X_val.append(tmp_str)"
   ]
  },
  {
   "cell_type": "code",
   "execution_count": 130,
   "metadata": {},
   "outputs": [],
   "source": [
    "df_cafe_commet['token'] = X_val"
   ]
  },
  {
   "cell_type": "code",
   "execution_count": 73,
   "metadata": {},
   "outputs": [
    {
     "data": {
      "text/plain": [
       "LabelEncoder()"
      ]
     },
     "execution_count": 73,
     "metadata": {},
     "output_type": "execute_result"
    }
   ],
   "source": [
    "la = LabelEncoder()\n",
    "la.fit(df_toflux.평가)"
   ]
  },
  {
   "cell_type": "code",
   "execution_count": 101,
   "metadata": {},
   "outputs": [],
   "source": [
    "X_train,X_test,y_train,y_test = train_test_split(\n",
    "    df_toflux.전처리,df_toflux.평가,stratify=df_toflux.평가,random_state=2022\n",
    ")"
   ]
  },
  {
   "cell_type": "code",
   "execution_count": 102,
   "metadata": {},
   "outputs": [],
   "source": [
    "y_train_la = la.transform(y_train)\n",
    "y_test_la = la.transform(y_test)"
   ]
  },
  {
   "cell_type": "code",
   "execution_count": 103,
   "metadata": {},
   "outputs": [
    {
     "data": {
      "text/plain": [
       "CountVectorizer()"
      ]
     },
     "execution_count": 103,
     "metadata": {},
     "output_type": "execute_result"
    }
   ],
   "source": [
    "\n",
    "cvect = CountVectorizer()\n",
    "cvect.fit(X_train)"
   ]
  },
  {
   "cell_type": "code",
   "execution_count": 131,
   "metadata": {},
   "outputs": [],
   "source": [
    "X_train_cv=cvect.transform(X_train)\n",
    "X_test_cv=cvect.transform(X_test)\n",
    "X_val_cv=cvect.transform(X_val)"
   ]
  },
  {
   "cell_type": "code",
   "execution_count": 105,
   "metadata": {},
   "outputs": [
    {
     "name": "stderr",
     "output_type": "stream",
     "text": [
      "C:\\Users\\alsdn\\anaconda3\\lib\\site-packages\\sklearn\\linear_model\\_logistic.py:763: ConvergenceWarning: lbfgs failed to converge (status=1):\n",
      "STOP: TOTAL NO. of ITERATIONS REACHED LIMIT.\n",
      "\n",
      "Increase the number of iterations (max_iter) or scale the data as shown in:\n",
      "    https://scikit-learn.org/stable/modules/preprocessing.html\n",
      "Please also refer to the documentation for alternative solver options:\n",
      "    https://scikit-learn.org/stable/modules/linear_model.html#logistic-regression\n",
      "  n_iter_i = _check_optimize_result(\n"
     ]
    },
    {
     "data": {
      "text/plain": [
       "LogisticRegression(max_iter=350)"
      ]
     },
     "execution_count": 105,
     "metadata": {},
     "output_type": "execute_result"
    }
   ],
   "source": [
    "lr = LogisticRegression(max_iter=350)\n",
    "lr.fit(X_train_cv,y_train_la)"
   ]
  },
  {
   "cell_type": "code",
   "execution_count": 107,
   "metadata": {},
   "outputs": [
    {
     "data": {
      "text/plain": [
       "0.8147525203911039"
      ]
     },
     "execution_count": 107,
     "metadata": {},
     "output_type": "execute_result"
    }
   ],
   "source": [
    "lr.score(X_test_cv,y_test_la)"
   ]
  },
  {
   "cell_type": "code",
   "execution_count": 132,
   "metadata": {},
   "outputs": [
    {
     "data": {
      "text/plain": [
       "array(['E', 'P', 'P', ..., 'P', 'P', 'E'], dtype=object)"
      ]
     },
     "execution_count": 132,
     "metadata": {},
     "output_type": "execute_result"
    }
   ],
   "source": [
    "la.inverse_transform(lr.predict(X_val_cv))"
   ]
  },
  {
   "cell_type": "code",
   "execution_count": 133,
   "metadata": {},
   "outputs": [],
   "source": [
    "df_cafe_commet['평가']=la.inverse_transform(lr.predict(X_val_cv))"
   ]
  },
  {
   "cell_type": "code",
   "execution_count": 134,
   "metadata": {},
   "outputs": [
    {
     "data": {
      "text/html": [
       "<div>\n",
       "<style scoped>\n",
       "    .dataframe tbody tr th:only-of-type {\n",
       "        vertical-align: middle;\n",
       "    }\n",
       "\n",
       "    .dataframe tbody tr th {\n",
       "        vertical-align: top;\n",
       "    }\n",
       "\n",
       "    .dataframe thead th {\n",
       "        text-align: right;\n",
       "    }\n",
       "</style>\n",
       "<table border=\"1\" class=\"dataframe\">\n",
       "  <thead>\n",
       "    <tr style=\"text-align: right;\">\n",
       "      <th></th>\n",
       "      <th>제목</th>\n",
       "      <th>내용</th>\n",
       "      <th>작성날짜</th>\n",
       "      <th>카페명</th>\n",
       "      <th>평가</th>\n",
       "      <th>월별</th>\n",
       "      <th>년별</th>\n",
       "      <th>token</th>\n",
       "    </tr>\n",
       "  </thead>\n",
       "  <tbody>\n",
       "    <tr>\n",
       "      <th>0</th>\n",
       "      <td>봉고3더블캡</td>\n",
       "      <td>가격이 궁금해요..^^\\n얼마인가요ㅡ\\n</td>\n",
       "      <td>2022.03.16.</td>\n",
       "      <td>제사모</td>\n",
       "      <td>E</td>\n",
       "      <td>2022.03</td>\n",
       "      <td>2022</td>\n",
       "      <td>가격 궁금하다 얼마 인가요</td>\n",
       "    </tr>\n",
       "    <tr>\n",
       "      <th>1</th>\n",
       "      <td>렌트카 알아보고 있는데 lpg 차량이 저렴한 이유가 뭘까요?</td>\n",
       "      <td>요즘 전기차가 대세기도 하지만 가스값 장난아니게 올랏어요...또한 한달살기라면 자차...</td>\n",
       "      <td>2022.03.16.</td>\n",
       "      <td>제사모</td>\n",
       "      <td>P</td>\n",
       "      <td>2022.03</td>\n",
       "      <td>2022</td>\n",
       "      <td>요즘 전기차 대세 기도 하지만 가스 값 장난 아니다 올 랏 어 요 또한 한 달 살기...</td>\n",
       "    </tr>\n",
       "  </tbody>\n",
       "</table>\n",
       "</div>"
      ],
      "text/plain": [
       "                                  제목  \\\n",
       "0                             봉고3더블캡   \n",
       "1  렌트카 알아보고 있는데 lpg 차량이 저렴한 이유가 뭘까요?   \n",
       "\n",
       "                                                  내용         작성날짜  카페명 평가  \\\n",
       "0                             가격이 궁금해요..^^\\n얼마인가요ㅡ\\n  2022.03.16.  제사모  E   \n",
       "1  요즘 전기차가 대세기도 하지만 가스값 장난아니게 올랏어요...또한 한달살기라면 자차...  2022.03.16.  제사모  P   \n",
       "\n",
       "        월별    년별                                              token  \n",
       "0  2022.03  2022                                     가격 궁금하다 얼마 인가요  \n",
       "1  2022.03  2022  요즘 전기차 대세 기도 하지만 가스 값 장난 아니다 올 랏 어 요 또한 한 달 살기...  "
      ]
     },
     "execution_count": 134,
     "metadata": {},
     "output_type": "execute_result"
    }
   ],
   "source": [
    "df_cafe_commet.head(2)"
   ]
  },
  {
   "cell_type": "code",
   "execution_count": 135,
   "metadata": {},
   "outputs": [],
   "source": [
    "df_cafe_commet.to_csv('cafe댓글추출후분석.csv',index=False)"
   ]
  },
  {
   "cell_type": "code",
   "execution_count": 142,
   "metadata": {},
   "outputs": [],
   "source": [
    "df_cafe['내용'] = df_cafe['내용'].apply(lambda x : None if x in ['내용없음','내용이 없습니다','\\n'] else x)"
   ]
  },
  {
   "cell_type": "code",
   "execution_count": 144,
   "metadata": {},
   "outputs": [],
   "source": [
    "df_cafe.dropna(inplace=True)"
   ]
  },
  {
   "cell_type": "code",
   "execution_count": 146,
   "metadata": {},
   "outputs": [
    {
     "data": {
      "text/plain": [
       "제목         0\n",
       "내용         0\n",
       "댓글         0\n",
       "유형         0\n",
       "조회수        0\n",
       "작성날짜       0\n",
       "월별         0\n",
       "카페명        0\n",
       "년별         0\n",
       "lr긍부정      0\n",
       "lr긍부정이진    0\n",
       "dtype: int64"
      ]
     },
     "execution_count": 146,
     "metadata": {},
     "output_type": "execute_result"
    }
   ],
   "source": [
    "df_cafe.isnull().sum()"
   ]
  },
  {
   "cell_type": "code",
   "execution_count": 148,
   "metadata": {},
   "outputs": [
    {
     "data": {
      "text/html": [
       "<div>\n",
       "<style scoped>\n",
       "    .dataframe tbody tr th:only-of-type {\n",
       "        vertical-align: middle;\n",
       "    }\n",
       "\n",
       "    .dataframe tbody tr th {\n",
       "        vertical-align: top;\n",
       "    }\n",
       "\n",
       "    .dataframe thead th {\n",
       "        text-align: right;\n",
       "    }\n",
       "</style>\n",
       "<table border=\"1\" class=\"dataframe\">\n",
       "  <thead>\n",
       "    <tr style=\"text-align: right;\">\n",
       "      <th></th>\n",
       "      <th>제목</th>\n",
       "      <th>내용</th>\n",
       "      <th>작성날짜</th>\n",
       "      <th>카페명</th>\n",
       "      <th>평가</th>\n",
       "      <th>월별</th>\n",
       "      <th>년별</th>\n",
       "      <th>token</th>\n",
       "    </tr>\n",
       "  </thead>\n",
       "  <tbody>\n",
       "    <tr>\n",
       "      <th>0</th>\n",
       "      <td>봉고3더블캡</td>\n",
       "      <td>가격이 궁금해요..^^\\n얼마인가요ㅡ\\n</td>\n",
       "      <td>2022.03.16.</td>\n",
       "      <td>제사모</td>\n",
       "      <td>E</td>\n",
       "      <td>2022.03</td>\n",
       "      <td>2022</td>\n",
       "      <td>가격 궁금하다 얼마 인가요</td>\n",
       "    </tr>\n",
       "    <tr>\n",
       "      <th>1</th>\n",
       "      <td>렌트카 알아보고 있는데 lpg 차량이 저렴한 이유가 뭘까요?</td>\n",
       "      <td>요즘 전기차가 대세기도 하지만 가스값 장난아니게 올랏어요...또한 한달살기라면 자차...</td>\n",
       "      <td>2022.03.16.</td>\n",
       "      <td>제사모</td>\n",
       "      <td>P</td>\n",
       "      <td>2022.03</td>\n",
       "      <td>2022</td>\n",
       "      <td>요즘 전기차 대세 기도 하지만 가스 값 장난 아니다 올 랏 어 요 또한 한 달 살기...</td>\n",
       "    </tr>\n",
       "  </tbody>\n",
       "</table>\n",
       "</div>"
      ],
      "text/plain": [
       "                                  제목  \\\n",
       "0                             봉고3더블캡   \n",
       "1  렌트카 알아보고 있는데 lpg 차량이 저렴한 이유가 뭘까요?   \n",
       "\n",
       "                                                  내용         작성날짜  카페명 평가  \\\n",
       "0                             가격이 궁금해요..^^\\n얼마인가요ㅡ\\n  2022.03.16.  제사모  E   \n",
       "1  요즘 전기차가 대세기도 하지만 가스값 장난아니게 올랏어요...또한 한달살기라면 자차...  2022.03.16.  제사모  P   \n",
       "\n",
       "        월별    년별                                              token  \n",
       "0  2022.03  2022                                     가격 궁금하다 얼마 인가요  \n",
       "1  2022.03  2022  요즘 전기차 대세 기도 하지만 가스 값 장난 아니다 올 랏 어 요 또한 한 달 살기...  "
      ]
     },
     "execution_count": 148,
     "metadata": {},
     "output_type": "execute_result"
    }
   ],
   "source": [
    "df_cafe_commet.head(2)"
   ]
  },
  {
   "cell_type": "code",
   "execution_count": 147,
   "metadata": {},
   "outputs": [
    {
     "data": {
      "text/html": [
       "<div>\n",
       "<style scoped>\n",
       "    .dataframe tbody tr th:only-of-type {\n",
       "        vertical-align: middle;\n",
       "    }\n",
       "\n",
       "    .dataframe tbody tr th {\n",
       "        vertical-align: top;\n",
       "    }\n",
       "\n",
       "    .dataframe thead th {\n",
       "        text-align: right;\n",
       "    }\n",
       "</style>\n",
       "<table border=\"1\" class=\"dataframe\">\n",
       "  <thead>\n",
       "    <tr style=\"text-align: right;\">\n",
       "      <th></th>\n",
       "      <th>제목</th>\n",
       "      <th>내용</th>\n",
       "      <th>댓글</th>\n",
       "      <th>유형</th>\n",
       "      <th>조회수</th>\n",
       "      <th>작성날짜</th>\n",
       "      <th>월별</th>\n",
       "      <th>카페명</th>\n",
       "      <th>년별</th>\n",
       "      <th>lr긍부정</th>\n",
       "      <th>lr긍부정이진</th>\n",
       "    </tr>\n",
       "  </thead>\n",
       "  <tbody>\n",
       "    <tr>\n",
       "      <th>0</th>\n",
       "      <td>봉고3더블캡</td>\n",
       "      <td>보다 투명하고 빠른 거래를 위하여 아래의 글 양식을 준수하여 주세요   거래 지역...</td>\n",
       "      <td>가격이 궁금해요..^^\\n얼마인가요ㅡ\\n</td>\n",
       "      <td>제사모 중고장터</td>\n",
       "      <td>130</td>\n",
       "      <td>2022.03.16.</td>\n",
       "      <td>2022.03</td>\n",
       "      <td>제사모</td>\n",
       "      <td>2022</td>\n",
       "      <td>P</td>\n",
       "      <td>P</td>\n",
       "    </tr>\n",
       "    <tr>\n",
       "      <th>1</th>\n",
       "      <td>렌트카 알아보고 있는데 lpg 차량이 저렴한 이유가 뭘까요?</td>\n",
       "      <td>육지에서 이번주 토욜부터 제주 한달살이 시작하면서 렌트카 알아보고 있어요 육지에선 ...</td>\n",
       "      <td>요즘 전기차가 대세기도 하지만 가스값 장난아니게 올랏어요...또한 한달살기라면 자차...</td>\n",
       "      <td>Q. 종합 질문방</td>\n",
       "      <td>161</td>\n",
       "      <td>2022.03.16.</td>\n",
       "      <td>2022.03</td>\n",
       "      <td>제사모</td>\n",
       "      <td>2022</td>\n",
       "      <td>N</td>\n",
       "      <td>N</td>\n",
       "    </tr>\n",
       "  </tbody>\n",
       "</table>\n",
       "</div>"
      ],
      "text/plain": [
       "                                  제목  \\\n",
       "0                             봉고3더블캡   \n",
       "1  렌트카 알아보고 있는데 lpg 차량이 저렴한 이유가 뭘까요?   \n",
       "\n",
       "                                                  내용  \\\n",
       "0   보다 투명하고 빠른 거래를 위하여 아래의 글 양식을 준수하여 주세요   거래 지역...   \n",
       "1  육지에서 이번주 토욜부터 제주 한달살이 시작하면서 렌트카 알아보고 있어요 육지에선 ...   \n",
       "\n",
       "                                                  댓글         유형  조회수  \\\n",
       "0                             가격이 궁금해요..^^\\n얼마인가요ㅡ\\n   제사모 중고장터  130   \n",
       "1  요즘 전기차가 대세기도 하지만 가스값 장난아니게 올랏어요...또한 한달살기라면 자차...  Q. 종합 질문방  161   \n",
       "\n",
       "          작성날짜       월별  카페명    년별 lr긍부정 lr긍부정이진  \n",
       "0  2022.03.16.  2022.03  제사모  2022     P       P  \n",
       "1  2022.03.16.  2022.03  제사모  2022     N       N  "
      ]
     },
     "execution_count": 147,
     "metadata": {},
     "output_type": "execute_result"
    }
   ],
   "source": [
    "df_cafe.head.head(2)"
   ]
  },
  {
   "cell_type": "code",
   "execution_count": 149,
   "metadata": {},
   "outputs": [],
   "source": [
    "del df_cafe['lr긍부정이진']\n",
    "df_cafe.rename(columns={'lr긍부정':'평가'},inplace=True)"
   ]
  },
  {
   "cell_type": "code",
   "execution_count": 159,
   "metadata": {},
   "outputs": [
    {
     "data": {
      "text/plain": [
       "' 보다 투명하고 빠른 거래를 위하여 아래의 글 양식을 준수하여 주세요   거래 지역  한림 거래 방법  직거래 연락 방법  연락처 안심번호 쪽지 채팅 가능  카카오톡 금지  판매 가격  연락주세요 판매 제품  봉고더블캡 제품 상태  중고차량사용감 있음 거의 새 것 미개봉  제품설명 및 사진 봉고더블캡  년 월식 정확히 만탔구요오토 차량 잡소리 하나도 안나요전기차 나와서 팔아요블랙박스후방감지 네비 열선시트 열선 핸들 만든공구함 박스 핸즈프리 '"
      ]
     },
     "execution_count": 159,
     "metadata": {},
     "output_type": "execute_result"
    }
   ],
   "source": [
    "df_cafe.내용[0]"
   ]
  },
  {
   "cell_type": "code",
   "execution_count": 166,
   "metadata": {},
   "outputs": [],
   "source": [
    "df_cafe_commet.reset_index(inplace=True)\n",
    "df_cafe.reset_index(inplace=True)"
   ]
  },
  {
   "cell_type": "code",
   "execution_count": 170,
   "metadata": {},
   "outputs": [],
   "source": [
    "del df_cafe_commet['index']"
   ]
  },
  {
   "cell_type": "code",
   "execution_count": 174,
   "metadata": {},
   "outputs": [],
   "source": [
    "# del df_cafe_commet['내용']\n",
    "df_cafe_commet.rename(columns={'token':'내용'},inplace=True)"
   ]
  },
  {
   "cell_type": "code",
   "execution_count": 175,
   "metadata": {},
   "outputs": [
    {
     "data": {
      "text/html": [
       "<div>\n",
       "<style scoped>\n",
       "    .dataframe tbody tr th:only-of-type {\n",
       "        vertical-align: middle;\n",
       "    }\n",
       "\n",
       "    .dataframe tbody tr th {\n",
       "        vertical-align: top;\n",
       "    }\n",
       "\n",
       "    .dataframe thead th {\n",
       "        text-align: right;\n",
       "    }\n",
       "</style>\n",
       "<table border=\"1\" class=\"dataframe\">\n",
       "  <thead>\n",
       "    <tr style=\"text-align: right;\">\n",
       "      <th></th>\n",
       "      <th>제목</th>\n",
       "      <th>작성날짜</th>\n",
       "      <th>카페명</th>\n",
       "      <th>평가</th>\n",
       "      <th>월별</th>\n",
       "      <th>년별</th>\n",
       "      <th>내용</th>\n",
       "    </tr>\n",
       "  </thead>\n",
       "  <tbody>\n",
       "    <tr>\n",
       "      <th>0</th>\n",
       "      <td>봉고3더블캡</td>\n",
       "      <td>2022.03.16.</td>\n",
       "      <td>제사모</td>\n",
       "      <td>E</td>\n",
       "      <td>2022.03</td>\n",
       "      <td>2022</td>\n",
       "      <td>가격 궁금하다 얼마 인가요</td>\n",
       "    </tr>\n",
       "    <tr>\n",
       "      <th>1</th>\n",
       "      <td>렌트카 알아보고 있는데 lpg 차량이 저렴한 이유가 뭘까요?</td>\n",
       "      <td>2022.03.16.</td>\n",
       "      <td>제사모</td>\n",
       "      <td>P</td>\n",
       "      <td>2022.03</td>\n",
       "      <td>2022</td>\n",
       "      <td>요즘 전기차 대세 기도 하지만 가스 값 장난 아니다 올 랏 어 요 또한 한 달 살기...</td>\n",
       "    </tr>\n",
       "  </tbody>\n",
       "</table>\n",
       "</div>"
      ],
      "text/plain": [
       "                                  제목         작성날짜  카페명 평가       월별    년별  \\\n",
       "0                             봉고3더블캡  2022.03.16.  제사모  E  2022.03  2022   \n",
       "1  렌트카 알아보고 있는데 lpg 차량이 저렴한 이유가 뭘까요?  2022.03.16.  제사모  P  2022.03  2022   \n",
       "\n",
       "                                                  내용  \n",
       "0                                     가격 궁금하다 얼마 인가요  \n",
       "1  요즘 전기차 대세 기도 하지만 가스 값 장난 아니다 올 랏 어 요 또한 한 달 살기...  "
      ]
     },
     "execution_count": 175,
     "metadata": {},
     "output_type": "execute_result"
    }
   ],
   "source": [
    "df_cafe_commet.head(2)"
   ]
  },
  {
   "cell_type": "code",
   "execution_count": 182,
   "metadata": {},
   "outputs": [],
   "source": [
    "a= pd.concat([df_cafe,df_cafe_commet],axis=0)"
   ]
  },
  {
   "cell_type": "code",
   "execution_count": 184,
   "metadata": {},
   "outputs": [],
   "source": [
    "del a['index']"
   ]
  },
  {
   "cell_type": "code",
   "execution_count": 186,
   "metadata": {},
   "outputs": [],
   "source": [
    "a.reset_index(inplace=True)"
   ]
  },
  {
   "cell_type": "code",
   "execution_count": 189,
   "metadata": {},
   "outputs": [],
   "source": [
    "df_cafe_commet_merge = copy.deepcopy(a)"
   ]
  },
  {
   "cell_type": "code",
   "execution_count": 191,
   "metadata": {},
   "outputs": [
    {
     "name": "stdout",
     "output_type": "stream",
     "text": [
      "<class 'pandas.core.frame.DataFrame'>\n",
      "RangeIndex: 10762 entries, 0 to 10761\n",
      "Data columns (total 9 columns):\n",
      " #   Column  Non-Null Count  Dtype  \n",
      "---  ------  --------------  -----  \n",
      " 0   제목      10762 non-null  object \n",
      " 1   내용      10762 non-null  object \n",
      " 2   유형      5683 non-null   object \n",
      " 3   조회수     5683 non-null   object \n",
      " 4   작성날짜    10762 non-null  object \n",
      " 5   월별      10762 non-null  float64\n",
      " 6   카페명     10762 non-null  object \n",
      " 7   년별      10762 non-null  int64  \n",
      " 8   평가      10762 non-null  object \n",
      "dtypes: float64(1), int64(1), object(7)\n",
      "memory usage: 756.8+ KB\n"
     ]
    }
   ],
   "source": [
    "df_cafe_commet_merge.info()"
   ]
  },
  {
   "cell_type": "code",
   "execution_count": 192,
   "metadata": {},
   "outputs": [],
   "source": [
    "df_cafe_commet_merge.to_csv('df_cafe_commet_merge.csv',index=False)"
   ]
  },
  {
   "cell_type": "code",
   "execution_count": 199,
   "metadata": {},
   "outputs": [
    {
     "data": {
      "text/html": [
       "<div>\n",
       "<style scoped>\n",
       "    .dataframe tbody tr th:only-of-type {\n",
       "        vertical-align: middle;\n",
       "    }\n",
       "\n",
       "    .dataframe tbody tr th {\n",
       "        vertical-align: top;\n",
       "    }\n",
       "\n",
       "    .dataframe thead th {\n",
       "        text-align: right;\n",
       "    }\n",
       "</style>\n",
       "<table border=\"1\" class=\"dataframe\">\n",
       "  <thead>\n",
       "    <tr style=\"text-align: right;\">\n",
       "      <th></th>\n",
       "      <th>제목</th>\n",
       "      <th>내용</th>\n",
       "      <th>유형</th>\n",
       "      <th>조회수</th>\n",
       "      <th>작성날짜</th>\n",
       "      <th>월별</th>\n",
       "      <th>카페명</th>\n",
       "      <th>년별</th>\n",
       "      <th>평가</th>\n",
       "    </tr>\n",
       "  </thead>\n",
       "  <tbody>\n",
       "    <tr>\n",
       "      <th>0</th>\n",
       "      <td>봉고3더블캡</td>\n",
       "      <td>보다 투명하고 빠른 거래를 위하여 아래의 글 양식을 준수하여 주세요   거래 지역...</td>\n",
       "      <td>제사모 중고장터</td>\n",
       "      <td>130</td>\n",
       "      <td>2022.03.16.</td>\n",
       "      <td>2022.03</td>\n",
       "      <td>제사모</td>\n",
       "      <td>2022</td>\n",
       "      <td>P</td>\n",
       "    </tr>\n",
       "    <tr>\n",
       "      <th>1</th>\n",
       "      <td>렌트카 알아보고 있는데 lpg 차량이 저렴한 이유가 뭘까요?</td>\n",
       "      <td>육지에서 이번주 토욜부터 제주 한달살이 시작하면서 렌트카 알아보고 있어요 육지에선 ...</td>\n",
       "      <td>Q. 종합 질문방</td>\n",
       "      <td>161</td>\n",
       "      <td>2022.03.16.</td>\n",
       "      <td>2022.03</td>\n",
       "      <td>제사모</td>\n",
       "      <td>2022</td>\n",
       "      <td>N</td>\n",
       "    </tr>\n",
       "  </tbody>\n",
       "</table>\n",
       "</div>"
      ],
      "text/plain": [
       "                                  제목  \\\n",
       "0                             봉고3더블캡   \n",
       "1  렌트카 알아보고 있는데 lpg 차량이 저렴한 이유가 뭘까요?   \n",
       "\n",
       "                                                  내용         유형  조회수  \\\n",
       "0   보다 투명하고 빠른 거래를 위하여 아래의 글 양식을 준수하여 주세요   거래 지역...   제사모 중고장터  130   \n",
       "1  육지에서 이번주 토욜부터 제주 한달살이 시작하면서 렌트카 알아보고 있어요 육지에선 ...  Q. 종합 질문방  161   \n",
       "\n",
       "          작성날짜       월별  카페명    년별 평가  \n",
       "0  2022.03.16.  2022.03  제사모  2022  P  \n",
       "1  2022.03.16.  2022.03  제사모  2022  N  "
      ]
     },
     "execution_count": 199,
     "metadata": {},
     "output_type": "execute_result"
    }
   ],
   "source": [
    "df_cafe_commet_merge.head(2)"
   ]
  },
  {
   "cell_type": "code",
   "execution_count": 198,
   "metadata": {},
   "outputs": [
    {
     "data": {
      "text/html": [
       "<div>\n",
       "<style scoped>\n",
       "    .dataframe tbody tr th:only-of-type {\n",
       "        vertical-align: middle;\n",
       "    }\n",
       "\n",
       "    .dataframe tbody tr th {\n",
       "        vertical-align: top;\n",
       "    }\n",
       "\n",
       "    .dataframe thead th {\n",
       "        text-align: right;\n",
       "    }\n",
       "</style>\n",
       "<table border=\"1\" class=\"dataframe\">\n",
       "  <thead>\n",
       "    <tr style=\"text-align: right;\">\n",
       "      <th></th>\n",
       "      <th>제목</th>\n",
       "      <th>날짜</th>\n",
       "      <th>내용</th>\n",
       "      <th>긍부정</th>\n",
       "      <th>href</th>\n",
       "      <th>year</th>\n",
       "      <th>lr긍부정</th>\n",
       "      <th>lr긍부정이진분류</th>\n",
       "      <th>감성사전긍부정</th>\n",
       "      <th>전기차문장</th>\n",
       "      <th>전기차본문감성분석</th>\n",
       "    </tr>\n",
       "  </thead>\n",
       "  <tbody>\n",
       "    <tr>\n",
       "      <th>0</th>\n",
       "      <td>2022년 4박 5일 신혼여행 후기 ing 제주도 (Feat. 일오반식당...</td>\n",
       "      <td>2022.03.17</td>\n",
       "      <td>제주도신혼여행후기내돈내산년 년 월 일 드뎌 결혼식이 끝나고 우도 가자마자 전기차를 ...</td>\n",
       "      <td>0</td>\n",
       "      <td>https://blog.naver.com/apple_378?Redirect=Log&amp;...</td>\n",
       "      <td>2022</td>\n",
       "      <td>E</td>\n",
       "      <td>P</td>\n",
       "      <td>E</td>\n",
       "      <td>​ 오랜만에 바다를 보니 뻥 뚫리고 좋았어여 ㅎㅎ  같이 커플 트레이닝복으로 맞추고...</td>\n",
       "      <td>P</td>\n",
       "    </tr>\n",
       "    <tr>\n",
       "      <th>1</th>\n",
       "      <td>제주공항숙소 시리우스 제주호텔: 트윈룸, 디럭스룸 장단점</td>\n",
       "      <td>2022.03.17</td>\n",
       "      <td>디럭스룸 후기 제주특별자치도 제주시 도령로  전화  공항의 지하 주차장은 지하층까지...</td>\n",
       "      <td>-1</td>\n",
       "      <td>https://blog.naver.com/zoonee96?Redirect=Log&amp;l...</td>\n",
       "      <td>2022</td>\n",
       "      <td>E</td>\n",
       "      <td>P</td>\n",
       "      <td>F</td>\n",
       "      <td>​ 공항의 지하 주차장은 지하4층까지 있고 지하 1층에 전기차 충전소가 있어요 주차...</td>\n",
       "      <td>N</td>\n",
       "    </tr>\n",
       "  </tbody>\n",
       "</table>\n",
       "</div>"
      ],
      "text/plain": [
       "                                            제목          날짜  \\\n",
       "0  2022년 4박 5일 신혼여행 후기 ing 제주도 (Feat. 일오반식당...  2022.03.17   \n",
       "1              제주공항숙소 시리우스 제주호텔: 트윈룸, 디럭스룸 장단점  2022.03.17   \n",
       "\n",
       "                                                  내용  긍부정  \\\n",
       "0  제주도신혼여행후기내돈내산년 년 월 일 드뎌 결혼식이 끝나고 우도 가자마자 전기차를 ...    0   \n",
       "1  디럭스룸 후기 제주특별자치도 제주시 도령로  전화  공항의 지하 주차장은 지하층까지...   -1   \n",
       "\n",
       "                                                href  year lr긍부정 lr긍부정이진분류  \\\n",
       "0  https://blog.naver.com/apple_378?Redirect=Log&...  2022     E         P   \n",
       "1  https://blog.naver.com/zoonee96?Redirect=Log&l...  2022     E         P   \n",
       "\n",
       "  감성사전긍부정                                              전기차문장 전기차본문감성분석  \n",
       "0       E  ​ 오랜만에 바다를 보니 뻥 뚫리고 좋았어여 ㅎㅎ  같이 커플 트레이닝복으로 맞추고...         P  \n",
       "1       F  ​ 공항의 지하 주차장은 지하4층까지 있고 지하 1층에 전기차 충전소가 있어요 주차...         N  "
      ]
     },
     "execution_count": 198,
     "metadata": {},
     "output_type": "execute_result"
    }
   ],
   "source": [
    "df_blog.head(2)"
   ]
  },
  {
   "cell_type": "code",
   "execution_count": null,
   "metadata": {},
   "outputs": [],
   "source": [
    "del df_blog['내용','긍부정','href','lr긍부정','lr긍부정이진분류','감성사전긍부정']"
   ]
  },
  {
   "cell_type": "code",
   "execution_count": null,
   "metadata": {},
   "outputs": [],
   "source": [
    "df_blog = pd.DataFrame(\n",
    "    { \"제목\"\n",
    "        \n",
    "    }\n",
    ")"
   ]
  }
 ],
 "metadata": {
  "interpreter": {
   "hash": "982c78d920726c4e066517e5f806c5a92239fdf1e257c5744bcc49f815c4d4bb"
  },
  "kernelspec": {
   "display_name": "Python 3.9.7 ('base')",
   "language": "python",
   "name": "python3"
  },
  "language_info": {
   "codemirror_mode": {
    "name": "ipython",
    "version": 3
   },
   "file_extension": ".py",
   "mimetype": "text/x-python",
   "name": "python",
   "nbconvert_exporter": "python",
   "pygments_lexer": "ipython3",
   "version": "3.9.7"
  },
  "orig_nbformat": 4
 },
 "nbformat": 4,
 "nbformat_minor": 2
}
