{
 "cells": [
  {
   "cell_type": "markdown",
   "id": "cc937739-a056-4a6a-a756-8d20459bd270",
   "metadata": {},
   "source": [
    "## UseLIb"
   ]
  },
  {
   "cell_type": "code",
   "execution_count": 58,
   "id": "b91c8b51-b458-460d-98a8-3a5a772cb3fe",
   "metadata": {
    "execution": {
     "iopub.execute_input": "2022-03-28T00:04:34.265284Z",
     "iopub.status.busy": "2022-03-28T00:04:34.264739Z",
     "iopub.status.idle": "2022-03-28T00:04:34.669523Z",
     "shell.execute_reply": "2022-03-28T00:04:34.668819Z",
     "shell.execute_reply.started": "2022-03-28T00:04:34.265115Z"
    }
   },
   "outputs": [],
   "source": [
    "import  numpy as np\n",
    "import  pandas as pd\n",
    "import  matplotlib.pyplot as plt\n",
    "import os\n",
    "import seaborn as sns"
   ]
  },
  {
   "cell_type": "markdown",
   "id": "ad6ccff3-e262-4e9e-a9f9-ec6db157b3af",
   "metadata": {},
   "source": [
    "## 경로설정"
   ]
  },
  {
   "cell_type": "code",
   "execution_count": 4,
   "id": "72e0f189",
   "metadata": {},
   "outputs": [],
   "source": [
    "os.chdir('G:\\내 드라이브\\제주_전기차\\data')"
   ]
  },
  {
   "cell_type": "code",
   "execution_count": 154,
   "id": "ef869ea1-6c89-4429-b3ed-5ccc12a86803",
   "metadata": {
    "execution": {
     "iopub.execute_input": "2022-03-28T00:13:00.863401Z",
     "iopub.status.busy": "2022-03-28T00:13:00.863181Z",
     "iopub.status.idle": "2022-03-28T00:13:05.892887Z",
     "shell.execute_reply": "2022-03-28T00:13:05.892209Z",
     "shell.execute_reply.started": "2022-03-28T00:13:00.863357Z"
    },
    "tags": []
   },
   "outputs": [],
   "source": [
    "# df = pd.read_csv('광고거른거.csv')\n",
    "# df_keyword = pd.read_csv('관련키워드.csv')\n",
    "df_news = pd.read_csv('CFI전기차보도자료.csv')"
   ]
  },
  {
   "cell_type": "markdown",
   "id": "99b4cba6",
   "metadata": {},
   "source": [
    "## Use Data"
   ]
  },
  {
   "cell_type": "code",
   "execution_count": 11,
   "id": "dc9818f1-cd5f-459f-958e-7e58b91890a4",
   "metadata": {
    "execution": {
     "iopub.execute_input": "2022-03-28T00:13:37.730626Z",
     "iopub.status.busy": "2022-03-28T00:13:37.730396Z",
     "iopub.status.idle": "2022-03-28T00:13:40.529130Z",
     "shell.execute_reply": "2022-03-28T00:13:40.528223Z",
     "shell.execute_reply.started": "2022-03-28T00:13:37.730578Z"
    },
    "tags": []
   },
   "outputs": [
    {
     "data": {
      "text/html": [
       "<div>\n",
       "<style scoped>\n",
       "    .dataframe tbody tr th:only-of-type {\n",
       "        vertical-align: middle;\n",
       "    }\n",
       "\n",
       "    .dataframe tbody tr th {\n",
       "        vertical-align: top;\n",
       "    }\n",
       "\n",
       "    .dataframe thead th {\n",
       "        text-align: right;\n",
       "    }\n",
       "</style>\n",
       "<table border=\"1\" class=\"dataframe\">\n",
       "  <thead>\n",
       "    <tr style=\"text-align: right;\">\n",
       "      <th></th>\n",
       "      <th>제목</th>\n",
       "      <th>내용</th>\n",
       "      <th>유형</th>\n",
       "      <th>조회수</th>\n",
       "      <th>작성날짜</th>\n",
       "      <th>월별</th>\n",
       "      <th>카페명</th>\n",
       "      <th>년별</th>\n",
       "      <th>평가</th>\n",
       "      <th>내용거른거</th>\n",
       "    </tr>\n",
       "  </thead>\n",
       "  <tbody>\n",
       "    <tr>\n",
       "      <th>0</th>\n",
       "      <td>봉고3더블캡</td>\n",
       "      <td>보다 투명하고 빠른 거래를 위하여 아래의 글 양식을 준수하여 주세요   거래 지역...</td>\n",
       "      <td>제사모 중고장터</td>\n",
       "      <td>130</td>\n",
       "      <td>2022.03.16.</td>\n",
       "      <td>2022.03</td>\n",
       "      <td>제사모</td>\n",
       "      <td>2022</td>\n",
       "      <td>P</td>\n",
       "      <td>보다 투명하고 빠른 거래를 위하여 아래의 글 양식을 준수하여 주세요   거래 지역...</td>\n",
       "    </tr>\n",
       "    <tr>\n",
       "      <th>1</th>\n",
       "      <td>렌트카 알아보고 있는데 lpg 차량이 저렴한 이유가 뭘까요?</td>\n",
       "      <td>육지에서 이번주 토욜부터 제주 한달살이 시작하면서 렌트카 알아보고 있어요 육지에선 ...</td>\n",
       "      <td>Q. 종합 질문방</td>\n",
       "      <td>161</td>\n",
       "      <td>2022.03.16.</td>\n",
       "      <td>2022.03</td>\n",
       "      <td>제사모</td>\n",
       "      <td>2022</td>\n",
       "      <td>N</td>\n",
       "      <td>육지에서 이번주 토욜부터 제주 한달살이 시작하면서 렌트카 알아보고 있어요 육지에선 ...</td>\n",
       "    </tr>\n",
       "  </tbody>\n",
       "</table>\n",
       "</div>"
      ],
      "text/plain": [
       "                                  제목  \\\n",
       "0                             봉고3더블캡   \n",
       "1  렌트카 알아보고 있는데 lpg 차량이 저렴한 이유가 뭘까요?   \n",
       "\n",
       "                                                  내용         유형  조회수  \\\n",
       "0   보다 투명하고 빠른 거래를 위하여 아래의 글 양식을 준수하여 주세요   거래 지역...   제사모 중고장터  130   \n",
       "1  육지에서 이번주 토욜부터 제주 한달살이 시작하면서 렌트카 알아보고 있어요 육지에선 ...  Q. 종합 질문방  161   \n",
       "\n",
       "          작성날짜       월별  카페명    년별 평가  \\\n",
       "0  2022.03.16.  2022.03  제사모  2022  P   \n",
       "1  2022.03.16.  2022.03  제사모  2022  N   \n",
       "\n",
       "                                               내용거른거  \n",
       "0   보다 투명하고 빠른 거래를 위하여 아래의 글 양식을 준수하여 주세요   거래 지역...  \n",
       "1  육지에서 이번주 토욜부터 제주 한달살이 시작하면서 렌트카 알아보고 있어요 육지에선 ...  "
      ]
     },
     "execution_count": 11,
     "metadata": {},
     "output_type": "execute_result"
    }
   ],
   "source": [
    "df.head(2)"
   ]
  },
  {
   "cell_type": "markdown",
   "id": "2c0eacbb",
   "metadata": {},
   "source": [
    "### 데이터 수집기간"
   ]
  },
  {
   "cell_type": "code",
   "execution_count": 107,
   "id": "5a5ddc23",
   "metadata": {},
   "outputs": [
    {
     "data": {
      "text/plain": [
       "array([2022.03, 2022.02, 2022.01, 2021.12, 2021.11, 2021.1 , 2021.09,\n",
       "       2021.08, 2021.07, 2021.06, 2021.05, 2021.04, 2021.03, 2021.02,\n",
       "       2021.01, 2020.12, 2020.11, 2020.1 , 2020.09, 2020.08, 2020.07,\n",
       "       2020.06, 2020.05, 2020.04, 2020.03, 2020.02, 2020.01, 2019.12,\n",
       "       2019.11, 2019.1 , 2019.09, 2019.08, 2019.07, 2019.06, 2019.05,\n",
       "       2019.04, 2019.03, 2019.02, 2019.01, 2018.12, 2018.11, 2018.1 ,\n",
       "       2018.09, 2018.08, 2018.07, 2018.06, 2018.05, 2018.04, 2018.03,\n",
       "       2018.02, 2018.01, 2017.12, 2017.11, 2017.1 , 2017.09, 2017.08,\n",
       "       2017.07, 2017.06, 2017.05, 2017.04, 2017.03, 2017.02, 2017.01,\n",
       "       2016.11, 2016.1 , 2016.09, 2016.08, 2016.07, 2016.05, 2016.04,\n",
       "       2016.03, 2016.02, 2016.01, 2015.03, 2014.11, 2014.09, 2014.08,\n",
       "       2014.07, 2014.03, 2012.07, 2011.06, 2010.11, 2010.06, 2016.12,\n",
       "       2015.12, 2015.11, 2015.1 , 2015.09, 2015.08, 2015.07, 2015.06,\n",
       "       2015.05, 2015.04, 2014.1 , 2014.06, 2014.04, 2015.01, 2016.06])"
      ]
     },
     "execution_count": 107,
     "metadata": {},
     "output_type": "execute_result"
    }
   ],
   "source": [
    "df.월별.unique()"
   ]
  },
  {
   "cell_type": "markdown",
   "id": "1f829892",
   "metadata": {},
   "source": [
    "## 전기차종별 분석"
   ]
  },
  {
   "cell_type": "code",
   "execution_count": 21,
   "id": "ba70a149-2562-4ff6-938e-0788a2b198a2",
   "metadata": {},
   "outputs": [
    {
     "data": {
      "text/html": [
       "<div>\n",
       "<style scoped>\n",
       "    .dataframe tbody tr th:only-of-type {\n",
       "        vertical-align: middle;\n",
       "    }\n",
       "\n",
       "    .dataframe tbody tr th {\n",
       "        vertical-align: top;\n",
       "    }\n",
       "\n",
       "    .dataframe thead th {\n",
       "        text-align: right;\n",
       "    }\n",
       "</style>\n",
       "<table border=\"1\" class=\"dataframe\">\n",
       "  <thead>\n",
       "    <tr style=\"text-align: right;\">\n",
       "      <th></th>\n",
       "      <th>제목</th>\n",
       "      <th>유형</th>\n",
       "      <th>조회수</th>\n",
       "      <th>작성날짜</th>\n",
       "      <th>월별</th>\n",
       "      <th>카페명</th>\n",
       "      <th>년별</th>\n",
       "      <th>평가</th>\n",
       "      <th>내용거른거</th>\n",
       "    </tr>\n",
       "  </thead>\n",
       "  <tbody>\n",
       "    <tr>\n",
       "      <th>0</th>\n",
       "      <td>봉고3더블캡</td>\n",
       "      <td>제사모 중고장터</td>\n",
       "      <td>130</td>\n",
       "      <td>2022.03.16.</td>\n",
       "      <td>2022.03</td>\n",
       "      <td>제사모</td>\n",
       "      <td>2022</td>\n",
       "      <td>P</td>\n",
       "      <td>보다 투명하고 빠른 거래를 위하여 아래의 글 양식을 준수하여 주세요   거래 지역...</td>\n",
       "    </tr>\n",
       "  </tbody>\n",
       "</table>\n",
       "</div>"
      ],
      "text/plain": [
       "       제목        유형  조회수         작성날짜       월별  카페명    년별 평가  \\\n",
       "0  봉고3더블캡  제사모 중고장터  130  2022.03.16.  2022.03  제사모  2022  P   \n",
       "\n",
       "                                               내용거른거  \n",
       "0   보다 투명하고 빠른 거래를 위하여 아래의 글 양식을 준수하여 주세요   거래 지역...  "
      ]
     },
     "execution_count": 21,
     "metadata": {},
     "output_type": "execute_result"
    }
   ],
   "source": [
    "df.head(1)"
   ]
  },
  {
   "cell_type": "code",
   "execution_count": 22,
   "id": "061ddf47",
   "metadata": {},
   "outputs": [],
   "source": [
    "df.rename(columns={'내용거른거':'내용'},inplace=True)"
   ]
  },
  {
   "cell_type": "code",
   "execution_count": 32,
   "id": "958176fb",
   "metadata": {},
   "outputs": [],
   "source": [
    "df  = df.dropna()"
   ]
  },
  {
   "cell_type": "code",
   "execution_count": 42,
   "id": "861c0d9a",
   "metadata": {},
   "outputs": [
    {
     "data": {
      "text/plain": [
       "전기차동호회(투플럭스)    375088\n",
       "네이버블로그            8460\n",
       "전기차동호회            4390\n",
       "느영나영              3850\n",
       "제사모               1182\n",
       "Name: 카페명, dtype: int64"
      ]
     },
     "execution_count": 42,
     "metadata": {},
     "output_type": "execute_result"
    }
   ],
   "source": [
    "df.카페명.value_counts()"
   ]
  },
  {
   "cell_type": "code",
   "execution_count": 44,
   "id": "2283ed8b",
   "metadata": {},
   "outputs": [],
   "source": [
    "df_jeju = df[df.카페명 != '전기차동호회(투플럭스)']"
   ]
  },
  {
   "cell_type": "code",
   "execution_count": 46,
   "id": "8ff3b6e0",
   "metadata": {},
   "outputs": [],
   "source": [
    "df_jeju.reset_index(drop=True,inplace=True)"
   ]
  },
  {
   "cell_type": "code",
   "execution_count": 55,
   "id": "2198b3c8",
   "metadata": {},
   "outputs": [
    {
     "data": {
      "text/plain": [
       "<AxesSubplot:xlabel='년별,평가'>"
      ]
     },
     "execution_count": 55,
     "metadata": {},
     "output_type": "execute_result"
    },
    {
     "data": {
      "image/png": "[encoded data removed]",
      "text/plain": [
       "<Figure size 432x288 with 1 Axes>"
      ]
     },
     "metadata": {
      "needs_background": "light"
     },
     "output_type": "display_data"
    }
   ],
   "source": [
    "df_jeju.groupby([df_jeju.년별,df_jeju.평가[df_jeju.평가=='N']]).평가.count().plot.bar()"
   ]
  },
  {
   "cell_type": "code",
   "execution_count": 56,
   "id": "ada9f0d3",
   "metadata": {},
   "outputs": [
    {
     "data": {
      "text/plain": [
       "<AxesSubplot:xlabel='년별,평가'>"
      ]
     },
     "execution_count": 56,
     "metadata": {},
     "output_type": "execute_result"
    },
    {
     "data": {
      "image/png": "[encoded data removed]",
      "text/plain": [
       "<Figure size 432x288 with 1 Axes>"
      ]
     },
     "metadata": {
      "needs_background": "light"
     },
     "output_type": "display_data"
    }
   ],
   "source": [
    "df_jeju.groupby([df_jeju.년별,df_jeju.평가[df_jeju.평가=='P']]).평가.count().plot.bar()"
   ]
  },
  {
   "cell_type": "code",
   "execution_count": 73,
   "id": "5dce8edf",
   "metadata": {},
   "outputs": [
    {
     "data": {
      "text/plain": [
       "<AxesSubplot:xlabel='년별,평가'>"
      ]
     },
     "execution_count": 73,
     "metadata": {},
     "output_type": "execute_result"
    },
    {
     "data": {
      "image/png": "[encoded data removed]",
      "text/plain": [
       "<Figure size 1800x1800 with 1 Axes>"
      ]
     },
     "metadata": {},
     "output_type": "display_data"
    }
   ],
   "source": [
    "df_jeju.groupby([df_jeju.년별,df_jeju.평가[df_jeju.평가=='E']]).평가.count().plot.bar(color='#595959')"
   ]
  },
  {
   "cell_type": "code",
   "execution_count": 88,
   "id": "9f74e9f7",
   "metadata": {},
   "outputs": [
    {
     "data": {
      "text/plain": [
       "numpy.int64"
      ]
     },
     "execution_count": 88,
     "metadata": {},
     "output_type": "execute_result"
    }
   ],
   "source": [
    "type(df.년별[0])"
   ]
  },
  {
   "cell_type": "code",
   "execution_count": 91,
   "id": "aff94430",
   "metadata": {},
   "outputs": [
    {
     "data": {
      "text/plain": [
       "2021    4600\n",
       "2019    3620\n",
       "2020    3348\n",
       "2018    3240\n",
       "2022    1262\n",
       "2017    1238\n",
       "2016     454\n",
       "2015      88\n",
       "2014      24\n",
       "2010       4\n",
       "2012       2\n",
       "2011       2\n",
       "Name: 년별, dtype: int64"
      ]
     },
     "execution_count": 91,
     "metadata": {},
     "output_type": "execute_result"
    }
   ],
   "source": [
    "df_jeju.년별.value_counts()"
   ]
  },
  {
   "cell_type": "code",
   "execution_count": null,
   "id": "5491d2fe",
   "metadata": {},
   "outputs": [],
   "source": [
    "df_jeju.내용 in [2022]"
   ]
  },
  {
   "cell_type": "code",
   "execution_count": 102,
   "id": "e14f703d",
   "metadata": {},
   "outputs": [
    {
     "data": {
      "text/plain": [
       "<seaborn.axisgrid.FacetGrid at 0x2492156d5b0>"
      ]
     },
     "execution_count": 102,
     "metadata": {},
     "output_type": "execute_result"
    },
    {
     "data": {
      "image/png": "[encoded data removed]",
      "text/plain": [
       "<Figure size 1127.97x360 with 3 Axes>"
      ]
     },
     "metadata": {},
     "output_type": "display_data"
    }
   ],
   "source": [
    "sns.set(rc = {'figure.figsize':(25,25)})\n",
    "plt.rcParams['font.family'] = 'Malgun Gothic'\n",
    "sns.displot(data=df_jeju, x=\"년별\",col='평가',hue='평가')"
   ]
  },
  {
   "cell_type": "code",
   "execution_count": null,
   "id": "79438eca",
   "metadata": {},
   "outputs": [],
   "source": [
    "sns.set(rc = {'figure.figsize':(25,25)})\n",
    "plt.rcParams['font.family'] = 'Malgun Gothic'\n",
    "sns.displot(data=df[df.시간대 != '미분류'], x=\"시간대\",col='골프장지역명',hue='시간대')"
   ]
  },
  {
   "cell_type": "code",
   "execution_count": null,
   "id": "aba8724e",
   "metadata": {},
   "outputs": [],
   "source": []
  },
  {
   "cell_type": "code",
   "execution_count": 68,
   "id": "e96286a1",
   "metadata": {},
   "outputs": [
    {
     "data": {
      "text/plain": [
       "전기차동호회(투플럭스)    375088\n",
       "네이버블로그            8460\n",
       "전기차동호회            4390\n",
       "느영나영              3850\n",
       "제사모               1182\n",
       "Name: 카페명, dtype: int64"
      ]
     },
     "execution_count": 68,
     "metadata": {},
     "output_type": "execute_result"
    }
   ],
   "source": [
    "df.카페명.value_counts()"
   ]
  },
  {
   "cell_type": "code",
   "execution_count": 71,
   "id": "dca91d6c",
   "metadata": {},
   "outputs": [],
   "source": [
    "df[df.카페명=='네이버블로그'].to_csv('네이버블로그평가')"
   ]
  },
  {
   "cell_type": "code",
   "execution_count": 75,
   "id": "9167d6bf",
   "metadata": {},
   "outputs": [
    {
     "data": {
      "text/plain": [
       "0          보다 투명하고 빠른 거래를 위하여 아래의 글 양식을 준수하여 주세요   거래 지역...\n",
       "1         육지에서 이번주 토욜부터 제주 한달살이 시작하면서 렌트카 알아보고 있어요 육지에선 ...\n",
       "3         안에렌터카 무진장 많이 다니던데임산부 노약자 상관없이넘쳐나던디거기다우도내에전기차 렌...\n",
       "5         월일일 딸명과 엄마까지 총 인 제주여행을 계획중입니다비행기 예약은 끝났고 렌트카를 ...\n",
       "6         차량 정보  차량번호   차량 번호 참고 연식   주행거리  만킬로 연료  전기 변...\n",
       "                                ...                        \n",
       "414153     취소 차 잡다 카 마스터 님 계시다 요 계시다 요 아이오 닉 두다 좋다 지역 울릉 이다\n",
       "414154    대기 순번 문의 관련 되다 주제 대해 미리 카페 내 검색 하다 보다 네 아니다 네 ...\n",
       "414156    니 로 회생제동 질문 안녕하다 니 로 중고 로 타고 있다 네비업뎃 하고 나서다 부터...\n",
       "414157    가입 인사 드리다 자기 소개 안녕하다 기다리다 있다 지역 고양시 한글 별명 뜻 이름...\n",
       "414158    취소 차 문의 드리다 관련 되다 주제 대해 미리 카페 내 검색 하다 보다 네 아니다...\n",
       "Name: 내용, Length: 392970, dtype: object"
      ]
     },
     "execution_count": 75,
     "metadata": {},
     "output_type": "execute_result"
    }
   ],
   "source": []
  },
  {
   "cell_type": "code",
   "execution_count": null,
   "id": "a4ec5057",
   "metadata": {},
   "outputs": [],
   "source": [
    "df_jeju['년별']= df_jeju.년별.apply(lambda x : 2016 if x < 2017 else x)\n"
   ]
  },
  {
   "cell_type": "code",
   "execution_count": 137,
   "id": "e96bbe9b",
   "metadata": {},
   "outputs": [
    {
     "data": {
      "text/plain": [
       "'2022'"
      ]
     },
     "execution_count": 137,
     "metadata": {},
     "output_type": "execute_result"
    }
   ],
   "source": [
    "df_jeju.년별[0][:4]"
   ]
  },
  {
   "cell_type": "code",
   "execution_count": 138,
   "id": "b4efd89e",
   "metadata": {},
   "outputs": [
    {
     "name": "stderr",
     "output_type": "stream",
     "text": [
      "C:\\Users\\alsdn\\AppData\\Local\\Temp/ipykernel_20576/813171590.py:1: SettingWithCopyWarning: \n",
      "A value is trying to be set on a copy of a slice from a DataFrame.\n",
      "Try using .loc[row_indexer,col_indexer] = value instead\n",
      "\n",
      "See the caveats in the documentation: https://pandas.pydata.org/pandas-docs/stable/user_guide/indexing.html#returning-a-view-versus-a-copy\n",
      "  df_jeju['년별']= df_jeju.년별.apply(lambda x : int(x[:4]))\n"
     ]
    }
   ],
   "source": [
    "df_jeju['년별']= df_jeju.년별.apply(lambda x : int(x[:4]))"
   ]
  },
  {
   "cell_type": "code",
   "execution_count": 140,
   "id": "1c6f474b",
   "metadata": {},
   "outputs": [
    {
     "data": {
      "text/plain": [
       "2021    4600\n",
       "2019    3620\n",
       "2020    3348\n",
       "2018    3240\n",
       "2022    1262\n",
       "2017    1238\n",
       "2016     574\n",
       "Name: 년별, dtype: int64"
      ]
     },
     "execution_count": 140,
     "metadata": {},
     "output_type": "execute_result"
    }
   ],
   "source": [
    "df_jeju.년별.value_counts()"
   ]
  },
  {
   "cell_type": "code",
   "execution_count": 132,
   "id": "43028c87",
   "metadata": {},
   "outputs": [
    {
     "data": {
      "text/plain": [
       "0        2022\n",
       "1        2022\n",
       "2        2022\n",
       "3        2022\n",
       "4        2022\n",
       "         ... \n",
       "17877    2019\n",
       "17878    2019\n",
       "17879    2019\n",
       "17880    2019\n",
       "17881    2019\n",
       "Name: 년별, Length: 17882, dtype: object"
      ]
     },
     "execution_count": 132,
     "metadata": {},
     "output_type": "execute_result"
    }
   ],
   "source": [
    "df_jeju['년별']"
   ]
  },
  {
   "cell_type": "code",
   "execution_count": 104,
   "id": "e44cc69c",
   "metadata": {},
   "outputs": [
    {
     "data": {
      "text/plain": [
       "2021    177165\n",
       "2020    110542\n",
       "2019     56993\n",
       "2022     43218\n",
       "2018      3240\n",
       "2017      1238\n",
       "2016       454\n",
       "2015        88\n",
       "2014        24\n",
       "2010         4\n",
       "2012         2\n",
       "2011         2\n",
       "Name: 년별, dtype: int64"
      ]
     },
     "execution_count": 104,
     "metadata": {},
     "output_type": "execute_result"
    }
   ],
   "source": [
    "df['년별'].value_counts()"
   ]
  },
  {
   "cell_type": "code",
   "execution_count": 110,
   "id": "a4349404",
   "metadata": {},
   "outputs": [
    {
     "data": {
      "text/html": [
       "<div>\n",
       "<style scoped>\n",
       "    .dataframe tbody tr th:only-of-type {\n",
       "        vertical-align: middle;\n",
       "    }\n",
       "\n",
       "    .dataframe tbody tr th {\n",
       "        vertical-align: top;\n",
       "    }\n",
       "\n",
       "    .dataframe thead th {\n",
       "        text-align: right;\n",
       "    }\n",
       "</style>\n",
       "<table border=\"1\" class=\"dataframe\">\n",
       "  <thead>\n",
       "    <tr style=\"text-align: right;\">\n",
       "      <th></th>\n",
       "      <th>제목</th>\n",
       "      <th>유형</th>\n",
       "      <th>조회수</th>\n",
       "      <th>작성날짜</th>\n",
       "      <th>월별</th>\n",
       "      <th>카페명</th>\n",
       "      <th>년별</th>\n",
       "      <th>평가</th>\n",
       "      <th>내용</th>\n",
       "    </tr>\n",
       "  </thead>\n",
       "  <tbody>\n",
       "    <tr>\n",
       "      <th>0</th>\n",
       "      <td>봉고3더블캡</td>\n",
       "      <td>제사모 중고장터</td>\n",
       "      <td>130</td>\n",
       "      <td>2022.03.16.</td>\n",
       "      <td>2022.03</td>\n",
       "      <td>제사모</td>\n",
       "      <td>2022</td>\n",
       "      <td>P</td>\n",
       "      <td>보다 투명하고 빠른 거래를 위하여 아래의 글 양식을 준수하여 주세요   거래 지역...</td>\n",
       "    </tr>\n",
       "    <tr>\n",
       "      <th>1</th>\n",
       "      <td>렌트카 알아보고 있는데 lpg 차량이 저렴한 이유가 뭘까요?</td>\n",
       "      <td>Q. 종합 질문방</td>\n",
       "      <td>161</td>\n",
       "      <td>2022.03.16.</td>\n",
       "      <td>2022.03</td>\n",
       "      <td>제사모</td>\n",
       "      <td>2022</td>\n",
       "      <td>N</td>\n",
       "      <td>육지에서 이번주 토욜부터 제주 한달살이 시작하면서 렌트카 알아보고 있어요 육지에선 ...</td>\n",
       "    </tr>\n",
       "    <tr>\n",
       "      <th>3</th>\n",
       "      <td>요번에 보니..</td>\n",
       "      <td>실시간 이야기</td>\n",
       "      <td>119</td>\n",
       "      <td>2022.03.15.</td>\n",
       "      <td>2022.03</td>\n",
       "      <td>제사모</td>\n",
       "      <td>2022</td>\n",
       "      <td>E</td>\n",
       "      <td>안에렌터카 무진장 많이 다니던데임산부 노약자 상관없이넘쳐나던디거기다우도내에전기차 렌...</td>\n",
       "    </tr>\n",
       "    <tr>\n",
       "      <th>5</th>\n",
       "      <td>여행 고수님들 추천좀 해주세요</td>\n",
       "      <td>제주여행 수다&amp;질문</td>\n",
       "      <td>60</td>\n",
       "      <td>2022.03.14.</td>\n",
       "      <td>2022.03</td>\n",
       "      <td>제사모</td>\n",
       "      <td>2022</td>\n",
       "      <td>P</td>\n",
       "      <td>월일일 딸명과 엄마까지 총 인 제주여행을 계획중입니다비행기 예약은 끝났고 렌트카를 ...</td>\n",
       "    </tr>\n",
       "    <tr>\n",
       "      <th>6</th>\n",
       "      <td>전기차 신차급</td>\n",
       "      <td>중고자동차 매물</td>\n",
       "      <td>354</td>\n",
       "      <td>2022.03.10.</td>\n",
       "      <td>2022.03</td>\n",
       "      <td>제사모</td>\n",
       "      <td>2022</td>\n",
       "      <td>E</td>\n",
       "      <td>차량 정보  차량번호   차량 번호 참고 연식   주행거리  만킬로 연료  전기 변...</td>\n",
       "    </tr>\n",
       "    <tr>\n",
       "      <th>...</th>\n",
       "      <td>...</td>\n",
       "      <td>...</td>\n",
       "      <td>...</td>\n",
       "      <td>...</td>\n",
       "      <td>...</td>\n",
       "      <td>...</td>\n",
       "      <td>...</td>\n",
       "      <td>...</td>\n",
       "      <td>...</td>\n",
       "    </tr>\n",
       "    <tr>\n",
       "      <th>414153</th>\n",
       "      <td>취소차 잡아주실 카마스터님 계실까요?</td>\n",
       "      <td>투플럭스</td>\n",
       "      <td>조회수없음</td>\n",
       "      <td>2022.03.03.</td>\n",
       "      <td>2022.03</td>\n",
       "      <td>전기차동호회(투플럭스)</td>\n",
       "      <td>2022</td>\n",
       "      <td>P</td>\n",
       "      <td>취소 차 잡다 카 마스터 님 계시다 요 계시다 요 아이오 닉 두다 좋다 지역 울릉 이다</td>\n",
       "    </tr>\n",
       "    <tr>\n",
       "      <th>414154</th>\n",
       "      <td>C40 대기순번 문의</td>\n",
       "      <td>투플럭스</td>\n",
       "      <td>조회수없음</td>\n",
       "      <td>2022.03.02.</td>\n",
       "      <td>2022.03</td>\n",
       "      <td>전기차동호회(투플럭스)</td>\n",
       "      <td>2022</td>\n",
       "      <td>E</td>\n",
       "      <td>대기 순번 문의 관련 되다 주제 대해 미리 카페 내 검색 하다 보다 네 아니다 네 ...</td>\n",
       "    </tr>\n",
       "    <tr>\n",
       "      <th>414156</th>\n",
       "      <td>니로 ev 회생제동 질문</td>\n",
       "      <td>투플럭스</td>\n",
       "      <td>조회수없음</td>\n",
       "      <td>2022.03.02.</td>\n",
       "      <td>2022.03</td>\n",
       "      <td>전기차동호회(투플럭스)</td>\n",
       "      <td>2022</td>\n",
       "      <td>E</td>\n",
       "      <td>니 로 회생제동 질문 안녕하다 니 로 중고 로 타고 있다 네비업뎃 하고 나서다 부터...</td>\n",
       "    </tr>\n",
       "    <tr>\n",
       "      <th>414157</th>\n",
       "      <td>가입인사 드립니다</td>\n",
       "      <td>투플럭스</td>\n",
       "      <td>조회수없음</td>\n",
       "      <td>2022.03.06.</td>\n",
       "      <td>2022.03</td>\n",
       "      <td>전기차동호회(투플럭스)</td>\n",
       "      <td>2022</td>\n",
       "      <td>P</td>\n",
       "      <td>가입 인사 드리다 자기 소개 안녕하다 기다리다 있다 지역 고양시 한글 별명 뜻 이름...</td>\n",
       "    </tr>\n",
       "    <tr>\n",
       "      <th>414158</th>\n",
       "      <td>취소차 문의드립니다.</td>\n",
       "      <td>투플럭스</td>\n",
       "      <td>조회수없음</td>\n",
       "      <td>2022.03.04.</td>\n",
       "      <td>2022.03</td>\n",
       "      <td>전기차동호회(투플럭스)</td>\n",
       "      <td>2022</td>\n",
       "      <td>P</td>\n",
       "      <td>취소 차 문의 드리다 관련 되다 주제 대해 미리 카페 내 검색 하다 보다 네 아니다...</td>\n",
       "    </tr>\n",
       "  </tbody>\n",
       "</table>\n",
       "<p>392970 rows × 9 columns</p>\n",
       "</div>"
      ],
      "text/plain": [
       "                                       제목          유형    조회수         작성날짜  \\\n",
       "0                                  봉고3더블캡    제사모 중고장터    130  2022.03.16.   \n",
       "1       렌트카 알아보고 있는데 lpg 차량이 저렴한 이유가 뭘까요?   Q. 종합 질문방    161  2022.03.16.   \n",
       "3                                요번에 보니..     실시간 이야기    119  2022.03.15.   \n",
       "5                        여행 고수님들 추천좀 해주세요  제주여행 수다&질문     60  2022.03.14.   \n",
       "6                                 전기차 신차급    중고자동차 매물    354  2022.03.10.   \n",
       "...                                   ...         ...    ...          ...   \n",
       "414153               취소차 잡아주실 카마스터님 계실까요?        투플럭스  조회수없음  2022.03.03.   \n",
       "414154                        C40 대기순번 문의        투플럭스  조회수없음  2022.03.02.   \n",
       "414156                      니로 ev 회생제동 질문        투플럭스  조회수없음  2022.03.02.   \n",
       "414157                          가입인사 드립니다        투플럭스  조회수없음  2022.03.06.   \n",
       "414158                        취소차 문의드립니다.        투플럭스  조회수없음  2022.03.04.   \n",
       "\n",
       "             월별           카페명    년별 평가  \\\n",
       "0       2022.03           제사모  2022  P   \n",
       "1       2022.03           제사모  2022  N   \n",
       "3       2022.03           제사모  2022  E   \n",
       "5       2022.03           제사모  2022  P   \n",
       "6       2022.03           제사모  2022  E   \n",
       "...         ...           ...   ... ..   \n",
       "414153  2022.03  전기차동호회(투플럭스)  2022  P   \n",
       "414154  2022.03  전기차동호회(투플럭스)  2022  E   \n",
       "414156  2022.03  전기차동호회(투플럭스)  2022  E   \n",
       "414157  2022.03  전기차동호회(투플럭스)  2022  P   \n",
       "414158  2022.03  전기차동호회(투플럭스)  2022  P   \n",
       "\n",
       "                                                       내용  \n",
       "0        보다 투명하고 빠른 거래를 위하여 아래의 글 양식을 준수하여 주세요   거래 지역...  \n",
       "1       육지에서 이번주 토욜부터 제주 한달살이 시작하면서 렌트카 알아보고 있어요 육지에선 ...  \n",
       "3       안에렌터카 무진장 많이 다니던데임산부 노약자 상관없이넘쳐나던디거기다우도내에전기차 렌...  \n",
       "5       월일일 딸명과 엄마까지 총 인 제주여행을 계획중입니다비행기 예약은 끝났고 렌트카를 ...  \n",
       "6       차량 정보  차량번호   차량 번호 참고 연식   주행거리  만킬로 연료  전기 변...  \n",
       "...                                                   ...  \n",
       "414153   취소 차 잡다 카 마스터 님 계시다 요 계시다 요 아이오 닉 두다 좋다 지역 울릉 이다  \n",
       "414154  대기 순번 문의 관련 되다 주제 대해 미리 카페 내 검색 하다 보다 네 아니다 네 ...  \n",
       "414156  니 로 회생제동 질문 안녕하다 니 로 중고 로 타고 있다 네비업뎃 하고 나서다 부터...  \n",
       "414157  가입 인사 드리다 자기 소개 안녕하다 기다리다 있다 지역 고양시 한글 별명 뜻 이름...  \n",
       "414158  취소 차 문의 드리다 관련 되다 주제 대해 미리 카페 내 검색 하다 보다 네 아니다...  \n",
       "\n",
       "[392970 rows x 9 columns]"
      ]
     },
     "execution_count": 110,
     "metadata": {},
     "output_type": "execute_result"
    }
   ],
   "source": [
    "df"
   ]
  },
  {
   "cell_type": "code",
   "execution_count": 115,
   "id": "f2eb6d03",
   "metadata": {},
   "outputs": [
    {
     "data": {
      "text/plain": [
       "[0         True\n",
       " 1         True\n",
       " 2         True\n",
       " 3         True\n",
       " 4         True\n",
       "          ...  \n",
       " 17877    False\n",
       " 17878    False\n",
       " 17879    False\n",
       " 17880    False\n",
       " 17881    False\n",
       " Name: 조회수, Length: 17882, dtype: bool]"
      ]
     },
     "execution_count": 115,
     "metadata": {},
     "output_type": "execute_result"
    }
   ],
   "source": [
    "[df_jeju.조회수 != '조회수없음']"
   ]
  },
  {
   "cell_type": "code",
   "execution_count": 142,
   "id": "4417e75d",
   "metadata": {},
   "outputs": [
    {
     "data": {
      "text/html": [
       "<div>\n",
       "<style scoped>\n",
       "    .dataframe tbody tr th:only-of-type {\n",
       "        vertical-align: middle;\n",
       "    }\n",
       "\n",
       "    .dataframe tbody tr th {\n",
       "        vertical-align: top;\n",
       "    }\n",
       "\n",
       "    .dataframe thead th {\n",
       "        text-align: right;\n",
       "    }\n",
       "</style>\n",
       "<table border=\"1\" class=\"dataframe\">\n",
       "  <thead>\n",
       "    <tr style=\"text-align: right;\">\n",
       "      <th></th>\n",
       "      <th>제목</th>\n",
       "      <th>유형</th>\n",
       "      <th>조회수</th>\n",
       "      <th>작성날짜</th>\n",
       "      <th>월별</th>\n",
       "      <th>카페명</th>\n",
       "      <th>년별</th>\n",
       "      <th>평가</th>\n",
       "      <th>내용</th>\n",
       "    </tr>\n",
       "  </thead>\n",
       "  <tbody>\n",
       "    <tr>\n",
       "      <th>0</th>\n",
       "      <td>봉고3더블캡</td>\n",
       "      <td>제사모 중고장터</td>\n",
       "      <td>130</td>\n",
       "      <td>2022.03.16.</td>\n",
       "      <td>2022.03</td>\n",
       "      <td>제사모</td>\n",
       "      <td>2022</td>\n",
       "      <td>P</td>\n",
       "      <td>보다 투명하고 빠른 거래를 위하여 아래의 글 양식을 준수하여 주세요   거래 지역...</td>\n",
       "    </tr>\n",
       "    <tr>\n",
       "      <th>1</th>\n",
       "      <td>렌트카 알아보고 있는데 lpg 차량이 저렴한 이유가 뭘까요?</td>\n",
       "      <td>Q. 종합 질문방</td>\n",
       "      <td>161</td>\n",
       "      <td>2022.03.16.</td>\n",
       "      <td>2022.03</td>\n",
       "      <td>제사모</td>\n",
       "      <td>2022</td>\n",
       "      <td>N</td>\n",
       "      <td>육지에서 이번주 토욜부터 제주 한달살이 시작하면서 렌트카 알아보고 있어요 육지에선 ...</td>\n",
       "    </tr>\n",
       "    <tr>\n",
       "      <th>2</th>\n",
       "      <td>요번에 보니..</td>\n",
       "      <td>실시간 이야기</td>\n",
       "      <td>119</td>\n",
       "      <td>2022.03.15.</td>\n",
       "      <td>2022.03</td>\n",
       "      <td>제사모</td>\n",
       "      <td>2022</td>\n",
       "      <td>E</td>\n",
       "      <td>안에렌터카 무진장 많이 다니던데임산부 노약자 상관없이넘쳐나던디거기다우도내에전기차 렌...</td>\n",
       "    </tr>\n",
       "    <tr>\n",
       "      <th>3</th>\n",
       "      <td>여행 고수님들 추천좀 해주세요</td>\n",
       "      <td>제주여행 수다&amp;질문</td>\n",
       "      <td>60</td>\n",
       "      <td>2022.03.14.</td>\n",
       "      <td>2022.03</td>\n",
       "      <td>제사모</td>\n",
       "      <td>2022</td>\n",
       "      <td>P</td>\n",
       "      <td>월일일 딸명과 엄마까지 총 인 제주여행을 계획중입니다비행기 예약은 끝났고 렌트카를 ...</td>\n",
       "    </tr>\n",
       "    <tr>\n",
       "      <th>4</th>\n",
       "      <td>전기차 신차급</td>\n",
       "      <td>중고자동차 매물</td>\n",
       "      <td>354</td>\n",
       "      <td>2022.03.10.</td>\n",
       "      <td>2022.03</td>\n",
       "      <td>제사모</td>\n",
       "      <td>2022</td>\n",
       "      <td>E</td>\n",
       "      <td>차량 정보  차량번호   차량 번호 참고 연식   주행거리  만킬로 연료  전기 변...</td>\n",
       "    </tr>\n",
       "    <tr>\n",
       "      <th>...</th>\n",
       "      <td>...</td>\n",
       "      <td>...</td>\n",
       "      <td>...</td>\n",
       "      <td>...</td>\n",
       "      <td>...</td>\n",
       "      <td>...</td>\n",
       "      <td>...</td>\n",
       "      <td>...</td>\n",
       "      <td>...</td>\n",
       "    </tr>\n",
       "    <tr>\n",
       "      <th>17877</th>\n",
       "      <td>제주도 여행 렌트카 대여 :: 스타렌터카</td>\n",
       "      <td>블로그</td>\n",
       "      <td>조회수없음</td>\n",
       "      <td>2019.06.08.</td>\n",
       "      <td>2019.06</td>\n",
       "      <td>네이버블로그</td>\n",
       "      <td>2019</td>\n",
       "      <td>P</td>\n",
       "      <td>우리 빌리다 차다 전기차 니 로 나 먼저 차 타고 구 님 차 외관 확인 하고 설명 ...</td>\n",
       "    </tr>\n",
       "    <tr>\n",
       "      <th>17878</th>\n",
       "      <td>타기_쏘카 &amp; 쏘카스테이션 제주 이용후기(Feat. 쏘카패스)</td>\n",
       "      <td>블로그</td>\n",
       "      <td>조회수없음</td>\n",
       "      <td>2019.06.08.</td>\n",
       "      <td>2019.06</td>\n",
       "      <td>네이버블로그</td>\n",
       "      <td>2019</td>\n",
       "      <td>P</td>\n",
       "      <td>저 쏘다 카 패스 베타서비스 기간 가입 하다 쏘다 카 스테이션 에서도 가능하다 추가...</td>\n",
       "    </tr>\n",
       "    <tr>\n",
       "      <th>17879</th>\n",
       "      <td>♨ 제주도 6박 7일 여행 비용, 경비 다 알려드립니당 ♨</td>\n",
       "      <td>블로그</td>\n",
       "      <td>조회수없음</td>\n",
       "      <td>2019.06.08.</td>\n",
       "      <td>2019.06</td>\n",
       "      <td>네이버블로그</td>\n",
       "      <td>2019</td>\n",
       "      <td>E</td>\n",
       "      <td>숙박 비용 총 박 하다 원 예약 하다 렌터카 차종 전기차 박 일 예약 하다 원 예약...</td>\n",
       "    </tr>\n",
       "    <tr>\n",
       "      <th>17880</th>\n",
       "      <td>가볼만한 곳/제주도 숨은 명소/제주 청초밭 방문 후기</td>\n",
       "      <td>블로그</td>\n",
       "      <td>조회수없음</td>\n",
       "      <td>2019.06.07.</td>\n",
       "      <td>2019.06</td>\n",
       "      <td>네이버블로그</td>\n",
       "      <td>2019</td>\n",
       "      <td>P</td>\n",
       "      <td>영주산 바라보다 걷기 걷기 하다 일부 전기차 로 데리다 주다 제주 청초 밭 선택 전...</td>\n",
       "    </tr>\n",
       "    <tr>\n",
       "      <th>17881</th>\n",
       "      <td>뜸했던 쳐비 제주도 혼여(혼자여행)하고왔어요:)</td>\n",
       "      <td>블로그</td>\n",
       "      <td>조회수없음</td>\n",
       "      <td>2019.06.07.</td>\n",
       "      <td>2019.06</td>\n",
       "      <td>네이버블로그</td>\n",
       "      <td>2019</td>\n",
       "      <td>P</td>\n",
       "      <td>제대로 여행 후기 남기다 보다 전기차 처음 타 보다 신차 라 그렇다 너무 좋다</td>\n",
       "    </tr>\n",
       "  </tbody>\n",
       "</table>\n",
       "<p>17882 rows × 9 columns</p>\n",
       "</div>"
      ],
      "text/plain": [
       "                                       제목          유형    조회수         작성날짜  \\\n",
       "0                                  봉고3더블캡    제사모 중고장터    130  2022.03.16.   \n",
       "1       렌트카 알아보고 있는데 lpg 차량이 저렴한 이유가 뭘까요?   Q. 종합 질문방    161  2022.03.16.   \n",
       "2                                요번에 보니..     실시간 이야기    119  2022.03.15.   \n",
       "3                        여행 고수님들 추천좀 해주세요  제주여행 수다&질문     60  2022.03.14.   \n",
       "4                                 전기차 신차급    중고자동차 매물    354  2022.03.10.   \n",
       "...                                   ...         ...    ...          ...   \n",
       "17877              제주도 여행 렌트카 대여 :: 스타렌터카         블로그  조회수없음  2019.06.08.   \n",
       "17878  타기_쏘카 & 쏘카스테이션 제주 이용후기(Feat. 쏘카패스)         블로그  조회수없음  2019.06.08.   \n",
       "17879    ♨ 제주도 6박 7일 여행 비용, 경비 다 알려드립니당 ♨         블로그  조회수없음  2019.06.08.   \n",
       "17880       가볼만한 곳/제주도 숨은 명소/제주 청초밭 방문 후기         블로그  조회수없음  2019.06.07.   \n",
       "17881          뜸했던 쳐비 제주도 혼여(혼자여행)하고왔어요:)         블로그  조회수없음  2019.06.07.   \n",
       "\n",
       "            월별     카페명    년별 평가  \\\n",
       "0      2022.03     제사모  2022  P   \n",
       "1      2022.03     제사모  2022  N   \n",
       "2      2022.03     제사모  2022  E   \n",
       "3      2022.03     제사모  2022  P   \n",
       "4      2022.03     제사모  2022  E   \n",
       "...        ...     ...   ... ..   \n",
       "17877  2019.06  네이버블로그  2019  P   \n",
       "17878  2019.06  네이버블로그  2019  P   \n",
       "17879  2019.06  네이버블로그  2019  E   \n",
       "17880  2019.06  네이버블로그  2019  P   \n",
       "17881  2019.06  네이버블로그  2019  P   \n",
       "\n",
       "                                                      내용  \n",
       "0       보다 투명하고 빠른 거래를 위하여 아래의 글 양식을 준수하여 주세요   거래 지역...  \n",
       "1      육지에서 이번주 토욜부터 제주 한달살이 시작하면서 렌트카 알아보고 있어요 육지에선 ...  \n",
       "2      안에렌터카 무진장 많이 다니던데임산부 노약자 상관없이넘쳐나던디거기다우도내에전기차 렌...  \n",
       "3      월일일 딸명과 엄마까지 총 인 제주여행을 계획중입니다비행기 예약은 끝났고 렌트카를 ...  \n",
       "4      차량 정보  차량번호   차량 번호 참고 연식   주행거리  만킬로 연료  전기 변...  \n",
       "...                                                  ...  \n",
       "17877  우리 빌리다 차다 전기차 니 로 나 먼저 차 타고 구 님 차 외관 확인 하고 설명 ...  \n",
       "17878  저 쏘다 카 패스 베타서비스 기간 가입 하다 쏘다 카 스테이션 에서도 가능하다 추가...  \n",
       "17879  숙박 비용 총 박 하다 원 예약 하다 렌터카 차종 전기차 박 일 예약 하다 원 예약...  \n",
       "17880  영주산 바라보다 걷기 걷기 하다 일부 전기차 로 데리다 주다 제주 청초 밭 선택 전...  \n",
       "17881        제대로 여행 후기 남기다 보다 전기차 처음 타 보다 신차 라 그렇다 너무 좋다  \n",
       "\n",
       "[17882 rows x 9 columns]"
      ]
     },
     "execution_count": 142,
     "metadata": {},
     "output_type": "execute_result"
    }
   ],
   "source": [
    "df_jeju"
   ]
  },
  {
   "cell_type": "code",
   "execution_count": 141,
   "id": "3cd05230",
   "metadata": {},
   "outputs": [
    {
     "data": {
      "text/plain": [
       "<AxesSubplot:>"
      ]
     },
     "execution_count": 141,
     "metadata": {},
     "output_type": "execute_result"
    },
    {
     "data": {
      "image/png": "[encoded data removed]",
      "text/plain": [
       "<Figure size 1800x1800 with 1 Axes>"
      ]
     },
     "metadata": {},
     "output_type": "display_data"
    }
   ],
   "source": [
    "df_jeju[df_jeju.조회수 != '조회수없음'].년별.value_counts().plot.bar(color='#595959')"
   ]
  },
  {
   "cell_type": "code",
   "execution_count": 152,
   "id": "d62c6b66",
   "metadata": {},
   "outputs": [
    {
     "data": {
      "text/plain": [
       "<AxesSubplot:xlabel='년별'>"
      ]
     },
     "execution_count": 152,
     "metadata": {},
     "output_type": "execute_result"
    },
    {
     "data": {
      "image/png": "[encoded data removed]",
      "text/plain": [
       "<Figure size 1800x1800 with 1 Axes>"
      ]
     },
     "metadata": {},
     "output_type": "display_data"
    }
   ],
   "source": [
    "df_jeju.groupby([df_jeju.년별,df_jeju.평가]).제목.count().unstack().plot.bar()"
   ]
  },
  {
   "cell_type": "markdown",
   "id": "a7c7bb8b",
   "metadata": {},
   "source": [
    "## 전기차뉴스"
   ]
  },
  {
   "cell_type": "code",
   "execution_count": 163,
   "id": "2252cabb",
   "metadata": {},
   "outputs": [
    {
     "data": {
      "text/plain": [
       "<AxesSubplot:xlabel='년'>"
      ]
     },
     "execution_count": 163,
     "metadata": {},
     "output_type": "execute_result"
    },
    {
     "data": {
      "image/png": "[encoded data removed]",
      "text/plain": [
       "<Figure size 1800x1800 with 1 Axes>"
      ]
     },
     "metadata": {},
     "output_type": "display_data"
    }
   ],
   "source": [
    "df_news.groupby(['년']).제목.count().plot.bar(color=('#595959'))"
   ]
  },
  {
   "cell_type": "code",
   "execution_count": 162,
   "id": "84c554c1",
   "metadata": {},
   "outputs": [
    {
     "data": {
      "text/html": [
       "<div>\n",
       "<style scoped>\n",
       "    .dataframe tbody tr th:only-of-type {\n",
       "        vertical-align: middle;\n",
       "    }\n",
       "\n",
       "    .dataframe tbody tr th {\n",
       "        vertical-align: top;\n",
       "    }\n",
       "\n",
       "    .dataframe thead th {\n",
       "        text-align: right;\n",
       "    }\n",
       "</style>\n",
       "<table border=\"1\" class=\"dataframe\">\n",
       "  <thead>\n",
       "    <tr style=\"text-align: right;\">\n",
       "      <th></th>\n",
       "      <th>제목</th>\n",
       "      <th>날짜</th>\n",
       "      <th>월</th>\n",
       "      <th>년</th>\n",
       "    </tr>\n",
       "  </thead>\n",
       "  <tbody>\n",
       "    <tr>\n",
       "      <th>0</th>\n",
       "      <td>2022년, 바람으로 달리는 전기차 3만대 시대 열린다</td>\n",
       "      <td>2022-02-09</td>\n",
       "      <td>2</td>\n",
       "      <td>2022</td>\n",
       "    </tr>\n",
       "    <tr>\n",
       "      <th>1</th>\n",
       "      <td>&lt;2월 2일 0시 이후 보도 가능&gt;전기차 보급확산 정책, ‘2022년 고용영향평가제...</td>\n",
       "      <td>2022-01-28</td>\n",
       "      <td>1</td>\n",
       "      <td>2022</td>\n",
       "    </tr>\n",
       "  </tbody>\n",
       "</table>\n",
       "</div>"
      ],
      "text/plain": [
       "                                                  제목          날짜  월     년\n",
       "0                     2022년, 바람으로 달리는 전기차 3만대 시대 열린다  2022-02-09  2  2022\n",
       "1  <2월 2일 0시 이후 보도 가능>전기차 보급확산 정책, ‘2022년 고용영향평가제...  2022-01-28  1  2022"
      ]
     },
     "execution_count": 162,
     "metadata": {},
     "output_type": "execute_result"
    }
   ],
   "source": [
    "df_news.head(2)"
   ]
  },
  {
   "cell_type": "code",
   "execution_count": 189,
   "id": "1047a66c",
   "metadata": {},
   "outputs": [],
   "source": [
    "df.reset_index(drop=True,inplace=True)"
   ]
  },
  {
   "cell_type": "code",
   "execution_count": 198,
   "id": "d8faaa42",
   "metadata": {},
   "outputs": [
    {
     "name": "stdout",
     "output_type": "stream",
     "text": [
      " 숙소명   도라미휴양펜션 형태   관광휴양펜션 사업자등록번호   주소   제주 서귀포시 일주동로 신효동              제주 서귀포시 신효동  문의전화    평수   임대인원   객실수룸구조   기본시설평수임대인원기준최대객실수룸구조기본시설원룸평형원룸룸평형침실 거실화장실투룸평형침실 한실 거실화장실 예약가능기간  년중무휴 객실요금단기  보증금박일   보증금박일  보증금박일  보증금원룸만원없음만없음만없음만없음룸주중 만없음주말금토만없음만없음만없음만없음투룸주중 만없음주말금토만없음만없음만없음만없음 계약서 작성여부  계약서 없음 주변 관광지  쇠소깍 정방폭포 천지연폭포 새연교 황우지해변 올레길  코스휴애리 자연생활공원 치유의 숲길 한라산 둘레길 성판악 우리 숙소 소개   귀포시내 중심가에 위치한 저희 도라미펜션은 동으로는 쇠소깍차량분 표선민속촌차량분 성산일출봉차량 분 서로는 정방폭포차량분 서귀포 올레시장 천지연폭포 새연교차량분 외돌개차량분 북으로는 돈내코 유원지 상효원 식물원차량 분 휴애리 자연공원차량 분 한라산 등반로인 성판악차량 분등유명 관광지가 인근에 자리하고 있으며 차량 분이내에 마트 유명 맛집등이 있으며서귀포 축구 공원도보 분등이 있어 간단한 운동도 할수 있는 최적의 장소 입니다=\n",
      "P\n",
      "\n",
      "제주는 어딜가도 바다근처를 지날일이 많아서 언더코팅을 해야하나 고민중입니다요즘 나오는 차들은 기본적으로 코팅이 되어서 나온다고는 하는데 걱정이네요 제주시에 언더코팅 야매로 안하고 깔끔하게 잘해주는 업체 있나요=\n",
      "N\n",
      "\n",
      "딜러 매입가보다 좀 더 드리겠습니다연락주세요=\n",
      "E\n",
      "\n",
      "안녕하세요 믿을수 있는 중고차 찾으시나요후기로 증명하는 제주 등딜러 제주중고차특파원이 있습니다 제주 유일 중고차 유튜버로서 최선을 다해서 성실하게 일하고 있습니다르노삼성   전기차 연식년형식주행거리등급사고무사고연료전기변속기오토배터리보증기간년만이내회충전주행거리약압류저당체납 없음구입문의 찾으시는 매물이 아니 시더라도톡상담 하세요 원하시는 매물 찾아 드립니다 판매자 정보 소속상사  제주중고차매매상사 소속조합  제주도중고차매매조합 상사주소  제주시 번영로  호 사원증번호   판매담당자 왕오현팀장중고차특파원 연락처  =\n",
      "P\n",
      "\n",
      "전기차로 알아보고 있는데 가격이 넘 비싸졌네요 요근래아이오닉 예전꺼 파는분이나 주변에 있으시면 딜러 값보다 좀 더 드리고 사고싶어요 ㅎㅎ행복한 제주 생활 시작입니다=\n",
      "P\n",
      "\n",
      "제주특별자치도 제주시 노형로  층 코리아 펜싱클럽안녕하세요  저희 코리아펜싱클럽은 공항에서 차로 약 분거리에 위치해있어요 공항에서 가깝게 위치한 코리아펜싱클럽은 주차공간이 넓답니다 코리아펜싱클럽 건물로 들어가는 입구 앞에 바로 이렇게 주차공간이 있고 양 옆으로도 주차장과 전기차 충전소까지 함께 있답니다 아이들 운동 배우면서 주차걱정은 하지 않아도 되는 코리아펜싱클럽 아이들 수업이 가능한 시간은 평일 오후 시부터 저녁 시 수업마지막 수업까지 하고주말에는 오전 시부터 오후 시 수업마지막 수업까지 한답니다 ㅎㅎ아이들 연령별 그룹에 따라 최대 인원수는 다르게 정해져있어요 연령별 그룹 인원 수 제한이 있기 때문에 정원이 차면 원하시는 시간에 수업하지 못하는 점 양해부탁드려요코리아펜싱클럽에 관해 자세한 내용이나 더 궁금하신 점이 있으시면 아래에 있는 연락처로 편하게 연락주세요  아래에 있는 사진을 클릭하시면 바로 연락처나 홈페이지로 연결됩니다 =\n",
      "P\n",
      "\n",
      "소개 해드릴 차량은 오피러스 차량입니다 택시로 쓰던차량으로 택시기사님께서이번에 전기차로 바꾸시면서 매입한차량입니다  택시기사님답게  차량관리 매우잘된차량입니다차량연식  년주행거리  만차량색상  검정주요옵션   열선시트   후방카메라 네비게이션중고차 구매후 걱정하시는 분들의 마음을 잘 알고있기 때문에저 또한 좋은매물을 골라 매입 판매를 하려고 하고있습니다전차종 고가로 매입전차종 저렴한가격으로 판매전액할부가능  전화한통으로 조회가능아무차량이나 판매하지않습니다저희는 무조건 검증된차량만 판매합니다차량 구매안내 전액 할부가능하며 최저부터개월까지 가능합니다차량금액보험료이전료 모두 가능하십니다전화나 문자만으로도 할부조회가 가능합니다차량대금은 현금 할부 카드 등 모두 가능합니다카드결제의 경우  추가 수수료발생모든차량 엔진미션  한달   가능하며  신차보증 기간이 남아있는 차량의 경우 사업소에서 직접 받아보실수 있습니다고객님께서 타시던 차량과 대차가 가능하며  최고의 가격으로 매입해 드립니다구매하실 차량에 대한 선능정검을 고지해드리고있습니다도내 어디든 찾아가는 서비스로 편안하게 차량을  구매가 가능하며 당일출고가 가능합니다광고에 미쳐 올리지 못한 차량많습니다 연락주시면 성심성의껏 답변해드리고 찾아봐드리겠습니다블로그 오시는 길 ㄴ 주 소  제주도 제주시 번영로  봉개동 호  정연동팀장 제주중고차 제주살이제주자동차매입제주자동차매매제주시중고차서귀포시중고차제주도중고차=\n",
      "P\n",
      "\n",
      "제주에 사는 재미중 하나가 자연을  벗삼아 올레길 걸어보기 아닌가 싶네요올레길 몇차례 완주후 기억에 남는 저만의 올레길  구간 선정해봤습니다  올레코스   사계해안송악산 송악산  일몰은 예술 그자체  올레코스     외돌개 법환포구옆 해안산책로 올레길중 가장 걷기좋고 눈도 즐거웠던  올레 코스   시흥초등학교앞광치기해변 올레길 첫 스타트의 설레임과 성산일출봉 그리고 광치기 해변의 아름다운 일몰 올레 코스   우도 올레길  전기차가 아닌 두다리로 한적하게 걸으며 보는 우도의 풍광 올레   가파도 올레봄에 청보리축제 기간에 방문하면배 멋진 가파도 올레   추자도 올레  튼튼한 두다리만 믿고 당일치기로 갔다가 생각보다 긴 코스에 배편을 놓치고 박일 묵었지만 경치는 기가 막혔던 코스   수월봉 용수포구 해질녘 용수포구  가기전 산속 산책길에서 바라보는 차귀도 일몰은 잊혀지지않네요이외에도 코스 거의다 걸어갈때쯤 나오는 금능 협재해변에서 보는 일몰도 멋있었고코스 곽지해변산책로 지나 애월카페거리 지나는 구간도 잼있었던 기억이 납니다어서 코로나가 지나고 올레길에서 많은 여행자분들을 만나고 싶네요=\n",
      "P\n",
      "\n",
      "안녕하세요월중 대구제주 이주 앞두고 있습니다신제주 노형동 오피스텔에서 거주예정이고입도하자마자 전기차 아이오닉 계약예정입니다거주할 오피스텔은 신축이라 기본 충전시설은 있습니다기계식주차년후 제주시내 차량 분내 마당 있는 주택으로 이사할 계획입니다 노형동 오피스텔 충전 주택으로 갔을때 충전현재 번 전기차충전이 원만할까요지금 대구에 세대 아파트 거주중인데전기차 입주민들 퇴근 늦으면 충전때문에 고생합니다=\n",
      "N\n",
      "\n",
      "제주도 직판렌트카 수수료 없는 제주로렌트카제주도는 중앙에 한라산이 자리하고 주변을 빙 둘러 관광명소와 도시들이 자리하고 있기에 대중교통을 이용하여 섬 전체를 여행하기에는 다소 시간적인 여유가 부족할 수 있는데요 그렇기에 차량을 대여하여 아까운 일분일초를 단축시키고 제주도의 아름다운 해안도로를 달리며 풍경을 감상하실 수 있습니다 차량을 통해 제주도까지 이동하는 것이 아니라 비행기를 타고 섬에 도착하기 때문에 이동에 차질이 없게 하기 위해서는 차량을 렌트해야 하는데요 오늘은 제주도 직판렌트카 제주로렌트카를 소개해드리고자 합니다제주도 직판렌트카 업체들이 많지만 제주로를 선택할 수 밖에 없는 이유첫번째 공항과의 가까운 거리로 제주도에 도착해서도 혹은 제주도를 떠날 때에도 불필요한 이동이나 경비지출 없이 빠르게 목적지나 공항으로 이동이 가능합니다 제주공항에서부터 분 내에 위치하고 있으며 셔틀버스를 통해 제주로렌트카로 이동이 가능하시기 때문에 따로 택시를 타고 이동해야 하거나 목적지의 경로에서부터 벗어나 시간적인 낭비 없이 차량인수 후 바로 여행을 떠나실 수 있습니다두번째 새벽비행기나 밤비행기로 도착하시는 여행객분들도 시간제한 없이 새벽반납 및 야간배차가 가능하며 급하게 계획된 여행으로 미처 제주도 직판렌트카 예약을 하시지 못하신 분들도 당일예약과 실시간 예약을 통해 차량을 이용하실 수 있습니다세번째  직판 시스템으로 운영되어 비용적인 부담을 덜고 저렴하고 합리적인 비용으로 차량을 이용하실 수 있으며 차종 또한 국내차에 한하여 렌트가 이루어지는 것이 아닌 전기차 외제차 슈퍼카 등 다양한 차종으로 목적에 따라 내가 원하는 차량을 선택할 수 있습니다네번째 차량인수에 불필요한 대기시간으로 여행 일정을 망치지 않도록 키오스크 무인시스템을 도입하여 빠른 차량인수가 가능합니다 떠나시기 전 미리 운전자 정보를 사전등록 해주시면 제주도 직판렌트카 제주로에 방문하셔서 키오스크를 통해 본인의 예약 내역을 인증받고 차량을 바로 인수받으실 수 있습니다다섯번째 만여명이 선택해준 제주도 직판렌트카 제주로는 카카오채널을 통해 여행정보 및 이벤트 할인정보를 제공해드리고 있어 보다 편안하고 합리적인 여행이 가능합니다여행의 질을 좌우할 수 있는 제주도 직판렌트카 아무 곳이나 선택하기 보다는 장점이 많은 제주로렌트카를 선택하여 만족스러운 제주도 여행을 만들어보시길 바랍니다제주특별자치도 제주시 오일장중길 =\n",
      "P\n",
      "\n",
      "제주도 차렌트 원하는 차량 모두 있는 제주로렌트카여행의 목적지가 어디인지에 관계 없이 일상에서 벗어나 새롭고 색다른 경험을 하기 위해 떠나는 여행은 누구에게나 설레이는 일이 될거에요 특히나 제주도처럼 일상적인 풍경이 아닌 탁트인 전망과 바다 여유로운 분위기를 느낄 수 있는 여행을 계획중이라면 설레이는 마음이 부풀고 더욱이나 준비해야 할 사항들이 많아질 수 밖에 없는데요그 중 가장 중요한 것 중 하나가 바로 렌트카라고 할 수 있습니다 차량을 통해 제주도까지 이동하는 것이 아니라 비행기를 타고 섬에 도착하기 때문에 이동에 차질이 없게 하기 위해서는 차량을 렌트해야 하는데요 오늘은 제주도 차렌트 제주로렌트카를 소개해드리고자 합니다제주도 차렌트 업체들이 많지만 제주로를 선택할 수 밖에 없는 이유첫번째 공항과의 가까운 거리로 제주도에 도착해서도 혹은 제주도를 떠날 때에도 불필요한 이동이나 경비지출 없이 빠르게 목적지나 공항으로 이동이 가능합니다 제주공항에서부터 분 내에 위치하고 있으며 셔틀버스를 통해 제주로렌트카로 이동이 가능하시기 때문에 따로 택시를 타고 이동해야 하거나 목적지의 경로에서부터 벗어나 시간적인 낭비 없이 차량인수 후 바로 여행을 떠나실 수 있습니다두번째 새벽비행기나 밤비행기로 도착하시는 여행객분들도 시간제한 없이 새벽반납 및 야간배차가 가능하며 급하게 계획된 여행으로 미처 제주도 차렌트 예약을 하시지 못하신 분들도 당일예약과 실시간 예약을 통해 차량을 이용하실 수 있습니다세번째  직판 시스템으로 운영되어 비용적인 부담을 덜고 저렴하고 합리적인 비용으로 차량을 이용하실 수 있으며 차종 또한 국내차에 한하여 렌트가 이루어지는 것이 아닌 전기차 외제차 슈퍼카 등 다양한 차종으로 목적에 따라 내가 원하는 차량을 선택할 수 있습니다네번째 차량인수에 불필요한 대기시간으로 여행 일정을 망치지 않도록 키오스크 무인시스템을 도입하여 빠른 차량인수가 가능합니다 떠나시기 전 미리 운전자 정보를 사전등록 해주시면 제주도 차렌트 제주로에 방문하셔서 키오스크를 통해 본인의 예약 내역을 인증받고 차량을 바로 인수받으실 수 있습니다다섯번째 만여명이 선택해준 제주도 차렌트 제주로는 카카오채널을 통해 여행정보 및 이벤트 할인정보를 제공해드리고 있어 보다 편안하고 합리적인 여행이 가능합니다여행의 질을 좌우할 수 있는 제주도 차렌트 아무 곳이나 선택하기 보다는 장점이 많은 제주로렌트카를 선택하여 만족스러운 제주도 여행을 만들어보시길 바랍니다제주특별자치도 제주시 오일장중길 =\n",
      "P\n",
      "\n",
      "제주 렌터카 가격비교해봐도 선택은 제주로렌트카국내여행이라고 하더라도 제주도로 들어오기 위해서는 비행기를 이용해야 하기 때문에 기왕 시간내어 떠난 여행 멋진 추억을 만들고자 평소에는 경험해보지 못했던 외제차나 전기차 등을 알아보시기도 하는데요 제주 렌터카 가격비교 제주로렌트카는 지바겐을 비롯하여 벤츠 비엠더블유 테슬라 등 다양한 외제차를 보유하고 있으며 특별한 추억을 만들고자 슈퍼카를 알아보시는 분들도 포르쉐나 페라리 람보르기니와 같은 고급 외제차까지 대여해보실 수 있습니다물론 이러한 차량을 대여하는데에는 비용적인 부담이 있기 마련입니다 비용적인 부분을 고려하고자 계획했던 차량을 포기하지 않으시도록 제주 렌터카 가격비교 제주로는  직판으로 중개비나 수수료를 줄여 저렴한 비용으로 차량을 이용하실 수 있습니다또한 차량을 미처 예약하지 못했거나 당일에 떠나오는 여행이신 분들을 위해 당일예약 및 실시간 예약도 가능한데요 제주 렌터카 가격비교 제주로렌트카 카카오톡 채널을 추가해주시면 더욱 많은 혜택과 이벤트 내용 및 제주 여행 정보를 받아보실 수 있습니다제주도 공항에서 분거리에 위치하여 셔틀을 타고서 편안하게 이동하실 수 있는 것은 물론 밤 늦은 비행기로 제주를 찾아주시는 여행객들을 위한 야간배차 및 아침 일찍 제주를 떠나시는 여행객들을 위한 새벽반납으로 제주여행의 시작부터 끝까지 제주 렌터카 가격비교 제주로렌트카를 통해 행복한 여행을 만들어보실 수 있습니다제주 렌터카 가격비교 제주로 카카오톡 채널을 통해 확인해보실 수 있습니다제주특별자치도 제주시 오일장중길 =\n",
      "P\n",
      "\n",
      "제주도외제차렌트 골라서 사용하세요제주도외제차렌트 어디로 선택해야할지 고민하고 계신다면 다양한 장점을 보유한 제주로렌트카를 소개해드릴게요제주로렌트카는 단순하게 차량만을 대여하는 것이 아닌 여행을 렌트해드린다는 마음으로 고객분들이 안전하고 편리하게 차량을 인수받고 반납하실 수 있도록 공항과의 분거리에 위치 키오스크를 통한 빠른 차량인수 직판 시스템으로 저렴한 렌트비용 새벽반납 및 야간배차 등의 장점들을 보유하고 있습니다더불어 차량 선택에 있어 넓은 선택지를 제공해드리기 위해 테슬라와 같은 전기차는 물론 다양한 국내차종과 지바겐 벤츠  등의 외제차 및 람보르기니 페라리 포르쉐와 같은 슈퍼카 까지도 보유하고 있는데요 여행의 목적에 맞추어 내가 원하는 차량을 골라 비용적 부담 없이 차량을 제주도외제차렌트하여 평소에는 느껴보지 못했던 특별하고 색다른 경험을 해보실 수 있습니다 또한 제주도외제차렌트 제주로는 자체 정비소를 보유하고 있어 고장이나 청결에 대한 문제까지도 꼼꼼하게 우선적으로 확인하고 픽업전 그리고 반납 후 정비소에서 자체 점검을 통해 차량을 준비하고 있습니다 믿을 수 있는 렌트카 업체 제주도외제차렌트 제주로를 통해 행복한 제주여행이 되시길 바랍니다제주특별자치도 제주시 오일장중길 =\n",
      "P\n",
      "\n",
      "제주도수입차렌트 원하시는 외제차가 있으신가요기왕 떠나는 여행 완벽한 여행이 될 수 있도록 미리 계획을 세우시는 분들이 많습니다 특히나 제주도는 지형이 넓어 이동이 어려운 만큼 차량을 미리 예약하시는 것이 목적지로의 편리한 이동과 시간적 부분에 손해를 보지 않기 위해 필수인데요 제주도수입차렌트 어디로 선택해야할지 고민하고 계신다면 다양한 장점을 보유한 제주로렌트카를 소개해드릴게요제주로렌트카는 단순하게 차량만을 대여하는 것이 아닌 여행을 렌트해드린다는 마음으로 고객분들이 안전하고 편리하게 차량을 인수받고 반납하실 수 있도록 공항과의 분거리에 위치 키오스크를 통한 빠른 차량인수 직판 시스템으로 저렴한 렌트비용 새벽반납 및 야간배차 등의 장점들을 보유하고 있습니다더불어 차량 선택에 있어 넓은 선택지를 제공해드리기 위해 테슬라와 같은 전기차는 물론 다양한 국내차종과 지바겐 벤츠  등의 외제차 및 람보르기니 페라리 포르쉐와 같은 슈퍼카 까지도 보유하고 있는데요 여행의 목적에 맞추어 내가 원하는 차량을 골라 비용적 부담 없이 차량을 제주도수입차렌트하여 평소에는 느껴보지 못했던 특별하고 색다른 경험을 해보실 수 있습니다 또한 제주도수입차렌트 제주로는 자체 정비소를 보유하고 있어 고장이나 청결에 대한 문제까지도 꼼꼼하게 우선적으로 확인하고 픽업전 그리고 반납 후 정비소에서 자체 점검을 통해 차량을 준비하고 있습니다 믿을 수 있는 렌트카 업체 제주도수입차렌트 제주로를 통해 행복한 제주여행이 되시길 바랍니다제주특별자치도 제주시 오일장중길 =\n",
      "P\n",
      "\n",
      "좋은 차량을 판매 하기 위해서 성실하게  친절하게 노력 하고 있습니다 쉐보레 볼트 전기차 연식년주행거리등급프리미어추가 패키지 세이프티사고완벽한 무사고회충전 주행실제 약 보증기간일반 년 만 전기 년만혜택취득세 만원 면제소유자 변경없음상세옵션사진참고압류저당체납없음 금액만원 상담 =\n",
      "P\n",
      "\n",
      "제주도 차렌트 가격비교해보세요볼거리가 다양하고 탁 트인 경관으로 유명한 국내 최고의 관광명소 바로 제주도입니다 평소 일상에서는 쉽게 접할 수 없었던 요소들이 많아 매년 제주도를 찾는 관광객의 수는 늘고 있는데요 마음이 뻥 뚫리는 시원한 경관을 보며 제주도 도로를 달리는 기분 제주도 차렌트 제주로렌트카와 함께 즐겨보실 수 있습니다 제주도 차렌트 제주로는 벤츠 지바겐 뿐만 아니라 포르쉐 페라리 람보르기니 등 많은 슈퍼카들을 보유하고 있으며 다양한 차종을 보유하여 넓은 선택의 폭을 제공해드리고 있습니다 여행의 목적에 맞는 차량을 선택하여 제주도 여행의 추억을 쌓으실 수 있으며 슈퍼카 외에도 기본적인 국내차량들 그리고 전기차 수입 외제차등을 보유하고 있습니다 또한 공항을 이용해야 하기에 공항에서 여행목적지간 소요되는 이동시간을 줄여드리고자 제주공항에서 분거리에 위치하고 있으며 공항과 제주로렌트카 사이를 셔틀버스를 이용하여 쉽게 이동하실 수 있습니다 배차간격이 짧아 최대 분을 넘기지 않고 차량을 인수받으신 후 바로 떠나실 수 있으니 시간이나 비용낭비 없이 바로 여행길로 떠나실 수 있습니다 제주도 차렌트 제주로렌트카는 제주 최초로 자유로운 배차가 가능하도록 무인 키오스크를 설치하여 운영하고 있습니다 미리 운전자 정보 사전등록만 해주신다면 방문 후 분 내로 차량을 찾으실 수 있으며 더 편리하게 이용하실 수 있도록 새벽반납 그리고 야간배차까지 이루어지고 있습니다 단순하게 차를 대여해드리는 것이 아닌 여행을 렌트해드리는 제주도 차렌트 제주로렌트카를 통해 즐거운 여행의 추억을 쌓아보시길 바랍니다제주로 카카오 채널을 등록해주시면 각종 혜택을 받아보실 수 있습니다제주특별자치도 제주시 오일장중길 =\n",
      "P\n",
      "\n",
      "제주도 당일렌트 당일사용 당일반납섬이라는 특수성을 지닌 제주도에서는 차량 없이 여행을 하는 것이 조금은 어려울 수 있으며 바쁜 일상에서 힘들게 시간을 내어 떠나온 여행이기에 시간적인 부분에서 여유롭게 여행을 즐기기 위해서는 제주도 당일렌트 업체를 선정하시는 것이 좋은데요제주도 당일렌트 제주로렌트카는 공항에서 셔틀버스를 통해 분이면 도착하는 가까운 거리에 자리하고 있어 여행을 떠나기 전 소요되는 시간을 단축할 수 있습니다 더불어 관광객이 몰리는 시즌에 렌터카 인수를 위해 기다려야 하는 불필요한 대기시간을 줄이고자 미리 운전자 정보를 사전등록 해주신 후 제주로의 키오스크를 통해 무인 체크인을 하시면 더욱 빠른 이용이 가능한데요무인 키오스크는 제주로에서 최초로 도입하여 활용되어지고 있는 시스템으로 키오스크 시스템을 통해 예약자 정보를 입력하고 차량을 바로 픽업한 후 시간낭비 없이 여행을 즐기실 수 있습니다 또한 제주도 당일렌트 제주로는 공항에서 가까운 것 뿐만 아니라 비용적인 측면에서도 제주로렌트카는 고객분들이 저렴한 비용으로 즐거운 여행을 즐기시도록  직판 시스템으로 운영되어지고 있습니다 중간 중개인이 없이 업체에서 고객님께 다이렉트로 차량을 대여하기에 거품없는 합리적인 가격으로 차량의 이용이 가능하며 국내차 전기차 외제차 슈퍼카 등 차량의 종류까지 다양하여 내가 원하는 차량 여행의 목적에 맞는 차량을 선택하실 수 있습니다제주도 여행의 시작과 끝 이제는 불필요하게 시간을 낭비할 필요 없이 빠르게 차량을 인수할 뿐만 아니라 저렴한 비용으로 기분좋게 여행을 떠나실 수 있는 제주도 당일렌트 제주로와 함께 해보시길 바랍니다제주특별자치도 제주시 오일장중길 =\n",
      "P\n",
      "\n",
      "제주도 무인렌트카 코로나 비대면시스템렌트카는 여행에 있어 전반적으로 필수적인 요소이자 여행의 질을 결정할 수 있는 매우 중요한 요소입니다 특히나 섬이라는 특수성을 지닌 제주도에서는 차량 없이 여행을 하는 것이 조금은 어려울 수 있으며 바쁜 일상에서 힘들게 시간을 내어 떠나온 여행이기에 시간적인 부분에서 여유롭게 여행을 즐기기 위해서는 제주도 무인렌트카 업체를 선정하시는 것이 좋은데요제주도 무인렌트카 제주로렌트카는 공항에서 셔틀버스를 통해 분이면 도착하는 가까운 거리에 자리하고 있어 여행을 떠나기 전 소요되는 시간을 단축할 수 있습니다 더불어 관광객이 몰리는 시즌에 렌터카 인수를 위해 기다려야 하는 불필요한 대기시간을 줄이고자 미리 운전자 정보를 사전등록 해주신 후 제주로의 키오스크를 통해 무인 체크인을 하시면 더욱 빠른 이용이 가능한데요무인 키오스크는 제주로에서 최초로 도입하여 활용되어지고 있는 시스템으로 키오스크 시스템을 통해 예약자 정보를 입력하고 차량을 바로 픽업한 후 시간낭비 없이 여행을 즐기실 수 있습니다 또한 제주도 무인렌트카 제주로는 공항에서 가까운 것 뿐만 아니라 비용적인 측면에서도 제주로렌트카는 고객분들이 저렴한 비용으로 즐거운 여행을 즐기시도록  직판 시스템으로 운영되어지고 있습니다 중간 중개인이 없이 업체에서 고객님께 다이렉트로 차량을 대여하기에 거품없는 합리적인 가격으로 차량의 이용이 가능하며 국내차 전기차 외제차 슈퍼카 등 차량의 종류까지 다양하여 내가 원하는 차량 여행의 목적에 맞는 차량을 선택하실 수 있습니다제주도 여행의 시작과 끝 이제는 불필요하게 시간을 낭비할 필요 없이 빠르게 차량을 인수할 뿐만 아니라 저렴한 비용으로 기분좋게 여행을 떠나실 수 있는 제주도 무인렌트카 제주로와 함께 해보시길 바랍니다제주특별자치도 제주시 오일장중길 =\n",
      "P\n",
      "\n",
      "제주도렌트카이벤트 중인 제주로렌트카제주도 여행을 알아보시면서 편안한 이동과 이동시간의 단축을 위해 렌트카를 알아보고 계신가요 다양한 업체가 있어 렌트카 업체의 선택이 쉽지 않았다면 장점이 많은 제주로렌트카를 소개해드릴게요 국내여행이라고 하더라도 제주도로 들어오기 위해서는 비행기를 이용해야 하기 때문에 기왕 시간내어 떠난 여행 멋진 추억을 만들고자 평소에는 경험해보지 못했던 외제차나 전기차 등을 알아보시기도 하는데요 제주도렌트카이벤트 제주로렌트카는 지바겐을 비롯하여 벤츠 비엠더블유 테슬라 등 다양한 외제차를 보유하고 있으며 특별한 추억을 만들고자 슈퍼카를 알아보시는 분들도 포르쉐나 페라리 람보르기니와 같은 고급 외제차까지 대여해보실 수 있습니다물론 이러한 차량을 대여하는데에는 비용적인 부담이 있기 마련입니다 비용적인 부분을 고려하고자 계획했던 차량을 포기하지 않으시도록 제주도렌트카이벤트 제주로는  직판으로 중개비나 수수료를 줄여 저렴한 비용으로 차량을 이용하실 수 있습니다또한 차량을 미처 예약하지 못했거나 당일에 떠나오는 여행이신 분들을 위해 당일예약 및 실시간 예약도 가능한데요 제주도렌트카이벤트 내용은 제주로렌트카 카카오톡 채널을 추가해주시면 더욱 많은 혜택과 이벤트 내용 및 제주 여행 정보를 받아보실 수 있습니다제주도 공항에서 분거리에 위치하여 셔틀을 타고서 편안하게 이동하실 수 있는 것은 물론 밤 늦은 비행기로 제주를 찾아주시는 여행객들을 위한 야간배차 및 아침 일찍 제주를 떠나시는 여행객들을 위한 새벽반납으로 제주여행의 시작부터 끝까지 제주도렌트카이벤트 제주로렌트카를 통해 행복한 여행을 만들어보실 수 있습니다제주도렌트카이벤트 제주로 카카오톡 채널을 통해 확인해보실 수 있습니다제주특별자치도 제주시 오일장중길 =\n",
      "P\n",
      "\n",
      "제주도렌트카 할인 할인 직판렌트카 업체는 어디좋은 추억을 쌓기 위해 떠나온 것이기에 기왕이면 어떤 차를 선택하고자 하는지 여행의 목적에 따라 구분하여 알아보고 시간이나 비용까지 절약할 수 있는 업체를 선택해야 하는데요 이에 오늘은 제주도렌트카 할인 제주로만의 장점들을 몇가지 소개해드리려고 해요첫번째제주도렌트카 할인 제주로는 제주 공항에서 차량이동 분거리에 위치하고 있어 공항에 도착하여 따로 이동할 필요 없이 셔틀버스를 타고 방문하여 차량을 인수받고 떠나시기 전까지도 차량을 이용하시다가 반납한 후 셔틀버스를 통해 공항으로 이동하실 수 있습니다 제주도렌트카 할인 제주로와 제주공항과의 가까운 거리두번째제주로는 제주최초로 무인 키오스크를 설치하여 운행중에 있는 제주도렌트카 할인 인데요 차량을 미리 예약하고 운전자 정보를 사전등록 해주시면 방문하신 후 긴 줄을 기다리실 필요 없이 바로 키오스크를 통해 차량 인수가 가능합니다제주도렌트카 할인  키오스크를 통해 비대면 빠른 차량인수세번째갑작스럽게 떠나온 여행이라면 미리 렌터카를 준비하지 못해 당황하실 수 있어요 이에 제주도렌트카 할인 제주로는 예약을 미처 하지 못했더라도 혹은 여행 계획이 수정되었더라도 당일에 차량을 예약하실 수 있는 당일예약제를 운영하고 있습니다 차량을 예약하지 못하더라도 빠르게 이용할 수 있는 당일예약제네번째마지막은 바로 비용적인 부분입니다 대부분의 렌터카 업체는 중간 중개인을 거쳐 고객님들께 차량을 렌트하기에 비용적인 부분에서 부담이 발생할 수 밖에 없습니다 하지만 제주도렌트카 할인 제주로는  직판시스템으로 중개인 없이 비용적인 부담 없이 저렴한 가격으로 차량을 이용하실 수 있습니다 이 외에도 국내차 전기차 외제차 슈퍼카 등 다양한 차종 보유 및 야간배차 새벽반납까지 여러가지 장점들을 보유한 제주도렌트카 할인 제주로를 통해 행복한 제주여행의 추억을 쌓아보시길 바랍니다제주특별자치도 제주시 오일장중길 =\n",
      "P\n",
      "\n"
     ]
    }
   ],
   "source": [
    "for i  in  range(55,75):\n",
    "    print(f'{df.내용[i]}=\\n{df.평가[i]}\\n')"
   ]
  },
  {
   "cell_type": "code",
   "execution_count": null,
   "id": "99780aac",
   "metadata": {},
   "outputs": [],
   "source": []
  }
 ],
 "metadata": {
  "kernelspec": {
   "display_name": "Python 3 (ipykernel)",
   "language": "python",
   "name": "python3"
  },
  "language_info": {
   "codemirror_mode": {
    "name": "ipython",
    "version": 3
   },
   "file_extension": ".py",
   "mimetype": "text/x-python",
   "name": "python",
   "nbconvert_exporter": "python",
   "pygments_lexer": "ipython3",
   "version": "3.9.7"
  }
 },
 "nbformat": 4,
 "nbformat_minor": 5
}
