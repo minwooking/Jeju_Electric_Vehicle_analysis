{
 "cells": [
  {
   "cell_type": "code",
   "execution_count": null,
   "metadata": {},
   "outputs": [],
   "source": [
    "# !pip install pyperclip\n",
    "# !pip install selenium"
   ]
  },
  {
   "cell_type": "code",
   "execution_count": 4,
   "metadata": {},
   "outputs": [],
   "source": [
    "from selenium import webdriver\n",
    "import time\n",
    "import pandas as pd\n",
    "from urllib.parse import quote\n",
    "from selenium.webdriver.common.keys import Keys\n",
    "import time\n",
    "import pyperclip"
   ]
  },
  {
   "cell_type": "markdown",
   "metadata": {},
   "source": [
    "### driver open\n"
   ]
  },
  {
   "cell_type": "code",
   "execution_count": null,
   "metadata": {},
   "outputs": [],
   "source": [
    "driver = webdriver.Chrome('chromedriver.exe')  # 윈도우\n",
    "time.sleep(1)"
   ]
  },
  {
   "cell_type": "markdown",
   "metadata": {},
   "source": [
    "### driver close"
   ]
  },
  {
   "cell_type": "code",
   "execution_count": null,
   "metadata": {},
   "outputs": [],
   "source": [
    "driver.quit()"
   ]
  },
  {
   "cell_type": "code",
   "execution_count": 14,
   "metadata": {},
   "outputs": [],
   "source": [
    "with open('I:\\\\WorkSpace\\\\mykey\\\\Naver_pw.txt') as file:\n",
    "    password = file.read()\n",
    "with open('I:\\\\WorkSpace\\\\mykey\\\\Naver_ID.txt') as file:\n",
    "    ID = file.read()"
   ]
  },
  {
   "cell_type": "markdown",
   "metadata": {},
   "source": [
    "### 로그인"
   ]
  },
  {
   "cell_type": "code",
   "execution_count": 8,
   "metadata": {},
   "outputs": [],
   "source": [
    "#드라이버 로딩 \n",
    "driver = webdriver.Chrome('./chromedriver.exe') \n",
    "\n",
    "# ##사용할 변수 선언 \n",
    "# #네이버 로그인 주소 \n",
    "url = 'https://nid.naver.com/nidlogin.login?mode=form&url=https%3A%2F%2Fwww.naver.com' \n",
    "uid = password \n",
    "upw = ID\n",
    "#네이버 로그인 페이지로 이동 \n",
    "driver.get(url) \n",
    "time.sleep(2) #로딩 대기 \n",
    "\n",
    "#아이디 입력폼 \n",
    "tag_id = driver.find_element_by_name('id') \n",
    "#패스워드 입력폼 \n",
    "tag_pw = driver.find_element_by_name('pw')\n",
    "\n",
    "# id 입력 \n",
    "# 입력폼 클릭 -> paperclip에 선언한 uid 내용 복사 -> 붙여넣기 \n",
    "tag_id.click() \n",
    "pyperclip.copy(uid) \n",
    "tag_id.send_keys(Keys.CONTROL, 'v') \n",
    "time.sleep(1) \n",
    "\n",
    "# pw 입력 # 입력폼 클릭 -> paperclip에 선언한 upw 내용 복사 -> 붙여넣기\n",
    "tag_pw.click() \n",
    "pyperclip.copy(upw) \n",
    "tag_pw.send_keys(Keys.CONTROL, 'v')\n",
    "time.sleep(1) \n",
    "\n",
    "#로그인 버튼 클릭 \n",
    "login_btn = driver.find_element_by_id('log.login') \n",
    "login_btn.click() \n",
    "time.sleep(2)\n",
    "\n"
   ]
  },
  {
   "cell_type": "markdown",
   "metadata": {},
   "source": [
    "### 전기차 검색 느영나영"
   ]
  },
  {
   "cell_type": "code",
   "execution_count": 6,
   "metadata": {},
   "outputs": [],
   "source": [
    "driver.get('https://cafe.naver.com/jejutip')\n",
    "tag_search = driver.find_element_by_name('query').send_keys('전기차')\n",
    "driver.find_element_by_name(\"query\").send_keys(Keys.ENTER)\n",
    "time.sleep(2)\n",
    "driver.switch_to.frame(\"cafe_main\")"
   ]
  },
  {
   "cell_type": "code",
   "execution_count": null,
   "metadata": {},
   "outputs": [],
   "source": [
    "driver.get('https://cafe.naver.com/ArticleSearchList.nhn?search.clubid=20692649&search.media=0&search.searchdate=all&userDisplay=15&search.option=0&search.sortBy=date&search.searchBy=0&search.query=%C0%FC%B1%E2%C2%F7&search.viewtype=title&search.page=1')\n",
    "time.sleep(2)\n",
    "driver.switch_to.frame('cafe_main')\n",
    "driver.find_elements_by_xpath(f'/html/body/div[1]/div/div[5]/table/tbody/tr[1]/td[1]/div[2]/div/a[1]')[0].get_attribute(\"href\")"
   ]
  },
  {
   "cell_type": "markdown",
   "metadata": {},
   "source": [
    "### URL 주소 불러오기"
   ]
  },
  {
   "cell_type": "code",
   "execution_count": 7,
   "metadata": {},
   "outputs": [
    {
     "name": "stderr",
     "output_type": "stream",
     "text": [
      "C:\\Users\\pc\\AppData\\Local\\Temp/ipykernel_14364/1259453112.py:12: DeprecationWarning: use driver.switch_to.frame instead\n",
      "  driver.switch_to_frame('cafe_main')\n"
     ]
    }
   ],
   "source": [
    "address = []\n",
    "page = 0\n",
    "while page > -1:\n",
    "    \n",
    "    if page > 101:\n",
    "        break\n",
    "    \n",
    "    try:\n",
    "        page += 1\n",
    "        driver.get(f\"https://cafe.naver.com/jejutip?iframe_url=/ArticleSearchList.nhn%3Fsearch.clubid=10456178%26search.media=0%26search.searchdate=all%26userDisplay=15%26search.option=0%26search.sortBy=date%26search.searchBy=0%26search.query=%C0%FC%B1%E2%C2%F7%26search.viewtype=title%26search.page={page}\")\n",
    "        driver.switch_to.frame('cafe_main')\n",
    "        try: \n",
    "            if driver.find_element_by_class_name(\"nodata\").text == '삭제되었거나 없는 게시글입니다.':\n",
    "                break\n",
    "        except:\n",
    "            pass\n",
    "    \n",
    "        for i in range(1,16):\n",
    "            address.append(driver.find_elements_by_xpath(f'/html/body/div[1]/div/div[5]/table/tbody/tr[{i}]/td[1]/div[2]/div/a[1]')[0].get_attribute(\"href\"))\n",
    "            \n",
    "    except:\n",
    "        pass\n",
    "len(address)\n",
    "# address[0:5]"
   ]
  },
  {
   "cell_type": "markdown",
   "metadata": {},
   "source": [
    "### 게시글 내용,제목,댓글 불러오기"
   ]
  },
  {
   "cell_type": "code",
   "execution_count": null,
   "metadata": {},
   "outputs": [],
   "source": [
    "driver.get(address[1])\n",
    "time.sleep(2)\n",
    "driver.switch_to.frame('cafe_main')\n",
    "try :\n",
    "    if driver.find_element_by_class_name(\"title_text\")==None:\n",
    "        title = '제목이없습니다.'\n",
    "except:\n",
    "    pass\n",
    "title =driver.find_element_by_class_name(\"title_text\").text\n",
    "contents =driver.find_elements_by_tag_name('p')\n",
    "content = ''\n",
    "for i,item in enumerate(contents):\n",
    "    content += contents[i].text+'\\n'\n",
    "print(title)\n",
    "print(content)"
   ]
  },
  {
   "cell_type": "code",
   "execution_count": null,
   "metadata": {},
   "outputs": [],
   "source": [
    "titles = []\n",
    "contentss = []\n",
    "for element in address:\n",
    "    try:\n",
    "        driver.get(element)\n",
    "        time.sleep(2)\n",
    "        driver.switch_to.frame('cafe_main')\n",
    "        try: \n",
    "            if driver.find_element_by_class_name(\"nodata\").text == '삭제되었거나 없는 게시글입니다.':\n",
    "                    break\n",
    "        except:\n",
    "                pass\n",
    "        try :\n",
    "            if driver.find_element_by_class_name(\"title_text\").text == None:\n",
    "                title = '제목이없습니다.'\n",
    "                pass\n",
    "            else:\n",
    "                title =driver.find_element_by_class_name(\"title_text\").text\n",
    "        except:\n",
    "            pass\n",
    "        if driver.find_elements_by_tag_name('p')[0].text == None:\n",
    "            contents =driver.find_elements_by_tag_name('b')\n",
    "        else:\n",
    "            contents =driver.find_elements_by_tag_name('p')\n",
    "        content = ''\n",
    "        for j,item in enumerate(contents):\n",
    "            content += contents[j].text+'\\n'\n",
    "        titles.append(title)\n",
    "        contentss.append(content)\n",
    "    except:\n",
    "        pass"
   ]
  },
  {
   "cell_type": "code",
   "execution_count": null,
   "metadata": {},
   "outputs": [],
   "source": [
    "df=pd.DataFrame({\"제목\":titles ,\"내용\":contentss,\"주소\":address})\n",
    "df.to_csv('제사모전기차크롤링.csv',index=False)\n",
    "df.head(3)\n"
   ]
  },
  {
   "cell_type": "code",
   "execution_count": null,
   "metadata": {},
   "outputs": [],
   "source": []
  }
 ],
 "metadata": {
  "interpreter": {
   "hash": "374be8c39ae01ff66328729506a9b9a7ba9eb3f2df141c8f3098ad96d8cc6bdd"
  },
  "kernelspec": {
   "display_name": "Python 3.9.7 ('base')",
   "language": "python",
   "name": "python3"
  },
  "language_info": {
   "codemirror_mode": {
    "name": "ipython",
    "version": 3
   },
   "file_extension": ".py",
   "mimetype": "text/x-python",
   "name": "python",
   "nbconvert_exporter": "python",
   "pygments_lexer": "ipython3",
   "version": "3.9.7"
  },
  "orig_nbformat": 4
 },
 "nbformat": 4,
 "nbformat_minor": 2
}
