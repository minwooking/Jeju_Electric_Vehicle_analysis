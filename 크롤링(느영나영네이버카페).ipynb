{
 "cells": [
  {
   "cell_type": "code",
   "execution_count": null,
   "metadata": {},
   "outputs": [],
   "source": [
    "# !pip install pyperclip\n",
    "# !pip install selenium"
   ]
  },
  {
   "cell_type": "code",
   "execution_count": 1,
   "metadata": {},
   "outputs": [],
   "source": [
    "from selenium import webdriver\n",
    "import time\n",
    "import pandas as pd\n",
    "from urllib.parse import quote\n",
    "from selenium.webdriver.common.keys import Keys\n",
    "import time\n",
    "import pyperclip"
   ]
  },
  {
   "cell_type": "markdown",
   "metadata": {},
   "source": [
    "### driver open\n"
   ]
  },
  {
   "cell_type": "code",
   "execution_count": 2,
   "metadata": {},
   "outputs": [
    {
     "name": "stderr",
     "output_type": "stream",
     "text": [
      "C:\\Users\\alsdn\\AppData\\Local\\Temp/ipykernel_4424/1923150486.py:1: DeprecationWarning: executable_path has been deprecated, please pass in a Service object\n",
      "  driver = webdriver.Chrome('chromedriver.exe')  # 윈도우\n"
     ]
    }
   ],
   "source": [
    "driver = webdriver.Chrome('chromedriver.exe')  # 윈도우\n",
    "time.sleep(1)"
   ]
  },
  {
   "cell_type": "markdown",
   "metadata": {},
   "source": [
    "### driver close"
   ]
  },
  {
   "cell_type": "code",
   "execution_count": null,
   "metadata": {},
   "outputs": [],
   "source": [
    "driver.quit()"
   ]
  },
  {
   "cell_type": "code",
   "execution_count": 3,
   "metadata": {},
   "outputs": [],
   "source": [
    "with open('I:\\\\WorkSpace\\\\mykey\\\\Naver_pw.txt') as file:\n",
    "    password = file.read()\n",
    "with open('I:\\\\WorkSpace\\\\mykey\\\\Naver_ID.txt') as file:\n",
    "    ID = file.read()"
   ]
  },
  {
   "cell_type": "markdown",
   "metadata": {},
   "source": [
    "### 로그인"
   ]
  },
  {
   "cell_type": "code",
   "execution_count": 5,
   "metadata": {},
   "outputs": [
    {
     "name": "stderr",
     "output_type": "stream",
     "text": [
      "C:\\Users\\alsdn\\AppData\\Local\\Temp/ipykernel_4424/325579290.py:11: DeprecationWarning: find_element_by_name is deprecated. Please use find_element(by=By.NAME, value=name) instead\n",
      "  tag_id = driver.find_element_by_name('id')\n",
      "C:\\Users\\alsdn\\AppData\\Local\\Temp/ipykernel_4424/325579290.py:13: DeprecationWarning: find_element_by_name is deprecated. Please use find_element(by=By.NAME, value=name) instead\n",
      "  tag_pw = driver.find_element_by_name('pw')\n",
      "C:\\Users\\alsdn\\AppData\\Local\\Temp/ipykernel_4424/325579290.py:29: DeprecationWarning: find_element_by_* commands are deprecated. Please use find_element() instead\n",
      "  login_btn = driver.find_element_by_id('log.login')\n"
     ]
    }
   ],
   "source": [
    "# ##사용할 변수 선언 \n",
    "# #네이버 로그인 주소 \n",
    "url = 'https://nid.naver.com/nidlogin.login?mode=form&url=https%3A%2F%2Fwww.naver.com' \n",
    "uid = ID \n",
    "upw = password\n",
    "#네이버 로그인 페이지로 이동 \n",
    "driver.get(url) \n",
    "time.sleep(2) #로딩 대기 \n",
    "\n",
    "#아이디 입력폼 \n",
    "tag_id = driver.find_element_by_name('id') \n",
    "#패스워드 입력폼 \n",
    "tag_pw = driver.find_element_by_name('pw')\n",
    "\n",
    "# id 입력 \n",
    "# 입력폼 클릭 -> paperclip에 선언한 uid 내용 복사 -> 붙여넣기 \n",
    "tag_id.click() \n",
    "pyperclip.copy(uid) \n",
    "tag_id.send_keys(Keys.CONTROL, 'v') \n",
    "time.sleep(1) \n",
    "\n",
    "# pw 입력 # 입력폼 클릭 -> paperclip에 선언한 upw 내용 복사 -> 붙여넣기\n",
    "tag_pw.click() \n",
    "pyperclip.copy(upw) \n",
    "tag_pw.send_keys(Keys.CONTROL, 'v')\n",
    "time.sleep(1) \n",
    "\n",
    "#로그인 버튼 클릭 \n",
    "login_btn = driver.find_element_by_id('log.login') \n",
    "login_btn.click() \n",
    "time.sleep(2)\n",
    "\n"
   ]
  },
  {
   "cell_type": "markdown",
   "metadata": {},
   "source": [
    "### 전기차 검색 느영나영"
   ]
  },
  {
   "cell_type": "code",
   "execution_count": 6,
   "metadata": {},
   "outputs": [
    {
     "name": "stderr",
     "output_type": "stream",
     "text": [
      "C:\\Users\\alsdn\\AppData\\Local\\Temp/ipykernel_4424/1265406223.py:2: DeprecationWarning: find_element_by_name is deprecated. Please use find_element(by=By.NAME, value=name) instead\n",
      "  tag_search = driver.find_element_by_name('query').send_keys('전기차')\n",
      "C:\\Users\\alsdn\\AppData\\Local\\Temp/ipykernel_4424/1265406223.py:3: DeprecationWarning: find_element_by_name is deprecated. Please use find_element(by=By.NAME, value=name) instead\n",
      "  driver.find_element_by_name(\"query\").send_keys(Keys.ENTER)\n"
     ]
    }
   ],
   "source": [
    "driver.get('https://cafe.naver.com/jejutip')\n",
    "tag_search = driver.find_element_by_name('query').send_keys('전기차')\n",
    "driver.find_element_by_name(\"query\").send_keys(Keys.ENTER)\n",
    "time.sleep(2)\n",
    "driver.switch_to.frame(\"cafe_main\")"
   ]
  },
  {
   "cell_type": "code",
   "execution_count": 7,
   "metadata": {},
   "outputs": [
    {
     "name": "stderr",
     "output_type": "stream",
     "text": [
      "C:\\Users\\alsdn\\AppData\\Local\\Temp/ipykernel_4424/2477498050.py:4: DeprecationWarning: find_elements_by_xpath is deprecated. Please use find_elements(by=By.XPATH, value=xpath) instead\n",
      "  driver.find_elements_by_xpath(f'/html/body/div[1]/div/div[5]/table/tbody/tr[1]/td[1]/div[2]/div/a[1]')[0].get_attribute(\"href\")\n"
     ]
    },
    {
     "data": {
      "text/plain": [
       "'https://cafe.naver.com/ca-fe/ArticleRead.nhn?clubid=20692649&page=1&inCafeSearch=true&searchBy=0&query=%EC%A0%84%EA%B8%B0%EC%B0%A8&includeAll=&exclude=&include=&exact=&searchdate=all&media=0&sortBy=date&articleid=1422458&referrerAllArticles=true'"
      ]
     },
     "execution_count": 7,
     "metadata": {},
     "output_type": "execute_result"
    }
   ],
   "source": [
    "driver.get('https://cafe.naver.com/ArticleSearchList.nhn?search.clubid=20692649&search.media=0&search.searchdate=all&userDisplay=15&search.option=0&search.sortBy=date&search.searchBy=0&search.query=%C0%FC%B1%E2%C2%F7&search.viewtype=title&search.page=1')\n",
    "time.sleep(2)\n",
    "driver.switch_to.frame('cafe_main')\n",
    "driver.find_elements_by_xpath(f'/html/body/div[1]/div/div[5]/table/tbody/tr[1]/td[1]/div[2]/div/a[1]')[0].get_attribute(\"href\")"
   ]
  },
  {
   "cell_type": "markdown",
   "metadata": {},
   "source": [
    "### URL 주소 불러오기"
   ]
  },
  {
   "cell_type": "code",
   "execution_count": 8,
   "metadata": {},
   "outputs": [
    {
     "name": "stderr",
     "output_type": "stream",
     "text": [
      "C:\\Users\\alsdn\\AppData\\Local\\Temp/ipykernel_4424/1610242161.py:13: DeprecationWarning: find_element_by_class_name is deprecated. Please use find_element(by=By.CLASS_NAME, value=name) instead\n",
      "  if driver.find_element_by_class_name(\"nodata\").text == '삭제되었거나 없는 게시글입니다.':\n",
      "C:\\Users\\alsdn\\AppData\\Local\\Temp/ipykernel_4424/1610242161.py:19: DeprecationWarning: find_elements_by_xpath is deprecated. Please use find_elements(by=By.XPATH, value=xpath) instead\n",
      "  address.append(driver.find_elements_by_xpath(f'/html/body/div[1]/div/div[5]/table/tbody/tr[{i}]/td[1]/div[2]/div/a[1]')[0].get_attribute(\"href\"))\n"
     ]
    },
    {
     "data": {
      "text/plain": [
       "1492"
      ]
     },
     "execution_count": 8,
     "metadata": {},
     "output_type": "execute_result"
    }
   ],
   "source": [
    "address = []\n",
    "page = 0\n",
    "while page > -1:\n",
    "    \n",
    "    if page > 101:\n",
    "        break\n",
    "    \n",
    "    try:\n",
    "        page += 1\n",
    "        driver.get(f\"https://cafe.naver.com/jejutip?iframe_url=/ArticleSearchList.nhn%3Fsearch.clubid=10456178%26search.media=0%26search.searchdate=all%26userDisplay=15%26search.option=0%26search.sortBy=date%26search.searchBy=0%26search.query=%C0%FC%B1%E2%C2%F7%26search.viewtype=title%26search.page={page}\")\n",
    "        driver.switch_to.frame('cafe_main')\n",
    "        try: \n",
    "            if driver.find_element_by_class_name(\"nodata\").text == '삭제되었거나 없는 게시글입니다.':\n",
    "                break\n",
    "        except:\n",
    "            pass\n",
    "    \n",
    "        for i in range(1,16):\n",
    "            address.append(driver.find_elements_by_xpath(f'/html/body/div[1]/div/div[5]/table/tbody/tr[{i}]/td[1]/div[2]/div/a[1]')[0].get_attribute(\"href\"))\n",
    "            \n",
    "    except:\n",
    "        pass\n",
    "len(address)\n",
    "# address[0:5]"
   ]
  },
  {
   "cell_type": "markdown",
   "metadata": {},
   "source": [
    "### 게시글 내용,제목,댓글 불러오기"
   ]
  },
  {
   "cell_type": "code",
   "execution_count": null,
   "metadata": {},
   "outputs": [],
   "source": [
    "driver.get(address[1])\n",
    "time.sleep(2)\n",
    "driver.switch_to.frame('cafe_main')\n",
    "try :\n",
    "    if driver.find_element_by_class_name(\"title_text\")==None:\n",
    "        title = '제목이없습니다.'\n",
    "except:\n",
    "    pass\n",
    "title =driver.find_element_by_class_name(\"title_text\").text\n",
    "contents =driver.find_elements_by_tag_name('p')\n",
    "content = ''\n",
    "for i,item in enumerate(contents):\n",
    "    content += contents[i].text+'\\n'\n",
    "print(title)\n",
    "print(content)"
   ]
  },
  {
   "cell_type": "code",
   "execution_count": 10,
   "metadata": {},
   "outputs": [
    {
     "name": "stderr",
     "output_type": "stream",
     "text": [
      "C:\\Users\\alsdn\\AppData\\Local\\Temp/ipykernel_4424/3889474484.py:9: DeprecationWarning: find_element_by_class_name is deprecated. Please use find_element(by=By.CLASS_NAME, value=name) instead\n",
      "  if driver.find_element_by_class_name(\"nodata\").text == '삭제되었거나 없는 게시글입니다.':\n",
      "C:\\Users\\alsdn\\AppData\\Local\\Temp/ipykernel_4424/3889474484.py:14: DeprecationWarning: find_element_by_class_name is deprecated. Please use find_element(by=By.CLASS_NAME, value=name) instead\n",
      "  if driver.find_element_by_class_name(\"title_text\").text == None:\n",
      "C:\\Users\\alsdn\\AppData\\Local\\Temp/ipykernel_4424/3889474484.py:18: DeprecationWarning: find_element_by_class_name is deprecated. Please use find_element(by=By.CLASS_NAME, value=name) instead\n",
      "  title =driver.find_element_by_class_name(\"title_text\").text\n",
      "C:\\Users\\alsdn\\AppData\\Local\\Temp/ipykernel_4424/3889474484.py:21: DeprecationWarning: find_elements_by_tag_name is deprecated. Please use find_elements(by=By.TAG_NAME, value=name) instead\n",
      "  if driver.find_elements_by_tag_name('p')[0].text == None:\n",
      "C:\\Users\\alsdn\\AppData\\Local\\Temp/ipykernel_4424/3889474484.py:24: DeprecationWarning: find_elements_by_tag_name is deprecated. Please use find_elements(by=By.TAG_NAME, value=name) instead\n",
      "  contents =driver.find_elements_by_tag_name('p')\n"
     ]
    }
   ],
   "source": [
    "titles = []\n",
    "contentss = []\n",
    "for element in address:\n",
    "    try:\n",
    "        driver.get(element)\n",
    "        time.sleep(2)\n",
    "        driver.switch_to.frame('cafe_main')\n",
    "        try: \n",
    "            if driver.find_element_by_class_name(\"nodata\").text == '삭제되었거나 없는 게시글입니다.':\n",
    "                    break\n",
    "        except:\n",
    "                pass\n",
    "        try :\n",
    "            if driver.find_element_by_class_name(\"title_text\").text == None:\n",
    "                title = '제목이없습니다.'\n",
    "                pass\n",
    "            else:\n",
    "                title =driver.find_element_by_class_name(\"title_text\").text\n",
    "        except:\n",
    "            pass\n",
    "        if driver.find_elements_by_tag_name('p')[0].text == None:\n",
    "            contents =driver.find_elements_by_tag_name('b')\n",
    "        else:\n",
    "            contents =driver.find_elements_by_tag_name('p')\n",
    "        content = ''\n",
    "        for j,item in enumerate(contents):\n",
    "            content += contents[j].text+'\\n'\n",
    "        titles.append(title)\n",
    "        contentss.append(content)\n",
    "    except:\n",
    "        pass"
   ]
  },
  {
   "cell_type": "code",
   "execution_count": 12,
   "metadata": {},
   "outputs": [
    {
     "data": {
      "text/html": [
       "<div>\n",
       "<style scoped>\n",
       "    .dataframe tbody tr th:only-of-type {\n",
       "        vertical-align: middle;\n",
       "    }\n",
       "\n",
       "    .dataframe tbody tr th {\n",
       "        vertical-align: top;\n",
       "    }\n",
       "\n",
       "    .dataframe thead th {\n",
       "        text-align: right;\n",
       "    }\n",
       "</style>\n",
       "<table border=\"1\" class=\"dataframe\">\n",
       "  <thead>\n",
       "    <tr style=\"text-align: right;\">\n",
       "      <th></th>\n",
       "      <th>제목</th>\n",
       "      <th>내용</th>\n",
       "      <th>주소</th>\n",
       "    </tr>\n",
       "  </thead>\n",
       "  <tbody>\n",
       "    <tr>\n",
       "      <th>0</th>\n",
       "      <td>와 렌트를 예약해놓긴했는데</td>\n",
       "      <td>\\n\\n기름값 보면 휘발유 디젤말고\\nLPG나 전기차로 바꿔놔야될지\\n진짜 너무 고...</td>\n",
       "      <td>https://cafe.naver.com/ca-fe/ArticleRead.nhn?c...</td>\n",
       "    </tr>\n",
       "    <tr>\n",
       "      <th>1</th>\n",
       "      <td>와 렌트를 예약해놓긴했는데</td>\n",
       "      <td>\\n \\n혹시 어디서 하셨나요?? 다음주에 전기차 예약했는데 한번 알아보고싶어서요...</td>\n",
       "      <td>https://cafe.naver.com/ca-fe/ArticleRead.nhn?c...</td>\n",
       "    </tr>\n",
       "    <tr>\n",
       "      <th>2</th>\n",
       "      <td>전기차 vs 휘발유 아반뗴? 뭐가 나을까요??</td>\n",
       "      <td>\\n\\n기름값이며 뭐며 하면 전기차가 나을 거 같은데\\n만약 사고날시 전기차가 엄청...</td>\n",
       "      <td>https://cafe.naver.com/ca-fe/ArticleRead.nhn?c...</td>\n",
       "    </tr>\n",
       "  </tbody>\n",
       "</table>\n",
       "</div>"
      ],
      "text/plain": [
       "                          제목  \\\n",
       "0             와 렌트를 예약해놓긴했는데   \n",
       "1             와 렌트를 예약해놓긴했는데   \n",
       "2  전기차 vs 휘발유 아반뗴? 뭐가 나을까요??   \n",
       "\n",
       "                                                  내용  \\\n",
       "0  \\n\\n기름값 보면 휘발유 디젤말고\\nLPG나 전기차로 바꿔놔야될지\\n진짜 너무 고...   \n",
       "1   \\n \\n혹시 어디서 하셨나요?? 다음주에 전기차 예약했는데 한번 알아보고싶어서요...   \n",
       "2  \\n\\n기름값이며 뭐며 하면 전기차가 나을 거 같은데\\n만약 사고날시 전기차가 엄청...   \n",
       "\n",
       "                                                  주소  \n",
       "0  https://cafe.naver.com/ca-fe/ArticleRead.nhn?c...  \n",
       "1  https://cafe.naver.com/ca-fe/ArticleRead.nhn?c...  \n",
       "2  https://cafe.naver.com/ca-fe/ArticleRead.nhn?c...  "
      ]
     },
     "execution_count": 12,
     "metadata": {},
     "output_type": "execute_result"
    }
   ],
   "source": [
    "df=pd.DataFrame({\"제목\":titles ,\"내용\":contentss,\"주소\":address})\n",
    "df.to_csv('느영나영전기차리뷰.csv',index=False)\n",
    "df.head(3)\n"
   ]
  },
  {
   "cell_type": "code",
   "execution_count": null,
   "metadata": {},
   "outputs": [],
   "source": []
  }
 ],
 "metadata": {
  "interpreter": {
   "hash": "374be8c39ae01ff66328729506a9b9a7ba9eb3f2df141c8f3098ad96d8cc6bdd"
  },
  "kernelspec": {
   "display_name": "Python 3 (ipykernel)",
   "language": "python",
   "name": "python3"
  },
  "language_info": {
   "codemirror_mode": {
    "name": "ipython",
    "version": 3
   },
   "file_extension": ".py",
   "mimetype": "text/x-python",
   "name": "python",
   "nbconvert_exporter": "python",
   "pygments_lexer": "ipython3",
   "version": "3.9.7"
  }
 },
 "nbformat": 4,
 "nbformat_minor": 4
}
