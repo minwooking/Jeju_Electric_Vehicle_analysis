{
 "cells": [
  {
   "cell_type": "markdown",
   "metadata": {},
   "source": [
    "## 제주도사랑하는모임 전기차 키워드로 크롤링하기"
   ]
  },
  {
   "cell_type": "markdown",
   "metadata": {},
   "source": [
    "#### 환경설치"
   ]
  },
  {
   "cell_type": "code",
   "execution_count": 2,
   "metadata": {},
   "outputs": [
    {
     "name": "stdout",
     "output_type": "stream",
     "text": [
      "Collecting pyperclip\n",
      "  Downloading pyperclip-1.8.2.tar.gz (20 kB)\n",
      "Building wheels for collected packages: pyperclip\n",
      "  Building wheel for pyperclip (setup.py): started\n",
      "  Building wheel for pyperclip (setup.py): finished with status 'done'\n",
      "  Created wheel for pyperclip: filename=pyperclip-1.8.2-py3-none-any.whl size=11136 sha256=1c7764ae02bf4adfd7ea82c0b1947d079ab30d33f0c8442d6f7c747d87674770\n",
      "  Stored in directory: c:\\users\\alsdn\\appdata\\local\\pip\\cache\\wheels\\0c\\09\\9e\\49e21a6840ef7955b06d47394afef0058f0378c0914e48b8b8\n",
      "Successfully built pyperclip\n",
      "Installing collected packages: pyperclip\n",
      "Successfully installed pyperclip-1.8.2\n",
      "Collecting selenium\n",
      "  Downloading selenium-4.1.3-py3-none-any.whl (968 kB)\n",
      "Requirement already satisfied: urllib3[secure,socks]~=1.26 in c:\\users\\alsdn\\anaconda3\\lib\\site-packages (from selenium) (1.26.7)\n",
      "Collecting trio-websocket~=0.9\n",
      "  Downloading trio_websocket-0.9.2-py3-none-any.whl (16 kB)\n",
      "Collecting trio~=0.17\n",
      "  Downloading trio-0.20.0-py3-none-any.whl (359 kB)\n",
      "Requirement already satisfied: sortedcontainers in c:\\users\\alsdn\\anaconda3\\lib\\site-packages (from trio~=0.17->selenium) (2.4.0)\n",
      "Collecting outcome\n",
      "  Downloading outcome-1.1.0-py2.py3-none-any.whl (9.7 kB)\n",
      "Requirement already satisfied: attrs>=19.2.0 in c:\\users\\alsdn\\anaconda3\\lib\\site-packages (from trio~=0.17->selenium) (21.2.0)\n",
      "Requirement already satisfied: idna in c:\\users\\alsdn\\anaconda3\\lib\\site-packages (from trio~=0.17->selenium) (3.2)\n",
      "Requirement already satisfied: async-generator>=1.9 in c:\\users\\alsdn\\anaconda3\\lib\\site-packages (from trio~=0.17->selenium) (1.10)\n",
      "Requirement already satisfied: sniffio in c:\\users\\alsdn\\anaconda3\\lib\\site-packages (from trio~=0.17->selenium) (1.2.0)\n",
      "Requirement already satisfied: cffi>=1.14 in c:\\users\\alsdn\\anaconda3\\lib\\site-packages (from trio~=0.17->selenium) (1.14.6)\n",
      "Requirement already satisfied: pycparser in c:\\users\\alsdn\\anaconda3\\lib\\site-packages (from cffi>=1.14->trio~=0.17->selenium) (2.20)\n",
      "Collecting wsproto>=0.14\n",
      "  Downloading wsproto-1.1.0-py3-none-any.whl (24 kB)\n",
      "Requirement already satisfied: PySocks!=1.5.7,<2.0,>=1.5.6 in c:\\users\\alsdn\\anaconda3\\lib\\site-packages (from urllib3[secure,socks]~=1.26->selenium) (1.7.1)\n",
      "Requirement already satisfied: pyOpenSSL>=0.14 in c:\\users\\alsdn\\anaconda3\\lib\\site-packages (from urllib3[secure,socks]~=1.26->selenium) (21.0.0)\n",
      "Requirement already satisfied: cryptography>=1.3.4 in c:\\users\\alsdn\\anaconda3\\lib\\site-packages (from urllib3[secure,socks]~=1.26->selenium) (3.4.8)\n",
      "Requirement already satisfied: certifi in c:\\users\\alsdn\\anaconda3\\lib\\site-packages (from urllib3[secure,socks]~=1.26->selenium) (2021.10.8)\n",
      "Requirement already satisfied: six>=1.5.2 in c:\\users\\alsdn\\anaconda3\\lib\\site-packages (from pyOpenSSL>=0.14->urllib3[secure,socks]~=1.26->selenium) (1.16.0)\n",
      "Collecting h11<1,>=0.9.0\n",
      "  Downloading h11-0.13.0-py3-none-any.whl (58 kB)\n",
      "Installing collected packages: outcome, h11, wsproto, trio, trio-websocket, selenium\n",
      "Successfully installed h11-0.13.0 outcome-1.1.0 selenium-4.1.3 trio-0.20.0 trio-websocket-0.9.2 wsproto-1.1.0\n"
     ]
    }
   ],
   "source": [
    "# !pip install pyperclip\n",
    "# !pip install selenium"
   ]
  },
  {
   "cell_type": "markdown",
   "metadata": {},
   "source": [
    "### User libaray"
   ]
  },
  {
   "cell_type": "code",
   "execution_count": 3,
   "metadata": {},
   "outputs": [],
   "source": [
    "from selenium import webdriver\n",
    "import time\n",
    "import pandas as pd\n",
    "from urllib.parse import quote\n",
    "from selenium.webdriver.common.keys import Keys\n",
    "import time\n",
    "import pyperclip"
   ]
  },
  {
   "cell_type": "markdown",
   "metadata": {},
   "source": [
    "### driver open\n"
   ]
  },
  {
   "cell_type": "code",
   "execution_count": 4,
   "metadata": {},
   "outputs": [
    {
     "name": "stderr",
     "output_type": "stream",
     "text": [
      "C:\\Users\\alsdn\\AppData\\Local\\Temp/ipykernel_15600/1923150486.py:1: DeprecationWarning: executable_path has been deprecated, please pass in a Service object\n",
      "  driver = webdriver.Chrome('chromedriver.exe')  # 윈도우\n"
     ]
    }
   ],
   "source": [
    "driver = webdriver.Chrome('chromedriver.exe')  # 윈도우\n",
    "time.sleep(1)"
   ]
  },
  {
   "cell_type": "markdown",
   "metadata": {},
   "source": [
    "### driver close"
   ]
  },
  {
   "cell_type": "code",
   "execution_count": null,
   "metadata": {},
   "outputs": [],
   "source": [
    "driver.quit()"
   ]
  },
  {
   "cell_type": "markdown",
   "metadata": {},
   "source": [
    "### 아이디 비밀번호 불러오기"
   ]
  },
  {
   "cell_type": "code",
   "execution_count": 6,
   "metadata": {},
   "outputs": [],
   "source": [
    "with open('F:\\\\WorkSpace\\\\mykey\\\\Naver_pw.txt') as file:\n",
    "    PASSWORD = file.read()\n",
    "with open('F:\\\\WorkSpace\\\\mykey\\\\Naver_ID.txt') as file:\n",
    "    ID = file.read()"
   ]
  },
  {
   "cell_type": "code",
   "execution_count": null,
   "metadata": {},
   "outputs": [],
   "source": [
    "## 리눅스\n",
    "with open('/media/minwooking/9C33-6BBD/WorkSpace/mykey/Naver_ID.txt') as file:\n",
    "    password = file.read()\n",
    "with open('/media/minwooking/9C33-6BBD/WorkSpace/mykey/Naver_pw.txt') as file:\n",
    "    ID = file.read()"
   ]
  },
  {
   "cell_type": "markdown",
   "metadata": {},
   "source": [
    "### 로그인"
   ]
  },
  {
   "cell_type": "code",
   "execution_count": 7,
   "metadata": {},
   "outputs": [
    {
     "name": "stderr",
     "output_type": "stream",
     "text": [
      "C:\\Users\\alsdn\\AppData\\Local\\Temp/ipykernel_15600/2412163545.py:9: DeprecationWarning: find_element_by_name is deprecated. Please use find_element(by=By.NAME, value=name) instead\n",
      "  tag_id = driver.find_element_by_name('id')\n",
      "C:\\Users\\alsdn\\AppData\\Local\\Temp/ipykernel_15600/2412163545.py:11: DeprecationWarning: find_element_by_name is deprecated. Please use find_element(by=By.NAME, value=name) instead\n",
      "  tag_pw = driver.find_element_by_name('pw')\n",
      "C:\\Users\\alsdn\\AppData\\Local\\Temp/ipykernel_15600/2412163545.py:27: DeprecationWarning: find_element_by_* commands are deprecated. Please use find_element() instead\n",
      "  login_btn = driver.find_element_by_id('log.login')\n"
     ]
    }
   ],
   "source": [
    "url = 'https://nid.naver.com/nidlogin.login?mode=form&url=https%3A%2F%2Fwww.naver.com' \n",
    "uid = ID\n",
    "upw = PASSWORD\n",
    "#네이버 로그인 페이지로 이동 \n",
    "driver.get(url) \n",
    "time.sleep(2) #로딩 대기 \n",
    "\n",
    "#아이디 입력폼 \n",
    "tag_id = driver.find_element_by_name('id') \n",
    "#패스워드 입력폼 \n",
    "tag_pw = driver.find_element_by_name('pw')\n",
    "\n",
    "# id 입력 \n",
    "# 입력폼 클릭 -> paperclip에 선언한 uid 내용 복사 -> 붙여넣기 \n",
    "tag_id.click() \n",
    "pyperclip.copy(uid) \n",
    "tag_id.send_keys(Keys.CONTROL, 'v') \n",
    "time.sleep(1) \n",
    "\n",
    "# pw 입력 # 입력폼 클릭 -> paperclip에 선언한 upw 내용 복사 -> 붙여넣기\n",
    "tag_pw.click() \n",
    "pyperclip.copy(upw) \n",
    "tag_pw.send_keys(Keys.CONTROL, 'v')\n",
    "time.sleep(1) \n",
    "\n",
    "#로그인 버튼 클릭 \n",
    "login_btn = driver.find_element_by_id('log.login') \n",
    "login_btn.click() \n",
    "time.sleep(2)\n",
    "\n"
   ]
  },
  {
   "cell_type": "markdown",
   "metadata": {},
   "source": [
    "### 전기차 검색 코드"
   ]
  },
  {
   "cell_type": "code",
   "execution_count": 8,
   "metadata": {},
   "outputs": [
    {
     "name": "stderr",
     "output_type": "stream",
     "text": [
      "C:\\Users\\alsdn\\AppData\\Local\\Temp/ipykernel_15600/3677752914.py:2: DeprecationWarning: find_element_by_name is deprecated. Please use find_element(by=By.NAME, value=name) instead\n",
      "  tag_search = driver.find_element_by_name('query').send_keys('전기차')\n",
      "C:\\Users\\alsdn\\AppData\\Local\\Temp/ipykernel_15600/3677752914.py:3: DeprecationWarning: find_element_by_name is deprecated. Please use find_element(by=By.NAME, value=name) instead\n",
      "  driver.find_element_by_name(\"query\").send_keys(Keys.ENTER)\n"
     ]
    }
   ],
   "source": [
    "driver.get('https://cafe.naver.com/idiolle')\n",
    "tag_search = driver.find_element_by_name('query').send_keys('전기차')\n",
    "driver.find_element_by_name(\"query\").send_keys(Keys.ENTER)\n",
    "time.sleep(2)\n",
    "driver.switch_to.frame(\"cafe_main\")"
   ]
  },
  {
   "cell_type": "code",
   "execution_count": 9,
   "metadata": {},
   "outputs": [
    {
     "name": "stderr",
     "output_type": "stream",
     "text": [
      "C:\\Users\\alsdn\\AppData\\Local\\Temp/ipykernel_15600/2477498050.py:4: DeprecationWarning: find_elements_by_xpath is deprecated. Please use find_elements(by=By.XPATH, value=xpath) instead\n",
      "  driver.find_elements_by_xpath(f'/html/body/div[1]/div/div[5]/table/tbody/tr[1]/td[1]/div[2]/div/a[1]')[0].get_attribute(\"href\")\n"
     ]
    },
    {
     "data": {
      "text/plain": [
       "'https://cafe.naver.com/ca-fe/ArticleRead.nhn?clubid=20692649&page=1&inCafeSearch=true&searchBy=0&query=%EC%A0%84%EA%B8%B0%EC%B0%A8&includeAll=&exclude=&include=&exact=&searchdate=all&media=0&sortBy=date&articleid=1424190&referrerAllArticles=true'"
      ]
     },
     "execution_count": 9,
     "metadata": {},
     "output_type": "execute_result"
    }
   ],
   "source": [
    "driver.get('https://cafe.naver.com/ArticleSearchList.nhn?search.clubid=20692649&search.media=0&search.searchdate=all&userDisplay=15&search.option=0&search.sortBy=date&search.searchBy=0&search.query=%C0%FC%B1%E2%C2%F7&search.viewtype=title&search.page=1')\n",
    "time.sleep(2)\n",
    "driver.switch_to.frame('cafe_main')\n",
    "driver.find_elements_by_xpath(f'/html/body/div[1]/div/div[5]/table/tbody/tr[1]/td[1]/div[2]/div/a[1]')[0].get_attribute(\"href\")"
   ]
  },
  {
   "cell_type": "code",
   "execution_count": 13,
   "metadata": {},
   "outputs": [
    {
     "name": "stderr",
     "output_type": "stream",
     "text": [
      "C:\\Users\\alsdn\\AppData\\Local\\Temp/ipykernel_15600/1774579828.py:5: DeprecationWarning: find_element_by_class_name is deprecated. Please use find_element(by=By.CLASS_NAME, value=name) instead\n",
      "  driver.find_element_by_class_name('date').text\n"
     ]
    },
    {
     "data": {
      "text/plain": [
       "'2022.03.14. 14:38'"
      ]
     },
     "execution_count": 13,
     "metadata": {},
     "output_type": "execute_result"
    }
   ],
   "source": [
    "### test\n",
    "driver.get('https://cafe.naver.com/ca-fe/ArticleRead.nhn?clubid=20692649&page=1&inCafeSearch=true&searchBy=0&query=%EC%A0%84%EA%B8%B0%EC%B0%A8&includeAll=&exclude=&include=&exact=&searchdate=all&media=0&sortBy=date&articleid=1424190&referrerAllArticles=true')\n",
    "time.sleep(2)\n",
    "driver.switch_to.frame('cafe_main')\n",
    "driver.find_element_by_class_name('date').text\n",
    "driver.find_element_by_class_name('count').text"
   ]
  },
  {
   "cell_type": "markdown",
   "metadata": {},
   "source": [
    "### URL 주소 불러오기"
   ]
  },
  {
   "cell_type": "code",
   "execution_count": null,
   "metadata": {},
   "outputs": [],
   "source": [
    "address=[]\n",
    "pops=[]\n",
    "dates=[]\n",
    "page= 0\n",
    "#while page < 0:\n",
    "while page < 50:\n",
    "    try:\n",
    "        page+=1\n",
    "        driver.get(f\"https://cafe.naver.com/idiolle?iframe_url=/ArticleSearchList.nhn%3Fsearch.clubid=10456178%26search.media=0%26search.searchdate=all%26search.exact=%26search.include=%26userDisplay=50%26search.exclude=%26search.option=0%26search.sortBy=date%26search.searchBy=0%26search.includeAll=%26search.query=%C0%FC%B1%E2%C2%F7%26search.viewtype=title%26search.page={page}\")\n",
    "        driver.switch_to.frame(\"cafe_main\")\n",
    "        try:\n",
    "            if driver.find_element_by_class_name(\"nodata\").text == '등록된 게시글이 없습니다.':\n",
    "            # 무한으로 다음페이지로 넘어가는데 만약에 등록된게시글이 없습니다가 나오면 다음페이지로 넘어가는것을 멈춤\n",
    "                break\n",
    "        except:\n",
    "            pass\n",
    "\n",
    "        b = driver.find_element_by_xpath('/html/body/div[1]/div/div[5]/table/tbody')\n",
    "        for i in range(0,50):\n",
    "            address.append(b.find_elements_by_class_name('article')[i].get_attribute('href'))\n",
    "            pops.append(driver.find_elements_by_class_name('td_view')[i].text)\n",
    "            dates.append(driver.find_elements_by_class_name('td_date')[i].text)\n",
    "       \n",
    "    except:\n",
    "        pass"
   ]
  },
  {
   "cell_type": "markdown",
   "metadata": {},
   "source": [
    "### 게시글 내용,제목,댓글 불러오기"
   ]
  },
  {
   "cell_type": "code",
   "execution_count": 15,
   "metadata": {},
   "outputs": [
    {
     "name": "stderr",
     "output_type": "stream",
     "text": [
      "C:\\Users\\alsdn\\AppData\\Local\\Temp/ipykernel_12264/4285009667.py:5: DeprecationWarning: find_element_by_class_name is deprecated. Please use find_element(by=By.CLASS_NAME, value=name) instead\n",
      "  if driver.find_element_by_class_name(\"title_text\")==None:\n",
      "C:\\Users\\alsdn\\AppData\\Local\\Temp/ipykernel_12264/4285009667.py:9: DeprecationWarning: find_element_by_class_name is deprecated. Please use find_element(by=By.CLASS_NAME, value=name) instead\n",
      "  title =driver.find_element_by_class_name(\"title_text\").text\n",
      "C:\\Users\\alsdn\\AppData\\Local\\Temp/ipykernel_12264/4285009667.py:10: DeprecationWarning: find_elements_by_tag_name is deprecated. Please use find_elements(by=By.TAG_NAME, value=name) instead\n",
      "  contents =driver.find_elements_by_tag_name('p')\n"
     ]
    },
    {
     "name": "stdout",
     "output_type": "stream",
     "text": [
      "우도전기차에서 직원 모십니다\n",
      "\n",
      "\n",
      "📢 '최저임금'은 임금의 최저수준을 정하고, 사용자에게 이 수준 이상의 임금을 지급하도록 하는 제도입니다.\n",
      "- 2022년 최저임금은 시간당 9,160원입니다.\n",
      "* 업체명 :  우도 전기차\n",
      "\n",
      "* 연락처 :  010-8663-8393\n",
      "\n",
      "* 근무지역 :  우도 \n",
      "\n",
      "* 채용정보 \n",
      "- 우도에서 전기차 직원모셔요\n",
      "급여 220만원\n",
      "점심 식대비 하루 1만원씩 지급합니다\n",
      "기숙사는 제공하며 공과금이나 따로 내는건 없습니다\n",
      "아침식사 저녁식사 제공해드립니다\n",
      "남자 25세에서 45세 사이 \n",
      "여자 25세에서 35세 사이 모십니다\n",
      "점심 식사는 근처 식당이나\n",
      "편의점에서 사서 드셔도 되고요\n",
      "가게에서 간식을주면 그것만 드셔도됩니다\n",
      "자세한 사항은 전화문의 부탁드립니다\n",
      "\n"
     ]
    }
   ],
   "source": [
    "driver.get(address[1])\n",
    "time.sleep(2)\n",
    "driver.switch_to.frame('cafe_main')\n",
    "try :\n",
    "    if driver.find_element_by_class_name(\"title_text\")==None:\n",
    "        title = '제목이없습니다.'\n",
    "except:\n",
    "    pass\n",
    "title =driver.find_element_by_class_name(\"title_text\").text\n",
    "contents =driver.find_elements_by_tag_name('p')\n",
    "content = ''\n",
    "for i,item in enumerate(contents):\n",
    "    content += contents[i].text+'\\n'\n",
    "print(title)\n",
    "print(content)"
   ]
  },
  {
   "cell_type": "code",
   "execution_count": 56,
   "metadata": {},
   "outputs": [
    {
     "name": "stderr",
     "output_type": "stream",
     "text": [
      "C:\\Users\\alsdn\\AppData\\Local\\Temp/ipykernel_4260/2815917916.py:5: DeprecationWarning: use driver.switch_to.frame instead\n",
      "  driver.switch_to_frame('cafe_main')\n"
     ]
    }
   ],
   "source": [
    "# test\n",
    "# titles = []\n",
    "# contentss = []\n",
    "# driver.get(address[384])\n",
    "# time.sleep(2)\n",
    "# driver.switch_to_frame('cafe_main')\n",
    "# # if driver.find_element_by_class_name(\"nodata\").text == '삭제되었거나 없는 게시글입니다.':\n",
    "# if driver.find_element_by_class_name(\"title_text\").text == None:\n",
    "#     title = '제목이없습니다.'\n",
    "# else:\n",
    "#     title =driver.find_element_by_class_name(\"title_text\")\n",
    "# if driver.find_elements_by_tag_name('p')[0].text == None:\n",
    "#     contents =driver.find_elements_by_tag_name('b')\n",
    "# else:\n",
    "#     contents =driver.find_elements_by_tag_name('p')\n",
    "# content = ''\n",
    "# for j,item in enumerate(contents):\n",
    "#     content += contents[j].text+'\\n'\n",
    "#     titles.append(title)\n",
    "# contentss.append(content)"
   ]
  },
  {
   "cell_type": "markdown",
   "metadata": {},
   "source": [
    "### 주소 들어가서 내용 크롤링하기"
   ]
  },
  {
   "cell_type": "code",
   "execution_count": 16,
   "metadata": {},
   "outputs": [
    {
     "name": "stderr",
     "output_type": "stream",
     "text": [
      "C:\\Users\\alsdn\\AppData\\Local\\Temp/ipykernel_15600/1560494294.py:11: DeprecationWarning: find_element_by_class_name is deprecated. Please use find_element(by=By.CLASS_NAME, value=name) instead\n",
      "  if driver.find_element_by_class_name(\"nodata\").text == '삭제되었거나 없는 게시글입니다.':\n",
      "C:\\Users\\alsdn\\AppData\\Local\\Temp/ipykernel_15600/1560494294.py:16: DeprecationWarning: find_element_by_class_name is deprecated. Please use find_element(by=By.CLASS_NAME, value=name) instead\n",
      "  if driver.find_element_by_class_name(\"title_text\").text == None:\n",
      "C:\\Users\\alsdn\\AppData\\Local\\Temp/ipykernel_15600/1560494294.py:20: DeprecationWarning: find_element_by_class_name is deprecated. Please use find_element(by=By.CLASS_NAME, value=name) instead\n",
      "  title =driver.find_element_by_class_name(\"title_text\").text\n",
      "C:\\Users\\alsdn\\AppData\\Local\\Temp/ipykernel_15600/1560494294.py:23: DeprecationWarning: find_elements_by_tag_name is deprecated. Please use find_elements(by=By.TAG_NAME, value=name) instead\n",
      "  if driver.find_elements_by_tag_name('p')[0].text == None:\n",
      "C:\\Users\\alsdn\\AppData\\Local\\Temp/ipykernel_15600/1560494294.py:26: DeprecationWarning: find_elements_by_tag_name is deprecated. Please use find_elements(by=By.TAG_NAME, value=name) instead\n",
      "  contents =driver.find_elements_by_tag_name('p')\n",
      "C:\\Users\\alsdn\\AppData\\Local\\Temp/ipykernel_15600/1560494294.py:32: DeprecationWarning: find_element_by_class_name is deprecated. Please use find_element(by=By.CLASS_NAME, value=name) instead\n",
      "  times.append(driver.find_element_by_class_name('date').text)\n",
      "C:\\Users\\alsdn\\AppData\\Local\\Temp/ipykernel_15600/1560494294.py:33: DeprecationWarning: find_element_by_class_name is deprecated. Please use find_element(by=By.CLASS_NAME, value=name) instead\n",
      "  pops.append(driver.find_element_by_class_name('count').text)\n"
     ]
    }
   ],
   "source": [
    "titles = []\n",
    "contentss = []\n",
    "link_boards = []\n",
    "comments = []\n",
    "for element in address:\n",
    "    try:\n",
    "        driver.get(element)\n",
    "        time.sleep(2)\n",
    "        driver.switch_to.frame('cafe_main')\n",
    "        try: \n",
    "            if driver.find_element_by_class_name(\"nodata\").text == '삭제되었거나 없는 게시글입니다.':\n",
    "                    break\n",
    "        except:\n",
    "                pass\n",
    "            \n",
    "        ### 제목 \n",
    "        try :\n",
    "            if driver.find_element_by_class_name(\"title_text\").text == None:\n",
    "                title = '제목이없습니다.'\n",
    "                pass\n",
    "            else:\n",
    "                title =driver.find_element_by_class_name(\"title_text\").text\n",
    "        except:\n",
    "            pass\n",
    "        ### 내용\n",
    "        if driver.find_elements_by_tag_name('p')[0].text == None:\n",
    "            contents =driver.find_elements_by_tag_name('b')\n",
    "        else:\n",
    "            contents =driver.find_elements_by_tag_name('p')\n",
    "        content = ''\n",
    "        for j,item in enumerate(contents):\n",
    "            content += contents[j].text+'\\n'\n",
    "        ### 추가\n",
    "        titles.append(title) ## 제목\n",
    "        contentss.append(content) ## 내용\n",
    "        \n",
    "        ### 필터링\n",
    "        link_boards.append(driver.find_element_by_class_name('link_board').text)\n",
    "        ### 댓글\n",
    "        comments.append(driver.find_element_by_class_name('count').text)\n",
    "        \n",
    "    except:\n",
    "        pass"
   ]
  },
  {
   "cell_type": "markdown",
   "metadata": {},
   "source": [
    "## 만들어진 결과 데이터프레임으로 만들기"
   ]
  },
  {
   "cell_type": "code",
   "execution_count": null,
   "metadata": {},
   "outputs": [],
   "source": [
    "df=pd.DataFrame({\"제목\":titles ,\"내용\":contentss,\"주소\":address,'날짜':dates,'조회수':pops,'게시글':link_boards\n",
    "                 , \"댓글\":comments})\n",
    "df.to_csv('제사모전기차크롤링.csv',index=False)\n",
    "df.head(3)\n"
   ]
  },
  {
   "cell_type": "code",
   "execution_count": 21,
   "metadata": {},
   "outputs": [
    {
     "data": {
      "text/plain": [
       "900"
      ]
     },
     "execution_count": 21,
     "metadata": {},
     "output_type": "execute_result"
    }
   ],
   "source": [
    "len(titles)"
   ]
  },
  {
   "cell_type": "code",
   "execution_count": 22,
   "metadata": {},
   "outputs": [
    {
     "data": {
      "text/plain": [
       "900"
      ]
     },
     "execution_count": 22,
     "metadata": {},
     "output_type": "execute_result"
    }
   ],
   "source": [
    "len(contentss)"
   ]
  },
  {
   "cell_type": "code",
   "execution_count": 23,
   "metadata": {},
   "outputs": [
    {
     "data": {
      "text/plain": [
       "1007"
      ]
     },
     "execution_count": 23,
     "metadata": {},
     "output_type": "execute_result"
    }
   ],
   "source": [
    "len(address)"
   ]
  },
  {
   "cell_type": "code",
   "execution_count": 24,
   "metadata": {},
   "outputs": [
    {
     "data": {
      "text/plain": [
       "887"
      ]
     },
     "execution_count": 24,
     "metadata": {},
     "output_type": "execute_result"
    }
   ],
   "source": [
    "len(dates)"
   ]
  },
  {
   "cell_type": "code",
   "execution_count": 25,
   "metadata": {},
   "outputs": [
    {
     "data": {
      "text/plain": [
       "883"
      ]
     },
     "execution_count": 25,
     "metadata": {},
     "output_type": "execute_result"
    }
   ],
   "source": [
    "len(pops)"
   ]
  },
  {
   "cell_type": "code",
   "execution_count": 28,
   "metadata": {},
   "outputs": [],
   "source": [
    "df1 = pd.DataFrame({'제목':titles})\n",
    "df2 = pd.DataFrame({'내용':contentss})\n",
    "df3 = pd.DataFrame({'주소':address})\n",
    "df4 = pd.DataFrame({'시간':dates})\n",
    "df5 = pd.DataFrame({'조회수':pops})\n"
   ]
  },
  {
   "cell_type": "code",
   "execution_count": 29,
   "metadata": {},
   "outputs": [],
   "source": [
    "df1.to_csv('제사모1.csv',index=False)\n",
    "df2.to_csv('제사모2.csv',index=False)\n",
    "df3.to_csv('제사모3.csv',index=False)\n",
    "df4.to_csv('제사모4.csv',index=False)\n",
    "df5.to_csv('제사모5.csv',index=False)"
   ]
  },
  {
   "cell_type": "code",
   "execution_count": 10,
   "metadata": {},
   "outputs": [
    {
     "name": "stdout",
     "output_type": "stream",
     "text": [
      "<class 'pandas.core.frame.DataFrame'>\n",
      "RangeIndex: 1001 entries, 0 to 1000\n",
      "Data columns (total 3 columns):\n",
      " #   Column  Non-Null Count  Dtype \n",
      "---  ------  --------------  ----- \n",
      " 0   제목      1001 non-null   object\n",
      " 1   내용      1001 non-null   object\n",
      " 2   주소      1001 non-null   object\n",
      "dtypes: object(3)\n",
      "memory usage: 23.6+ KB\n"
     ]
    }
   ],
   "source": [
    "df.info()"
   ]
  },
  {
   "cell_type": "code",
   "execution_count": null,
   "metadata": {},
   "outputs": [],
   "source": []
  }
 ],
 "metadata": {
  "interpreter": {
   "hash": "374be8c39ae01ff66328729506a9b9a7ba9eb3f2df141c8f3098ad96d8cc6bdd"
  },
  "kernelspec": {
   "display_name": "Python 3.9.7 ('base')",
   "language": "python",
   "name": "python3"
  },
  "language_info": {
   "codemirror_mode": {
    "name": "ipython",
    "version": 3
   },
   "file_extension": ".py",
   "mimetype": "text/x-python",
   "name": "python",
   "nbconvert_exporter": "python",
   "pygments_lexer": "ipython3",
   "version": "3.9.7"
  },
  "orig_nbformat": 4
 },
 "nbformat": 4,
 "nbformat_minor": 2
}
