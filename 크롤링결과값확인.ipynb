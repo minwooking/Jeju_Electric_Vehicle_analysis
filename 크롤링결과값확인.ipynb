{
 "cells": [
  {
   "cell_type": "markdown",
   "metadata": {},
   "source": [
    "## Use lib"
   ]
  },
  {
   "cell_type": "code",
   "execution_count": 2,
   "metadata": {},
   "outputs": [],
   "source": [
    "import numpy as np\n",
    "import pandas as pd\n"
   ]
  },
  {
   "cell_type": "markdown",
   "metadata": {},
   "source": [
    "### Use Data"
   ]
  },
  {
   "cell_type": "code",
   "execution_count": 3,
   "metadata": {},
   "outputs": [],
   "source": [
    "df_cafe1 = pd.read_csv('/media/minwooking/9C33-6BBD/WorkSpace/Jeju_Electric_Vehicle_analysis/data/느영나영전기차크롤링.csv')"
   ]
  },
  {
   "cell_type": "code",
   "execution_count": 4,
   "metadata": {},
   "outputs": [],
   "source": [
    "df_cafe2 = pd.read_csv('/media/minwooking/9C33-6BBD/WorkSpace/Jeju_Electric_Vehicle_analysis/data/제사모전기차크롤링.csv')"
   ]
  },
  {
   "cell_type": "code",
   "execution_count": 8,
   "metadata": {},
   "outputs": [],
   "source": [
    "df_cafe3 = pd.read_excel('/media/minwooking/9C33-6BBD/WorkSpace/Jeju_Electric_Vehicle_analysis/data/본문 검색 결과_2022.03.06.xlsx')"
   ]
  },
  {
   "cell_type": "code",
   "execution_count": 23,
   "metadata": {},
   "outputs": [],
   "source": [
    "df_cafe4_comment = pd.read_excel('/media/minwooking/9C33-6BBD/WorkSpace/Jeju_Electric_Vehicle_analysis/data/전체본문의댓글결과_2022.03.06.xlsx')"
   ]
  },
  {
   "cell_type": "markdown",
   "metadata": {},
   "source": [
    "### pre"
   ]
  },
  {
   "cell_type": "code",
   "execution_count": 18,
   "metadata": {},
   "outputs": [
    {
     "data": {
      "text/plain": [
       "'▶ 아이오닉5 휠베이스 3000의 가치_x000D_\\n_x000D_\\n서비스센터 갔다오며 부품 수급 문제로 렌터카 받고 왔습니다. 그랜저IG 받았는데 전시차 시승했을 때도 공간이 엄청 넓어서 놀랐는데 오늘 렌터카로 받고 문득 든 생각이 휠베이스가 얼마일까 했는데 2885였더군요. 휠베이스 2885와 3000은 거의 코나에서 니로 탔을 때의 차이정도일 것 같은데 체감이 엄청 날것 같습니다. 10cm 별거 아니라고 하신 분 글도 봤는데 차량에서 특히 레그룸 10cm는 정말 24평 집에서 30평 집으로 이사 갔을 때의 느낌이 아닐까 개인적으로 생각해봅니다. 코나 형편없어서 현대차에 별 기대 안했던 사람도 휠베이스 3000은 그 자체로 엄청난 메리트일것 같다는 생각입니다. 모델y와 아이오닉5 비교하며 구매 생각하고 계신 님들 휠베이스 3000이 기대 이상의 만족감을 줄수도 있다는 점 고려해보세요. ota, 소재, 자율주행, 감성, 편의성 모든 면에서 모델y가 위라고 해도 휠베이스는 아이오닉5가 3000이고 모델y가 2890이라는 것 참고하세요. 더불어 모델X 2965보다도 아이오닉5가 휠베이스 넓습니다. ?'"
      ]
     },
     "execution_count": 18,
     "metadata": {},
     "output_type": "execute_result"
    }
   ],
   "source": [
    "df_cafe3.Contents[0]"
   ]
  },
  {
   "cell_type": "code",
   "execution_count": 22,
   "metadata": {},
   "outputs": [
    {
     "data": {
      "text/plain": [
       "0     지점이 없는 지역은 신청이 안 되는 걸로 되어 있는데요.. 이러면 지점이 없는 지역...\n",
       "1     담당 영맨한테 물어보니 서산은 롯데가능대수 1대라 이미 끝나서 진행안되고, 인천은 ...\n",
       "2                             2387만원 이게 진짜인가요?LT등급도 아니고\n",
       "3                                         창원 원츄합니다~~~^^\n",
       "4     타지역이랑 비교하면.. 신차 풀옵 2800정도에 사서 괜찮다 생각했었는데 서산 보니...\n",
       "5                                 전북도 보조금이 높아서 비슷한 가격..\n",
       "6                                        서산주민만 구매되나요?ㅋㅋ\n",
       "7                    그 영업사원 연럭처 부탁드려도 될까요? 친구놈 알려주게요 ㅎㅎ\n",
       "8                                      경기도 지역은 언재 될까요 ㅠ\n",
       "9                                          취소하시고 갈아 타시죠\n",
       "10                         와.. 내일 모레 출고인데 착잡해지는 가격이네요..\n",
       "11                   이건 영사 문제가 아니라 그냥 서산이라 가능한 듯 싶은데요..\n",
       "12         영업사원분 연락처 쪽지좀 부탁드려요. 저도 혹시 가능한지 견적 한번 받아볼려구요\n",
       "13                                                대박이네요\n",
       "14            돼요^^ 영업사원분이 그냥 뽑아두라고 전화까지 왔어요 전국최저가 맞다구..\n",
       "15                                        서산은 안되지 않나요??\n",
       "16         서산 무보증 30만원이에요... ㅋㅋ 볼트 있는데 하나 더 물타기 해야하나...\n",
       "17                                       헐~ 대란 맞네요감사합니다\n",
       "18                      48개월 기준 -350이네요36개월로 치면 -550입니다\n",
       "19           견적서 저도 좀 알려주세요. 저도 지역이 저기에 안 속해 있는 군산인데 ㅜㅜ\n",
       "20                                   인천은 1차랑 별반 차이가 없는듯\n",
       "21                      서산한번 보여드릴까요 충격적인 견적서 있어요... ㅎㅎㅎ\n",
       "22                                      인천이 아니라 서럽네요 ㅡㅡ\n",
       "23                                        다른 지역은 안하나요??\n",
       "24                                      와우... 가격이 너무 착해\n",
       "25                                      2차 보다 얼마나 좋은가요?\n",
       "26                                대란 맞네요 2차 탄 사람은 웁니다 ㅠ\n",
       "27                                           창원은 소식없나요?\n",
       "28                                         남양주는 안하나요???\n",
       "29                                              인천 최고네요\n",
       "30                                                  인천짱\n",
       "31                                      헉 이번에는 지역도 가리나요\n",
       "32                              우와 인천분들 구매 예정이셨다면 달리세요~\n",
       "33                                       채팅방 접속이 안되네요..\n",
       "34                                        수원은 언제 하나요 ㅠㅠ\n",
       "Name: 댓글, dtype: object"
      ]
     },
     "execution_count": 22,
     "metadata": {},
     "output_type": "execute_result"
    }
   ],
   "source": [
    "df_cafe4.댓글"
   ]
  },
  {
   "cell_type": "code",
   "execution_count": null,
   "metadata": {},
   "outputs": [],
   "source": []
  }
 ],
 "metadata": {
  "interpreter": {
   "hash": "916dbcbb3f70747c44a77c7bcd40155683ae19c65e1c03b4aa3499c5328201f1"
  },
  "kernelspec": {
   "display_name": "Python 3.8.10 64-bit",
   "language": "python",
   "name": "python3"
  },
  "language_info": {
   "codemirror_mode": {
    "name": "ipython",
    "version": 3
   },
   "file_extension": ".py",
   "mimetype": "text/x-python",
   "name": "python",
   "nbconvert_exporter": "python",
   "pygments_lexer": "ipython3",
   "version": "3.9.7"
  },
  "orig_nbformat": 4
 },
 "nbformat": 4,
 "nbformat_minor": 2
}
