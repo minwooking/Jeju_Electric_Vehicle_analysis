{
 "cells": [
  {
   "cell_type": "markdown",
   "metadata": {},
   "source": [
    "## Use lib"
   ]
  },
  {
   "cell_type": "code",
   "execution_count": 1,
   "metadata": {},
   "outputs": [],
   "source": [
    "import numpy as np\n",
    "import pandas as pd\n"
   ]
  },
  {
   "cell_type": "markdown",
   "metadata": {},
   "source": [
    "### Use Data"
   ]
  },
  {
   "cell_type": "code",
   "execution_count": 3,
   "metadata": {},
   "outputs": [],
   "source": [
    "df_cafe1 = pd.read_csv('D:\\\\WorkSpace\\\\Jeju_Electric_Vehicle_analysis\\\\data\\\\제사모전기차크롤링.csv')"
   ]
  },
  {
   "cell_type": "code",
   "execution_count": 2,
   "metadata": {},
   "outputs": [
    {
     "ename": "FileNotFoundError",
     "evalue": "[Errno 2] No such file or directory: '/media/minwooking/9C33-6BBD/WorkSpace/Jeju_Electric_Vehicle_analysis/data/느영나영전기차크롤링.csv'",
     "output_type": "error",
     "traceback": [
      "\u001b[1;31m---------------------------------------------------------------------------\u001b[0m",
      "\u001b[1;31mFileNotFoundError\u001b[0m                         Traceback (most recent call last)",
      "\u001b[1;32m~\\AppData\\Local\\Temp/ipykernel_6024/2028281979.py\u001b[0m in \u001b[0;36m<module>\u001b[1;34m\u001b[0m\n\u001b[1;32m----> 1\u001b[1;33m \u001b[0mdf_cafe1\u001b[0m \u001b[1;33m=\u001b[0m \u001b[0mpd\u001b[0m\u001b[1;33m.\u001b[0m\u001b[0mread_csv\u001b[0m\u001b[1;33m(\u001b[0m\u001b[1;34m'/media/minwooking/9C33-6BBD/WorkSpace/Jeju_Electric_Vehicle_analysis/data/느영나영전기차크롤링.csv'\u001b[0m\u001b[1;33m)\u001b[0m\u001b[1;33m\u001b[0m\u001b[1;33m\u001b[0m\u001b[0m\n\u001b[0m",
      "\u001b[1;32m~\\anaconda3\\lib\\site-packages\\pandas\\util\\_decorators.py\u001b[0m in \u001b[0;36mwrapper\u001b[1;34m(*args, **kwargs)\u001b[0m\n\u001b[0;32m    309\u001b[0m                     \u001b[0mstacklevel\u001b[0m\u001b[1;33m=\u001b[0m\u001b[0mstacklevel\u001b[0m\u001b[1;33m,\u001b[0m\u001b[1;33m\u001b[0m\u001b[1;33m\u001b[0m\u001b[0m\n\u001b[0;32m    310\u001b[0m                 )\n\u001b[1;32m--> 311\u001b[1;33m             \u001b[1;32mreturn\u001b[0m \u001b[0mfunc\u001b[0m\u001b[1;33m(\u001b[0m\u001b[1;33m*\u001b[0m\u001b[0margs\u001b[0m\u001b[1;33m,\u001b[0m \u001b[1;33m**\u001b[0m\u001b[0mkwargs\u001b[0m\u001b[1;33m)\u001b[0m\u001b[1;33m\u001b[0m\u001b[1;33m\u001b[0m\u001b[0m\n\u001b[0m\u001b[0;32m    312\u001b[0m \u001b[1;33m\u001b[0m\u001b[0m\n\u001b[0;32m    313\u001b[0m         \u001b[1;32mreturn\u001b[0m \u001b[0mwrapper\u001b[0m\u001b[1;33m\u001b[0m\u001b[1;33m\u001b[0m\u001b[0m\n",
      "\u001b[1;32m~\\anaconda3\\lib\\site-packages\\pandas\\io\\parsers\\readers.py\u001b[0m in \u001b[0;36mread_csv\u001b[1;34m(filepath_or_buffer, sep, delimiter, header, names, index_col, usecols, squeeze, prefix, mangle_dupe_cols, dtype, engine, converters, true_values, false_values, skipinitialspace, skiprows, skipfooter, nrows, na_values, keep_default_na, na_filter, verbose, skip_blank_lines, parse_dates, infer_datetime_format, keep_date_col, date_parser, dayfirst, cache_dates, iterator, chunksize, compression, thousands, decimal, lineterminator, quotechar, quoting, doublequote, escapechar, comment, encoding, encoding_errors, dialect, error_bad_lines, warn_bad_lines, on_bad_lines, delim_whitespace, low_memory, memory_map, float_precision, storage_options)\u001b[0m\n\u001b[0;32m    584\u001b[0m     \u001b[0mkwds\u001b[0m\u001b[1;33m.\u001b[0m\u001b[0mupdate\u001b[0m\u001b[1;33m(\u001b[0m\u001b[0mkwds_defaults\u001b[0m\u001b[1;33m)\u001b[0m\u001b[1;33m\u001b[0m\u001b[1;33m\u001b[0m\u001b[0m\n\u001b[0;32m    585\u001b[0m \u001b[1;33m\u001b[0m\u001b[0m\n\u001b[1;32m--> 586\u001b[1;33m     \u001b[1;32mreturn\u001b[0m \u001b[0m_read\u001b[0m\u001b[1;33m(\u001b[0m\u001b[0mfilepath_or_buffer\u001b[0m\u001b[1;33m,\u001b[0m \u001b[0mkwds\u001b[0m\u001b[1;33m)\u001b[0m\u001b[1;33m\u001b[0m\u001b[1;33m\u001b[0m\u001b[0m\n\u001b[0m\u001b[0;32m    587\u001b[0m \u001b[1;33m\u001b[0m\u001b[0m\n\u001b[0;32m    588\u001b[0m \u001b[1;33m\u001b[0m\u001b[0m\n",
      "\u001b[1;32m~\\anaconda3\\lib\\site-packages\\pandas\\io\\parsers\\readers.py\u001b[0m in \u001b[0;36m_read\u001b[1;34m(filepath_or_buffer, kwds)\u001b[0m\n\u001b[0;32m    480\u001b[0m \u001b[1;33m\u001b[0m\u001b[0m\n\u001b[0;32m    481\u001b[0m     \u001b[1;31m# Create the parser.\u001b[0m\u001b[1;33m\u001b[0m\u001b[1;33m\u001b[0m\u001b[0m\n\u001b[1;32m--> 482\u001b[1;33m     \u001b[0mparser\u001b[0m \u001b[1;33m=\u001b[0m \u001b[0mTextFileReader\u001b[0m\u001b[1;33m(\u001b[0m\u001b[0mfilepath_or_buffer\u001b[0m\u001b[1;33m,\u001b[0m \u001b[1;33m**\u001b[0m\u001b[0mkwds\u001b[0m\u001b[1;33m)\u001b[0m\u001b[1;33m\u001b[0m\u001b[1;33m\u001b[0m\u001b[0m\n\u001b[0m\u001b[0;32m    483\u001b[0m \u001b[1;33m\u001b[0m\u001b[0m\n\u001b[0;32m    484\u001b[0m     \u001b[1;32mif\u001b[0m \u001b[0mchunksize\u001b[0m \u001b[1;32mor\u001b[0m \u001b[0miterator\u001b[0m\u001b[1;33m:\u001b[0m\u001b[1;33m\u001b[0m\u001b[1;33m\u001b[0m\u001b[0m\n",
      "\u001b[1;32m~\\anaconda3\\lib\\site-packages\\pandas\\io\\parsers\\readers.py\u001b[0m in \u001b[0;36m__init__\u001b[1;34m(self, f, engine, **kwds)\u001b[0m\n\u001b[0;32m    809\u001b[0m             \u001b[0mself\u001b[0m\u001b[1;33m.\u001b[0m\u001b[0moptions\u001b[0m\u001b[1;33m[\u001b[0m\u001b[1;34m\"has_index_names\"\u001b[0m\u001b[1;33m]\u001b[0m \u001b[1;33m=\u001b[0m \u001b[0mkwds\u001b[0m\u001b[1;33m[\u001b[0m\u001b[1;34m\"has_index_names\"\u001b[0m\u001b[1;33m]\u001b[0m\u001b[1;33m\u001b[0m\u001b[1;33m\u001b[0m\u001b[0m\n\u001b[0;32m    810\u001b[0m \u001b[1;33m\u001b[0m\u001b[0m\n\u001b[1;32m--> 811\u001b[1;33m         \u001b[0mself\u001b[0m\u001b[1;33m.\u001b[0m\u001b[0m_engine\u001b[0m \u001b[1;33m=\u001b[0m \u001b[0mself\u001b[0m\u001b[1;33m.\u001b[0m\u001b[0m_make_engine\u001b[0m\u001b[1;33m(\u001b[0m\u001b[0mself\u001b[0m\u001b[1;33m.\u001b[0m\u001b[0mengine\u001b[0m\u001b[1;33m)\u001b[0m\u001b[1;33m\u001b[0m\u001b[1;33m\u001b[0m\u001b[0m\n\u001b[0m\u001b[0;32m    812\u001b[0m \u001b[1;33m\u001b[0m\u001b[0m\n\u001b[0;32m    813\u001b[0m     \u001b[1;32mdef\u001b[0m \u001b[0mclose\u001b[0m\u001b[1;33m(\u001b[0m\u001b[0mself\u001b[0m\u001b[1;33m)\u001b[0m\u001b[1;33m:\u001b[0m\u001b[1;33m\u001b[0m\u001b[1;33m\u001b[0m\u001b[0m\n",
      "\u001b[1;32m~\\anaconda3\\lib\\site-packages\\pandas\\io\\parsers\\readers.py\u001b[0m in \u001b[0;36m_make_engine\u001b[1;34m(self, engine)\u001b[0m\n\u001b[0;32m   1038\u001b[0m             )\n\u001b[0;32m   1039\u001b[0m         \u001b[1;31m# error: Too many arguments for \"ParserBase\"\u001b[0m\u001b[1;33m\u001b[0m\u001b[1;33m\u001b[0m\u001b[0m\n\u001b[1;32m-> 1040\u001b[1;33m         \u001b[1;32mreturn\u001b[0m \u001b[0mmapping\u001b[0m\u001b[1;33m[\u001b[0m\u001b[0mengine\u001b[0m\u001b[1;33m]\u001b[0m\u001b[1;33m(\u001b[0m\u001b[0mself\u001b[0m\u001b[1;33m.\u001b[0m\u001b[0mf\u001b[0m\u001b[1;33m,\u001b[0m \u001b[1;33m**\u001b[0m\u001b[0mself\u001b[0m\u001b[1;33m.\u001b[0m\u001b[0moptions\u001b[0m\u001b[1;33m)\u001b[0m  \u001b[1;31m# type: ignore[call-arg]\u001b[0m\u001b[1;33m\u001b[0m\u001b[1;33m\u001b[0m\u001b[0m\n\u001b[0m\u001b[0;32m   1041\u001b[0m \u001b[1;33m\u001b[0m\u001b[0m\n\u001b[0;32m   1042\u001b[0m     \u001b[1;32mdef\u001b[0m \u001b[0m_failover_to_python\u001b[0m\u001b[1;33m(\u001b[0m\u001b[0mself\u001b[0m\u001b[1;33m)\u001b[0m\u001b[1;33m:\u001b[0m\u001b[1;33m\u001b[0m\u001b[1;33m\u001b[0m\u001b[0m\n",
      "\u001b[1;32m~\\anaconda3\\lib\\site-packages\\pandas\\io\\parsers\\c_parser_wrapper.py\u001b[0m in \u001b[0;36m__init__\u001b[1;34m(self, src, **kwds)\u001b[0m\n\u001b[0;32m     49\u001b[0m \u001b[1;33m\u001b[0m\u001b[0m\n\u001b[0;32m     50\u001b[0m         \u001b[1;31m# open handles\u001b[0m\u001b[1;33m\u001b[0m\u001b[1;33m\u001b[0m\u001b[0m\n\u001b[1;32m---> 51\u001b[1;33m         \u001b[0mself\u001b[0m\u001b[1;33m.\u001b[0m\u001b[0m_open_handles\u001b[0m\u001b[1;33m(\u001b[0m\u001b[0msrc\u001b[0m\u001b[1;33m,\u001b[0m \u001b[0mkwds\u001b[0m\u001b[1;33m)\u001b[0m\u001b[1;33m\u001b[0m\u001b[1;33m\u001b[0m\u001b[0m\n\u001b[0m\u001b[0;32m     52\u001b[0m         \u001b[1;32massert\u001b[0m \u001b[0mself\u001b[0m\u001b[1;33m.\u001b[0m\u001b[0mhandles\u001b[0m \u001b[1;32mis\u001b[0m \u001b[1;32mnot\u001b[0m \u001b[1;32mNone\u001b[0m\u001b[1;33m\u001b[0m\u001b[1;33m\u001b[0m\u001b[0m\n\u001b[0;32m     53\u001b[0m \u001b[1;33m\u001b[0m\u001b[0m\n",
      "\u001b[1;32m~\\anaconda3\\lib\\site-packages\\pandas\\io\\parsers\\base_parser.py\u001b[0m in \u001b[0;36m_open_handles\u001b[1;34m(self, src, kwds)\u001b[0m\n\u001b[0;32m    220\u001b[0m         \u001b[0mLet\u001b[0m \u001b[0mthe\u001b[0m \u001b[0mreaders\u001b[0m \u001b[0mopen\u001b[0m \u001b[0mIOHandles\u001b[0m \u001b[0mafter\u001b[0m \u001b[0mthey\u001b[0m \u001b[0mare\u001b[0m \u001b[0mdone\u001b[0m \u001b[1;32mwith\u001b[0m \u001b[0mtheir\u001b[0m \u001b[0mpotential\u001b[0m \u001b[0mraises\u001b[0m\u001b[1;33m.\u001b[0m\u001b[1;33m\u001b[0m\u001b[1;33m\u001b[0m\u001b[0m\n\u001b[0;32m    221\u001b[0m         \"\"\"\n\u001b[1;32m--> 222\u001b[1;33m         self.handles = get_handle(\n\u001b[0m\u001b[0;32m    223\u001b[0m             \u001b[0msrc\u001b[0m\u001b[1;33m,\u001b[0m\u001b[1;33m\u001b[0m\u001b[1;33m\u001b[0m\u001b[0m\n\u001b[0;32m    224\u001b[0m             \u001b[1;34m\"r\"\u001b[0m\u001b[1;33m,\u001b[0m\u001b[1;33m\u001b[0m\u001b[1;33m\u001b[0m\u001b[0m\n",
      "\u001b[1;32m~\\anaconda3\\lib\\site-packages\\pandas\\io\\common.py\u001b[0m in \u001b[0;36mget_handle\u001b[1;34m(path_or_buf, mode, encoding, compression, memory_map, is_text, errors, storage_options)\u001b[0m\n\u001b[0;32m    700\u001b[0m         \u001b[1;32mif\u001b[0m \u001b[0mioargs\u001b[0m\u001b[1;33m.\u001b[0m\u001b[0mencoding\u001b[0m \u001b[1;32mand\u001b[0m \u001b[1;34m\"b\"\u001b[0m \u001b[1;32mnot\u001b[0m \u001b[1;32min\u001b[0m \u001b[0mioargs\u001b[0m\u001b[1;33m.\u001b[0m\u001b[0mmode\u001b[0m\u001b[1;33m:\u001b[0m\u001b[1;33m\u001b[0m\u001b[1;33m\u001b[0m\u001b[0m\n\u001b[0;32m    701\u001b[0m             \u001b[1;31m# Encoding\u001b[0m\u001b[1;33m\u001b[0m\u001b[1;33m\u001b[0m\u001b[0m\n\u001b[1;32m--> 702\u001b[1;33m             handle = open(\n\u001b[0m\u001b[0;32m    703\u001b[0m                 \u001b[0mhandle\u001b[0m\u001b[1;33m,\u001b[0m\u001b[1;33m\u001b[0m\u001b[1;33m\u001b[0m\u001b[0m\n\u001b[0;32m    704\u001b[0m                 \u001b[0mioargs\u001b[0m\u001b[1;33m.\u001b[0m\u001b[0mmode\u001b[0m\u001b[1;33m,\u001b[0m\u001b[1;33m\u001b[0m\u001b[1;33m\u001b[0m\u001b[0m\n",
      "\u001b[1;31mFileNotFoundError\u001b[0m: [Errno 2] No such file or directory: '/media/minwooking/9C33-6BBD/WorkSpace/Jeju_Electric_Vehicle_analysis/data/느영나영전기차크롤링.csv'"
     ]
    }
   ],
   "source": [
    "df_cafe1 = pd.read_csv('/media/minwooking/9C33-6BBD/WorkSpace/Jeju_Electric_Vehicle_analysis/data/느영나영전기차크롤링.csv')"
   ]
  },
  {
   "cell_type": "code",
   "execution_count": 4,
   "metadata": {},
   "outputs": [],
   "source": [
    "df_cafe2 = pd.read_csv('/media/minwooking/9C33-6BBD/WorkSpace/Jeju_Electric_Vehicle_analysis/data/제사모전기차크롤링.csv')"
   ]
  },
  {
   "cell_type": "code",
   "execution_count": 8,
   "metadata": {},
   "outputs": [],
   "source": [
    "df_cafe3 = pd.read_excel('/media/minwooking/9C33-6BBD/WorkSpace/Jeju_Electric_Vehicle_analysis/data/본문 검색 결과_2022.03.06.xlsx')"
   ]
  },
  {
   "cell_type": "code",
   "execution_count": 23,
   "metadata": {},
   "outputs": [],
   "source": [
    "df_cafe4_comment = pd.read_excel('/media/minwooking/9C33-6BBD/WorkSpace/Jeju_Electric_Vehicle_analysis/data/전체본문의댓글결과_2022.03.06.xlsx')"
   ]
  },
  {
   "cell_type": "markdown",
   "metadata": {},
   "source": [
    "### pre"
   ]
  },
  {
   "cell_type": "code",
   "execution_count": 18,
   "metadata": {},
   "outputs": [
    {
     "data": {
      "text/plain": [
       "'▶ 아이오닉5 휠베이스 3000의 가치_x000D_\\n_x000D_\\n서비스센터 갔다오며 부품 수급 문제로 렌터카 받고 왔습니다. 그랜저IG 받았는데 전시차 시승했을 때도 공간이 엄청 넓어서 놀랐는데 오늘 렌터카로 받고 문득 든 생각이 휠베이스가 얼마일까 했는데 2885였더군요. 휠베이스 2885와 3000은 거의 코나에서 니로 탔을 때의 차이정도일 것 같은데 체감이 엄청 날것 같습니다. 10cm 별거 아니라고 하신 분 글도 봤는데 차량에서 특히 레그룸 10cm는 정말 24평 집에서 30평 집으로 이사 갔을 때의 느낌이 아닐까 개인적으로 생각해봅니다. 코나 형편없어서 현대차에 별 기대 안했던 사람도 휠베이스 3000은 그 자체로 엄청난 메리트일것 같다는 생각입니다. 모델y와 아이오닉5 비교하며 구매 생각하고 계신 님들 휠베이스 3000이 기대 이상의 만족감을 줄수도 있다는 점 고려해보세요. ota, 소재, 자율주행, 감성, 편의성 모든 면에서 모델y가 위라고 해도 휠베이스는 아이오닉5가 3000이고 모델y가 2890이라는 것 참고하세요. 더불어 모델X 2965보다도 아이오닉5가 휠베이스 넓습니다. ?'"
      ]
     },
     "execution_count": 18,
     "metadata": {},
     "output_type": "execute_result"
    }
   ],
   "source": [
    "df_cafe3.Contents[0]"
   ]
  },
  {
   "cell_type": "code",
   "execution_count": 22,
   "metadata": {},
   "outputs": [
    {
     "data": {
      "text/plain": [
       "0     지점이 없는 지역은 신청이 안 되는 걸로 되어 있는데요.. 이러면 지점이 없는 지역...\n",
       "1     담당 영맨한테 물어보니 서산은 롯데가능대수 1대라 이미 끝나서 진행안되고, 인천은 ...\n",
       "2                             2387만원 이게 진짜인가요?LT등급도 아니고\n",
       "3                                         창원 원츄합니다~~~^^\n",
       "4     타지역이랑 비교하면.. 신차 풀옵 2800정도에 사서 괜찮다 생각했었는데 서산 보니...\n",
       "5                                 전북도 보조금이 높아서 비슷한 가격..\n",
       "6                                        서산주민만 구매되나요?ㅋㅋ\n",
       "7                    그 영업사원 연럭처 부탁드려도 될까요? 친구놈 알려주게요 ㅎㅎ\n",
       "8                                      경기도 지역은 언재 될까요 ㅠ\n",
       "9                                          취소하시고 갈아 타시죠\n",
       "10                         와.. 내일 모레 출고인데 착잡해지는 가격이네요..\n",
       "11                   이건 영사 문제가 아니라 그냥 서산이라 가능한 듯 싶은데요..\n",
       "12         영업사원분 연락처 쪽지좀 부탁드려요. 저도 혹시 가능한지 견적 한번 받아볼려구요\n",
       "13                                                대박이네요\n",
       "14            돼요^^ 영업사원분이 그냥 뽑아두라고 전화까지 왔어요 전국최저가 맞다구..\n",
       "15                                        서산은 안되지 않나요??\n",
       "16         서산 무보증 30만원이에요... ㅋㅋ 볼트 있는데 하나 더 물타기 해야하나...\n",
       "17                                       헐~ 대란 맞네요감사합니다\n",
       "18                      48개월 기준 -350이네요36개월로 치면 -550입니다\n",
       "19           견적서 저도 좀 알려주세요. 저도 지역이 저기에 안 속해 있는 군산인데 ㅜㅜ\n",
       "20                                   인천은 1차랑 별반 차이가 없는듯\n",
       "21                      서산한번 보여드릴까요 충격적인 견적서 있어요... ㅎㅎㅎ\n",
       "22                                      인천이 아니라 서럽네요 ㅡㅡ\n",
       "23                                        다른 지역은 안하나요??\n",
       "24                                      와우... 가격이 너무 착해\n",
       "25                                      2차 보다 얼마나 좋은가요?\n",
       "26                                대란 맞네요 2차 탄 사람은 웁니다 ㅠ\n",
       "27                                           창원은 소식없나요?\n",
       "28                                         남양주는 안하나요???\n",
       "29                                              인천 최고네요\n",
       "30                                                  인천짱\n",
       "31                                      헉 이번에는 지역도 가리나요\n",
       "32                              우와 인천분들 구매 예정이셨다면 달리세요~\n",
       "33                                       채팅방 접속이 안되네요..\n",
       "34                                        수원은 언제 하나요 ㅠㅠ\n",
       "Name: 댓글, dtype: object"
      ]
     },
     "execution_count": 22,
     "metadata": {},
     "output_type": "execute_result"
    }
   ],
   "source": [
    "df_cafe4.댓글"
   ]
  },
  {
   "cell_type": "code",
   "execution_count": 15,
   "metadata": {},
   "outputs": [
    {
     "data": {
      "text/plain": [
       "'\\n\\n전기차나 하이브리브 생각중인데\\n하이브리드도 괜찬아요?\\n그리고 하이브리드중에 좀 큰차 뭐가 있을가요?\\n \\n삭제된 댓글입니다.\\n아마 렉서스 차 좋겠죠?\\nPhoto by 변치형님아 말이 필요없어요? ㅋㅋ\\n근데 이효리 타고 다니는 볼보 하이브리드가 더 좋긴하겠죠? 비싸서 그렇지\\nPhoto by 변치형님맞아요 하이브리드 기술은 렉서스가 앞설수도 있을거 같아요\\n저 아이오닉 하아브리드 쓰는데 괜찮아요..\\n\\n제주도 국민차\\n'"
      ]
     },
     "execution_count": 15,
     "metadata": {},
     "output_type": "execute_result"
    }
   ],
   "source": [
    "df_cafe1.내용[901]"
   ]
  },
  {
   "cell_type": "code",
   "execution_count": 18,
   "metadata": {},
   "outputs": [
    {
     "data": {
      "text/plain": [
       "['',\n",
       " '',\n",
       " '매일 택시타고 마실나가던 제가 결국 지르고 말았습니다! 킥보드! 차도아닌 !',\n",
       " '',\n",
       " '최근에 킥보드을 추천해달라고 해서 알게된 미니모터스가 제주도에서 A/S 가능하고 카페에서 알려주신 덕분에',\n",
       " '한림에서 버스타고 훌랄라~',\n",
       " '날시 참 좋다 하면서~',\n",
       " '도착해 처음 보는 전동 킥보드 저에게는 아직 전기차도 전기자전거도 익숙하지 안은데~ 지름지름 하하하',\n",
       " '노형에서 한림까지 오다가 방전... 택시타고 모셔왔네요 내일 한번더 타고 놀아야겠아요~',\n",
       " '',\n",
       " 'ps. 같이 라이딩가실분 모셔요!',\n",
       " '멋지네요^^안라하세요~~~',\n",
       " '손!ㅋ 번개치시면 즉참요ㅋ',\n",
       " '자전거랑 속도가.. 제가 느릴지도~',\n",
       " '한림에봄향기날때저 전동휠도 있어욤ㅋㅋ',\n",
       " '그거 약 큰거한장 짜리죠?',\n",
       " '2장 하고 몇개 더군요 ㅠㅠ',\n",
       " '방전되서 택시타고에 한참을',\n",
       " '웃었네요 ㅋㅋㅋㅋ',\n",
       " '처음부터 방전되고 그놈 참 까칠하네요ㅎ',\n",
       " '근데 멋지네요..',\n",
       " '이녀석이 처음부터 저에게 굴욕을 줬어요',\n",
       " '속도도 60~70은 그냥 나오겠네요',\n",
       " '고속모드면 65 까지만 나와요',\n",
       " '보호장비 챙기는거 잊지마시고 안운하세요~~제때 밥도 잘 주시고~~^^',\n",
       " '네 12시간이상 밥을 먹여야 되서 놀라고있어요',\n",
       " '요고 재밌죠 저도 구매해서 근거리는 자주 타고 다녀요~안전운전 하세용',\n",
       " '나중에 같이 라이딩 가시조~',\n",
       " '한번 타보고 싶네요.',\n",
       " '싼건 40정도해요~',\n",
       " '나뭇가지에 다 걸리시는 거 아니에요? ㅋㅋㅋㅋ',\n",
       " '맞아요 ㅎㅎㅎ 저 어제 몇번을 맞았어요',\n",
       " '오. 듀얼트론',\n",
       " '멋지네요',\n",
       " '전 울트라사려고 기다리다 결국 스쿠터로 ... ㅎ',\n",
       " '항상 안전운행하세요',\n",
       " '앗 안전운전 하겠습니다~',\n",
       " '']"
      ]
     },
     "execution_count": 18,
     "metadata": {},
     "output_type": "execute_result"
    }
   ],
   "source": [
    "df_cafe1.내용[902].split('\\n')"
   ]
  },
  {
   "cell_type": "code",
   "execution_count": 19,
   "metadata": {},
   "outputs": [
    {
     "data": {
      "text/html": [
       "<div>\n",
       "<style scoped>\n",
       "    .dataframe tbody tr th:only-of-type {\n",
       "        vertical-align: middle;\n",
       "    }\n",
       "\n",
       "    .dataframe tbody tr th {\n",
       "        vertical-align: top;\n",
       "    }\n",
       "\n",
       "    .dataframe thead th {\n",
       "        text-align: right;\n",
       "    }\n",
       "</style>\n",
       "<table border=\"1\" class=\"dataframe\">\n",
       "  <thead>\n",
       "    <tr style=\"text-align: right;\">\n",
       "      <th></th>\n",
       "      <th>제목</th>\n",
       "      <th>내용</th>\n",
       "      <th>주소</th>\n",
       "    </tr>\n",
       "  </thead>\n",
       "  <tbody>\n",
       "    <tr>\n",
       "      <th>0</th>\n",
       "      <td>전기차 신차급</td>\n",
       "      <td>\\n\\n판매 전기차 신차급\\n\\n\\n\\n\\n\\n\\n\\n\\n\\n본인인증 완료\\n카페 ...</td>\n",
       "      <td>https://cafe.naver.com/ca-fe/ArticleRead.nhn?c...</td>\n",
       "    </tr>\n",
       "    <tr>\n",
       "      <th>1</th>\n",
       "      <td>우도전기차에서 직원 모십니다</td>\n",
       "      <td>\\n\\n📢 '최저임금'은 임금의 최저수준을 정하고, 사용자에게 이 수준 이상의 임금...</td>\n",
       "      <td>https://cafe.naver.com/ca-fe/ArticleRead.nhn?c...</td>\n",
       "    </tr>\n",
       "    <tr>\n",
       "      <th>2</th>\n",
       "      <td>더 뉴 아이오닉 일렉트릭N 20년형 흰색7만 현대스마트센스 l추가 완전무사고/믿고사...</td>\n",
       "      <td>\\n\\n판매 더 뉴 아이오닉 일렉트릭N 20년형 흰색7만 현대스마트센스 l추가 완전...</td>\n",
       "      <td>https://cafe.naver.com/ca-fe/ArticleRead.nhn?c...</td>\n",
       "    </tr>\n",
       "    <tr>\n",
       "      <th>3</th>\n",
       "      <td>제주도 우도에서 직원모십니다</td>\n",
       "      <td>\\n\\n📢 '최저임금'은 임금의 최저수준을 정하고, 사용자에게 이 수준 이상의 임금...</td>\n",
       "      <td>https://cafe.naver.com/ca-fe/ArticleRead.nhn?c...</td>\n",
       "    </tr>\n",
       "    <tr>\n",
       "      <th>4</th>\n",
       "      <td>제주공항 전기차 주차요금..</td>\n",
       "      <td>\\n\\n제주공항 전기차 주차요금은 어특해될까요?\\n소형.대형은 알겠는데여.\\n아이오...</td>\n",
       "      <td>https://cafe.naver.com/ca-fe/ArticleRead.nhn?c...</td>\n",
       "    </tr>\n",
       "    <tr>\n",
       "      <th>...</th>\n",
       "      <td>...</td>\n",
       "      <td>...</td>\n",
       "      <td>...</td>\n",
       "    </tr>\n",
       "    <tr>\n",
       "      <th>996</th>\n",
       "      <td>잘잘특공대~~~~</td>\n",
       "      <td>\\n\\nJIBS 방송국...잘잘특공대인가..\\n요즘 뭐 시장을 돌면서 하는 프로그램...</td>\n",
       "      <td>https://cafe.naver.com/ca-fe/ArticleRead.nhn?c...</td>\n",
       "    </tr>\n",
       "    <tr>\n",
       "      <th>997</th>\n",
       "      <td>잘잘특공대~~~~</td>\n",
       "      <td>카페스탭 등급이 되시면 읽기가 가능한 게시판 입니다.\\n현재 휘날리는 휘휘님은 정회...</td>\n",
       "      <td>https://cafe.naver.com/ca-fe/ArticleRead.nhn?c...</td>\n",
       "    </tr>\n",
       "    <tr>\n",
       "      <th>998</th>\n",
       "      <td>전기차~~~</td>\n",
       "      <td>\\n\\n\\n \\n아주 아담한 전기차~~~~\\n헛..어디 김녕에서 찍은건가요? 어디서...</td>\n",
       "      <td>https://cafe.naver.com/ca-fe/ArticleRead.nhn?c...</td>\n",
       "    </tr>\n",
       "    <tr>\n",
       "      <th>999</th>\n",
       "      <td>전기차~~~</td>\n",
       "      <td>카페스탭 등급이 되시면 읽기가 가능한 게시판 입니다.\\n현재 휘날리는 휘휘님은 정회...</td>\n",
       "      <td>https://cafe.naver.com/ca-fe/ArticleRead.nhn?c...</td>\n",
       "    </tr>\n",
       "    <tr>\n",
       "      <th>1000</th>\n",
       "      <td>고민하다가~~~</td>\n",
       "      <td>\\n\\n이번에 스마트그리드에 사용하는 전기차와\\n1인용이에요??ㅎㅎ\\n오왕~~~~~...</td>\n",
       "      <td>https://cafe.naver.com/ca-fe/ArticleRead.nhn?c...</td>\n",
       "    </tr>\n",
       "  </tbody>\n",
       "</table>\n",
       "<p>1001 rows × 3 columns</p>\n",
       "</div>"
      ],
      "text/plain": [
       "                                                     제목  \\\n",
       "0                                               전기차 신차급   \n",
       "1                                       우도전기차에서 직원 모십니다   \n",
       "2     더 뉴 아이오닉 일렉트릭N 20년형 흰색7만 현대스마트센스 l추가 완전무사고/믿고사...   \n",
       "3                                       제주도 우도에서 직원모십니다   \n",
       "4                                       제주공항 전기차 주차요금..   \n",
       "...                                                 ...   \n",
       "996                                           잘잘특공대~~~~   \n",
       "997                                           잘잘특공대~~~~   \n",
       "998                                              전기차~~~   \n",
       "999                                              전기차~~~   \n",
       "1000                                           고민하다가~~~   \n",
       "\n",
       "                                                     내용  \\\n",
       "0     \\n\\n판매 전기차 신차급\\n\\n\\n\\n\\n\\n\\n\\n\\n\\n본인인증 완료\\n카페 ...   \n",
       "1     \\n\\n📢 '최저임금'은 임금의 최저수준을 정하고, 사용자에게 이 수준 이상의 임금...   \n",
       "2     \\n\\n판매 더 뉴 아이오닉 일렉트릭N 20년형 흰색7만 현대스마트센스 l추가 완전...   \n",
       "3     \\n\\n📢 '최저임금'은 임금의 최저수준을 정하고, 사용자에게 이 수준 이상의 임금...   \n",
       "4     \\n\\n제주공항 전기차 주차요금은 어특해될까요?\\n소형.대형은 알겠는데여.\\n아이오...   \n",
       "...                                                 ...   \n",
       "996   \\n\\nJIBS 방송국...잘잘특공대인가..\\n요즘 뭐 시장을 돌면서 하는 프로그램...   \n",
       "997   카페스탭 등급이 되시면 읽기가 가능한 게시판 입니다.\\n현재 휘날리는 휘휘님은 정회...   \n",
       "998   \\n\\n\\n \\n아주 아담한 전기차~~~~\\n헛..어디 김녕에서 찍은건가요? 어디서...   \n",
       "999   카페스탭 등급이 되시면 읽기가 가능한 게시판 입니다.\\n현재 휘날리는 휘휘님은 정회...   \n",
       "1000  \\n\\n이번에 스마트그리드에 사용하는 전기차와\\n1인용이에요??ㅎㅎ\\n오왕~~~~~...   \n",
       "\n",
       "                                                     주소  \n",
       "0     https://cafe.naver.com/ca-fe/ArticleRead.nhn?c...  \n",
       "1     https://cafe.naver.com/ca-fe/ArticleRead.nhn?c...  \n",
       "2     https://cafe.naver.com/ca-fe/ArticleRead.nhn?c...  \n",
       "3     https://cafe.naver.com/ca-fe/ArticleRead.nhn?c...  \n",
       "4     https://cafe.naver.com/ca-fe/ArticleRead.nhn?c...  \n",
       "...                                                 ...  \n",
       "996   https://cafe.naver.com/ca-fe/ArticleRead.nhn?c...  \n",
       "997   https://cafe.naver.com/ca-fe/ArticleRead.nhn?c...  \n",
       "998   https://cafe.naver.com/ca-fe/ArticleRead.nhn?c...  \n",
       "999   https://cafe.naver.com/ca-fe/ArticleRead.nhn?c...  \n",
       "1000  https://cafe.naver.com/ca-fe/ArticleRead.nhn?c...  \n",
       "\n",
       "[1001 rows x 3 columns]"
      ]
     },
     "execution_count": 19,
     "metadata": {},
     "output_type": "execute_result"
    }
   ],
   "source": [
    "df_cafe1"
   ]
  },
  {
   "cell_type": "code",
   "execution_count": null,
   "metadata": {},
   "outputs": [],
   "source": []
  }
 ],
 "metadata": {
  "interpreter": {
   "hash": "916dbcbb3f70747c44a77c7bcd40155683ae19c65e1c03b4aa3499c5328201f1"
  },
  "kernelspec": {
   "display_name": "Python 3.8.10 64-bit",
   "language": "python",
   "name": "python3"
  },
  "language_info": {
   "codemirror_mode": {
    "name": "ipython",
    "version": 3
   },
   "file_extension": ".py",
   "mimetype": "text/x-python",
   "name": "python",
   "nbconvert_exporter": "python",
   "pygments_lexer": "ipython3",
   "version": "3.9.7"
  },
  "orig_nbformat": 4
 },
 "nbformat": 4,
 "nbformat_minor": 2
}
