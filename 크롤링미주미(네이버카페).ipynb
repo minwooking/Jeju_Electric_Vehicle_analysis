{
 "cells": [
  {
   "cell_type": "markdown",
   "metadata": {},
   "source": [
    "## Uselib"
   ]
  },
  {
   "cell_type": "code",
   "execution_count": null,
   "metadata": {},
   "outputs": [],
   "source": [
    "# !pip install pyperclip"
   ]
  },
  {
   "cell_type": "code",
   "execution_count": 1,
   "metadata": {},
   "outputs": [],
   "source": [
    "from selenium import webdriver\n",
    "import time\n",
    "import pandas as pd\n",
    "from urllib.parse import quote\n",
    "from selenium.webdriver.common.keys import Keys\n",
    "import time\n",
    "import pyperclip"
   ]
  },
  {
   "cell_type": "markdown",
   "metadata": {},
   "source": [
    "### driver.open"
   ]
  },
  {
   "cell_type": "code",
   "execution_count": 2,
   "metadata": {},
   "outputs": [],
   "source": [
    "driver = webdriver.Chrome('G:\\WorkSpace\\Jeju_Electric_Vehicle_analysis\\chromedriver.exe')\n",
    "time.sleep(1)"
   ]
  },
  {
   "cell_type": "markdown",
   "metadata": {},
   "source": [
    "### 아이디 로그인 방법1 막힘"
   ]
  },
  {
   "cell_type": "code",
   "execution_count": 365,
   "metadata": {},
   "outputs": [],
   "source": [
    "driver.get('https://nid.naver.com/nidlogin.login')\n",
    "time.sleep(2)\n",
    "uid = 'id'\n",
    "upw = 'pw'\n",
    "tag_id = driver.find_element_by_name('id') \n",
    "tag_pw = driver.find_element_by_name('pw') \n",
    "tag_id.click()\n",
    "pyperclip.copy(uid)\n",
    "tag_id.send_keys(Keys.CONTROL, 'v')\n",
    "time.sleep(1) \n",
    "tag_pw.click() \n",
    "pyperclip.copy(upw)\n",
    "tag_pw.send_keys(Keys.CONTROL, 'v') \n",
    "time.sleep(1) \n",
    "#로그인 버튼 클릭\n",
    "login_btn = driver.find_element_by_id('log.login')\n",
    "login_btn.click() \n",
    "time.sleep(2)\n"
   ]
  },
  {
   "cell_type": "markdown",
   "metadata": {},
   "source": [
    "### 아이디 로그인 방법2 막힘"
   ]
  },
  {
   "cell_type": "code",
   "execution_count": null,
   "metadata": {},
   "outputs": [],
   "source": [
    "# driver.get('https://cafe.naver.com/likeusstock')\n",
    "driver.get('https://nid.naver.com/nidlogin.login')\n",
    "driver.find_element_by_name('id').send_keys('아이디입력')\n",
    "driver.find_element_by_name('pw').send_keys('비밀번호입력')\n",
    "driver.find_element_by_css_selector('#log\\.login').click()"
   ]
  },
  {
   "cell_type": "markdown",
   "metadata": {},
   "source": [
    "### driver.close"
   ]
  },
  {
   "cell_type": "code",
   "execution_count": null,
   "metadata": {},
   "outputs": [],
   "source": [
    "driver.close()"
   ]
  },
  {
   "cell_type": "markdown",
   "metadata": {},
   "source": [
    "## 게시물 내용 크롤링"
   ]
  },
  {
   "cell_type": "markdown",
   "metadata": {},
   "source": [
    "### 세팅"
   ]
  },
  {
   "cell_type": "code",
   "execution_count": 3,
   "metadata": {},
   "outputs": [],
   "source": [
    "driver.get('https://nid.naver.com/nidlogin.login')\n",
    "number = list(range(603950,604000))\n",
    "addres = []\n",
    "titles = []\n",
    "contentss = []"
   ]
  },
  {
   "cell_type": "markdown",
   "metadata": {},
   "source": [
    "### 알고리즘"
   ]
  },
  {
   "cell_type": "code",
   "execution_count": 4,
   "metadata": {},
   "outputs": [
    {
     "name": "stderr",
     "output_type": "stream",
     "text": [
      "C:\\Users\\alsdn\\AppData\\Local\\Temp/ipykernel_20592/3722827565.py:11: DeprecationWarning: use driver.switch_to.frame instead\n",
      "  driver.switch_to_frame('cafe_main')\n"
     ]
    }
   ],
   "source": [
    "for i in number:\n",
    "    try:\n",
    "        url = f'https://cafe.naver.com/ArticleRead.nhn?clubid=28497937&page=1&boardtype=L&articleid={i}&referrerAllArticles=true'\n",
    "        driver.get(url)\n",
    "        time.sleep(2)\n",
    "        try: \n",
    "            if driver.find_element_by_class_name(\"nodata\").text == '삭제되었거나 없는 게시글입니다.':\n",
    "                break\n",
    "        except:\n",
    "            pass\n",
    "        driver.switch_to_frame('cafe_main')\n",
    "        title =driver.find_element_by_class_name(\"title_text\").text\n",
    "        contents =driver.find_elements_by_xpath('/html/body/div/div/div/div[2]/div[2]/div[1]/div[2]/div[1]/div/div/div/div/div/div/p')\n",
    "        content = ''\n",
    "        for i,item in enumerate(contents):\n",
    "            content += contents[i].text+'\\n'\n",
    "        titles.append(title)\n",
    "        contentss.append(content)    \n",
    "        addres.append(url)\n",
    "    except:\n",
    "        pass"
   ]
  },
  {
   "cell_type": "code",
   "execution_count": 1,
   "metadata": {},
   "outputs": [
    {
     "ename": "NameError",
     "evalue": "name 'pd' is not defined",
     "output_type": "error",
     "traceback": [
      "\u001b[1;31m---------------------------------------------------------------------------\u001b[0m",
      "\u001b[1;31mNameError\u001b[0m                                 Traceback (most recent call last)",
      "\u001b[1;32m~\\AppData\\Local\\Temp/ipykernel_21644/3509102207.py\u001b[0m in \u001b[0;36m<module>\u001b[1;34m\u001b[0m\n\u001b[1;32m----> 1\u001b[1;33m \u001b[0mdf\u001b[0m\u001b[1;33m=\u001b[0m\u001b[0mpd\u001b[0m\u001b[1;33m.\u001b[0m\u001b[0mDataFrame\u001b[0m\u001b[1;33m(\u001b[0m\u001b[1;33m{\u001b[0m\u001b[1;34m\"제목\"\u001b[0m\u001b[1;33m:\u001b[0m\u001b[0mtitles\u001b[0m \u001b[1;33m,\u001b[0m\u001b[1;34m\"내용\"\u001b[0m\u001b[1;33m:\u001b[0m\u001b[0mcontentss\u001b[0m\u001b[1;33m,\u001b[0m\u001b[1;34m'addres'\u001b[0m\u001b[1;33m:\u001b[0m\u001b[0murl\u001b[0m\u001b[1;33m}\u001b[0m\u001b[1;33m)\u001b[0m\u001b[1;33m\u001b[0m\u001b[1;33m\u001b[0m\u001b[0m\n\u001b[0m\u001b[0;32m      2\u001b[0m \u001b[0mdf\u001b[0m\u001b[1;33m.\u001b[0m\u001b[0mhead\u001b[0m\u001b[1;33m(\u001b[0m\u001b[1;36m3\u001b[0m\u001b[1;33m)\u001b[0m\u001b[1;33m\u001b[0m\u001b[1;33m\u001b[0m\u001b[0m\n\u001b[0;32m      3\u001b[0m \u001b[0mdf\u001b[0m\u001b[1;33m.\u001b[0m\u001b[0mto_csv\u001b[0m\u001b[1;33m(\u001b[0m\u001b[1;34m'크롤링_미주미.csv'\u001b[0m\u001b[1;33m,\u001b[0m\u001b[0mindex\u001b[0m\u001b[1;33m=\u001b[0m\u001b[1;32mFalse\u001b[0m\u001b[1;33m)\u001b[0m\u001b[1;33m\u001b[0m\u001b[1;33m\u001b[0m\u001b[0m\n",
      "\u001b[1;31mNameError\u001b[0m: name 'pd' is not defined"
     ]
    }
   ],
   "source": [
    "df=pd.DataFrame({\"제목\":titles ,\"내용\":contentss,'addres':url})\n",
    "df.head(3)\n",
    "df.to_csv('크롤링_미주미.csv',index=False)"
   ]
  },
  {
   "cell_type": "markdown",
   "metadata": {},
   "source": [
    "### WordCloud"
   ]
  },
  {
   "cell_type": "code",
   "execution_count": null,
   "metadata": {},
   "outputs": [],
   "source": []
  }
 ],
 "metadata": {
  "interpreter": {
   "hash": "982c78d920726c4e066517e5f806c5a92239fdf1e257c5744bcc49f815c4d4bb"
  },
  "kernelspec": {
   "display_name": "Python 3.9.7 ('base')",
   "language": "python",
   "name": "python3"
  },
  "language_info": {
   "codemirror_mode": {
    "name": "ipython",
    "version": 3
   },
   "file_extension": ".py",
   "mimetype": "text/x-python",
   "name": "python",
   "nbconvert_exporter": "python",
   "pygments_lexer": "ipython3",
   "version": "3.9.7"
  },
  "orig_nbformat": 4
 },
 "nbformat": 4,
 "nbformat_minor": 2
}
