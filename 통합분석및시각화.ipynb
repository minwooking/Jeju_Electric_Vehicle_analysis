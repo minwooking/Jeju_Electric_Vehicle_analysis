{
 "cells": [
  {
   "cell_type": "code",
   "execution_count": 1,
   "id": "595eba73-a979-4d52-941d-f40c1cf465f6",
   "metadata": {
    "execution": {
     "iopub.execute_input": "2022-03-26T09:02:56.649425Z",
     "iopub.status.busy": "2022-03-26T09:02:56.648855Z",
     "iopub.status.idle": "2022-03-26T09:02:57.041982Z",
     "shell.execute_reply": "2022-03-26T09:02:57.041258Z",
     "shell.execute_reply.started": "2022-03-26T09:02:56.649258Z"
    },
    "tags": []
   },
   "outputs": [],
   "source": [
    "import numpy as np\n",
    "import pandas as pd\n",
    "import matplotlib.pyplot as plt\n",
    "import os\n",
    "import copy"
   ]
  },
  {
   "cell_type": "code",
   "execution_count": 2,
   "id": "3c1eccfb-b258-4c01-b8ca-7fab9b4d33d3",
   "metadata": {
    "execution": {
     "iopub.execute_input": "2022-03-26T09:03:08.659233Z",
     "iopub.status.busy": "2022-03-26T09:03:08.658823Z",
     "iopub.status.idle": "2022-03-26T09:03:09.355709Z",
     "shell.execute_reply": "2022-03-26T09:03:09.354019Z",
     "shell.execute_reply.started": "2022-03-26T09:03:08.659192Z"
    },
    "tags": []
   },
   "outputs": [
    {
     "name": "stdout",
     "output_type": "stream",
     "text": [
      "/home/miwoos/WorkSpace/GoogleDrive/제주_전기차/data\n"
     ]
    }
   ],
   "source": [
    "cd ~/WorkSpace/GoogleDrive/제주_전기차/data"
   ]
  },
  {
   "cell_type": "code",
   "execution_count": 3,
   "id": "723d5f17-36fb-4c90-9541-43fcb8c31f48",
   "metadata": {
    "execution": {
     "iopub.execute_input": "2022-03-26T09:03:11.282276Z",
     "iopub.status.busy": "2022-03-26T09:03:11.281826Z",
     "iopub.status.idle": "2022-03-26T09:03:11.412231Z",
     "shell.execute_reply": "2022-03-26T09:03:11.410539Z",
     "shell.execute_reply.started": "2022-03-26T09:03:11.282201Z"
    },
    "tags": []
   },
   "outputs": [
    {
     "name": "stdout",
     "output_type": "stream",
     "text": [
      " 0326전기차수집내용다합침.csv      블로그전기차문장.csv\n",
      " CFI전기차보도자료.csv             블로그제사모느영나영전기차동호회merge.csv\n",
      " best_model.h5                     \u001b[0m\u001b[01;35m빈도수파악.png\u001b[0m\n",
      " cafe댓글추출후분석.csv            인스타전기차.csv\n",
      " df_cafe_commet_merge.csv          인스타전기차충전소.csv\n",
      " \u001b[01;35melc_usewordcloud.png\u001b[0m             '전기차 동호회 전기차크롤링.csv'\n",
      " elecafe.csv                       전기차_전처리및토큰화.csv\n",
      " lr.pkl                           '전기차감성분석(0325).csv'\n",
      " lrc.pkl                           전기차감성분석.csv\n",
      " \u001b[01;34mmodel\u001b[0m/                            전기차관련검색어인기순.csv\n",
      " tvect.pkl                         전기차관심도지역.csv\n",
      " 감성사전분석.csv                  전기차관심증가.csv\n",
      " 관련키워드.csv                    전기차전처리추가.csv\n",
      " 네이버-제주전기차후기통합.csv     전기차키워드관련주제인기순.csv\n",
      " 네이버블로그감성분석비교.csv      전체본문의댓글결과_2022.03.06.xlsx\n",
      " 느영나영전기차크롤링.csv          제사모크롤링.csv\n",
      " 느영나영전기차크롤링.csv.part     카페통합감성추가.csv\n",
      "'본문 검색 결과_2022.03.06.xlsx'   투플럭스sjeju.csv\n"
     ]
    }
   ],
   "source": [
    "ls"
   ]
  },
  {
   "cell_type": "code",
   "execution_count": 4,
   "id": "2008298b-8723-4ffd-9fe0-fb801d78ea81",
   "metadata": {
    "execution": {
     "iopub.execute_input": "2022-03-26T09:03:14.099287Z",
     "iopub.status.busy": "2022-03-26T09:03:14.099066Z",
     "iopub.status.idle": "2022-03-26T09:03:17.318745Z",
     "shell.execute_reply": "2022-03-26T09:03:17.318054Z",
     "shell.execute_reply.started": "2022-03-26T09:03:14.099254Z"
    },
    "tags": []
   },
   "outputs": [],
   "source": [
    "df = pd.read_csv('0326전기차수집내용다합침.csv')"
   ]
  },
  {
   "cell_type": "code",
   "execution_count": 5,
   "id": "d66f8185-50c6-48ea-9b82-1ae93c018f9b",
   "metadata": {
    "execution": {
     "iopub.execute_input": "2022-03-26T09:03:17.319940Z",
     "iopub.status.busy": "2022-03-26T09:03:17.319787Z",
     "iopub.status.idle": "2022-03-26T09:03:17.341938Z",
     "shell.execute_reply": "2022-03-26T09:03:17.341538Z",
     "shell.execute_reply.started": "2022-03-26T09:03:17.319927Z"
    },
    "tags": []
   },
   "outputs": [
    {
     "data": {
      "text/plain": [
       "전기차동호회(투플럭스)    394778\n",
       "네이버블로그            8719\n",
       "느영나영              4932\n",
       "전기차동호회            4435\n",
       "제사모               1295\n",
       "Name: 카페명, dtype: int64"
      ]
     },
     "execution_count": 5,
     "metadata": {},
     "output_type": "execute_result"
    }
   ],
   "source": [
    "df.카페명.value_counts()"
   ]
  },
  {
   "cell_type": "code",
   "execution_count": null,
   "id": "1ed00bb3-be3f-48d6-8b79-92eb4c075d86",
   "metadata": {},
   "outputs": [],
   "source": []
  }
 ],
 "metadata": {
  "kernelspec": {
   "display_name": "Python 3 (ipykernel)",
   "language": "python",
   "name": "python3"
  },
  "language_info": {
   "codemirror_mode": {
    "name": "ipython",
    "version": 3
   },
   "file_extension": ".py",
   "mimetype": "text/x-python",
   "name": "python",
   "nbconvert_exporter": "python",
   "pygments_lexer": "ipython3",
   "version": "3.9.7"
  }
 },
 "nbformat": 4,
 "nbformat_minor": 5
}
