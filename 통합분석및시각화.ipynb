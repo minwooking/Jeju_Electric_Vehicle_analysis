{
 "cells": [
  {
   "cell_type": "code",
   "execution_count": 126,
   "id": "595eba73-a979-4d52-941d-f40c1cf465f6",
   "metadata": {
    "execution": {
     "iopub.execute_input": "2022-03-26T10:23:36.149013Z",
     "iopub.status.busy": "2022-03-26T10:23:36.148435Z",
     "iopub.status.idle": "2022-03-26T10:23:36.161357Z",
     "shell.execute_reply": "2022-03-26T10:23:36.160946Z",
     "shell.execute_reply.started": "2022-03-26T10:23:36.148952Z"
    },
    "tags": []
   },
   "outputs": [],
   "source": [
    "import numpy as np\n",
    "import pandas as pd\n",
    "import matplotlib.pyplot as plt\n",
    "import os\n",
    "import copy\n",
    "from  tqdm import  tqdm"
   ]
  },
  {
   "cell_type": "code",
   "execution_count": 3,
   "id": "3c1eccfb-b258-4c01-b8ca-7fab9b4d33d3",
   "metadata": {
    "execution": {
     "iopub.execute_input": "2022-03-26T09:03:08.659233Z",
     "iopub.status.busy": "2022-03-26T09:03:08.658823Z",
     "iopub.status.idle": "2022-03-26T09:03:09.355709Z",
     "shell.execute_reply": "2022-03-26T09:03:09.354019Z",
     "shell.execute_reply.started": "2022-03-26T09:03:08.659192Z"
    },
    "tags": []
   },
   "outputs": [
    {
     "name": "stdout",
     "output_type": "stream",
     "text": [
      "/home/miwoos/WorkSpace/GoogleDrive/제주_전기차/data\n"
     ]
    }
   ],
   "source": [
    "cd ~/WorkSpace/GoogleDrive/제주_전기차/data"
   ]
  },
  {
   "cell_type": "code",
   "execution_count": 4,
   "id": "723d5f17-36fb-4c90-9541-43fcb8c31f48",
   "metadata": {
    "execution": {
     "iopub.execute_input": "2022-03-26T09:03:11.282276Z",
     "iopub.status.busy": "2022-03-26T09:03:11.281826Z",
     "iopub.status.idle": "2022-03-26T09:03:11.412231Z",
     "shell.execute_reply": "2022-03-26T09:03:11.410539Z",
     "shell.execute_reply.started": "2022-03-26T09:03:11.282201Z"
    },
    "tags": []
   },
   "outputs": [
    {
     "name": "stdout",
     "output_type": "stream",
     "text": [
      " 0326전기차수집내용다합침.csv      블로그전기차문장.csv\n",
      " CFI전기차보도자료.csv             블로그제사모느영나영전기차동호회merge.csv\n",
      " best_model.h5                     \u001b[0m\u001b[01;35m빈도수파악.png\u001b[0m\n",
      " cafe댓글추출후분석.csv            인스타전기차.csv\n",
      " df_cafe_commet_merge.csv          인스타전기차충전소.csv\n",
      " \u001b[01;35melc_usewordcloud.png\u001b[0m             '전기차 동호회 전기차크롤링.csv'\n",
      " elecafe.csv                       전기차_전처리및토큰화.csv\n",
      " lr.pkl                           '전기차감성분석(0325).csv'\n",
      " lrc.pkl                           전기차감성분석.csv\n",
      " \u001b[01;34mmodel\u001b[0m/                            전기차관련검색어인기순.csv\n",
      " tvect.pkl                         전기차관심도지역.csv\n",
      " 감성사전분석.csv                  전기차관심증가.csv\n",
      " 관련키워드.csv                    전기차전처리추가.csv\n",
      " 네이버-제주전기차후기통합.csv     전기차키워드관련주제인기순.csv\n",
      " 네이버블로그감성분석비교.csv      전체본문의댓글결과_2022.03.06.xlsx\n",
      " 느영나영전기차크롤링.csv          제사모크롤링.csv\n",
      " 느영나영전기차크롤링.csv.part     카페통합감성추가.csv\n",
      "'본문 검색 결과_2022.03.06.xlsx'   투플럭스sjeju.csv\n"
     ]
    }
   ],
   "source": [
    "ls"
   ]
  },
  {
   "cell_type": "code",
   "execution_count": 5,
   "id": "2008298b-8723-4ffd-9fe0-fb801d78ea81",
   "metadata": {
    "execution": {
     "iopub.execute_input": "2022-03-26T09:03:14.099287Z",
     "iopub.status.busy": "2022-03-26T09:03:14.099066Z",
     "iopub.status.idle": "2022-03-26T09:03:17.318745Z",
     "shell.execute_reply": "2022-03-26T09:03:17.318054Z",
     "shell.execute_reply.started": "2022-03-26T09:03:14.099254Z"
    },
    "tags": []
   },
   "outputs": [],
   "source": [
    "df = pd.read_csv('0326전기차수집내용다합침.csv')"
   ]
  },
  {
   "cell_type": "code",
   "execution_count": 6,
   "id": "d66f8185-50c6-48ea-9b82-1ae93c018f9b",
   "metadata": {
    "execution": {
     "iopub.execute_input": "2022-03-26T09:03:17.319940Z",
     "iopub.status.busy": "2022-03-26T09:03:17.319787Z",
     "iopub.status.idle": "2022-03-26T09:03:17.341938Z",
     "shell.execute_reply": "2022-03-26T09:03:17.341538Z",
     "shell.execute_reply.started": "2022-03-26T09:03:17.319927Z"
    },
    "tags": []
   },
   "outputs": [
    {
     "data": {
      "text/plain": [
       "전기차동호회(투플럭스)    394778\n",
       "네이버블로그            8719\n",
       "느영나영              4932\n",
       "전기차동호회            4435\n",
       "제사모               1295\n",
       "Name: 카페명, dtype: int64"
      ]
     },
     "execution_count": 6,
     "metadata": {},
     "output_type": "execute_result"
    }
   ],
   "source": [
    "df.카페명.value_counts()"
   ]
  },
  {
   "cell_type": "code",
   "execution_count": 19,
   "id": "29748100",
   "metadata": {},
   "outputs": [
    {
     "data": {
      "text/html": [
       "<div>\n",
       "<style scoped>\n",
       "    .dataframe tbody tr th:only-of-type {\n",
       "        vertical-align: middle;\n",
       "    }\n",
       "\n",
       "    .dataframe tbody tr th {\n",
       "        vertical-align: top;\n",
       "    }\n",
       "\n",
       "    .dataframe thead th {\n",
       "        text-align: right;\n",
       "    }\n",
       "</style>\n",
       "<table border=\"1\" class=\"dataframe\">\n",
       "  <thead>\n",
       "    <tr style=\"text-align: right;\">\n",
       "      <th></th>\n",
       "      <th>제목</th>\n",
       "      <th>내용</th>\n",
       "      <th>유형</th>\n",
       "      <th>조회수</th>\n",
       "      <th>작성날짜</th>\n",
       "      <th>월별</th>\n",
       "      <th>카페명</th>\n",
       "      <th>년별</th>\n",
       "      <th>평가</th>\n",
       "    </tr>\n",
       "  </thead>\n",
       "  <tbody>\n",
       "    <tr>\n",
       "      <th>0</th>\n",
       "      <td>봉고3더블캡</td>\n",
       "      <td>보다 투명하고 빠른 거래를 위하여 아래의 글 양식을 준수하여 주세요   거래 지역...</td>\n",
       "      <td>제사모 중고장터</td>\n",
       "      <td>130</td>\n",
       "      <td>2022.03.16.</td>\n",
       "      <td>2022.03</td>\n",
       "      <td>제사모</td>\n",
       "      <td>2022</td>\n",
       "      <td>P</td>\n",
       "    </tr>\n",
       "    <tr>\n",
       "      <th>1</th>\n",
       "      <td>렌트카 알아보고 있는데 lpg 차량이 저렴한 이유가 뭘까요?</td>\n",
       "      <td>육지에서 이번주 토욜부터 제주 한달살이 시작하면서 렌트카 알아보고 있어요 육지에선 ...</td>\n",
       "      <td>Q. 종합 질문방</td>\n",
       "      <td>161</td>\n",
       "      <td>2022.03.16.</td>\n",
       "      <td>2022.03</td>\n",
       "      <td>제사모</td>\n",
       "      <td>2022</td>\n",
       "      <td>N</td>\n",
       "    </tr>\n",
       "  </tbody>\n",
       "</table>\n",
       "</div>"
      ],
      "text/plain": [
       "                                  제목  \\\n",
       "0                             봉고3더블캡   \n",
       "1  렌트카 알아보고 있는데 lpg 차량이 저렴한 이유가 뭘까요?   \n",
       "\n",
       "                                                  내용         유형  조회수  \\\n",
       "0   보다 투명하고 빠른 거래를 위하여 아래의 글 양식을 준수하여 주세요   거래 지역...   제사모 중고장터  130   \n",
       "1  육지에서 이번주 토욜부터 제주 한달살이 시작하면서 렌트카 알아보고 있어요 육지에선 ...  Q. 종합 질문방  161   \n",
       "\n",
       "          작성날짜       월별  카페명    년별 평가  \n",
       "0  2022.03.16.  2022.03  제사모  2022  P  \n",
       "1  2022.03.16.  2022.03  제사모  2022  N  "
      ]
     },
     "execution_count": 19,
     "metadata": {},
     "output_type": "execute_result"
    }
   ],
   "source": [
    "df.head(2)"
   ]
  },
  {
   "cell_type": "code",
   "execution_count": 27,
   "id": "4ab6cd10",
   "metadata": {},
   "outputs": [
    {
     "data": {
      "text/plain": [
       "array(['제사모', '느영나영', '전기차동호회', '네이버블로그', '전기차동호회(투플럭스)'], dtype=object)"
      ]
     },
     "execution_count": 27,
     "metadata": {},
     "output_type": "execute_result"
    }
   ],
   "source": [
    "df.카페명.unique()"
   ]
  },
  {
   "cell_type": "code",
   "execution_count": 7,
   "id": "1ed00bb3-be3f-48d6-8b79-92eb4c075d86",
   "metadata": {
    "execution": {
     "iopub.execute_input": "2022-03-26T09:31:38.298502Z",
     "iopub.status.busy": "2022-03-26T09:31:38.297987Z",
     "iopub.status.idle": "2022-03-26T09:31:39.177159Z",
     "shell.execute_reply": "2022-03-26T09:31:39.176619Z",
     "shell.execute_reply.started": "2022-03-26T09:31:38.298435Z"
    }
   },
   "outputs": [
    {
     "data": {
      "text/plain": [
       "<AxesSubplot:xlabel='년별'>"
      ]
     },
     "execution_count": 7,
     "metadata": {},
     "output_type": "execute_result"
    },
    {
     "name": "stderr",
     "output_type": "stream",
     "text": [
      "/home/miwoos/anaconda3/lib/python3.9/site-packages/matplotlib/backends/backend_agg.py:240: RuntimeWarning: Glyph 45380 missing from current font.\n",
      "  font.set_text(s, 0.0, flags=flags)\n",
      "/home/miwoos/anaconda3/lib/python3.9/site-packages/matplotlib/backends/backend_agg.py:240: RuntimeWarning: Glyph 48324 missing from current font.\n",
      "  font.set_text(s, 0.0, flags=flags)\n",
      "/home/miwoos/anaconda3/lib/python3.9/site-packages/matplotlib/backends/backend_agg.py:240: RuntimeWarning: Glyph 54217 missing from current font.\n",
      "  font.set_text(s, 0.0, flags=flags)\n",
      "/home/miwoos/anaconda3/lib/python3.9/site-packages/matplotlib/backends/backend_agg.py:240: RuntimeWarning: Glyph 44032 missing from current font.\n",
      "  font.set_text(s, 0.0, flags=flags)\n",
      "/home/miwoos/anaconda3/lib/python3.9/site-packages/matplotlib/backends/backend_agg.py:203: RuntimeWarning: Glyph 45380 missing from current font.\n",
      "  font.set_text(s, 0, flags=flags)\n",
      "/home/miwoos/anaconda3/lib/python3.9/site-packages/matplotlib/backends/backend_agg.py:203: RuntimeWarning: Glyph 48324 missing from current font.\n",
      "  font.set_text(s, 0, flags=flags)\n",
      "/home/miwoos/anaconda3/lib/python3.9/site-packages/matplotlib/backends/backend_agg.py:203: RuntimeWarning: Glyph 54217 missing from current font.\n",
      "  font.set_text(s, 0, flags=flags)\n",
      "/home/miwoos/anaconda3/lib/python3.9/site-packages/matplotlib/backends/backend_agg.py:203: RuntimeWarning: Glyph 44032 missing from current font.\n",
      "  font.set_text(s, 0, flags=flags)\n"
     ]
    },
    {
     "data": {
      "image/png": "[encoded data removed]",
      "text/plain": [
       "<Figure size 432x288 with 1 Axes>"
      ]
     },
     "metadata": {
      "needs_background": "light"
     },
     "output_type": "display_data"
    }
   ],
   "source": [
    "df[df.카페명=='제사모'].groupby([df.년별,df.평가]).내용.count().unstack().plot.bar()"
   ]
  },
  {
   "cell_type": "code",
   "execution_count": 100,
   "id": "10d74015-760f-4673-b6b8-96cd5b104f31",
   "metadata": {
    "collapsed": true,
    "execution": {
     "iopub.execute_input": "2022-03-26T10:14:22.663469Z",
     "iopub.status.busy": "2022-03-26T10:14:22.663322Z",
     "iopub.status.idle": "2022-03-26T10:15:22.375714Z",
     "shell.execute_reply": "2022-03-26T10:15:22.374586Z",
     "shell.execute_reply.started": "2022-03-26T10:14:22.663453Z"
    },
    "jupyter": {
     "outputs_hidden": true
    },
    "tags": []
   },
   "outputs": [
    {
     "ename": "KeyboardInterrupt",
     "evalue": "",
     "output_type": "error",
     "traceback": [
      "\u001b[0;31m---------------------------------------------------------------------------\u001b[0m",
      "\u001b[0;31mKeyboardInterrupt\u001b[0m                         Traceback (most recent call last)",
      "\u001b[0;32m/tmp/ipykernel_163365/2551127529.py\u001b[0m in \u001b[0;36m<module>\u001b[0;34m\u001b[0m\n\u001b[0;32m----> 1\u001b[0;31m \u001b[0;34m[\u001b[0m\u001b[0mdf\u001b[0m\u001b[0;34m.\u001b[0m\u001b[0m내용\u001b[0m\u001b[0;34m.\u001b[0m\u001b[0mvalue_counts\u001b[0m\u001b[0;34m(\u001b[0m\u001b[0;34m)\u001b[0m\u001b[0;34m[\u001b[0m\u001b[0mx\u001b[0m\u001b[0;34m]\u001b[0m \u001b[0;32mfor\u001b[0m \u001b[0mx\u001b[0m \u001b[0;32min\u001b[0m \u001b[0mdf\u001b[0m\u001b[0;34m.\u001b[0m\u001b[0m내용\u001b[0m\u001b[0;34m.\u001b[0m\u001b[0mvalue_counts\u001b[0m\u001b[0;34m(\u001b[0m\u001b[0;34m)\u001b[0m \u001b[0;32mif\u001b[0m \u001b[0mdf\u001b[0m\u001b[0;34m.\u001b[0m\u001b[0m내용\u001b[0m\u001b[0;34m.\u001b[0m\u001b[0mvalue_counts\u001b[0m\u001b[0;34m(\u001b[0m\u001b[0;34m)\u001b[0m\u001b[0;34m.\u001b[0m\u001b[0mvalues\u001b[0m\u001b[0;34m[\u001b[0m\u001b[0mx\u001b[0m\u001b[0;34m]\u001b[0m\u001b[0;34m>\u001b[0m\u001b[0;36m10\u001b[0m\u001b[0;34m]\u001b[0m\u001b[0;34m\u001b[0m\u001b[0;34m\u001b[0m\u001b[0m\n\u001b[0m",
      "\u001b[0;32m/tmp/ipykernel_163365/2551127529.py\u001b[0m in \u001b[0;36m<listcomp>\u001b[0;34m(.0)\u001b[0m\n\u001b[0;32m----> 1\u001b[0;31m \u001b[0;34m[\u001b[0m\u001b[0mdf\u001b[0m\u001b[0;34m.\u001b[0m\u001b[0m내용\u001b[0m\u001b[0;34m.\u001b[0m\u001b[0mvalue_counts\u001b[0m\u001b[0;34m(\u001b[0m\u001b[0;34m)\u001b[0m\u001b[0;34m[\u001b[0m\u001b[0mx\u001b[0m\u001b[0;34m]\u001b[0m \u001b[0;32mfor\u001b[0m \u001b[0mx\u001b[0m \u001b[0;32min\u001b[0m \u001b[0mdf\u001b[0m\u001b[0;34m.\u001b[0m\u001b[0m내용\u001b[0m\u001b[0;34m.\u001b[0m\u001b[0mvalue_counts\u001b[0m\u001b[0;34m(\u001b[0m\u001b[0;34m)\u001b[0m \u001b[0;32mif\u001b[0m \u001b[0mdf\u001b[0m\u001b[0;34m.\u001b[0m\u001b[0m내용\u001b[0m\u001b[0;34m.\u001b[0m\u001b[0mvalue_counts\u001b[0m\u001b[0;34m(\u001b[0m\u001b[0;34m)\u001b[0m\u001b[0;34m.\u001b[0m\u001b[0mvalues\u001b[0m\u001b[0;34m[\u001b[0m\u001b[0mx\u001b[0m\u001b[0;34m]\u001b[0m\u001b[0;34m>\u001b[0m\u001b[0;36m10\u001b[0m\u001b[0;34m]\u001b[0m\u001b[0;34m\u001b[0m\u001b[0;34m\u001b[0m\u001b[0m\n\u001b[0m",
      "\u001b[0;32m~/anaconda3/lib/python3.9/site-packages/pandas/core/base.py\u001b[0m in \u001b[0;36mvalue_counts\u001b[0;34m(self, normalize, sort, ascending, bins, dropna)\u001b[0m\n\u001b[1;32m    958\u001b[0m         \u001b[0mdtype\u001b[0m\u001b[0;34m:\u001b[0m \u001b[0mint64\u001b[0m\u001b[0;34m\u001b[0m\u001b[0;34m\u001b[0m\u001b[0m\n\u001b[1;32m    959\u001b[0m         \"\"\"\n\u001b[0;32m--> 960\u001b[0;31m         return value_counts(\n\u001b[0m\u001b[1;32m    961\u001b[0m             \u001b[0mself\u001b[0m\u001b[0;34m,\u001b[0m\u001b[0;34m\u001b[0m\u001b[0;34m\u001b[0m\u001b[0m\n\u001b[1;32m    962\u001b[0m             \u001b[0msort\u001b[0m\u001b[0;34m=\u001b[0m\u001b[0msort\u001b[0m\u001b[0;34m,\u001b[0m\u001b[0;34m\u001b[0m\u001b[0;34m\u001b[0m\u001b[0m\n",
      "\u001b[0;32m~/anaconda3/lib/python3.9/site-packages/pandas/core/algorithms.py\u001b[0m in \u001b[0;36mvalue_counts\u001b[0;34m(values, sort, ascending, normalize, bins, dropna)\u001b[0m\n\u001b[1;32m    860\u001b[0m \u001b[0;34m\u001b[0m\u001b[0m\n\u001b[1;32m    861\u001b[0m         \u001b[0;32melse\u001b[0m\u001b[0;34m:\u001b[0m\u001b[0;34m\u001b[0m\u001b[0;34m\u001b[0m\u001b[0m\n\u001b[0;32m--> 862\u001b[0;31m             \u001b[0mkeys\u001b[0m\u001b[0;34m,\u001b[0m \u001b[0mcounts\u001b[0m \u001b[0;34m=\u001b[0m \u001b[0mvalue_counts_arraylike\u001b[0m\u001b[0;34m(\u001b[0m\u001b[0mvalues\u001b[0m\u001b[0;34m,\u001b[0m \u001b[0mdropna\u001b[0m\u001b[0;34m)\u001b[0m\u001b[0;34m\u001b[0m\u001b[0;34m\u001b[0m\u001b[0m\n\u001b[0m\u001b[1;32m    863\u001b[0m \u001b[0;34m\u001b[0m\u001b[0m\n\u001b[1;32m    864\u001b[0m             \u001b[0mresult\u001b[0m \u001b[0;34m=\u001b[0m \u001b[0mSeries\u001b[0m\u001b[0;34m(\u001b[0m\u001b[0mcounts\u001b[0m\u001b[0;34m,\u001b[0m \u001b[0mindex\u001b[0m\u001b[0;34m=\u001b[0m\u001b[0mkeys\u001b[0m\u001b[0;34m,\u001b[0m \u001b[0mname\u001b[0m\u001b[0;34m=\u001b[0m\u001b[0mname\u001b[0m\u001b[0;34m)\u001b[0m\u001b[0;34m\u001b[0m\u001b[0;34m\u001b[0m\u001b[0m\n",
      "\u001b[0;32m~/anaconda3/lib/python3.9/site-packages/pandas/core/algorithms.py\u001b[0m in \u001b[0;36mvalue_counts_arraylike\u001b[0;34m(values, dropna)\u001b[0m\n\u001b[1;32m    891\u001b[0m \u001b[0;34m\u001b[0m\u001b[0m\n\u001b[1;32m    892\u001b[0m     \u001b[0;31m# TODO: handle uint8\u001b[0m\u001b[0;34m\u001b[0m\u001b[0;34m\u001b[0m\u001b[0m\n\u001b[0;32m--> 893\u001b[0;31m     \u001b[0mkeys\u001b[0m\u001b[0;34m,\u001b[0m \u001b[0mcounts\u001b[0m \u001b[0;34m=\u001b[0m \u001b[0mhtable\u001b[0m\u001b[0;34m.\u001b[0m\u001b[0mvalue_count\u001b[0m\u001b[0;34m(\u001b[0m\u001b[0mvalues\u001b[0m\u001b[0;34m,\u001b[0m \u001b[0mdropna\u001b[0m\u001b[0;34m)\u001b[0m\u001b[0;34m\u001b[0m\u001b[0;34m\u001b[0m\u001b[0m\n\u001b[0m\u001b[1;32m    894\u001b[0m \u001b[0;34m\u001b[0m\u001b[0m\n\u001b[1;32m    895\u001b[0m     \u001b[0;32mif\u001b[0m \u001b[0mneeds_i8_conversion\u001b[0m\u001b[0;34m(\u001b[0m\u001b[0moriginal\u001b[0m\u001b[0;34m.\u001b[0m\u001b[0mdtype\u001b[0m\u001b[0;34m)\u001b[0m\u001b[0;34m:\u001b[0m\u001b[0;34m\u001b[0m\u001b[0;34m\u001b[0m\u001b[0m\n",
      "\u001b[0;31mKeyboardInterrupt\u001b[0m: "
     ]
    }
   ],
   "source": [
    "[df.내용.value_counts()[x] for x in df.내용.value_counts() if df.내용.value_counts().values[x]>10]"
   ]
  },
  {
   "cell_type": "code",
   "execution_count": 209,
   "id": "4e927269-7b3f-49b3-a0d9-cfbe817f242b",
   "metadata": {
    "execution": {
     "iopub.execute_input": "2022-03-26T10:36:48.957232Z",
     "iopub.status.busy": "2022-03-26T10:36:48.956725Z",
     "iopub.status.idle": "2022-03-26T10:56:57.467701Z",
     "shell.execute_reply": "2022-03-26T10:56:57.466933Z",
     "shell.execute_reply.started": "2022-03-26T10:36:48.957148Z"
    },
    "tags": []
   },
   "outputs": [
    {
     "name": "stderr",
     "output_type": "stream",
     "text": [
      "  1%|▎                                 | 4174/397144 [20:08<31:35:48,  3.45it/s]"
     ]
    },
    {
     "name": "stdout",
     "output_type": "stream",
     "text": [
      "1\n"
     ]
    },
    {
     "name": "stderr",
     "output_type": "stream",
     "text": [
      "\n"
     ]
    }
   ],
   "source": [
    "for i in tqdm(range(len(df.내용.value_counts()))):\n",
    "    if df.내용.value_counts().values[i]<2:\n",
    "        print (i)\n",
    "        break"
   ]
  },
  {
   "cell_type": "code",
   "execution_count": 205,
   "id": "b2463370-ef02-4798-bba6-9b1ce347b28a",
   "metadata": {
    "execution": {
     "iopub.execute_input": "2022-03-26T10:36:06.079508Z",
     "iopub.status.busy": "2022-03-26T10:36:06.079063Z",
     "iopub.status.idle": "2022-03-26T10:36:06.414027Z",
     "shell.execute_reply": "2022-03-26T10:36:06.413351Z",
     "shell.execute_reply.started": "2022-03-26T10:36:06.079452Z"
    },
    "tags": []
   },
   "outputs": [
    {
     "data": {
      "text/plain": [
       "array([9, 9, 9, ..., 2, 2, 2])"
      ]
     },
     "execution_count": 205,
     "metadata": {},
     "output_type": "execute_result"
    }
   ],
   "source": [
    " df.내용.value_counts()[300:4173].values"
   ]
  },
  {
   "cell_type": "code",
   "execution_count": 184,
   "id": "45f0cbdb",
   "metadata": {
    "execution": {
     "iopub.execute_input": "2022-03-26T10:31:10.640983Z",
     "iopub.status.busy": "2022-03-26T10:31:10.640789Z",
     "iopub.status.idle": "2022-03-26T10:31:10.968630Z",
     "shell.execute_reply": "2022-03-26T10:31:10.967622Z",
     "shell.execute_reply.started": "2022-03-26T10:31:10.640955Z"
    },
    "tags": []
   },
   "outputs": [],
   "source": [
    "stopcontents =  df.내용.value_counts()[:4174].keys()"
   ]
  },
  {
   "cell_type": "code",
   "execution_count": 185,
   "id": "0e6bcbdf-4471-4204-83c0-65e515b6299c",
   "metadata": {
    "execution": {
     "iopub.execute_input": "2022-03-26T10:31:12.300038Z",
     "iopub.status.busy": "2022-03-26T10:31:12.299589Z",
     "iopub.status.idle": "2022-03-26T10:31:12.309907Z",
     "shell.execute_reply": "2022-03-26T10:31:12.309188Z",
     "shell.execute_reply.started": "2022-03-26T10:31:12.299997Z"
    },
    "tags": []
   },
   "outputs": [
    {
     "data": {
      "text/plain": [
       "4174"
      ]
     },
     "execution_count": 185,
     "metadata": {},
     "output_type": "execute_result"
    }
   ],
   "source": [
    "len(stopcontents)"
   ]
  },
  {
   "cell_type": "code",
   "execution_count": 181,
   "id": "516eaacb-60cf-4e7c-8b08-423350ec2934",
   "metadata": {
    "execution": {
     "iopub.execute_input": "2022-03-26T10:30:50.364629Z",
     "iopub.status.busy": "2022-03-26T10:30:50.364018Z",
     "iopub.status.idle": "2022-03-26T10:30:50.374535Z",
     "shell.execute_reply": "2022-03-26T10:30:50.373629Z",
     "shell.execute_reply.started": "2022-03-26T10:30:50.364549Z"
    },
    "tags": []
   },
   "outputs": [
    {
     "data": {
      "text/plain": [
       "'출석 하다 출석 하다'"
      ]
     },
     "execution_count": 181,
     "metadata": {},
     "output_type": "execute_result"
    }
   ],
   "source": [
    "stopcontents[0]"
   ]
  },
  {
   "cell_type": "code",
   "execution_count": 13,
   "id": "ab8d0670",
   "metadata": {
    "execution": {
     "iopub.execute_input": "2022-03-26T09:39:53.790110Z",
     "iopub.status.busy": "2022-03-26T09:39:53.789696Z",
     "iopub.status.idle": "2022-03-26T09:39:53.972792Z",
     "shell.execute_reply": "2022-03-26T09:39:53.971880Z",
     "shell.execute_reply.started": "2022-03-26T09:39:53.790051Z"
    },
    "tags": []
   },
   "outputs": [
    {
     "data": {
      "text/plain": [
       "0         False\n",
       "1         False\n",
       "2         False\n",
       "3         False\n",
       "4         False\n",
       "          ...  \n",
       "414154    False\n",
       "414155    False\n",
       "414156    False\n",
       "414157    False\n",
       "414158    False\n",
       "Name: 내용, Length: 414159, dtype: bool"
      ]
     },
     "execution_count": 13,
     "metadata": {},
     "output_type": "execute_result"
    }
   ],
   "source": [
    "df.내용.str.contains('출석 하다')"
   ]
  },
  {
   "cell_type": "code",
   "execution_count": 186,
   "id": "3ab45afb-0cee-48ee-9738-f8f6674be6b0",
   "metadata": {
    "execution": {
     "iopub.execute_input": "2022-03-26T10:31:16.094688Z",
     "iopub.status.busy": "2022-03-26T10:31:16.094475Z",
     "iopub.status.idle": "2022-03-26T10:31:16.297910Z",
     "shell.execute_reply": "2022-03-26T10:31:16.296592Z",
     "shell.execute_reply.started": "2022-03-26T10:31:16.094656Z"
    },
    "tags": []
   },
   "outputs": [],
   "source": [
    "# for content in tqdm(stopcontents):\n",
    "df['내용거른거'] = df['내용'].apply(lambda x: None if x in stopcontents else x)"
   ]
  },
  {
   "cell_type": "code",
   "execution_count": 210,
   "id": "137d3ac9-4211-4446-8305-e4c059243750",
   "metadata": {
    "execution": {
     "iopub.execute_input": "2022-03-26T10:57:42.461292Z",
     "iopub.status.busy": "2022-03-26T10:57:42.460805Z",
     "iopub.status.idle": "2022-03-26T10:57:42.838877Z",
     "shell.execute_reply": "2022-03-26T10:57:42.837986Z",
     "shell.execute_reply.started": "2022-03-26T10:57:42.461203Z"
    },
    "tags": []
   },
   "outputs": [
    {
     "data": {
      "text/plain": [
       " 보다 투명하고 빠른 거래를 위하여 아래의 글 양식을 준수하여 주세요   거래 지역  한림 거래 방법  직거래 연락 방법  연락처 안심번호 쪽지 채팅 가능  카카오톡 금지  판매 가격  연락주세요 판매 제품  봉고더블캡 제품 상태  중고차량사용감 있음 거의 새 것 미개봉  제품설명 및 사진 봉고더블캡  년 월식 정확히 만탔구요오토 차량 잡소리 하나도 안나요전기차 나와서 팔아요블랙박스후방감지 네비 열선시트 열선 핸들 만든공구함 박스 핸즈프리                  1\n",
       "유리 막 코팅 요 어디 어디 히 늘다 좋다 트렁크 헤드 해당 사항 아니다 던데 맞다 그리고 도어 손잡이 센서 있다 근데 해도 괜찮다 지장 없다 헤드 램프 사이드 범퍼 앞뒤 하다 좋다 이건 추가 비용 내다 하다 장점 알다 도어 엣지 주 유구 하다 생각 이다 위 다른 곳 하다 하다 말 아 야하다 고민 하고 있다 차 컬러 블랙 이다 유리 막 코팅 시트 코팅 필요없다 말씀 하다 썬팅 샵 있다 하다 괜찮다 하다 썬팅 샵 있다 모르다                           1\n",
       "아파트 완속 충전기 설치 세대 아파트 이다 현재 완속 급속 있다 입 대위 에서 대다 추가 설치 하다 논의 중 이다 고민 하다 중 완속 충전기 대당 주차 면 면 할당 하다 어떻다 하다 생각 해 보다 충전기 꽂히다 차량 충전 끝나다 괜히 전화하다 필요없다 옆 주차 면 주차 하고 충전기 빼다 충전 하다 어떻다 하다 생각 해 보다 어떻다 요 완속 이라서 크다 효과 없다 충전기 빼 가다 싸움 나다 등등 고민 하다 겪다 보지 않다 일이 라 자다 모르다 횐님들 의견 부탁드리다    1\n",
       "모델 트림 스탠다드 랑 롱 레인지 고민 중 인데 평소 짧다 거리 만 다니다 스탠다드 로 가도 크다 차이 없다                                                                                                                                                                                                             1\n",
       "트론 스 포트 백 견적 부탁드리다 트론 스 포트 백 견적 부탁드리다 색상 외 장 블랙 내장 블랙 색상 외 장 화이트 또는 베이지 내장 베이지 또는 브라운 가급적 이면 옵션 빠지다 않다 차량 이면 좋다 할부 현금 정도 생각 하다 가능하다 할인 작년 연말 수준 이면 좋다 견적 주 시기 바라다 견적 만 맞다 주일 안 계약 하다                                                                                     1\n",
       "                                                                                                                                                                                                                                                                        ..\n",
       "드디어 드디어 출고 받다 하루하루 너무 시간 길다 오늘 연락 오다 내일 대리점 출고 장 입다 되어다 차량 상태 확인 하고 틴팅 이랑 작업 하다 하다                                                                                                                                                                                       1\n",
       "윈터 타이어 구 하다 진짜 어렵다 인터넷 올라오다 업체 전화하다 없다 ㅜㅜ 어디 에서 구해 야 하다 요 이다                                                                                                                                                                                                             1\n",
       "우리나라 에도 에디 션 출시 되다 요 몇몇 나라 에서는 퍼스트 에디 션 출시 한 걸 로 알 고 있다 우리나라 에도 퍼스트 에디 션 출시 하다 내부 화이트 괜찮다 보이다 언제 쯤 정보 흘러나오다 궁금하다                                                                                                                                                         1\n",
       "장기 렌트 비용 비교 해보다 동 급 차량 대략 아이오 닉 기준 차값 천 잡다 비교 하다 때 일반 경우 서울 지금 기준 보조금 받다 치다 선납금 할부 개월 이자 정도 보험금 년 차 받다 년 대기 라고 보고 유류 비 토탈 대략 취 등세 장기 렌트 선납 인수 토탈 대략 보험 비 없다 이렇게 계산 되다 맞다 뭐 대략 또 이또 하다                                                                                    1\n",
       "취소 차 문의 드리다 관련 되다 주제 대해 미리 카페 내 검색 하다 보다 네 아니다 네 전기차 종류 지역 질문 내용 월 내 로 취소 차갑다 필요하다 검색 중 인데 요 며칠 전 부터 취소 차 잡다 방식 달라지다 하다 것 같다 혹시 정확하다 아시 분 계시다 ㅠ 취소 차 잡고 싶다                                                                                                               1\n",
       "Name: 내용거른거, Length: 392970, dtype: int64"
      ]
     },
     "execution_count": 210,
     "metadata": {},
     "output_type": "execute_result"
    }
   ],
   "source": [
    "df.내용거른거.value_counts()"
   ]
  },
  {
   "cell_type": "code",
   "execution_count": 39,
   "id": "092db799-79d6-4113-af5a-2575306f7b9c",
   "metadata": {
    "execution": {
     "iopub.execute_input": "2022-03-26T09:46:51.242020Z",
     "iopub.status.busy": "2022-03-26T09:46:51.241602Z",
     "iopub.status.idle": "2022-03-26T09:46:51.746341Z",
     "shell.execute_reply": "2022-03-26T09:46:51.745470Z",
     "shell.execute_reply.started": "2022-03-26T09:46:51.241958Z"
    },
    "tags": []
   },
   "outputs": [
    {
     "data": {
      "text/plain": [
       "False    412996\n",
       "True       1163\n",
       "Name: 내용, dtype: int64"
      ]
     },
     "execution_count": 39,
     "metadata": {},
     "output_type": "execute_result"
    }
   ],
   "source": [
    "df.내용.str.contains(f'{df.내용.value_counts()[:60].keys()[0]}').value_counts()"
   ]
  },
  {
   "cell_type": "code",
   "execution_count": 211,
   "id": "6f5f554f-11f5-4372-8964-eeb9f4feb475",
   "metadata": {
    "execution": {
     "iopub.execute_input": "2022-03-26T10:57:59.986729Z",
     "iopub.status.busy": "2022-03-26T10:57:59.986297Z",
     "iopub.status.idle": "2022-03-26T10:58:00.152856Z",
     "shell.execute_reply": "2022-03-26T10:58:00.151928Z",
     "shell.execute_reply.started": "2022-03-26T10:57:59.986664Z"
    }
   },
   "outputs": [
    {
     "data": {
      "text/plain": [
       "제목           0\n",
       "내용           0\n",
       "유형           0\n",
       "조회수          0\n",
       "작성날짜         0\n",
       "월별           0\n",
       "카페명          0\n",
       "년별           0\n",
       "평가           0\n",
       "내용거른거    21189\n",
       "dtype: int64"
      ]
     },
     "execution_count": 211,
     "metadata": {},
     "output_type": "execute_result"
    }
   ],
   "source": [
    "df.isnull().sum()"
   ]
  },
  {
   "cell_type": "code",
   "execution_count": 212,
   "id": "ce65f0ae-9571-4e88-9d97-372253c5e127",
   "metadata": {
    "execution": {
     "iopub.execute_input": "2022-03-26T10:58:34.335181Z",
     "iopub.status.busy": "2022-03-26T10:58:34.334728Z",
     "iopub.status.idle": "2022-03-26T10:59:31.001127Z",
     "shell.execute_reply": "2022-03-26T10:59:30.999294Z",
     "shell.execute_reply.started": "2022-03-26T10:58:34.335117Z"
    }
   },
   "outputs": [],
   "source": [
    "df.to_csv('광고거른거.csv',index=False)"
   ]
  },
  {
   "cell_type": "code",
   "execution_count": 217,
   "id": "f120d541-4a7e-4789-af81-a63d219a1776",
   "metadata": {
    "execution": {
     "iopub.execute_input": "2022-03-26T11:01:25.239725Z",
     "iopub.status.busy": "2022-03-26T11:01:25.239547Z",
     "iopub.status.idle": "2022-03-26T11:01:25.625958Z",
     "shell.execute_reply": "2022-03-26T11:01:25.625064Z",
     "shell.execute_reply.started": "2022-03-26T11:01:25.239706Z"
    },
    "tags": []
   },
   "outputs": [
    {
     "data": {
      "text/plain": [
       " 보다 투명하고 빠른 거래를 위하여 아래의 글 양식을 준수하여 주세요   거래 지역  한림 거래 방법  직거래 연락 방법  연락처 안심번호 쪽지 채팅 가능  카카오톡 금지  판매 가격  연락주세요 판매 제품  봉고더블캡 제품 상태  중고차량사용감 있음 거의 새 것 미개봉  제품설명 및 사진 봉고더블캡  년 월식 정확히 만탔구요오토 차량 잡소리 하나도 안나요전기차 나와서 팔아요블랙박스후방감지 네비 열선시트 열선 핸들 만든공구함 박스 핸즈프리                  1\n",
       "유리 막 코팅 요 어디 어디 히 늘다 좋다 트렁크 헤드 해당 사항 아니다 던데 맞다 그리고 도어 손잡이 센서 있다 근데 해도 괜찮다 지장 없다 헤드 램프 사이드 범퍼 앞뒤 하다 좋다 이건 추가 비용 내다 하다 장점 알다 도어 엣지 주 유구 하다 생각 이다 위 다른 곳 하다 하다 말 아 야하다 고민 하고 있다 차 컬러 블랙 이다 유리 막 코팅 시트 코팅 필요없다 말씀 하다 썬팅 샵 있다 하다 괜찮다 하다 썬팅 샵 있다 모르다                           1\n",
       "아파트 완속 충전기 설치 세대 아파트 이다 현재 완속 급속 있다 입 대위 에서 대다 추가 설치 하다 논의 중 이다 고민 하다 중 완속 충전기 대당 주차 면 면 할당 하다 어떻다 하다 생각 해 보다 충전기 꽂히다 차량 충전 끝나다 괜히 전화하다 필요없다 옆 주차 면 주차 하고 충전기 빼다 충전 하다 어떻다 하다 생각 해 보다 어떻다 요 완속 이라서 크다 효과 없다 충전기 빼 가다 싸움 나다 등등 고민 하다 겪다 보지 않다 일이 라 자다 모르다 횐님들 의견 부탁드리다    1\n",
       "모델 트림 스탠다드 랑 롱 레인지 고민 중 인데 평소 짧다 거리 만 다니다 스탠다드 로 가도 크다 차이 없다                                                                                                                                                                                                             1\n",
       "트론 스 포트 백 견적 부탁드리다 트론 스 포트 백 견적 부탁드리다 색상 외 장 블랙 내장 블랙 색상 외 장 화이트 또는 베이지 내장 베이지 또는 브라운 가급적 이면 옵션 빠지다 않다 차량 이면 좋다 할부 현금 정도 생각 하다 가능하다 할인 작년 연말 수준 이면 좋다 견적 주 시기 바라다 견적 만 맞다 주일 안 계약 하다                                                                                     1\n",
       "                                                                                                                                                                                                                                                                        ..\n",
       "드디어 드디어 출고 받다 하루하루 너무 시간 길다 오늘 연락 오다 내일 대리점 출고 장 입다 되어다 차량 상태 확인 하고 틴팅 이랑 작업 하다 하다                                                                                                                                                                                       1\n",
       "윈터 타이어 구 하다 진짜 어렵다 인터넷 올라오다 업체 전화하다 없다 ㅜㅜ 어디 에서 구해 야 하다 요 이다                                                                                                                                                                                                             1\n",
       "우리나라 에도 에디 션 출시 되다 요 몇몇 나라 에서는 퍼스트 에디 션 출시 한 걸 로 알 고 있다 우리나라 에도 퍼스트 에디 션 출시 하다 내부 화이트 괜찮다 보이다 언제 쯤 정보 흘러나오다 궁금하다                                                                                                                                                         1\n",
       "장기 렌트 비용 비교 해보다 동 급 차량 대략 아이오 닉 기준 차값 천 잡다 비교 하다 때 일반 경우 서울 지금 기준 보조금 받다 치다 선납금 할부 개월 이자 정도 보험금 년 차 받다 년 대기 라고 보고 유류 비 토탈 대략 취 등세 장기 렌트 선납 인수 토탈 대략 보험 비 없다 이렇게 계산 되다 맞다 뭐 대략 또 이또 하다                                                                                    1\n",
       "취소 차 문의 드리다 관련 되다 주제 대해 미리 카페 내 검색 하다 보다 네 아니다 네 전기차 종류 지역 질문 내용 월 내 로 취소 차갑다 필요하다 검색 중 인데 요 며칠 전 부터 취소 차 잡다 방식 달라지다 하다 것 같다 혹시 정확하다 아시 분 계시다 ㅠ 취소 차 잡고 싶다                                                                                                               1\n",
       "Name: 내용거른거, Length: 392970, dtype: int64"
      ]
     },
     "execution_count": 217,
     "metadata": {},
     "output_type": "execute_result"
    }
   ],
   "source": [
    "df.내용거른거.value_counts()"
   ]
  },
  {
   "cell_type": "code",
   "execution_count": null,
   "id": "388f7569-59e6-4ec9-9e44-0b691b3bb0fe",
   "metadata": {},
   "outputs": [],
   "source": []
  }
 ],
 "metadata": {
  "kernelspec": {
   "display_name": "Python 3 (ipykernel)",
   "language": "python",
   "name": "python3"
  },
  "language_info": {
   "codemirror_mode": {
    "name": "ipython",
    "version": 3
   },
   "file_extension": ".py",
   "mimetype": "text/x-python",
   "name": "python",
   "nbconvert_exporter": "python",
   "pygments_lexer": "ipython3",
   "version": "3.9.7"
  }
 },
 "nbformat": 4,
 "nbformat_minor": 5
}
