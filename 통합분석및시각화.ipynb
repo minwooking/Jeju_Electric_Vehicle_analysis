{
 "cells": [
  {
   "cell_type": "code",
   "execution_count": 1,
   "id": "595eba73-a979-4d52-941d-f40c1cf465f6",
   "metadata": {
    "execution": {
     "iopub.execute_input": "2022-03-26T09:02:56.649425Z",
     "iopub.status.busy": "2022-03-26T09:02:56.648855Z",
     "iopub.status.idle": "2022-03-26T09:02:57.041982Z",
     "shell.execute_reply": "2022-03-26T09:02:57.041258Z",
     "shell.execute_reply.started": "2022-03-26T09:02:56.649258Z"
    },
    "tags": []
   },
   "outputs": [],
   "source": [
    "import numpy as np\n",
    "import pandas as pd\n",
    "import matplotlib.pyplot as plt\n",
    "import os\n",
    "import copy"
   ]
  },
  {
   "cell_type": "code",
   "execution_count": 3,
   "id": "3c1eccfb-b258-4c01-b8ca-7fab9b4d33d3",
   "metadata": {
    "execution": {
     "iopub.execute_input": "2022-03-26T09:03:08.659233Z",
     "iopub.status.busy": "2022-03-26T09:03:08.658823Z",
     "iopub.status.idle": "2022-03-26T09:03:09.355709Z",
     "shell.execute_reply": "2022-03-26T09:03:09.354019Z",
     "shell.execute_reply.started": "2022-03-26T09:03:08.659192Z"
    },
    "tags": []
   },
   "outputs": [
    {
     "name": "stdout",
     "output_type": "stream",
     "text": [
      "/home/miwoos/WorkSpace/GoogleDrive/제주_전기차/data\n"
     ]
    }
   ],
   "source": [
    "cd ~/WorkSpace/GoogleDrive/제주_전기차/data"
   ]
  },
  {
   "cell_type": "code",
   "execution_count": 4,
   "id": "723d5f17-36fb-4c90-9541-43fcb8c31f48",
   "metadata": {
    "execution": {
     "iopub.execute_input": "2022-03-26T09:03:11.282276Z",
     "iopub.status.busy": "2022-03-26T09:03:11.281826Z",
     "iopub.status.idle": "2022-03-26T09:03:11.412231Z",
     "shell.execute_reply": "2022-03-26T09:03:11.410539Z",
     "shell.execute_reply.started": "2022-03-26T09:03:11.282201Z"
    },
    "tags": []
   },
   "outputs": [
    {
     "name": "stdout",
     "output_type": "stream",
     "text": [
      " 0326전기차수집내용다합침.csv      블로그전기차문장.csv\n",
      " CFI전기차보도자료.csv             블로그제사모느영나영전기차동호회merge.csv\n",
      " best_model.h5                     \u001b[0m\u001b[01;35m빈도수파악.png\u001b[0m\n",
      " cafe댓글추출후분석.csv            인스타전기차.csv\n",
      " df_cafe_commet_merge.csv          인스타전기차충전소.csv\n",
      " \u001b[01;35melc_usewordcloud.png\u001b[0m             '전기차 동호회 전기차크롤링.csv'\n",
      " elecafe.csv                       전기차_전처리및토큰화.csv\n",
      " lr.pkl                           '전기차감성분석(0325).csv'\n",
      " lrc.pkl                           전기차감성분석.csv\n",
      " \u001b[01;34mmodel\u001b[0m/                            전기차관련검색어인기순.csv\n",
      " tvect.pkl                         전기차관심도지역.csv\n",
      " 감성사전분석.csv                  전기차관심증가.csv\n",
      " 관련키워드.csv                    전기차전처리추가.csv\n",
      " 네이버-제주전기차후기통합.csv     전기차키워드관련주제인기순.csv\n",
      " 네이버블로그감성분석비교.csv      전체본문의댓글결과_2022.03.06.xlsx\n",
      " 느영나영전기차크롤링.csv          제사모크롤링.csv\n",
      " 느영나영전기차크롤링.csv.part     카페통합감성추가.csv\n",
      "'본문 검색 결과_2022.03.06.xlsx'   투플럭스sjeju.csv\n"
     ]
    }
   ],
   "source": [
    "ls"
   ]
  },
  {
   "cell_type": "code",
   "execution_count": 5,
   "id": "2008298b-8723-4ffd-9fe0-fb801d78ea81",
   "metadata": {
    "execution": {
     "iopub.execute_input": "2022-03-26T09:03:14.099287Z",
     "iopub.status.busy": "2022-03-26T09:03:14.099066Z",
     "iopub.status.idle": "2022-03-26T09:03:17.318745Z",
     "shell.execute_reply": "2022-03-26T09:03:17.318054Z",
     "shell.execute_reply.started": "2022-03-26T09:03:14.099254Z"
    },
    "tags": []
   },
   "outputs": [],
   "source": [
    "df = pd.read_csv('0326전기차수집내용다합침.csv')"
   ]
  },
  {
   "cell_type": "code",
   "execution_count": 6,
   "id": "d66f8185-50c6-48ea-9b82-1ae93c018f9b",
   "metadata": {
    "execution": {
     "iopub.execute_input": "2022-03-26T09:03:17.319940Z",
     "iopub.status.busy": "2022-03-26T09:03:17.319787Z",
     "iopub.status.idle": "2022-03-26T09:03:17.341938Z",
     "shell.execute_reply": "2022-03-26T09:03:17.341538Z",
     "shell.execute_reply.started": "2022-03-26T09:03:17.319927Z"
    },
    "tags": []
   },
   "outputs": [
    {
     "data": {
      "text/plain": [
       "전기차동호회(투플럭스)    394778\n",
       "네이버블로그            8719\n",
       "느영나영              4932\n",
       "전기차동호회            4435\n",
       "제사모               1295\n",
       "Name: 카페명, dtype: int64"
      ]
     },
     "execution_count": 6,
     "metadata": {},
     "output_type": "execute_result"
    }
   ],
   "source": [
    "df.카페명.value_counts()"
   ]
  },
  {
   "cell_type": "code",
   "execution_count": 19,
   "id": "29748100",
   "metadata": {},
   "outputs": [
    {
     "data": {
      "text/html": [
       "<div>\n",
       "<style scoped>\n",
       "    .dataframe tbody tr th:only-of-type {\n",
       "        vertical-align: middle;\n",
       "    }\n",
       "\n",
       "    .dataframe tbody tr th {\n",
       "        vertical-align: top;\n",
       "    }\n",
       "\n",
       "    .dataframe thead th {\n",
       "        text-align: right;\n",
       "    }\n",
       "</style>\n",
       "<table border=\"1\" class=\"dataframe\">\n",
       "  <thead>\n",
       "    <tr style=\"text-align: right;\">\n",
       "      <th></th>\n",
       "      <th>제목</th>\n",
       "      <th>내용</th>\n",
       "      <th>유형</th>\n",
       "      <th>조회수</th>\n",
       "      <th>작성날짜</th>\n",
       "      <th>월별</th>\n",
       "      <th>카페명</th>\n",
       "      <th>년별</th>\n",
       "      <th>평가</th>\n",
       "    </tr>\n",
       "  </thead>\n",
       "  <tbody>\n",
       "    <tr>\n",
       "      <th>0</th>\n",
       "      <td>봉고3더블캡</td>\n",
       "      <td>보다 투명하고 빠른 거래를 위하여 아래의 글 양식을 준수하여 주세요   거래 지역...</td>\n",
       "      <td>제사모 중고장터</td>\n",
       "      <td>130</td>\n",
       "      <td>2022.03.16.</td>\n",
       "      <td>2022.03</td>\n",
       "      <td>제사모</td>\n",
       "      <td>2022</td>\n",
       "      <td>P</td>\n",
       "    </tr>\n",
       "    <tr>\n",
       "      <th>1</th>\n",
       "      <td>렌트카 알아보고 있는데 lpg 차량이 저렴한 이유가 뭘까요?</td>\n",
       "      <td>육지에서 이번주 토욜부터 제주 한달살이 시작하면서 렌트카 알아보고 있어요 육지에선 ...</td>\n",
       "      <td>Q. 종합 질문방</td>\n",
       "      <td>161</td>\n",
       "      <td>2022.03.16.</td>\n",
       "      <td>2022.03</td>\n",
       "      <td>제사모</td>\n",
       "      <td>2022</td>\n",
       "      <td>N</td>\n",
       "    </tr>\n",
       "  </tbody>\n",
       "</table>\n",
       "</div>"
      ],
      "text/plain": [
       "                                  제목  \\\n",
       "0                             봉고3더블캡   \n",
       "1  렌트카 알아보고 있는데 lpg 차량이 저렴한 이유가 뭘까요?   \n",
       "\n",
       "                                                  내용         유형  조회수  \\\n",
       "0   보다 투명하고 빠른 거래를 위하여 아래의 글 양식을 준수하여 주세요   거래 지역...   제사모 중고장터  130   \n",
       "1  육지에서 이번주 토욜부터 제주 한달살이 시작하면서 렌트카 알아보고 있어요 육지에선 ...  Q. 종합 질문방  161   \n",
       "\n",
       "          작성날짜       월별  카페명    년별 평가  \n",
       "0  2022.03.16.  2022.03  제사모  2022  P  \n",
       "1  2022.03.16.  2022.03  제사모  2022  N  "
      ]
     },
     "execution_count": 19,
     "metadata": {},
     "output_type": "execute_result"
    }
   ],
   "source": [
    "df.head(2)"
   ]
  },
  {
   "cell_type": "code",
   "execution_count": 27,
   "id": "4ab6cd10",
   "metadata": {},
   "outputs": [
    {
     "data": {
      "text/plain": [
       "array(['제사모', '느영나영', '전기차동호회', '네이버블로그', '전기차동호회(투플럭스)'], dtype=object)"
      ]
     },
     "execution_count": 27,
     "metadata": {},
     "output_type": "execute_result"
    }
   ],
   "source": [
    "df.카페명.unique()"
   ]
  },
  {
   "cell_type": "code",
   "execution_count": 7,
   "id": "1ed00bb3-be3f-48d6-8b79-92eb4c075d86",
   "metadata": {
    "execution": {
     "iopub.execute_input": "2022-03-26T09:31:38.298502Z",
     "iopub.status.busy": "2022-03-26T09:31:38.297987Z",
     "iopub.status.idle": "2022-03-26T09:31:39.177159Z",
     "shell.execute_reply": "2022-03-26T09:31:39.176619Z",
     "shell.execute_reply.started": "2022-03-26T09:31:38.298435Z"
    }
   },
   "outputs": [
    {
     "data": {
      "text/plain": [
       "<AxesSubplot:xlabel='년별'>"
      ]
     },
     "execution_count": 7,
     "metadata": {},
     "output_type": "execute_result"
    },
    {
     "name": "stderr",
     "output_type": "stream",
     "text": [
      "/home/miwoos/anaconda3/lib/python3.9/site-packages/matplotlib/backends/backend_agg.py:240: RuntimeWarning: Glyph 45380 missing from current font.\n",
      "  font.set_text(s, 0.0, flags=flags)\n",
      "/home/miwoos/anaconda3/lib/python3.9/site-packages/matplotlib/backends/backend_agg.py:240: RuntimeWarning: Glyph 48324 missing from current font.\n",
      "  font.set_text(s, 0.0, flags=flags)\n",
      "/home/miwoos/anaconda3/lib/python3.9/site-packages/matplotlib/backends/backend_agg.py:240: RuntimeWarning: Glyph 54217 missing from current font.\n",
      "  font.set_text(s, 0.0, flags=flags)\n",
      "/home/miwoos/anaconda3/lib/python3.9/site-packages/matplotlib/backends/backend_agg.py:240: RuntimeWarning: Glyph 44032 missing from current font.\n",
      "  font.set_text(s, 0.0, flags=flags)\n",
      "/home/miwoos/anaconda3/lib/python3.9/site-packages/matplotlib/backends/backend_agg.py:203: RuntimeWarning: Glyph 45380 missing from current font.\n",
      "  font.set_text(s, 0, flags=flags)\n",
      "/home/miwoos/anaconda3/lib/python3.9/site-packages/matplotlib/backends/backend_agg.py:203: RuntimeWarning: Glyph 48324 missing from current font.\n",
      "  font.set_text(s, 0, flags=flags)\n",
      "/home/miwoos/anaconda3/lib/python3.9/site-packages/matplotlib/backends/backend_agg.py:203: RuntimeWarning: Glyph 54217 missing from current font.\n",
      "  font.set_text(s, 0, flags=flags)\n",
      "/home/miwoos/anaconda3/lib/python3.9/site-packages/matplotlib/backends/backend_agg.py:203: RuntimeWarning: Glyph 44032 missing from current font.\n",
      "  font.set_text(s, 0, flags=flags)\n"
     ]
    },
    {
     "data": {
      "image/png": "[encoded data removed]",
      "text/plain": [
       "<Figure size 432x288 with 1 Axes>"
      ]
     },
     "metadata": {
      "needs_background": "light"
     },
     "output_type": "display_data"
    }
   ],
   "source": [
    "df[df.카페명=='제사모'].groupby([df.년별,df.평가]).내용.count().unstack().plot.bar()"
   ]
  },
  {
   "cell_type": "code",
   "execution_count": 75,
   "id": "10d74015-760f-4673-b6b8-96cd5b104f31",
   "metadata": {
    "execution": {
     "iopub.execute_input": "2022-03-26T09:53:12.914700Z",
     "iopub.status.busy": "2022-03-26T09:53:12.914264Z",
     "iopub.status.idle": "2022-03-26T09:53:12.922726Z",
     "shell.execute_reply": "2022-03-26T09:53:12.921944Z",
     "shell.execute_reply.started": "2022-03-26T09:53:12.914661Z"
    },
    "tags": []
   },
   "outputs": [
    {
     "ename": "SyntaxError",
     "evalue": "invalid syntax (2495809887.py, line 1)",
     "output_type": "error",
     "traceback": [
      "\u001b[0;36m  File \u001b[0;32m\"/tmp/ipykernel_163365/2495809887.py\"\u001b[0;36m, line \u001b[0;32m1\u001b[0m\n\u001b[0;31m    df df.내용.value_counts().values()\u001b[0m\n\u001b[0m       ^\u001b[0m\n\u001b[0;31mSyntaxError\u001b[0m\u001b[0;31m:\u001b[0m invalid syntax\n"
     ]
    }
   ],
   "source": [
    "df df.내용.value_counts().values()"
   ]
  },
  {
   "cell_type": "code",
   "execution_count": 62,
   "id": "45f0cbdb",
   "metadata": {
    "execution": {
     "iopub.execute_input": "2022-03-26T09:51:16.414649Z",
     "iopub.status.busy": "2022-03-26T09:51:16.413054Z",
     "iopub.status.idle": "2022-03-26T09:51:16.732527Z",
     "shell.execute_reply": "2022-03-26T09:51:16.731445Z",
     "shell.execute_reply.started": "2022-03-26T09:51:16.414582Z"
    },
    "tags": []
   },
   "outputs": [],
   "source": [
    "stopwords = df.내용.value_counts()[105:130].keys()"
   ]
  },
  {
   "cell_type": "code",
   "execution_count": 76,
   "id": "0e6bcbdf-4471-4204-83c0-65e515b6299c",
   "metadata": {
    "execution": {
     "iopub.execute_input": "2022-03-26T09:53:15.058358Z",
     "iopub.status.busy": "2022-03-26T09:53:15.057946Z",
     "iopub.status.idle": "2022-03-26T09:53:15.069884Z",
     "shell.execute_reply": "2022-03-26T09:53:15.069177Z",
     "shell.execute_reply.started": "2022-03-26T09:53:15.058294Z"
    },
    "tags": []
   },
   "outputs": [
    {
     "data": {
      "text/plain": [
       "Index(['월 테슬라 전용 일 시불 캐시 백 모델 모델 모델 모델 사용 조건 없다 테슬라 캐시 백', '출석 체크 출석 하다',\n",
       "       '월 일반 전기차 일 시불 캐시 백 아이오 닉 벤츠 등 전기차 캐시 백', '즐겁다 하루 되다 즐겁다 하루 되다',\n",
       "       '출석 출석 체크 하다', '좋다 아침 이다 좋다 아침 이다', '출첵 출첵 요', '출석 하다 출석 해 요', '계약 인증',\n",
       "       '월 일반 전기차 삼성 카드 할부 금리 개월 개 월 최대 만 캐시 백 대출 로 잡히다 않다 중도 상환 수수료 없다 최고 할부 상품 아니다 닉 벤츠 등',\n",
       "       '반갑다 자기 소개 한글 별명 뜻 관심 있다 전기차 지역 전기차 보유 계 약 미보 유 가입 계기 하다 싶다 말씀',\n",
       "       '새해 복 많이 받다', '안녕하다 반갑다 부탁드리다', '추다 책 출석 하다', '출첵 좋다 하루 되다',\n",
       "       '출석 하다 즐겁다 주말 보내다', '아이오 닉 계약 인증 하다',\n",
       "       '월 일반 전기차 일 시불 캐시 백 아이오 닉 벤츠 폴 스타 코란도 이모션 등 전기차 캐시 백',\n",
       "       '안녕하다 자기 소개 한글 별명 뜻 관심 있다 전기차 지역 전기차 보유 계 약 미보 유 가입 계기 하다 싶다 말씀',\n",
       "       '출첵 요 출첵', '출석 하다 즐겁다 주말 되다',\n",
       "       '대구 르노 년 식 년 월 신차 출고 대구 르노 년 식 년 월 신차 출고 원 판매 정보 거래 방법 직접 거래 배송 방법 판매 직접 연락 하다 직접 거래 시 아래 사항 유의 해주다 불확실하다 판매 본인 미인 증 해외 사기 의심 전화번호 물건 구매 하다 말다 판매 와의 연락 메신저 보다는 전화 메일 등 이용 하다 개인정보 유출 주의 하다 계좌 이체 시 선 입금 유도 하다 경우 안전하다 거래 인지 다시 하다 번 확인 해주다 네이버 등록 되다 판매 물품 내용 개별 판매 자가 등록 한 것 으로서 네이버 카페 등록 위 한 시스템 만 제공 하다 내용 대하 여 일체 책임 지지 않다 대구 만 가능 구매 분 년 월보 조금 지급 시점 부터 년 동안 타 지역 판매 금지 대구 만 재판매 가능 폐차 시 대구시 로 배터리 반납 하다 되다 매매 가격 원 차량 명과 차량 번호 누 연식 연도 출고 월 년 식 년 월 출고 신차 구매 또는 중고차 구매 여부 신차 구입 의무 운행 기간 년 안되다 경우 최초 보조금 받다 지역 년월 일 대구 누적 주행 거리 조금씩 증가 중 배터리 용량 급속 충전 방식 콤보 차 데모 상 회 충 전시 주행 가능 거리 공인 실제 희망 판매 가격 원 차량 소재지 대구 북구 현금 할부 리스 여부 현금 렌트카 택시 이력 판매 성명 연락처 신 성재 내외 장 컬러 추가 옵션 튜닝 항목 어반 그레이 블랙 뷰 게라 레전드 커넥티드 스미스 클럽 유리 막 문짝 튜닝 번호판 트렁크 실내 등 중간 충전기 완속 충전 케이블 포함 여부 포함 사고 내 역 및 수리 내 역 수리 금액 무사 고 뒷 범퍼 측면 이마트 카트 찍히다 차량 사진 및 상세 설명 차량번호판 계기 판 포함 차량 사진 장 이상',\n",
       "       '부산 전국 이전 니 로 노블레스 파다 매매 가격 만원 차량 명과 차량 번호 니 로 모 연식 연도 출고 월 년 월 신차 구매 또는 중고차 구매 여부 신차 의무 운행 기간 년 안되다 경우 최초 보조금 받다 지역 년월 일 대구광역시 전국 이전 가능 누적 주행 거리 메인 고 전압 배터리 용량 급속 충전 방식 콤보 차 데모 상 콤보 회 충 전시 주행 가능 거리 공인 실제 이상 계기 판 기준 희망 판매 가격 만원 차량 소재지 대구광역시 달성군 판매 위치 부산진구 이다 현금 할부 리스 여부 현금 완납 렌트카 택시 이력 없다 판매 성명 연락처 김지수 내외 장 컬러 추가 옵션 튜닝 항목 스노우 화이트 네 비 컨 비니 언 스팩 히팅 패키지 써다 루프 블루 칼라 팩 빼다 풀 옵션 충전기 완 속 충전 케이블 포함 여부 없다 사고 내 역 및 수리 내 역 수리 금액 무사 고 차량 사진 및 상세 설명 차량번호판 계기 판 포함 차량 사진 장 이상 주로 출퇴근 용 활용 하다 비 흡연 차량 이다 무사 고 차량 이다 년 월 출고 받다 차량 이며 현재 주행 거리 이다 썬팅 후퍼옵틱 클래식 썬팅 시공 전면 측면 후 면 써다 루프 네 비 아이나비 시동 배터리 년 월 초 교환 하다 휠 살짝 스크래치 있다 사진 첨부 하다 확인 해주다 판매 위치 부산진구 이다 판매 사유 현재 자격증 공부 로 인하다 차량 판매 하다 되어다 문자 나 연락 주시 면 확인 하다 바로 답장 드리다',\n",
       "       '출석 하다 출첵 하다',\n",
       "       '안녕하다 자기 소개 지역 한글 별명 뜻 관심 있다 전기차 보유 하고 있다 전기차 보유 계약 중 가입 계기 하다 싶다 말씀'],\n",
       "      dtype='object')"
      ]
     },
     "execution_count": 76,
     "metadata": {},
     "output_type": "execute_result"
    }
   ],
   "source": [
    "stopwords"
   ]
  },
  {
   "cell_type": "code",
   "execution_count": 13,
   "id": "ab8d0670",
   "metadata": {
    "execution": {
     "iopub.execute_input": "2022-03-26T09:39:53.790110Z",
     "iopub.status.busy": "2022-03-26T09:39:53.789696Z",
     "iopub.status.idle": "2022-03-26T09:39:53.972792Z",
     "shell.execute_reply": "2022-03-26T09:39:53.971880Z",
     "shell.execute_reply.started": "2022-03-26T09:39:53.790051Z"
    },
    "tags": []
   },
   "outputs": [
    {
     "data": {
      "text/plain": [
       "0         False\n",
       "1         False\n",
       "2         False\n",
       "3         False\n",
       "4         False\n",
       "          ...  \n",
       "414154    False\n",
       "414155    False\n",
       "414156    False\n",
       "414157    False\n",
       "414158    False\n",
       "Name: 내용, Length: 414159, dtype: bool"
      ]
     },
     "execution_count": 13,
     "metadata": {},
     "output_type": "execute_result"
    }
   ],
   "source": [
    "df.내용.str.contains('출석 하다')"
   ]
  },
  {
   "cell_type": "code",
   "execution_count": 39,
   "id": "092db799-79d6-4113-af5a-2575306f7b9c",
   "metadata": {
    "execution": {
     "iopub.execute_input": "2022-03-26T09:46:51.242020Z",
     "iopub.status.busy": "2022-03-26T09:46:51.241602Z",
     "iopub.status.idle": "2022-03-26T09:46:51.746341Z",
     "shell.execute_reply": "2022-03-26T09:46:51.745470Z",
     "shell.execute_reply.started": "2022-03-26T09:46:51.241958Z"
    },
    "tags": []
   },
   "outputs": [
    {
     "data": {
      "text/plain": [
       "False    412996\n",
       "True       1163\n",
       "Name: 내용, dtype: int64"
      ]
     },
     "execution_count": 39,
     "metadata": {},
     "output_type": "execute_result"
    }
   ],
   "source": [
    "df.내용.str.contains(f'{df.내용.value_counts()[:60].keys()[0]}').value_counts()"
   ]
  },
  {
   "cell_type": "code",
   "execution_count": null,
   "id": "6f5f554f-11f5-4372-8964-eeb9f4feb475",
   "metadata": {},
   "outputs": [],
   "source": []
  }
 ],
 "metadata": {
  "kernelspec": {
   "display_name": "Python 3 (ipykernel)",
   "language": "python",
   "name": "python3"
  },
  "language_info": {
   "codemirror_mode": {
    "name": "ipython",
    "version": 3
   },
   "file_extension": ".py",
   "mimetype": "text/x-python",
   "name": "python",
   "nbconvert_exporter": "python",
   "pygments_lexer": "ipython3",
   "version": "3.9.7"
  }
 },
 "nbformat": 4,
 "nbformat_minor": 5
}
