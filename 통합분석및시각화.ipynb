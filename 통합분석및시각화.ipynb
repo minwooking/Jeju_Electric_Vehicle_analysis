{
 "cells": [
  {
   "cell_type": "code",
   "execution_count": 1,
   "id": "595eba73-a979-4d52-941d-f40c1cf465f6",
   "metadata": {
    "execution": {
     "iopub.execute_input": "2022-03-26T09:02:56.649425Z",
     "iopub.status.busy": "2022-03-26T09:02:56.648855Z",
     "iopub.status.idle": "2022-03-26T09:02:57.041982Z",
     "shell.execute_reply": "2022-03-26T09:02:57.041258Z",
     "shell.execute_reply.started": "2022-03-26T09:02:56.649258Z"
    },
    "tags": []
   },
   "outputs": [],
   "source": [
    "import numpy as np\n",
    "import pandas as pd\n",
    "import matplotlib.pyplot as plt\n",
    "import os\n",
    "import copy"
   ]
  },
  {
   "cell_type": "code",
   "execution_count": 3,
   "id": "3c1eccfb-b258-4c01-b8ca-7fab9b4d33d3",
   "metadata": {
    "execution": {
     "iopub.execute_input": "2022-03-26T09:03:08.659233Z",
     "iopub.status.busy": "2022-03-26T09:03:08.658823Z",
     "iopub.status.idle": "2022-03-26T09:03:09.355709Z",
     "shell.execute_reply": "2022-03-26T09:03:09.354019Z",
     "shell.execute_reply.started": "2022-03-26T09:03:08.659192Z"
    },
    "tags": []
   },
   "outputs": [
    {
     "name": "stdout",
     "output_type": "stream",
     "text": [
      "/home/miwoos/WorkSpace/GoogleDrive/제주_전기차/data\n"
     ]
    }
   ],
   "source": [
    "cd ~/WorkSpace/GoogleDrive/제주_전기차/data"
   ]
  },
  {
   "cell_type": "code",
   "execution_count": 4,
   "id": "723d5f17-36fb-4c90-9541-43fcb8c31f48",
   "metadata": {
    "execution": {
     "iopub.execute_input": "2022-03-26T09:03:11.282276Z",
     "iopub.status.busy": "2022-03-26T09:03:11.281826Z",
     "iopub.status.idle": "2022-03-26T09:03:11.412231Z",
     "shell.execute_reply": "2022-03-26T09:03:11.410539Z",
     "shell.execute_reply.started": "2022-03-26T09:03:11.282201Z"
    },
    "tags": []
   },
   "outputs": [
    {
     "name": "stdout",
     "output_type": "stream",
     "text": [
      " 0326전기차수집내용다합침.csv      블로그전기차문장.csv\n",
      " CFI전기차보도자료.csv             블로그제사모느영나영전기차동호회merge.csv\n",
      " best_model.h5                     \u001b[0m\u001b[01;35m빈도수파악.png\u001b[0m\n",
      " cafe댓글추출후분석.csv            인스타전기차.csv\n",
      " df_cafe_commet_merge.csv          인스타전기차충전소.csv\n",
      " \u001b[01;35melc_usewordcloud.png\u001b[0m             '전기차 동호회 전기차크롤링.csv'\n",
      " elecafe.csv                       전기차_전처리및토큰화.csv\n",
      " lr.pkl                           '전기차감성분석(0325).csv'\n",
      " lrc.pkl                           전기차감성분석.csv\n",
      " \u001b[01;34mmodel\u001b[0m/                            전기차관련검색어인기순.csv\n",
      " tvect.pkl                         전기차관심도지역.csv\n",
      " 감성사전분석.csv                  전기차관심증가.csv\n",
      " 관련키워드.csv                    전기차전처리추가.csv\n",
      " 네이버-제주전기차후기통합.csv     전기차키워드관련주제인기순.csv\n",
      " 네이버블로그감성분석비교.csv      전체본문의댓글결과_2022.03.06.xlsx\n",
      " 느영나영전기차크롤링.csv          제사모크롤링.csv\n",
      " 느영나영전기차크롤링.csv.part     카페통합감성추가.csv\n",
      "'본문 검색 결과_2022.03.06.xlsx'   투플럭스sjeju.csv\n"
     ]
    }
   ],
   "source": [
    "ls"
   ]
  },
  {
   "cell_type": "code",
   "execution_count": 5,
   "id": "2008298b-8723-4ffd-9fe0-fb801d78ea81",
   "metadata": {
    "execution": {
     "iopub.execute_input": "2022-03-26T09:03:14.099287Z",
     "iopub.status.busy": "2022-03-26T09:03:14.099066Z",
     "iopub.status.idle": "2022-03-26T09:03:17.318745Z",
     "shell.execute_reply": "2022-03-26T09:03:17.318054Z",
     "shell.execute_reply.started": "2022-03-26T09:03:14.099254Z"
    },
    "tags": []
   },
   "outputs": [],
   "source": [
    "df = pd.read_csv('0326전기차수집내용다합침.csv')"
   ]
  },
  {
   "cell_type": "code",
   "execution_count": 6,
   "id": "d66f8185-50c6-48ea-9b82-1ae93c018f9b",
   "metadata": {
    "execution": {
     "iopub.execute_input": "2022-03-26T09:03:17.319940Z",
     "iopub.status.busy": "2022-03-26T09:03:17.319787Z",
     "iopub.status.idle": "2022-03-26T09:03:17.341938Z",
     "shell.execute_reply": "2022-03-26T09:03:17.341538Z",
     "shell.execute_reply.started": "2022-03-26T09:03:17.319927Z"
    },
    "tags": []
   },
   "outputs": [
    {
     "data": {
      "text/plain": [
       "전기차동호회(투플럭스)    394778\n",
       "네이버블로그            8719\n",
       "느영나영              4932\n",
       "전기차동호회            4435\n",
       "제사모               1295\n",
       "Name: 카페명, dtype: int64"
      ]
     },
     "execution_count": 6,
     "metadata": {},
     "output_type": "execute_result"
    }
   ],
   "source": [
    "df.카페명.value_counts()"
   ]
  },
  {
   "cell_type": "code",
   "execution_count": 19,
   "id": "29748100",
   "metadata": {},
   "outputs": [
    {
     "data": {
      "text/html": [
       "<div>\n",
       "<style scoped>\n",
       "    .dataframe tbody tr th:only-of-type {\n",
       "        vertical-align: middle;\n",
       "    }\n",
       "\n",
       "    .dataframe tbody tr th {\n",
       "        vertical-align: top;\n",
       "    }\n",
       "\n",
       "    .dataframe thead th {\n",
       "        text-align: right;\n",
       "    }\n",
       "</style>\n",
       "<table border=\"1\" class=\"dataframe\">\n",
       "  <thead>\n",
       "    <tr style=\"text-align: right;\">\n",
       "      <th></th>\n",
       "      <th>제목</th>\n",
       "      <th>내용</th>\n",
       "      <th>유형</th>\n",
       "      <th>조회수</th>\n",
       "      <th>작성날짜</th>\n",
       "      <th>월별</th>\n",
       "      <th>카페명</th>\n",
       "      <th>년별</th>\n",
       "      <th>평가</th>\n",
       "    </tr>\n",
       "  </thead>\n",
       "  <tbody>\n",
       "    <tr>\n",
       "      <th>0</th>\n",
       "      <td>봉고3더블캡</td>\n",
       "      <td>보다 투명하고 빠른 거래를 위하여 아래의 글 양식을 준수하여 주세요   거래 지역...</td>\n",
       "      <td>제사모 중고장터</td>\n",
       "      <td>130</td>\n",
       "      <td>2022.03.16.</td>\n",
       "      <td>2022.03</td>\n",
       "      <td>제사모</td>\n",
       "      <td>2022</td>\n",
       "      <td>P</td>\n",
       "    </tr>\n",
       "    <tr>\n",
       "      <th>1</th>\n",
       "      <td>렌트카 알아보고 있는데 lpg 차량이 저렴한 이유가 뭘까요?</td>\n",
       "      <td>육지에서 이번주 토욜부터 제주 한달살이 시작하면서 렌트카 알아보고 있어요 육지에선 ...</td>\n",
       "      <td>Q. 종합 질문방</td>\n",
       "      <td>161</td>\n",
       "      <td>2022.03.16.</td>\n",
       "      <td>2022.03</td>\n",
       "      <td>제사모</td>\n",
       "      <td>2022</td>\n",
       "      <td>N</td>\n",
       "    </tr>\n",
       "  </tbody>\n",
       "</table>\n",
       "</div>"
      ],
      "text/plain": [
       "                                  제목  \\\n",
       "0                             봉고3더블캡   \n",
       "1  렌트카 알아보고 있는데 lpg 차량이 저렴한 이유가 뭘까요?   \n",
       "\n",
       "                                                  내용         유형  조회수  \\\n",
       "0   보다 투명하고 빠른 거래를 위하여 아래의 글 양식을 준수하여 주세요   거래 지역...   제사모 중고장터  130   \n",
       "1  육지에서 이번주 토욜부터 제주 한달살이 시작하면서 렌트카 알아보고 있어요 육지에선 ...  Q. 종합 질문방  161   \n",
       "\n",
       "          작성날짜       월별  카페명    년별 평가  \n",
       "0  2022.03.16.  2022.03  제사모  2022  P  \n",
       "1  2022.03.16.  2022.03  제사모  2022  N  "
      ]
     },
     "execution_count": 19,
     "metadata": {},
     "output_type": "execute_result"
    }
   ],
   "source": [
    "df.head(2)"
   ]
  },
  {
   "cell_type": "code",
   "execution_count": 27,
   "id": "4ab6cd10",
   "metadata": {},
   "outputs": [
    {
     "data": {
      "text/plain": [
       "array(['제사모', '느영나영', '전기차동호회', '네이버블로그', '전기차동호회(투플럭스)'], dtype=object)"
      ]
     },
     "execution_count": 27,
     "metadata": {},
     "output_type": "execute_result"
    }
   ],
   "source": [
    "df.카페명.unique()"
   ]
  },
  {
   "cell_type": "code",
   "execution_count": 30,
   "id": "1ed00bb3-be3f-48d6-8b79-92eb4c075d86",
   "metadata": {},
   "outputs": [
    {
     "data": {
      "text/plain": [
       "<AxesSubplot:xlabel='년별'>"
      ]
     },
     "execution_count": 30,
     "metadata": {},
     "output_type": "execute_result"
    },
    {
     "data": {
      "image/png": "[encoded data removed]",
      "text/plain": [
       "<Figure size 432x288 with 1 Axes>"
      ]
     },
     "metadata": {
      "needs_background": "light"
     },
     "output_type": "display_data"
    }
   ],
   "source": [
    "df[df.카페명=='제사모'].groupby([df.년별,df.평가]).내용.count().unstack().plot.bar()"
   ]
  },
  {
   "cell_type": "code",
   "execution_count": 31,
   "id": "45f0cbdb",
   "metadata": {},
   "outputs": [
    {
     "data": {
      "text/plain": [
       "출석 하다 출석 하다                                                                                                                                                                                                                                                                    1035\n",
       "출석 출석 하다                                                                                                                                                                                                                                                                        679\n",
       "출석 출석                                                                                                                                                                                                                                                                           556\n",
       "출석 하다 출석                                                                                                                                                                                                                                                                        455\n",
       "안녕하다 반갑다                                                                                                                                                                                                                                                                        388\n",
       "                                                                                                                                                                                                                                                                               ... \n",
       "니 로 뒷범퍼 하단 가니쉬 교체 해보다 신분 주 차사 고 나다 주차공간 콘크리트 로 툭 튀어나오다 못 보다 뒤 로 가다가 박다 범퍼 살짝 깨지다 그냥 탈 만 함 리 어 가니쉬 안 먹다 보험 처리 하다 애매하다 건 같다 리 어 가니쉬 부품 만 사서 자가 교환 하다 어리다 요 범퍼 사포 질 하고 긁다 되다 같다 혹시 가니쉬 품번 아시 분 있다 더 감사 아 슬프다 전혀 예측 하다 못 하다 기물 이라 쿵 박아 버리다 도색 필요하다 공업 사 갈다 단 순 교환 끝나다 같다 여쭈다 보다       1\n",
       "아파트 완 속 충전기 관련 되다 주제 대해 미리 카페 내 검색 하다 보다 네 아니다 전기차 종류 지역 질문 내용 아파트 위 같다 케이블 없다 완 속 충전기 케이블 달리다 급속 충전기 있다 아이오 닉 구 입시 따로 케이블 구입 없이 차량 딸리다 나오다 걸 로 완 속 충전 가능하다 모델 인가요 그리고 희다 완 속 충전기 에는 충전 비 원 이라고 찍히다 급속 충전기 충전 하다 차량 요금 찍히다 보다 원 이라고 찍히다 급속 시간대 별로 요금 다른 건 지                       1\n",
       "내 연 전기 관련 되다 주제 대해 미리 카페 내 검색 하다 보다 네 아니다 전기차 종류 지역 고민 경기 질문 내용 내연기관 전기차 구입 고민 중 인데 아직 전기차 충전 인프라 확실하다 않다 장거리 뛰다 기도 불편하다 내연 고민 되다 여러분 생각 어떻다 가요                                                                                                                                   1\n",
       "코 나 전기차 구매 견적 중 이다 단종 결함 소식 구매 조건 좋다 듯 하다 구매 하다 견적 진행 중 이다 새롭다 나오다 전용 플랫폼 차 보다는 성능 면 에서 차이 있다 코 나 가격 현재 성능 만족 하다 첫 전기차 내연기관 섀시 마지막 차량 구매 하다 호사 누리다 보다 하다 운 좋다 기르다 바 래 보다 저 하다 응원 해주다                                                                                              1\n",
       "취소 차 문의 드리다 관련 되다 주제 대해 미리 카페 내 검색 하다 보다 네 아니다 네 전기차 종류 지역 질문 내용 월 내 로 취소 차갑다 필요하다 검색 중 인데 요 며칠 전 부터 취소 차 잡다 방식 달라지다 하다 것 같다 혹시 정확하다 아시 분 계시다 ㅠ 취소 차 잡고 싶다                                                                                                                        1\n",
       "Name: 내용, Length: 397144, dtype: int64"
      ]
     },
     "execution_count": 31,
     "metadata": {},
     "output_type": "execute_result"
    }
   ],
   "source": [
    "df.내용.value_counts()"
   ]
  },
  {
   "cell_type": "code",
   "execution_count": null,
   "id": "ab8d0670",
   "metadata": {},
   "outputs": [],
   "source": []
  }
 ],
 "metadata": {
  "kernelspec": {
   "display_name": "Python 3 (ipykernel)",
   "language": "python",
   "name": "python3"
  },
  "language_info": {
   "codemirror_mode": {
    "name": "ipython",
    "version": 3
   },
   "file_extension": ".py",
   "mimetype": "text/x-python",
   "name": "python",
   "nbconvert_exporter": "python",
   "pygments_lexer": "ipython3",
   "version": "3.9.7"
  }
 },
 "nbformat": 4,
 "nbformat_minor": 5
}
