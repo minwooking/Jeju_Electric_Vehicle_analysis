{
 "cells": [
  {
   "cell_type": "code",
   "execution_count": 1,
   "id": "fd793afd-5c2c-4a0e-81c8-a5541fde004f",
   "metadata": {
    "execution": {
     "iopub.execute_input": "2022-03-22T02:15:56.640835Z",
     "iopub.status.busy": "2022-03-22T02:15:56.640420Z",
     "iopub.status.idle": "2022-03-22T02:15:57.317554Z",
     "shell.execute_reply": "2022-03-22T02:15:57.317013Z",
     "shell.execute_reply.started": "2022-03-22T02:15:56.640770Z"
    }
   },
   "outputs": [],
   "source": [
    "import numpy as np\n",
    "import pandas as pd \n",
    "import warnings\n",
    "warnings.filterwarnings('ignore')\n",
    "import splitfolders\n",
    "from konlpy.tag import Okt\n",
    "okt = Okt()"
   ]
  },
  {
   "cell_type": "code",
   "execution_count": null,
   "id": "6be57d0b-504d-4fa4-b5e0-ad741c2f0b4c",
   "metadata": {},
   "outputs": [],
   "source": []
  }
 ],
 "metadata": {
  "kernelspec": {
   "display_name": "Python 3 (ipykernel)",
   "language": "python",
   "name": "python3"
  },
  "language_info": {
   "codemirror_mode": {
    "name": "ipython",
    "version": 3
   },
   "file_extension": ".py",
   "mimetype": "text/x-python",
   "name": "python",
   "nbconvert_exporter": "python",
   "pygments_lexer": "ipython3",
   "version": "3.9.7"
  }
 },
 "nbformat": 4,
 "nbformat_minor": 5
}
