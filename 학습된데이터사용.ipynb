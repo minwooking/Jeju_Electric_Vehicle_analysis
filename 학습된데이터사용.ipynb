{
 "cells": [
  {
   "cell_type": "code",
   "execution_count": 76,
   "metadata": {},
   "outputs": [],
   "source": [
    "import numpy as np\n",
    "import  pandas as pd\n",
    "import os\n",
    "from konlpy.tag import Okt \n",
    "okt = Okt()\n",
    "from tqdm.notebook import tqdm"
   ]
  },
  {
   "cell_type": "code",
   "execution_count": 37,
   "metadata": {},
   "outputs": [],
   "source": [
    "os.chdir('/home/miwoos/WorkSpace/GoogleDrive/제주_전기차/data')"
   ]
  },
  {
   "cell_type": "code",
   "execution_count": 38,
   "metadata": {},
   "outputs": [
    {
     "data": {
      "text/plain": [
       "'/home/miwoos/WorkSpace/GoogleDrive/제주_전기차/data'"
      ]
     },
     "execution_count": 38,
     "metadata": {},
     "output_type": "execute_result"
    }
   ],
   "source": [
    "pwd"
   ]
  },
  {
   "cell_type": "code",
   "execution_count": 133,
   "metadata": {},
   "outputs": [
    {
     "name": "stdout",
     "output_type": "stream",
     "text": [
      " \u001b[0m\u001b[01;35melc_usewordcloud.png\u001b[0m             '전기차 동호회 전기차크롤링.csv'\n",
      " elecafe.csv                       전기차_전처리및토큰화.csv\n",
      " lr.pkl                            전기차관련검색어인기순.csv\n",
      " lrc.pkl                           전기차관심도지역.csv\n",
      " tvect.pkl                         전기차관심증가.csv\n",
      " 관련키워드.csv                    전기차전처리추가.csv\n",
      " 네이버-제주전기차후기통합.csv     전기차키워드관련주제인기순.csv\n",
      " 느영나영전기차크롤링.csv          전체본문의댓글결과_2022.03.06.xlsx\n",
      " 느영나영전기차크롤링.csv.part     제사모크롤링.csv\n",
      "'본문 검색 결과_2022.03.06.xlsx'   투플럭스sjeju.csv\n",
      " \u001b[01;35m빈도수파악.png\u001b[0m\n"
     ]
    }
   ],
   "source": [
    "ls"
   ]
  },
  {
   "cell_type": "code",
   "execution_count": 42,
   "metadata": {},
   "outputs": [],
   "source": [
    "df_토근화 = pd.read_csv('전기차_전처리및토큰화.csv')"
   ]
  },
  {
   "cell_type": "code",
   "execution_count": 49,
   "metadata": {},
   "outputs": [],
   "source": [
    "df_cafe = pd.read_csv('elecafe.csv')"
   ]
  },
  {
   "cell_type": "code",
   "execution_count": 46,
   "metadata": {},
   "outputs": [
    {
     "data": {
      "text/html": [
       "<div>\n",
       "<style scoped>\n",
       "    .dataframe tbody tr th:only-of-type {\n",
       "        vertical-align: middle;\n",
       "    }\n",
       "\n",
       "    .dataframe tbody tr th {\n",
       "        vertical-align: top;\n",
       "    }\n",
       "\n",
       "    .dataframe thead th {\n",
       "        text-align: right;\n",
       "    }\n",
       "</style>\n",
       "<table border=\"1\" class=\"dataframe\">\n",
       "  <thead>\n",
       "    <tr style=\"text-align: right;\">\n",
       "      <th></th>\n",
       "      <th>전처리</th>\n",
       "      <th>평가</th>\n",
       "    </tr>\n",
       "  </thead>\n",
       "  <tbody>\n",
       "    <tr>\n",
       "      <th>0</th>\n",
       "      <td>아이오 닉 휠 베이스 가치 서비스 센터 가다 부품 수급 문제 로 렌터카 받다 오다 ...</td>\n",
       "      <td>P</td>\n",
       "    </tr>\n",
       "    <tr>\n",
       "      <th>1</th>\n",
       "      <td>현대차 아이오 닉 테슬라 모델 뭘 살다 요 현대차 아이오 닉 테슬라 모델 뭘 살다 ...</td>\n",
       "      <td>P</td>\n",
       "    </tr>\n",
       "    <tr>\n",
       "      <th>2</th>\n",
       "      <td>완판 롯데 렌터카 신 차장 테슬라 프로모션 대다 공지 드리다 스탠다드 롱 레인지 안...</td>\n",
       "      <td>P</td>\n",
       "    </tr>\n",
       "  </tbody>\n",
       "</table>\n",
       "</div>"
      ],
      "text/plain": [
       "                                                 전처리 평가\n",
       "0  아이오 닉 휠 베이스 가치 서비스 센터 가다 부품 수급 문제 로 렌터카 받다 오다 ...  P\n",
       "1  현대차 아이오 닉 테슬라 모델 뭘 살다 요 현대차 아이오 닉 테슬라 모델 뭘 살다 ...  P\n",
       "2  완판 롯데 렌터카 신 차장 테슬라 프로모션 대다 공지 드리다 스탠다드 롱 레인지 안...  P"
      ]
     },
     "execution_count": 46,
     "metadata": {},
     "output_type": "execute_result"
    }
   ],
   "source": [
    "df_토근화.head(3)"
   ]
  },
  {
   "cell_type": "code",
   "execution_count": 47,
   "metadata": {},
   "outputs": [
    {
     "data": {
      "text/plain": [
       "P    201518\n",
       "E    103618\n",
       "N     89684\n",
       "Name: 평가, dtype: int64"
      ]
     },
     "execution_count": 47,
     "metadata": {},
     "output_type": "execute_result"
    }
   ],
   "source": [
    "df_토근화.평가.value_counts()"
   ]
  },
  {
   "cell_type": "code",
   "execution_count": null,
   "metadata": {},
   "outputs": [],
   "source": []
  },
  {
   "cell_type": "code",
   "execution_count": 43,
   "metadata": {},
   "outputs": [],
   "source": [
    "import joblib"
   ]
  },
  {
   "cell_type": "code",
   "execution_count": 45,
   "metadata": {},
   "outputs": [],
   "source": [
    "lrloadmodel=joblib.load('lr.pkl')"
   ]
  },
  {
   "cell_type": "code",
   "execution_count": 51,
   "metadata": {},
   "outputs": [
    {
     "data": {
      "text/plain": [
       "'※ 보다 투명하고, 빠른 거래를 위하여 아래의 글 양식을 준수하여 주세요. ※ \\n\\n\\n1. 거래 지역 : 한림\\n\\n2. 거래 방법 : 직거래\\n\\n3. 연락 방법 : 010-2525-5552\\n(연락처, 안심번호, 쪽지, 채팅 가능 / 📵카카오톡 금지) \\n\\n4. 판매 가격 : 연락주세요\\n\\n5. 판매 제품 : 봉고3더블캡\\n\\n6. 제품 상태 : 중고차량\\n(사용감 있음, 거의 새 것, 미개봉) \\n\\n7. 제품설명 및 사진 \\n-봉고3더블캡  18년 6월식 \\n정확히 5만탔구요\\n오토. \\n차량 잡소리 하나도 안나요\\n전기차 나와서 팔아요\\n\\n\\n블랙박스.0\\n후방감지 0\\n네비 ×\\n열선시트 0\\n열선 핸들 0\\n만든공구함 박스 0\\n핸즈프리 0\\n'"
      ]
     },
     "execution_count": 51,
     "metadata": {},
     "output_type": "execute_result"
    }
   ],
   "source": [
    "df_cafe.내용[0]"
   ]
  },
  {
   "cell_type": "code",
   "execution_count": 52,
   "metadata": {},
   "outputs": [
    {
     "data": {
      "text/plain": [
       "0         아이오 닉 휠 베이스 가치 서비스 센터 가다 부품 수급 문제 로 렌터카 받다 오다 ...\n",
       "1         현대차 아이오 닉 테슬라 모델 뭘 살다 요 현대차 아이오 닉 테슬라 모델 뭘 살다 ...\n",
       "2         완판 롯데 렌터카 신 차장 테슬라 프로모션 대다 공지 드리다 스탠다드 롱 레인지 안...\n",
       "3         코 나 충전 중 화재 로 전 손 되다 안녕하다 코 나 회원 이다 오늘 충전 중 자연...\n",
       "4         전기차 충전 요금 원 복및 조속 한 충전 인프라 확충 대한 국민 청원 진행 하다 읽...\n",
       "                                ...                        \n",
       "394815    대기 순번 문의 관련 되다 주제 대해 미리 카페 내 검색 하다 보다 네 아니다 네 ...\n",
       "394816    오다 진짜 미쳣나봐 요 쿠팡 드디어 미쳣나봐 요 ㅋㅋㅋ 나이키 랑 아디다스 뉴발 신...\n",
       "394817    니 로 회생제동 질문 안녕하다 니 로 중고 로 타고 있다 네비업뎃 하고 나서다 부터...\n",
       "394818    가입 인사 드리다 자기 소개 안녕하다 기다리다 있다 지역 고양시 한글 별명 뜻 이름...\n",
       "394819    취소 차 문의 드리다 관련 되다 주제 대해 미리 카페 내 검색 하다 보다 네 아니다...\n",
       "Name: 전처리, Length: 394820, dtype: object"
      ]
     },
     "execution_count": 52,
     "metadata": {},
     "output_type": "execute_result"
    }
   ],
   "source": [
    "df_토근화['전처리']"
   ]
  },
  {
   "cell_type": "code",
   "execution_count": 57,
   "metadata": {},
   "outputs": [],
   "source": [
    "df_토근화.dropna(inplace=True)"
   ]
  },
  {
   "cell_type": "code",
   "execution_count": 58,
   "metadata": {},
   "outputs": [
    {
     "data": {
      "text/plain": [
       "전처리    0\n",
       "평가     0\n",
       "dtype: int64"
      ]
     },
     "execution_count": 58,
     "metadata": {},
     "output_type": "execute_result"
    }
   ],
   "source": [
    "df_토근화.isnull().sum()"
   ]
  },
  {
   "cell_type": "code",
   "execution_count": 68,
   "metadata": {},
   "outputs": [
    {
     "data": {
      "text/plain": [
       "CountVectorizer()"
      ]
     },
     "execution_count": 68,
     "metadata": {},
     "output_type": "execute_result"
    }
   ],
   "source": [
    "from sklearn.feature_extraction.text import CountVectorizer\n",
    "cvect = CountVectorizer()\n",
    "cvect.fit(df_토근화['전처리'])"
   ]
  },
  {
   "cell_type": "code",
   "execution_count": 69,
   "metadata": {},
   "outputs": [
    {
     "data": {
      "text/plain": [
       "'※ 보다 투명하고, 빠른 거래를 위하여 아래의 글 양식을 준수하여 주세요. ※ \\n\\n\\n1. 거래 지역 : 한림\\n\\n2. 거래 방법 : 직거래\\n\\n3. 연락 방법 : 010-2525-5552\\n(연락처, 안심번호, 쪽지, 채팅 가능 / 📵카카오톡 금지) \\n\\n4. 판매 가격 : 연락주세요\\n\\n5. 판매 제품 : 봉고3더블캡\\n\\n6. 제품 상태 : 중고차량\\n(사용감 있음, 거의 새 것, 미개봉) \\n\\n7. 제품설명 및 사진 \\n-봉고3더블캡  18년 6월식 \\n정확히 5만탔구요\\n오토. \\n차량 잡소리 하나도 안나요\\n전기차 나와서 팔아요\\n\\n\\n블랙박스.0\\n후방감지 0\\n네비 ×\\n열선시트 0\\n열선 핸들 0\\n만든공구함 박스 0\\n핸즈프리 0\\n'"
      ]
     },
     "execution_count": 69,
     "metadata": {},
     "output_type": "execute_result"
    }
   ],
   "source": [
    "df_cafe.내용[0]"
   ]
  },
  {
   "cell_type": "code",
   "execution_count": 70,
   "metadata": {},
   "outputs": [],
   "source": [
    "df_cafe_cv=cvect.transform(df_cafe)"
   ]
  },
  {
   "cell_type": "code",
   "execution_count": 71,
   "metadata": {},
   "outputs": [
    {
     "data": {
      "text/plain": [
       "<9x91756 sparse matrix of type '<class 'numpy.int64'>'\n",
       "\twith 5 stored elements in Compressed Sparse Row format>"
      ]
     },
     "execution_count": 71,
     "metadata": {},
     "output_type": "execute_result"
    }
   ],
   "source": [
    "df_cafe_cv"
   ]
  },
  {
   "cell_type": "code",
   "execution_count": 83,
   "metadata": {},
   "outputs": [
    {
     "name": "stderr",
     "output_type": "stream",
     "text": [
      "/tmp/ipykernel_17335/962543300.py:1: FutureWarning: The default value of regex will change from True to False in a future version.\n",
      "  df_cafe.댓글 = df_cafe.댓글.str.replace('[^ㄱ-ㅎㅏ-ㅣ가-힣 ]','')\n"
     ]
    },
    {
     "data": {
      "text/plain": [
       "(5915, 10)"
      ]
     },
     "execution_count": 83,
     "metadata": {},
     "output_type": "execute_result"
    }
   ],
   "source": [
    "df_cafe.댓글 = df_cafe.댓글.str.replace('[^ㄱ-ㅎㅏ-ㅣ가-힣 ]','')\n",
    "df_cafe.shape"
   ]
  },
  {
   "cell_type": "code",
   "execution_count": 77,
   "metadata": {},
   "outputs": [],
   "source": [
    "stop_text = '은 는 이 가 을 를 의 에게 에 들 좀 잘 과 도 으로 자 와 ㅋㅋ ㅠㅠ ㅎㅎ'\n",
    "stopwords = stop_text.split()"
   ]
  },
  {
   "cell_type": "code",
   "execution_count": 84,
   "metadata": {},
   "outputs": [
    {
     "data": {
      "application/vnd.jupyter.widget-view+json": {
       "model_id": "d88a6c7157064630b8d5831e82bf7dbc",
       "version_major": 2,
       "version_minor": 0
      },
      "text/plain": [
       "  0%|          | 0/5915 [00:00<?, ?it/s]"
      ]
     },
     "metadata": {},
     "output_type": "display_data"
    }
   ],
   "source": [
    "X_test_댓글 = []\n",
    "for sentence in tqdm(df_cafe.댓글):\n",
    "    morphs = okt.morphs(sentence, stem=True)\n",
    "    tmp_list = [word for word in morphs if word not in stopwords]\n",
    "    tmp_str = ' '.join(tmp_list)\n",
    "    X_test_댓글.append(tmp_str)"
   ]
  },
  {
   "cell_type": "code",
   "execution_count": 85,
   "metadata": {},
   "outputs": [],
   "source": [
    "df_cafe['토큰화_댓글'] = X_test_댓글"
   ]
  },
  {
   "cell_type": "code",
   "execution_count": 86,
   "metadata": {},
   "outputs": [
    {
     "data": {
      "text/html": [
       "<div>\n",
       "<style scoped>\n",
       "    .dataframe tbody tr th:only-of-type {\n",
       "        vertical-align: middle;\n",
       "    }\n",
       "\n",
       "    .dataframe tbody tr th {\n",
       "        vertical-align: top;\n",
       "    }\n",
       "\n",
       "    .dataframe thead th {\n",
       "        text-align: right;\n",
       "    }\n",
       "</style>\n",
       "<table border=\"1\" class=\"dataframe\">\n",
       "  <thead>\n",
       "    <tr style=\"text-align: right;\">\n",
       "      <th></th>\n",
       "      <th>제목</th>\n",
       "      <th>내용</th>\n",
       "      <th>댓글</th>\n",
       "      <th>유형</th>\n",
       "      <th>조회수</th>\n",
       "      <th>작성날짜</th>\n",
       "      <th>월별</th>\n",
       "      <th>카페명</th>\n",
       "      <th>년별</th>\n",
       "      <th>토큰화</th>\n",
       "      <th>토큰화_댓글</th>\n",
       "    </tr>\n",
       "  </thead>\n",
       "  <tbody>\n",
       "    <tr>\n",
       "      <th>0</th>\n",
       "      <td>봉고3더블캡</td>\n",
       "      <td>보다 투명하고 빠른 거래를 위하여 아래의 글 양식을 준수하여 주세요   거래 지역...</td>\n",
       "      <td>가격이 궁금해요얼마인가요ㅡ</td>\n",
       "      <td>제사모 중고장터</td>\n",
       "      <td>130</td>\n",
       "      <td>2022.03.16.</td>\n",
       "      <td>2022.03</td>\n",
       "      <td>제사모</td>\n",
       "      <td>2022</td>\n",
       "      <td>보다 투명하다 빠르다 거래 위 하다 아래 글 양식 준수 하다 줄다 거래 지역 한림 ...</td>\n",
       "      <td>가격 궁금하다 얼마 인가요 ㅡ</td>\n",
       "    </tr>\n",
       "    <tr>\n",
       "      <th>1</th>\n",
       "      <td>렌트카 알아보고 있는데 lpg 차량이 저렴한 이유가 뭘까요?</td>\n",
       "      <td>육지에서 이번주 토욜부터 제주 한달살이 시작하면서 렌트카 알아보고 있어요 육지에선 ...</td>\n",
       "      <td>요즘 전기차가 대세기도 하지만 가스값 장난아니게 올랏어요또한 한달살기라면 자차가져가...</td>\n",
       "      <td>Q. 종합 질문방</td>\n",
       "      <td>161</td>\n",
       "      <td>2022.03.16.</td>\n",
       "      <td>2022.03</td>\n",
       "      <td>제사모</td>\n",
       "      <td>2022</td>\n",
       "      <td>육지 에서 이번 주 토욜 부터 제주 한 달 살이 시작 하다 렌트카 알아보다 있다 육...</td>\n",
       "      <td>요즘 전기차 대세 기도 하지만 가스 값 장난 아니다 올 랏 어 요 또한 한 달 살기...</td>\n",
       "    </tr>\n",
       "    <tr>\n",
       "      <th>2</th>\n",
       "      <td>더 뉴 아이오닉 일렉트릭N 20년형 흰색7만 현대스마트센스 l추가 완전무사고/믿고사...</td>\n",
       "      <td>차량 정보 모델명  더 뉴 아이오닉 일렉트릭  전기차차량연식  년형년 월 등록차량...</td>\n",
       "      <td>내용없음</td>\n",
       "      <td>중고자동차 매물</td>\n",
       "      <td>62</td>\n",
       "      <td>2022.03.16.</td>\n",
       "      <td>2022.03</td>\n",
       "      <td>제사모</td>\n",
       "      <td>2022</td>\n",
       "      <td>차량 정보 모델 명 더 뉴 아이오 닉 일 렉 트릭 전기차 차량 연식 년 형 년 월 ...</td>\n",
       "      <td>내용 없다</td>\n",
       "    </tr>\n",
       "    <tr>\n",
       "      <th>3</th>\n",
       "      <td>요번에 보니..</td>\n",
       "      <td>안에렌터카 무진장 많이 다니던데임산부 노약자 상관없이넘쳐나던디거기다우도내에전기차 렌...</td>\n",
       "      <td>내용없음</td>\n",
       "      <td>실시간 이야기</td>\n",
       "      <td>119</td>\n",
       "      <td>2022.03.15.</td>\n",
       "      <td>2022.03</td>\n",
       "      <td>제사모</td>\n",
       "      <td>2022</td>\n",
       "      <td>안 렌터카 무진장 많이 다니다 임산부 노약 상관없다 넘치다 거기 다우 내 에전 기차...</td>\n",
       "      <td>내용 없다</td>\n",
       "    </tr>\n",
       "    <tr>\n",
       "      <th>4</th>\n",
       "      <td>제주시 애월읍 해안도로 도보 1분 거리 애월 르시엘 아파트 할인 분양(회사 직영)</td>\n",
       "      <td>매물제목   애월 르시엘 분양 거래유형   분양 소재지역   애월읍 신엄리 면적정...</td>\n",
       "      <td>내용없음</td>\n",
       "      <td>■ 분양정보/신축매물</td>\n",
       "      <td>134</td>\n",
       "      <td>2022.03.15.</td>\n",
       "      <td>2022.03</td>\n",
       "      <td>제사모</td>\n",
       "      <td>2022</td>\n",
       "      <td>매물 제목 애월 르시 엘 분양 거래 유형 분양 소재 지역 애월읍 신엄리 면적 정보 ...</td>\n",
       "      <td>내용 없다</td>\n",
       "    </tr>\n",
       "    <tr>\n",
       "      <th>...</th>\n",
       "      <td>...</td>\n",
       "      <td>...</td>\n",
       "      <td>...</td>\n",
       "      <td>...</td>\n",
       "      <td>...</td>\n",
       "      <td>...</td>\n",
       "      <td>...</td>\n",
       "      <td>...</td>\n",
       "      <td>...</td>\n",
       "      <td>...</td>\n",
       "      <td>...</td>\n",
       "    </tr>\n",
       "    <tr>\n",
       "      <th>5910</th>\n",
       "      <td>[링크스크랩] 100% 순수 전기차 ‘SM3 Z.E.’ 보급 위해 특별 할인 제공</td>\n",
       "      <td>출처뉴스동아일보  네이버 뉴스</td>\n",
       "      <td>정부 보조금 까지 받게 된다면 엄청 싸게 살수 있겠네요서울에서 다시 보조금 지원 받...</td>\n",
       "      <td>제주특별자치도</td>\n",
       "      <td>111</td>\n",
       "      <td>2015.03.08.</td>\n",
       "      <td>2015.03</td>\n",
       "      <td>전기차동호회</td>\n",
       "      <td>2015</td>\n",
       "      <td>출처 뉴스 동아일보 네이버 뉴스</td>\n",
       "      <td>정부 보조금 까지 받다 되다 엄청 싸다 살수 있다 서울 에서 다시 보조금 지원 받다...</td>\n",
       "    </tr>\n",
       "    <tr>\n",
       "      <th>5911</th>\n",
       "      <td>[링크스크랩] 자동차 업계, 제주도 전기차 민간 보급 공모 총력전…가격 인하 이어져</td>\n",
       "      <td>출처뉴스전자신문  네이버 뉴스</td>\n",
       "      <td>쏘울 내일 받는데 만원 낮아지다니ㅠㅠ서울도 다시한번더 보조금 지원하면 좋겠네요ㅠㅠ</td>\n",
       "      <td>제주특별자치도</td>\n",
       "      <td>84</td>\n",
       "      <td>2015.03.04.</td>\n",
       "      <td>2015.03</td>\n",
       "      <td>전기차동호회</td>\n",
       "      <td>2015</td>\n",
       "      <td>출처 뉴스 전자신문 네이버 뉴스</td>\n",
       "      <td>쏘울 내일 받다 만원 낮아지다 서울 다시 한번 더 보조금 지원 하다 좋다</td>\n",
       "    </tr>\n",
       "    <tr>\n",
       "      <th>5912</th>\n",
       "      <td>등업부탁해요 하반기 전기차를 신청하고싶었는데</td>\n",
       "      <td>하반기 전기차를 신청하고싶었는데주차장문제로 못하로 내년 상반기를 기대합니다등업부탁합니다</td>\n",
       "      <td>반가워요내년에 제주도 전기차 공급량이 대박이던데 좋은소식 있으시길내년에 제주 많이 ...</td>\n",
       "      <td>제주특별자치도</td>\n",
       "      <td>76</td>\n",
       "      <td>2014.10.26.</td>\n",
       "      <td>2014.10</td>\n",
       "      <td>전기차동호회</td>\n",
       "      <td>2014</td>\n",
       "      <td>하반기 전기차 신청 하다 주차장 문제 로 못 하 로 내년 상반기 기대하다 등업 부탁 하다</td>\n",
       "      <td>반갑다 내년 제주도 전기차 공 급량 대박 이던 데 좋다 소식 있다 내년 제주 많이 ...</td>\n",
       "    </tr>\n",
       "    <tr>\n",
       "      <th>5913</th>\n",
       "      <td>ㅇㅇ</td>\n",
       "      <td>ㅇ</td>\n",
       "      <td></td>\n",
       "      <td>제주특별자치도</td>\n",
       "      <td>35</td>\n",
       "      <td>2014.06.21.</td>\n",
       "      <td>2014.06</td>\n",
       "      <td>전기차동호회</td>\n",
       "      <td>2014</td>\n",
       "      <td>ㅇ</td>\n",
       "      <td></td>\n",
       "    </tr>\n",
       "    <tr>\n",
       "      <th>5914</th>\n",
       "      <td>제주도, 상반기 전기차 226대 공모 7.3:1</td>\n",
       "      <td>제주도 상반기 전기차 공모결과 경쟁률이 평균 으로 나타났다  제주특별자치도는 지난 ...</td>\n",
       "      <td>내용없음</td>\n",
       "      <td>제주특별자치도</td>\n",
       "      <td>50</td>\n",
       "      <td>2014.04.08.</td>\n",
       "      <td>2014.04</td>\n",
       "      <td>전기차동호회</td>\n",
       "      <td>2014</td>\n",
       "      <td>제주도 상반기 전기차 공모 결과 경쟁률 평균 나타나다 제 주 특별자치도 지난 월일 ...</td>\n",
       "      <td>내용 없다</td>\n",
       "    </tr>\n",
       "  </tbody>\n",
       "</table>\n",
       "<p>5915 rows × 11 columns</p>\n",
       "</div>"
      ],
      "text/plain": [
       "                                                     제목  \\\n",
       "0                                                봉고3더블캡   \n",
       "1                     렌트카 알아보고 있는데 lpg 차량이 저렴한 이유가 뭘까요?   \n",
       "2     더 뉴 아이오닉 일렉트릭N 20년형 흰색7만 현대스마트센스 l추가 완전무사고/믿고사...   \n",
       "3                                              요번에 보니..   \n",
       "4         제주시 애월읍 해안도로 도보 1분 거리 애월 르시엘 아파트 할인 분양(회사 직영)   \n",
       "...                                                 ...   \n",
       "5910      [링크스크랩] 100% 순수 전기차 ‘SM3 Z.E.’ 보급 위해 특별 할인 제공   \n",
       "5911     [링크스크랩] 자동차 업계, 제주도 전기차 민간 보급 공모 총력전…가격 인하 이어져   \n",
       "5912                           등업부탁해요 하반기 전기차를 신청하고싶었는데   \n",
       "5913                                                 ㅇㅇ   \n",
       "5914                         제주도, 상반기 전기차 226대 공모 7.3:1   \n",
       "\n",
       "                                                     내용  \\\n",
       "0      보다 투명하고 빠른 거래를 위하여 아래의 글 양식을 준수하여 주세요   거래 지역...   \n",
       "1     육지에서 이번주 토욜부터 제주 한달살이 시작하면서 렌트카 알아보고 있어요 육지에선 ...   \n",
       "2      차량 정보 모델명  더 뉴 아이오닉 일렉트릭  전기차차량연식  년형년 월 등록차량...   \n",
       "3     안에렌터카 무진장 많이 다니던데임산부 노약자 상관없이넘쳐나던디거기다우도내에전기차 렌...   \n",
       "4      매물제목   애월 르시엘 분양 거래유형   분양 소재지역   애월읍 신엄리 면적정...   \n",
       "...                                                 ...   \n",
       "5910                                   출처뉴스동아일보  네이버 뉴스   \n",
       "5911                                   출처뉴스전자신문  네이버 뉴스   \n",
       "5912  하반기 전기차를 신청하고싶었는데주차장문제로 못하로 내년 상반기를 기대합니다등업부탁합니다    \n",
       "5913                                                  ㅇ   \n",
       "5914  제주도 상반기 전기차 공모결과 경쟁률이 평균 으로 나타났다  제주특별자치도는 지난 ...   \n",
       "\n",
       "                                                     댓글           유형  조회수  \\\n",
       "0                                        가격이 궁금해요얼마인가요ㅡ     제사모 중고장터  130   \n",
       "1     요즘 전기차가 대세기도 하지만 가스값 장난아니게 올랏어요또한 한달살기라면 자차가져가...    Q. 종합 질문방  161   \n",
       "2                                                  내용없음     중고자동차 매물   62   \n",
       "3                                                  내용없음      실시간 이야기  119   \n",
       "4                                                  내용없음  ■ 분양정보/신축매물  134   \n",
       "...                                                 ...          ...  ...   \n",
       "5910  정부 보조금 까지 받게 된다면 엄청 싸게 살수 있겠네요서울에서 다시 보조금 지원 받...      제주특별자치도  111   \n",
       "5911      쏘울 내일 받는데 만원 낮아지다니ㅠㅠ서울도 다시한번더 보조금 지원하면 좋겠네요ㅠㅠ      제주특별자치도   84   \n",
       "5912  반가워요내년에 제주도 전기차 공급량이 대박이던데 좋은소식 있으시길내년에 제주 많이 ...      제주특별자치도   76   \n",
       "5913                                                         제주특별자치도   35   \n",
       "5914                                               내용없음      제주특별자치도   50   \n",
       "\n",
       "             작성날짜       월별     카페명    년별  \\\n",
       "0     2022.03.16.  2022.03     제사모  2022   \n",
       "1     2022.03.16.  2022.03     제사모  2022   \n",
       "2     2022.03.16.  2022.03     제사모  2022   \n",
       "3     2022.03.15.  2022.03     제사모  2022   \n",
       "4     2022.03.15.  2022.03     제사모  2022   \n",
       "...           ...      ...     ...   ...   \n",
       "5910  2015.03.08.  2015.03  전기차동호회  2015   \n",
       "5911  2015.03.04.  2015.03  전기차동호회  2015   \n",
       "5912  2014.10.26.  2014.10  전기차동호회  2014   \n",
       "5913  2014.06.21.  2014.06  전기차동호회  2014   \n",
       "5914  2014.04.08.  2014.04  전기차동호회  2014   \n",
       "\n",
       "                                                    토큰화  \\\n",
       "0     보다 투명하다 빠르다 거래 위 하다 아래 글 양식 준수 하다 줄다 거래 지역 한림 ...   \n",
       "1     육지 에서 이번 주 토욜 부터 제주 한 달 살이 시작 하다 렌트카 알아보다 있다 육...   \n",
       "2     차량 정보 모델 명 더 뉴 아이오 닉 일 렉 트릭 전기차 차량 연식 년 형 년 월 ...   \n",
       "3     안 렌터카 무진장 많이 다니다 임산부 노약 상관없다 넘치다 거기 다우 내 에전 기차...   \n",
       "4     매물 제목 애월 르시 엘 분양 거래 유형 분양 소재 지역 애월읍 신엄리 면적 정보 ...   \n",
       "...                                                 ...   \n",
       "5910                                  출처 뉴스 동아일보 네이버 뉴스   \n",
       "5911                                  출처 뉴스 전자신문 네이버 뉴스   \n",
       "5912  하반기 전기차 신청 하다 주차장 문제 로 못 하 로 내년 상반기 기대하다 등업 부탁 하다   \n",
       "5913                                                  ㅇ   \n",
       "5914  제주도 상반기 전기차 공모 결과 경쟁률 평균 나타나다 제 주 특별자치도 지난 월일 ...   \n",
       "\n",
       "                                                 토큰화_댓글  \n",
       "0                                      가격 궁금하다 얼마 인가요 ㅡ  \n",
       "1     요즘 전기차 대세 기도 하지만 가스 값 장난 아니다 올 랏 어 요 또한 한 달 살기...  \n",
       "2                                                 내용 없다  \n",
       "3                                                 내용 없다  \n",
       "4                                                 내용 없다  \n",
       "...                                                 ...  \n",
       "5910  정부 보조금 까지 받다 되다 엄청 싸다 살수 있다 서울 에서 다시 보조금 지원 받다...  \n",
       "5911           쏘울 내일 받다 만원 낮아지다 서울 다시 한번 더 보조금 지원 하다 좋다  \n",
       "5912  반갑다 내년 제주도 전기차 공 급량 대박 이던 데 좋다 소식 있다 내년 제주 많이 ...  \n",
       "5913                                                     \n",
       "5914                                              내용 없다  \n",
       "\n",
       "[5915 rows x 11 columns]"
      ]
     },
     "execution_count": 86,
     "metadata": {},
     "output_type": "execute_result"
    }
   ],
   "source": [
    "df_cafe"
   ]
  },
  {
   "cell_type": "code",
   "execution_count": null,
   "metadata": {},
   "outputs": [],
   "source": [
    "from sklearn.feature_extraction.text import CountVectorizer\n",
    "cvect = CountVectorizer()\n",
    "cvect.fit(df_토근화['전처리'])"
   ]
  },
  {
   "cell_type": "code",
   "execution_count": 91,
   "metadata": {},
   "outputs": [
    {
     "data": {
      "text/plain": [
       "LabelEncoder()"
      ]
     },
     "execution_count": 91,
     "metadata": {},
     "output_type": "execute_result"
    }
   ],
   "source": [
    "from sklearn.preprocessing import LabelEncoder\n",
    "encoder = LabelEncoder()\n",
    "encoder.fit(df_토근화['평가'])"
   ]
  },
  {
   "cell_type": "code",
   "execution_count": 92,
   "metadata": {},
   "outputs": [],
   "source": [
    "labeling = encoder.fit_transform(df_토근화['평가'])"
   ]
  },
  {
   "cell_type": "code",
   "execution_count": 93,
   "metadata": {},
   "outputs": [
    {
     "data": {
      "text/plain": [
       "array([2, 2, 2, ..., 0, 2, 2])"
      ]
     },
     "execution_count": 93,
     "metadata": {},
     "output_type": "execute_result"
    }
   ],
   "source": [
    "labeling"
   ]
  },
  {
   "cell_type": "code",
   "execution_count": 95,
   "metadata": {},
   "outputs": [],
   "source": [
    "from sklearn.model_selection import train_test_split\n",
    "X_train, X_test, y_train, y_test = train_test_split(\n",
    "    df_토근화.전처리,labeling, random_state=2021,test_size=0.25\n",
    ")"
   ]
  },
  {
   "cell_type": "code",
   "execution_count": 100,
   "metadata": {},
   "outputs": [
    {
     "data": {
      "text/plain": [
       "((296083, 2633524), (98695, 2633524))"
      ]
     },
     "execution_count": 100,
     "metadata": {},
     "output_type": "execute_result"
    }
   ],
   "source": [
    "from sklearn.feature_extraction.text import TfidfVectorizer\n",
    "tvect = TfidfVectorizer(ngram_range=(1,2))\n",
    "tvect.fit(X_train)\n",
    "X_train_tv = tvect.transform(X_train)\n",
    "X_test_tv = tvect.transform(X_test)\n",
    "X_train_tv.shape, X_test_tv.shape"
   ]
  },
  {
   "cell_type": "code",
   "execution_count": 101,
   "metadata": {},
   "outputs": [
    {
     "name": "stdout",
     "output_type": "stream",
     "text": [
      "CPU times: user 50min 36s, sys: 1min 10s, total: 51min 47s\n",
      "Wall time: 18min 2s\n"
     ]
    },
    {
     "name": "stderr",
     "output_type": "stream",
     "text": [
      "/home/miwoos/anaconda3/lib/python3.9/site-packages/sklearn/linear_model/_logistic.py:763: ConvergenceWarning: lbfgs failed to converge (status=1):\n",
      "STOP: TOTAL NO. of ITERATIONS REACHED LIMIT.\n",
      "\n",
      "Increase the number of iterations (max_iter) or scale the data as shown in:\n",
      "    https://scikit-learn.org/stable/modules/preprocessing.html\n",
      "Please also refer to the documentation for alternative solver options:\n",
      "    https://scikit-learn.org/stable/modules/linear_model.html#logistic-regression\n",
      "  n_iter_i = _check_optimize_result(\n"
     ]
    },
    {
     "data": {
      "text/plain": [
       "0.8216626982116622"
      ]
     },
     "execution_count": 101,
     "metadata": {},
     "output_type": "execute_result"
    }
   ],
   "source": [
    "from sklearn.linear_model import LogisticRegression\n",
    "lrc = LogisticRegression(max_iter=300)\n",
    "%time lrc.fit(X_train_tv, y_train)\n",
    "lrc.score(X_test_tv, y_test)"
   ]
  },
  {
   "cell_type": "code",
   "execution_count": 134,
   "metadata": {},
   "outputs": [
    {
     "data": {
      "text/plain": [
       "0.8216626982116622"
      ]
     },
     "execution_count": 134,
     "metadata": {},
     "output_type": "execute_result"
    }
   ],
   "source": [
    "from sklearn.metrics import accuracy_score\n",
    "\n",
    "pred=lrc.predict(X_test_tv)\n",
    "accuracy_score(y_test, pred)"
   ]
  },
  {
   "cell_type": "code",
   "execution_count": 141,
   "metadata": {},
   "outputs": [
    {
     "name": "stdout",
     "output_type": "stream",
     "text": [
      "0.8074880772723453\n",
      "0.794850865078113\n",
      "0.8006451566797836\n"
     ]
    }
   ],
   "source": [
    "from sklearn.metrics import precision_score, recall_score, f1_score\n",
    "p = precision_score(y_test, pred,average='macro')\n",
    "print(p)\n",
    "r = recall_score(y_test, pred,average='macro')\n",
    "print(r)\n",
    "f1 = f1_score(y_test, pred,average='macro')\n",
    "print(f1)"
   ]
  },
  {
   "cell_type": "code",
   "execution_count": 142,
   "metadata": {},
   "outputs": [
    {
     "name": "stdout",
     "output_type": "stream",
     "text": [
      "[[19980  2228  3885]\n",
      " [ 2195 16206  3944]\n",
      " [ 2402  2947 44908]]\n"
     ]
    }
   ],
   "source": [
    "from sklearn.model_selection import cross_val_predict\n",
    "from sklearn.metrics import confusion_matrix\n",
    "cf = confusion_matrix(y_test, pred)\n",
    "print(cf)"
   ]
  },
  {
   "cell_type": "code",
   "execution_count": 103,
   "metadata": {},
   "outputs": [
    {
     "data": {
      "text/plain": [
       "['lrc.pkl']"
      ]
     },
     "execution_count": 103,
     "metadata": {},
     "output_type": "execute_result"
    }
   ],
   "source": [
    "joblib.dump(tvect, 'tvect.pkl')\n",
    "joblib.dump(lrc, 'lrc.pkl')"
   ]
  },
  {
   "cell_type": "code",
   "execution_count": 104,
   "metadata": {},
   "outputs": [
    {
     "data": {
      "text/plain": [
       "{'alpha': 1.0, 'class_prior': None, 'fit_prior': True}"
      ]
     },
     "execution_count": 104,
     "metadata": {},
     "output_type": "execute_result"
    }
   ],
   "source": [
    "from sklearn.naive_bayes import MultinomialNB\n",
    "nb = MultinomialNB()\n",
    "nb.get_params()"
   ]
  },
  {
   "cell_type": "code",
   "execution_count": 105,
   "metadata": {},
   "outputs": [
    {
     "data": {
      "text/plain": [
       "0.5560565378185318"
      ]
     },
     "execution_count": 105,
     "metadata": {},
     "output_type": "execute_result"
    }
   ],
   "source": [
    "nb.fit(X_train_tv, y_train)\n",
    "nb.score(X_test_tv, y_test)"
   ]
  },
  {
   "cell_type": "code",
   "execution_count": 89,
   "metadata": {},
   "outputs": [],
   "source": [
    "# df_cafe_cv=cvect.transform(df_cafe.토큰화_댓글)"
   ]
  },
  {
   "cell_type": "code",
   "execution_count": 102,
   "metadata": {},
   "outputs": [],
   "source": [
    "X_cafe_tv = tvect.transform(df_cafe.토큰화_댓글)"
   ]
  },
  {
   "cell_type": "code",
   "execution_count": 113,
   "metadata": {},
   "outputs": [],
   "source": [
    "X_cafe_내용_tv = tvect.transform(df_cafe.토큰화)"
   ]
  },
  {
   "cell_type": "code",
   "execution_count": null,
   "metadata": {},
   "outputs": [],
   "source": [
    "X_test_tv = tvect.transform(X_test)"
   ]
  },
  {
   "cell_type": "code",
   "execution_count": 108,
   "metadata": {},
   "outputs": [
    {
     "data": {
      "text/plain": [
       "'요즘 전기차 대세 기도 하지만 가스 값 장난 아니다 올 랏 어 요 또한 한 달 살기 라면 자차 가져가다 편하다 차갑다 없다 어쩔 수 없다 만요 접촉 사고 라도 나다 그야말로 덤탱이 제대로 쓰다 확인 하다 하다 제주 가스 값 비싸다 ㅠ 네 알다 아이 랑 제 주전 년 살이 다녀왓 지만 좋다 기억 그다지 없다 ㅎ 가격 과는 관계 없이 원래 렌트카 늘다 사용 하다 일부 차종 빼다 제주도 무연 경유 이에요'"
      ]
     },
     "execution_count": 108,
     "metadata": {},
     "output_type": "execute_result"
    }
   ],
   "source": [
    "df_cafe.토큰화_댓글[1]"
   ]
  },
  {
   "cell_type": "code",
   "execution_count": 114,
   "metadata": {},
   "outputs": [
    {
     "data": {
      "text/plain": [
       "array([2, 1, 2, ..., 2, 0, 2])"
      ]
     },
     "execution_count": 114,
     "metadata": {},
     "output_type": "execute_result"
    }
   ],
   "source": [
    "lrc.predict(X_cafe_내용_tv)"
   ]
  },
  {
   "cell_type": "code",
   "execution_count": 112,
   "metadata": {},
   "outputs": [
    {
     "data": {
      "text/plain": [
       "array(['E', 'N', 'P'], dtype=object)"
      ]
     },
     "execution_count": 112,
     "metadata": {},
     "output_type": "execute_result"
    }
   ],
   "source": [
    "np.unique(encoder.inverse_transform(lrc.predict(X_cafe_tv)))"
   ]
  },
  {
   "cell_type": "code",
   "execution_count": 124,
   "metadata": {},
   "outputs": [
    {
     "data": {
      "text/html": [
       "<div>\n",
       "<style scoped>\n",
       "    .dataframe tbody tr th:only-of-type {\n",
       "        vertical-align: middle;\n",
       "    }\n",
       "\n",
       "    .dataframe tbody tr th {\n",
       "        vertical-align: top;\n",
       "    }\n",
       "\n",
       "    .dataframe thead th {\n",
       "        text-align: right;\n",
       "    }\n",
       "</style>\n",
       "<table border=\"1\" class=\"dataframe\">\n",
       "  <thead>\n",
       "    <tr style=\"text-align: right;\">\n",
       "      <th></th>\n",
       "      <th>제목</th>\n",
       "      <th>내용</th>\n",
       "      <th>댓글</th>\n",
       "      <th>유형</th>\n",
       "      <th>조회수</th>\n",
       "      <th>작성날짜</th>\n",
       "      <th>월별</th>\n",
       "      <th>카페명</th>\n",
       "      <th>년별</th>\n",
       "      <th>토큰화</th>\n",
       "      <th>토큰화_댓글</th>\n",
       "    </tr>\n",
       "  </thead>\n",
       "  <tbody>\n",
       "    <tr>\n",
       "      <th>3566</th>\n",
       "      <td>금융치료</td>\n",
       "      <td>완료하였습니다 나라에 세금이나 좀 더 충당해라</td>\n",
       "      <td>크 정의구현에 마음이 시원해집니다 ㅎ번호가리세요헉 고맙습니다얼마인가요각각 십만원 이...</td>\n",
       "      <td>제주특별자치도</td>\n",
       "      <td>6,136</td>\n",
       "      <td>2022.02.25.</td>\n",
       "      <td>2022.02</td>\n",
       "      <td>전기차동호회</td>\n",
       "      <td>2022</td>\n",
       "      <td>완료 하다 나라 세금 이나 더 충당 하다</td>\n",
       "      <td>크다 정의 구현 마음 시원하다 지다 ㅎ 번호 가리다 헉 고맙다 얼마 인가요 각각 십...</td>\n",
       "    </tr>\n",
       "    <tr>\n",
       "      <th>3567</th>\n",
       "      <td>경부하시간 차이</td>\n",
       "      <td>육지랑 제주랑 경부하시간이 다르더라고요육지는 시부터 시제주는 시부터 시이유가 뭘까요</td>\n",
       "      <td>제주도는 하루일과를 일찍 시작해서 일찍 끝내서가 아닐까요참고로 저는년부터 년동안 소...</td>\n",
       "      <td>제주특별자치도</td>\n",
       "      <td>6,776</td>\n",
       "      <td>2022.03.04.</td>\n",
       "      <td>2022.03</td>\n",
       "      <td>전기차동호회</td>\n",
       "      <td>2022</td>\n",
       "      <td>육지 랑 제주 랑 경부 하다 간이 다르다 육지 시 부터 시 제주 시 부터 시 이유 ...</td>\n",
       "      <td>제주도 하루 일과 일찍 시작 하다 일찍 끝내다 아니다 요 참고 로 저 년 부터 년 ...</td>\n",
       "    </tr>\n",
       "    <tr>\n",
       "      <th>3568</th>\n",
       "      <td>제주도 여행지 추천 부탁드립니다.</td>\n",
       "      <td>제가 결혼기념일 즈음하고 얼마전 인연을 맺은 사돈내외와 제주도 여행을 하려고 합니다...</td>\n",
       "      <td>제주 가시면 해돋이보러 성산 일출봉 꼭 가보셔요 한해에 해돋이 볼수 있는 날은 얼마...</td>\n",
       "      <td>제주특별자치도</td>\n",
       "      <td>1,973</td>\n",
       "      <td>2022.03.14.</td>\n",
       "      <td>2022.03</td>\n",
       "      <td>전기차동호회</td>\n",
       "      <td>2022</td>\n",
       "      <td>제 결혼기념일 즈음 하고 얼마 전 인연 맺다 사돈 내외 제주도 여행 하다 하다 여행...</td>\n",
       "      <td>제주 가시 면 해돋이 보다 성산 일출봉 꼭 가보다 한해 해돋이 보다 있다 날 얼마 ...</td>\n",
       "    </tr>\n",
       "    <tr>\n",
       "      <th>3569</th>\n",
       "      <td>제주 폴스타</td>\n",
       "      <td>제주도 폴스타 오픈예정이던대 정확한 시기는 안나온건가요혹시 카페에서도 폴스타사전계약...</td>\n",
       "      <td>제주매장은 언제 예정인지는 잘모르겠네요사전계약자들중 기존 생산물량 잡은신분들은월말부...</td>\n",
       "      <td>제주특별자치도</td>\n",
       "      <td>742</td>\n",
       "      <td>2022.03.14.</td>\n",
       "      <td>2022.03</td>\n",
       "      <td>전기차동호회</td>\n",
       "      <td>2022</td>\n",
       "      <td>제주도 폴 스타 오픈 예정 이던 대다 정확하다 시기 안나 온건 가요 혹시 카페 에서...</td>\n",
       "      <td>제 주 매장 언제 예정 인 지는 모르다 사전 계 약자 중 기존 생산 물량 잡다 신분...</td>\n",
       "    </tr>\n",
       "    <tr>\n",
       "      <th>3570</th>\n",
       "      <td>경매에 BMW i3가 왕창 나왔네요~</td>\n",
       "      <td>제주의소리가 지난해 월일 단독 보도한 만원  전기차 수십대 제주 곳곳 방치 왜 기사...</td>\n",
       "      <td>수리해서 탈만한차는 몇없을거에요그니깐요저렇게 처리할 보조금 있으면좋은 차를 만들지 ...</td>\n",
       "      <td>제주특별자치도</td>\n",
       "      <td>944</td>\n",
       "      <td>2022.03.12.</td>\n",
       "      <td>2022.03</td>\n",
       "      <td>전기차동호회</td>\n",
       "      <td>2022</td>\n",
       "      <td>제주 소리 지난해 월일 단독 보도 한 만원 전기차 수십 대 제주 곳곳 방치 왜 기사...</td>\n",
       "      <td>수리 하다 탈 만 한 차다 몇 없다 그니 깔다 저렇게 처리 하다 보조금 있다 좋다 ...</td>\n",
       "    </tr>\n",
       "    <tr>\n",
       "      <th>...</th>\n",
       "      <td>...</td>\n",
       "      <td>...</td>\n",
       "      <td>...</td>\n",
       "      <td>...</td>\n",
       "      <td>...</td>\n",
       "      <td>...</td>\n",
       "      <td>...</td>\n",
       "      <td>...</td>\n",
       "      <td>...</td>\n",
       "      <td>...</td>\n",
       "      <td>...</td>\n",
       "    </tr>\n",
       "    <tr>\n",
       "      <th>5910</th>\n",
       "      <td>[링크스크랩] 100% 순수 전기차 ‘SM3 Z.E.’ 보급 위해 특별 할인 제공</td>\n",
       "      <td>출처뉴스동아일보  네이버 뉴스</td>\n",
       "      <td>정부 보조금 까지 받게 된다면 엄청 싸게 살수 있겠네요서울에서 다시 보조금 지원 받...</td>\n",
       "      <td>제주특별자치도</td>\n",
       "      <td>111</td>\n",
       "      <td>2015.03.08.</td>\n",
       "      <td>2015.03</td>\n",
       "      <td>전기차동호회</td>\n",
       "      <td>2015</td>\n",
       "      <td>출처 뉴스 동아일보 네이버 뉴스</td>\n",
       "      <td>정부 보조금 까지 받다 되다 엄청 싸다 살수 있다 서울 에서 다시 보조금 지원 받다...</td>\n",
       "    </tr>\n",
       "    <tr>\n",
       "      <th>5911</th>\n",
       "      <td>[링크스크랩] 자동차 업계, 제주도 전기차 민간 보급 공모 총력전…가격 인하 이어져</td>\n",
       "      <td>출처뉴스전자신문  네이버 뉴스</td>\n",
       "      <td>쏘울 내일 받는데 만원 낮아지다니ㅠㅠ서울도 다시한번더 보조금 지원하면 좋겠네요ㅠㅠ</td>\n",
       "      <td>제주특별자치도</td>\n",
       "      <td>84</td>\n",
       "      <td>2015.03.04.</td>\n",
       "      <td>2015.03</td>\n",
       "      <td>전기차동호회</td>\n",
       "      <td>2015</td>\n",
       "      <td>출처 뉴스 전자신문 네이버 뉴스</td>\n",
       "      <td>쏘울 내일 받다 만원 낮아지다 서울 다시 한번 더 보조금 지원 하다 좋다</td>\n",
       "    </tr>\n",
       "    <tr>\n",
       "      <th>5912</th>\n",
       "      <td>등업부탁해요 하반기 전기차를 신청하고싶었는데</td>\n",
       "      <td>하반기 전기차를 신청하고싶었는데주차장문제로 못하로 내년 상반기를 기대합니다등업부탁합니다</td>\n",
       "      <td>반가워요내년에 제주도 전기차 공급량이 대박이던데 좋은소식 있으시길내년에 제주 많이 ...</td>\n",
       "      <td>제주특별자치도</td>\n",
       "      <td>76</td>\n",
       "      <td>2014.10.26.</td>\n",
       "      <td>2014.10</td>\n",
       "      <td>전기차동호회</td>\n",
       "      <td>2014</td>\n",
       "      <td>하반기 전기차 신청 하다 주차장 문제 로 못 하 로 내년 상반기 기대하다 등업 부탁 하다</td>\n",
       "      <td>반갑다 내년 제주도 전기차 공 급량 대박 이던 데 좋다 소식 있다 내년 제주 많이 ...</td>\n",
       "    </tr>\n",
       "    <tr>\n",
       "      <th>5913</th>\n",
       "      <td>ㅇㅇ</td>\n",
       "      <td>ㅇ</td>\n",
       "      <td></td>\n",
       "      <td>제주특별자치도</td>\n",
       "      <td>35</td>\n",
       "      <td>2014.06.21.</td>\n",
       "      <td>2014.06</td>\n",
       "      <td>전기차동호회</td>\n",
       "      <td>2014</td>\n",
       "      <td>ㅇ</td>\n",
       "      <td></td>\n",
       "    </tr>\n",
       "    <tr>\n",
       "      <th>5914</th>\n",
       "      <td>제주도, 상반기 전기차 226대 공모 7.3:1</td>\n",
       "      <td>제주도 상반기 전기차 공모결과 경쟁률이 평균 으로 나타났다  제주특별자치도는 지난 ...</td>\n",
       "      <td>내용없음</td>\n",
       "      <td>제주특별자치도</td>\n",
       "      <td>50</td>\n",
       "      <td>2014.04.08.</td>\n",
       "      <td>2014.04</td>\n",
       "      <td>전기차동호회</td>\n",
       "      <td>2014</td>\n",
       "      <td>제주도 상반기 전기차 공모 결과 경쟁률 평균 나타나다 제 주 특별자치도 지난 월일 ...</td>\n",
       "      <td>내용 없다</td>\n",
       "    </tr>\n",
       "  </tbody>\n",
       "</table>\n",
       "<p>2349 rows × 11 columns</p>\n",
       "</div>"
      ],
      "text/plain": [
       "                                                  제목  \\\n",
       "3566                                            금융치료   \n",
       "3567                                        경부하시간 차이   \n",
       "3568                              제주도 여행지 추천 부탁드립니다.   \n",
       "3569                                          제주 폴스타   \n",
       "3570                            경매에 BMW i3가 왕창 나왔네요~   \n",
       "...                                              ...   \n",
       "5910   [링크스크랩] 100% 순수 전기차 ‘SM3 Z.E.’ 보급 위해 특별 할인 제공   \n",
       "5911  [링크스크랩] 자동차 업계, 제주도 전기차 민간 보급 공모 총력전…가격 인하 이어져   \n",
       "5912                        등업부탁해요 하반기 전기차를 신청하고싶었는데   \n",
       "5913                                              ㅇㅇ   \n",
       "5914                      제주도, 상반기 전기차 226대 공모 7.3:1   \n",
       "\n",
       "                                                     내용  \\\n",
       "3566                          완료하였습니다 나라에 세금이나 좀 더 충당해라   \n",
       "3567    육지랑 제주랑 경부하시간이 다르더라고요육지는 시부터 시제주는 시부터 시이유가 뭘까요    \n",
       "3568  제가 결혼기념일 즈음하고 얼마전 인연을 맺은 사돈내외와 제주도 여행을 하려고 합니다...   \n",
       "3569  제주도 폴스타 오픈예정이던대 정확한 시기는 안나온건가요혹시 카페에서도 폴스타사전계약...   \n",
       "3570  제주의소리가 지난해 월일 단독 보도한 만원  전기차 수십대 제주 곳곳 방치 왜 기사...   \n",
       "...                                                 ...   \n",
       "5910                                   출처뉴스동아일보  네이버 뉴스   \n",
       "5911                                   출처뉴스전자신문  네이버 뉴스   \n",
       "5912  하반기 전기차를 신청하고싶었는데주차장문제로 못하로 내년 상반기를 기대합니다등업부탁합니다    \n",
       "5913                                                  ㅇ   \n",
       "5914  제주도 상반기 전기차 공모결과 경쟁률이 평균 으로 나타났다  제주특별자치도는 지난 ...   \n",
       "\n",
       "                                                     댓글       유형    조회수  \\\n",
       "3566  크 정의구현에 마음이 시원해집니다 ㅎ번호가리세요헉 고맙습니다얼마인가요각각 십만원 이...  제주특별자치도  6,136   \n",
       "3567  제주도는 하루일과를 일찍 시작해서 일찍 끝내서가 아닐까요참고로 저는년부터 년동안 소...  제주특별자치도  6,776   \n",
       "3568  제주 가시면 해돋이보러 성산 일출봉 꼭 가보셔요 한해에 해돋이 볼수 있는 날은 얼마...  제주특별자치도  1,973   \n",
       "3569  제주매장은 언제 예정인지는 잘모르겠네요사전계약자들중 기존 생산물량 잡은신분들은월말부...  제주특별자치도    742   \n",
       "3570  수리해서 탈만한차는 몇없을거에요그니깐요저렇게 처리할 보조금 있으면좋은 차를 만들지 ...  제주특별자치도    944   \n",
       "...                                                 ...      ...    ...   \n",
       "5910  정부 보조금 까지 받게 된다면 엄청 싸게 살수 있겠네요서울에서 다시 보조금 지원 받...  제주특별자치도    111   \n",
       "5911      쏘울 내일 받는데 만원 낮아지다니ㅠㅠ서울도 다시한번더 보조금 지원하면 좋겠네요ㅠㅠ  제주특별자치도     84   \n",
       "5912  반가워요내년에 제주도 전기차 공급량이 대박이던데 좋은소식 있으시길내년에 제주 많이 ...  제주특별자치도     76   \n",
       "5913                                                     제주특별자치도     35   \n",
       "5914                                               내용없음  제주특별자치도     50   \n",
       "\n",
       "             작성날짜       월별     카페명    년별  \\\n",
       "3566  2022.02.25.  2022.02  전기차동호회  2022   \n",
       "3567  2022.03.04.  2022.03  전기차동호회  2022   \n",
       "3568  2022.03.14.  2022.03  전기차동호회  2022   \n",
       "3569  2022.03.14.  2022.03  전기차동호회  2022   \n",
       "3570  2022.03.12.  2022.03  전기차동호회  2022   \n",
       "...           ...      ...     ...   ...   \n",
       "5910  2015.03.08.  2015.03  전기차동호회  2015   \n",
       "5911  2015.03.04.  2015.03  전기차동호회  2015   \n",
       "5912  2014.10.26.  2014.10  전기차동호회  2014   \n",
       "5913  2014.06.21.  2014.06  전기차동호회  2014   \n",
       "5914  2014.04.08.  2014.04  전기차동호회  2014   \n",
       "\n",
       "                                                    토큰화  \\\n",
       "3566                             완료 하다 나라 세금 이나 더 충당 하다   \n",
       "3567  육지 랑 제주 랑 경부 하다 간이 다르다 육지 시 부터 시 제주 시 부터 시 이유 ...   \n",
       "3568  제 결혼기념일 즈음 하고 얼마 전 인연 맺다 사돈 내외 제주도 여행 하다 하다 여행...   \n",
       "3569  제주도 폴 스타 오픈 예정 이던 대다 정확하다 시기 안나 온건 가요 혹시 카페 에서...   \n",
       "3570  제주 소리 지난해 월일 단독 보도 한 만원 전기차 수십 대 제주 곳곳 방치 왜 기사...   \n",
       "...                                                 ...   \n",
       "5910                                  출처 뉴스 동아일보 네이버 뉴스   \n",
       "5911                                  출처 뉴스 전자신문 네이버 뉴스   \n",
       "5912  하반기 전기차 신청 하다 주차장 문제 로 못 하 로 내년 상반기 기대하다 등업 부탁 하다   \n",
       "5913                                                  ㅇ   \n",
       "5914  제주도 상반기 전기차 공모 결과 경쟁률 평균 나타나다 제 주 특별자치도 지난 월일 ...   \n",
       "\n",
       "                                                 토큰화_댓글  \n",
       "3566  크다 정의 구현 마음 시원하다 지다 ㅎ 번호 가리다 헉 고맙다 얼마 인가요 각각 십...  \n",
       "3567  제주도 하루 일과 일찍 시작 하다 일찍 끝내다 아니다 요 참고 로 저 년 부터 년 ...  \n",
       "3568  제주 가시 면 해돋이 보다 성산 일출봉 꼭 가보다 한해 해돋이 보다 있다 날 얼마 ...  \n",
       "3569  제 주 매장 언제 예정 인 지는 모르다 사전 계 약자 중 기존 생산 물량 잡다 신분...  \n",
       "3570  수리 하다 탈 만 한 차다 몇 없다 그니 깔다 저렇게 처리 하다 보조금 있다 좋다 ...  \n",
       "...                                                 ...  \n",
       "5910  정부 보조금 까지 받다 되다 엄청 싸다 살수 있다 서울 에서 다시 보조금 지원 받다...  \n",
       "5911           쏘울 내일 받다 만원 낮아지다 서울 다시 한번 더 보조금 지원 하다 좋다  \n",
       "5912  반갑다 내년 제주도 전기차 공 급량 대박 이던 데 좋다 소식 있다 내년 제주 많이 ...  \n",
       "5913                                                     \n",
       "5914                                              내용 없다  \n",
       "\n",
       "[2349 rows x 11 columns]"
      ]
     },
     "execution_count": 124,
     "metadata": {},
     "output_type": "execute_result"
    }
   ],
   "source": [
    "df_cafe[df_cafe['카페명']=='전기차동호회']"
   ]
  },
  {
   "cell_type": "code",
   "execution_count": 128,
   "metadata": {},
   "outputs": [
    {
     "data": {
      "text/html": [
       "<div>\n",
       "<style scoped>\n",
       "    .dataframe tbody tr th:only-of-type {\n",
       "        vertical-align: middle;\n",
       "    }\n",
       "\n",
       "    .dataframe tbody tr th {\n",
       "        vertical-align: top;\n",
       "    }\n",
       "\n",
       "    .dataframe thead th {\n",
       "        text-align: right;\n",
       "    }\n",
       "</style>\n",
       "<table border=\"1\" class=\"dataframe\">\n",
       "  <thead>\n",
       "    <tr style=\"text-align: right;\">\n",
       "      <th></th>\n",
       "      <th>제목</th>\n",
       "      <th>내용</th>\n",
       "      <th>댓글</th>\n",
       "      <th>유형</th>\n",
       "      <th>조회수</th>\n",
       "      <th>작성날짜</th>\n",
       "      <th>월별</th>\n",
       "      <th>카페명</th>\n",
       "      <th>년별</th>\n",
       "      <th>토큰화</th>\n",
       "      <th>토큰화_댓글</th>\n",
       "    </tr>\n",
       "  </thead>\n",
       "  <tbody>\n",
       "    <tr>\n",
       "      <th>3566</th>\n",
       "      <td>금융치료</td>\n",
       "      <td>완료하였습니다 나라에 세금이나 좀 더 충당해라</td>\n",
       "      <td>크 정의구현에 마음이 시원해집니다 ㅎ번호가리세요헉 고맙습니다얼마인가요각각 십만원 이...</td>\n",
       "      <td>제주특별자치도</td>\n",
       "      <td>6,136</td>\n",
       "      <td>2022.02.25.</td>\n",
       "      <td>2022.02</td>\n",
       "      <td>전기차동호회</td>\n",
       "      <td>2022</td>\n",
       "      <td>완료 하다 나라 세금 이나 더 충당 하다</td>\n",
       "      <td>크다 정의 구현 마음 시원하다 지다 ㅎ 번호 가리다 헉 고맙다 얼마 인가요 각각 십...</td>\n",
       "    </tr>\n",
       "    <tr>\n",
       "      <th>3567</th>\n",
       "      <td>경부하시간 차이</td>\n",
       "      <td>육지랑 제주랑 경부하시간이 다르더라고요육지는 시부터 시제주는 시부터 시이유가 뭘까요</td>\n",
       "      <td>제주도는 하루일과를 일찍 시작해서 일찍 끝내서가 아닐까요참고로 저는년부터 년동안 소...</td>\n",
       "      <td>제주특별자치도</td>\n",
       "      <td>6,776</td>\n",
       "      <td>2022.03.04.</td>\n",
       "      <td>2022.03</td>\n",
       "      <td>전기차동호회</td>\n",
       "      <td>2022</td>\n",
       "      <td>육지 랑 제주 랑 경부 하다 간이 다르다 육지 시 부터 시 제주 시 부터 시 이유 ...</td>\n",
       "      <td>제주도 하루 일과 일찍 시작 하다 일찍 끝내다 아니다 요 참고 로 저 년 부터 년 ...</td>\n",
       "    </tr>\n",
       "    <tr>\n",
       "      <th>3568</th>\n",
       "      <td>제주도 여행지 추천 부탁드립니다.</td>\n",
       "      <td>제가 결혼기념일 즈음하고 얼마전 인연을 맺은 사돈내외와 제주도 여행을 하려고 합니다...</td>\n",
       "      <td>제주 가시면 해돋이보러 성산 일출봉 꼭 가보셔요 한해에 해돋이 볼수 있는 날은 얼마...</td>\n",
       "      <td>제주특별자치도</td>\n",
       "      <td>1,973</td>\n",
       "      <td>2022.03.14.</td>\n",
       "      <td>2022.03</td>\n",
       "      <td>전기차동호회</td>\n",
       "      <td>2022</td>\n",
       "      <td>제 결혼기념일 즈음 하고 얼마 전 인연 맺다 사돈 내외 제주도 여행 하다 하다 여행...</td>\n",
       "      <td>제주 가시 면 해돋이 보다 성산 일출봉 꼭 가보다 한해 해돋이 보다 있다 날 얼마 ...</td>\n",
       "    </tr>\n",
       "    <tr>\n",
       "      <th>3569</th>\n",
       "      <td>제주 폴스타</td>\n",
       "      <td>제주도 폴스타 오픈예정이던대 정확한 시기는 안나온건가요혹시 카페에서도 폴스타사전계약...</td>\n",
       "      <td>제주매장은 언제 예정인지는 잘모르겠네요사전계약자들중 기존 생산물량 잡은신분들은월말부...</td>\n",
       "      <td>제주특별자치도</td>\n",
       "      <td>742</td>\n",
       "      <td>2022.03.14.</td>\n",
       "      <td>2022.03</td>\n",
       "      <td>전기차동호회</td>\n",
       "      <td>2022</td>\n",
       "      <td>제주도 폴 스타 오픈 예정 이던 대다 정확하다 시기 안나 온건 가요 혹시 카페 에서...</td>\n",
       "      <td>제 주 매장 언제 예정 인 지는 모르다 사전 계 약자 중 기존 생산 물량 잡다 신분...</td>\n",
       "    </tr>\n",
       "    <tr>\n",
       "      <th>3570</th>\n",
       "      <td>경매에 BMW i3가 왕창 나왔네요~</td>\n",
       "      <td>제주의소리가 지난해 월일 단독 보도한 만원  전기차 수십대 제주 곳곳 방치 왜 기사...</td>\n",
       "      <td>수리해서 탈만한차는 몇없을거에요그니깐요저렇게 처리할 보조금 있으면좋은 차를 만들지 ...</td>\n",
       "      <td>제주특별자치도</td>\n",
       "      <td>944</td>\n",
       "      <td>2022.03.12.</td>\n",
       "      <td>2022.03</td>\n",
       "      <td>전기차동호회</td>\n",
       "      <td>2022</td>\n",
       "      <td>제주 소리 지난해 월일 단독 보도 한 만원 전기차 수십 대 제주 곳곳 방치 왜 기사...</td>\n",
       "      <td>수리 하다 탈 만 한 차다 몇 없다 그니 깔다 저렇게 처리 하다 보조금 있다 좋다 ...</td>\n",
       "    </tr>\n",
       "    <tr>\n",
       "      <th>...</th>\n",
       "      <td>...</td>\n",
       "      <td>...</td>\n",
       "      <td>...</td>\n",
       "      <td>...</td>\n",
       "      <td>...</td>\n",
       "      <td>...</td>\n",
       "      <td>...</td>\n",
       "      <td>...</td>\n",
       "      <td>...</td>\n",
       "      <td>...</td>\n",
       "      <td>...</td>\n",
       "    </tr>\n",
       "    <tr>\n",
       "      <th>5910</th>\n",
       "      <td>[링크스크랩] 100% 순수 전기차 ‘SM3 Z.E.’ 보급 위해 특별 할인 제공</td>\n",
       "      <td>출처뉴스동아일보  네이버 뉴스</td>\n",
       "      <td>정부 보조금 까지 받게 된다면 엄청 싸게 살수 있겠네요서울에서 다시 보조금 지원 받...</td>\n",
       "      <td>제주특별자치도</td>\n",
       "      <td>111</td>\n",
       "      <td>2015.03.08.</td>\n",
       "      <td>2015.03</td>\n",
       "      <td>전기차동호회</td>\n",
       "      <td>2015</td>\n",
       "      <td>출처 뉴스 동아일보 네이버 뉴스</td>\n",
       "      <td>정부 보조금 까지 받다 되다 엄청 싸다 살수 있다 서울 에서 다시 보조금 지원 받다...</td>\n",
       "    </tr>\n",
       "    <tr>\n",
       "      <th>5911</th>\n",
       "      <td>[링크스크랩] 자동차 업계, 제주도 전기차 민간 보급 공모 총력전…가격 인하 이어져</td>\n",
       "      <td>출처뉴스전자신문  네이버 뉴스</td>\n",
       "      <td>쏘울 내일 받는데 만원 낮아지다니ㅠㅠ서울도 다시한번더 보조금 지원하면 좋겠네요ㅠㅠ</td>\n",
       "      <td>제주특별자치도</td>\n",
       "      <td>84</td>\n",
       "      <td>2015.03.04.</td>\n",
       "      <td>2015.03</td>\n",
       "      <td>전기차동호회</td>\n",
       "      <td>2015</td>\n",
       "      <td>출처 뉴스 전자신문 네이버 뉴스</td>\n",
       "      <td>쏘울 내일 받다 만원 낮아지다 서울 다시 한번 더 보조금 지원 하다 좋다</td>\n",
       "    </tr>\n",
       "    <tr>\n",
       "      <th>5912</th>\n",
       "      <td>등업부탁해요 하반기 전기차를 신청하고싶었는데</td>\n",
       "      <td>하반기 전기차를 신청하고싶었는데주차장문제로 못하로 내년 상반기를 기대합니다등업부탁합니다</td>\n",
       "      <td>반가워요내년에 제주도 전기차 공급량이 대박이던데 좋은소식 있으시길내년에 제주 많이 ...</td>\n",
       "      <td>제주특별자치도</td>\n",
       "      <td>76</td>\n",
       "      <td>2014.10.26.</td>\n",
       "      <td>2014.10</td>\n",
       "      <td>전기차동호회</td>\n",
       "      <td>2014</td>\n",
       "      <td>하반기 전기차 신청 하다 주차장 문제 로 못 하 로 내년 상반기 기대하다 등업 부탁 하다</td>\n",
       "      <td>반갑다 내년 제주도 전기차 공 급량 대박 이던 데 좋다 소식 있다 내년 제주 많이 ...</td>\n",
       "    </tr>\n",
       "    <tr>\n",
       "      <th>5913</th>\n",
       "      <td>ㅇㅇ</td>\n",
       "      <td>ㅇ</td>\n",
       "      <td></td>\n",
       "      <td>제주특별자치도</td>\n",
       "      <td>35</td>\n",
       "      <td>2014.06.21.</td>\n",
       "      <td>2014.06</td>\n",
       "      <td>전기차동호회</td>\n",
       "      <td>2014</td>\n",
       "      <td>ㅇ</td>\n",
       "      <td></td>\n",
       "    </tr>\n",
       "    <tr>\n",
       "      <th>5914</th>\n",
       "      <td>제주도, 상반기 전기차 226대 공모 7.3:1</td>\n",
       "      <td>제주도 상반기 전기차 공모결과 경쟁률이 평균 으로 나타났다  제주특별자치도는 지난 ...</td>\n",
       "      <td>내용없음</td>\n",
       "      <td>제주특별자치도</td>\n",
       "      <td>50</td>\n",
       "      <td>2014.04.08.</td>\n",
       "      <td>2014.04</td>\n",
       "      <td>전기차동호회</td>\n",
       "      <td>2014</td>\n",
       "      <td>제주도 상반기 전기차 공모 결과 경쟁률 평균 나타나다 제 주 특별자치도 지난 월일 ...</td>\n",
       "      <td>내용 없다</td>\n",
       "    </tr>\n",
       "  </tbody>\n",
       "</table>\n",
       "<p>2349 rows × 11 columns</p>\n",
       "</div>"
      ],
      "text/plain": [
       "                                                  제목  \\\n",
       "3566                                            금융치료   \n",
       "3567                                        경부하시간 차이   \n",
       "3568                              제주도 여행지 추천 부탁드립니다.   \n",
       "3569                                          제주 폴스타   \n",
       "3570                            경매에 BMW i3가 왕창 나왔네요~   \n",
       "...                                              ...   \n",
       "5910   [링크스크랩] 100% 순수 전기차 ‘SM3 Z.E.’ 보급 위해 특별 할인 제공   \n",
       "5911  [링크스크랩] 자동차 업계, 제주도 전기차 민간 보급 공모 총력전…가격 인하 이어져   \n",
       "5912                        등업부탁해요 하반기 전기차를 신청하고싶었는데   \n",
       "5913                                              ㅇㅇ   \n",
       "5914                      제주도, 상반기 전기차 226대 공모 7.3:1   \n",
       "\n",
       "                                                     내용  \\\n",
       "3566                          완료하였습니다 나라에 세금이나 좀 더 충당해라   \n",
       "3567    육지랑 제주랑 경부하시간이 다르더라고요육지는 시부터 시제주는 시부터 시이유가 뭘까요    \n",
       "3568  제가 결혼기념일 즈음하고 얼마전 인연을 맺은 사돈내외와 제주도 여행을 하려고 합니다...   \n",
       "3569  제주도 폴스타 오픈예정이던대 정확한 시기는 안나온건가요혹시 카페에서도 폴스타사전계약...   \n",
       "3570  제주의소리가 지난해 월일 단독 보도한 만원  전기차 수십대 제주 곳곳 방치 왜 기사...   \n",
       "...                                                 ...   \n",
       "5910                                   출처뉴스동아일보  네이버 뉴스   \n",
       "5911                                   출처뉴스전자신문  네이버 뉴스   \n",
       "5912  하반기 전기차를 신청하고싶었는데주차장문제로 못하로 내년 상반기를 기대합니다등업부탁합니다    \n",
       "5913                                                  ㅇ   \n",
       "5914  제주도 상반기 전기차 공모결과 경쟁률이 평균 으로 나타났다  제주특별자치도는 지난 ...   \n",
       "\n",
       "                                                     댓글       유형    조회수  \\\n",
       "3566  크 정의구현에 마음이 시원해집니다 ㅎ번호가리세요헉 고맙습니다얼마인가요각각 십만원 이...  제주특별자치도  6,136   \n",
       "3567  제주도는 하루일과를 일찍 시작해서 일찍 끝내서가 아닐까요참고로 저는년부터 년동안 소...  제주특별자치도  6,776   \n",
       "3568  제주 가시면 해돋이보러 성산 일출봉 꼭 가보셔요 한해에 해돋이 볼수 있는 날은 얼마...  제주특별자치도  1,973   \n",
       "3569  제주매장은 언제 예정인지는 잘모르겠네요사전계약자들중 기존 생산물량 잡은신분들은월말부...  제주특별자치도    742   \n",
       "3570  수리해서 탈만한차는 몇없을거에요그니깐요저렇게 처리할 보조금 있으면좋은 차를 만들지 ...  제주특별자치도    944   \n",
       "...                                                 ...      ...    ...   \n",
       "5910  정부 보조금 까지 받게 된다면 엄청 싸게 살수 있겠네요서울에서 다시 보조금 지원 받...  제주특별자치도    111   \n",
       "5911      쏘울 내일 받는데 만원 낮아지다니ㅠㅠ서울도 다시한번더 보조금 지원하면 좋겠네요ㅠㅠ  제주특별자치도     84   \n",
       "5912  반가워요내년에 제주도 전기차 공급량이 대박이던데 좋은소식 있으시길내년에 제주 많이 ...  제주특별자치도     76   \n",
       "5913                                                     제주특별자치도     35   \n",
       "5914                                               내용없음  제주특별자치도     50   \n",
       "\n",
       "             작성날짜       월별     카페명    년별  \\\n",
       "3566  2022.02.25.  2022.02  전기차동호회  2022   \n",
       "3567  2022.03.04.  2022.03  전기차동호회  2022   \n",
       "3568  2022.03.14.  2022.03  전기차동호회  2022   \n",
       "3569  2022.03.14.  2022.03  전기차동호회  2022   \n",
       "3570  2022.03.12.  2022.03  전기차동호회  2022   \n",
       "...           ...      ...     ...   ...   \n",
       "5910  2015.03.08.  2015.03  전기차동호회  2015   \n",
       "5911  2015.03.04.  2015.03  전기차동호회  2015   \n",
       "5912  2014.10.26.  2014.10  전기차동호회  2014   \n",
       "5913  2014.06.21.  2014.06  전기차동호회  2014   \n",
       "5914  2014.04.08.  2014.04  전기차동호회  2014   \n",
       "\n",
       "                                                    토큰화  \\\n",
       "3566                             완료 하다 나라 세금 이나 더 충당 하다   \n",
       "3567  육지 랑 제주 랑 경부 하다 간이 다르다 육지 시 부터 시 제주 시 부터 시 이유 ...   \n",
       "3568  제 결혼기념일 즈음 하고 얼마 전 인연 맺다 사돈 내외 제주도 여행 하다 하다 여행...   \n",
       "3569  제주도 폴 스타 오픈 예정 이던 대다 정확하다 시기 안나 온건 가요 혹시 카페 에서...   \n",
       "3570  제주 소리 지난해 월일 단독 보도 한 만원 전기차 수십 대 제주 곳곳 방치 왜 기사...   \n",
       "...                                                 ...   \n",
       "5910                                  출처 뉴스 동아일보 네이버 뉴스   \n",
       "5911                                  출처 뉴스 전자신문 네이버 뉴스   \n",
       "5912  하반기 전기차 신청 하다 주차장 문제 로 못 하 로 내년 상반기 기대하다 등업 부탁 하다   \n",
       "5913                                                  ㅇ   \n",
       "5914  제주도 상반기 전기차 공모 결과 경쟁률 평균 나타나다 제 주 특별자치도 지난 월일 ...   \n",
       "\n",
       "                                                 토큰화_댓글  \n",
       "3566  크다 정의 구현 마음 시원하다 지다 ㅎ 번호 가리다 헉 고맙다 얼마 인가요 각각 십...  \n",
       "3567  제주도 하루 일과 일찍 시작 하다 일찍 끝내다 아니다 요 참고 로 저 년 부터 년 ...  \n",
       "3568  제주 가시 면 해돋이 보다 성산 일출봉 꼭 가보다 한해 해돋이 보다 있다 날 얼마 ...  \n",
       "3569  제 주 매장 언제 예정 인 지는 모르다 사전 계 약자 중 기존 생산 물량 잡다 신분...  \n",
       "3570  수리 하다 탈 만 한 차다 몇 없다 그니 깔다 저렇게 처리 하다 보조금 있다 좋다 ...  \n",
       "...                                                 ...  \n",
       "5910  정부 보조금 까지 받다 되다 엄청 싸다 살수 있다 서울 에서 다시 보조금 지원 받다...  \n",
       "5911           쏘울 내일 받다 만원 낮아지다 서울 다시 한번 더 보조금 지원 하다 좋다  \n",
       "5912  반갑다 내년 제주도 전기차 공 급량 대박 이던 데 좋다 소식 있다 내년 제주 많이 ...  \n",
       "5913                                                     \n",
       "5914                                              내용 없다  \n",
       "\n",
       "[2349 rows x 11 columns]"
      ]
     },
     "execution_count": 128,
     "metadata": {},
     "output_type": "execute_result"
    }
   ],
   "source": [
    "df_cafe[df_cafe['카페명']=='전기차동호회']"
   ]
  },
  {
   "cell_type": "code",
   "execution_count": 132,
   "metadata": {},
   "outputs": [
    {
     "data": {
      "text/plain": [
       "array(['P'], dtype=object)"
      ]
     },
     "execution_count": 132,
     "metadata": {},
     "output_type": "execute_result"
    }
   ],
   "source": [
    "encoder.inverse_transform(lrc.predict(X_cafe_내용_tv[5912]))"
   ]
  },
  {
   "cell_type": "code",
   "execution_count": null,
   "metadata": {},
   "outputs": [],
   "source": []
  }
 ],
 "metadata": {
  "kernelspec": {
   "display_name": "Python 3 (ipykernel)",
   "language": "python",
   "name": "python3"
  },
  "language_info": {
   "codemirror_mode": {
    "name": "ipython",
    "version": 3
   },
   "file_extension": ".py",
   "mimetype": "text/x-python",
   "name": "python",
   "nbconvert_exporter": "python",
   "pygments_lexer": "ipython3",
   "version": "3.9.7"
  },
  "orig_nbformat": 4
 },
 "nbformat": 4,
 "nbformat_minor": 2
}
